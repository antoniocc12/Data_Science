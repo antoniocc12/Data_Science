{
 "cells": [
  {
   "cell_type": "markdown",
   "metadata": {},
   "source": [
    "1. \n",
    "\n",
    "Crear una función que reciba cuatro parámetros: una lista 'L', un número 'T', un número 'V' y un booleano 'S'. La función debe devolver otras dos listas: \"lista_train_val\" y \"lista_test\".\n",
    "\n",
    "- \"lista_train_val\" es una lista con dos elementos. Cada elemento es una lista: \"list_train\", que representa el conjunto de entrenamiento y \"list_val\", que representa el conjunto de validación. \n",
    "- \"list_test\" es el conjunto de test. Como mínimo ha de tener 1 elemento (si 'L' > 1).\n",
    "- \"L\" es cualquier lista de elementos. Al principio, entra con un tamaño completo (100%). Esta es la lista que se partirá y se generarán los conjuntos entrenamiento, de validación y de test.\n",
    "- \"T\" es un número entre 1 y 100 que va a representar el tamaño, en porcentaje, del conjunto de test \"list_test\". \n",
    "- \"V\" es un número entre 0 y 100 que va a representar el tamaño, en porcentaje, del conjunto de validación \"list_val\". Su valor por defecto es 0.\n",
    "- \"S\", que por defecto es False, determinará si los conjuntos \"list_train\", \"list_test\" y \"list_val\" son aleatoriamente ordenados. ¿Encuentras alguna posible incoherencia si se reordenan aleatoriamente?\n",
    "\n",
    "Prueba la función con una lista de 100 elementos números aleatorios del 0 al 100. \n",
    "\n",
    "2. \n",
    "\n",
    "Rehacer el ejercicio anterior en otra función para que no devuelva dos listas, sino los tres conjuntos: \n",
    "\n",
    "--> return list_train, list_val, list_test "
   ]
  },
  {
   "cell_type": "markdown",
   "metadata": {},
   "source": [
    "### Pista para resolverlo"
   ]
  },
  {
   "cell_type": "code",
   "execution_count": 12,
   "metadata": {},
   "outputs": [
    {
     "name": "stdout",
     "output_type": "stream",
     "text": [
      "[58, 60, 36, 71, 26, 93, 62, 72, 27, 48, 39, 70, 3, 66, 75, 61, 35, 6, 29, 82, 97, 41, 11, 18, 45, 76, 49, 56, 63, 5, 46, 81, 2, 20, 34, 98, 33, 87, 25, 21, 8, 54, 78, 13, 59, 74, 15, 90, 43, 12, 69, 51, 86, 17, 7, 40, 44, 28, 88, 23, 32, 10, 30, 1, 68, 22, 31, 53, 91, 37, 42, 14, 77, 65, 85, 64, 73, 50, 0, 38, 24, 89, 80, 4, 9, 83, 84, 52, 67, 96, 99, 19, 95, 79, 57, 55, 47, 16, 92, 94] \n",
      "\n",
      "len de lista:  100\n"
     ]
    }
   ],
   "source": [
    "lista = [58, 60, 36, 71, 26, 93, 62, 72, 27, 48, 39, 70, 3, 66, 75, 61, 35, 6, 29, 82, 97, 41, 11, 18, 45, 76, 49, 56, 63, 5, 46, 81, 2, 20, 34, 98, 33, 87, 25, 21, 8, 54, 78, 13, 59, 74, 15, 90, 43, 12, 69, 51, 86, 17, 7, 40, 44, 28, 88, 23, 32, 10, 30, 1, 68, 22, 31, 53, 91, 37, 42, 14, 77, 65, 85, 64, 73, 50, 0, 38, 24, 89, 80, 4, 9, 83, 84, 52, 67, 96, 99, 19, 95, 79, 57, 55, 47, 16, 92, 94]\n",
    "print(lista, \"\\n\\nlen de lista: \", len(lista))"
   ]
  },
  {
   "cell_type": "markdown",
   "metadata": {},
   "source": [
    "**Parámetros:** \n",
    "```python \n",
    "(L=lista, T=20, V=30, S=True)\n",
    "```"
   ]
  },
  {
   "cell_type": "code",
   "execution_count": 5,
   "metadata": {},
   "outputs": [
    {
     "name": "stdout",
     "output_type": "stream",
     "text": [
      "list_train: [90, 32, 44, 17, 28, 96, 88, 40, 14, 64, 4, 0, 73, 50, 67, 42, 23, 65, 22, 69, 15, 84, 31, 1, 43, 91, 94, 55, 24, 51, 89, 10, 74, 16, 85, 57, 83, 79, 37, 80, 68, 99, 19, 95, 86, 53, 52, 38, 59, 12, 9, 77, 47, 30, 7, 92] \n",
      "list_val: [63, 41, 5, 56, 49, 11, 97, 76, 46, 21, 25, 34, 87, 45, 33, 18, 13, 8, 2, 81, 78, 98, 54, 20]\n"
     ]
    }
   ],
   "source": [
    "lista_train_val = [[90, 32, 44, 17, 28, 96, 88, 40, 14, 64, 4, 0, 73, 50, 67, 42, 23, 65, 22, 69, 15, 84, 31, 1, 43, 91, 94, 55, 24, 51, 89, 10, 74, 16, 85, 57, 83, 79, 37, 80, 68, 99, 19, 95, 86, 53, 52, 38, 59, 12, 9, 77, 47, 30, 7, 92], [63, 41, 5, 56, 49, 11, 97, 76, 46, 21, 25, 34, 87, 45, 33, 18, 13, 8, 2, 81, 78, 98, 54, 20]]\n",
    "print(\"list_train:\", lista_train_val[0], \"\\nlist_val:\", lista_train_val[1])"
   ]
  },
  {
   "cell_type": "code",
   "execution_count": 15,
   "metadata": {},
   "outputs": [
    {
     "name": "stdout",
     "output_type": "stream",
     "text": [
      "lista_test [3, 29, 39, 58, 35, 62, 72, 36, 66, 71, 61, 6, 26, 60, 48, 70, 82, 75, 27, 93]\n"
     ]
    }
   ],
   "source": [
    "lista_test = [3, 29, 39, 58, 35, 62, 72, 36, 66, 71, 61, 6, 26, 60, 48, 70, 82, 75, 27, 93]\n",
    "print(\"lista_test\", lista_test)"
   ]
  },
  {
   "cell_type": "code",
   "execution_count": 16,
   "metadata": {},
   "outputs": [
    {
     "name": "stdout",
     "output_type": "stream",
     "text": [
      "sumatorio de las len de las listas resultantes:  100\n"
     ]
    }
   ],
   "source": [
    "print(\"sumatorio de las len de las listas resultantes: \", len(lista_train_val[0]) + len(lista_train_val[1]) + len(lista_test))"
   ]
  },
  {
   "cell_type": "markdown",
   "metadata": {},
   "source": [
    "-----------------------------------------------------------------------------------------------------------------"
   ]
  },
  {
   "cell_type": "markdown",
   "metadata": {},
   "source": [
    "### Solución"
   ]
  },
  {
   "cell_type": "code",
   "execution_count": 2,
   "metadata": {},
   "outputs": [],
   "source": [
    "import random\n",
    "import numpy as np\n",
    "import math"
   ]
  },
  {
   "cell_type": "code",
   "execution_count": 1,
   "metadata": {},
   "outputs": [],
   "source": [
    "def two_list_train_test(L, T, V=0, S=False):\n",
    "    '''\n",
    "    Esta función recibe cuatro parámetros: una lista 'L', un número 'T', un número 'V' y un booleano 'S'\n",
    "    La función devuelve dos listas: \"lista_train_val\" y \"lista_test\", esta última con dos elementos\n",
    "    '''\n",
    "    lista_train_val = []\n",
    "\n",
    "    test_size = int((len(L))*(T/100))\n",
    "    \n",
    "    lista_test = L[:test_size]\n",
    "    lista_to_split = L[test_size:]\n",
    "    \n",
    "    val_size = int((len(lista_to_split))*(V/100))    \n",
    "    \n",
    "    lista_train_val.append(lista_to_split[val_size:])\n",
    "    lista_train_val.append(lista_to_split[:val_size])\n",
    "    \n",
    "    lists = [lista_train_val[0], lista_train_val[1], lista_test]\n",
    "    \n",
    "    for lista in lists: \n",
    "        if S==False:\n",
    "            lista.sort()\n",
    "        else:\n",
    "            random.shuffle(lista)\n",
    "            \n",
    "    print(\"#####################\")\n",
    "    print(f\"The len of the train list is: {len(lista_train_val[0])}\")\n",
    "    print()\n",
    "    print(f\"The len of the validation list is: {len(lista_train_val[1])}\")\n",
    "    print()\n",
    "    print(f\"The len of the test list is: {len(lista_test)}\")\n",
    "    print(\"#####################\")\n",
    "    print()\n",
    "    \n",
    "    return lista_train_val, lista_test"
   ]
  },
  {
   "cell_type": "code",
   "execution_count": 3,
   "metadata": {},
   "outputs": [
    {
     "name": "stdout",
     "output_type": "stream",
     "text": [
      "[58, 60, 36, 71, 26, 93, 62, 72, 27, 48, 39, 70, 3, 66, 75, 61, 35, 6, 29, 82, 97, 41, 11, 18, 45, 76, 49, 56, 63, 5, 46, 81, 2, 20, 34, 98, 33, 87, 25, 21, 8, 54, 78, 13, 59, 74, 15, 90, 43, 12, 69, 51, 86, 17, 7, 40, 44, 28, 88, 23, 32, 10, 30, 1, 68, 22, 31, 53, 91, 37, 42, 14, 77, 65, 85, 64, 73, 50, 0, 38, 24, 89, 80, 4, 9, 83, 84, 52, 67, 96, 99, 19, 95, 79, 57, 55, 47, 16, 92, 94]\n"
     ]
    }
   ],
   "source": [
    "# genera una lista de 100 numeros random de 0 a 100\n",
    "randomlist = random.sample(range(0, 100), 100)\n",
    "print(randomlist)"
   ]
  },
  {
   "cell_type": "code",
   "execution_count": 4,
   "metadata": {},
   "outputs": [
    {
     "name": "stdout",
     "output_type": "stream",
     "text": [
      "#####################\n",
      "The len of the train list is: 56\n",
      "\n",
      "The len of the validation list is: 24\n",
      "\n",
      "The len of the test list is: 20\n",
      "#####################\n",
      "\n",
      "([[90, 32, 44, 17, 28, 96, 88, 40, 14, 64, 4, 0, 73, 50, 67, 42, 23, 65, 22, 69, 15, 84, 31, 1, 43, 91, 94, 55, 24, 51, 89, 10, 74, 16, 85, 57, 83, 79, 37, 80, 68, 99, 19, 95, 86, 53, 52, 38, 59, 12, 9, 77, 47, 30, 7, 92], [63, 41, 5, 56, 49, 11, 97, 76, 46, 21, 25, 34, 87, 45, 33, 18, 13, 8, 2, 81, 78, 98, 54, 20]], [3, 29, 39, 58, 35, 62, 72, 36, 66, 71, 61, 6, 26, 60, 48, 70, 82, 75, 27, 93])\n"
     ]
    }
   ],
   "source": [
    "print(two_list_train_test(L=randomlist, T=20, V=30, S=True))"
   ]
  },
  {
   "cell_type": "code",
   "execution_count": 5,
   "metadata": {},
   "outputs": [
    {
     "name": "stdout",
     "output_type": "stream",
     "text": [
      "Help on function two_list_train_test in module __main__:\n",
      "\n",
      "two_list_train_test(L, T, V=0, S=False)\n",
      "    Esta función recibe cuatro parámetros: una lista 'L', un número 'T', un número 'V' y un booleano 'S'\n",
      "    La función devuelve dos listas: \"lista_train_val\" y \"lista_test\", esta última con dos elementos\n",
      "\n"
     ]
    }
   ],
   "source": [
    "help(two_list_train_test)"
   ]
  }
 ],
 "metadata": {
  "kernelspec": {
   "display_name": "Python 3",
   "language": "python",
   "name": "python3"
  },
  "language_info": {
   "codemirror_mode": {
    "name": "ipython",
    "version": 3
   },
   "file_extension": ".py",
   "mimetype": "text/x-python",
   "name": "python",
   "nbconvert_exporter": "python",
   "pygments_lexer": "ipython3",
   "version": "3.8.3"
  }
 },
 "nbformat": 4,
 "nbformat_minor": 2
}
