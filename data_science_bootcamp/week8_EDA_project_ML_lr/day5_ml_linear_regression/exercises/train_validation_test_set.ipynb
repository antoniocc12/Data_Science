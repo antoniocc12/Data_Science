{
 "metadata": {
  "language_info": {
   "codemirror_mode": {
    "name": "ipython",
    "version": 3
   },
   "file_extension": ".py",
   "mimetype": "text/x-python",
   "name": "python",
   "nbconvert_exporter": "python",
   "pygments_lexer": "ipython3",
   "version": "3.7.4"
  },
  "orig_nbformat": 2,
  "kernelspec": {
   "name": "python374jvsc74a57bd0a9b83ec4160fc914f5169c2fc0bc9ab1c02e189a457abfa966969b692f6336e9",
   "display_name": "Python 3.7.4 64-bit"
  },
  "metadata": {
   "interpreter": {
    "hash": "a9b83ec4160fc914f5169c2fc0bc9ab1c02e189a457abfa966969b692f6336e9"
   }
  }
 },
 "nbformat": 4,
 "nbformat_minor": 2,
 "cells": [
  {
   "cell_type": "markdown",
   "metadata": {},
   "source": [
    "### 1. \n",
    "\n",
    "Crear una función que reciba cuatro parámetros: una lista 'L', un número 'T', un número 'V' y un booleano 'S'. La función debe devolver otras dos listas: \"lista_train_val\" y \"lista_test\".\n",
    "\n",
    "- \"lista_train_val\" es una lista con dos elementos. Cada elemento es una lista: \"list_train\", que representa el conjunto de entrenamiento y \"list_val\", que representa el conjunto de validación. \n",
    "- \"list_test\" es el conjunto de test. Como mínimo ha de tener 1 elemento (si 'L' > 1).\n",
    "- \"L\" es cualquier lista de elementos. Al principio, entra con un tamaño completo (100%). Esta es la lista que se partirá y se generarán los conjuntos entrenamiento, de validación y de test.\n",
    "- \"T\" es un número entre 1 y 100 que va a representar el tamaño, en porcentaje, del conjunto de test \"list_test\". \n",
    "- \"V\" es un número entre 0 y 100 que va a representar el tamaño, en porcentaje, del conjunto de validación \"list_val\". Su valor por defecto es 0.\n",
    "- \"S\", que por defecto es False, determinará si los conjuntos \"list_train\", \"list_test\" y \"list_val\" están aleatoriamente ordenados. ¿Encuentras alguna posible incoherencia si se reordenan aleatoriamente?\n",
    "\n",
    "Prueba la función con una lista de 100 números aleatorios del 0 al 100. \n",
    "\n",
    "### 2. \n",
    "\n",
    "Rehacer el ejercicio anterior en otra función para que no devuelva dos listas, sino los tres conjuntos: \n",
    "\n",
    "--> return list_train, list_val, list_test "
   ]
  },
  {
   "cell_type": "code",
   "execution_count": 20,
   "metadata": {},
   "outputs": [],
   "source": [
    "import random\n",
    "import numpy as np "
   ]
  },
  {
   "cell_type": "code",
   "execution_count": 74,
   "metadata": {},
   "outputs": [
    {
     "output_type": "execute_result",
     "data": {
      "text/plain": [
       "24.0"
      ]
     },
     "metadata": {},
     "execution_count": 74
    }
   ],
   "source": [
    "T = 20\n",
    "totalen = 100 - T\n",
    "total = totalen * 30 / 100\n",
    "int(total)"
   ]
  },
  {
   "cell_type": "code",
   "execution_count": 91,
   "metadata": {},
   "outputs": [],
   "source": [
    "def plot_list(L, T, V=0, S=False):\n",
    "\n",
    "    #listasort = posts.sort(key=lambda x: not x.value)     \n",
    "    lista_test = sorted((L[:T]), reverse=S  )\n",
    "    totalen = 100 - T\n",
    "    totalval = int(totalen * V / 100)\n",
    "    list_val_total = (L[T:])\n",
    "    list_val = (list_val_total[:totalval])\n",
    "    list_train =  (list_val_total[totalval:])\n",
    "    \n",
    "    lista_train_val = [list_val, list_train] \n",
    "  \n",
    "    print(\"lista_test:\", lista_test, \"len:\", len(lista_test), \"lista_val:\", lista_train_val[0], \"len:\", len(lista_train_val[0]), \"list_train:\", lista_train_val[1], \"len:\", len(lista_train_val[1]))\n",
    "    #return lista_train_val, lista_test\n",
    "\n"
   ]
  },
  {
   "source": [
    "#### Con las funciones planteadas no se muestra ninguna incoherencia al momento de reordenar los numeros"
   ],
   "cell_type": "markdown",
   "metadata": {}
  },
  {
   "cell_type": "code",
   "execution_count": 96,
   "metadata": {},
   "outputs": [
    {
     "output_type": "stream",
     "name": "stdout",
     "text": [
      "lista_test: [88, 83, 76, 69, 65, 64, 62, 52, 51, 50, 43, 42, 40, 39, 34, 25, 21, 15, 14, 9] len: 20 lista_val: [70, 13, 79, 84, 36, 37, 17, 87, 92, 8, 77, 53, 68, 45, 73, 23, 99, 66, 98, 85, 48, 27, 63, 78] len: 24 list_train: [95, 22, 86, 33, 10, 90, 0, 57, 47, 72, 44, 30, 60, 67, 2, 18, 32, 93, 74, 12, 6, 96, 3, 19, 49, 41, 29, 59, 46, 38, 80, 97, 26, 61, 55, 1, 94, 11, 71, 91, 81, 31, 28, 24, 58, 7, 5, 16, 54, 75, 56, 82, 35, 20, 4, 89] len: 56\n"
     ]
    }
   ],
   "source": [
    "L = random.sample(range(0,100), 100)\n",
    "plot_list(L=L, T=20, V=30, S=True)\n"
   ]
  },
  {
   "cell_type": "code",
   "execution_count": 97,
   "metadata": {},
   "outputs": [],
   "source": [
    "def plot_list(L, T, V=0, S=False):\n",
    "\n",
    "    #listasort = posts.sort(key=lambda x: not x.value)     \n",
    "    lista_test = sorted((L[:T]), reverse=S  )\n",
    "    totalen = 100 - T\n",
    "    totalval = int(totalen * V / 100)\n",
    "    list_val_total = (L[T:])\n",
    "    list_val = (list_val_total[:totalval])\n",
    "    list_train =  (list_val_total[totalval:])\n",
    "    \n",
    "    #lista_train_val = [list_val, list_train] \n",
    "  \n",
    "    print(\"lista_test:\", lista_test, \"len:\", len(lista_test), \"lista_val:\", list_val, \"len:\", len(list_val), \"list_train:\", list_train, \"len:\", len(list_train))\n",
    "    #return lista_train_val, lista_test\n",
    "\n"
   ]
  },
  {
   "cell_type": "code",
   "execution_count": 98,
   "metadata": {},
   "outputs": [
    {
     "output_type": "stream",
     "name": "stdout",
     "text": [
      "lista_test: [93, 92, 88, 86, 77, 72, 71, 70, 65, 61, 50, 48, 24, 23, 22, 19, 17, 10, 4, 3] len: 20 lista_val: [35, 49, 83, 56, 96, 1, 95, 47, 73, 28, 31, 29, 68, 36, 94, 39, 89, 60, 42, 37, 9, 87, 12, 34] len: 24 list_train: [80, 5, 7, 69, 53, 14, 91, 16, 51, 63, 59, 26, 62, 84, 54, 90, 2, 30, 25, 32, 98, 43, 85, 20, 45, 27, 11, 52, 6, 46, 44, 33, 40, 75, 57, 38, 78, 81, 55, 41, 99, 66, 64, 13, 8, 0, 79, 21, 76, 18, 67, 15, 74, 97, 82, 58] len: 56\n"
     ]
    }
   ],
   "source": [
    "L = random.sample(range(0,100), 100)\n",
    "plot_list(L=L, T=20, V=30, S=True)"
   ]
  },
  {
   "cell_type": "code",
   "execution_count": null,
   "metadata": {},
   "outputs": [],
   "source": []
  }
 ]
}