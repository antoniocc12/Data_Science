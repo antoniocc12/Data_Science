{
 "cells": [
  {
   "cell_type": "markdown",
   "metadata": {},
   "source": [
    "## 🐍 Ramp-up\n",
    "\n",
    "Note: The bold words are instructions for you to know how to solve the exercises below that word. For example, if it says **for loop** you should use at least a for loop in order to solve the exercise. "
   ]
  },
  {
   "cell_type": "markdown",
   "metadata": {},
   "source": [
    "#### Collections\n",
    "1. Create a tuple as follows (10,2,27,8)\n",
    "2. Get the lenght of the tuple\n",
    "3. Which type is it? And which type are the elements the tuple contains?\n",
    "4. Create a new tuple with any other 4 strings and concatenate all of them with the tuple you created before by position, creating a list called `words`.\n",
    "5. Make a list with the same elements in question 1. Find the element 27 and make it 37.\n",
    "6. Remove the number 8 from the list.\n",
    "7. Turn the list you made before into a set.\n",
    "8. Check if the element \"3\" is in that set.\n",
    "9. Sort the list you made in exercise 4 in descending order.\n",
    "10. Turn the list `words` into a dictionary. Split every string taking the number in the tuple (10,2,27,8) as the values and the rest as the keys.\n",
    "11. Sum up the values of the new dictionary.\n",
    "12. Sort the values of the dictionary in descending order and the keys in ascending order, then make a list of tuples with every couple of keys and values by position."
   ]
  },
  {
   "source": [
    "## 1. Create a tuple as follows (10,2,27,8)\n",
    "tuple1 = (10,2,27,8)\n",
    "print(tuple1)\n"
   ],
   "cell_type": "code",
   "metadata": {},
   "execution_count": null,
   "outputs": []
  },
  {
   "cell_type": "code",
   "execution_count": 42,
   "metadata": {},
   "outputs": [
    {
     "output_type": "stream",
     "name": "stdout",
     "text": [
      "4\n"
     ]
    }
   ],
   "source": [
    "## 2. Get the lenght of the tuple\n",
    "print(len(tuple1))"
   ]
  },
  {
   "cell_type": "code",
   "execution_count": null,
   "metadata": {},
   "outputs": [],
   "source": [
    "## 3. Which type is it? And which type are the elements the tuple contains?"
   ]
  },
  {
   "cell_type": "code",
   "execution_count": null,
   "metadata": {},
   "outputs": [],
   "source": [
    "tuple1 = (10,2,27,8)\n",
    "print(type(tuple1))"
   ]
  },
  {
   "cell_type": "code",
   "execution_count": null,
   "metadata": {},
   "outputs": [],
   "source": [
    "print(type(tuple1))\n",
    "print(type(tuple1[0:3]))\n",
    "print(type(tuple1[0]))\n",
    "print(type(tuple1[1]))\n",
    "print(type(tuple1[2]))\n",
    "print(type(tuple1[3]))"
   ]
  },
  {
   "cell_type": "code",
   "execution_count": 77,
   "metadata": {},
   "outputs": [
    {
     "output_type": "stream",
     "name": "stdout",
     "text": [
      "<class 'list'>\n<class 'list'>\n['rojo10', 'blanco2', 'negro27', 'amarillo8']\n"
     ]
    }
   ],
   "source": [
    "## 4. Create a new tuple with any other 4 strings and concatenate all of them with the tuple you created before by position, creating a list called words\n",
    "tuple2 = (\"rojo\", \"blanco\", \"negro\", \"amarillo\")\n",
    "tuple1 = list(tuple1)\n",
    "print(type(tuple1))\n",
    "tuple2 = list(tuple2)\n",
    "print(type(tuple2))\n",
    "\n",
    "words = [tuple2[0]+ str(tuple1[0]), tuple2[1]+ str(tuple1[1]), tuple2[2]+ str(tuple1[2]), tuple2[3]+ str(tuple1[3])]\n",
    "print(words)\n",
    "\n",
    "\n"
   ]
  },
  {
   "cell_type": "code",
   "execution_count": 39,
   "metadata": {},
   "outputs": [
    {
     "output_type": "stream",
     "name": "stdout",
     "text": [
      "[10, 2, 37, 8]\n"
     ]
    }
   ],
   "source": [
    "## 5. Make a list with the same elements in question 1. Find the element 27 and make it 37.\r\n",
    "list1 = [10,2,27,8]\r\n",
    "list1[2] = 37\r\n",
    "print(list1)"
   ]
  },
  {
   "cell_type": "code",
   "execution_count": 49,
   "metadata": {},
   "outputs": [
    {
     "output_type": "stream",
     "name": "stdout",
     "text": [
      "[10, 2, 37]\n"
     ]
    }
   ],
   "source": [
    "#6. Remove the number 8 from the list.\n",
    "list1.remove(8)\n",
    "print(list1)\n"
   ]
  },
  {
   "cell_type": "code",
   "execution_count": 53,
   "metadata": {},
   "outputs": [
    {
     "output_type": "stream",
     "name": "stdout",
     "text": [
      "<class 'set'>\n"
     ]
    }
   ],
   "source": [
    "#7. Turn the list you made before into a set.\r\n",
    "list1 = set(list1)\r\n",
    "print(type(list1))"
   ]
  },
  {
   "cell_type": "code",
   "execution_count": 56,
   "metadata": {},
   "outputs": [
    {
     "output_type": "stream",
     "name": "stdout",
     "text": [
      "False\n"
     ]
    }
   ],
   "source": [
    "#8. Check if the element \"3\" is in that set.\n",
    "three_in_a_set = 3 in list1\n",
    "print(three_in_a_set)"
   ]
  },
  {
   "cell_type": "code",
   "execution_count": 78,
   "metadata": {},
   "outputs": [
    {
     "output_type": "stream",
     "name": "stdout",
     "text": [
      "['amarillo8', 'blanco2', 'negro27', 'rojo10']\n"
     ]
    }
   ],
   "source": [
    "#9. Sort the list you made in exercise 4 in descending order.\n",
    "words.sort()\n",
    "print(words)"
   ]
  },
  {
   "cell_type": "code",
   "execution_count": 90,
   "metadata": {},
   "outputs": [
    {
     "output_type": "stream",
     "name": "stdout",
     "text": [
      "9\n7\n7\n6\n"
     ]
    }
   ],
   "source": [
    "print(len(words[0]))\n",
    "print(len(words[1]))\n",
    "print(len(words[2]))\n",
    "print(len(words[3]))"
   ]
  },
  {
   "cell_type": "code",
   "execution_count": 111,
   "metadata": {},
   "outputs": [
    {
     "output_type": "stream",
     "name": "stdout",
     "text": [
      "{'amarillo': 8, 'blanco': 2, 'negro2': 7, 'rojo1': 0}\n"
     ]
    }
   ],
   "source": [
    "#10. Turn the list words into a dictionary. Split every string taking the number in the tuple (10,2,27,8) as the values and the rest as the keys.\n",
    "\n",
    "\n",
    "dicc = {words[0][:8]:int(words[0][-1]), words[1][:6]:int(words[1][-1]), words[2][:6]:int(words[2][-1]), words[3][:5]:int(words[3][-1])}\n",
    "print(dicc)"
   ]
  },
  {
   "cell_type": "code",
   "execution_count": 112,
   "metadata": {},
   "outputs": [
    {
     "output_type": "stream",
     "name": "stdout",
     "text": [
      "dict_values([8, 2, 7, 0])\n"
     ]
    }
   ],
   "source": [
    "#11. Sum up the values of the new dictionary.\n",
    "\n",
    "list_values = (dicc.values())\n",
    "print(list_values)\n"
   ]
  },
  {
   "cell_type": "code",
   "execution_count": 114,
   "metadata": {},
   "outputs": [
    {
     "output_type": "stream",
     "name": "stdout",
     "text": [
      "17\n"
     ]
    }
   ],
   "source": [
    "sum_value = sum(list_values)\n",
    "print(sum_value)"
   ]
  },
  {
   "cell_type": "code",
   "execution_count": 117,
   "metadata": {},
   "outputs": [
    {
     "output_type": "stream",
     "name": "stdout",
     "text": [
      "Ascending order is ['amarillo', 'blanco', 'negro2', 'rojo1']\n"
     ]
    }
   ],
   "source": [
    "# 12. Sort the values of the dictionary in descending order and the keys in ascending order, then make a list of tuples with every couple of keys and values by position.\n",
    "l=list(dicc.keys())\n",
    "l.sort()\n",
    "print('Ascending order is',l) \n"
   ]
  },
  {
   "cell_type": "code",
   "execution_count": 119,
   "metadata": {},
   "outputs": [
    {
     "output_type": "stream",
     "name": "stdout",
     "text": [
      "Descending order is [8, 7, 2, 0]\n"
     ]
    }
   ],
   "source": [
    "l=list(dicc.values())\n",
    "l.sort(reverse=True)\n",
    "print('Descending order is',l) "
   ]
  },
  {
   "cell_type": "markdown",
   "metadata": {},
   "source": [
    "#### Dictionaries\n",
    "\n",
    "1. Make a dictionary containing three major rivers and the country each river runs through. One key-value pair might be 'nile': 'egypt'.\n",
    "\n",
    "    - Use a loop to print a sentence about each river, such as The Nile runs through Egypt.\n",
    "    - Use a loop to print the name of each river included in the dictionary.\n",
    "    - Use a loop to print the name of each country included in the dictionary."
   ]
  },
  {
   "cell_type": "code",
   "execution_count": 112,
   "metadata": {},
   "outputs": [
    {
     "output_type": "stream",
     "name": "stdout",
     "text": [
      "The  Nile runs through  Egipto\nThe  Amazonas runs through  Brasil\nThe  Danubio runs through  Hungary\n"
     ]
    }
   ],
   "source": [
    "#1.1 Use a loop to print a sentence about each river, such as The Nile runs through Egypt.\n",
    "\n",
    "rivers_in_world = {\"Nile\":\"Egipto\", \"Amazonas\":\"Brasil\", \"Danubio\":\"Hungary\"}\n",
    "\n",
    "#1.1 Use a loop to print a sentence about each river, such as The Nile runs through Egypt\n",
    "\n",
    "for key in rivers_in_world:\n",
    "    print (\"The \", key, \"runs through \", rivers_in_world[key])\n",
    "\n",
    "\n",
    "\n"
   ]
  },
  {
   "cell_type": "code",
   "execution_count": 124,
   "metadata": {},
   "outputs": [
    {
     "output_type": "stream",
     "name": "stdout",
     "text": [
      "The  Nile river\nThe  Amazonas river\nThe  Danubio river\n"
     ]
    }
   ],
   "source": [
    "# 1.2. Use a loop to print the name of each river included in the dictionary.\n",
    "for key in rivers_in_world:\n",
    "    print (\"The \", key, \"river\")"
   ]
  },
  {
   "cell_type": "code",
   "execution_count": 125,
   "metadata": {},
   "outputs": [
    {
     "output_type": "stream",
     "name": "stdout",
     "text": [
      "Egipto\nBrasil\nHungary\n"
     ]
    }
   ],
   "source": [
    "#1.3 Use a loop to print the name of each country included in the dictionary.\n",
    "\n",
    "for key in rivers_in_world:\n",
    "    print (rivers_in_world[key])"
   ]
  },
  {
   "cell_type": "markdown",
   "metadata": {},
   "source": [
    "2. Use the provided dictionary that shows some coders and their favoites languages.\n",
    "```Python\n",
    "favorite_languages = {\n",
    "    'jen': 'python',\n",
    "    'sarah': 'c',\n",
    "    'edward': 'ruby',\n",
    "    'phil': 'python',\n",
    "    }\n",
    "```\n",
    "\n",
    "    - Make a list of people who should take the favorite languages poll. Include some names that are already in the dictionary and some that are not.\n",
    "    - Loop through the list of people who should take the poll. If they have already taken the poll, print a message thanking them for responding. If they have not yet taken the poll, print a message inviting them to take the poll."
   ]
  },
  {
   "cell_type": "code",
   "execution_count": 126,
   "metadata": {},
   "outputs": [],
   "source": [
    "favorite_languages = {\n",
    "    'jen': 'python',\n",
    "    'sarah': 'c',\n",
    "    'edward': 'ruby',\n",
    "    'phil': 'python',\n",
    "    }"
   ]
  },
  {
   "cell_type": "code",
   "execution_count": 131,
   "metadata": {},
   "outputs": [
    {
     "output_type": "execute_result",
     "data": {
      "text/plain": [
       "{'mary': 'python', 'matias': 'c', 'belen': 'ruby', 'gema': 'c'}"
      ]
     },
     "metadata": {},
     "execution_count": 131
    }
   ],
   "source": [
    "should_take_poll = {}\n",
    "should_take_poll [\"mary\"]= \"python\"\n",
    "should_take_poll [\"matias\"]= \"c\"\n",
    "should_take_poll [\"belen\"]= \"ruby\"\n",
    "should_take_poll [\"gema\"]= \"c\"\n",
    "should_take_poll"
   ]
  },
  {
   "cell_type": "code",
   "execution_count": 132,
   "metadata": {},
   "outputs": [
    {
     "output_type": "stream",
     "name": "stdout",
     "text": [
      "{'mary': 'python', 'matias': 'c', 'belen': 'ruby', 'gema': 'c', 'jen': 'python', 'sarah': 'c', 'edward': 'ruby', 'phil': 'python'}\n"
     ]
    }
   ],
   "source": [
    "should_take_poll['jen'] = 'python'\n",
    "should_take_poll['sarah'] = 'c'\n",
    "should_take_poll['edward'] = 'ruby'\n",
    "should_take_poll['phil'] = 'python'\n",
    "print(should_take_poll)"
   ]
  },
  {
   "cell_type": "code",
   "execution_count": 141,
   "metadata": {},
   "outputs": [
    {
     "output_type": "stream",
     "name": "stdout",
     "text": [
      "mary :I invite you to take the poll\nmatias :I invite you to take the poll\nbelen :I invite you to take the poll\ngema :I invite you to take the poll\njen :thank you for your response\nsarah :thank you for your response\nedward :thank you for your response\nphil :thank you for your response\n"
     ]
    }
   ],
   "source": [
    "#Loop through the list of people who should take the poll. If they have already taken the poll, print a message thanking them for responding. If they have not yet taken the poll, print a message inviting them to take the poll.\n",
    "\n",
    "\n",
    "for key in should_take_poll:\n",
    "    if key not in favorite_languages:\n",
    "        print(key, \":I invite you to take the poll\")\n",
    "    else:\n",
    "        print(key, \":thank you for your response\")"
   ]
  },
  {
   "cell_type": "markdown",
   "metadata": {},
   "source": [
    "3. Make a dictionary called cities. Use the names of three cities as keys in your dictionary. Create a dictionary of information about each city and include the country that the city is in, its approximate population, and one fact about that city. The keys for each city’s dictionary should be something like country, population, and fact. Print the name of each city and all of the information you have stored about it.\n",
    "\n",
    "```python\n",
    "cities = {\"city1\":{\"country\": \"bla\"}}\n",
    "```\n",
    "\n",
    "\n"
   ]
  },
  {
   "cell_type": "code",
   "execution_count": 150,
   "metadata": {},
   "outputs": [
    {
     "output_type": "stream",
     "name": "stdout",
     "text": [
      "{'Madrid': {'España': (3.223, 'Templo de Debot')}, 'Paris': {'Francia': (2.161, 'Torre Eifel')}, 'Berlin': {'Alemania': (3.645, 'Puerta de Brandemburgo')}}\n"
     ]
    }
   ],
   "source": [
    "cities = {}\n",
    "cities ={\"Madrid\": {\"España\": (3.223,\"Templo de Debot\")}, \"Paris\": {\"Francia\": (2.161,\"Torre Eifel\")}, \"Berlin\": {\"Alemania\": (3.645, \"Puerta de Brandemburgo\")}}\n",
    "print(cities)"
   ]
  },
  {
   "cell_type": "code",
   "execution_count": 157,
   "metadata": {},
   "outputs": [
    {
     "output_type": "stream",
     "name": "stdout",
     "text": [
      "Madrid : {'España': (3.223, 'Templo de Debot')}\nParis : {'Francia': (2.161, 'Torre Eifel')}\nBerlin : {'Alemania': (3.645, 'Puerta de Brandemburgo')}\n"
     ]
    },
    {
     "output_type": "execute_result",
     "data": {
      "text/plain": [
       "[None, None, None]"
      ]
     },
     "metadata": {},
     "execution_count": 157
    }
   ],
   "source": [
    "[print(key,':',value) for key, value in cities.items()]"
   ]
  },
  {
   "cell_type": "code",
   "execution_count": 156,
   "metadata": {},
   "outputs": [
    {
     "output_type": "stream",
     "name": "stdout",
     "text": [
      "Madrid  :  {'España': (3.223, 'Templo de Debot')}\nParis  :  {'Francia': (2.161, 'Torre Eifel')}\nBerlin  :  {'Alemania': (3.645, 'Puerta de Brandemburgo')}\n"
     ]
    }
   ],
   "source": [
    "#Print the name of each city\n",
    "for key, value in cities.items():\n",
    "    print(key, ' : ', value)"
   ]
  },
  {
   "cell_type": "markdown",
   "metadata": {},
   "source": [
    "**for loop**\n",
    "1. This is a fruit list, ['banana', 'orange', 'mango', 'lemon'] reverse the order using a for loop.\n"
   ]
  },
  {
   "cell_type": "code",
   "execution_count": 164,
   "metadata": {},
   "outputs": [
    {
     "output_type": "stream",
     "name": "stdout",
     "text": [
      "lemon\nmango\nbanana\norange\n"
     ]
    }
   ],
   "source": [
    "fruits = {\"banana\", \"orange\", \"mango\", \"lemon\"}\n",
    "fruits = list(fruits)\n",
    "\n",
    "for i in reversed(fruits):\n",
    "    print(i)"
   ]
  },
  {
   "cell_type": "markdown",
   "metadata": {},
   "source": [
    "2. Write a Python program to create the multiplication table (from 1 to 10) of a number.\n",
    "```python\n",
    "Input a number: 5                                                                                             \n",
    "5 x 1 = 5                                                                                                     \n",
    "5 x 2 = 10                                                                                                    \n",
    "5 x 3 = 15                                                                                                    \n",
    "5 x 4 = 20                                                                                                    \n",
    "5 x 5 = 25                                                                                                    \n",
    "5 x 6 = 30                                                                                                    \n",
    "5 x 7 = 35                                                                                                    \n",
    "5 x 8 = 40                                                                                                    \n",
    "5 x 9 = 45                                                                                                    \n",
    "5 x 10 = 50\n",
    "```"
   ]
  },
  {
   "cell_type": "code",
   "execution_count": 172,
   "metadata": {},
   "outputs": [
    {
     "output_type": "stream",
     "name": "stdout",
     "text": [
      "5 x 1 = 5\n5 x 2 = 10\n5 x 3 = 15\n5 x 4 = 20\n5 x 5 = 25\n5 x 6 = 30\n5 x 7 = 35\n5 x 8 = 40\n5 x 9 = 45\n5 x 10 = 50\n"
     ]
    }
   ],
   "source": [
    "multiplication = []\n",
    "number = int(input(\"Ingrese un número\"))\n",
    "\n",
    "for i in range(1,11):\n",
    "    multiplication = i * number\n",
    "    print(number, \"x\", i, \"=\", multiplication)\n"
   ]
  },
  {
   "cell_type": "markdown",
   "metadata": {},
   "source": [
    "3. Write a Python program which iterates the integers from 1 to 50. For multiples of three print \"Fizz\" instead of the number and for the multiples of five print \"Buzz\". For numbers which are multiples of both three and five print \"FizzBuzz\".\n",
    "```python\n",
    "Sample Output :\n",
    "fizzbuzz\n",
    "1\n",
    "2\n",
    "fizz\n",
    "4\n",
    "buzz\n",
    "```"
   ]
  },
  {
   "cell_type": "code",
   "execution_count": 179,
   "metadata": {},
   "outputs": [
    {
     "output_type": "stream",
     "name": "stdout",
     "text": [
      "FizzBuzz\n1\n2\nFizz\n4\nBuzz\nFizz\n7\n8\nFizz\nBuzz\n11\nFizz\n13\n14\nFizzBuzz\n16\n17\nFizz\n19\nBuzz\nFizz\n22\n23\nFizz\nBuzz\n26\nFizz\n28\n29\nFizzBuzz\n31\n32\nFizz\n34\nBuzz\nFizz\n37\n38\nFizz\nBuzz\n41\nFizz\n43\n44\nFizzBuzz\n46\n47\nFizz\n49\nBuzz\n"
     ]
    }
   ],
   "source": [
    "\n",
    "\n",
    "for i in range(0,51):\n",
    "    if i % 3 == 0 and i % 5 == 0:\n",
    "        print(\"FizzBuzz\")\n",
    "    \n",
    "    elif i % 3 == 0:\n",
    "        print(\"Fizz\")\n",
    "    elif i % 5 == 0:\n",
    "        print(\"Buzz\")\n",
    "    \n",
    "    else:\n",
    "        print(i)\n",
    "\n",
    "        \n",
    "    \n",
    "\n",
    "    "
   ]
  },
  {
   "cell_type": "markdown",
   "metadata": {},
   "source": [
    "**functions**\n",
    "\n",
    "1. Write a Python function to check whether a string is a pangram or not. \n",
    "\n",
    "Note : Pangrams are words or sentences containing every letter of the alphabet at least once.\n",
    "    \n",
    "For example : `\"The quick brown fox jumps over the lazy dog\"`"
   ]
  },
  {
   "cell_type": "code",
   "execution_count": 13,
   "metadata": {},
   "outputs": [
    {
     "output_type": "stream",
     "name": "stdout",
     "text": [
      "Yes, Contains all the characters from a to z\n"
     ]
    }
   ],
   "source": [
    "import string\n",
    "\n",
    "alphabet = set(string.ascii_lowercase)\n",
    "\n",
    "string_pangram = input\n",
    "\n",
    "if set(string_pangram()) >= alphabet:\n",
    "    print(\"Yes, Contains all the characters from a to z\" )\n",
    "else: \n",
    "    print(\"No, Doesn’t contains all the characters from a to z\")\n",
    "\n"
   ]
  },
  {
   "cell_type": "markdown",
   "metadata": {},
   "source": [
    "2. Write a Python program to count the number of even and odd numbers from a series of numbers. \n",
    "\n",
    "```python\n",
    "Sample numbers: numbers = (1, 2, 3, 4, 5, 6, 7, 8, 9) \n",
    "    \n",
    "Expected Output:\n",
    "Number of even numbers: 5\n",
    "Number of odd numbers: 4\n",
    "```"
   ]
  },
  {
   "cell_type": "code",
   "execution_count": 10,
   "metadata": {},
   "outputs": [
    {
     "output_type": "stream",
     "name": "stdout",
     "text": [
      "Number of even numbers: 5\nNumber of even numbers: 4\n"
     ]
    }
   ],
   "source": [
    "numbers = (1, 2, 3, 4, 5, 6, 7, 8, 9)\n",
    "even_numbers = 0\n",
    "odd_numbers = 0\n",
    "\n",
    "for x in numbers: \n",
    "    if not x % 2:\n",
    "        odd_numbers +=1\n",
    "    else:\n",
    "        even_numbers +=1\n",
    "print(\"Number of even numbers:\", even_numbers)\n",
    "print(\"Number of even numbers:\", odd_numbers)\n",
    "\n",
    "    "
   ]
  },
  {
   "cell_type": "markdown",
   "metadata": {},
   "source": [
    "#### functions & while loop\n",
    "1. Write a program which keeps asking for numbers till the user writes 9999. In that case, the program returns the concatenation of every number as a string.\n"
   ]
  },
  {
   "cell_type": "code",
   "execution_count": 48,
   "metadata": {},
   "outputs": [
    {
     "output_type": "stream",
     "name": "stdout",
     "text": [
      "5 7 9 9 9 9\n"
     ]
    }
   ],
   "source": [
    "number_asking = int(input(\"Ingrese un número entre 0 y 10000\"))\n",
    "concatenation = []\n",
    "contador = 9999\n",
    "\n",
    "while number_asking < 10000:\n",
    "    if number_asking != 9999:\n",
    "        concatenation += str(number_asking)\n",
    "        number_asking = int(input(\"Ingrese un número entre 0 y 10000\"))\n",
    "    else:\n",
    "        concatenation += str(number_asking)\n",
    "        print(' '.join(concatenation))\n",
    "        break\n"
   ]
  },
  {
   "cell_type": "markdown",
   "metadata": {},
   "source": [
    "2. Writes a function that asks a user for a pin code till they get it right... If they give a wrong answer three times the function returns \"Your bank account has been blocked\", otherwise, returns: \"You got it right! You get full access to your money\".\n"
   ]
  },
  {
   "cell_type": "code",
   "execution_count": 46,
   "metadata": {
    "tags": []
   },
   "outputs": [
    {
     "output_type": "stream",
     "name": "stdout",
     "text": [
      "You got it right! You get full access to your money\n"
     ]
    }
   ],
   "source": [
    "def pin():\n",
    "    right_pin_code = 9876\n",
    "    contador = 0\n",
    "    user_pin_code = int(input(\"Enter 4 digits of pin code\"))\n",
    "\n",
    "\n",
    "    while contador < 4:\n",
    "        if user_pin_code == 9876:\n",
    "            print(\"You got it right! You get full access to your money\")\n",
    "            break\n",
    "        else:\n",
    "            user_pin_code = int(input(\"Enter a pin code\"))\n",
    "            contador +=1\n",
    "            if contador == 3:\n",
    "                print((\"Your bank account has been blocked\"))\n",
    "            contador +=1\n",
    "pin()"
   ]
  },
  {
   "cell_type": "markdown",
   "metadata": {},
   "source": [
    "#### functions & for loop\n",
    "\n",
    "1. Write a function that takes in a person's name, and prints out a greeting.\n",
    "    - The greeting must be at least three lines, and the person's name must be in each line.\n",
    "    - Use your function to greet at least three different people.\n",
    "    - Store your three people in a list, and call your function from a for loop."
   ]
  },
  {
   "cell_type": "code",
   "execution_count": 40,
   "metadata": {},
   "outputs": [
    {
     "output_type": "stream",
     "name": "stdout",
     "text": [
      "Belen You’re the best \n Belen I send you positive vibes \n Belen Hope your special day brings you all that your heart desires!\n\nMatias You’re the best \n Matias I send you positive vibes \n Matias Hope your special day brings you all that your heart desires!\n\nFelix You’re the best \n Felix I send you positive vibes \n Felix Hope your special day brings you all that your heart desires!\n\n"
     ]
    }
   ],
   "source": [
    "\n",
    "\n",
    "def greeting(name):\n",
    "    print(name, \"You’re the best \\n\",name ,\"I send you positive vibes \\n\",name ,\"Hope your special day brings you all that your heart desires!\")\n",
    "\n",
    "\n",
    "name_person = [\"Belen\", \"Matias\", \"Felix\"]\n",
    "\n",
    "\n",
    "for i in name_person:\n",
    "    greeting(i)\n",
    "    print()\n",
    "\n"
   ]
  },
  {
   "cell_type": "markdown",
   "metadata": {},
   "source": [
    "2. Make a list that includes 3 or 4 games that you like to play and print a statement that tells the user what games you like.\n",
    "    - Write a function that asks the user to tell you a game they like, and store the game in a variable such as `new_game`. \n",
    "    - If the user mentions one game you like to play, send a message asking to play together.\n",
    "    - Otherwise ask for another game name. If the user tries your program 3 times and doesn't give a game name you like, then ask them to find another friend."
   ]
  },
  {
   "cell_type": "code",
   "execution_count": 77,
   "metadata": {},
   "outputs": [
    {
     "output_type": "execute_result",
     "data": {
      "text/plain": [
       "('Do you want to play', 'one', 'with me?')"
      ]
     },
     "metadata": {},
     "execution_count": 77
    }
   ],
   "source": [
    "my_favorite_games = [\"one\", \"chest\", \"monopoly\"]\n",
    "\n",
    "def play_partner(games):\n",
    "      \n",
    "    contador = 3\n",
    "    \n",
    "    for i in range(3):\n",
    "        if contador == 0:\n",
    "            break\n",
    "        new_game = input(\"Write a favorite game\")\n",
    "        if new_game in games:\n",
    "            return \"Do you want to play\", new_game, \"with me?\"\n",
    "        contador -= 1\n",
    "    return \"Find another friend\"   \n",
    "       \n",
    "      \n",
    "  \n",
    "play_partner(games=my_favorite_games)"
   ]
  },
  {
   "cell_type": "markdown",
   "metadata": {},
   "source": [
    "#### write a mini-program\n",
    "**Three is a Crowd**\n",
    "- Make a list of names that includes at least four people.\n",
    "- Write an if test that prints a message about the room being crowded, if there are more than three people in your list.\n",
    "- Modify your list so that there are only two people in it. Use one of the methods for removing people from the list, don't just redefine the list.\n",
    "- Run your if test again. There should be no output this time, because there are less than three people in the list.\n",
    "- Store your if test in a function called something like `crowd_test`.\n",
    "\n"
   ]
  },
  {
   "cell_type": "code",
   "execution_count": 93,
   "metadata": {},
   "outputs": [
    {
     "output_type": "stream",
     "name": "stdout",
     "text": [
      "The room being crowde\n"
     ]
    }
   ],
   "source": [
    "names = [\"Maria\", \"Sonia\", \"Juan\", \"Jhon\"]\n",
    "if len(names) > 3:\n",
    "    print(\"The room being crowde\")"
   ]
  },
  {
   "cell_type": "code",
   "execution_count": 98,
   "metadata": {},
   "outputs": [
    {
     "output_type": "execute_result",
     "data": {
      "text/plain": [
       "['Maria', 'Sonia']"
      ]
     },
     "metadata": {},
     "execution_count": 98
    }
   ],
   "source": [
    "dos = [\"Maria\", \"Sonia\", \"Juan\", \"Jhon\"]\n",
    "\n",
    "for x in dos:\n",
    "    dos.pop()\n",
    "    \n",
    "\n",
    "    if len(dos) > 3:\n",
    "        print(\"The room being crowde\")\n",
    "\n",
    "dos\n"
   ]
  },
  {
   "cell_type": "code",
   "execution_count": 91,
   "metadata": {},
   "outputs": [],
   "source": [
    "def rowd_test(lista):\n",
    "\n",
    "    if len(lista) >=3:\n",
    "        print(\"The room being crowde\")"
   ]
  },
  {
   "cell_type": "markdown",
   "metadata": {},
   "source": [
    "**Three is a Crowd - Part 2**\n",
    "- Save your program from *Three is a Crowd* under a new name.\n",
    "- Add an `else` statement to your if tests. If the `else` statement is run, have it print a message that the room is not very crowded.\n"
   ]
  },
  {
   "cell_type": "code",
   "execution_count": 100,
   "metadata": {},
   "outputs": [
    {
     "output_type": "stream",
     "name": "stdout",
     "text": [
      "The room is not very crowded\n"
     ]
    }
   ],
   "source": [
    "def new_name(lista):\n",
    "\n",
    "    if len(lista) >= 3:\n",
    "        print(\"The room being crowde\")\n",
    "    else:\n",
    "        print(\"The room is not very crowded\")\n",
    "\n",
    "\n",
    "new_name(lista=dos)\n"
   ]
  },
  {
   "cell_type": "markdown",
   "metadata": {},
   "source": [
    "\n",
    "**Six is a Mob**\n",
    "- Save your program from *Three is a Crowd - Part 2* under a new name.\n",
    "- Add some names to your list, so that there are at least six people in the list.\n",
    "- Modify your tests so that\n",
    "    - If there are more than 5 people, a message is printed about there being a mob in the room.\n",
    "    - If there are 3-5 people, a message is printed about the room being crowded.\n",
    "    - If there are 1 or 2 people, a message is printed about the room not being crowded.\n",
    "    - If there are no people in the room, a message is printed abou the room being empty."
   ]
  },
  {
   "cell_type": "code",
   "execution_count": 106,
   "metadata": {},
   "outputs": [
    {
     "output_type": "execute_result",
     "data": {
      "text/plain": [
       "['Maria', 'Sonia', 'Juan', 'Jhon', 'Pedro', 'Ana', 'Maria']"
      ]
     },
     "metadata": {},
     "execution_count": 106
    }
   ],
   "source": [
    "mas_personas = [\"Maria\", \"Sonia\", \"Juan\", \"Jhon\"]\n",
    "mas_personas.extend([\"Pedro\", \"Ana\", \"Maria\"])\n",
    "mas_personas"
   ]
  },
  {
   "cell_type": "code",
   "execution_count": 108,
   "metadata": {},
   "outputs": [
    {
     "output_type": "stream",
     "name": "stdout",
     "text": [
      "There is a crowd in the room\n"
     ]
    }
   ],
   "source": [
    "def new_new_name(lista):\n",
    "\n",
    "    if len(lista) > 5:\n",
    "        print(\"There is a crowd in the room\")\n",
    "    elif len(lista) >= 3 and len(lista) ==5:\n",
    "        print(\"The room being crowded\")\n",
    "    elif len(lista) >= 1 and len(lista) ==2:\n",
    "        print(\"the room not being crowded\")\n",
    "    elif len(lista) == 0:\n",
    "        print(\"the room being empty\")\n",
    "\n",
    "\n",
    "new_new_name(lista=mas_personas)"
   ]
  },
  {
   "cell_type": "code",
   "execution_count": null,
   "metadata": {},
   "outputs": [],
   "source": []
  }
 ],
 "metadata": {
  "kernelspec": {
   "name": "python374jvsc74a57bd0a9b83ec4160fc914f5169c2fc0bc9ab1c02e189a457abfa966969b692f6336e9",
   "display_name": "Python 3.7.4 64-bit"
  },
  "language_info": {
   "codemirror_mode": {
    "name": "ipython",
    "version": 3
   },
   "file_extension": ".py",
   "mimetype": "text/x-python",
   "name": "python",
   "nbconvert_exporter": "python",
   "pygments_lexer": "ipython3",
   "version": "3.7.4"
  },
  "metadata": {
   "interpreter": {
    "hash": "a9b83ec4160fc914f5169c2fc0bc9ab1c02e189a457abfa966969b692f6336e9"
   }
  }
 },
 "nbformat": 4,
 "nbformat_minor": 4
}