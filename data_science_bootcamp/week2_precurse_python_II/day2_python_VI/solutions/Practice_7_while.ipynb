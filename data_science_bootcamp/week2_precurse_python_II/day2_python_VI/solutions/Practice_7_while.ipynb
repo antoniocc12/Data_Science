{
  "nbformat": 4,
  "nbformat_minor": 0,
  "metadata": {
    "kernelspec": {
      "name": "python36464bitc2077ed07ea84d23aa5b518d224882ab",
      "display_name": "Python 3.6.4 64-bit"
    },
    "language_info": {
      "codemirror_mode": {
        "name": "ipython",
        "version": 3
      },
      "file_extension": ".py",
      "mimetype": "text/x-python",
      "name": "python",
      "nbconvert_exporter": "python",
      "pygments_lexer": "ipython3",
      "version": "3.6.4-final"
    },
    "colab": {
      "name": "Practice_7_while.ipynb",
      "provenance": []
    },
    "metadata": {
      "interpreter": {
        "hash": "5c4d2f1fdcd3716c7a5eea90ad07be30193490dd4e63617705244f5fd89ea793"
      }
    }
  },
  "cells": [
    {
      "cell_type": "markdown",
      "metadata": {
        "id": "Pw2xzR4RcGIe"
      },
      "source": [
        "# Python | day 6 | while"
      ]
    },
    {
      "cell_type": "markdown",
      "metadata": {
        "id": "njERFuqpcGIf"
      },
      "source": [
        "With the **while** loop we can execute a set of statements as long as a condition is true."
      ]
    },
    {
      "cell_type": "markdown",
      "metadata": {
        "id": "3RdySj-scGIg"
      },
      "source": [
        "```python\n",
        "i = 1\n",
        "while i < 6:\n",
        "  print(i)\n",
        "  i += 1\n",
        "```"
      ]
    },
    {
      "cell_type": "markdown",
      "metadata": {
        "id": "QmGayiwLcGIg"
      },
      "source": [
        "https://www.w3schools.com/python/python_while_loops.asp"
      ]
    },
    {
      "cell_type": "markdown",
      "metadata": {
        "id": "ZzwmLnMVcGIg"
      },
      "source": [
        "### Exercise 1. "
      ]
    },
    {
      "cell_type": "markdown",
      "metadata": {
        "id": "kiApHfEmcGIg"
      },
      "source": [
        "Do as described below:\n",
        "\n",
        "- Make a variable called strength, and set its initial value to 5.\n",
        "\n",
        "- Print a message reporting the player's strength.\n",
        "\n",
        "- Set up a while loop that runs until the player's strength increases to a value such as 10.\n",
        "\n",
        "- Inside the while loop, print a message that reports the player's current strength.\n",
        "\n",
        "- Inside the while loop, write a statement that increases the player's strength.\n",
        "\n",
        "- Outside the while loop, print a message reporting that the player has grown too strong, and that they have moved up to a new level of the game.\n",
        "\n",
        "Play around with different cutoff levels for the value of strength, and play around with different ways to increase the strength value within the while loop.\n"
      ]
    },
    {
      "cell_type": "code",
      "metadata": {
        "id": "6Hvp38hjcGIh"
      },
      "source": [],
      "execution_count": null,
      "outputs": []
    },
    {
      "cell_type": "markdown",
      "metadata": {
        "id": "OOuVXR3lcGIh"
      },
      "source": [
        "### Exercise 2. "
      ]
    },
    {
      "cell_type": "markdown",
      "metadata": {
        "id": "NBeUCcMFcGIh"
      },
      "source": [
        "To solve the following exercises it will be necessary to define a function for each section. You choose the name of those functions unless specified, but make sure you define a single parameter `whichever_list`, when calling the function it will correspond to the variable `info_list`."
      ]
    },
    {
      "cell_type": "code",
      "metadata": {
        "id": "p6Ur3w39cGIi"
      },
      "source": [
        "# you can use this list or take yours from Practice 3\n",
        "info_list = [15, 'Recoletos', True, ['Recoletos', 15],  None, '8'] "
      ],
      "execution_count": null,
      "outputs": []
    },
    {
      "cell_type": "markdown",
      "metadata": {
        "id": "xCx4Ra6rcGIi"
      },
      "source": [
        "You have already read these questions below, but this time you are asked to solve it using `while` loop instead of `for`. \n",
        "\n",
        "   - Loop through `whichever_list` to print all the elements it contains. This function should return the list turned into a tuple. \n",
        "   - Loop through `whichever_list` to print all the elements it contains concatenated with the string` \"--> OK\" `. This function should return a message saying, `\"everything will be ok\"`. \n",
        "   - Loop through `whichever_list` to display all items it contains except the first one. This function should return the first element of the list. \n",
        "   - Loop through `whichever_list` to display all the items it contains except the last one. This function should return the last element of the list. "
      ]
    },
    {
      "cell_type": "code",
      "metadata": {
        "id": "nTyyUVN-cGIi"
      },
      "source": [],
      "execution_count": null,
      "outputs": []
    },
    {
      "cell_type": "code",
      "metadata": {
        "id": "zSukS5FWcGIi"
      },
      "source": [],
      "execution_count": null,
      "outputs": []
    },
    {
      "cell_type": "code",
      "metadata": {
        "id": "bdpvSWEJcGIi"
      },
      "source": [],
      "execution_count": null,
      "outputs": []
    },
    {
      "cell_type": "code",
      "metadata": {
        "id": "t7YNQXUAcGIj"
      },
      "source": [],
      "execution_count": null,
      "outputs": []
    },
    {
      "cell_type": "code",
      "metadata": {
        "id": "92_rd0m5cGIj"
      },
      "source": [],
      "execution_count": null,
      "outputs": []
    },
    {
      "cell_type": "markdown",
      "metadata": {
        "id": "jBOZdmpncGIj"
      },
      "source": [
        "### Exercise 3. "
      ]
    },
    {
      "cell_type": "markdown",
      "metadata": {
        "id": "o-ad93UOcGIj"
      },
      "source": [
        "1. Define a function that performs the [Fibonacci series](https://quantdare.com/numeros-de-fibonacci/#:~:text=En%20matem%C3%A1ticas%2C%20la%20sucesi%C3%B3n%20o,nombre%20de%20n%C3%BAmero%20de%20Fibonacci.) with a `while`."
      ]
    },
    {
      "cell_type": "code",
      "metadata": {
        "id": "5ckqz_h0cGIj"
      },
      "source": [],
      "execution_count": null,
      "outputs": []
    },
    {
      "cell_type": "markdown",
      "metadata": {
        "id": "Ern1wtVpcGIj"
      },
      "source": [
        "### Bonus Track."
      ]
    },
    {
      "cell_type": "markdown",
      "metadata": {
        "id": "9vwwLai1cGIk"
      },
      "source": [
        "To solve the following exercises it will be necessary to define a function for each section. You choose the name of those functions unless specified, but make sure you define a single parameter `whichever_list`, when calling the function it will correspond to the variable `info_list`."
      ]
    },
    {
      "cell_type": "code",
      "metadata": {
        "id": "jv_n0iQ8cGIk"
      },
      "source": [
        "# you can use this list or take yours from Practice 3\n",
        "info_list = [15, 'Recoletos', True, ['Recoletos', 15],  None, '8'] "
      ],
      "execution_count": 1,
      "outputs": []
    },
    {
      "cell_type": "markdown",
      "metadata": {
        "id": "KrJHdJfVcGIk"
      },
      "source": [
        "1. Define a function `f_s` that saves the value of a word (for example: \"nothing\") in a variable and print it. Also, concatenate its value with the street number of The Bridge and display it on the screen. \n",
        "\n",
        "   Also, display a boolean **True** if the length of the concatenated word is 6. If not, it will be **False**. The function must return the value **True** or **False**."
      ]
    },
    {
      "cell_type": "code",
      "execution_count": 3,
      "metadata": {},
      "outputs": [
        {
          "output_type": "stream",
          "name": "stdout",
          "text": [
            "True\n"
          ]
        }
      ],
      "source": [
        "print(True)"
      ]
    },
    {
      "cell_type": "code",
      "execution_count": 33,
      "metadata": {},
      "outputs": [],
      "source": [
        "def f_s(whichever_list):\n",
        "    print(\"Entramos en f_s\")\n",
        "    v = \"nothing\"\n",
        "    print(v)\n",
        "    num = whichever_list[0]\n",
        "    concatenado = v + str(num) # v + str(whichever_list[0])\n",
        "    print(concatenado)\n",
        "    if len(concatenado) == 6:\n",
        "        print(True)\n",
        "        return True\n",
        "    else:\n",
        "        print(False)\n",
        "        return False\n"
      ]
    },
    {
      "cell_type": "code",
      "metadata": {
        "id": "_Kga7AtdcGIk"
      },
      "source": [
        "def f_s(whichever_list):\n",
        "    print(\"Entramos en f_s\")\n",
        "    lo_que_voy_a_retornar = None\n",
        "    v = \"nothing\"\n",
        "    print(v)\n",
        "    num = whichever_list[0]\n",
        "    concatenado = v + str(num) # v + str(whichever_list[0])\n",
        "    print(concatenado)\n",
        "    if len(concatenado) == 6:\n",
        "        print(True)\n",
        "        lo_que_voy_a_retornar = True\n",
        "    else:\n",
        "        print(False)\n",
        "        lo_que_voy_a_retornar = False\n",
        "    return lo_que_voy_a_retornar\n"
      ],
      "execution_count": 32,
      "outputs": []
    },
    {
      "cell_type": "markdown",
      "metadata": {
        "id": "SlSG69glcGIk"
      },
      "source": [
        "2. Create a list `list_aux` with 7 elements, whichever you want. Next, create a function `function_use_f_s` which receives as parameters a function `some_function`, a word which is the argument of `some_funtion` and whichever list `whichever_list`. If the value of `some_function` is **True**, then delete an item from `whichever_list`. Repeat the process until `whichever_list` has no elements. The argument for `whichever_list` must be `list_aux` and for `some_function` it will be the function `f_s` from the previous point."
      ]
    },
    {
      "cell_type": "code",
      "execution_count": 15,
      "metadata": {},
      "outputs": [
        {
          "output_type": "execute_result",
          "data": {
            "text/plain": [
              "90"
            ]
          },
          "metadata": {},
          "execution_count": 15
        }
      ],
      "source": [
        "import random\n",
        "num_aleatorio = random.randint(0, 100)\n"
      ]
    },
    {
      "cell_type": "code",
      "execution_count": 20,
      "metadata": {},
      "outputs": [
        {
          "output_type": "execute_result",
          "data": {
            "text/plain": [
              "[61, 20, 23, 8, 63, 36, 33]"
            ]
          },
          "metadata": {},
          "execution_count": 20
        }
      ],
      "source": [
        "# while\n",
        "lista_num_randoms = []\n",
        "for i in range(7):  # este bucle se repite N veces (7)\n",
        "    num_aleatorio = random.randint(0, 100)\n",
        "    lista_num_randoms.append(num_aleatorio)\n",
        "lista_num_randoms\n"
      ]
    },
    {
      "cell_type": "code",
      "execution_count": 26,
      "metadata": {},
      "outputs": [
        {
          "output_type": "execute_result",
          "data": {
            "text/plain": [
              "<function __main__.f1()>"
            ]
          },
          "metadata": {},
          "execution_count": 26
        }
      ],
      "source": [
        "def f1():\n",
        "    print(2)\n",
        "\n",
        "x = f1\n",
        "x"
      ]
    },
    {
      "cell_type": "code",
      "execution_count": 27,
      "metadata": {},
      "outputs": [
        {
          "output_type": "stream",
          "name": "stdout",
          "text": [
            "2\n"
          ]
        }
      ],
      "source": [
        "x()"
      ]
    },
    {
      "cell_type": "code",
      "execution_count": 23,
      "metadata": {},
      "outputs": [
        {
          "output_type": "stream",
          "name": "stdout",
          "text": [
            "2\n"
          ]
        }
      ],
      "source": [
        "def f1():\n",
        "    print(2)\n",
        "\n",
        "def f2_recibe_f1(una_funcion):\n",
        "    # llamar a f1 desde f2_recibe_f1\n",
        "    una_funcion()\n",
        "\n",
        "\n",
        "f2_recibe_f1(una_funcion=f1)"
      ]
    },
    {
      "cell_type": "code",
      "metadata": {
        "id": "4oLyRZdzcGIl"
      },
      "source": [
        "list_aux = [\"pera\", \"Rodrigo\", 2, \"7\", \"montaña\", \"playa\", \"sol\"]"
      ],
      "execution_count": 10,
      "outputs": []
    },
    {
      "cell_type": "code",
      "execution_count": 34,
      "metadata": {},
      "outputs": [
        {
          "output_type": "error",
          "ename": "NameError",
          "evalue": "name 'whichever_list' is not defined",
          "traceback": [
            "\u001b[1;31m---------------------------------------------------------------------------\u001b[0m",
            "\u001b[1;31mNameError\u001b[0m                                 Traceback (most recent call last)",
            "\u001b[1;32m<ipython-input-34-2361766517db>\u001b[0m in \u001b[0;36m<module>\u001b[1;34m\u001b[0m\n\u001b[0;32m      5\u001b[0m \u001b[1;33m\u001b[0m\u001b[0m\n\u001b[0;32m      6\u001b[0m \u001b[1;33m\u001b[0m\u001b[0m\n\u001b[1;32m----> 7\u001b[1;33m \u001b[0mfunction_use_f_s\u001b[0m\u001b[1;33m(\u001b[0m\u001b[0msome_function\u001b[0m\u001b[1;33m=\u001b[0m\u001b[0mf_s\u001b[0m\u001b[1;33m(\u001b[0m\u001b[0mwhichever_list\u001b[0m\u001b[1;33m=\u001b[0m\u001b[0mwhichever_list\u001b[0m\u001b[1;33m)\u001b[0m\u001b[1;33m,\u001b[0m \u001b[0mwhichever_list\u001b[0m\u001b[1;33m=\u001b[0m\u001b[0mlist_aux\u001b[0m\u001b[1;33m)\u001b[0m\u001b[1;33m\u001b[0m\u001b[0m\n\u001b[0m",
            "\u001b[1;31mNameError\u001b[0m: name 'whichever_list' is not defined"
          ]
        }
      ],
      "source": [
        "def function_use_f_s(some_function, whichever_list):\n",
        "    # Es en la llamada a la función cuando tienes que pasar los parámetros\n",
        "    print(\"Entramos en function_use_f_s\")\n",
        "    some_function(whichever_list=whichever_list)\n",
        "\n",
        "\n",
        "function_use_f_s(some_function=f_s, whichever_list=list_aux)"
      ]
    },
    {
      "cell_type": "code",
      "execution_count": 36,
      "metadata": {},
      "outputs": [
        {
          "output_type": "execute_result",
          "data": {
            "text/plain": [
              "['x']"
            ]
          },
          "metadata": {},
          "execution_count": 36
        }
      ],
      "source": [
        "lista = [\"x\", \"y\"]\n",
        "lista.pop()\n",
        "lista "
      ]
    },
    {
      "cell_type": "code",
      "execution_count": 37,
      "metadata": {},
      "outputs": [
        {
          "output_type": "stream",
          "name": "stdout",
          "text": [
            "['x']\n"
          ]
        }
      ],
      "source": [
        "\"\"\"\n",
        "1. Primero definimos la variable lista\n",
        "2. Llamamos a la función h1 y le pasamos:\n",
        "    - como parámetro 'lista' le pasamos el valor de la variable 'lista'\n",
        "    - como parámetro 'function' le pasamos la REFERENCIA a la función 'func'\n",
        "3. Dentro de la función h1 actualizamos el valor de lista quitándole el último valor (usamos lista.pop())\n",
        "4. Llamamos a la función 'func' dentro de la función 'h1' utilizando el nombre del parámetro 'funcion'\n",
        "\"\"\"\n",
        "\n",
        "def func(arg1):\n",
        "    print(arg1)\n",
        "\n",
        "def h1(lista, function):\n",
        "    lista.pop()\n",
        "    function(arg1=lista)\n",
        "\n",
        "lista = [\"x\", \"y\"]\n",
        "h1(lista=lista, function=func)"
      ]
    },
    {
      "cell_type": "code",
      "execution_count": null,
      "metadata": {},
      "outputs": [],
      "source": [
        "lista = [2, 4]\n",
        "def g1(lista):\n",
        "    print(lista[0])\n",
        "\n",
        "g1(lista=[2, 4])"
      ]
    },
    {
      "cell_type": "code",
      "execution_count": 28,
      "metadata": {},
      "outputs": [
        {
          "output_type": "execute_result",
          "data": {
            "text/plain": [
              "<function __main__.f_s(whichever_list)>"
            ]
          },
          "metadata": {},
          "execution_count": 28
        }
      ],
      "source": [
        "f_s"
      ]
    },
    {
      "cell_type": "code",
      "execution_count": 31,
      "metadata": {},
      "outputs": [
        {
          "output_type": "stream",
          "name": "stdout",
          "text": [
            "nothing\nnothing15\nFalse\n"
          ]
        },
        {
          "output_type": "execute_result",
          "data": {
            "text/plain": [
              "False"
            ]
          },
          "metadata": {},
          "execution_count": 31
        }
      ],
      "source": [
        "f_s(whichever_list=info_list)"
      ]
    },
    {
      "cell_type": "markdown",
      "metadata": {
        "id": "5YH2ruNtcGIl"
      },
      "source": [
        "3. Define a function `even_numbers` that has an input parameter `arg1`, type integer. The function must return a list of numbers of size `arg1`, all of them being even numbers. \n",
        "\n",
        "   Don't use the function `print()` inside the function, but print what `even_numbers` returns when calling it with the argument `10`, just to check your function works.\n",
        "   \n",
        "```python\n",
        "print(even_numbers(10))\n",
        "```"
      ]
    },
    {
      "cell_type": "code",
      "metadata": {
        "id": "0SD4HhhVcGIl"
      },
      "source": [],
      "execution_count": null,
      "outputs": []
    },
    {
      "cell_type": "markdown",
      "metadata": {
        "id": "c26cHPFQcGIl"
      },
      "source": [
        "4. Create a function that has an input variable `arg1`, which will be the list of even numbers from the previous section, and that removes elements from the list, one by one, if `arg1` has a size divisible by 2 and, if not, it adds just once, the value of the function `f_s` that should be a boolean (`True` or `False`).\n"
      ]
    },
    {
      "cell_type": "code",
      "metadata": {
        "id": "pvpUlxHhcGIl"
      },
      "source": [],
      "execution_count": null,
      "outputs": []
    },
    {
      "cell_type": "markdown",
      "metadata": {
        "id": "0H1p8dsvcGIm"
      },
      "source": [
        "!['nicetry'](https://i.pinimg.com/originals/36/ab/81/36ab81cd8d63cf7c4a08f39403698c77.jpg)"
      ]
    },
    {
      "cell_type": "code",
      "execution_count": 38,
      "metadata": {},
      "outputs": [
        {
          "output_type": "stream",
          "name": "stdout",
          "text": [
            "1\n1\n1\n1\n1\n1\n1\n1\n1\n1\n"
          ]
        }
      ],
      "source": [
        "for i in range(10):  # Se ejecuta N veces (10)\n",
        "    print(1)"
      ]
    },
    {
      "cell_type": "code",
      "execution_count": 40,
      "metadata": {},
      "outputs": [
        {
          "output_type": "stream",
          "name": "stdout",
          "text": [
            "1\n1\n1\n1\n1\n1\n1\n1\n1\n1\n"
          ]
        }
      ],
      "source": [
        "contador = 0\n",
        "while contador < 10:\n",
        "    print(1)\n",
        "    contador += 1"
      ]
    },
    {
      "cell_type": "code",
      "execution_count": 42,
      "metadata": {},
      "outputs": [
        {
          "output_type": "stream",
          "name": "stdout",
          "text": [
            "1\n1\n1\n1\n1\n1\n1\n1\n1\n1\n10\n"
          ]
        }
      ],
      "source": [
        "l = []\n",
        "contador = 0\n",
        "while contador < 10:\n",
        "    print(1)\n",
        "    l.append(\"3\")\n",
        "    contador += 1\n",
        "print(contador)"
      ]
    },
    {
      "cell_type": "code",
      "execution_count": null,
      "metadata": {},
      "outputs": [],
      "source": []
    }
  ]
}