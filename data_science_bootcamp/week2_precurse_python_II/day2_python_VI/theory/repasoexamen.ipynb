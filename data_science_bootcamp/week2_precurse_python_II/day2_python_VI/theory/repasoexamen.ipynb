{
 "metadata": {
  "language_info": {
   "codemirror_mode": {
    "name": "ipython",
    "version": 3
   },
   "file_extension": ".py",
   "mimetype": "text/x-python",
   "name": "python",
   "nbconvert_exporter": "python",
   "pygments_lexer": "ipython3",
   "version": "3.7.4"
  },
  "orig_nbformat": 2,
  "kernelspec": {
   "name": "python374jvsc74a57bd0a9b83ec4160fc914f5169c2fc0bc9ab1c02e189a457abfa966969b692f6336e9",
   "display_name": "Python 3.7.4 64-bit"
  },
  "metadata": {
   "interpreter": {
    "hash": "a9b83ec4160fc914f5169c2fc0bc9ab1c02e189a457abfa966969b692f6336e9"
   }
  }
 },
 "nbformat": 4,
 "nbformat_minor": 2,
 "cells": [
  {
   "cell_type": "code",
   "execution_count": null,
   "metadata": {},
   "outputs": [],
   "source": [
    "# Una colección:\n",
    "# 1. Lista\n",
    "# 2. Tupla\n",
    "# 3. Conjunto\n",
    "# 4. String\n",
    "# 5. Diccionario"
   ]
  },
  {
   "cell_type": "code",
   "execution_count": 4,
   "metadata": {},
   "outputs": [
    {
     "output_type": "execute_result",
     "data": {
      "text/plain": [
       "{9: {'v': 22}}"
      ]
     },
     "metadata": {},
     "execution_count": 4
    }
   ],
   "source": [
    "#cambiar un valor de un diccionario dentro de otro \n",
    "# cambiar el 22\n",
    "\n",
    "x = {9:{\"v\":22}}\n",
    "\n",
    "x"
   ]
  },
  {
   "cell_type": "code",
   "execution_count": 5,
   "metadata": {},
   "outputs": [
    {
     "output_type": "execute_result",
     "data": {
      "text/plain": [
       "{9: {'v': 23}}"
      ]
     },
     "metadata": {},
     "execution_count": 5
    }
   ],
   "source": [
    "#actualizamos el valor de la clave \"v\" a 23 accediendo primero a la key y luego a la otra key interna\n",
    "\n",
    "x[9][\"v\"]=23\n",
    "x"
   ]
  },
  {
   "cell_type": "code",
   "execution_count": 10,
   "metadata": {},
   "outputs": [
    {
     "output_type": "execute_result",
     "data": {
      "text/plain": [
       "{9: {'v': 23, 'z': 1}, 'new': 1}"
      ]
     },
     "metadata": {},
     "execution_count": 10
    }
   ],
   "source": [
    "x[9][\"z\"]=1 #añadir un nuevo elemento al diccionario que es el valor de la clave 9\n",
    "x"
   ]
  },
  {
   "cell_type": "code",
   "execution_count": 12,
   "metadata": {},
   "outputs": [
    {
     "output_type": "execute_result",
     "data": {
      "text/plain": [
       "{9: {'v': 23, 'z': 2}, 'new': 1}"
      ]
     },
     "metadata": {},
     "execution_count": 12
    }
   ],
   "source": [
    "#para acceder al valor 1 del z se hace una suma o resta u operación despues de la x va el acceso\n",
    "x[9][\"z\"]=x[9][\"z\"]+1\n",
    "x"
   ]
  },
  {
   "cell_type": "code",
   "execution_count": 7,
   "metadata": {},
   "outputs": [
    {
     "output_type": "execute_result",
     "data": {
      "text/plain": [
       "{9: {'v': 23}, 'new': 1}"
      ]
     },
     "metadata": {},
     "execution_count": 7
    }
   ],
   "source": [
    "x[\"new\"]=1\n",
    "x"
   ]
  },
  {
   "cell_type": "code",
   "execution_count": 9,
   "metadata": {},
   "outputs": [
    {
     "output_type": "execute_result",
     "data": {
      "text/plain": [
       "{9: {'v': 23, 'z': 1}, 'new': 1}"
      ]
     },
     "metadata": {},
     "execution_count": 9
    }
   ],
   "source": [
    "x[9][\"z\"]=1\n",
    "x"
   ]
  },
  {
   "cell_type": "code",
   "execution_count": 14,
   "metadata": {},
   "outputs": [
    {
     "output_type": "execute_result",
     "data": {
      "text/plain": [
       "{True, 9, 33}"
      ]
     },
     "metadata": {},
     "execution_count": 14
    }
   ],
   "source": [
    "#mediante un for, mostrar el valor 33\n",
    "\n",
    "Y = [set((list(x.items())[0][0], True,33)),44]\n",
    "Y[0]"
   ]
  },
  {
   "cell_type": "code",
   "execution_count": 15,
   "metadata": {},
   "outputs": [
    {
     "output_type": "execute_result",
     "data": {
      "text/plain": [
       "{2, 4, 'x'}"
      ]
     },
     "metadata": {},
     "execution_count": 15
    }
   ],
   "source": [
    "s = set([2,4,\"x\"])\n",
    "s"
   ]
  },
  {
   "cell_type": "code",
   "execution_count": 16,
   "metadata": {},
   "outputs": [
    {
     "output_type": "stream",
     "name": "stdout",
     "text": [
      "x\n2\n4\n"
     ]
    }
   ],
   "source": [
    "#se puede acceder al conjunto con un for, convirtiendo a lista tambien\n",
    "for elem in s:\n",
    "    print(elem)"
   ]
  },
  {
   "cell_type": "code",
   "execution_count": 20,
   "metadata": {},
   "outputs": [
    {
     "output_type": "stream",
     "name": "stdout",
     "text": [
      "33\n"
     ]
    }
   ],
   "source": [
    "#respuesta por por posición es mas larga\n",
    "for i in range(len(Y)):\n",
    "    if i == 0: # si es la primera posición \n",
    "        for elem in Y[i]:\n",
    "            if elem == 33:\n",
    "                print(elem)"
   ]
  },
  {
   "cell_type": "code",
   "execution_count": 24,
   "metadata": {},
   "outputs": [
    {
     "output_type": "stream",
     "name": "stdout",
     "text": [
      "33\n"
     ]
    }
   ],
   "source": [
    "#respuesta en for por valor esta es mejor por que es mas corta, se puede acceder mediante valor del elemento, el conjunto si se puede recorrer\n",
    "for v_elem in Y[0]:\n",
    "    if v_elem == 33:\n",
    "        print(v_elem)"
   ]
  },
  {
   "cell_type": "code",
   "execution_count": 25,
   "metadata": {},
   "outputs": [
    {
     "output_type": "stream",
     "name": "stdout",
     "text": [
      "33\n"
     ]
    }
   ],
   "source": [
    "# Si queremos acceder mediante el tipo del conjunto y no sabemos por ejemplo la posición, lo vamos condicionando a preguntar sobre el tipo de variable que tiene\n",
    "for v_elem in Y:\n",
    "    if isinstance(v_elem, set):#comprobar si es un conjunto y recorrerlo\n",
    "        for v in v_elem: # por cada uno de los elementos de este conjunto\n",
    "            if v == 33:\n",
    "                print(v)\n",
    "        "
   ]
  },
  {
   "cell_type": "code",
   "execution_count": 29,
   "metadata": {},
   "outputs": [
    {
     "output_type": "stream",
     "name": "stdout",
     "text": [
      "[[9, True, 34], 44]\n"
     ]
    },
    {
     "output_type": "execute_result",
     "data": {
      "text/plain": [
       "[{True, 9, 34}, 44]"
      ]
     },
     "metadata": {},
     "execution_count": 29
    }
   ],
   "source": [
    "\n",
    "### AQUI ESTAMOS LLENDO DIRECTAMENTE POR QUE SABEMOS LA POSICION DEL CONJUNTO QUE QUEREMOS CAMBIAR\n",
    "##Para cambiar un valor de un conjunto\n",
    "#Transformar ese conjunto a lista\n",
    "Y[0]= list(Y[0]) #Transformar ese conjunto a lista\n",
    "Y[0][-1] = 34 #aqui le estamos agregando unnuevo valor a esa lista\n",
    "print(Y)\n",
    "Y[0] = set((Y[0]))\n",
    "Y"
   ]
  },
  {
   "cell_type": "code",
   "execution_count": null,
   "metadata": {},
   "outputs": [],
   "source": [
    "### SI NO SE LA POSICIÓN PUEDO SABERLA CON UN FOR Y POR VALOR Y POSICIÓN\n",
    "#cuando se llega a saber que el elemento es el 33, ahi eso se cambia \n",
    "#VAMOS A PASAR DE ESTE EJEMPLO, QUE ES SACAR LAS POSICIONES DE UN ELEMENTO A TRAVES DE DOS FOR Y LUEGO SE CAMBIA A LISTA \n",
    "\n",
    "posicion_de_Y = None\n",
    "posicion_de_v_elem =  None\n",
    "\n",
    "for pos1, v_elem in enumerate(Y):\n",
    "    if isinstance(v_elem, set):\n",
    "        for pos2, v in (v_elem): \n",
    "            if v == 33:\n",
    "                print(v)\n",
    "        "
   ]
  },
  {
   "cell_type": "code",
   "execution_count": 31,
   "metadata": {},
   "outputs": [
    {
     "output_type": "execute_result",
     "data": {
      "text/plain": [
       "(77, {-120: [set(), 'Data Scientist']})"
      ]
     },
     "metadata": {},
     "execution_count": 31
    }
   ],
   "source": [
    "Z = (77, {-120: [set(), \"Data Scientist\"]})\n",
    "Z"
   ]
  },
  {
   "cell_type": "code",
   "execution_count": 32,
   "metadata": {},
   "outputs": [
    {
     "output_type": "execute_result",
     "data": {
      "text/plain": [
       "'e'"
      ]
     },
     "metadata": {},
     "execution_count": 32
    }
   ],
   "source": [
    "#VAMOS A ACCEDER AL VALOR E DE DATA SCIENTIST\n",
    "# Para acceder a ese elemento, vemos donde esta ubicado\n",
    "#LUEGO ACCEDEMOS AL DICCIONARIO A TRAVES DE LA CLAVE\n",
    "#PONEMOS LA POSICION DE LA VARIABLE EN LA LISTA Y LUEGO LA POSICION DE LA LETRA\n",
    "Z[1][-120][1][8]"
   ]
  },
  {
   "cell_type": "code",
   "execution_count": 33,
   "metadata": {},
   "outputs": [],
   "source": [
    "conjuntos = {10: (85, \"TV\", True), \"K\": [(6, [False],22)], (6,5):{True,9,33},\"Data Scientist\":{9:{\"v\":22}}, (9, True, 33): (77,{-120:[set(), \"Data Scientist\"]}), \"last\":\"t\"}"
   ]
  },
  {
   "cell_type": "code",
   "execution_count": 39,
   "metadata": {},
   "outputs": [
    {
     "output_type": "stream",
     "name": "stdout",
     "text": [
      "99\n"
     ]
    }
   ],
   "source": [
    "#SUMAR EL 22 de la clave \"Data Scientist\" con el 77\n",
    "veintidos = conjuntos[\"Data Scientist\"][9][\"v\"]\n",
    "veintidos\n",
    "veintisiete = conjuntos[(9, True, 33)][0]\n",
    "veintisiete\n",
    "total = veintidos + veintisiete\n",
    "print(total)\n"
   ]
  },
  {
   "cell_type": "code",
   "execution_count": 42,
   "metadata": {},
   "outputs": [
    {
     "output_type": "execute_result",
     "data": {
      "text/plain": [
       "43"
      ]
     },
     "metadata": {},
     "execution_count": 42
    }
   ],
   "source": [
    "#Función que te devuelva la suma de las claves 10 y 33(dentro de tupla), vamos accediendo poco a poco mediante las posiciones a valores especificos\n",
    "\n",
    "#Para acceder directamente a las claes pongo .keys ahi me accede a todas las claves de mi diccionario\n",
    "list(conjuntos.keys())[0] #el diccionario no alberga posicion pero al pasarlo a lista ya tenemos una posición\n",
    "\n",
    "#tengo una mala praxis aqui, no se puede utilizar una variable de fuera de la función, es mejor tener una dentro directamente, por eso se cambia a la siguiente función con la variable de dentro, en el siguiente punto\n",
    "\n",
    "def suma_clave(diccionario):\n",
    "    diez = list(conjuntos.keys())[0]\n",
    "    treinta_tres = list(conjuntos.keys())[4][2]\n",
    "    suma = diez + treinta_tres\n",
    "\n",
    "    return suma\n",
    "\n",
    "suma_clave(diccionario=conjuntos)"
   ]
  },
  {
   "cell_type": "code",
   "execution_count": 43,
   "metadata": {},
   "outputs": [
    {
     "output_type": "execute_result",
     "data": {
      "text/plain": [
       "43"
      ]
     },
     "metadata": {},
     "execution_count": 43
    }
   ],
   "source": [
    "#se cambia la palabra conjuntos por diccionarios y está correcto \n",
    "\n",
    "def suma_clave(diccionario):\n",
    "    diez = list(diccionario.keys())[0]\n",
    "    treinta_tres = list(diccionario.keys())[4][2]\n",
    "    suma = diez + treinta_tres\n",
    "\n",
    "    return suma\n",
    "\n",
    "suma_clave(diccionario=conjuntos)"
   ]
  },
  {
   "cell_type": "code",
   "execution_count": null,
   "metadata": {},
   "outputs": [],
   "source": [
    "def f_upper(word):\n",
    "    return word.upper()\n",
    "s = \"hola\"\n",
    "f_upper(s)"
   ]
  },
  {
   "cell_type": "code",
   "execution_count": null,
   "metadata": {},
   "outputs": [],
   "source": [
    "def shout(text): \n",
    "    return text.upper() \n",
    "\n",
    "def whisper(text): \n",
    "    return text.lower() \n",
    "\n",
    "def greet(func): \n",
    "    # storing the function in a variable \n",
    "    greeting = func(text=\"Hi, I am created by a function passed as an argument.\") \n",
    "    print(greeting)\n",
    "\n",
    "greet(func=shout) \n",
    "greet(whisper)"
   ]
  },
  {
   "cell_type": "code",
   "execution_count": 44,
   "metadata": {},
   "outputs": [
    {
     "output_type": "stream",
     "name": "stdout",
     "text": [
      "HOLA\n"
     ]
    }
   ],
   "source": [
    "def up(text):\n",
    "    return text.upper()\n",
    "\n",
    "def f_recibe_funcion(func):\n",
    "    print(func(\"Hola\"))\n",
    "\n",
    "f_recibe_funcion(func=up)"
   ]
  },
  {
   "cell_type": "code",
   "execution_count": null,
   "metadata": {},
   "outputs": [],
   "source": [
    "up(text=\"Hola\") -----> \"La llamada a la función up (lo que retorna up)"
   ]
  },
  {
   "cell_type": "code",
   "execution_count": 52,
   "metadata": {},
   "outputs": [
    {
     "output_type": "stream",
     "name": "stdout",
     "text": [
      "HOLA\n"
     ]
    }
   ],
   "source": [
    "#si se usa una función dentro de una función hay que tener cuidado con los argumentos\n",
    "## aqui cambiabamos el argumento de func y le poniamos nombre, y si llalmabamos la función con dos sale error por que ya le estabmos asignando un retorno string\n",
    "\n",
    "def up(text):\n",
    "    return text.upper()\n",
    "\n",
    "def dos(num_string):\n",
    "    return num_string\n",
    "\n",
    "def f_recibe_funcion(func):\n",
    "    print(func(\"Hola\"))\n",
    "\n",
    "f_recibe_funcion(func=up)"
   ]
  },
  {
   "cell_type": "code",
   "execution_count": 57,
   "metadata": {},
   "outputs": [
    {
     "output_type": "stream",
     "name": "stdout",
     "text": [
      "24\n"
     ]
    }
   ],
   "source": [
    "#RESOLUCION DE EJERCICIO 5 EL ULTIMO\n",
    "\n",
    "primer_numero = int(input(\"Escribe el PRIMER número:\"))\n",
    "segundo_numero = int(input(\"Escribe el SEGUNDO número:\"))\n",
    "primera_operación = input(\"Escribe un operador(+, -, *, /)\")\n",
    "segunda_operación = input(\"Escribe otro operador(+, -, *, /)\")\n",
    "\n",
    "operaciones = [primera_operación, segunda_operación]\n",
    "\n",
    "for operacion_elegida in operaciones:\n",
    "    if primera_operación ==\"+\":\n",
    "        resultado = suma(arg1=primer_numero, arg2=segundo_numero)\n",
    "    elif primera_operación ==\"-\":\n",
    "        resultado = resta(arg1=primer_numero, arg2=segundo_numero)\n",
    "    elif primera_operación ==\"*\":\n",
    "        resultado = multiplicacion(arg1=primer_numero, arg2=segundo_numero)\n",
    "    elif primera_operación ==\"/\":\n",
    "        resultado = ivision(arg1=primer_numero, arg2=segundo_numero)\n",
    "    else: #por si haya puesto alguna otra cosa que no sea eso que e ha pedido\n",
    "        print(\"Escribe otro tipo de operacion (+, -, *, /\")\n",
    "\n",
    "print(resultado) # es casi igual que poner print en cada operacion en vez de resultado\n",
    "\n",
    "\n"
   ]
  },
  {
   "cell_type": "code",
   "execution_count": null,
   "metadata": {},
   "outputs": [],
   "source": [
    "## Para meter todo eso en una funcion, todo lo anterior. Con la función main, esa función hace todo \n",
    "\n",
    "def main():\n",
    "    primer_numero = int(input(\"Escribe el PRIMER número:\"))\n",
    "segundo_numero = int(input(\"Escribe el SEGUNDO número:\"))\n",
    "primera_operación = input(\"Escribe un operador(+, -, *, /)\")\n",
    "segunda_operación = input(\"Escribe otro operador(+, -, *, /)\")\n",
    "\n",
    "operaciones = [primera_operación, segunda_operación]\n",
    "\n",
    "for operacion_elegida in operaciones:\n",
    "    if primera_operación ==\"+\":\n",
    "        resultado = suma(arg1=primer_numero, arg2=segundo_numero)\n",
    "    elif primera_operación ==\"-\":\n",
    "        resultado = resta(arg1=primer_numero, arg2=segundo_numero)\n",
    "    elif primera_operación ==\"*\":\n",
    "        resultado = multiplicacion(arg1=primer_numero, arg2=segundo_numero)\n",
    "    elif primera_operación ==\"/\":\n",
    "        resultado = ivision(arg1=primer_numero, arg2=segundo_numero)\n",
    "    else: #por si haya puesto alguna otra cosa que no sea eso que e ha pedido\n",
    "        print(\"Escribe otro tipo de operacion (+, -, *, /\")\n",
    "\n",
    "print(resultado) # es casi igual que poner print en cada operacion en vez de resultado\n",
    "\n",
    "main()"
   ]
  },
  {
   "cell_type": "code",
   "execution_count": 58,
   "metadata": {},
   "outputs": [
    {
     "output_type": "stream",
     "name": "stdout",
     "text": [
      "30\n"
     ]
    }
   ],
   "source": [
    "primer_numero = int(input(\"Escribe el PRIMER número:\"))\n",
    "segundo_numero = int(input(\"Escribe el SEGUNDO número:\"))\n",
    "primera_operación = input(\"Escribe un operador(+, -, *, /)\")\n",
    "segunda_operación = input(\"Escribe otro operador(+, -, *, /)\")\n",
    "\n",
    "if primera_operación ==\"+\":\n",
    "    resultado = suma(arg1=primer_numero, arg2=segundo_numero)\n",
    "elif primera_operación ==\"-\":\n",
    "    resultado = resta(arg1=primer_numero, arg2=segundo_numero)\n",
    "elif primera_operación ==\"*\":\n",
    "    resultado = multiplicacion(arg1=primer_numero, arg2=segundo_numero)\n",
    "elif primera_operación ==\"/\":\n",
    "    resultado = ivision(arg1=primer_numero, arg2=segundo_numero)\n",
    "else: #por si haya puesto alguna otra cosa que no sea eso que e ha pedido\n",
    "    print(\"Escribe otro tipo de operacion (+, -, *, /\")\n",
    "\n",
    "print(resultado) # es casi igual que poner print en cada operacion en vez de resultado\n",
    "\n"
   ]
  },
  {
   "cell_type": "code",
   "execution_count": 1,
   "metadata": {},
   "outputs": [
    {
     "output_type": "error",
     "ename": "SyntaxError",
     "evalue": "invalid syntax (<ipython-input-1-616bc1defa96>, line 1)",
     "traceback": [
      "\u001b[1;36m  File \u001b[1;32m\"<ipython-input-1-616bc1defa96>\"\u001b[1;36m, line \u001b[1;32m1\u001b[0m\n\u001b[1;33m    dir(list[])\u001b[0m\n\u001b[1;37m             ^\u001b[0m\n\u001b[1;31mSyntaxError\u001b[0m\u001b[1;31m:\u001b[0m invalid syntax\n"
     ]
    }
   ],
   "source": [
    "dir(list[])"
   ]
  },
  {
   "cell_type": "code",
   "execution_count": 3,
   "metadata": {},
   "outputs": [
    {
     "output_type": "execute_result",
     "data": {
      "text/plain": [
       "['__add__',\n",
       " '__class__',\n",
       " '__contains__',\n",
       " '__delattr__',\n",
       " '__delitem__',\n",
       " '__dir__',\n",
       " '__doc__',\n",
       " '__eq__',\n",
       " '__format__',\n",
       " '__ge__',\n",
       " '__getattribute__',\n",
       " '__getitem__',\n",
       " '__gt__',\n",
       " '__hash__',\n",
       " '__iadd__',\n",
       " '__imul__',\n",
       " '__init__',\n",
       " '__init_subclass__',\n",
       " '__iter__',\n",
       " '__le__',\n",
       " '__len__',\n",
       " '__lt__',\n",
       " '__mul__',\n",
       " '__ne__',\n",
       " '__new__',\n",
       " '__reduce__',\n",
       " '__reduce_ex__',\n",
       " '__repr__',\n",
       " '__reversed__',\n",
       " '__rmul__',\n",
       " '__setattr__',\n",
       " '__setitem__',\n",
       " '__sizeof__',\n",
       " '__str__',\n",
       " '__subclasshook__',\n",
       " 'append',\n",
       " 'clear',\n",
       " 'copy',\n",
       " 'count',\n",
       " 'extend',\n",
       " 'index',\n",
       " 'insert',\n",
       " 'pop',\n",
       " 'remove',\n",
       " 'reverse',\n",
       " 'sort']"
      ]
     },
     "metadata": {},
     "execution_count": 3
    }
   ],
   "source": [
    "dir([])"
   ]
  },
  {
   "cell_type": "code",
   "execution_count": 4,
   "metadata": {},
   "outputs": [
    {
     "output_type": "execute_result",
     "data": {
      "text/plain": [
       "194.87171000000015"
      ]
     },
     "metadata": {},
     "execution_count": 4
    }
   ],
   "source": [
    "suma = 100 * 1.1 * 1.1 * 1.1 * 1.1 * 1.1 *1.1 *1.1 \n",
    "suma"
   ]
  },
  {
   "cell_type": "code",
   "execution_count": 5,
   "metadata": {},
   "outputs": [
    {
     "output_type": "execute_result",
     "data": {
      "text/plain": [
       "100000000000000"
      ]
     },
     "metadata": {},
     "execution_count": 5
    }
   ],
   "source": [
    "operac = 100**1.1\n",
    "operac"
   ]
  },
  {
   "cell_type": "code",
   "execution_count": null,
   "metadata": {},
   "outputs": [],
   "source": []
  }
 ]
}