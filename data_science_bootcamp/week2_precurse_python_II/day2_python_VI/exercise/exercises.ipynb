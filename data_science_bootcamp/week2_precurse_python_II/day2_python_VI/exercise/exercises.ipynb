{
 "metadata": {
  "language_info": {
   "codemirror_mode": {
    "name": "ipython",
    "version": 3
   },
   "file_extension": ".py",
   "mimetype": "text/x-python",
   "name": "python",
   "nbconvert_exporter": "python",
   "pygments_lexer": "ipython3",
   "version": "3.7.4-final"
  },
  "orig_nbformat": 2,
  "kernelspec": {
   "name": "python374jvsc74a57bd0a9b83ec4160fc914f5169c2fc0bc9ab1c02e189a457abfa966969b692f6336e9",
   "display_name": "Python 3.7.4 64-bit"
  },
  "metadata": {
   "interpreter": {
    "hash": "a9b83ec4160fc914f5169c2fc0bc9ab1c02e189a457abfa966969b692f6336e9"
   }
  }
 },
 "nbformat": 4,
 "nbformat_minor": 2,
 "cells": [
  {
   "cell_type": "code",
   "execution_count": 6,
   "metadata": {},
   "outputs": [],
   "source": [
    "X = {9: {\"v\": 22}}\n",
    "Y = [set((list(X.items())[0][0], True, 33)), 44]\n",
    "Z = (77, {-120: [set(), \"Data Scientist\"]})\n"
   ]
  },
  {
   "cell_type": "code",
   "execution_count": 5,
   "metadata": {},
   "outputs": [
    {
     "output_type": "execute_result",
     "data": {
      "text/plain": [
       "{10: (85, 'TV', True),\n",
       " 'K': [(6, [False], 22)],\n",
       " (6, 5): {True, 9, 33},\n",
       " 'Data Scientist': {9: {'v': 22}},\n",
       " (9, True, 33): (77, {-120: [set(), 'Data Scientist']}),\n",
       " 'last': 't'}"
      ]
     },
     "metadata": {},
     "execution_count": 5
    }
   ],
   "source": [
    "conjuntos = {\n",
    "10: (85, \"TV\", True),\n",
    "\"K\": [(6, [2<1], X[9][\"v\"])] ,\n",
    "(6,5): Y[0],\n",
    "Z[1][-120][1]: X,\n",
    "tuple(list(Y[0])): Z,\n",
    "\"last\": list(Z[1].values())[0][1][-1]\n",
    "}\n",
    "conjuntos"
   ]
  },
  {
   "cell_type": "code",
   "execution_count": 37,
   "metadata": {},
   "outputs": [
    {
     "output_type": "execute_result",
     "data": {
      "text/plain": [
       "[(9, {'v': 22})]"
      ]
     },
     "metadata": {},
     "execution_count": 37
    }
   ],
   "source": [
    "X = {9: {\"v\": 22}}\n",
    "list(X.items())"
   ]
  },
  {
   "cell_type": "code",
   "execution_count": 38,
   "metadata": {},
   "outputs": [
    {
     "output_type": "stream",
     "name": "stdout",
     "text": [
      "(9, {'v': 22})\n"
     ]
    }
   ],
   "source": [
    "for t in X.items():\n",
    "    print(t)"
   ]
  },
  {
   "cell_type": "code",
   "execution_count": 40,
   "metadata": {},
   "outputs": [
    {
     "output_type": "stream",
     "name": "stdout",
     "text": [
      "{'v': 22}\n9\n"
     ]
    }
   ],
   "source": [
    "for k, v in X.items():\n",
    "    print(v)\n",
    "    print(k)"
   ]
  },
  {
   "cell_type": "code",
   "execution_count": null,
   "metadata": {},
   "outputs": [],
   "source": [
    "x, y = 2, 4"
   ]
  },
  {
   "cell_type": "code",
   "execution_count": 41,
   "metadata": {},
   "outputs": [
    {
     "output_type": "execute_result",
     "data": {
      "text/plain": [
       "(2, 4)"
      ]
     },
     "metadata": {},
     "execution_count": 41
    }
   ],
   "source": [
    "t = 2, 4\n",
    "t"
   ]
  },
  {
   "cell_type": "code",
   "execution_count": 42,
   "metadata": {},
   "outputs": [
    {
     "output_type": "stream",
     "name": "stdout",
     "text": [
      "(4, 'x')\n"
     ]
    }
   ],
   "source": [
    "def items():\n",
    "    return 4, \"x\"\n",
    "\n",
    "z = items()\n",
    "print(z)"
   ]
  },
  {
   "cell_type": "code",
   "execution_count": 55,
   "metadata": {},
   "outputs": [
    {
     "output_type": "execute_result",
     "data": {
      "text/plain": [
       "{9: {'v': 22}}"
      ]
     },
     "metadata": {},
     "execution_count": 55
    }
   ],
   "source": [
    "# Cambiar un valor de un diccionario dentro de otro\n",
    "# Cambiar el 22\n",
    "X = {9: {\"v\": 22}}\n",
    "X"
   ]
  },
  {
   "cell_type": "code",
   "execution_count": 56,
   "metadata": {},
   "outputs": [
    {
     "output_type": "execute_result",
     "data": {
      "text/plain": [
       "{9: {'v': 23}}"
      ]
     },
     "metadata": {},
     "execution_count": 56
    }
   ],
   "source": [
    "# actualizamos el valor de la clave \"v\" a 23\n",
    "X[9][\"v\"] = 23\n",
    "X"
   ]
  },
  {
   "cell_type": "code",
   "execution_count": 7,
   "metadata": {},
   "outputs": [
    {
     "output_type": "execute_result",
     "data": {
      "text/plain": [
       "{9: {'v': 22, 'z': 1}}"
      ]
     },
     "metadata": {},
     "execution_count": 7
    }
   ],
   "source": [
    "# Añadir un nuevo elemento al diccionario que es el valor de la clave9\n",
    "X[9][\"z\"] = 1\n",
    "X"
   ]
  },
  {
   "cell_type": "code",
   "execution_count": 8,
   "metadata": {},
   "outputs": [
    {
     "output_type": "execute_result",
     "data": {
      "text/plain": [
       "{9: {'v': 22, 'z': 2}}"
      ]
     },
     "metadata": {},
     "execution_count": 8
    }
   ],
   "source": [
    "# Sumar uno al valor de 'z' = 1\n",
    "X[9][\"z\"] = X[9][\"z\"] + 1\n",
    "X"
   ]
  },
  {
   "cell_type": "code",
   "execution_count": 9,
   "metadata": {},
   "outputs": [
    {
     "output_type": "execute_result",
     "data": {
      "text/plain": [
       "list"
      ]
     },
     "metadata": {},
     "execution_count": 9
    }
   ],
   "source": [
    "# Mediante un for, mostrar el valor 33\n",
    "\n",
    "Y = [set((list(X.items())[0][0], True, 33)), 44]\n",
    "type(Y)\n",
    "#list(Y[0])[-1]"
   ]
  },
  {
   "cell_type": "code",
   "execution_count": 73,
   "metadata": {},
   "outputs": [
    {
     "output_type": "stream",
     "name": "stdout",
     "text": [
      "33\n"
     ]
    }
   ],
   "source": [
    "# for por posición\n",
    "# for por valor\n",
    "for i in range(len(Y)):\n",
    "    if i == 0:  # Si es la primera posición\n",
    "        for elem in Y[i]:\n",
    "            if elem == 33:  \n",
    "                print(elem)"
   ]
  },
  {
   "cell_type": "code",
   "execution_count": 74,
   "metadata": {},
   "outputs": [
    {
     "output_type": "execute_result",
     "data": {
      "text/plain": [
       "{True, 9, 33}"
      ]
     },
     "metadata": {},
     "execution_count": 74
    }
   ],
   "source": [
    "Y[0]"
   ]
  },
  {
   "cell_type": "code",
   "execution_count": 77,
   "metadata": {},
   "outputs": [
    {
     "output_type": "execute_result",
     "data": {
      "text/plain": [
       "[{True, 9, 33}, 44]"
      ]
     },
     "metadata": {},
     "execution_count": 77
    }
   ],
   "source": [
    "Y"
   ]
  },
  {
   "cell_type": "code",
   "execution_count": 76,
   "metadata": {},
   "outputs": [
    {
     "output_type": "stream",
     "name": "stdout",
     "text": [
      "33\n"
     ]
    }
   ],
   "source": [
    "# for por valor\n",
    "for v_elem in Y[0]:\n",
    "    if v_elem == 33:\n",
    "        print(v_elem)"
   ]
  },
  {
   "cell_type": "code",
   "execution_count": 82,
   "metadata": {},
   "outputs": [
    {
     "output_type": "stream",
     "name": "stdout",
     "text": [
      "33\n"
     ]
    }
   ],
   "source": [
    "# for por valor\n",
    "for v_elem in Y:\n",
    "    if isinstance(v_elem, set):\n",
    "        for v in v_elem:\n",
    "            if v == 33:\n",
    "                print(v)"
   ]
  },
  {
   "cell_type": "code",
   "execution_count": null,
   "metadata": {},
   "outputs": [],
   "source": [
    "posicion_de_Y = None\n",
    "posicion_de_v_elem = None\n",
    "\n",
    "# for por valor y posición\n",
    "for pos1, v_elem in enumerate(Y):\n",
    "    if isinstance(v_elem, set):\n",
    "        for pos2, v in enumerate(v_elem):\n",
    "            if v == 33:\n",
    "                print(v)\n",
    "                posicion_de_Y = pos1\n",
    "                posicion_de_v_elem = pos2\n",
    "\n",
    "        "
   ]
  },
  {
   "cell_type": "code",
   "execution_count": null,
   "metadata": {},
   "outputs": [],
   "source": []
  },
  {
   "cell_type": "code",
   "execution_count": 94,
   "metadata": {},
   "outputs": [
    {
     "output_type": "execute_result",
     "data": {
      "text/plain": [
       "[{9, 34}, 44]"
      ]
     },
     "metadata": {},
     "execution_count": 94
    }
   ],
   "source": [
    "Y"
   ]
  },
  {
   "cell_type": "code",
   "execution_count": 93,
   "metadata": {},
   "outputs": [
    {
     "output_type": "execute_result",
     "data": {
      "text/plain": [
       "[{9, 34}, 44]"
      ]
     },
     "metadata": {},
     "execution_count": 93
    }
   ],
   "source": [
    "Y[0] = list(Y[0])\n",
    "Y[0][-1] = 34\n",
    "Y[0] = set(Y[0])\n",
    "Y"
   ]
  },
  {
   "cell_type": "code",
   "execution_count": 68,
   "metadata": {},
   "outputs": [
    {
     "output_type": "execute_result",
     "data": {
      "text/plain": [
       "{2, 4, 'x'}"
      ]
     },
     "metadata": {},
     "execution_count": 68
    }
   ],
   "source": [
    "s = set([2, 4, \"x\"])\n",
    "s"
   ]
  },
  {
   "cell_type": "code",
   "execution_count": 64,
   "metadata": {},
   "outputs": [
    {
     "output_type": "stream",
     "name": "stdout",
     "text": [
      "x\n2\n4\n"
     ]
    }
   ],
   "source": [
    "for elem in s:\n",
    "    print(elem)"
   ]
  },
  {
   "cell_type": "code",
   "execution_count": 67,
   "metadata": {},
   "outputs": [
    {
     "output_type": "execute_result",
     "data": {
      "text/plain": [
       "(2, 4)"
      ]
     },
     "metadata": {},
     "execution_count": 67
    }
   ],
   "source": [
    "l = [2, 4]\n",
    "t = tuple(l)\n",
    "t"
   ]
  },
  {
   "cell_type": "code",
   "execution_count": null,
   "metadata": {},
   "outputs": [],
   "source": []
  },
  {
   "cell_type": "code",
   "execution_count": 95,
   "metadata": {},
   "outputs": [
    {
     "output_type": "execute_result",
     "data": {
      "text/plain": [
       "(77, {-120: [set(), 'Data Scientist']})"
      ]
     },
     "metadata": {},
     "execution_count": 95
    }
   ],
   "source": [
    "Z = (77, {-120: [set(), \"Data Scientist\"]})\n",
    "Z"
   ]
  },
  {
   "cell_type": "code",
   "execution_count": 99,
   "metadata": {},
   "outputs": [
    {
     "output_type": "execute_result",
     "data": {
      "text/plain": [
       "'e'"
      ]
     },
     "metadata": {},
     "execution_count": 99
    }
   ],
   "source": [
    "# Acceder al caracter 'e' de Data Scientist \n",
    "Z[1][-120][1][8]"
   ]
  },
  {
   "cell_type": "code",
   "execution_count": 102,
   "metadata": {},
   "outputs": [
    {
     "output_type": "execute_result",
     "data": {
      "text/plain": [
       "{10: (85, 'TV', True),\n",
       " 'K': [(6, [False], 22)],\n",
       " (6, 5): {True, 9, 33},\n",
       " 'Data Scientist': {9: {'v': 22}},\n",
       " (9, True, 33): (77, {-120: [set(), 'Data Scientist']}),\n",
       " 'last': 't'}"
      ]
     },
     "metadata": {},
     "execution_count": 102
    }
   ],
   "source": [
    "conjuntos"
   ]
  },
  {
   "cell_type": "code",
   "execution_count": 114,
   "metadata": {},
   "outputs": [
    {
     "output_type": "execute_result",
     "data": {
      "text/plain": [
       "99"
      ]
     },
     "metadata": {},
     "execution_count": 114
    }
   ],
   "source": [
    "# Sumar el 22 de la clave 'Data Scientist' con el 77 \n",
    "veintidos = conjuntos['Data Scientist'][9][\"v\"]\n",
    "setenta_siete = conjuntos[(9, True, 33)][0]\n",
    "suma = veintidos + setenta_siete\n",
    "suma"
   ]
  },
  {
   "cell_type": "code",
   "execution_count": 115,
   "metadata": {},
   "outputs": [
    {
     "output_type": "execute_result",
     "data": {
      "text/plain": [
       "{10: (85, 'TV', True),\n",
       " 'K': [(6, [False], 22)],\n",
       " (6, 5): {True, 9, 33},\n",
       " 'Data Scientist': {9: {'v': 22}},\n",
       " (9, True, 33): (77, {-120: [set(), 'Data Scientist']}),\n",
       " 'last': 't'}"
      ]
     },
     "metadata": {},
     "execution_count": 115
    }
   ],
   "source": [
    "conjuntos"
   ]
  },
  {
   "cell_type": "code",
   "execution_count": 120,
   "metadata": {},
   "outputs": [
    {
     "output_type": "execute_result",
     "data": {
      "text/plain": [
       "10"
      ]
     },
     "metadata": {},
     "execution_count": 120
    }
   ],
   "source": [
    "list(conjuntos.keys())[0]"
   ]
  },
  {
   "cell_type": "code",
   "execution_count": 123,
   "metadata": {},
   "outputs": [
    {
     "output_type": "execute_result",
     "data": {
      "text/plain": [
       "33"
      ]
     },
     "metadata": {},
     "execution_count": 123
    }
   ],
   "source": [
    "list(conjuntos.keys())[4][2]"
   ]
  },
  {
   "cell_type": "code",
   "execution_count": 132,
   "metadata": {},
   "outputs": [
    {
     "output_type": "execute_result",
     "data": {
      "text/plain": [
       "[10, 'K', (6, 5), 'Data Scientist', (9, True, 33), 'last']"
      ]
     },
     "metadata": {},
     "execution_count": 132
    }
   ],
   "source": [
    "list(conjuntos.keys())"
   ]
  },
  {
   "cell_type": "code",
   "execution_count": 134,
   "metadata": {},
   "outputs": [
    {
     "output_type": "execute_result",
     "data": {
      "text/plain": [
       "{10: (85, 'TV', True),\n",
       " 'K': [(6, [False], 22)],\n",
       " (6, 5): {True, 9, 33},\n",
       " 'Data Scientist': {9: {'v': 22}},\n",
       " (9, True, 33): (77, {-120: [set(), 'Data Scientist']}),\n",
       " 'last': 't'}"
      ]
     },
     "metadata": {},
     "execution_count": 134
    }
   ],
   "source": [
    "conjuntos"
   ]
  },
  {
   "cell_type": "code",
   "execution_count": 142,
   "metadata": {},
   "outputs": [
    {
     "output_type": "stream",
     "name": "stdout",
     "text": [
      "43\n"
     ]
    }
   ],
   "source": [
    "# Función que te devuelva la suma de las claves 10 y 33(dentro de tupla)\n",
    "def suma_claves(d):\n",
    "    diez = list(d.keys())[0]\n",
    "    treinta_tres = list(d.keys())[4][2]\n",
    "    suma = diez + treinta_tres\n",
    "    return suma\n",
    "\n",
    "x = suma_claves(d=conjuntos)\n",
    "print(x)"
   ]
  },
  {
   "cell_type": "code",
   "execution_count": 112,
   "metadata": {},
   "outputs": [
    {
     "output_type": "execute_result",
     "data": {
      "text/plain": [
       "77"
      ]
     },
     "metadata": {},
     "execution_count": 112
    }
   ],
   "source": [
    "conjuntos[(9, True, 33)][0]"
   ]
  },
  {
   "cell_type": "code",
   "execution_count": 104,
   "metadata": {},
   "outputs": [
    {
     "output_type": "execute_result",
     "data": {
      "text/plain": [
       "(85, 'TV', True)"
      ]
     },
     "metadata": {},
     "execution_count": 104
    }
   ],
   "source": [
    "conjuntos[10]"
   ]
  },
  {
   "cell_type": "code",
   "execution_count": null,
   "metadata": {},
   "outputs": [],
   "source": []
  },
  {
   "cell_type": "code",
   "execution_count": 12,
   "metadata": {},
   "outputs": [
    {
     "output_type": "execute_result",
     "data": {
      "text/plain": [
       "'t'"
      ]
     },
     "metadata": {},
     "execution_count": 12
    }
   ],
   "source": [
    "list(Z[1].values())[0][1][-1]"
   ]
  },
  {
   "cell_type": "code",
   "execution_count": null,
   "metadata": {},
   "outputs": [],
   "source": [
    "list(Z[1].values())[0][1][-1]"
   ]
  },
  {
   "cell_type": "code",
   "execution_count": 13,
   "metadata": {},
   "outputs": [
    {
     "output_type": "execute_result",
     "data": {
      "text/plain": [
       "{10: (85, 'TV', True),\n",
       " 'K': [(6, [False], 22)],\n",
       " (6, 5): {True, 9, 33},\n",
       " 'Data Scientist': {9: {'v': 22}},\n",
       " (9, True, 33): (77, {-120: [set(), 'Data Scientist']}),\n",
       " 'last': 't'}"
      ]
     },
     "metadata": {},
     "execution_count": 13
    }
   ],
   "source": [
    "conjuntos"
   ]
  },
  {
   "cell_type": "code",
   "execution_count": 18,
   "metadata": {},
   "outputs": [
    {
     "output_type": "execute_result",
     "data": {
      "text/plain": [
       "[(85, 'TV', True),\n",
       " [(6, [False], 22)],\n",
       " {True, 9, 33},\n",
       " {9: {'v': 22}},\n",
       " (77, {-120: [set(), 'Data Scientist']}),\n",
       " 't']"
      ]
     },
     "metadata": {},
     "execution_count": 18
    }
   ],
   "source": [
    "# con un while, mostrar todos los values de 'conjuntos'\n",
    "\n",
    "lista_valores = list(conjuntos.values())\n",
    "lista_valores"
   ]
  },
  {
   "cell_type": "code",
   "execution_count": 19,
   "metadata": {},
   "outputs": [
    {
     "output_type": "execute_result",
     "data": {
      "text/plain": [
       "6"
      ]
     },
     "metadata": {},
     "execution_count": 19
    }
   ],
   "source": [
    "tam_lista_valores = len(lista_valores)\n",
    "tam_lista_valores"
   ]
  },
  {
   "cell_type": "code",
   "execution_count": 24,
   "metadata": {},
   "outputs": [
    {
     "output_type": "stream",
     "name": "stdout",
     "text": [
      "(85, 'TV', True)\n[(6, [False], 22)]\n{9, True, 33}\n{9: {'v': 22}}\n(77, {-120: [set(), 'Data Scientist']})\nt\n"
     ]
    }
   ],
   "source": [
    "posicion = 0\n",
    "while posicion < tam_lista_valores:  # posicion < 6\n",
    "    print(lista_valores[posicion])\n",
    "    posicion += 1"
   ]
  },
  {
   "cell_type": "code",
   "execution_count": null,
   "metadata": {},
   "outputs": [],
   "source": []
  }
 ]
}