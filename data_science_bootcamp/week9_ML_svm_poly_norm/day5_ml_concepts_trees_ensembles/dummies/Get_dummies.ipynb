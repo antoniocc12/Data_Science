{
 "metadata": {
  "language_info": {
   "codemirror_mode": {
    "name": "ipython",
    "version": 3
   },
   "file_extension": ".py",
   "mimetype": "text/x-python",
   "name": "python",
   "nbconvert_exporter": "python",
   "pygments_lexer": "ipython3",
   "version": "3.6.4"
  },
  "orig_nbformat": 2,
  "kernelspec": {
   "name": "python36464bitc2077ed07ea84d23aa5b518d224882ab",
   "display_name": "Python 3.6.4 64-bit"
  },
  "metadata": {
   "interpreter": {
    "hash": "5c4d2f1fdcd3716c7a5eea90ad07be30193490dd4e63617705244f5fd89ea793"
   }
  }
 },
 "nbformat": 4,
 "nbformat_minor": 2,
 "cells": [
  {
   "cell_type": "markdown",
   "metadata": {},
   "source": [
    "https://towardsdatascience.com/random-forest-in-python-24d0893d51c0"
   ]
  },
  {
   "cell_type": "code",
   "execution_count": 1,
   "metadata": {},
   "outputs": [
    {
     "output_type": "execute_result",
     "data": {
      "text/plain": [
       "     year  month  day   week  temp_2  temp_1  average  actual  forecast_noaa  \\\n",
       "0    2016      1    1    Fri      45      45     45.6      45             43   \n",
       "1    2016      1    2    Sat      44      45     45.7      44             41   \n",
       "2    2016      1    3    Sun      45      44     45.8      41             43   \n",
       "3    2016      1    4    Mon      44      41     45.9      40             44   \n",
       "4    2016      1    5   Tues      41      40     46.0      44             46   \n",
       "..    ...    ...  ...    ...     ...     ...      ...     ...            ...   \n",
       "343  2016     12   27   Tues      42      42     45.2      47             41   \n",
       "344  2016     12   28    Wed      42      47     45.3      48             41   \n",
       "345  2016     12   29  Thurs      47      48     45.3      48             43   \n",
       "346  2016     12   30    Fri      48      48     45.4      57             44   \n",
       "347  2016     12   31    Sat      48      57     45.5      40             42   \n",
       "\n",
       "     forecast_acc  forecast_under  friend  \n",
       "0              50              44      29  \n",
       "1              50              44      61  \n",
       "2              46              47      56  \n",
       "3              48              46      53  \n",
       "4              46              46      41  \n",
       "..            ...             ...     ...  \n",
       "343            50              47      47  \n",
       "344            49              44      58  \n",
       "345            50              45      65  \n",
       "346            46              44      42  \n",
       "347            48              47      57  \n",
       "\n",
       "[348 rows x 12 columns]"
      ],
      "text/html": "<div>\n<style scoped>\n    .dataframe tbody tr th:only-of-type {\n        vertical-align: middle;\n    }\n\n    .dataframe tbody tr th {\n        vertical-align: top;\n    }\n\n    .dataframe thead th {\n        text-align: right;\n    }\n</style>\n<table border=\"1\" class=\"dataframe\">\n  <thead>\n    <tr style=\"text-align: right;\">\n      <th></th>\n      <th>year</th>\n      <th>month</th>\n      <th>day</th>\n      <th>week</th>\n      <th>temp_2</th>\n      <th>temp_1</th>\n      <th>average</th>\n      <th>actual</th>\n      <th>forecast_noaa</th>\n      <th>forecast_acc</th>\n      <th>forecast_under</th>\n      <th>friend</th>\n    </tr>\n  </thead>\n  <tbody>\n    <tr>\n      <th>0</th>\n      <td>2016</td>\n      <td>1</td>\n      <td>1</td>\n      <td>Fri</td>\n      <td>45</td>\n      <td>45</td>\n      <td>45.6</td>\n      <td>45</td>\n      <td>43</td>\n      <td>50</td>\n      <td>44</td>\n      <td>29</td>\n    </tr>\n    <tr>\n      <th>1</th>\n      <td>2016</td>\n      <td>1</td>\n      <td>2</td>\n      <td>Sat</td>\n      <td>44</td>\n      <td>45</td>\n      <td>45.7</td>\n      <td>44</td>\n      <td>41</td>\n      <td>50</td>\n      <td>44</td>\n      <td>61</td>\n    </tr>\n    <tr>\n      <th>2</th>\n      <td>2016</td>\n      <td>1</td>\n      <td>3</td>\n      <td>Sun</td>\n      <td>45</td>\n      <td>44</td>\n      <td>45.8</td>\n      <td>41</td>\n      <td>43</td>\n      <td>46</td>\n      <td>47</td>\n      <td>56</td>\n    </tr>\n    <tr>\n      <th>3</th>\n      <td>2016</td>\n      <td>1</td>\n      <td>4</td>\n      <td>Mon</td>\n      <td>44</td>\n      <td>41</td>\n      <td>45.9</td>\n      <td>40</td>\n      <td>44</td>\n      <td>48</td>\n      <td>46</td>\n      <td>53</td>\n    </tr>\n    <tr>\n      <th>4</th>\n      <td>2016</td>\n      <td>1</td>\n      <td>5</td>\n      <td>Tues</td>\n      <td>41</td>\n      <td>40</td>\n      <td>46.0</td>\n      <td>44</td>\n      <td>46</td>\n      <td>46</td>\n      <td>46</td>\n      <td>41</td>\n    </tr>\n    <tr>\n      <th>...</th>\n      <td>...</td>\n      <td>...</td>\n      <td>...</td>\n      <td>...</td>\n      <td>...</td>\n      <td>...</td>\n      <td>...</td>\n      <td>...</td>\n      <td>...</td>\n      <td>...</td>\n      <td>...</td>\n      <td>...</td>\n    </tr>\n    <tr>\n      <th>343</th>\n      <td>2016</td>\n      <td>12</td>\n      <td>27</td>\n      <td>Tues</td>\n      <td>42</td>\n      <td>42</td>\n      <td>45.2</td>\n      <td>47</td>\n      <td>41</td>\n      <td>50</td>\n      <td>47</td>\n      <td>47</td>\n    </tr>\n    <tr>\n      <th>344</th>\n      <td>2016</td>\n      <td>12</td>\n      <td>28</td>\n      <td>Wed</td>\n      <td>42</td>\n      <td>47</td>\n      <td>45.3</td>\n      <td>48</td>\n      <td>41</td>\n      <td>49</td>\n      <td>44</td>\n      <td>58</td>\n    </tr>\n    <tr>\n      <th>345</th>\n      <td>2016</td>\n      <td>12</td>\n      <td>29</td>\n      <td>Thurs</td>\n      <td>47</td>\n      <td>48</td>\n      <td>45.3</td>\n      <td>48</td>\n      <td>43</td>\n      <td>50</td>\n      <td>45</td>\n      <td>65</td>\n    </tr>\n    <tr>\n      <th>346</th>\n      <td>2016</td>\n      <td>12</td>\n      <td>30</td>\n      <td>Fri</td>\n      <td>48</td>\n      <td>48</td>\n      <td>45.4</td>\n      <td>57</td>\n      <td>44</td>\n      <td>46</td>\n      <td>44</td>\n      <td>42</td>\n    </tr>\n    <tr>\n      <th>347</th>\n      <td>2016</td>\n      <td>12</td>\n      <td>31</td>\n      <td>Sat</td>\n      <td>48</td>\n      <td>57</td>\n      <td>45.5</td>\n      <td>40</td>\n      <td>42</td>\n      <td>48</td>\n      <td>47</td>\n      <td>57</td>\n    </tr>\n  </tbody>\n</table>\n<p>348 rows × 12 columns</p>\n</div>"
     },
     "metadata": {},
     "execution_count": 1
    }
   ],
   "source": [
    "# Pandas is used for data manipulation\n",
    "import pandas as pd\n",
    "# Read in data and display first 5 rows\n",
    "features = pd.read_csv('../data/temps.csv')\n",
    "# Actual column is the target\n",
    "features"
   ]
  },
  {
   "cell_type": "code",
   "execution_count": 14,
   "metadata": {},
   "outputs": [
    {
     "output_type": "execute_result",
     "data": {
      "text/plain": [
       "   average  actual  forecast_noaa  forecast_acc  forecast_under  friend  \\\n",
       "0     45.6      45             43            50              44      29   \n",
       "1     45.7      44             41            50              44      61   \n",
       "2     45.8      41             43            46              47      56   \n",
       "3     45.9      40             44            48              46      53   \n",
       "4     46.0      44             46            46              46      41   \n",
       "\n",
       "   week_Fri  week_Mon  week_Sat  week_Sun  week_Thurs  week_Tues  week_Wed  \n",
       "0         1         0         0         0           0          0         0  \n",
       "1         0         0         1         0           0          0         0  \n",
       "2         0         0         0         1           0          0         0  \n",
       "3         0         1         0         0           0          0         0  \n",
       "4         0         0         0         0           0          1         0  "
      ],
      "text/html": "<div>\n<style scoped>\n    .dataframe tbody tr th:only-of-type {\n        vertical-align: middle;\n    }\n\n    .dataframe tbody tr th {\n        vertical-align: top;\n    }\n\n    .dataframe thead th {\n        text-align: right;\n    }\n</style>\n<table border=\"1\" class=\"dataframe\">\n  <thead>\n    <tr style=\"text-align: right;\">\n      <th></th>\n      <th>average</th>\n      <th>actual</th>\n      <th>forecast_noaa</th>\n      <th>forecast_acc</th>\n      <th>forecast_under</th>\n      <th>friend</th>\n      <th>week_Fri</th>\n      <th>week_Mon</th>\n      <th>week_Sat</th>\n      <th>week_Sun</th>\n      <th>week_Thurs</th>\n      <th>week_Tues</th>\n      <th>week_Wed</th>\n    </tr>\n  </thead>\n  <tbody>\n    <tr>\n      <th>0</th>\n      <td>45.6</td>\n      <td>45</td>\n      <td>43</td>\n      <td>50</td>\n      <td>44</td>\n      <td>29</td>\n      <td>1</td>\n      <td>0</td>\n      <td>0</td>\n      <td>0</td>\n      <td>0</td>\n      <td>0</td>\n      <td>0</td>\n    </tr>\n    <tr>\n      <th>1</th>\n      <td>45.7</td>\n      <td>44</td>\n      <td>41</td>\n      <td>50</td>\n      <td>44</td>\n      <td>61</td>\n      <td>0</td>\n      <td>0</td>\n      <td>1</td>\n      <td>0</td>\n      <td>0</td>\n      <td>0</td>\n      <td>0</td>\n    </tr>\n    <tr>\n      <th>2</th>\n      <td>45.8</td>\n      <td>41</td>\n      <td>43</td>\n      <td>46</td>\n      <td>47</td>\n      <td>56</td>\n      <td>0</td>\n      <td>0</td>\n      <td>0</td>\n      <td>1</td>\n      <td>0</td>\n      <td>0</td>\n      <td>0</td>\n    </tr>\n    <tr>\n      <th>3</th>\n      <td>45.9</td>\n      <td>40</td>\n      <td>44</td>\n      <td>48</td>\n      <td>46</td>\n      <td>53</td>\n      <td>0</td>\n      <td>1</td>\n      <td>0</td>\n      <td>0</td>\n      <td>0</td>\n      <td>0</td>\n      <td>0</td>\n    </tr>\n    <tr>\n      <th>4</th>\n      <td>46.0</td>\n      <td>44</td>\n      <td>46</td>\n      <td>46</td>\n      <td>46</td>\n      <td>41</td>\n      <td>0</td>\n      <td>0</td>\n      <td>0</td>\n      <td>0</td>\n      <td>0</td>\n      <td>1</td>\n      <td>0</td>\n    </tr>\n  </tbody>\n</table>\n</div>"
     },
     "metadata": {},
     "execution_count": 14
    }
   ],
   "source": [
    "# One-hot encode the data using pandas get_dummies\n",
    "features = pd.get_dummies(features)\n",
    "# Display the first 5 rows of the last 12 columns\n",
    "features.iloc[:,5:].head(5)"
   ]
  }
 ]
}