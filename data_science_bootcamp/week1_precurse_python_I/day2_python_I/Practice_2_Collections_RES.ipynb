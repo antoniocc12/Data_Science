{
 "cells": [
  {
   "cell_type": "markdown",
   "metadata": {},
   "source": [
    "# Python | day 1 | collections"
   ]
  },
  {
   "cell_type": "markdown",
   "metadata": {},
   "source": [
    "Lists, tuples & sets"
   ]
  },
  {
   "cell_type": "markdown",
   "metadata": {},
   "source": [
    "May help you https://www.w3schools.com/python/python_ref_list.asp"
   ]
  },
  {
   "cell_type": "markdown",
   "metadata": {},
   "source": [
    "### Exercise 1. "
   ]
  },
  {
   "cell_type": "markdown",
   "metadata": {},
   "source": [
    "1. Create:\n",
    "    - a list type variable called **student_list** which contains the name of your classmates. \n",
    "\n",
    "Print the created list. "
   ]
  },
  {
   "cell_type": "code",
   "execution_count": 1,
   "metadata": {},
   "outputs": [
    {
     "data": {
      "text/plain": [
       "['Xinru Yang wang',\n",
       " 'Adrià Gallardo Viñas',\n",
       " 'Leonardo Gastón Frazzetto',\n",
       " 'Mary Cruz Meza Rivas',\n",
       " 'Isabel Palomares Tornero',\n",
       " 'Pablo Eduardo Martínez',\n",
       " 'Miguel Barquero del Pozo',\n",
       " 'Ignacio Fontal Patac',\n",
       " 'Jonathan Abbondanza Yanez',\n",
       " 'MAURO GARCIA-OLIVA',\n",
       " 'Daniel Walker',\n",
       " 'José Carlos Batista Rivero',\n",
       " 'Jorgina Garrido Casas',\n",
       " 'Juan Bayon Fernandez',\n",
       " 'Jorge García Navarro',\n",
       " 'Susana Vázquez Rodriguez',\n",
       " 'Sonia Cobo Pacios',\n",
       " 'Jonathan Suarez',\n",
       " 'Ignacio Astorga',\n",
       " 'KARINA INCHE',\n",
       " 'Pablo Diez TrujilloMarina Serrano Carot',\n",
       " 'Maryam Ghaderi',\n",
       " 'Javier Araiz Miranda',\n",
       " 'María García Maroto']"
      ]
     },
     "execution_count": 1,
     "metadata": {},
     "output_type": "execute_result"
    }
   ],
   "source": [
    "student_list = alumnos = [\"Xinru Yang wang\", \"Adrià Gallardo Viñas\", \"Leonardo Gastón Frazzetto\", \"Mary Cruz Meza Rivas\", \"Isabel Palomares Tornero\",\\\n",
    " \"Pablo Eduardo Martínez\", \"Miguel Barquero del Pozo\", \"Ignacio Fontal Patac\", \"Jonathan Abbondanza Yanez\", \"MAURO GARCIA-OLIVA\",\\\n",
    " \"Daniel Walker\", \"José Carlos Batista Rivero\", \"Jorgina Garrido Casas\", \"Juan Bayon Fernandez\", \"Jorge García Navarro\",\\\n",
    " \"Susana Vázquez Rodriguez\", \"Sonia Cobo Pacios\", \"Jonathan Suarez\", \"Ignacio Astorga\",\"KARINA INCHE\", \"Pablo Diez Trujillo\"\\\n",
    " \"Marina Serrano Carot\", \"Maryam Ghaderi\", \"Javier Araiz Miranda\", \"María García Maroto\"]\n",
    "\n",
    "\n",
    "student_list"
   ]
  },
  {
   "cell_type": "markdown",
   "metadata": {},
   "source": [
    "### Exercise 2"
   ]
  },
  {
   "cell_type": "markdown",
   "metadata": {},
   "source": [
    "1. Create an empty list, call it **empty_list**"
   ]
  },
  {
   "cell_type": "code",
   "execution_count": 2,
   "metadata": {},
   "outputs": [],
   "source": [
    "empty_list = []"
   ]
  },
  {
   "cell_type": "markdown",
   "metadata": {},
   "source": [
    "2. Create a list with 5 items, call it **my_list**"
   ]
  },
  {
   "cell_type": "code",
   "execution_count": 3,
   "metadata": {},
   "outputs": [],
   "source": [
    "my_list = ['M1 Abrams', 'M4 Sherman', 'M24 Chaffe', 'M3 Stuart', 'M3 Lee']"
   ]
  },
  {
   "cell_type": "markdown",
   "metadata": {},
   "source": [
    "3. Find the length of **my_list**\n",
    "\n"
   ]
  },
  {
   "cell_type": "code",
   "execution_count": 4,
   "metadata": {},
   "outputs": [
    {
     "data": {
      "text/plain": [
       "5"
      ]
     },
     "execution_count": 4,
     "metadata": {},
     "output_type": "execute_result"
    }
   ],
   "source": [
    "len(my_list)"
   ]
  },
  {
   "cell_type": "markdown",
   "metadata": {},
   "source": [
    "4. Get the first item, the middle item and the last item of **my_list**\n",
    "\n"
   ]
  },
  {
   "cell_type": "code",
   "execution_count": 5,
   "metadata": {},
   "outputs": [
    {
     "name": "stdout",
     "output_type": "stream",
     "text": [
      "First: M1 Abrams\n",
      "Middle: M24 Chaffe\n",
      "Last: M3 Lee\n"
     ]
    }
   ],
   "source": [
    "first = my_list[0]\n",
    "middle = my_list[int(len(my_list)/2)]\n",
    "last = my_list[-1]\n",
    "\n",
    "print (f'First: {first}\\nMiddle: {middle}\\nLast: {last}')"
   ]
  },
  {
   "cell_type": "markdown",
   "metadata": {},
   "source": [
    "5. Declare:\n",
    "    - a **name** variable and assign a value to it\n",
    "    - a **age** variable and assign a value to it\n",
    "    - a **height** variable and assign a value to it\n",
    "    - a **country** variable and assign a value to it\n",
    "    - a **python_version** variable and assign a value to it\n"
   ]
  },
  {
   "cell_type": "code",
   "execution_count": 6,
   "metadata": {},
   "outputs": [],
   "source": [
    "name = 'George S.'\n",
    "age = 60\n",
    "height = 1.68\n",
    "country = 'US'\n",
    "python_version = '3.9.0 64-bit'"
   ]
  },
  {
   "cell_type": "markdown",
   "metadata": {},
   "source": [
    "6. Create a list called **mixed_data_types** with your name, age, height, country and python_version.\n",
    "\n"
   ]
  },
  {
   "cell_type": "code",
   "execution_count": 7,
   "metadata": {},
   "outputs": [],
   "source": [
    "mixed_data_type = [name, age, height, country, python_version]"
   ]
  },
  {
   "cell_type": "markdown",
   "metadata": {},
   "source": [
    "7. Declare a list variable named **it_companies** and assign initial values Facebook, Google, Microsoft, Apple, IBM, Oracle and Amazon.\n"
   ]
  },
  {
   "cell_type": "code",
   "execution_count": 8,
   "metadata": {},
   "outputs": [],
   "source": [
    "it_companies = ['Facebook', 'Google', 'Microsoft', 'Apple', 'IBM', 'Oracle', 'Amazon']"
   ]
  },
  {
   "cell_type": "markdown",
   "metadata": {},
   "source": [
    "\n",
    "8. Print **it_companies** using print()\n",
    "\n"
   ]
  },
  {
   "cell_type": "code",
   "execution_count": 9,
   "metadata": {},
   "outputs": [
    {
     "name": "stdout",
     "output_type": "stream",
     "text": [
      "['Facebook', 'Google', 'Microsoft', 'Apple', 'IBM', 'Oracle', 'Amazon']\n"
     ]
    }
   ],
   "source": [
    "print (it_companies)"
   ]
  },
  {
   "cell_type": "markdown",
   "metadata": {},
   "source": [
    "9. Print the number of companies in the list"
   ]
  },
  {
   "cell_type": "code",
   "execution_count": 10,
   "metadata": {},
   "outputs": [
    {
     "name": "stdout",
     "output_type": "stream",
     "text": [
      "7\n"
     ]
    }
   ],
   "source": [
    "print(len(it_companies))"
   ]
  },
  {
   "cell_type": "markdown",
   "metadata": {},
   "source": [
    "11. Print *Google*"
   ]
  },
  {
   "cell_type": "code",
   "execution_count": 11,
   "metadata": {},
   "outputs": [
    {
     "name": "stdout",
     "output_type": "stream",
     "text": [
      "Google\n"
     ]
    }
   ],
   "source": [
    "print(it_companies[1])"
   ]
  },
  {
   "cell_type": "markdown",
   "metadata": {},
   "source": [
    "10. Print the first, middle and last company"
   ]
  },
  {
   "cell_type": "code",
   "execution_count": 12,
   "metadata": {},
   "outputs": [
    {
     "name": "stdout",
     "output_type": "stream",
     "text": [
      "First: Facebook\n",
      "Middle: Apple\n",
      "Last: Amazon\n"
     ]
    }
   ],
   "source": [
    "first = it_companies[0]\n",
    "middle = it_companies[int(len(it_companies)/2)]\n",
    "last = it_companies[-1]\n",
    "\n",
    "print (f'First: {first}\\nMiddle: {middle}\\nLast: {last}')"
   ]
  },
  {
   "cell_type": "markdown",
   "metadata": {},
   "source": [
    "11. Assign a new value to the last element of the list "
   ]
  },
  {
   "cell_type": "code",
   "execution_count": 13,
   "metadata": {},
   "outputs": [
    {
     "data": {
      "text/plain": [
       "'Spitting Image'"
      ]
     },
     "execution_count": 13,
     "metadata": {},
     "output_type": "execute_result"
    }
   ],
   "source": [
    "it_companies[-1] = 'Spitting Image'\n",
    "it_companies[-1]"
   ]
  },
  {
   "cell_type": "markdown",
   "metadata": {},
   "source": [
    "12. Print the list after modifying one of the companies"
   ]
  },
  {
   "cell_type": "code",
   "execution_count": 14,
   "metadata": {},
   "outputs": [
    {
     "data": {
      "text/plain": [
       "['Facebook', 'Google', 'Microsoft', 'Apple', 'IBM', 'Oracle', 'Spitting Image']"
      ]
     },
     "execution_count": 14,
     "metadata": {},
     "output_type": "execute_result"
    }
   ],
   "source": [
    "it_companies"
   ]
  },
  {
   "cell_type": "markdown",
   "metadata": {},
   "source": [
    "## Bonus track."
   ]
  },
  {
   "cell_type": "markdown",
   "metadata": {},
   "source": [
    "13. Add an IT company to **it_companies**\n",
    "\n"
   ]
  },
  {
   "cell_type": "code",
   "execution_count": 15,
   "metadata": {},
   "outputs": [],
   "source": [
    "it_companies.append('Id software')"
   ]
  },
  {
   "cell_type": "markdown",
   "metadata": {},
   "source": [
    "14. Check if *Apple* exists in the **it_companies** list."
   ]
  },
  {
   "cell_type": "code",
   "execution_count": 16,
   "metadata": {},
   "outputs": [
    {
     "name": "stdout",
     "output_type": "stream",
     "text": [
      "The TA forgot to capitalize \"apple\" above and added this...\n",
      "But, yes\n"
     ]
    }
   ],
   "source": [
    "if 'apple' in it_companies:\n",
    "    print('Yes')\n",
    "elif 'Apple' in it_companies:\n",
    "    print('The TA forgot to capitalize \"apple\" above and added this...\\nBut, yes')\n",
    "else:\n",
    "    print('No')"
   ]
  },
  {
   "cell_type": "markdown",
   "metadata": {},
   "source": [
    "15. Sort the list using `sort()` method\n",
    "\n"
   ]
  },
  {
   "cell_type": "code",
   "execution_count": 17,
   "metadata": {},
   "outputs": [
    {
     "name": "stdout",
     "output_type": "stream",
     "text": [
      "['Facebook', 'Google', 'Microsoft', 'Apple', 'IBM', 'Oracle', 'Spitting Image', 'Id software']\n",
      "['Apple', 'Facebook', 'Google', 'IBM', 'Id software', 'Microsoft', 'Oracle', 'Spitting Image']\n"
     ]
    }
   ],
   "source": [
    "print(it_companies)\n",
    "it_companies.sort()\n",
    "\n",
    "print(it_companies)"
   ]
  },
  {
   "cell_type": "markdown",
   "metadata": {},
   "source": [
    "16. Reverse the list in descending order using `reverse()` method\n",
    "\n"
   ]
  },
  {
   "cell_type": "code",
   "execution_count": 18,
   "metadata": {},
   "outputs": [
    {
     "name": "stdout",
     "output_type": "stream",
     "text": [
      "['Apple', 'Facebook', 'Google', 'IBM', 'Id software', 'Microsoft', 'Oracle', 'Spitting Image']\n",
      "['Spitting Image', 'Oracle', 'Microsoft', 'Id software', 'IBM', 'Google', 'Facebook', 'Apple']\n"
     ]
    }
   ],
   "source": [
    "print(it_companies)\n",
    "it_companies.reverse()\n",
    "\n",
    "print(it_companies)"
   ]
  },
  {
   "cell_type": "markdown",
   "metadata": {},
   "source": [
    "17. Slice out the first 3 companies from the list\n",
    "\n"
   ]
  },
  {
   "cell_type": "code",
   "execution_count": 19,
   "metadata": {},
   "outputs": [
    {
     "data": {
      "text/plain": [
       "['Spitting Image', 'Oracle', 'Microsoft']"
      ]
     },
     "execution_count": 19,
     "metadata": {},
     "output_type": "execute_result"
    }
   ],
   "source": [
    "it_companies_2 = it_companies[:3]\n",
    "it_companies_2"
   ]
  },
  {
   "cell_type": "markdown",
   "metadata": {},
   "source": [
    "18. Remove the last IT company from the list\n"
   ]
  },
  {
   "cell_type": "code",
   "execution_count": 20,
   "metadata": {},
   "outputs": [
    {
     "name": "stdout",
     "output_type": "stream",
     "text": [
      "Apple\n",
      "Facebook\n"
     ]
    }
   ],
   "source": [
    "print(it_companies[-1])\n",
    "it_companies.remove(it_companies[-1])\n",
    "\n",
    "print(it_companies[-1])"
   ]
  },
  {
   "cell_type": "markdown",
   "metadata": {},
   "source": [
    "19. Remove all IT companies from the list"
   ]
  },
  {
   "cell_type": "code",
   "execution_count": 21,
   "metadata": {},
   "outputs": [
    {
     "name": "stdout",
     "output_type": "stream",
     "text": [
      "7\n",
      "0\n"
     ]
    }
   ],
   "source": [
    "print(len(it_companies))\n",
    "it_companies.clear()\n",
    "\n",
    "print(len(it_companies))"
   ]
  },
  {
   "cell_type": "markdown",
   "metadata": {},
   "source": [
    "20. Join the following lists, and call the list **end**:\n",
    "\n",
    "```python\n",
    "front_end = [['HTML', 'CSS'], 'JS', 'React', 'Redux']\n",
    "back_end = ['Node','Express', 'MongoDB']\n",
    "```"
   ]
  },
  {
   "cell_type": "code",
   "execution_count": 22,
   "metadata": {},
   "outputs": [
    {
     "data": {
      "text/plain": [
       "[['HTML', 'CSS'], 'JS', 'React', 'Redux', 'Node', 'Express', 'MongoDB']"
      ]
     },
     "execution_count": 22,
     "metadata": {},
     "output_type": "execute_result"
    }
   ],
   "source": [
    "front_end = [['HTML', 'CSS'], 'JS', 'React', 'Redux']\n",
    "back_end = ['Node','Express', 'MongoDB']\n",
    "\n",
    "joined = front_end + back_end\n",
    "joined"
   ]
  },
  {
   "cell_type": "markdown",
   "metadata": {},
   "source": [
    "21. From the **end** list print 'HTML'"
   ]
  },
  {
   "cell_type": "code",
   "execution_count": 23,
   "metadata": {},
   "outputs": [
    {
     "name": "stdout",
     "output_type": "stream",
     "text": [
      "HTML\n"
     ]
    }
   ],
   "source": [
    "print (joined[0][0])"
   ]
  },
  {
   "cell_type": "markdown",
   "metadata": {},
   "source": [
    "22. From the end list print the 'C' from the word 'CSS'"
   ]
  },
  {
   "cell_type": "code",
   "execution_count": 24,
   "metadata": {},
   "outputs": [
    {
     "name": "stdout",
     "output_type": "stream",
     "text": [
      "C\n"
     ]
    }
   ],
   "source": [
    "print (joined[0][1][0])"
   ]
  },
  {
   "cell_type": "markdown",
   "metadata": {},
   "source": [
    "### Exercise 3. "
   ]
  },
  {
   "cell_type": "markdown",
   "metadata": {},
   "source": [
    "Do you know you can create tuples with only one element?\n",
    "\n",
    "1. In the cell below, define a variable **tup** with a single element \"T\".\n",
    "\n",
    "Hint: you need to add a comma (,) after the single element."
   ]
  },
  {
   "cell_type": "code",
   "execution_count": 25,
   "metadata": {},
   "outputs": [
    {
     "name": "stdout",
     "output_type": "stream",
     "text": [
      "('Great',)\n"
     ]
    }
   ],
   "source": [
    "tup = ('Great',)\n",
    "print(tup)"
   ]
  },
  {
   "cell_type": "markdown",
   "metadata": {},
   "source": [
    "2. Print the type of tup.\n",
    "Make sure its type is correct (i.e. tuple instead of str)."
   ]
  },
  {
   "cell_type": "code",
   "execution_count": 26,
   "metadata": {},
   "outputs": [
    {
     "name": "stdout",
     "output_type": "stream",
     "text": [
      "<class 'tuple'>\n"
     ]
    }
   ],
   "source": [
    "print(type(tup))"
   ]
  },
  {
   "cell_type": "markdown",
   "metadata": {},
   "source": [
    "3. Now try to append the following elements to **tup**.\n",
    "Are you able to do it? Explain.\n",
    "\n",
    "`\"H\", \"E\", \" \", \"B\", \"R\", \"I\", \"D\", \"G\", \"E\",`"
   ]
  },
  {
   "cell_type": "code",
   "execution_count": 27,
   "metadata": {},
   "outputs": [
    {
     "name": "stdout",
     "output_type": "stream",
     "text": [
      "('T', 'H', 'E', ' ', 'B', 'R', 'I', 'D', 'G', 'E')\n"
     ]
    }
   ],
   "source": [
    "tup = (\"T\", \"H\", \"E\", \" \", \"B\", \"R\", \"I\", \"D\", \"G\", \"E\")\n",
    "print(tup)"
   ]
  },
  {
   "cell_type": "markdown",
   "metadata": {},
   "source": [
    "4. How about re-assign a new value to an existing tuple?\n",
    "\n",
    "Re-assign the following elements to **tup**. \n",
    "\n",
    "Are you able to do it? Explain.\n",
    "\n",
    "\n",
    "`\"T\", \"H\", \"E\", \" \", \"B\", \"R\", \"I\", \"D\", \"G\", \"E\",\n",
    "\n",
    "EDIT. Reassing a value of your choice to **tup**"
   ]
  },
  {
   "cell_type": "code",
   "execution_count": 28,
   "metadata": {},
   "outputs": [
    {
     "data": {
      "text/plain": [
       "(\"It's cold outside\",\n",
       " \"There's no kind of atmosphere\",\n",
       " \"I'm all alone\",\n",
       " '... more or less')"
      ]
     },
     "execution_count": 28,
     "metadata": {},
     "output_type": "execute_result"
    }
   ],
   "source": [
    "tup = (\"It's cold outside\", \"There's no kind of atmosphere\", \"I'm all alone\", \"... more or less\")\n",
    "tup"
   ]
  },
  {
   "cell_type": "markdown",
   "metadata": {},
   "source": [
    "### Exercise 4. \n",
    "\n",
    "1. Turn **lista_repes** into a *set* in order to get only the uniques values in the list, assing it to a variable called **my_set**"
   ]
  },
  {
   "cell_type": "code",
   "execution_count": 29,
   "metadata": {},
   "outputs": [],
   "source": [
    "lista_repes = [\"data\", \"data\", \"data\", \"science\", \"science\", \"python\", \"python\", \"borja\", \"borja\", \"borja\", \"monica\", \"monica\", \"clara\", \"gabriel\", \"gabriel\", \"gabriel\"]"
   ]
  },
  {
   "cell_type": "code",
   "execution_count": 30,
   "metadata": {},
   "outputs": [
    {
     "name": "stdout",
     "output_type": "stream",
     "text": [
      "{'borja', 'clara', 'data', 'monica', 'python', 'science', 'gabriel'}\n"
     ]
    }
   ],
   "source": [
    "my_set = set(lista_repes)\n",
    "print(my_set)"
   ]
  },
  {
   "cell_type": "markdown",
   "metadata": {},
   "source": [
    "2. Try to print the first element of **my_set**\n",
    "\n",
    "You did good if you get *TypeError: 'set' object is not subscriptable*."
   ]
  },
  {
   "cell_type": "code",
   "execution_count": 31,
   "metadata": {},
   "outputs": [
    {
     "ename": "TypeError",
     "evalue": "'set' object is not subscriptable",
     "output_type": "error",
     "traceback": [
      "\u001b[1;31m---------------------------------------------------------------------------\u001b[0m",
      "\u001b[1;31mTypeError\u001b[0m                                 Traceback (most recent call last)",
      "\u001b[1;32m<ipython-input-31-502d757570ee>\u001b[0m in \u001b[0;36m<module>\u001b[1;34m\u001b[0m\n\u001b[1;32m----> 1\u001b[1;33m \u001b[0mprint\u001b[0m\u001b[1;33m(\u001b[0m\u001b[0mmy_set\u001b[0m\u001b[1;33m[\u001b[0m\u001b[1;36m0\u001b[0m\u001b[1;33m]\u001b[0m\u001b[1;33m)\u001b[0m\u001b[1;33m\u001b[0m\u001b[1;33m\u001b[0m\u001b[0m\n\u001b[0m",
      "\u001b[1;31mTypeError\u001b[0m: 'set' object is not subscriptable"
     ]
    }
   ],
   "source": [
    "print(my_set[0])"
   ]
  },
  {
   "cell_type": "markdown",
   "metadata": {},
   "source": [
    "3. Turn **my_set** into a list, using the function `list()`. \n",
    "\n",
    "Can you print the first element now?"
   ]
  },
  {
   "cell_type": "code",
   "execution_count": 32,
   "metadata": {},
   "outputs": [
    {
     "name": "stdout",
     "output_type": "stream",
     "text": [
      "borja\n"
     ]
    }
   ],
   "source": [
    "my_set = list(my_set)\n",
    "print(my_set[0])"
   ]
  },
  {
   "cell_type": "code",
   "execution_count": null,
   "metadata": {},
   "outputs": [],
   "source": []
  }
 ],
 "metadata": {
  "kernelspec": {
   "display_name": "Python 3",
   "language": "python",
   "name": "python3"
  },
  "language_info": {
   "codemirror_mode": {
    "name": "ipython",
    "version": 3
   },
   "file_extension": ".py",
   "mimetype": "text/x-python",
   "name": "python",
   "nbconvert_exporter": "python",
   "pygments_lexer": "ipython3",
   "version": "3.8.3"
  }
 },
 "nbformat": 4,
 "nbformat_minor": 4
}
