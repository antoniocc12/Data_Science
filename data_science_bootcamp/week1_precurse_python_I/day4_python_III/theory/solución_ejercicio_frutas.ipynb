{
 "metadata": {
  "language_info": {
   "codemirror_mode": {
    "name": "ipython",
    "version": 3
   },
   "file_extension": ".py",
   "mimetype": "text/x-python",
   "name": "python",
   "nbconvert_exporter": "python",
   "pygments_lexer": "ipython3",
   "version": "3.7.4-final"
  },
  "orig_nbformat": 2,
  "kernelspec": {
   "name": "python374jvsc74a57bd0a9b83ec4160fc914f5169c2fc0bc9ab1c02e189a457abfa966969b692f6336e9",
   "display_name": "Python 3.7.4 64-bit"
  },
  "metadata": {
   "interpreter": {
    "hash": "a9b83ec4160fc914f5169c2fc0bc9ab1c02e189a457abfa966969b692f6336e9"
   }
  }
 },
 "nbformat": 4,
 "nbformat_minor": 2,
 "cells": [
  {
   "cell_type": "code",
   "execution_count": 2,
   "metadata": {},
   "outputs": [
    {
     "output_type": "execute_result",
     "data": {
      "text/plain": [
       "['pera', 'manzana', 'naranja', 'melon', 'sandía', 'platano']"
      ]
     },
     "metadata": {},
     "execution_count": 2
    }
   ],
   "source": [
    "#Ejercicio 5 con un IF\n",
    "\n",
    "lista_frutas = [\"pera\", \"manzana\", \"naranja\", \"melon\", \"sandía\"]\n",
    "\n",
    "nueva_fruta = input(\"Escribe una fruta: \")\n",
    "\n",
    "\n",
    "if (nueva_fruta in lista_frutas):\n",
    "    print(\"Esta fruta ya está\")\n",
    "else:\n",
    "    lista_frutas.append(nueva_fruta)\n",
    "\n",
    "lista_frutas"
   ]
  },
  {
   "cell_type": "code",
   "execution_count": 12,
   "metadata": {},
   "outputs": [
    {
     "output_type": "stream",
     "name": "stdout",
     "text": [
      "Esta fruta ya está\n"
     ]
    },
    {
     "output_type": "execute_result",
     "data": {
      "text/plain": [
       "['pera', 'manzana', 'naranja', 'melon', 'sandía', 'uva']"
      ]
     },
     "metadata": {},
     "execution_count": 12
    }
   ],
   "source": [
    "#Ejercicio 5 con un for\n",
    "\n",
    "lista_frutas = [\"pera\", \"manzana\", \"naranja\", \"melon\", \"sandía\"]\n",
    "\n",
    "nueva_fruta = input(\"Escribe una fruta: \")\n",
    "\n",
    "se_ha_insertado_ya = False #crear una variable que para mi represente que se ha insertado\n",
    "for fruta in lista_frutas:\n",
    "    if fruta ==nueva_fruta:\n",
    "        print(\"Esta fruta ya está\")\n",
    "        break\n",
    "    elif se_ha_insertado_ya == False and (lista_frutas[-1] == fruta):  \n",
    "        lista_frutas.append(nueva_fruta)\n",
    "        se_ha_insertado_ya = True #concepto de una variable de control, cuando ya se insertó la fruta paramos\n",
    "     \n",
    "lista_frutas"
   ]
  },
  {
   "cell_type": "code",
   "execution_count": 3,
   "metadata": {},
   "outputs": [
    {
     "output_type": "stream",
     "name": "stdout",
     "text": [
      "['pera', 'manzana', 'naranja', 'melon', 'sandía']\n"
     ]
    }
   ],
   "source": [
    "l = [\"pera\", \"manzana\", \"naranja\", \"melon\", \"sandía\"]\n",
    "print(l)\n"
   ]
  },
  {
   "cell_type": "code",
   "execution_count": 16,
   "metadata": {},
   "outputs": [
    {
     "output_type": "execute_result",
     "data": {
      "text/plain": [
       "['pera', 'manzana', 'naranja']"
      ]
     },
     "metadata": {},
     "execution_count": 16
    }
   ],
   "source": [
    "l = [\"pera\", \"manzana\", \"naranja\", \"melon\", \"sandía\", \"platano\"]\n",
    "l[:(len(l)) // 2]"
   ]
  },
  {
   "cell_type": "code",
   "execution_count": null,
   "metadata": {},
   "outputs": [],
   "source": []
  }
 ]
}