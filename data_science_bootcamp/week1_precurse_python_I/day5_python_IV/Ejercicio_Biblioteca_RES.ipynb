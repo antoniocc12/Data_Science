{
 "cells": [
  {
   "cell_type": "markdown",
   "metadata": {},
   "source": [
    "# Ejercicio La Biblioteca | Repaso Week 1\n",
    "## Precurso DSNov20 - The Bridge\n",
    "\n",
    "La versión original de esta Práctica es en español por lo que respetaremos sus orígenes y a su autora, Clara Piniella, y lo dejaremos en este idioma. Disculpen las molestias que esto pudiera ocasionarle como estudiante. "
   ]
  },
  {
   "cell_type": "markdown",
   "metadata": {},
   "source": [
    "![biblioteca](https://static2.abc.es/media/familia/2018/11/02/AdobeStock_210538561-kJTF--620x349@abc.jpg)"
   ]
  },
  {
   "cell_type": "markdown",
   "metadata": {},
   "source": [
    "Es tu primer día de trabajo en la Biblioteca de tu barrio y ya tienes tu primera tarea. Te acaban de pasar una lista con libros y la lista de unidades disponibles."
   ]
  },
  {
   "cell_type": "code",
   "execution_count": 1,
   "metadata": {},
   "outputs": [],
   "source": [
    "libros = [\"El mal de Corcira\", \"Un mundo feliz\", \"Lolita\", \"Crimen y castigo\", \"Python from for to pro\",\\\n",
    "          \"El señor de los anillos\", \"Cien años de soledad\", \"Harry Potter\", \"Lectura Fácil\", \"Seda\",\\\n",
    "          \"La chica de nieve\", \"El día que se perdió la cordura\", \"Data Science\"]"
   ]
  },
  {
   "cell_type": "code",
   "execution_count": 2,
   "metadata": {},
   "outputs": [],
   "source": [
    "biblioteca = [(\"El mal de Corcira\",4),(\"Un mundo feliz\", 2),(\"Lolita\", 5),\\\n",
    "              (\"Crimen y castigo\",2),(\"Python from for to pro\", 0),(\"El señor de los anillos\", 6),\\\n",
    "              (\"Cien años de soledad\", 5),(\"Harry Potter\", 9),(\"Lectura Fácil\", 4),(\"Seda\", 2),\\\n",
    "              (\"La chica de nieve\", 6),(\"El día que se perdió la cordura\", 3), (\"Data Science\", 0)]"
   ]
  },
  {
   "cell_type": "markdown",
   "metadata": {},
   "source": [
    "1. ¿Cuántos títulos diferentes tienen en esta biblioteca?"
   ]
  },
  {
   "cell_type": "code",
   "execution_count": 3,
   "metadata": {},
   "outputs": [
    {
     "name": "stdout",
     "output_type": "stream",
     "text": [
      "13\n"
     ]
    }
   ],
   "source": [
    "#your code here\n",
    "print(len(libros))"
   ]
  },
  {
   "cell_type": "code",
   "execution_count": 4,
   "metadata": {},
   "outputs": [
    {
     "name": "stdout",
     "output_type": "stream",
     "text": [
      "13\n"
     ]
    }
   ],
   "source": [
    "print(len(biblioteca))"
   ]
  },
  {
   "cell_type": "markdown",
   "metadata": {},
   "source": [
    "2. ¿Cuántas letras componen la palabra *Seda*? "
   ]
  },
  {
   "cell_type": "code",
   "execution_count": 5,
   "metadata": {},
   "outputs": [
    {
     "name": "stdout",
     "output_type": "stream",
     "text": [
      "4\n"
     ]
    }
   ],
   "source": [
    "#your code here\n",
    "x = len(\"Seda\")\n",
    "print(x)"
   ]
  },
  {
   "cell_type": "code",
   "execution_count": 6,
   "metadata": {},
   "outputs": [
    {
     "name": "stdout",
     "output_type": "stream",
     "text": [
      "4\n"
     ]
    }
   ],
   "source": [
    "print(len(biblioteca[9][0]))"
   ]
  },
  {
   "cell_type": "code",
   "execution_count": 7,
   "metadata": {},
   "outputs": [
    {
     "name": "stdout",
     "output_type": "stream",
     "text": [
      "('El mal de Corcira', 4)\n",
      "('Un mundo feliz', 2)\n",
      "('Lolita', 5)\n",
      "('Crimen y castigo', 2)\n",
      "('Python from for to pro', 0)\n",
      "('El señor de los anillos', 6)\n",
      "('Cien años de soledad', 5)\n",
      "('Harry Potter', 9)\n",
      "('Lectura Fácil', 4)\n",
      "('Seda', 2)\n",
      "('La chica de nieve', 6)\n",
      "('El día que se perdió la cordura', 3)\n",
      "('Data Science', 0)\n"
     ]
    }
   ],
   "source": [
    "for _ in biblioteca:\n",
    "    print(_)"
   ]
  },
  {
   "cell_type": "code",
   "execution_count": 8,
   "metadata": {},
   "outputs": [
    {
     "name": "stdout",
     "output_type": "stream",
     "text": [
      "4\n"
     ]
    }
   ],
   "source": [
    "for u in biblioteca:\n",
    "    if u[0] == \"Seda\":\n",
    "        print(len(u[0]))"
   ]
  },
  {
   "cell_type": "markdown",
   "metadata": {},
   "source": [
    "3. ¿Cuántas unidades hay del libro *Seda*?"
   ]
  },
  {
   "cell_type": "code",
   "execution_count": 9,
   "metadata": {},
   "outputs": [
    {
     "name": "stdout",
     "output_type": "stream",
     "text": [
      "2\n"
     ]
    }
   ],
   "source": [
    "#your code here\n",
    "for u in biblioteca:\n",
    "    if u[0] == \"Seda\":\n",
    "        print(u[1])"
   ]
  },
  {
   "cell_type": "markdown",
   "metadata": {},
   "source": [
    "4. Quien registraba los libros antes de ti dejo pendiente de añadir a la lista **libros** la variable **pendiente**, además debió confundir el famoso libro de George Orwell *1984*, con un número, asignándolo como un integer.\n",
    "¿Puedes cambiarlo y pasar a string este elemento y añadirlo a **libros**?"
   ]
  },
  {
   "cell_type": "code",
   "execution_count": 10,
   "metadata": {},
   "outputs": [],
   "source": [
    "pendiente = 1984"
   ]
  },
  {
   "cell_type": "code",
   "execution_count": 11,
   "metadata": {},
   "outputs": [],
   "source": [
    "#your code here\n",
    "pendiente = str(pendiente)\n",
    "libros.append(pendiente)"
   ]
  },
  {
   "cell_type": "code",
   "execution_count": 12,
   "metadata": {},
   "outputs": [
    {
     "name": "stdout",
     "output_type": "stream",
     "text": [
      "['El mal de Corcira', 'Un mundo feliz', 'Lolita', 'Crimen y castigo', 'Python from for to pro', 'El señor de los anillos', 'Cien años de soledad', 'Harry Potter', 'Lectura Fácil', 'Seda', 'La chica de nieve', 'El día que se perdió la cordura', 'Data Science', '1984']\n"
     ]
    }
   ],
   "source": [
    "print(libros)"
   ]
  },
  {
   "cell_type": "code",
   "execution_count": 13,
   "metadata": {},
   "outputs": [
    {
     "data": {
      "text/plain": [
       "['El mal de Corcira',\n",
       " 'Un mundo feliz',\n",
       " 'Lolita',\n",
       " 'Crimen y castigo',\n",
       " 'Python from for to pro',\n",
       " 'El señor de los anillos',\n",
       " 'Cien años de soledad',\n",
       " 'Harry Potter',\n",
       " 'Lectura Fácil',\n",
       " 'Seda',\n",
       " 'La chica de nieve',\n",
       " 'El día que se perdió la cordura',\n",
       " 'Data Science',\n",
       " '1984']"
      ]
     },
     "execution_count": 13,
     "metadata": {},
     "output_type": "execute_result"
    }
   ],
   "source": [
    "libros"
   ]
  },
  {
   "cell_type": "markdown",
   "metadata": {},
   "source": [
    "5. Te piden que añadas a esta lista el nuevo libro de Los Juegos del hambre que se titula *Balada de pájaros cantores y serpientes*. Has contado las unidades y han llegado 10. \n",
    "\n",
    "    a. Crea una variable con el título del libro, que se llame **libro_1**. Añade este elemento a la lista **libros**.\n",
    "\n",
    "    b. Crea una variable con el número de unidades, que se llame **uds_1**.\n",
    "\n",
    "    c. Crea una variable que sea una lista llamada **nuevo_libro** en el que su primer elemento sea **libro_1** y el segundo **uds_1**. \n",
    "\n",
    "    d. Convierte a **nuevo_libro** a tupla.\n",
    "    (muestra qué tipo es ahora esta variable)\n",
    "\n",
    "    e. Añade **nuevo_libro** a la lista **biblioteca** "
   ]
  },
  {
   "cell_type": "code",
   "execution_count": 14,
   "metadata": {},
   "outputs": [
    {
     "data": {
      "text/plain": [
       "['El mal de Corcira',\n",
       " 'Un mundo feliz',\n",
       " 'Lolita',\n",
       " 'Crimen y castigo',\n",
       " 'Python from for to pro',\n",
       " 'El señor de los anillos',\n",
       " 'Cien años de soledad',\n",
       " 'Harry Potter',\n",
       " 'Lectura Fácil',\n",
       " 'Seda',\n",
       " 'La chica de nieve',\n",
       " 'El día que se perdió la cordura',\n",
       " 'Data Science',\n",
       " '1984']"
      ]
     },
     "execution_count": 14,
     "metadata": {},
     "output_type": "execute_result"
    }
   ],
   "source": [
    "libros"
   ]
  },
  {
   "cell_type": "code",
   "execution_count": 15,
   "metadata": {},
   "outputs": [
    {
     "data": {
      "text/plain": [
       "['El mal de Corcira',\n",
       " 'Un mundo feliz',\n",
       " 'Lolita',\n",
       " 'Crimen y castigo',\n",
       " 'Python from for to pro',\n",
       " 'El señor de los anillos',\n",
       " 'Cien años de soledad',\n",
       " 'Harry Potter',\n",
       " 'Lectura Fácil',\n",
       " 'Seda',\n",
       " 'La chica de nieve',\n",
       " 'El día que se perdió la cordura',\n",
       " 'Data Science',\n",
       " '1984',\n",
       " 'Balada de pájaros cantores y serpientes']"
      ]
     },
     "execution_count": 15,
     "metadata": {},
     "output_type": "execute_result"
    }
   ],
   "source": [
    "#your code here\n",
    "libro_1 = \"Balada de pájaros cantores y serpientes\"\n",
    "libros.append(libro_1)\n",
    "libros"
   ]
  },
  {
   "cell_type": "code",
   "execution_count": 16,
   "metadata": {},
   "outputs": [],
   "source": [
    "uds_1 = 10"
   ]
  },
  {
   "cell_type": "code",
   "execution_count": 17,
   "metadata": {},
   "outputs": [
    {
     "name": "stdout",
     "output_type": "stream",
     "text": [
      "<class 'list'>\n",
      "<class 'tuple'>\n"
     ]
    }
   ],
   "source": [
    "nuevo_libro = [libro_1, uds_1]\n",
    "print(type(nuevo_libro))\n",
    "nuevo_libro = tuple(nuevo_libro)\n",
    "print(type(nuevo_libro))"
   ]
  },
  {
   "cell_type": "code",
   "execution_count": 18,
   "metadata": {},
   "outputs": [
    {
     "data": {
      "text/plain": [
       "[('El mal de Corcira', 4),\n",
       " ('Un mundo feliz', 2),\n",
       " ('Lolita', 5),\n",
       " ('Crimen y castigo', 2),\n",
       " ('Python from for to pro', 0),\n",
       " ('El señor de los anillos', 6),\n",
       " ('Cien años de soledad', 5),\n",
       " ('Harry Potter', 9),\n",
       " ('Lectura Fácil', 4),\n",
       " ('Seda', 2),\n",
       " ('La chica de nieve', 6),\n",
       " ('El día que se perdió la cordura', 3),\n",
       " ('Data Science', 0),\n",
       " ('Balada de pájaros cantores y serpientes', 10)]"
      ]
     },
     "execution_count": 18,
     "metadata": {},
     "output_type": "execute_result"
    }
   ],
   "source": [
    "biblioteca.append(nuevo_libro)\n",
    "biblioteca"
   ]
  },
  {
   "cell_type": "code",
   "execution_count": 19,
   "metadata": {},
   "outputs": [
    {
     "name": "stdout",
     "output_type": "stream",
     "text": [
      "<class 'tuple'>\n"
     ]
    },
    {
     "data": {
      "text/plain": [
       "('Balada de pájaros cantores y serpientes', 10)"
      ]
     },
     "execution_count": 19,
     "metadata": {},
     "output_type": "execute_result"
    }
   ],
   "source": [
    "nuevo_libro2 = (libro_1, uds_1)\n",
    "print(type(nuevo_libro2))\n",
    "nuevo_libro2\n"
   ]
  },
  {
   "cell_type": "code",
   "execution_count": 20,
   "metadata": {},
   "outputs": [
    {
     "data": {
      "text/plain": [
       "str"
      ]
     },
     "execution_count": 20,
     "metadata": {},
     "output_type": "execute_result"
    }
   ],
   "source": [
    "type(nuevo_libro2[0])"
   ]
  },
  {
   "cell_type": "markdown",
   "metadata": {},
   "source": [
    "6. Acaban de traer una unidad más de *El mal de Corcira*, añade una unidad más al segundo elemento del primer elemento de la lista **biblioteca**."
   ]
  },
  {
   "cell_type": "code",
   "execution_count": 21,
   "metadata": {},
   "outputs": [
    {
     "data": {
      "text/plain": [
       "[('El mal de Corcira', 4),\n",
       " ('Un mundo feliz', 2),\n",
       " ('Lolita', 5),\n",
       " ('Crimen y castigo', 2),\n",
       " ('Python from for to pro', 0),\n",
       " ('El señor de los anillos', 6),\n",
       " ('Cien años de soledad', 5),\n",
       " ('Harry Potter', 9),\n",
       " ('Lectura Fácil', 4),\n",
       " ('Seda', 2),\n",
       " ('La chica de nieve', 6),\n",
       " ('El día que se perdió la cordura', 3),\n",
       " ('Data Science', 0),\n",
       " ('Balada de pájaros cantores y serpientes', 10)]"
      ]
     },
     "execution_count": 21,
     "metadata": {},
     "output_type": "execute_result"
    }
   ],
   "source": [
    "biblioteca"
   ]
  },
  {
   "cell_type": "code",
   "execution_count": 22,
   "metadata": {},
   "outputs": [
    {
     "data": {
      "text/plain": [
       "['El mal de Corcira', 4]"
      ]
     },
     "execution_count": 22,
     "metadata": {},
     "output_type": "execute_result"
    }
   ],
   "source": [
    "t = list(biblioteca[0])\n",
    "t"
   ]
  },
  {
   "cell_type": "code",
   "execution_count": 23,
   "metadata": {},
   "outputs": [
    {
     "data": {
      "text/plain": [
       "['El mal de Corcira', 5]"
      ]
     },
     "execution_count": 23,
     "metadata": {},
     "output_type": "execute_result"
    }
   ],
   "source": [
    "t[1] = t[1] + 1\n",
    "t"
   ]
  },
  {
   "cell_type": "code",
   "execution_count": 24,
   "metadata": {},
   "outputs": [
    {
     "data": {
      "text/plain": [
       "('El mal de Corcira', 5)"
      ]
     },
     "execution_count": 24,
     "metadata": {},
     "output_type": "execute_result"
    }
   ],
   "source": [
    "t = tuple(t)\n",
    "t"
   ]
  },
  {
   "cell_type": "code",
   "execution_count": 25,
   "metadata": {},
   "outputs": [
    {
     "data": {
      "text/plain": [
       "[('El mal de Corcira', 5),\n",
       " ('Un mundo feliz', 2),\n",
       " ('Lolita', 5),\n",
       " ('Crimen y castigo', 2),\n",
       " ('Python from for to pro', 0),\n",
       " ('El señor de los anillos', 6),\n",
       " ('Cien años de soledad', 5),\n",
       " ('Harry Potter', 9),\n",
       " ('Lectura Fácil', 4),\n",
       " ('Seda', 2),\n",
       " ('La chica de nieve', 6),\n",
       " ('El día que se perdió la cordura', 3),\n",
       " ('Data Science', 0),\n",
       " ('Balada de pájaros cantores y serpientes', 10)]"
      ]
     },
     "execution_count": 25,
     "metadata": {},
     "output_type": "execute_result"
    }
   ],
   "source": [
    "biblioteca[0] = t\n",
    "biblioteca"
   ]
  },
  {
   "cell_type": "markdown",
   "metadata": {},
   "source": [
    "Busca en google este error y explica porqué no se puede añadir una unidad más. ¿Se te ocurre cómo podrías alterar este dato?"
   ]
  },
  {
   "cell_type": "code",
   "execution_count": 26,
   "metadata": {},
   "outputs": [],
   "source": [
    "#your comment here\n",
    "#done!"
   ]
  },
  {
   "cell_type": "markdown",
   "metadata": {},
   "source": [
    "Convierte la tupla en una lista para poder modificar el segundo elemento y añadir esta unidad. Asigna la tupla convertida a lista a la variable **tup_to_list** haz los cambios, agrega la unidad y vuelve a añadir la lista ya convertida en tupla a la lista **biblioteca**."
   ]
  },
  {
   "cell_type": "code",
   "execution_count": 27,
   "metadata": {},
   "outputs": [],
   "source": [
    "#your code here\n",
    "#done above!"
   ]
  },
  {
   "cell_type": "markdown",
   "metadata": {},
   "source": [
    "Ahora, tenemos dos tuplas con el libro *El mal de Corcira*, pero esto no es lo que queremos. Elimina el primer elemento de la lista **biblioteca**.\n",
    "\n",
    "Hint: https://www.programiz.com/python-programming/methods/list/remove"
   ]
  },
  {
   "cell_type": "code",
   "execution_count": 28,
   "metadata": {},
   "outputs": [
    {
     "data": {
      "text/plain": [
       "[('El mal de Corcira', 5),\n",
       " ('Un mundo feliz', 2),\n",
       " ('Lolita', 5),\n",
       " ('Crimen y castigo', 2),\n",
       " ('Python from for to pro', 0),\n",
       " ('El señor de los anillos', 6),\n",
       " ('Cien años de soledad', 5),\n",
       " ('Harry Potter', 9),\n",
       " ('Lectura Fácil', 4),\n",
       " ('Seda', 2),\n",
       " ('La chica de nieve', 6),\n",
       " ('El día que se perdió la cordura', 3),\n",
       " ('Data Science', 0),\n",
       " ('Balada de pájaros cantores y serpientes', 10),\n",
       " ('El mal de Corcira', 5)]"
      ]
     },
     "execution_count": 28,
     "metadata": {},
     "output_type": "execute_result"
    }
   ],
   "source": [
    "#your code here\n",
    "y = ('El mal de Corcira', 5)\n",
    "biblioteca.append(y)\n",
    "biblioteca"
   ]
  },
  {
   "cell_type": "code",
   "execution_count": 29,
   "metadata": {},
   "outputs": [
    {
     "data": {
      "text/plain": [
       "('El mal de Corcira', 5)"
      ]
     },
     "execution_count": 29,
     "metadata": {},
     "output_type": "execute_result"
    }
   ],
   "source": [
    "biblioteca.pop()"
   ]
  },
  {
   "cell_type": "code",
   "execution_count": 30,
   "metadata": {},
   "outputs": [],
   "source": [
    "i = ('El mal de Corcira', 5)\n",
    "biblioteca.remove(i)\n"
   ]
  },
  {
   "cell_type": "code",
   "execution_count": 31,
   "metadata": {},
   "outputs": [
    {
     "data": {
      "text/plain": [
       "[('Un mundo feliz', 2),\n",
       " ('Lolita', 5),\n",
       " ('Crimen y castigo', 2),\n",
       " ('Python from for to pro', 0),\n",
       " ('El señor de los anillos', 6),\n",
       " ('Cien años de soledad', 5),\n",
       " ('Harry Potter', 9),\n",
       " ('Lectura Fácil', 4),\n",
       " ('Seda', 2),\n",
       " ('La chica de nieve', 6),\n",
       " ('El día que se perdió la cordura', 3),\n",
       " ('Data Science', 0),\n",
       " ('Balada de pájaros cantores y serpientes', 10)]"
      ]
     },
     "execution_count": 31,
     "metadata": {},
     "output_type": "execute_result"
    }
   ],
   "source": [
    "biblioteca"
   ]
  },
  {
   "cell_type": "markdown",
   "metadata": {},
   "source": [
    "7. Te han pedido que localices los títulos de los libros de los que no disponen de unidades. Es decir, su segundo elemento, es igual a 0. "
   ]
  },
  {
   "cell_type": "code",
   "execution_count": 32,
   "metadata": {},
   "outputs": [
    {
     "data": {
      "text/plain": [
       "[('Un mundo feliz', 2),\n",
       " ('Lolita', 5),\n",
       " ('Crimen y castigo', 2),\n",
       " ('Python from for to pro', 0),\n",
       " ('El señor de los anillos', 6),\n",
       " ('Cien años de soledad', 5),\n",
       " ('Harry Potter', 9),\n",
       " ('Lectura Fácil', 4),\n",
       " ('Seda', 2),\n",
       " ('La chica de nieve', 6),\n",
       " ('El día que se perdió la cordura', 3),\n",
       " ('Data Science', 0),\n",
       " ('Balada de pájaros cantores y serpientes', 10)]"
      ]
     },
     "execution_count": 32,
     "metadata": {},
     "output_type": "execute_result"
    }
   ],
   "source": [
    "biblioteca"
   ]
  },
  {
   "cell_type": "code",
   "execution_count": 33,
   "metadata": {},
   "outputs": [
    {
     "name": "stdout",
     "output_type": "stream",
     "text": [
      "Python from for to pro\n",
      "Data Science\n"
     ]
    }
   ],
   "source": [
    "for elem in biblioteca:\n",
    "    if elem[1] == 0:\n",
    "        print(elem[0])"
   ]
  },
  {
   "cell_type": "markdown",
   "metadata": {},
   "source": [
    "8. ¿Cómo meterías estos dos elementos en una lista llamada **missing**?"
   ]
  },
  {
   "cell_type": "code",
   "execution_count": 34,
   "metadata": {},
   "outputs": [
    {
     "name": "stdout",
     "output_type": "stream",
     "text": [
      "elem: ('Python from for to pro', 0)\n",
      "libro_sin_unidad: Python from for to pro\n",
      "missing: ['Python from for to pro']\n",
      "##################\n",
      "elem: ('Data Science', 0)\n",
      "libro_sin_unidad: Data Science\n",
      "missing: ['Python from for to pro', 'Data Science']\n",
      "##################\n"
     ]
    }
   ],
   "source": [
    "#your code here\n",
    "missing = []\n",
    "\n",
    "for elem in biblioteca:\n",
    "    if elem[1] == 0:\n",
    "        print(\"elem:\", elem)\n",
    "        libro_sin_unidad = elem[0]\n",
    "        print(\"libro_sin_unidad:\", libro_sin_unidad)\n",
    "        missing.append(libro_sin_unidad)\n",
    "        print(\"missing:\", missing)\n",
    "        print(\"##################\")"
   ]
  },
  {
   "cell_type": "markdown",
   "metadata": {},
   "source": [
    "9. Como en cualquier jornada de trabajo, recibes miles de email, hay uno que no habías visto pero en el que tu jefa te pide hacer un pequeño programita (función) que recoja el título de un libro y la cantidad de libros, este último parámetro por defecto será 1, chequée si tenemos ese título en la lista `libros` y si lo tenemos, sume esa cantidad a su cantidad en la lista `biblioteca` y si no, añada el título a `libros` y en una tupla nueva con la cantidad correspondiente a la lista `biblioteca`. "
   ]
  },
  {
   "cell_type": "code",
   "execution_count": 35,
   "metadata": {},
   "outputs": [
    {
     "name": "stdout",
     "output_type": "stream",
     "text": [
      "['El mal de Corcira', 'Un mundo feliz', 'Lolita', 'Crimen y castigo', 'Python from for to pro', 'El señor de los anillos', 'Cien años de soledad', 'Harry Potter', 'Lectura Fácil', 'Seda', 'La chica de nieve', 'El día que se perdió la cordura', 'Data Science', '1984', 'Balada de pájaros cantores y serpientes']\n",
      "\n",
      "[('Un mundo feliz', 2), ('Lolita', 5), ('Crimen y castigo', 2), ('Python from for to pro', 0), ('El señor de los anillos', 6), ('Cien años de soledad', 5), ('Harry Potter', 9), ('Lectura Fácil', 4), ('Seda', 2), ('La chica de nieve', 6), ('El día que se perdió la cordura', 3), ('Data Science', 0), ('Balada de pájaros cantores y serpientes', 10)]\n"
     ]
    }
   ],
   "source": [
    "print(libros)\n",
    "print()\n",
    "print(biblioteca)"
   ]
  },
  {
   "cell_type": "code",
   "execution_count": 36,
   "metadata": {},
   "outputs": [],
   "source": [
    "def inventario(titulo, cantidad = 1, libros = libros, biblioteca = biblioteca):\n",
    "    if titulo not in libros:\n",
    "        libros.append(titulo)\n",
    "        biblioteca.append((titulo, cantidad))\n",
    "    else:\n",
    "        for tup in biblioteca:\n",
    "            if tup[0] == titulo:\n",
    "                lista = list(tup)\n",
    "                lista[1]+=cantidad\n",
    "                biblioteca.append(tuple(lista))\n",
    "                biblioteca.remove(tup)\n",
    "                break              \n",
    "    return libros, biblioteca"
   ]
  },
  {
   "cell_type": "markdown",
   "metadata": {},
   "source": [
    "Pruébalo añadiendo el título de \"Guía del Autopista Galáctico\", cantidad 42."
   ]
  },
  {
   "cell_type": "code",
   "execution_count": 37,
   "metadata": {},
   "outputs": [],
   "source": [
    "libros, biblioteca = inventario(\"Guía del Autopista Galáctico\", 42)"
   ]
  },
  {
   "cell_type": "code",
   "execution_count": 38,
   "metadata": {},
   "outputs": [
    {
     "data": {
      "text/plain": [
       "('Guía del Autopista Galáctico', 42)"
      ]
     },
     "execution_count": 38,
     "metadata": {},
     "output_type": "execute_result"
    }
   ],
   "source": [
    "biblioteca[-1]"
   ]
  },
  {
   "cell_type": "markdown",
   "metadata": {},
   "source": [
    "### Bonus Track. "
   ]
  },
  {
   "cell_type": "markdown",
   "metadata": {},
   "source": [
    "10. ¿Cuál es el libro con más unidades? ¿Cuál es la media de libros por título?"
   ]
  },
  {
   "cell_type": "code",
   "execution_count": 39,
   "metadata": {},
   "outputs": [],
   "source": [
    "unidades = []\n",
    "for tupl in biblioteca:\n",
    "    unidades.append(tupl[1])"
   ]
  },
  {
   "cell_type": "code",
   "execution_count": 40,
   "metadata": {},
   "outputs": [
    {
     "name": "stdout",
     "output_type": "stream",
     "text": [
      "El libro con más unidades es Guía del Autopista Galáctico con 42 unidades\n"
     ]
    }
   ],
   "source": [
    "for i, uni in enumerate(unidades):\n",
    "    if uni == max(unidades):\n",
    "        print(f\"El libro con más unidades es {biblioteca[i][0]} con {uni} unidades\")"
   ]
  },
  {
   "cell_type": "code",
   "execution_count": 41,
   "metadata": {},
   "outputs": [
    {
     "name": "stdout",
     "output_type": "stream",
     "text": [
      "La media de libros por título es: 6.8571 unidades\n"
     ]
    }
   ],
   "source": [
    "import statistics as stats\n",
    "print(f\"La media de libros por título es: {round(stats.mean(unidades), 4)} unidades\")"
   ]
  },
  {
   "cell_type": "markdown",
   "metadata": {},
   "source": [
    "11. ¿Cuál tiene el título más largo y cuál el más corto?"
   ]
  },
  {
   "cell_type": "code",
   "execution_count": 42,
   "metadata": {},
   "outputs": [
    {
     "name": "stdout",
     "output_type": "stream",
     "text": [
      "El título más corto es Seda\n",
      "El título más corto es 1984\n",
      "El título más largo es Balada de pájaros cantores y serpientes\n"
     ]
    }
   ],
   "source": [
    "longitud = []\n",
    "for libro in libros:\n",
    "    longitud.append(len(libro))\n",
    "\n",
    "for i, lon in enumerate(longitud):\n",
    "    if lon == max(longitud):\n",
    "        print(f\"El título más largo es {libros[i]}\")\n",
    "    if lon == min(longitud):\n",
    "        print(f\"El título más corto es {libros[i]}\")"
   ]
  }
 ],
 "metadata": {
  "kernelspec": {
   "display_name": "Python 3",
   "language": "python",
   "name": "python3"
  },
  "language_info": {
   "codemirror_mode": {
    "name": "ipython",
    "version": 3
   },
   "file_extension": ".py",
   "mimetype": "text/x-python",
   "name": "python",
   "nbconvert_exporter": "python",
   "pygments_lexer": "ipython3",
   "version": "3.8.3"
  }
 },
 "nbformat": 4,
 "nbformat_minor": 4
}
