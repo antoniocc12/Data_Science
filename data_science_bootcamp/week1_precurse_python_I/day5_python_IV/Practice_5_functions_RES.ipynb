{
 "cells": [
  {
   "cell_type": "markdown",
   "metadata": {},
   "source": [
    "# Python | day 5 | functions"
   ]
  },
  {
   "cell_type": "markdown",
   "metadata": {},
   "source": [
    "In Python, a function is a group of related statements that performs a specific task."
   ]
  },
  {
   "cell_type": "markdown",
   "metadata": {},
   "source": [
    "https://www.programiz.com/python-programming/function"
   ]
  },
  {
   "cell_type": "markdown",
   "metadata": {},
   "source": [
    "#### Difference between `return` and `print`.\n",
    "\n",
    "Take some minutes to understand the difference between `return` and `print`, it seems to be the same, but they are not and it's important you understand the difference. "
   ]
  },
  {
   "cell_type": "code",
   "execution_count": 3,
   "metadata": {},
   "outputs": [
    {
     "name": "stdout",
     "output_type": "stream",
     "text": [
      "2\n",
      "4\n",
      "8\n"
     ]
    }
   ],
   "source": [
    "def suma(a,b):\n",
    "    print(a)\n",
    "    return a+b\n",
    "\n",
    "print(suma(suma(2,2),4))"
   ]
  },
  {
   "cell_type": "markdown",
   "metadata": {},
   "source": [
    "#### Comments in a function."
   ]
  },
  {
   "cell_type": "code",
   "execution_count": 4,
   "metadata": {},
   "outputs": [],
   "source": [
    "def say_hello(name):\n",
    "    \"\"\"\n",
    "    Given a name as an argument, \n",
    "    the function return a string greeting\n",
    "    the name given. \n",
    "    \"\"\"\n",
    "    return f\"hello {name}\""
   ]
  },
  {
   "cell_type": "code",
   "execution_count": 6,
   "metadata": {},
   "outputs": [
    {
     "name": "stdout",
     "output_type": "stream",
     "text": [
      "hello Clara\n"
     ]
    }
   ],
   "source": [
    "print(say_hello(\"Clara\"))"
   ]
  },
  {
   "cell_type": "code",
   "execution_count": 7,
   "metadata": {},
   "outputs": [
    {
     "name": "stdout",
     "output_type": "stream",
     "text": [
      "Help on function say_hello in module __main__:\n",
      "\n",
      "say_hello(name)\n",
      "    Given a name as an argument, \n",
      "    the function return a string greeting\n",
      "    the name given.\n",
      "\n"
     ]
    }
   ],
   "source": [
    "help(say_hello)"
   ]
  },
  {
   "cell_type": "markdown",
   "metadata": {},
   "source": [
    "### Exercise 1. "
   ]
  },
  {
   "cell_type": "markdown",
   "metadata": {},
   "source": [
    "To solve the following exercises it will be necessary to define a function for each section. You choose the name of those functions unless specified, but make sure you define a single parameter `whichever_list`, when calling the function it will correspond to the variable `info_list`.\n"
   ]
  },
  {
   "cell_type": "code",
   "execution_count": 1,
   "metadata": {},
   "outputs": [],
   "source": [
    "# you can use this list or take yours from Practice 3\n",
    "info_list = [15, 'Recoletos', True, ['Recoletos', 15],  None, '8'] "
   ]
  },
  {
   "cell_type": "markdown",
   "metadata": {},
   "source": [
    "1. Display on the screen `\"I like the tranquility\"` if you like the mountains more and `\"I'd love to live in Malaga\"` if you like the beach more.\n",
    "\n",
    "**Remember you should define a function which do exactly that but for a list called `whichever_list`, the parameter. \n",
    "After you've done that call the funtion giving `info_list` as the argument.**"
   ]
  },
  {
   "cell_type": "code",
   "execution_count": 24,
   "metadata": {},
   "outputs": [
    {
     "name": "stdout",
     "output_type": "stream",
     "text": [
      "I'd love to live in Malaga\n"
     ]
    }
   ],
   "source": [
    "def ex_one(preference):\n",
    "    \"\"\"\n",
    "    Display on the screen \"I like the tranquility\" if you like the mountains more and \"I'd love to live in Malaga\" if you like the beach more\n",
    "    \"\"\"\n",
    "    if preference == False:\n",
    "        print ('I like the tranquility')\n",
    "\n",
    "    elif preference == True:\n",
    "        print(\"I'd love to live in Malaga\")\n",
    "\n",
    "    else:\n",
    "        print('Preference was not understood.')\n",
    "\n",
    "ex_one(preference= info_list[2])"
   ]
  },
  {
   "cell_type": "markdown",
   "metadata": {},
   "source": [
    "2. Print `\"Today I am tired\"` if you have slept less than 7 hours or `\"Today I conquer the world\"` if you have slept more than 7 hours."
   ]
  },
  {
   "cell_type": "code",
   "execution_count": 15,
   "metadata": {},
   "outputs": [
    {
     "name": "stdout",
     "output_type": "stream",
     "text": [
      "Today I conquer the world!\n"
     ]
    }
   ],
   "source": [
    "def ex_two (sleep):\n",
    "    \"\"\"\n",
    "   Print \"Today I am tired\" if you have slept less than 7 hours or \"Today I conquer the world\" if you have slept more than 7 hours.\n",
    "    \"\"\"\n",
    "    if type(sleep) != int:\n",
    "        sleep = int(sleep)\n",
    "        \n",
    "    if sleep < 7:\n",
    "        print ('Today I am tired')\n",
    "\n",
    "    else:\n",
    "        print(\"Today I conquer the world!\")\n",
    "\n",
    "ex_two(sleep= info_list[-1])"
   ]
  },
  {
   "cell_type": "markdown",
   "metadata": {},
   "source": [
    "3. Loop through `whichever_list` to print all the elements it contains. This function should return the list turned into a tuple. "
   ]
  },
  {
   "cell_type": "code",
   "execution_count": 6,
   "metadata": {},
   "outputs": [
    {
     "name": "stdout",
     "output_type": "stream",
     "text": [
      "15\n",
      "Recoletos\n",
      "True\n",
      "['Recoletos', 15]\n",
      "None\n",
      "8\n"
     ]
    },
    {
     "data": {
      "text/plain": [
       "(15, 'Recoletos', True, ['Recoletos', 15], None, '8')"
      ]
     },
     "execution_count": 6,
     "metadata": {},
     "output_type": "execute_result"
    }
   ],
   "source": [
    "def ex_three (whichever_list):\n",
    "    \"\"\"\n",
    "    Loop through whichever_list to print all the elements it contains. This function should return the list turned into a tuple.\n",
    "    \"\"\"\n",
    "    for e in whichever_list:\n",
    "        print(e)\n",
    "    \n",
    "    return tuple(whichever_list)\n",
    "\n",
    "returned_tuple = ex_three(whichever_list = info_list)\n",
    "returned_tuple"
   ]
  },
  {
   "cell_type": "markdown",
   "metadata": {},
   "source": [
    "4. Loop through `whichever_list` to print all the elements it contains concatenated with the string` \"--> OK\" `. This function should return a message saying, `\"everything will be ok\"`. \n"
   ]
  },
  {
   "cell_type": "code",
   "execution_count": 9,
   "metadata": {},
   "outputs": [
    {
     "name": "stdout",
     "output_type": "stream",
     "text": [
      "15--> OK\n",
      "Recoletos--> OK\n",
      "True--> OK\n",
      "['Recoletos', 15]--> OK\n",
      "None--> OK\n",
      "8--> OK\n"
     ]
    },
    {
     "data": {
      "text/plain": [
       "'everything will be ok'"
      ]
     },
     "execution_count": 9,
     "metadata": {},
     "output_type": "execute_result"
    }
   ],
   "source": [
    "def ex_four (whichever_list):\n",
    "    \"\"\"\n",
    "    Loop through whichever_list to print all the elements it contains concatenated with the string\"--> OK\". This function should return a message saying, \"everything will be ok\n",
    "    \"\"\"\n",
    "    for e in whichever_list:\n",
    "        print(f'{e}--> OK')\n",
    "    \n",
    "    message = \"everything will be ok\"\n",
    "\n",
    "    return message\n",
    "\n",
    "message = ex_four(whichever_list= info_list)\n",
    "message"
   ]
  },
  {
   "cell_type": "markdown",
   "metadata": {},
   "source": [
    "5. Loop through `whichever_list` to display all items it contains except the first one. This function should return the first element of the list. "
   ]
  },
  {
   "cell_type": "code",
   "execution_count": 13,
   "metadata": {},
   "outputs": [
    {
     "name": "stdout",
     "output_type": "stream",
     "text": [
      "Recoletos\n",
      "True\n",
      "['Recoletos', 15]\n",
      "None\n",
      "8\n"
     ]
    },
    {
     "data": {
      "text/plain": [
       "15"
      ]
     },
     "execution_count": 13,
     "metadata": {},
     "output_type": "execute_result"
    }
   ],
   "source": [
    "def ex_five(whichever_list):\n",
    "    \"\"\"\n",
    "    Loop through whichever_list to display all items it contains except the first one. This function should return the first element of the list.\n",
    "    \"\"\"\n",
    "    for e in range(len(whichever_list)):\n",
    "        if e == 0:\n",
    "            pass\n",
    "        else:\n",
    "            print(whichever_list[e])\n",
    "    \n",
    "    return whichever_list[0]\n",
    "\n",
    "returned_element = ex_five(whichever_list= info_list)\n",
    "returned_element"
   ]
  },
  {
   "cell_type": "markdown",
   "metadata": {},
   "source": [
    "6. Loop through `whichever_list` to display all the items it contains except the last one. This function should return the last element of the list. "
   ]
  },
  {
   "cell_type": "code",
   "execution_count": 14,
   "metadata": {},
   "outputs": [
    {
     "name": "stdout",
     "output_type": "stream",
     "text": [
      "15\n",
      "Recoletos\n",
      "True\n",
      "['Recoletos', 15]\n",
      "None\n"
     ]
    },
    {
     "data": {
      "text/plain": [
       "'8'"
      ]
     },
     "execution_count": 14,
     "metadata": {},
     "output_type": "execute_result"
    }
   ],
   "source": [
    "def ex_six(whichever_list):\n",
    "    \"\"\"\n",
    "    Loop through whichever_list to display all the items it contains except the last one. This function should return the last element of the list.\n",
    "    \"\"\"\n",
    "    for e in range(len(whichever_list)):\n",
    "        if e == (len(whichever_list) - 1):\n",
    "            pass\n",
    "        else:\n",
    "            print(whichever_list[e])\n",
    "    \n",
    "    return whichever_list[-1]\n",
    "\n",
    "returned_element = ex_six(whichever_list= info_list)\n",
    "returned_element"
   ]
  },
  {
   "cell_type": "markdown",
   "metadata": {},
   "source": [
    "7. Loop through `whichever_list` to show all the elements it contains except the street number and the hours you've slept."
   ]
  },
  {
   "cell_type": "code",
   "execution_count": 19,
   "metadata": {},
   "outputs": [
    {
     "name": "stdout",
     "output_type": "stream",
     "text": [
      "Recoletos\n",
      "True\n",
      "None\n"
     ]
    }
   ],
   "source": [
    "def ex_seven (whichever_list):\n",
    "    \"\"\"\n",
    "    Loop through whichever_list to show all the elements it contains except the street number and the hours you've slept.\n",
    "    \"\"\"\n",
    "    for e in range(len(whichever_list)):\n",
    "        if whichever_list[e] == 15 or whichever_list[e] == '8':\n",
    "            pass\n",
    "        else:\n",
    "            if type(whichever_list[e]) == list:\n",
    "                for i in range(len(whichever_list[e])):\n",
    "                    if whichever_list[e][i] == 15 or whichever_list[e][i] == '8':\n",
    "                        pass\n",
    "            else:\n",
    "                print(whichever_list[e])\n",
    "\n",
    "ex_seven(whichever_list= info_list)"
   ]
  },
  {
   "cell_type": "markdown",
   "metadata": {},
   "source": [
    "8. Loop through `whichever_list` to print all the elements it contains except the first element of the list which is in fourth position (`'Recoletos'`). This function should return the lenght of that element. "
   ]
  },
  {
   "cell_type": "code",
   "execution_count": 3,
   "metadata": {},
   "outputs": [
    {
     "data": {
      "text/plain": [
       "'Recoletos'"
      ]
     },
     "execution_count": 3,
     "metadata": {},
     "output_type": "execute_result"
    }
   ],
   "source": [
    "info_list[3][0]"
   ]
  },
  {
   "cell_type": "code",
   "execution_count": 23,
   "metadata": {},
   "outputs": [
    {
     "name": "stdout",
     "output_type": "stream",
     "text": [
      "15\n",
      "True\n",
      "15\n",
      "None\n",
      "8\n"
     ]
    },
    {
     "data": {
      "text/plain": [
       "9"
      ]
     },
     "execution_count": 23,
     "metadata": {},
     "output_type": "execute_result"
    }
   ],
   "source": [
    "def ex_eight (whichever_list):\n",
    "    \"\"\"\n",
    "    Loop through whichever_list to print all the elements it contains except the first element of the list which is in fourth position ('Recoletos'). This function should return the lenght of that element.\n",
    "    \"\"\"\n",
    "    for e in range(len(whichever_list)):\n",
    "        if type(whichever_list[e]) == list:\n",
    "\n",
    "                for i in range(len(whichever_list[e])):\n",
    "                    if whichever_list[e][i] == 'Recoletos':\n",
    "                        len_Rec =  len(whichever_list[e][i])\n",
    "                    else:\n",
    "                        print(whichever_list[e][i])\n",
    "        \n",
    "        elif whichever_list[e] == 'Recoletos':\n",
    "            pass\n",
    "        \n",
    "        else:\n",
    "            print(whichever_list[e])\n",
    "\n",
    "    return len_Rec    \n",
    "\n",
    "recoletos_lengh = ex_eight(whichever_list= info_list)\n",
    "recoletos_lengh"
   ]
  },
  {
   "cell_type": "markdown",
   "metadata": {},
   "source": [
    "9. Loop through `whichever_list` to show all the elements it contains except the one that contains the information about whether you like the mountains or the beach. The function should return a message saying `\"I love the beach\"` if you prefer the beach and a message saying `\"I love the mountain\"` otherwise. "
   ]
  },
  {
   "cell_type": "code",
   "execution_count": 25,
   "metadata": {},
   "outputs": [
    {
     "name": "stdout",
     "output_type": "stream",
     "text": [
      "15\n",
      "Recoletos\n",
      "['Recoletos', 15]\n",
      "None\n",
      "8\n"
     ]
    },
    {
     "data": {
      "text/plain": [
       "'I love the beach'"
      ]
     },
     "execution_count": 25,
     "metadata": {},
     "output_type": "execute_result"
    }
   ],
   "source": [
    "def ex_nine (whichever_list):\n",
    "    \"\"\"\n",
    "    Loop through whichever_list to show all the elements it contains except the one that contains the information about whether you like the mountains or the beach. The function should return a message saying \"I love the beach\" if you prefer the beach and a message saying \"I love the mountain\" otherwise.\n",
    "    \"\"\"\n",
    "    for e in range(len(whichever_list)):\n",
    "        if type(whichever_list[e]) == bool:\n",
    "            if whichever_list[e] == True:\n",
    "                message = \"I love the beach\"\n",
    "            \n",
    "            else:\n",
    "                message = \"I love the mountain\"\n",
    "\n",
    "        else:\n",
    "            print(whichever_list[e])\n",
    "\n",
    "    return message    \n",
    "\n",
    "message = ex_nine(whichever_list= info_list)\n",
    "message"
   ]
  },
  {
   "cell_type": "code",
   "execution_count": 28,
   "metadata": {},
   "outputs": [
    {
     "name": "stdout",
     "output_type": "stream",
     "text": [
      "15\n",
      "Recoletos\n",
      "['Recoletos', 15]\n",
      "None\n",
      "8\n"
     ]
    },
    {
     "data": {
      "text/plain": [
       "'I love the beach'"
      ]
     },
     "execution_count": 28,
     "metadata": {},
     "output_type": "execute_result"
    }
   ],
   "source": [
    "# Take 2 para que veáis que se puede.\n",
    "\n",
    "def ex_nine_bis (whichever_list):\n",
    "    \"\"\"\n",
    "    Loop through whichever_list to show all the elements it contains except the one that contains the information about whether you like the mountains or the beach. The function should return a message saying \"I love the beach\" if you prefer the beach and a message saying \"I love the mountain\" otherwise.\n",
    "    \"\"\"\n",
    "    def ex_one_bis(preference):\n",
    "        \"\"\"\n",
    "        Return \"I like the tranquility\" if you like the mountains more and \"I'd love to live in Malaga\" if you like the beach more\n",
    "        \"\"\"\n",
    "        if preference == False:\n",
    "            return 'I love the mountain'\n",
    "\n",
    "        elif preference == True:\n",
    "            return \"I love the beach\"\n",
    "\n",
    "        else:\n",
    "            print('Preference was not understood.')\n",
    "\n",
    "\n",
    "\n",
    "    for e in range(len(whichever_list)):\n",
    "        if type(whichever_list[e]) == bool:\n",
    "            message = ex_one_bis(preference= whichever_list[e])\n",
    "\n",
    "        else:\n",
    "            print(whichever_list[e])\n",
    "\n",
    "    return message    \n",
    "\n",
    "message = ex_nine_bis(whichever_list= info_list)\n",
    "message"
   ]
  },
  {
   "cell_type": "markdown",
   "metadata": {},
   "source": [
    "### Bonus Track\n",
    "\n",
    "In the case of not being able to solve a question containing the code in a function, try to do it without defining one. "
   ]
  },
  {
   "cell_type": "markdown",
   "metadata": {},
   "source": [
    "1. Create a variable called `zone` and give it the value of **None**. Loop through `whichever_list` and update `zone` to **True** if and only if, you have slept more than 7 hours, you like the beach and the sum of the hours you have slept plus the number of The Bridge is less than 24. For any other case, `zone` will be **False**. This function should return the value of `zone` and will be called `zone_function`.\n"
   ]
  },
  {
   "cell_type": "code",
   "execution_count": 29,
   "metadata": {},
   "outputs": [],
   "source": [
    "zone = None"
   ]
  },
  {
   "cell_type": "code",
   "execution_count": 36,
   "metadata": {},
   "outputs": [
    {
     "data": {
      "text/plain": [
       "True"
      ]
     },
     "execution_count": 36,
     "metadata": {},
     "output_type": "execute_result"
    }
   ],
   "source": [
    "def zone_function (whichever_list, zone):\n",
    "    \"\"\"\n",
    "    Create a variable called zone and give it the value of None. Loop through whichever_list and update zone to True if and only if, you have slept more than 7 hours, you like the beach and the sum of the hours you have slept plus the number of The Bridge is less than 24. For any other case, zone will be False. This function should return the value of zone and will be called zone_function.\n",
    "    \"\"\"\n",
    "    sleep_h = int(whichever_list[-1])\n",
    "    less_than = int(whichever_list[-1]) + len(whichever_list[1])\n",
    "    preference = whichever_list[2]\n",
    "\n",
    "    if (sleep_h > 7) and (preference == True) and(less_than< 24):\n",
    "        zone = True\n",
    "        \n",
    "        return zone\n",
    "\n",
    "zone = zone_function(whichever_list= info_list, zone= zone)\n",
    "zone"
   ]
  },
  {
   "cell_type": "markdown",
   "metadata": {},
   "source": [
    "2. Define a function called `test_function` that receives only one parameter called `zone_value` and that returns the value of `zone_value` if it is **True**. Once you've defined `test_function` you should call it with the value returned by the `zone_function` as an argument."
   ]
  },
  {
   "cell_type": "code",
   "execution_count": 37,
   "metadata": {},
   "outputs": [
    {
     "data": {
      "text/plain": [
       "True"
      ]
     },
     "execution_count": 37,
     "metadata": {},
     "output_type": "execute_result"
    }
   ],
   "source": [
    "def test_function (zone_value):\n",
    "    \"\"\"\n",
    "    Define a function called test_function that receives only one parameter called zone_value and that returns the value of zone_value if it is True. Once you've defined test_function you should call it with the value returned by the zone_function as an argument.\n",
    "    \"\"\"\n",
    "    if zone_value == True:\n",
    "        return zone_value\n",
    "\n",
    "zone_value = test_function(zone_value= zone_function(whichever_list= info_list, zone= zone))\n",
    "zone_value"
   ]
  },
  {
   "cell_type": "code",
   "execution_count": 38,
   "metadata": {},
   "outputs": [
    {
     "data": {
      "text/plain": [
       "True"
      ]
     },
     "execution_count": 38,
     "metadata": {},
     "output_type": "execute_result"
    }
   ],
   "source": [
    "# Take 2 Usando la variable declarada antes\n",
    "zone_value = test_function(zone_value= zone)\n",
    "zone_value"
   ]
  },
  {
   "cell_type": "markdown",
   "metadata": {},
   "source": [
    "3. Define a function that asks the user if they like the mountain and, if not, call the `zone_function` function."
   ]
  },
  {
   "cell_type": "code",
   "execution_count": 40,
   "metadata": {},
   "outputs": [
    {
     "name": "stdout",
     "output_type": "stream",
     "text": [
      "Your's trully happens to like the mountain\n"
     ]
    }
   ],
   "source": [
    "def ex_3(whichever_list= info_list, zone= zone):\n",
    "    \"\"\"\n",
    "    Define a function that asks the user if they like the mountain and, if not, call the zone_function function.\n",
    "    \"\"\"\n",
    "    choice = input('Do you like the mountain? Y/N> ')\n",
    "\n",
    "    if choice == 'Y' or choice == 'y':\n",
    "        pass\n",
    "\n",
    "    else:\n",
    "        zone_2 = zone_function(whichever_list= info_list, zone= zone)\n",
    "        print(zone_2)\n",
    "\n",
    "ex_3(whichever_list= info_list, zone= zone)\n",
    "print(\"Your's trully happens to like the mountain\")"
   ]
  },
  {
   "cell_type": "markdown",
   "metadata": {},
   "source": [
    "### Bonus Track of the Bonus Track\n",
    "\n",
    "**This Bonus Track could take you some days, it is very ok, sometimes coding is all about time.**\n",
    "\n",
    "This week, you'll also learn about `.py` files and you will be able to implement this program into that kind of file. Not yet, tho. "
   ]
  },
  {
   "cell_type": "markdown",
   "metadata": {},
   "source": [
    "1. Program **a calculator** that asks for two numbers and two operators on the screen. One operation must be performed first and then another. Try to define as many functions as possible."
   ]
  },
  {
   "cell_type": "code",
   "execution_count": 47,
   "metadata": {},
   "outputs": [],
   "source": [
    "def calculator ():\n",
    "    \"\"\"\n",
    "    Program a calculator that asks for two numbers and two operators on the screen. One operation must be performed first and then another. Try to define as many functions as possible.\n",
    "    \"\"\"\n",
    "    def add (num_1, num_2):\n",
    "        \"\"\"\n",
    "        Performs and returns num_1 + num_2\n",
    "        \"\"\"\n",
    "        print(f'\\n\\tAdding {num_1} and {num_2}')\n",
    "        num_3 = num_1 + num_2\n",
    "        return num_3\n",
    "\n",
    "    def subtract (num_1, num_2):\n",
    "        \"\"\"\n",
    "        Performs and returns num_1 + num_2\n",
    "        \"\"\"\n",
    "        print(f'\\n\\tSubtracting {num_1} and {num_2}')\n",
    "        num_3 = num_1 - num_2\n",
    "        return num_3\n",
    "    \n",
    "    def multiply (num_1, num_2):\n",
    "        \"\"\"\n",
    "        Performs and returns num_1 + num_2\n",
    "        \"\"\"\n",
    "        print(f'\\n\\tMultiplying {num_1} and {num_2}')\n",
    "        num_3 = num_1 * num_2\n",
    "        return num_3\n",
    "\n",
    "    def divide (num_1, num_2):\n",
    "        \"\"\"\n",
    "        Performs and returns num_1 + num_2\n",
    "        \"\"\"\n",
    "        print(f'\\n\\tDividing {num_1} and {num_2}')\n",
    "        num_3 = num_1 / num_2\n",
    "        return num_3\n",
    "    \n",
    "    print('Booting calculator...')\n",
    "    print('Following operators supported:\\n\\t-> +\\n\\t-> -\\n\\t-> *\\n\\t-> /')\n",
    "\n",
    "    num_1 = int(input('Number 1: '))\n",
    "    print(f'\\n1st number: {num_1}')\n",
    "\n",
    "    num_2 = int(input('Number 2: '))\n",
    "    print(f'2nd number: {num_2}\\n')\n",
    "\n",
    "    operator_1 = input('Operator 1: ')\n",
    "    operator_2 = input('Operator 2: ')\n",
    "\n",
    "    if operator_1 == '+':\n",
    "        num_3 = add(num_1, num_2)\n",
    "\n",
    "    elif operator_1 == '-':\n",
    "        num_3 = subtract(num_1, num_2)\n",
    "\n",
    "    elif operator_1 == '*':\n",
    "        num_3 = multiply(num_1, num_2)\n",
    "\n",
    "    elif operator_1 == '/':\n",
    "        num_3 = divide(num_1, num_2)\n",
    "\n",
    "    # 2nd operation block\n",
    "    if operator_2 == '+':\n",
    "        num_4 = add(num_1, num_2)\n",
    "\n",
    "    elif operator_2 == '-':\n",
    "        num_4 = subtract(num_1, num_2)\n",
    "\n",
    "    elif operator_2 == '*':\n",
    "        num_4 = multiply(num_1, num_2)\n",
    "\n",
    "    elif operator_2 == '/':\n",
    "        num_4 = divide(num_1, num_2)\n",
    "\n",
    "    print(f'\\n--Results of 1st and 2nd operation respectively: {num_3}, {num_4}--')\n",
    "\n",
    "    return num_3, num_4"
   ]
  },
  {
   "cell_type": "code",
   "execution_count": 49,
   "metadata": {},
   "outputs": [
    {
     "name": "stdout",
     "output_type": "stream",
     "text": [
      "Booting calculator...\n",
      "Following operators supported:\n",
      "\t-> +\n",
      "\t-> -\n",
      "\t-> *\n",
      "\t-> /\n",
      "1st number: 300\n",
      "\n",
      "2nd number: 52\n",
      "\n",
      "\n",
      "\tMultiplying 300 and 52\n",
      "\n",
      "\tSubtracting 300 and 52\n",
      "\n",
      "--Results of 1st and 2nd operation respectively: 15600, 248--\n",
      "\n",
      "15600\n",
      "248\n"
     ]
    }
   ],
   "source": [
    "result_1, result_2 = calculator()\n",
    "\n",
    "print()\n",
    "print(result_1)\n",
    "print(result_2)"
   ]
  },
  {
   "cell_type": "markdown",
   "metadata": {},
   "source": [
    "!['ha'](https://i.pinimg.com/originals/c6/4e/fc/c64efc9adaedbf446f328698e8b67388.jpg)"
   ]
  },
  {
   "cell_type": "code",
   "execution_count": null,
   "metadata": {},
   "outputs": [],
   "source": []
  }
 ],
 "metadata": {
  "kernelspec": {
   "display_name": "Python 3",
   "language": "python",
   "name": "python3"
  },
  "language_info": {
   "codemirror_mode": {
    "name": "ipython",
    "version": 3
   },
   "file_extension": ".py",
   "mimetype": "text/x-python",
   "name": "python",
   "nbconvert_exporter": "python",
   "pygments_lexer": "ipython3",
   "version": "3.8.3"
  }
 },
 "nbformat": 4,
 "nbformat_minor": 4
}
