{
 "cells": [
  {
   "cell_type": "markdown",
   "metadata": {},
   "source": [
    "# Python | day 5 | functions"
   ]
  },
  {
   "cell_type": "markdown",
   "metadata": {},
   "source": [
    "In Python, a function is a group of related statements that performs a specific task."
   ]
  },
  {
   "cell_type": "markdown",
   "metadata": {},
   "source": [
    "https://www.programiz.com/python-programming/function"
   ]
  },
  {
   "cell_type": "markdown",
   "metadata": {},
   "source": [
    "#### Difference between `return` and `print`.\n",
    "\n",
    "Take some minutes to understand the difference between `return` and `print`, it seems to be the same, but they are not and it's important you understand the difference. "
   ]
  },
  {
   "cell_type": "code",
   "execution_count": 1,
   "metadata": {},
   "outputs": [
    {
     "output_type": "stream",
     "name": "stdout",
     "text": [
      "2\n4\n8\n"
     ]
    }
   ],
   "source": [
    "def suma(a,b):\n",
    "    print(a)\n",
    "    return a+b\n",
    "\n",
    "print(suma(suma(2,2),4))"
   ]
  },
  {
   "cell_type": "markdown",
   "metadata": {},
   "source": [
    "#### Comments in a function."
   ]
  },
  {
   "cell_type": "code",
   "execution_count": 2,
   "metadata": {},
   "outputs": [],
   "source": [
    "def say_hello(name):\n",
    "    \"\"\"\n",
    "    Given a name as an argument, \n",
    "    the function return a string greeting\n",
    "    the name given. \n",
    "    \"\"\"\n",
    "    return f\"hello {name}\""
   ]
  },
  {
   "cell_type": "code",
   "execution_count": 3,
   "metadata": {},
   "outputs": [
    {
     "output_type": "stream",
     "name": "stdout",
     "text": [
      "hello Clara\n"
     ]
    }
   ],
   "source": [
    "print(say_hello(\"Clara\"))"
   ]
  },
  {
   "cell_type": "code",
   "execution_count": 4,
   "metadata": {},
   "outputs": [
    {
     "output_type": "stream",
     "name": "stdout",
     "text": [
      "Help on function say_hello in module __main__:\n\nsay_hello(name)\n    Given a name as an argument, \n    the function return a string greeting\n    the name given.\n\n"
     ]
    }
   ],
   "source": [
    "help(say_hello)"
   ]
  },
  {
   "cell_type": "markdown",
   "metadata": {},
   "source": [
    "### Exercise 1. "
   ]
  },
  {
   "cell_type": "markdown",
   "metadata": {},
   "source": [
    "To solve the following exercises it will be necessary to define a function for each section. You choose the name of those functions unless specified, but make sure you define a single parameter `whichever_list`, when calling the function it will correspond to the variable `info_list`.\n",
    "```python\n",
    "def funtion_bla(whichever_list):\n",
    "    return whichever_list\n",
    "\n",
    "function_bla(info_list)\n",
    "```\n",
    "\n",
    "**In the case of not being able to solve a question containing the code in a function, try to do it without defining one.**"
   ]
  },
  {
   "cell_type": "code",
   "execution_count": 114,
   "metadata": {},
   "outputs": [],
   "source": [
    "# you can use this list or take yours from Practice 3\n",
    "info_list = [15, 'Recoletos', False, ['Recoletos', 15],  None, '8'] \n"
   ]
  },
  {
   "cell_type": "markdown",
   "metadata": {},
   "source": [
    "1. Display on the screen `\"I like the tranquility\"` if you like the mountains more and `\"I'd love to live in Malaga\"` if you like the beach more.\n",
    "\n"
   ]
  },
  {
   "cell_type": "code",
   "execution_count": 36,
   "metadata": {},
   "outputs": [],
   "source": [
    "#define a function which takes a single parameter `whichever_list`\n",
    "\n",
    "def personal_taste(whichever_list):\n",
    "    for elem in whichever_list:\n",
    "        if isinstance(elem, bool) and elem == True:\n",
    "            print(\"I'd love to live in Malaga\")\n",
    "        elif isinstance(elem, bool) and elem == False:\n",
    "            print(\"I like the tranquility\")\n",
    "    return whichever_list\n",
    "\n",
    "    \n"
   ]
  },
  {
   "cell_type": "code",
   "execution_count": 35,
   "metadata": {},
   "outputs": [
    {
     "output_type": "stream",
     "name": "stdout",
     "text": [
      "I like the tranquility\n"
     ]
    },
    {
     "output_type": "execute_result",
     "data": {
      "text/plain": [
       "[15, 'Recoletos', False, ['Recoletos', 15], None, '8']"
      ]
     },
     "metadata": {},
     "execution_count": 35
    }
   ],
   "source": [
    "#call the function with the variable `info_list`\n",
    "personal_taste(whichever_list=info_list)"
   ]
  },
  {
   "cell_type": "markdown",
   "metadata": {},
   "source": [
    "2. Print `\"Today I am tired\"` if you have slept less than 7 hours or `\"Today I conquer the world\"` if you have slept more than 7 hours."
   ]
  },
  {
   "cell_type": "code",
   "execution_count": 59,
   "metadata": {},
   "outputs": [],
   "source": [
    "#define a function which takes a single parameter `whichever_list`\n",
    "\n",
    "# info_list = [15, 'Recoletos', True, ['Recoletos', 15],  None, '8']\n",
    "def sleep(whichever_list):\n",
    "       \n",
    "    for elem in whichever_list:  \n",
    "        if isinstance(elem, str) and len(elem) == 1:\n",
    "            hour = []\n",
    "            hour.append(int(elem))\n",
    "            for x in hour:\n",
    "                if x <=7:\n",
    "                    print(\"Today I am tired\")\n",
    "            \n",
    "                else:\n",
    "                    print(\"Today I conquer the world\")\n",
    "\n",
    "            \n",
    "    return whichever_list\n",
    "\n"
   ]
  },
  {
   "cell_type": "code",
   "execution_count": 60,
   "metadata": {},
   "outputs": [
    {
     "output_type": "stream",
     "name": "stdout",
     "text": [
      "Today I conquer the world\n"
     ]
    },
    {
     "output_type": "execute_result",
     "data": {
      "text/plain": [
       "[15, 'Recoletos', False, ['Recoletos', 15], None, '8']"
      ]
     },
     "metadata": {},
     "execution_count": 60
    }
   ],
   "source": [
    "#call the function with the variable `info_list`\n",
    "sleep(whichever_list=info_list)"
   ]
  },
  {
   "cell_type": "markdown",
   "metadata": {},
   "source": [
    "3. Loop through `whichever_list` to print all the elements it contains. This function should return the list turned into a tuple. "
   ]
  },
  {
   "cell_type": "code",
   "execution_count": 67,
   "metadata": {},
   "outputs": [],
   "source": [
    "#define a function which takes a single parameter `whichever_list`\n",
    "def tupla(whichever_list):\n",
    "    print(tuple(whichever_list))\n",
    "                             \n",
    "    return tuple(whichever_list)\n",
    "\n",
    "    "
   ]
  },
  {
   "cell_type": "code",
   "execution_count": 68,
   "metadata": {},
   "outputs": [
    {
     "output_type": "stream",
     "name": "stdout",
     "text": [
      "(15, 'Recoletos', False, ['Recoletos', 15], None, '8')\n"
     ]
    },
    {
     "output_type": "execute_result",
     "data": {
      "text/plain": [
       "(15, 'Recoletos', False, ['Recoletos', 15], None, '8')"
      ]
     },
     "metadata": {},
     "execution_count": 68
    }
   ],
   "source": [
    "#call the function with the variable `info_list`\n",
    "tupla(whichever_list=info_list)"
   ]
  },
  {
   "cell_type": "markdown",
   "metadata": {},
   "source": [
    "4. Loop through `whichever_list` to print all the elements it contains concatenated with the string` \"--> OK\" `. This function should return a message saying, `\"everything will be ok\"`. \n"
   ]
  },
  {
   "cell_type": "code",
   "execution_count": 81,
   "metadata": {},
   "outputs": [],
   "source": [
    "#define a function which takes a single parameter `whichever_list`\n",
    "\n",
    "def concatenated(whichever_list):\n",
    "    \n",
    "    for elem in whichever_list: \n",
    "        print(str(elem) + \"--> OK\")\n",
    "                        \n",
    "    return \"everything will be ok\"\n",
    "\n"
   ]
  },
  {
   "cell_type": "code",
   "execution_count": 82,
   "metadata": {},
   "outputs": [
    {
     "output_type": "stream",
     "name": "stdout",
     "text": [
      "15--> OK\nRecoletos--> OK\nFalse--> OK\n['Recoletos', 15]--> OK\nNone--> OK\n8--> OK\n"
     ]
    },
    {
     "output_type": "execute_result",
     "data": {
      "text/plain": [
       "'everything will be ok'"
      ]
     },
     "metadata": {},
     "execution_count": 82
    }
   ],
   "source": [
    "#call the function with the variable `info_list`\n",
    "concatenated(whichever_list=info_list)"
   ]
  },
  {
   "cell_type": "markdown",
   "metadata": {},
   "source": [
    "5. Loop through `whichever_list` to display all items it contains except the first one. This function should return the first element of the list. "
   ]
  },
  {
   "cell_type": "code",
   "execution_count": 91,
   "metadata": {},
   "outputs": [],
   "source": [
    "#define a function which takes a single parameter `whichever_list`\n",
    "\n",
    "#info_list = [15, 'Recoletos', False, ['Recoletos', 15],  None, '8'] \n",
    "def less_first_elem(whichever_list):\n",
    "\n",
    "    for n in range(len(whichever_list)):\n",
    "        first_elem = []\n",
    "        first_elem.append(whichever_list[0])\n",
    "        whichever_list.pop(0)\n",
    "        print(whichever_list)\n",
    "        break \n",
    "\n",
    "    return first_elem\n",
    "\n",
    "                                         \n"
   ]
  },
  {
   "cell_type": "code",
   "execution_count": 92,
   "metadata": {},
   "outputs": [
    {
     "output_type": "stream",
     "name": "stdout",
     "text": [
      "['Recoletos', False, ['Recoletos', 15], None, '8']\n"
     ]
    },
    {
     "output_type": "execute_result",
     "data": {
      "text/plain": [
       "[15]"
      ]
     },
     "metadata": {},
     "execution_count": 92
    }
   ],
   "source": [
    "#call the function with the variable `info_list`\n",
    "less_first_elem(whichever_list=info_list)"
   ]
  },
  {
   "cell_type": "markdown",
   "metadata": {},
   "source": [
    "6. Loop through `whichever_list` to display all the items it contains except the last one. This function should return the last element of the list. "
   ]
  },
  {
   "cell_type": "code",
   "execution_count": 94,
   "metadata": {},
   "outputs": [],
   "source": [
    "#define a function which takes a single parameter `whichever_list`\n",
    "def less_last_elem(whichever_list):\n",
    "\n",
    "    for n in range(len(whichever_list)):\n",
    "        last_elem = []\n",
    "        last_elem.append(whichever_list[-1])\n",
    "        whichever_list.pop(-1)\n",
    "        print(whichever_list)\n",
    "        break\n",
    "    return last_elem"
   ]
  },
  {
   "cell_type": "code",
   "execution_count": 95,
   "metadata": {},
   "outputs": [
    {
     "output_type": "stream",
     "name": "stdout",
     "text": [
      "[15, 'Recoletos', False, ['Recoletos', 15], None]\n"
     ]
    },
    {
     "output_type": "execute_result",
     "data": {
      "text/plain": [
       "['8']"
      ]
     },
     "metadata": {},
     "execution_count": 95
    }
   ],
   "source": [
    "#call the function with the variable `info_list`\n",
    "less_last_elem(whichever_list=info_list)"
   ]
  },
  {
   "cell_type": "markdown",
   "metadata": {},
   "source": [
    "7. Loop through `whichever_list` to show all the elements it contains except the street number and the hours you've slept."
   ]
  },
  {
   "cell_type": "code",
   "execution_count": 97,
   "metadata": {},
   "outputs": [],
   "source": [
    "#define a function which takes a single parameter `whichever_list`\n",
    "#[15, 'Recoletos', False, ['Recoletos', 15],  None, '8']\n",
    "def first_last_elem(whichever_list):\n",
    "\n",
    "    print(whichever_list[1:-1])\n",
    "\n",
    "    return whichever_list\n",
    "\n",
    "         \n",
    "      \n",
    "     \n",
    "\n",
    "\n",
    "        "
   ]
  },
  {
   "cell_type": "code",
   "execution_count": 98,
   "metadata": {},
   "outputs": [
    {
     "output_type": "stream",
     "name": "stdout",
     "text": [
      "['Recoletos', False, ['Recoletos', 15], None]\n"
     ]
    },
    {
     "output_type": "execute_result",
     "data": {
      "text/plain": [
       "[15, 'Recoletos', False, ['Recoletos', 15], None, '8']"
      ]
     },
     "metadata": {},
     "execution_count": 98
    }
   ],
   "source": [
    "#call the function with the variable `info_list`\n",
    "first_last_elem(whichever_list=info_list)"
   ]
  },
  {
   "cell_type": "code",
   "execution_count": 13,
   "metadata": {},
   "outputs": [],
   "source": [
    "info_list = [15, 'Recoletos', False, ['Recoletos', 15],  None, '8'] "
   ]
  },
  {
   "cell_type": "markdown",
   "metadata": {},
   "source": [
    "8. Loop through `whichever_list` to print all the elements it contains except the first element of the list which is in fourth position (`'Recoletos'`). This function should return the lenght of that element. "
   ]
  },
  {
   "cell_type": "code",
   "execution_count": 141,
   "metadata": {},
   "outputs": [],
   "source": [
    "#define a function which takes a single parameter `whichever_list`\n",
    "def less_last_elem(whichever_list):\n",
    "     list_elem = []\n",
    "\n",
    "     for i, elem in enumerate(whichever_list):\n",
    "         if isinstance(elem, list):\n",
    "             list_elem.append(len(elem[0]))\n",
    "             del whichever_list[3][0]\n",
    "             print(whichever_list)\n",
    "     return list_elem\n",
    "\n",
    "\n",
    "       \n",
    "      "
   ]
  },
  {
   "cell_type": "code",
   "execution_count": 142,
   "metadata": {},
   "outputs": [
    {
     "output_type": "stream",
     "name": "stdout",
     "text": [
      "[15, 'Recoletos', False, [15], None, '8']\n"
     ]
    },
    {
     "output_type": "execute_result",
     "data": {
      "text/plain": [
       "[9]"
      ]
     },
     "metadata": {},
     "execution_count": 142
    }
   ],
   "source": [
    "#call the function with the variable `info_list`\n",
    "less_last_elem(whichever_list=info_list)"
   ]
  },
  {
   "cell_type": "markdown",
   "metadata": {},
   "source": [
    "9. Loop through `whichever_list` to show all the elements it contains except the one that contains the information about whether you like the mountains or the beach. The function should return a message saying `\"I love the beach\"` if you prefer the beach and a message saying `\"I love the mountain\"` otherwise. "
   ]
  },
  {
   "cell_type": "code",
   "execution_count": 146,
   "metadata": {},
   "outputs": [],
   "source": [
    "#define a function which takes a single parameter `whichever_list`\n",
    "def taste_personal(whichever_list):\n",
    "    taste = []\n",
    "    for elem in whichever_list:\n",
    "        taste1 = []\n",
    "        if isinstance(elem, bool):\n",
    "            taste1.append(elem)\n",
    "            if taste1 == True:\n",
    "                taste.append(\"I love the beach\")\n",
    "            else: \n",
    "                taste.append(\"I love the mountain\")\n",
    "\n",
    "    return taste         \n",
    "\n",
    "\n"
   ]
  },
  {
   "cell_type": "code",
   "execution_count": 148,
   "metadata": {},
   "outputs": [
    {
     "output_type": "execute_result",
     "data": {
      "text/plain": [
       "['I love the mountain']"
      ]
     },
     "metadata": {},
     "execution_count": 148
    }
   ],
   "source": [
    "#call the function with the variable `info_list`\n",
    "taste_personal(whichever_list=info_list)"
   ]
  },
  {
   "cell_type": "markdown",
   "metadata": {},
   "source": [
    "### Bonus Track\n",
    "\n",
    "In the case of not being able to solve a question containing the code in a function, try to do it without defining one. "
   ]
  },
  {
   "cell_type": "code",
   "execution_count": 10,
   "metadata": {},
   "outputs": [],
   "source": [
    "info_list = [15, 'Recoletos', False, ['Recoletos', 15],  None, '8'] "
   ]
  },
  {
   "cell_type": "markdown",
   "metadata": {},
   "source": [
    "1. Create a variable called `zone` and give it the value of **None**. Loop through `whichever_list` and update `zone` to **True** if and only if, you have slept more than 7 hours, you like the beach and the sum of the hours you have slept plus the number of The Bridge is less than 24. In any other case, `zone` will be **False**. This function should return the value of `zone` and will be called `zone_function`.\n"
   ]
  },
  {
   "cell_type": "code",
   "execution_count": 14,
   "metadata": {},
   "outputs": [],
   "source": [
    "zone = None\n",
    "zone_function = zone\n",
    "\n",
    "\n",
    "def zone_function(whichever_list):\n",
    "    hours_sleep = []\n",
    "    suma_street = []\n",
    "    total_sum = []\n",
    "\n",
    "       \n",
    "    for i, elem in enumerate(whichever_list):\n",
    "        if isinstance(elem, bool) and elem == True:\n",
    "            pass\n",
    "        if isinstance(elem, str) and len(elem) == 1:\n",
    "            \n",
    "            hours_sleep.append(int(elem))\n",
    "            if hours_sleep[0] >=7:\n",
    "                pass\n",
    "\n",
    "        if isinstance(elem, int):\n",
    "            suma_street.append(whichever_list[i])\n",
    "            total_sum = sum(hours_sleep + suma_street)\n",
    "            if total_sum < 24:\n",
    "                zone = True\n",
    "        \n",
    "                     \n",
    "        else:\n",
    "            zone = False\n",
    "       \n",
    "\n",
    "    return zone\n",
    "    \n",
    "         \n",
    "        \n",
    "   \n",
    "     "
   ]
  },
  {
   "cell_type": "code",
   "execution_count": 15,
   "metadata": {},
   "outputs": [
    {
     "output_type": "execute_result",
     "data": {
      "text/plain": [
       "False"
      ]
     },
     "metadata": {},
     "execution_count": 15
    }
   ],
   "source": [
    "zone_function(whichever_list=info_list)"
   ]
  },
  {
   "cell_type": "markdown",
   "metadata": {},
   "source": [
    "2. Define a function called `test_function` that receives only one parameter called `zone_value` and that returns the value of `zone_value` if it is **True**. Once you've defined `test_function` you should call it with the value returned by the `zone_function` as an argument."
   ]
  },
  {
   "cell_type": "code",
   "execution_count": 24,
   "metadata": {},
   "outputs": [],
   "source": [
    "\n",
    "def test_function(zone_value):\n",
    "    if zone_value == True:\n",
    "       print (zone_value)\n",
    "    else:\n",
    "       print(False)\n",
    "    \n",
    "\n",
    "   \n"
   ]
  },
  {
   "cell_type": "code",
   "execution_count": 25,
   "metadata": {},
   "outputs": [
    {
     "output_type": "stream",
     "name": "stdout",
     "text": [
      "False\n"
     ]
    }
   ],
   "source": [
    "test_function(zone_value=zone_function)"
   ]
  },
  {
   "cell_type": "markdown",
   "metadata": {},
   "source": [
    "3. Define a function that asks the user if they like the mountain and, if not, call the `zone_function` function."
   ]
  },
  {
   "cell_type": "code",
   "execution_count": null,
   "metadata": {},
   "outputs": [],
   "source": []
  },
  {
   "cell_type": "markdown",
   "metadata": {},
   "source": [
    "### Bonus Track of the Bonus Track.\n",
    "\n",
    "**This Bonus Track could take you some days, it is very ok, sometimes coding is all about time.**\n",
    "\n",
    "Sooner than later, you'll also learn about `.py` files and you will be able to implement this program into that kind of file. Not yet, tho. "
   ]
  },
  {
   "cell_type": "markdown",
   "metadata": {},
   "source": [
    "1. Program **a calculator** that asks for two numbers and two operators on the screen. One operation must be performed first and then another. Try to define as many functions as possible."
   ]
  },
  {
   "cell_type": "code",
   "execution_count": null,
   "metadata": {},
   "outputs": [],
   "source": []
  },
  {
   "cell_type": "markdown",
   "metadata": {},
   "source": [
    "!['ha'](https://i.pinimg.com/originals/c6/4e/fc/c64efc9adaedbf446f328698e8b67388.jpg)"
   ]
  },
  {
   "cell_type": "code",
   "execution_count": null,
   "metadata": {},
   "outputs": [],
   "source": []
  }
 ],
 "metadata": {
  "kernelspec": {
   "name": "python374jvsc74a57bd0a9b83ec4160fc914f5169c2fc0bc9ab1c02e189a457abfa966969b692f6336e9",
   "display_name": "Python 3.7.4 64-bit"
  },
  "language_info": {
   "codemirror_mode": {
    "name": "ipython",
    "version": 3
   },
   "file_extension": ".py",
   "mimetype": "text/x-python",
   "name": "python",
   "nbconvert_exporter": "python",
   "pygments_lexer": "ipython3",
   "version": "3.7.4-final"
  },
  "metadata": {
   "interpreter": {
    "hash": "a9b83ec4160fc914f5169c2fc0bc9ab1c02e189a457abfa966969b692f6336e9"
   }
  }
 },
 "nbformat": 4,
 "nbformat_minor": 4
}