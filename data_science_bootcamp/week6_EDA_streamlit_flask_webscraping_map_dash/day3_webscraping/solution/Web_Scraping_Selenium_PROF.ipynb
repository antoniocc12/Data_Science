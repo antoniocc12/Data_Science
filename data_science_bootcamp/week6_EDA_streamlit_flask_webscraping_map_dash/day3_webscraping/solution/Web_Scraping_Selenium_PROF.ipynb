{
 "cells": [
  {
   "cell_type": "markdown",
   "metadata": {},
   "source": [
    "Antes de empezar: un poco de documentación para enterder ligeramente cómo funciona HTML:\n",
    "https://www.w3schools.com/html/html_intro.asp"
   ]
  },
  {
   "cell_type": "markdown",
   "metadata": {},
   "source": [
    "# Web Scraping: Selenium"
   ]
  },
  {
   "cell_type": "markdown",
   "metadata": {},
   "source": [
    "En este notebook veremos cómo automatizar la extracción de datos de una página web simulando la navegación. Para ello utilizaremos la librería Selenium:\n",
    "https://selenium-python.readthedocs.io/"
   ]
  },
  {
   "cell_type": "markdown",
   "metadata": {},
   "source": [
    "El software libre Selenium es un framework para realizar test automatizados de software a aplicaciones web. En principio, fue desarrollado para poner a prueba páginas y apps web, pero el WebDriver de Selenium también puede usarse con Python para realizar scraping. Si bien Selenium en sí no está escrito en Python, con este lenguaje de programación es posible acceder a las funciones del software.\n",
    "\n",
    "A diferencia de Scrapy y de BeautifulSoup, Selenium no trabaja con el texto fuente en HTML de la web en cuestión, sino que carga la página en un navegador sin interfaz de usuario. El navegador interpreta entonces el código fuente de la página y crea, a partir de él, un Document Object Model (modelo de objetos de documento o DOM). Esta interfaz estandarizada permite poner a prueba las interacciones de los usuarios. De esta forma se consigue, por ejemplo, simular clics y rellenar formularios automáticamente. Los cambios en la web que resultan de dichas acciones se reflejan en el DOM. La estructura del proceso de web scraping con Selenium es la siguiente:\n",
    "\n",
    "URL → Solicitud HTTP → HTML → Selenium → DOM"
   ]
  },
  {
   "cell_type": "code",
   "execution_count": 1,
   "metadata": {
    "ExecuteTime": {
     "end_time": "2021-02-26T12:16:59.303652Z",
     "start_time": "2021-02-26T12:16:59.300657Z"
    }
   },
   "outputs": [],
   "source": [
    "# Imports\n",
    "import pandas as pd\n",
    "from selenium import webdriver"
   ]
  },
  {
   "cell_type": "markdown",
   "metadata": {},
   "source": [
    "Deberemos descargar un archivo Chrome driver para selenium en https://chromedriver.chromium.org/downloads, es importante que compruebes la versión de Chrome que utilizas y descargaues el driver correspondiente.\n",
    "Una vez descargado crearemos una variable con la dirección completa del path al chromedriver "
   ]
  },
  {
   "cell_type": "markdown",
   "metadata": {},
   "source": [
    "El objeto driver es con el que trabajaremos a partir de ahora"
   ]
  },
  {
   "cell_type": "code",
   "execution_count": 2,
   "metadata": {
    "ExecuteTime": {
     "end_time": "2021-02-26T10:22:46.333679Z",
     "start_time": "2021-02-26T10:22:45.178780Z"
    }
   },
   "outputs": [],
   "source": [
    "# especificamos el path hasta nuestro driver recién descargado:\n",
    "chrome_driver_path = '/Users/borjapuig/Downloads/chromedriver 2'\n",
    "options  = webdriver.ChromeOptions()\n",
    "#options.add_argument('headless') \n",
    "# headless nos permite no tener que ver la navegación en la ventana de Chrome"
   ]
  },
  {
   "cell_type": "code",
   "execution_count": 3,
   "metadata": {},
   "outputs": [],
   "source": [
    "# Creamos el driver con el que nos vamos a manejar en la sesión de scrapeo:\n",
    "driver = webdriver.Chrome(executable_path = chrome_driver_path, options = options)"
   ]
  },
  {
   "cell_type": "code",
   "execution_count": 4,
   "metadata": {},
   "outputs": [],
   "source": [
    "# indicamos la URL de la página web a la que queremos acceder:\n",
    "url = 'https://www.filmaffinity.com/es/main.html'\n",
    "# el objeto driver nos va a permitir alterar el estado del la página\n",
    "driver.get(url)"
   ]
  },
  {
   "cell_type": "markdown",
   "metadata": {},
   "source": [
    "La página de Filmaffinity se ha abierto pero....¡Vaya! Nos hemos encontrado con un pop-up que nos pide aceptar cookies o algo po el estilo, si nos lo queremos saltar deberemos hacer lo siguiente:\n",
    "\n",
    "1. Buscamos el botón\n",
    "2. Hacemos click en el botón\n",
    "\n",
    "Selenium nos permite buscar elementos por etiqueteas de html: https://selenium-python.readthedocs.io/locating-elements.html\n",
    "\n",
    "CUIDADO! Los metodos de busqueda de elementos estan \"duplicados\". Tenemos *find_element_by_tag_name* y *find_elements_by_tag_name* el primero nos devolverá el primer elemento que encuentre (aunque haya más), el segundo nos devolverá una lista con todos los elementos que encuentre (aunque solo sea uno)"
   ]
  },
  {
   "cell_type": "code",
   "execution_count": 5,
   "metadata": {
    "ExecuteTime": {
     "end_time": "2021-02-26T10:22:48.546287Z",
     "start_time": "2021-02-26T10:22:48.489040Z"
    }
   },
   "outputs": [],
   "source": [
    "# Navegando en filmaffinity, en el pop-up:\n",
    "elements_by_tag = driver.find_elements_by_tag_name('button')\n",
    "elements_by_class_name = driver.find_elements_by_class_name('css-47sehv')\n",
    "element_by_xpath = driver.find_element_by_xpath('/html/body/div[1]/div/div/div/div[2]/div/button[2]')"
   ]
  },
  {
   "cell_type": "markdown",
   "metadata": {},
   "source": [
    "Una vez tenemos los elementos podemos hacer varias cosas con ellos"
   ]
  },
  {
   "cell_type": "markdown",
   "metadata": {},
   "source": [
    "Podemos extraer todos los atributos que tenga"
   ]
  },
  {
   "cell_type": "code",
   "execution_count": 6,
   "metadata": {
    "ExecuteTime": {
     "end_time": "2021-02-26T10:22:51.542538Z",
     "start_time": "2021-02-26T10:22:51.508077Z"
    }
   },
   "outputs": [
    {
     "data": {
      "text/plain": [
       "['__class__',\n",
       " '__delattr__',\n",
       " '__dict__',\n",
       " '__dir__',\n",
       " '__doc__',\n",
       " '__eq__',\n",
       " '__format__',\n",
       " '__ge__',\n",
       " '__getattribute__',\n",
       " '__gt__',\n",
       " '__hash__',\n",
       " '__init__',\n",
       " '__init_subclass__',\n",
       " '__le__',\n",
       " '__lt__',\n",
       " '__module__',\n",
       " '__ne__',\n",
       " '__new__',\n",
       " '__reduce__',\n",
       " '__reduce_ex__',\n",
       " '__repr__',\n",
       " '__setattr__',\n",
       " '__sizeof__',\n",
       " '__str__',\n",
       " '__subclasshook__',\n",
       " '__weakref__',\n",
       " '_execute',\n",
       " '_id',\n",
       " '_parent',\n",
       " '_upload',\n",
       " '_w3c',\n",
       " 'clear',\n",
       " 'click',\n",
       " 'find_element',\n",
       " 'find_element_by_class_name',\n",
       " 'find_element_by_css_selector',\n",
       " 'find_element_by_id',\n",
       " 'find_element_by_link_text',\n",
       " 'find_element_by_name',\n",
       " 'find_element_by_partial_link_text',\n",
       " 'find_element_by_tag_name',\n",
       " 'find_element_by_xpath',\n",
       " 'find_elements',\n",
       " 'find_elements_by_class_name',\n",
       " 'find_elements_by_css_selector',\n",
       " 'find_elements_by_id',\n",
       " 'find_elements_by_link_text',\n",
       " 'find_elements_by_name',\n",
       " 'find_elements_by_partial_link_text',\n",
       " 'find_elements_by_tag_name',\n",
       " 'find_elements_by_xpath',\n",
       " 'get_attribute',\n",
       " 'get_property',\n",
       " 'id',\n",
       " 'is_displayed',\n",
       " 'is_enabled',\n",
       " 'is_selected',\n",
       " 'location',\n",
       " 'location_once_scrolled_into_view',\n",
       " 'parent',\n",
       " 'rect',\n",
       " 'screenshot',\n",
       " 'screenshot_as_base64',\n",
       " 'screenshot_as_png',\n",
       " 'send_keys',\n",
       " 'size',\n",
       " 'submit',\n",
       " 'tag_name',\n",
       " 'text',\n",
       " 'value_of_css_property']"
      ]
     },
     "execution_count": 6,
     "metadata": {},
     "output_type": "execute_result"
    }
   ],
   "source": [
    "dir(element_by_xpath)\n",
    "# obtenemos todos sus métodos y atributos:"
   ]
  },
  {
   "cell_type": "code",
   "execution_count": 7,
   "metadata": {},
   "outputs": [
    {
     "data": {
      "text/plain": [
       "{'height': 40, 'width': 347}"
      ]
     },
     "execution_count": 7,
     "metadata": {},
     "output_type": "execute_result"
    }
   ],
   "source": [
    "element_by_xpath.size"
   ]
  },
  {
   "cell_type": "code",
   "execution_count": 7,
   "metadata": {},
   "outputs": [
    {
     "data": {
      "text/plain": [
       "'large'"
      ]
     },
     "execution_count": 7,
     "metadata": {},
     "output_type": "execute_result"
    }
   ],
   "source": [
    "element_by_xpath.get_attribute('size')"
   ]
  },
  {
   "cell_type": "markdown",
   "metadata": {},
   "source": [
    "Podemos evaluar que tipo de elemento es (tag)"
   ]
  },
  {
   "cell_type": "code",
   "execution_count": 8,
   "metadata": {
    "ExecuteTime": {
     "end_time": "2021-02-26T10:22:53.325430Z",
     "start_time": "2021-02-26T10:22:53.306520Z"
    }
   },
   "outputs": [
    {
     "data": {
      "text/plain": [
       "'button'"
      ]
     },
     "execution_count": 8,
     "metadata": {},
     "output_type": "execute_result"
    }
   ],
   "source": [
    "element_by_xpath.tag_name"
   ]
  },
  {
   "cell_type": "markdown",
   "metadata": {},
   "source": [
    "Podemos sacar el valor que tiene (el texto)"
   ]
  },
  {
   "cell_type": "code",
   "execution_count": 9,
   "metadata": {
    "ExecuteTime": {
     "end_time": "2021-02-26T10:22:54.583190Z",
     "start_time": "2021-02-26T10:22:54.553596Z"
    }
   },
   "outputs": [
    {
     "data": {
      "text/plain": [
       "'ACEPTO'"
      ]
     },
     "execution_count": 9,
     "metadata": {},
     "output_type": "execute_result"
    }
   ],
   "source": [
    "element_by_xpath.text"
   ]
  },
  {
   "cell_type": "code",
   "execution_count": 10,
   "metadata": {},
   "outputs": [
    {
     "name": "stdout",
     "output_type": "stream",
     "text": [
      "socios\n",
      "MÁS OPCIONES\n",
      "ACEPTO\n"
     ]
    }
   ],
   "source": [
    "for i in range(0,len(elements_by_tag)):\n",
    "    print(elements_by_tag[i].text)"
   ]
  },
  {
   "cell_type": "markdown",
   "metadata": {},
   "source": [
    "Incluso podemos guardar una imagen del elemento"
   ]
  },
  {
   "cell_type": "code",
   "execution_count": 11,
   "metadata": {},
   "outputs": [
    {
     "data": {
      "text/plain": [
       "selenium.webdriver.remote.webelement.WebElement"
      ]
     },
     "execution_count": 11,
     "metadata": {},
     "output_type": "execute_result"
    }
   ],
   "source": [
    "type(element_by_xpath)\n",
    "# Vemos que es tipo 'WebElement' y en la documentación podremos encontrar sus métodos"
   ]
  },
  {
   "cell_type": "code",
   "execution_count": 12,
   "metadata": {
    "ExecuteTime": {
     "end_time": "2021-02-26T10:24:41.830050Z",
     "start_time": "2021-02-26T10:24:41.510086Z"
    }
   },
   "outputs": [
    {
     "data": {
      "text/plain": [
       "True"
      ]
     },
     "execution_count": 12,
     "metadata": {},
     "output_type": "execute_result"
    }
   ],
   "source": [
    "# guardamos como 'mi_imagen.png' la imagen asociada al xpath\n",
    "element_by_xpath.screenshot('mi_imagen.png')"
   ]
  },
  {
   "cell_type": "markdown",
   "metadata": {
    "ExecuteTime": {
     "end_time": "2021-02-25T09:56:21.322475Z",
     "start_time": "2021-02-25T09:56:21.318715Z"
    }
   },
   "source": [
    "Evaluamos que elementos hemos encontrado por el tag:"
   ]
  },
  {
   "cell_type": "code",
   "execution_count": 13,
   "metadata": {
    "ExecuteTime": {
     "end_time": "2021-02-25T10:40:47.561469Z",
     "start_time": "2021-02-25T10:40:46.812684Z"
    }
   },
   "outputs": [
    {
     "name": "stdout",
     "output_type": "stream",
     "text": [
      "Elemento: 0\n",
      "Texto del elemento 0 es socios\n",
      "El tag del elemento 0 es button\n",
      "Elemento: 1\n",
      "Texto del elemento 1 es MÁS OPCIONES\n",
      "El tag del elemento 1 es button\n",
      "Elemento: 2\n",
      "Texto del elemento 2 es ACEPTO\n",
      "El tag del elemento 2 es button\n"
     ]
    }
   ],
   "source": [
    "for index, element in enumerate(elements_by_tag):\n",
    "    print('Elemento:', index)\n",
    "    print('Texto del elemento',index, 'es', element.text)\n",
    "    print('El tag del elemento',index, 'es', element.tag_name)\n",
    "    element.screenshot('mi_imagen'+str(index)+'.png')"
   ]
  },
  {
   "cell_type": "markdown",
   "metadata": {},
   "source": [
    "Nos quedamos con el botón que nos interesa"
   ]
  },
  {
   "cell_type": "code",
   "execution_count": 14,
   "metadata": {
    "ExecuteTime": {
     "end_time": "2021-02-26T10:24:47.302978Z",
     "start_time": "2021-02-26T10:24:47.291261Z"
    }
   },
   "outputs": [],
   "source": [
    "boton_aceptar = elements_by_tag[2]"
   ]
  },
  {
   "cell_type": "markdown",
   "metadata": {},
   "source": [
    "Si el elemento es interactivo podremos hacer más cosas además de las anteriores. Por ejemplo: hacer click"
   ]
  },
  {
   "cell_type": "code",
   "execution_count": 15,
   "metadata": {
    "ExecuteTime": {
     "end_time": "2021-02-26T10:24:48.611716Z",
     "start_time": "2021-02-26T10:24:48.390430Z"
    }
   },
   "outputs": [],
   "source": [
    "boton_aceptar.click()"
   ]
  },
  {
   "cell_type": "markdown",
   "metadata": {},
   "source": [
    "Buscamos una película por título"
   ]
  },
  {
   "cell_type": "code",
   "execution_count": 16,
   "metadata": {},
   "outputs": [],
   "source": [
    "from selenium.webdriver.common.keys import Keys"
   ]
  },
  {
   "cell_type": "code",
   "execution_count": 17,
   "metadata": {
    "ExecuteTime": {
     "end_time": "2021-02-26T10:28:14.592155Z",
     "start_time": "2021-02-26T10:28:13.509998Z"
    }
   },
   "outputs": [
    {
     "data": {
      "text/plain": [
       "selenium.webdriver.remote.webelement.WebElement"
      ]
     },
     "execution_count": 17,
     "metadata": {},
     "output_type": "execute_result"
    }
   ],
   "source": [
    "buscador = driver.find_element_by_xpath('/html/body/div[2]/div[1]/div/div[2]/form/input[1]')"
   ]
  },
  {
   "cell_type": "code",
   "execution_count": 18,
   "metadata": {},
   "outputs": [],
   "source": [
    "buscador.send_keys('Robocop')"
   ]
  },
  {
   "cell_type": "code",
   "execution_count": 19,
   "metadata": {},
   "outputs": [],
   "source": [
    "# una vez escrita la búsqueda deberíamos poder activarla:\n",
    "buscador.send_keys(Keys.ENTER)"
   ]
  },
  {
   "cell_type": "code",
   "execution_count": 20,
   "metadata": {},
   "outputs": [],
   "source": [
    "# volvemos a la página anterior\n",
    "driver.back()"
   ]
  },
  {
   "cell_type": "markdown",
   "metadata": {
    "ExecuteTime": {
     "end_time": "2021-02-25T10:09:19.308961Z",
     "start_time": "2021-02-25T10:09:19.299983Z"
    }
   },
   "source": [
    "### Vamos a buscar todas las películas que se estrenan el próximo viernes"
   ]
  },
  {
   "cell_type": "markdown",
   "metadata": {},
   "source": [
    "1. Cogemos los containers que hay en la zona lateral"
   ]
  },
  {
   "cell_type": "code",
   "execution_count": 21,
   "metadata": {
    "ExecuteTime": {
     "end_time": "2021-02-25T10:40:53.961145Z",
     "start_time": "2021-02-25T10:40:53.793388Z"
    }
   },
   "outputs": [
    {
     "data": {
      "text/plain": [
       "<selenium.webdriver.remote.webelement.WebElement (session=\"3d6a1bdaea26b2c033d4be4e7b8983e1\", element=\"fae14c5d-5982-48bf-8b8f-2dde20458a14\")>"
      ]
     },
     "execution_count": 21,
     "metadata": {},
     "output_type": "execute_result"
    }
   ],
   "source": [
    "menu_lateral = driver.find_element_by_id('lsmenu')\n",
    "menu_lateral"
   ]
  },
  {
   "cell_type": "code",
   "execution_count": 22,
   "metadata": {},
   "outputs": [],
   "source": [
    "mis_secciones = menu_lateral.find_elements_by_tag_name('a')"
   ]
  },
  {
   "cell_type": "markdown",
   "metadata": {},
   "source": [
    "2. Vemos con cuál nos tenemos que quedar"
   ]
  },
  {
   "cell_type": "code",
   "execution_count": 23,
   "metadata": {
    "ExecuteTime": {
     "end_time": "2021-02-25T10:40:55.130681Z",
     "start_time": "2021-02-25T10:40:54.930234Z"
    }
   },
   "outputs": [],
   "source": [
    "for a in mis_secciones:\n",
    "    if a.text == 'Próximos estrenos':\n",
    "        a.click()\n",
    "        break"
   ]
  },
  {
   "cell_type": "markdown",
   "metadata": {},
   "source": [
    "Accedemos al container central, en el que aparecen los estrenos por semana que queremos ver, exactamente igual que hemos hecho antes"
   ]
  },
  {
   "cell_type": "code",
   "execution_count": 24,
   "metadata": {
    "ExecuteTime": {
     "end_time": "2021-02-25T10:43:53.772471Z",
     "start_time": "2021-02-25T10:43:53.757510Z"
    }
   },
   "outputs": [],
   "source": [
    "cajon_central = driver.find_elements_by_id('main-wrapper-rdcat')"
   ]
  },
  {
   "cell_type": "code",
   "execution_count": 25,
   "metadata": {},
   "outputs": [
    {
     "data": {
      "text/plain": [
       "list"
      ]
     },
     "execution_count": 25,
     "metadata": {},
     "output_type": "execute_result"
    }
   ],
   "source": [
    "type(cajon_central)"
   ]
  },
  {
   "cell_type": "code",
   "execution_count": 26,
   "metadata": {
    "ExecuteTime": {
     "end_time": "2021-02-25T11:04:59.734561Z",
     "start_time": "2021-02-25T11:04:59.617626Z"
    }
   },
   "outputs": [
    {
     "name": "stdout",
     "output_type": "stream",
     "text": [
      "21 de mayo de 2021\n",
      "2021-05-21\n",
      "28 de mayo de 2021\n",
      "2021-05-28\n",
      "3 de junio de 2021\n",
      "2021-06-03\n",
      "4 de junio de 2021\n",
      "2021-06-04\n",
      "11 de junio de 2021\n",
      "2021-06-11\n",
      "16 de junio de 2021\n",
      "2021-06-16\n",
      "18 de junio de 2021\n",
      "2021-06-18\n",
      "25 de junio de 2021\n",
      "2021-06-25\n"
     ]
    }
   ],
   "source": [
    "for semana in cajon_central:\n",
    "    print(semana.find_element_by_tag_name('div').text)\n",
    "    print(semana.find_element_by_tag_name('div').get_attribute('id'))"
   ]
  },
  {
   "cell_type": "code",
   "execution_count": 27,
   "metadata": {},
   "outputs": [],
   "source": [
    "for semana in cajon_central:\n",
    "    fecha = semana.find_element_by_tag_name('div').get_attribute('id')\n",
    "    if fecha == '2021-05-21':\n",
    "        break"
   ]
  },
  {
   "cell_type": "markdown",
   "metadata": {
    "ExecuteTime": {
     "end_time": "2021-02-25T11:04:08.219853Z",
     "start_time": "2021-02-25T11:04:08.215863Z"
    }
   },
   "source": [
    "Buscamos cómo acceder a las películas"
   ]
  },
  {
   "cell_type": "code",
   "execution_count": 28,
   "metadata": {
    "ExecuteTime": {
     "end_time": "2021-02-25T11:10:28.294864Z",
     "start_time": "2021-02-25T11:10:28.174126Z"
    }
   },
   "outputs": [],
   "source": [
    "caratulas = semana.find_elements_by_class_name('mc-poster')\n",
    "lista_pelis = []\n",
    "for peli in caratulas:\n",
    "    lista_pelis.append(peli.find_element_by_tag_name('a').get_attribute('href'))"
   ]
  },
  {
   "cell_type": "code",
   "execution_count": 29,
   "metadata": {},
   "outputs": [
    {
     "data": {
      "text/plain": [
       "['https://www.filmaffinity.com/es/film637149.html',\n",
       " 'https://www.filmaffinity.com/es/film478891.html',\n",
       " 'https://www.filmaffinity.com/es/film713795.html',\n",
       " 'https://www.filmaffinity.com/es/film112106.html',\n",
       " 'https://www.filmaffinity.com/es/film329087.html',\n",
       " 'https://www.filmaffinity.com/es/film950177.html',\n",
       " 'https://www.filmaffinity.com/es/film388427.html',\n",
       " 'https://www.filmaffinity.com/es/film132801.html',\n",
       " 'https://www.filmaffinity.com/es/film759533.html',\n",
       " 'https://www.filmaffinity.com/es/film407520.html',\n",
       " 'https://www.filmaffinity.com/es/film452148.html',\n",
       " 'https://www.filmaffinity.com/es/film158082.html',\n",
       " 'https://www.filmaffinity.com/es/film108823.html']"
      ]
     },
     "execution_count": 29,
     "metadata": {},
     "output_type": "execute_result"
    }
   ],
   "source": [
    "lista_pelis"
   ]
  },
  {
   "cell_type": "markdown",
   "metadata": {},
   "source": [
    "Una vez tenemos todas las urls vamos a ver qué hacemos con cada una de ellas"
   ]
  },
  {
   "cell_type": "code",
   "execution_count": 30,
   "metadata": {
    "ExecuteTime": {
     "end_time": "2021-02-25T11:15:40.003059Z",
     "start_time": "2021-02-25T11:15:39.091047Z"
    }
   },
   "outputs": [],
   "source": [
    "# Accedemos a la página de la primera pelicula\n",
    "driver.get(lista_pelis[0])"
   ]
  },
  {
   "cell_type": "markdown",
   "metadata": {
    "ExecuteTime": {
     "end_time": "2021-02-25T11:21:51.020248Z",
     "start_time": "2021-02-25T11:21:50.381138Z"
    }
   },
   "source": [
    "Vamos a ver el proceso que deberíamos hacer con cada una de las películas:"
   ]
  },
  {
   "cell_type": "markdown",
   "metadata": {},
   "source": [
    "1. Sacamos toda la información que nos interesa"
   ]
  },
  {
   "cell_type": "code",
   "execution_count": 31,
   "metadata": {
    "ExecuteTime": {
     "end_time": "2021-02-25T11:36:58.487622Z",
     "start_time": "2021-02-25T11:36:58.420292Z"
    }
   },
   "outputs": [],
   "source": [
    "# titulo, nota, numero de votos y ficha técnica\n",
    "titulo = driver.find_element_by_xpath('/html/body/div[4]/table/tbody/tr/td[2]/div[1]/div[4]/h1/span').text\n",
    "nota = driver.find_element_by_xpath('/html/body/div[4]/table/tbody/tr/td[2]/div[1]/div[4]/div/div[2]/div[2]/div[1]/div[2]/div[1]').text\n",
    "votos = driver.find_element_by_xpath('/html/body/div[4]/table/tbody/tr/td[2]/div[1]/div[4]/div/div[2]/div[2]/div[1]/div[2]/div[2]/span').text\n",
    "ficha = driver.find_element_by_xpath('/html/body/div[4]/table/tbody/tr/td[2]/div[1]/div[4]/div/div[3]/dl[1]')"
   ]
  },
  {
   "cell_type": "code",
   "execution_count": 32,
   "metadata": {},
   "outputs": [
    {
     "data": {
      "text/plain": [
       "'Spiral: Saw'"
      ]
     },
     "execution_count": 32,
     "metadata": {},
     "output_type": "execute_result"
    }
   ],
   "source": [
    "titulo"
   ]
  },
  {
   "cell_type": "markdown",
   "metadata": {},
   "source": [
    "2. Creamos una lista a partir de la ficha técnica"
   ]
  },
  {
   "cell_type": "code",
   "execution_count": 33,
   "metadata": {
    "ExecuteTime": {
     "end_time": "2021-02-25T11:34:54.218938Z",
     "start_time": "2021-02-25T11:34:53.923558Z"
    }
   },
   "outputs": [],
   "source": [
    "# Los nombres estan con tag  = 'dt' y los valores con 'dd'\n",
    "ficha_names = []\n",
    "ficha_values = []\n",
    "\n",
    "for name in ficha.find_elements_by_tag_name('dt'):\n",
    "    ficha_names.append(name.text)\n",
    "for value in ficha.find_elements_by_tag_name('dd'):\n",
    "    ficha_values.append(value.text)"
   ]
  },
  {
   "cell_type": "code",
   "execution_count": 34,
   "metadata": {},
   "outputs": [
    {
     "data": {
      "text/plain": [
       "['Spiral: From the Book of Saw',\n",
       " '2021',\n",
       " '93 min.',\n",
       " ' Estados Unidos',\n",
       " 'Darren Lynn Bousman',\n",
       " 'Josh Stolberg, Pete Goldfinger. Historia: Pete Goldfinger, Chris Rock, Josh Stolberg',\n",
       " 'Charlie Clouser',\n",
       " 'Jordan Oram',\n",
       " 'Chris Rock, Samuel L. Jackson, Max Minghella, Marisol Nichols, Zoie Palmer, Nazneen Contractor, Dan Petronijevic, Morgan David Jones, Edie Inksetter, K.C. Collins, Josh Stolberg, Ali Johnson, Brian Cook, ver 6 más',\n",
       " 'Serendipity Productions, Twisted Pictures, Burg/Koules Productions, Dahlstar. Distribuidora: Lionsgate',\n",
       " 'Terror. Thriller | Policíaco. Crimen. Asesinos en serie',\n",
       " 'Saw',\n",
       " 'Trabajando a la sombra de un policía veterano (Samuel L. Jackson), el intrépido detective Ezekiel “Zeke” Banks (Chris Rock) y su compañero novato (Max Minghella) toman las riendas de una investigación relacionada con una serie de asesinatos que albergan ciertos paralelismos con el sangriento pasado de la ciudad. A medida que profundiza en el misterio, Zeke descubre que él mismo se ha convertido en el epicentro del macabro juego del asesino. (FILMAFFINITY)\\n\\nReinicio de la franquicia \"Saw\".\\n\\nEstreno mundial: mayo 2021.']"
      ]
     },
     "execution_count": 34,
     "metadata": {},
     "output_type": "execute_result"
    }
   ],
   "source": [
    "ficha_values"
   ]
  },
  {
   "cell_type": "markdown",
   "metadata": {},
   "source": [
    "3. Creamos un dataframe con la info"
   ]
  },
  {
   "cell_type": "code",
   "execution_count": 35,
   "metadata": {
    "ExecuteTime": {
     "end_time": "2021-02-25T11:38:19.916044Z",
     "start_time": "2021-02-25T11:38:19.899094Z"
    }
   },
   "outputs": [
    {
     "data": {
      "text/plain": [
       "16"
      ]
     },
     "execution_count": 35,
     "metadata": {},
     "output_type": "execute_result"
    }
   ],
   "source": [
    "columns = ['Titulo', 'Nota', 'Votos']\n",
    "columns.extend(ficha_names)\n",
    "len(columns)"
   ]
  },
  {
   "cell_type": "code",
   "execution_count": 36,
   "metadata": {},
   "outputs": [
    {
     "data": {
      "text/plain": [
       "16"
      ]
     },
     "execution_count": 36,
     "metadata": {},
     "output_type": "execute_result"
    }
   ],
   "source": [
    "values = [titulo, nota, votos]\n",
    "values.extend(ficha_values)\n",
    "len(values)"
   ]
  },
  {
   "cell_type": "code",
   "execution_count": 37,
   "metadata": {},
   "outputs": [
    {
     "data": {
      "text/html": [
       "<div>\n",
       "<style scoped>\n",
       "    .dataframe tbody tr th:only-of-type {\n",
       "        vertical-align: middle;\n",
       "    }\n",
       "\n",
       "    .dataframe tbody tr th {\n",
       "        vertical-align: top;\n",
       "    }\n",
       "\n",
       "    .dataframe thead th {\n",
       "        text-align: right;\n",
       "    }\n",
       "</style>\n",
       "<table border=\"1\" class=\"dataframe\">\n",
       "  <thead>\n",
       "    <tr style=\"text-align: right;\">\n",
       "      <th></th>\n",
       "      <th>Titulo</th>\n",
       "      <th>Nota</th>\n",
       "      <th>Votos</th>\n",
       "      <th>Título original</th>\n",
       "      <th>Año</th>\n",
       "      <th>Duración</th>\n",
       "      <th>País</th>\n",
       "      <th>Dirección</th>\n",
       "      <th>Guion</th>\n",
       "      <th>Música</th>\n",
       "      <th>Fotografía</th>\n",
       "      <th>Reparto</th>\n",
       "      <th>Productora</th>\n",
       "      <th>Género</th>\n",
       "      <th>Grupos</th>\n",
       "      <th>Sinopsis</th>\n",
       "    </tr>\n",
       "  </thead>\n",
       "  <tbody>\n",
       "    <tr>\n",
       "      <th>0</th>\n",
       "      <td>Spiral: Saw</td>\n",
       "      <td>5,1</td>\n",
       "      <td>35</td>\n",
       "      <td>Spiral: From the Book of Saw</td>\n",
       "      <td>2021</td>\n",
       "      <td>93 min.</td>\n",
       "      <td>Estados Unidos</td>\n",
       "      <td>Darren Lynn Bousman</td>\n",
       "      <td>Josh Stolberg, Pete Goldfinger. Historia: Pete...</td>\n",
       "      <td>Charlie Clouser</td>\n",
       "      <td>Jordan Oram</td>\n",
       "      <td>Chris Rock, Samuel L. Jackson, Max Minghella, ...</td>\n",
       "      <td>Serendipity Productions, Twisted Pictures, Bur...</td>\n",
       "      <td>Terror. Thriller | Policíaco. Crimen. Asesinos...</td>\n",
       "      <td>Saw</td>\n",
       "      <td>Trabajando a la sombra de un policía veterano ...</td>\n",
       "    </tr>\n",
       "  </tbody>\n",
       "</table>\n",
       "</div>"
      ],
      "text/plain": [
       "        Titulo Nota Votos               Título original   Año Duración  \\\n",
       "0  Spiral: Saw  5,1    35  Spiral: From the Book of Saw  2021  93 min.   \n",
       "\n",
       "              País            Dirección  \\\n",
       "0   Estados Unidos  Darren Lynn Bousman   \n",
       "\n",
       "                                               Guion           Música  \\\n",
       "0  Josh Stolberg, Pete Goldfinger. Historia: Pete...  Charlie Clouser   \n",
       "\n",
       "    Fotografía                                            Reparto  \\\n",
       "0  Jordan Oram  Chris Rock, Samuel L. Jackson, Max Minghella, ...   \n",
       "\n",
       "                                          Productora  \\\n",
       "0  Serendipity Productions, Twisted Pictures, Bur...   \n",
       "\n",
       "                                              Género Grupos  \\\n",
       "0  Terror. Thriller | Policíaco. Crimen. Asesinos...    Saw   \n",
       "\n",
       "                                            Sinopsis  \n",
       "0  Trabajando a la sombra de un policía veterano ...  "
      ]
     },
     "execution_count": 37,
     "metadata": {},
     "output_type": "execute_result"
    }
   ],
   "source": [
    "pd.DataFrame([values],columns=columns)"
   ]
  },
  {
   "cell_type": "markdown",
   "metadata": {},
   "source": [
    "Ahora vamos a crear una función que nos haga todo esto para cada una de las películas:"
   ]
  },
  {
   "cell_type": "code",
   "execution_count": 38,
   "metadata": {
    "ExecuteTime": {
     "end_time": "2021-02-25T11:58:39.349919Z",
     "start_time": "2021-02-25T11:58:39.052802Z"
    }
   },
   "outputs": [],
   "source": [
    "def sacar_info(driver):\n",
    "    \n",
    "    titulo = driver.find_element_by_xpath('/html/body/div[4]/table/tbody/tr/td[2]/div[1]/div[4]/h1/span').text\n",
    "    # try/except lo dejamos para el final\n",
    "    try:\n",
    "        nota = driver.find_element_by_xpath('/html/body/div[4]/table/tbody/tr/td[2]/div[1]/div[4]/div/div[2]/div[2]/div[1]/div[2]').text\n",
    "        votos = driver.find_element_by_xpath('/html/body/div[4]/table/tbody/tr/td[2]/div[1]/div[4]/div/div[2]/div[2]/div[1]/div[2]/div[2]').text\n",
    "    except:\n",
    "        nota = None\n",
    "        votos = None\n",
    "    ficha = driver.find_element_by_xpath('/html/body/div[4]/table/tbody/tr/td[2]/div[1]/div[4]/div/div[3]/dl[1]')\n",
    "    \n",
    "    return titulo, nota, votos, ficha\n",
    "\n",
    "def sacar_ficha(ficha):\n",
    "    \n",
    "    ficha_names = []\n",
    "    ficha_values = []\n",
    "\n",
    "    for name in ficha.find_elements_by_tag_name('dt'):\n",
    "        ficha_names.append(name.text)\n",
    "    for value in ficha.find_elements_by_tag_name('dd'):\n",
    "        ficha_values.append(value.text)\n",
    "        \n",
    "    return ficha_names, ficha_values\n",
    "\n",
    "def montar_df(ficha_names, ficha_values, titulo, nota, votos):\n",
    "    \n",
    "    columns = ['Titulo', 'Nota', 'Votos']\n",
    "    columns.extend(ficha_names)\n",
    "    values = [titulo, nota, votos]\n",
    "    values.extend(ficha_values)\n",
    "    \n",
    "    return pd.DataFrame([values], columns = columns)\n",
    "    \n",
    "def nueva_pelicula(driver):\n",
    "    \n",
    "    titulo, nota, votos, ficha = sacar_info(driver)\n",
    "    ficha_names, ficha_values = sacar_ficha(ficha)\n",
    "    df_peli = montar_df(ficha_names, ficha_values, titulo, nota, votos)\n",
    "    \n",
    "    return df_peli\n"
   ]
  },
  {
   "cell_type": "markdown",
   "metadata": {},
   "source": [
    "## Modo Dios: moviendonos entre ventanas"
   ]
  },
  {
   "cell_type": "markdown",
   "metadata": {},
   "source": [
    "Vamos a ver cómo nos podemos mover entre ventanas del navegador\n",
    "\n",
    "Abrir nueva ventana:"
   ]
  },
  {
   "cell_type": "code",
   "execution_count": 39,
   "metadata": {},
   "outputs": [],
   "source": [
    "driver.execute_script('window.open(\"\");')"
   ]
  },
  {
   "cell_type": "markdown",
   "metadata": {},
   "source": [
    "Movernos a otra ventana"
   ]
  },
  {
   "cell_type": "code",
   "execution_count": 40,
   "metadata": {},
   "outputs": [],
   "source": [
    "driver.switch_to.window(driver.window_handles[0])"
   ]
  },
  {
   "cell_type": "markdown",
   "metadata": {},
   "source": [
    "Cerrar ventana"
   ]
  },
  {
   "cell_type": "code",
   "execution_count": 41,
   "metadata": {
    "ExecuteTime": {
     "end_time": "2021-02-25T12:04:17.177986Z",
     "start_time": "2021-02-25T12:04:17.160442Z"
    }
   },
   "outputs": [],
   "source": [
    "driver.close()\n",
    "# No se puede ejecutar más de una vez porque el driver sigue siendo la que se cerró, \n",
    "# hay que moverse de ventana y aí sí se puede cerrar"
   ]
  },
  {
   "cell_type": "markdown",
   "metadata": {},
   "source": [
    "Una vez cerramos la ventana tenemos que indicarle a qué ventana tiene que ir"
   ]
  },
  {
   "cell_type": "code",
   "execution_count": 42,
   "metadata": {
    "ExecuteTime": {
     "end_time": "2021-02-25T12:05:01.711952Z",
     "start_time": "2021-02-25T12:05:01.583709Z"
    }
   },
   "outputs": [],
   "source": [
    "driver.switch_to.window(driver.window_handles[-1])"
   ]
  },
  {
   "cell_type": "markdown",
   "metadata": {},
   "source": [
    "Sabiendo cómo podemos movernos por entre las ventanas y sabiendo cómo extraer de cada página toda la información que necesitamos vamos a crear nuestro dataframe:"
   ]
  },
  {
   "cell_type": "code",
   "execution_count": 43,
   "metadata": {},
   "outputs": [],
   "source": [
    "# para abrir todos los links en lista_pelis\n",
    "for link in lista_pelis:\n",
    "    driver.execute_script('window.open(\"'+link+'\");')\n",
    "    driver.switch_to.window(driver.window_handles[-1])\n",
    "    driver.get(link)"
   ]
  },
  {
   "cell_type": "code",
   "execution_count": 44,
   "metadata": {
    "ExecuteTime": {
     "end_time": "2021-02-25T12:00:27.038323Z",
     "start_time": "2021-02-25T11:59:37.219902Z"
    }
   },
   "outputs": [],
   "source": [
    "# Creamos un dataframe con todas las pelis que se estrenan la próxima semana:\n",
    "df_peliculas = pd.DataFrame()\n",
    "\n",
    "for link in lista_pelis:\n",
    "    driver.execute_script('window.open(\"\");')\n",
    "    driver.switch_to.window(driver.window_handles[-1])\n",
    "    driver.get(link)\n",
    "    nueva_peli = nueva_pelicula(driver)\n",
    "    df_peliculas = df_peliculas.append(nueva_peli)"
   ]
  },
  {
   "cell_type": "code",
   "execution_count": 45,
   "metadata": {
    "ExecuteTime": {
     "end_time": "2021-02-25T12:00:36.221987Z",
     "start_time": "2021-02-25T12:00:36.207006Z"
    }
   },
   "outputs": [
    {
     "name": "stdout",
     "output_type": "stream",
     "text": [
      "<class 'pandas.core.frame.DataFrame'>\n",
      "Int64Index: 13 entries, 0 to 0\n",
      "Data columns (total 17 columns):\n",
      " #   Column           Non-Null Count  Dtype \n",
      "---  ------           --------------  ----- \n",
      " 0   Titulo           13 non-null     object\n",
      " 1   Nota             7 non-null      object\n",
      " 2   Votos            7 non-null      object\n",
      " 3   Título original  13 non-null     object\n",
      " 4   Año              13 non-null     object\n",
      " 5   Duración         12 non-null     object\n",
      " 6   País             13 non-null     object\n",
      " 7   Dirección        13 non-null     object\n",
      " 8   Guion            13 non-null     object\n",
      " 9   Música           10 non-null     object\n",
      " 10  Fotografía       13 non-null     object\n",
      " 11  Reparto          13 non-null     object\n",
      " 12  Productora       13 non-null     object\n",
      " 13  Género           13 non-null     object\n",
      " 14  Grupos           2 non-null      object\n",
      " 15  Sinopsis         13 non-null     object\n",
      " 16                   3 non-null      object\n",
      "dtypes: object(17)\n",
      "memory usage: 1.8+ KB\n"
     ]
    }
   ],
   "source": [
    "df_peliculas.info()"
   ]
  },
  {
   "cell_type": "code",
   "execution_count": 46,
   "metadata": {},
   "outputs": [
    {
     "data": {
      "text/html": [
       "<div>\n",
       "<style scoped>\n",
       "    .dataframe tbody tr th:only-of-type {\n",
       "        vertical-align: middle;\n",
       "    }\n",
       "\n",
       "    .dataframe tbody tr th {\n",
       "        vertical-align: top;\n",
       "    }\n",
       "\n",
       "    .dataframe thead th {\n",
       "        text-align: right;\n",
       "    }\n",
       "</style>\n",
       "<table border=\"1\" class=\"dataframe\">\n",
       "  <thead>\n",
       "    <tr style=\"text-align: right;\">\n",
       "      <th></th>\n",
       "      <th>Titulo</th>\n",
       "      <th>Nota</th>\n",
       "      <th>Votos</th>\n",
       "      <th>Título original</th>\n",
       "      <th>Año</th>\n",
       "      <th>Duración</th>\n",
       "      <th>País</th>\n",
       "      <th>Dirección</th>\n",
       "      <th>Guion</th>\n",
       "      <th>Música</th>\n",
       "      <th>Fotografía</th>\n",
       "      <th>Reparto</th>\n",
       "      <th>Productora</th>\n",
       "      <th>Género</th>\n",
       "      <th>Grupos</th>\n",
       "      <th>Sinopsis</th>\n",
       "      <th></th>\n",
       "    </tr>\n",
       "  </thead>\n",
       "  <tbody>\n",
       "    <tr>\n",
       "      <th>0</th>\n",
       "      <td>Spiral: Saw</td>\n",
       "      <td>5,1\\n35\\nvotos</td>\n",
       "      <td>35\\nvotos</td>\n",
       "      <td>Spiral: From the Book of Saw</td>\n",
       "      <td>2021</td>\n",
       "      <td>93 min.</td>\n",
       "      <td>Estados Unidos</td>\n",
       "      <td>Darren Lynn Bousman</td>\n",
       "      <td>Josh Stolberg, Pete Goldfinger. Historia: Pete...</td>\n",
       "      <td>Charlie Clouser</td>\n",
       "      <td>Jordan Oram</td>\n",
       "      <td>Chris Rock, Samuel L. Jackson, Max Minghella, ...</td>\n",
       "      <td>Serendipity Productions, Twisted Pictures, Bur...</td>\n",
       "      <td>Terror. Thriller | Policíaco. Crimen. Asesinos...</td>\n",
       "      <td>Saw</td>\n",
       "      <td>Trabajando a la sombra de un policía veterano ...</td>\n",
       "      <td>NaN</td>\n",
       "    </tr>\n",
       "    <tr>\n",
       "      <th>0</th>\n",
       "      <td>Poliamor para principiantes</td>\n",
       "      <td>None</td>\n",
       "      <td>None</td>\n",
       "      <td>Poliamor para principiantes</td>\n",
       "      <td>2021</td>\n",
       "      <td>97 min.</td>\n",
       "      <td>España</td>\n",
       "      <td>Fernando Colomo</td>\n",
       "      <td>Fernando Colomo, Casandra Macías Gago, Marina ...</td>\n",
       "      <td>Fernando Furones</td>\n",
       "      <td>Ángel Iguacel</td>\n",
       "      <td>Karra Elejalde, Toni Acosta, Quim Àvila Conde,...</td>\n",
       "      <td>Coproducción España-Francia; Morena Films, Ran...</td>\n",
       "      <td>Comedia. Romance | Comedia romántica</td>\n",
       "      <td>NaN</td>\n",
       "      <td>Satur (Karra Elejalde) y Tina (Toni Acosta) so...</td>\n",
       "      <td>NaN</td>\n",
       "    </tr>\n",
       "    <tr>\n",
       "      <th>0</th>\n",
       "      <td>Érase una vez en Queens</td>\n",
       "      <td>None</td>\n",
       "      <td>None</td>\n",
       "      <td>Boogie</td>\n",
       "      <td>2021</td>\n",
       "      <td>89 min.</td>\n",
       "      <td>Estados Unidos</td>\n",
       "      <td>Eddie Huang</td>\n",
       "      <td>Eddie Huang</td>\n",
       "      <td>Ali Shaheed Muhammad, Adrian Younge</td>\n",
       "      <td>Brett Jutkiewicz</td>\n",
       "      <td>Taylor Takahashi, Domenick Lombardozzi, Taylou...</td>\n",
       "      <td>Immersive Pictures, Wink Productions. Distribu...</td>\n",
       "      <td>Drama | Baloncesto. Inmigración</td>\n",
       "      <td>NaN</td>\n",
       "      <td>En la Nueva York contemporánea, un joven fenóm...</td>\n",
       "      <td>NaN</td>\n",
       "    </tr>\n",
       "    <tr>\n",
       "      <th>0</th>\n",
       "      <td>First Cow</td>\n",
       "      <td>6,9\\n1.391\\nvotos</td>\n",
       "      <td>1.391\\nvotos</td>\n",
       "      <td>First Cow</td>\n",
       "      <td>2019</td>\n",
       "      <td>121 min.</td>\n",
       "      <td>Estados Unidos</td>\n",
       "      <td>Kelly Reichardt</td>\n",
       "      <td>Jonathan Raymond, Kelly Reichardt. Novela: Jon...</td>\n",
       "      <td>William Tyler</td>\n",
       "      <td>Christopher Blauvelt</td>\n",
       "      <td>John Magaro, Orion Lee, Toby Jones, Ewen Bremn...</td>\n",
       "      <td>Film Science, A24, IAC Films. Distribuidora: A24</td>\n",
       "      <td>Drama. Western | Siglo XIX. Amistad</td>\n",
       "      <td>NaN</td>\n",
       "      <td>Narra la historia de un cocinero (John Magaro)...</td>\n",
       "      <td>NaN</td>\n",
       "    </tr>\n",
       "    <tr>\n",
       "      <th>0</th>\n",
       "      <td>Mía y Moi</td>\n",
       "      <td>6,0\\n60\\nvotos</td>\n",
       "      <td>60\\nvotos</td>\n",
       "      <td>Mía y Moi</td>\n",
       "      <td>2021</td>\n",
       "      <td>NaN</td>\n",
       "      <td>España</td>\n",
       "      <td>Borja de la Vega</td>\n",
       "      <td>Borja de la Vega</td>\n",
       "      <td>NaN</td>\n",
       "      <td>Álvaro Ruiz</td>\n",
       "      <td>Bruna Cusí, Ricardo Gómez, Eneko Sagardoy, Joe...</td>\n",
       "      <td>Paciencia y Baraja, Toned Media</td>\n",
       "      <td>Drama</td>\n",
       "      <td>NaN</td>\n",
       "      <td>Tras perder a su madre, Mía y Moi se refugian ...</td>\n",
       "      <td>NaN</td>\n",
       "    </tr>\n",
       "    <tr>\n",
       "      <th>0</th>\n",
       "      <td>Pequeño país</td>\n",
       "      <td>6,4\\n28\\nvotos</td>\n",
       "      <td>28\\nvotos</td>\n",
       "      <td>Petit pays aka</td>\n",
       "      <td>2020</td>\n",
       "      <td>111 min.</td>\n",
       "      <td>Francia</td>\n",
       "      <td>Eric Barbier</td>\n",
       "      <td>Eric Barbier. Novela: Gaël Faye</td>\n",
       "      <td>Renaud Barbier</td>\n",
       "      <td>Antoine Sanier</td>\n",
       "      <td>Jean-Paul Rouve, Djibril Vancoppenolle, Dayla ...</td>\n",
       "      <td>Coproducción Francia-Bélgica; Jerico, Super 8 ...</td>\n",
       "      <td>Drama</td>\n",
       "      <td>NaN</td>\n",
       "      <td>Gabriel tiene 10 años y vive en un cómodo veci...</td>\n",
       "      <td></td>\n",
       "    </tr>\n",
       "    <tr>\n",
       "      <th>0</th>\n",
       "      <td>Sweat</td>\n",
       "      <td>6,5\\n34\\nvotos</td>\n",
       "      <td>34\\nvotos</td>\n",
       "      <td>Sweat</td>\n",
       "      <td>2020</td>\n",
       "      <td>100 min.</td>\n",
       "      <td>Polonia</td>\n",
       "      <td>Magnus von Horn</td>\n",
       "      <td>Magnus von Horn</td>\n",
       "      <td>Piotr Kurek</td>\n",
       "      <td>Michal Dymek</td>\n",
       "      <td>Magdalena Kolesnik, Julian Swiezewski, Aleksan...</td>\n",
       "      <td>Coproducción Polonia-Suecia; Lava Films, Zentr...</td>\n",
       "      <td>Drama | Internet/Informática</td>\n",
       "      <td>NaN</td>\n",
       "      <td>Describe tres días en la vida de la motivadora...</td>\n",
       "      <td>NaN</td>\n",
       "    </tr>\n",
       "    <tr>\n",
       "      <th>0</th>\n",
       "      <td>Félix y el tesoro de Morgäa</td>\n",
       "      <td>None</td>\n",
       "      <td>None</td>\n",
       "      <td>Félix et le trésor de Morgäa aka</td>\n",
       "      <td>2021</td>\n",
       "      <td>90 min.</td>\n",
       "      <td>Canadá</td>\n",
       "      <td>Nicola Lemay</td>\n",
       "      <td>Marc Robitaille</td>\n",
       "      <td>NaN</td>\n",
       "      <td>Animación</td>\n",
       "      <td>Animación, Gabriel Lessard, Guy Nadon, Marc La...</td>\n",
       "      <td>10e Ave</td>\n",
       "      <td>Animación. Aventuras | Adolescencia</td>\n",
       "      <td>NaN</td>\n",
       "      <td>Félix es un niño de 12 años que está convencid...</td>\n",
       "      <td></td>\n",
       "    </tr>\n",
       "    <tr>\n",
       "      <th>0</th>\n",
       "      <td>El viaje de Chihiro</td>\n",
       "      <td>8,1\\n109.280\\nvotos</td>\n",
       "      <td>109.280\\nvotos</td>\n",
       "      <td>Sen to Chihiro no kamikakushi aka</td>\n",
       "      <td>2001</td>\n",
       "      <td>124 min.</td>\n",
       "      <td>Japón</td>\n",
       "      <td>Hayao Miyazaki</td>\n",
       "      <td>Hayao Miyazaki</td>\n",
       "      <td>Joe Hisaishi</td>\n",
       "      <td>Animación, Atsushi Okui</td>\n",
       "      <td>Animación</td>\n",
       "      <td>Studio Ghibli, Tokuma Shoten, Dentsu Inc. Dist...</td>\n",
       "      <td>Animación. Fantástico. Aventuras | Dragones. P...</td>\n",
       "      <td>Studio Ghibli (y obras relacionadas)</td>\n",
       "      <td>Chihiro es una niña de diez años que viaja en ...</td>\n",
       "      <td></td>\n",
       "    </tr>\n",
       "    <tr>\n",
       "      <th>0</th>\n",
       "      <td>Cascarrabias</td>\n",
       "      <td>None</td>\n",
       "      <td>None</td>\n",
       "      <td>Here Comes the Grump (Ahí viene Cascarrabias)</td>\n",
       "      <td>2018</td>\n",
       "      <td>97 min.</td>\n",
       "      <td>México</td>\n",
       "      <td>Andrés Couturier</td>\n",
       "      <td>Jim Hecht, Piers Clifton, Ricardo Hernández Du...</td>\n",
       "      <td>James Seymour Brett</td>\n",
       "      <td>Animación</td>\n",
       "      <td>Animación</td>\n",
       "      <td>Coproducción México-Estados Unidos; Anima Estu...</td>\n",
       "      <td>Animación. Aventuras. Comedia. Fantástico. Inf...</td>\n",
       "      <td>NaN</td>\n",
       "      <td>Pasar las vacaciones de verano en el increíble...</td>\n",
       "      <td>NaN</td>\n",
       "    </tr>\n",
       "    <tr>\n",
       "      <th>0</th>\n",
       "      <td>Rizi (Days)</td>\n",
       "      <td>6,7\\n203\\nvotos</td>\n",
       "      <td>203\\nvotos</td>\n",
       "      <td>Rizi (Days)</td>\n",
       "      <td>2020</td>\n",
       "      <td>127 min.</td>\n",
       "      <td>Taiwán</td>\n",
       "      <td>Tsai Ming-liang</td>\n",
       "      <td>Tsai Ming-liang</td>\n",
       "      <td>NaN</td>\n",
       "      <td>Chang Jhong-Yuan</td>\n",
       "      <td>Anong Houngheuangsy, Lee Kang-sheng</td>\n",
       "      <td>Homegreen Films, Arte, Public Television Servi...</td>\n",
       "      <td>Drama | Homosexualidad. Enfermedad</td>\n",
       "      <td>NaN</td>\n",
       "      <td>Kang vive solo en una casa grande. A través de...</td>\n",
       "      <td>NaN</td>\n",
       "    </tr>\n",
       "    <tr>\n",
       "      <th>0</th>\n",
       "      <td>El código de los diferentes</td>\n",
       "      <td>None</td>\n",
       "      <td>None</td>\n",
       "      <td>Code of the Freaks</td>\n",
       "      <td>2020</td>\n",
       "      <td>68 min.</td>\n",
       "      <td>Estados Unidos</td>\n",
       "      <td>Salome Chasnoff</td>\n",
       "      <td>Susan Nussbaum, Alyson Patsavas, Carrie Sandahl</td>\n",
       "      <td>Brad Newton</td>\n",
       "      <td>Jerzy Rose</td>\n",
       "      <td>Documental</td>\n",
       "      <td>WPA Collective</td>\n",
       "      <td>Documental | Discapacidad</td>\n",
       "      <td>NaN</td>\n",
       "      <td>Documental que examina la representación de pe...</td>\n",
       "      <td>NaN</td>\n",
       "    </tr>\n",
       "    <tr>\n",
       "      <th>0</th>\n",
       "      <td>Tierra Santa. El último peregrino</td>\n",
       "      <td>None</td>\n",
       "      <td>None</td>\n",
       "      <td>Tierra Santa. El último peregrino</td>\n",
       "      <td>2021</td>\n",
       "      <td>86 min.</td>\n",
       "      <td>España</td>\n",
       "      <td>Andrés Garrigó, Pablo Moreno</td>\n",
       "      <td>Andrés Garrigó, Pedro Delgado, Benjamín Lorenzo</td>\n",
       "      <td>José Sánchez-Sanz</td>\n",
       "      <td>Manuel Martino de Nales</td>\n",
       "      <td>Documental, Alex Larumbe, Rafa Jiménez, Susi L...</td>\n",
       "      <td>Narrow Gate 2020 AIE, Goya Producciones</td>\n",
       "      <td>Drama. Documental | Religión</td>\n",
       "      <td>NaN</td>\n",
       "      <td>Carmen ve su matrimonio estancado: su marido n...</td>\n",
       "      <td>NaN</td>\n",
       "    </tr>\n",
       "  </tbody>\n",
       "</table>\n",
       "</div>"
      ],
      "text/plain": [
       "                              Titulo                 Nota           Votos  \\\n",
       "0                        Spiral: Saw       5,1\\n35\\nvotos       35\\nvotos   \n",
       "0        Poliamor para principiantes                 None            None   \n",
       "0            Érase una vez en Queens                 None            None   \n",
       "0                          First Cow    6,9\\n1.391\\nvotos    1.391\\nvotos   \n",
       "0                          Mía y Moi       6,0\\n60\\nvotos       60\\nvotos   \n",
       "0                       Pequeño país       6,4\\n28\\nvotos       28\\nvotos   \n",
       "0                              Sweat       6,5\\n34\\nvotos       34\\nvotos   \n",
       "0        Félix y el tesoro de Morgäa                 None            None   \n",
       "0                El viaje de Chihiro  8,1\\n109.280\\nvotos  109.280\\nvotos   \n",
       "0                       Cascarrabias                 None            None   \n",
       "0                        Rizi (Days)      6,7\\n203\\nvotos      203\\nvotos   \n",
       "0        El código de los diferentes                 None            None   \n",
       "0  Tierra Santa. El último peregrino                 None            None   \n",
       "\n",
       "                                 Título original   Año  Duración  \\\n",
       "0                   Spiral: From the Book of Saw  2021   93 min.   \n",
       "0                    Poliamor para principiantes  2021   97 min.   \n",
       "0                                         Boogie  2021   89 min.   \n",
       "0                                      First Cow  2019  121 min.   \n",
       "0                                      Mía y Moi  2021       NaN   \n",
       "0                                 Petit pays aka  2020  111 min.   \n",
       "0                                          Sweat  2020  100 min.   \n",
       "0               Félix et le trésor de Morgäa aka  2021   90 min.   \n",
       "0              Sen to Chihiro no kamikakushi aka  2001  124 min.   \n",
       "0  Here Comes the Grump (Ahí viene Cascarrabias)  2018   97 min.   \n",
       "0                                    Rizi (Days)  2020  127 min.   \n",
       "0                             Code of the Freaks  2020   68 min.   \n",
       "0              Tierra Santa. El último peregrino  2021   86 min.   \n",
       "\n",
       "              País                     Dirección  \\\n",
       "0   Estados Unidos           Darren Lynn Bousman   \n",
       "0           España               Fernando Colomo   \n",
       "0   Estados Unidos                   Eddie Huang   \n",
       "0   Estados Unidos               Kelly Reichardt   \n",
       "0           España              Borja de la Vega   \n",
       "0          Francia                  Eric Barbier   \n",
       "0          Polonia               Magnus von Horn   \n",
       "0           Canadá                  Nicola Lemay   \n",
       "0            Japón                Hayao Miyazaki   \n",
       "0           México              Andrés Couturier   \n",
       "0           Taiwán               Tsai Ming-liang   \n",
       "0   Estados Unidos               Salome Chasnoff   \n",
       "0           España  Andrés Garrigó, Pablo Moreno   \n",
       "\n",
       "                                               Guion  \\\n",
       "0  Josh Stolberg, Pete Goldfinger. Historia: Pete...   \n",
       "0  Fernando Colomo, Casandra Macías Gago, Marina ...   \n",
       "0                                        Eddie Huang   \n",
       "0  Jonathan Raymond, Kelly Reichardt. Novela: Jon...   \n",
       "0                                   Borja de la Vega   \n",
       "0                    Eric Barbier. Novela: Gaël Faye   \n",
       "0                                    Magnus von Horn   \n",
       "0                                    Marc Robitaille   \n",
       "0                                     Hayao Miyazaki   \n",
       "0  Jim Hecht, Piers Clifton, Ricardo Hernández Du...   \n",
       "0                                    Tsai Ming-liang   \n",
       "0    Susan Nussbaum, Alyson Patsavas, Carrie Sandahl   \n",
       "0    Andrés Garrigó, Pedro Delgado, Benjamín Lorenzo   \n",
       "\n",
       "                                Música               Fotografía  \\\n",
       "0                      Charlie Clouser              Jordan Oram   \n",
       "0                     Fernando Furones            Ángel Iguacel   \n",
       "0  Ali Shaheed Muhammad, Adrian Younge         Brett Jutkiewicz   \n",
       "0                        William Tyler     Christopher Blauvelt   \n",
       "0                                  NaN              Álvaro Ruiz   \n",
       "0                       Renaud Barbier           Antoine Sanier   \n",
       "0                          Piotr Kurek             Michal Dymek   \n",
       "0                                  NaN                Animación   \n",
       "0                         Joe Hisaishi  Animación, Atsushi Okui   \n",
       "0                  James Seymour Brett                Animación   \n",
       "0                                  NaN         Chang Jhong-Yuan   \n",
       "0                          Brad Newton               Jerzy Rose   \n",
       "0                    José Sánchez-Sanz  Manuel Martino de Nales   \n",
       "\n",
       "                                             Reparto  \\\n",
       "0  Chris Rock, Samuel L. Jackson, Max Minghella, ...   \n",
       "0  Karra Elejalde, Toni Acosta, Quim Àvila Conde,...   \n",
       "0  Taylor Takahashi, Domenick Lombardozzi, Taylou...   \n",
       "0  John Magaro, Orion Lee, Toby Jones, Ewen Bremn...   \n",
       "0  Bruna Cusí, Ricardo Gómez, Eneko Sagardoy, Joe...   \n",
       "0  Jean-Paul Rouve, Djibril Vancoppenolle, Dayla ...   \n",
       "0  Magdalena Kolesnik, Julian Swiezewski, Aleksan...   \n",
       "0  Animación, Gabriel Lessard, Guy Nadon, Marc La...   \n",
       "0                                          Animación   \n",
       "0                                          Animación   \n",
       "0                Anong Houngheuangsy, Lee Kang-sheng   \n",
       "0                                         Documental   \n",
       "0  Documental, Alex Larumbe, Rafa Jiménez, Susi L...   \n",
       "\n",
       "                                          Productora  \\\n",
       "0  Serendipity Productions, Twisted Pictures, Bur...   \n",
       "0  Coproducción España-Francia; Morena Films, Ran...   \n",
       "0  Immersive Pictures, Wink Productions. Distribu...   \n",
       "0   Film Science, A24, IAC Films. Distribuidora: A24   \n",
       "0                    Paciencia y Baraja, Toned Media   \n",
       "0  Coproducción Francia-Bélgica; Jerico, Super 8 ...   \n",
       "0  Coproducción Polonia-Suecia; Lava Films, Zentr...   \n",
       "0                                            10e Ave   \n",
       "0  Studio Ghibli, Tokuma Shoten, Dentsu Inc. Dist...   \n",
       "0  Coproducción México-Estados Unidos; Anima Estu...   \n",
       "0  Homegreen Films, Arte, Public Television Servi...   \n",
       "0                                     WPA Collective   \n",
       "0            Narrow Gate 2020 AIE, Goya Producciones   \n",
       "\n",
       "                                              Género  \\\n",
       "0  Terror. Thriller | Policíaco. Crimen. Asesinos...   \n",
       "0               Comedia. Romance | Comedia romántica   \n",
       "0                    Drama | Baloncesto. Inmigración   \n",
       "0                Drama. Western | Siglo XIX. Amistad   \n",
       "0                                              Drama   \n",
       "0                                              Drama   \n",
       "0                       Drama | Internet/Informática   \n",
       "0                Animación. Aventuras | Adolescencia   \n",
       "0  Animación. Fantástico. Aventuras | Dragones. P...   \n",
       "0  Animación. Aventuras. Comedia. Fantástico. Inf...   \n",
       "0                 Drama | Homosexualidad. Enfermedad   \n",
       "0                          Documental | Discapacidad   \n",
       "0                       Drama. Documental | Religión   \n",
       "\n",
       "                                 Grupos  \\\n",
       "0                                   Saw   \n",
       "0                                   NaN   \n",
       "0                                   NaN   \n",
       "0                                   NaN   \n",
       "0                                   NaN   \n",
       "0                                   NaN   \n",
       "0                                   NaN   \n",
       "0                                   NaN   \n",
       "0  Studio Ghibli (y obras relacionadas)   \n",
       "0                                   NaN   \n",
       "0                                   NaN   \n",
       "0                                   NaN   \n",
       "0                                   NaN   \n",
       "\n",
       "                                            Sinopsis       \n",
       "0  Trabajando a la sombra de un policía veterano ...  NaN  \n",
       "0  Satur (Karra Elejalde) y Tina (Toni Acosta) so...  NaN  \n",
       "0  En la Nueva York contemporánea, un joven fenóm...  NaN  \n",
       "0  Narra la historia de un cocinero (John Magaro)...  NaN  \n",
       "0  Tras perder a su madre, Mía y Moi se refugian ...  NaN  \n",
       "0  Gabriel tiene 10 años y vive en un cómodo veci...       \n",
       "0  Describe tres días en la vida de la motivadora...  NaN  \n",
       "0  Félix es un niño de 12 años que está convencid...       \n",
       "0  Chihiro es una niña de diez años que viaja en ...       \n",
       "0  Pasar las vacaciones de verano en el increíble...  NaN  \n",
       "0  Kang vive solo en una casa grande. A través de...  NaN  \n",
       "0  Documental que examina la representación de pe...  NaN  \n",
       "0  Carmen ve su matrimonio estancado: su marido n...  NaN  "
      ]
     },
     "execution_count": 46,
     "metadata": {},
     "output_type": "execute_result"
    }
   ],
   "source": [
    "df_peliculas"
   ]
  },
  {
   "cell_type": "markdown",
   "metadata": {},
   "source": [
    "¡Tachán! Ya tenemos un dataframe con todas las películas que se van a estrenar el próximo viernes"
   ]
  }
 ],
 "metadata": {
  "hide_input": false,
  "kernelspec": {
   "display_name": "Python 3",
   "language": "python",
   "name": "python3"
  },
  "language_info": {
   "codemirror_mode": {
    "name": "ipython",
    "version": 3
   },
   "file_extension": ".py",
   "mimetype": "text/x-python",
   "name": "python",
   "nbconvert_exporter": "python",
   "pygments_lexer": "ipython3",
   "version": "3.8.3"
  },
  "nbTranslate": {
   "displayLangs": [
    "*"
   ],
   "hotkey": "alt-t",
   "langInMainMenu": true,
   "sourceLang": "en",
   "targetLang": "fr",
   "useGoogleTranslate": true
  },
  "varInspector": {
   "cols": {
    "lenName": 16,
    "lenType": 16,
    "lenVar": 40
   },
   "kernels_config": {
    "python": {
     "delete_cmd_postfix": "",
     "delete_cmd_prefix": "del ",
     "library": "var_list.py",
     "varRefreshCmd": "print(var_dic_list())"
    },
    "r": {
     "delete_cmd_postfix": ") ",
     "delete_cmd_prefix": "rm(",
     "library": "var_list.r",
     "varRefreshCmd": "cat(var_dic_list()) "
    }
   },
   "types_to_exclude": [
    "module",
    "function",
    "builtin_function_or_method",
    "instance",
    "_Feature"
   ],
   "window_display": false
  }
 },
 "nbformat": 4,
 "nbformat_minor": 2
}
