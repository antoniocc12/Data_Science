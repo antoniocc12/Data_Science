{
 "cells": [
  {
   "cell_type": "markdown",
   "metadata": {},
   "source": [
    "Antes de empezar: un poco de documentación para enterder ligeramente cómo funciona HTML: https://www.w3schools.com/html/html_intro.asp"
   ]
  },
  {
   "cell_type": "markdown",
   "metadata": {},
   "source": [
    "# Web Scraping: Beautiful Soup"
   ]
  },
  {
   "cell_type": "markdown",
   "metadata": {},
   "source": [
    "**Beautiful Soup** es una librería **Python** que permite extraer información de contenido en formato **HTML o XML**. Para usarla, es necesario especificar un **parser**, que es responsable de transformar un documento HTML o XML en un árbol complejo de objetos Python. Esto permite, por ejemplo, que podamos interactuar con los elementos de una página web como si estuviésemos utilizando las herramientas del desarrollador de un navegador.\n",
    "\n",
    "A la hora de extraer información de una web, uno de los parsers más utilizado es el parser HTML de **lxml**. Precisamente, será el que utilicemos en este tutorial."
   ]
  },
  {
   "cell_type": "markdown",
   "metadata": {},
   "source": [
    "**Será necesario instalar las siguientes librerías** (si no las tienes ya):\n",
    "\n",
    "        pip3 install beautifulsoup4 requests pandas\n",
    "\n",
    "        pip3 install beautifulsoup4 \n",
    "\n",
    "        pip3 install requests\n",
    "\n",
    "        pip3 install pandas "
   ]
  },
  {
   "cell_type": "markdown",
   "metadata": {},
   "source": [
    "###  Pasos a seguir en el proceso de 'scraping':\n",
    "\n",
    "1. Encuentra la URL que quieres 'escrapear'.\n",
    "2. Inspecciona la página (código fuente).\n",
    "3. Localiza los datos que necesitas obtener.\n",
    "4. Desarrolla tu código en Python.\n",
    "    1. Crea tu sopa\n",
    "    2. Busca los elementos que cotienen los datos y extráelos\n",
    "5. Ejecuta tu código y obten los datos.\n",
    "6. Alamacena los datos en el formato requerido."
   ]
  },
  {
   "cell_type": "markdown",
   "metadata": {},
   "source": [
    "Algunos ejemplos de Web Scraping utilizando Beautiful Soup:\n",
    "\n",
    "https://j2logo.com/python/web-scraping-con-python-guia-inicio-beautifulsoup/\n",
    "\n",
    "http://omz-software.com/pythonista/docs/ios/beautifulsoup_guide.html\n",
    "\n",
    "https://towardsdatascience.com/top-5-beautiful-soup-functions-7bfe5a693482\n",
    "\n",
    "https://www.crummy.com/software/BeautifulSoup/bs4/doc/"
   ]
  },
  {
   "cell_type": "code",
   "execution_count": 1,
   "metadata": {},
   "outputs": [],
   "source": [
    "# Importamos librerías\n",
    "import requests\n",
    "from bs4 import BeautifulSoup\n",
    "import pandas as pd\n",
    "import html\n",
    "import numpy as np"
   ]
  },
  {
   "cell_type": "markdown",
   "metadata": {},
   "source": [
    "## Caso 1: Scraping de un catálogo: Labirratorium"
   ]
  },
  {
   "cell_type": "code",
   "execution_count": 2,
   "metadata": {},
   "outputs": [],
   "source": [
    "URL = 'https://www.labirratorium.com/es/67-cervezas-por-estilo?page='"
   ]
  },
  {
   "cell_type": "markdown",
   "metadata": {},
   "source": [
    "Queremos obtener un dataFrame con todas las cervezas del catálogo y sus características descritas. Analizamos la página para ver qué tenemos que hacer para conseguirlo"
   ]
  },
  {
   "cell_type": "code",
   "execution_count": 3,
   "metadata": {},
   "outputs": [],
   "source": [
    "# La web tiene 80 páginas con 12 cervezas listadas en cada página."
   ]
  },
  {
   "cell_type": "markdown",
   "metadata": {},
   "source": [
    "Hacemos la consulta (request) y creamos la SOPA inicial:"
   ]
  },
  {
   "cell_type": "code",
   "execution_count": 4,
   "metadata": {},
   "outputs": [],
   "source": [
    "r = requests.get(URL)\n",
    "soup = BeautifulSoup(r.text, 'lxml')"
   ]
  },
  {
   "cell_type": "code",
   "execution_count": 5,
   "metadata": {},
   "outputs": [
    {
     "name": "stdout",
     "output_type": "stream",
     "text": [
      "12\n"
     ]
    }
   ],
   "source": [
    "# Guardamos lista de cervezas\n",
    "cervezas_grid = soup.find_all(class_='product-image')\n",
    "print(len(cervezas_grid))"
   ]
  },
  {
   "cell_type": "code",
   "execution_count": 6,
   "metadata": {},
   "outputs": [
    {
     "data": {
      "text/plain": [
       "['https://www.labirratorium.com/es/lambic/284-boon-kriek-2013.html',\n",
       " 'https://www.labirratorium.com/es/alemania/225-stortebeker-schwarz-bier.html',\n",
       " 'https://www.labirratorium.com/es/inicio/199-orval.html',\n",
       " 'https://www.labirratorium.com/es/alemania/184-augustiner-lagerbier-hell.html',\n",
       " 'https://www.labirratorium.com/es/inicio/183-schneider-eisbock.html',\n",
       " 'https://www.labirratorium.com/es/inicio/181-schlenkerla-rauchbier-weizen.html',\n",
       " 'https://www.labirratorium.com/es/inicio/173-samuel-adams-boston-lager.html',\n",
       " 'https://www.labirratorium.com/es/inicio/165-laugar-epa.html',\n",
       " 'https://www.labirratorium.com/es/inicio/82-westmalle-dubbel.html',\n",
       " 'https://www.labirratorium.com/es/inicio/75-duchesse-de-bourgogne.html',\n",
       " 'https://www.labirratorium.com/es/inicio/61-tripel-karmeliet33.html',\n",
       " 'https://www.labirratorium.com/es/inicio/21-weihenstephaner-vitus.html']"
      ]
     },
     "execution_count": 6,
     "metadata": {},
     "output_type": "execute_result"
    }
   ],
   "source": [
    "# necesitamos acceder a cada una de las cervezas del grid:\n",
    "lista_URLs = []\n",
    "for cerveza in cervezas_grid:\n",
    "    # print('Cerveza {} de {}, pag {}/{}'.format(count_beer, len(cervezas_grid), page, len(pages)))\n",
    "    # Para cada cerveza obtenemos su URL, de donde extraeremos toda la info   \n",
    "    URL_cerveza = cerveza.find('a')['href']\n",
    "    lista_URLs.append(URL_cerveza)\n",
    "lista_URLs   "
   ]
  },
  {
   "cell_type": "code",
   "execution_count": 7,
   "metadata": {},
   "outputs": [],
   "source": [
    "# Hacemos un nuevo request para la primera cerveza: \n",
    "r = requests.get(lista_URLs[0])\n",
    "# Creamos una sopa específica con la info de cada cerveza\n",
    "soup_cerveza = BeautifulSoup(r.text, 'lxml')"
   ]
  },
  {
   "cell_type": "code",
   "execution_count": 8,
   "metadata": {},
   "outputs": [
    {
     "name": "stdout",
     "output_type": "stream",
     "text": [
      "Boon Oude Kriek 37,5cl\n"
     ]
    }
   ],
   "source": [
    "# Nombre\n",
    "name = soup_cerveza.find(class_='h1 product-detail-name').text\n",
    "print(name)"
   ]
  },
  {
   "cell_type": "code",
   "execution_count": 9,
   "metadata": {},
   "outputs": [
    {
     "name": "stdout",
     "output_type": "stream",
     "text": [
      "7.15\n"
     ]
    }
   ],
   "source": [
    "# Precio\n",
    "price = soup_cerveza.find(class_='current-price').find('span')['content']\n",
    "print(price)"
   ]
  },
  {
   "cell_type": "code",
   "execution_count": 10,
   "metadata": {},
   "outputs": [
    {
     "name": "stdout",
     "output_type": "stream",
     "text": [
      "Lambic / Kriek\n"
     ]
    }
   ],
   "source": [
    "# Descripcion corta\n",
    "try:\n",
    "    descr_short = soup_cerveza.find(class_='description-short').find('p').text\n",
    "except:\n",
    "    descr_short = None\n",
    "print(descr_short)"
   ]
  },
  {
   "cell_type": "code",
   "execution_count": 11,
   "metadata": {},
   "outputs": [
    {
     "name": "stdout",
     "output_type": "stream",
     "text": [
      "Cerveza de fermentación espontánea (Lambic) de 6.5% ABV sin filtrar ni pasteurizar de estilo Kriek, elaborada con cerezas naturales.\n"
     ]
    }
   ],
   "source": [
    "# Descripción larga\n",
    "descr_full_list = []\n",
    "descr_full_p = soup_cerveza.find(class_='product-description').find_all('p')\n",
    "for sentence in descr_full_p:\n",
    "    descr_full_list.append(sentence.text)\n",
    "descr_full = \"\\n\".join(descr_full_list)\n",
    "print(descr_full)"
   ]
  },
  {
   "cell_type": "code",
   "execution_count": 12,
   "metadata": {},
   "outputs": [
    {
     "name": "stdout",
     "output_type": "stream",
     "text": [
      "https://www.labirratorium.com/19351-large_default/boon-kriek-2013.jpg\n"
     ]
    }
   ],
   "source": [
    "# Imagen\n",
    "image = soup_cerveza.find(class_='js-qv-product-cover img-fluid')['src']\n",
    "print(image)"
   ]
  },
  {
   "cell_type": "code",
   "execution_count": 13,
   "metadata": {},
   "outputs": [
    {
     "name": "stdout",
     "output_type": "stream",
     "text": [
      "Brouwerij F. Boon\n"
     ]
    }
   ],
   "source": [
    " # Brand\n",
    "try:\n",
    "    brand = soup_cerveza.find(class_='img img-thumbnail manufacturer-logo')['alt']\n",
    "except:\n",
    "    brand = None\n",
    "print(brand)"
   ]
  },
  {
   "cell_type": "code",
   "execution_count": 14,
   "metadata": {},
   "outputs": [
    {
     "name": "stdout",
     "output_type": "stream",
     "text": [
      "5412783053220\n"
     ]
    }
   ],
   "source": [
    "# Código de barras\n",
    "try:\n",
    "    barcode = soup_cerveza.find(class_='product-reference').find('span').text\n",
    "except:\n",
    "    barcode = None\n",
    "print(barcode)"
   ]
  },
  {
   "cell_type": "code",
   "execution_count": 15,
   "metadata": {},
   "outputs": [
    {
     "name": "stdout",
     "output_type": "stream",
     "text": [
      "Estilo KRIEK\n",
      "Origen Bélgica\n",
      "% Alc. 6.5\n",
      "ALTO (6-9%)\n",
      "Otros ingredientes Cerezas Naturales\n",
      "Volumen (cl) 37.5 Cl\n",
      "Tipo Fermentación Lambic (Fermentación espontánea o salvaje)\n",
      "Maltas Cebada y Trigo\n",
      "IBU 0-25 Amargor bajo\n",
      "Color Rojiza\n",
      "Envase Botella\n"
     ]
    }
   ],
   "source": [
    "# Features\n",
    "features_dicc = {}\n",
    "features = soup_cerveza.find(class_ = 'data-sheet')\n",
    "try:\n",
    "    features_dt = features.find_all('dt')\n",
    "    features_dd = features.find_all('dd')\n",
    "    for feature, value in zip(features_dt, features_dd):\n",
    "        print(feature.text, value.text)\n",
    "        features_dicc[feature.text] = value.text\n",
    "except:\n",
    "    features_dicc = {}"
   ]
  },
  {
   "cell_type": "code",
   "execution_count": 17,
   "metadata": {},
   "outputs": [],
   "source": [
    "# Creamos un Id único que os permita diferenciar cada entrada en la BBDD\n",
    "count = 1\n",
    "id_cerv = 'lbt_' + str(count)"
   ]
  },
  {
   "cell_type": "markdown",
   "metadata": {},
   "source": [
    "Ya tenemos todos los datos que queremos de la cerveza: Agrupamos todo en una lista:"
   ]
  },
  {
   "cell_type": "code",
   "execution_count": 19,
   "metadata": {},
   "outputs": [
    {
     "data": {
      "text/plain": [
       "[[('id', 'lbt_1'),\n",
       "  ('name', 'Boon Oude Kriek 37,5cl'),\n",
       "  ('price', '7.15'),\n",
       "  ('descr_short', 'Lambic / Kriek'),\n",
       "  ('descr_full',\n",
       "   'Cerveza de fermentación espontánea (Lambic) de 6.5% ABV sin filtrar ni pasteurizar de estilo Kriek, elaborada con cerezas naturales.'),\n",
       "  ('image',\n",
       "   'https://www.labirratorium.com/19351-large_default/boon-kriek-2013.jpg'),\n",
       "  ('brand', 'Brouwerij F. Boon'),\n",
       "  ('barcode', '5412783053220'),\n",
       "  ('features',\n",
       "   {'Estilo': 'KRIEK',\n",
       "    'Origen': 'Bélgica',\n",
       "    '% Alc.': '6.5\\nALTO (6-9%)',\n",
       "    'Otros ingredientes': 'Cerezas Naturales',\n",
       "    'Volumen (cl)': '37.5 Cl',\n",
       "    'Tipo Fermentación': 'Lambic (Fermentación espontánea o salvaje)',\n",
       "    'Maltas': 'Cebada y Trigo',\n",
       "    'IBU': '0-25 Amargor bajo',\n",
       "    'Color': 'Rojiza',\n",
       "    'Envase': 'Botella'})]]"
      ]
     },
     "execution_count": 19,
     "metadata": {},
     "output_type": "execute_result"
    }
   ],
   "source": [
    "# Agregamos a una lista\n",
    "lista_cervezas = []\n",
    "lista_cervezas.append([\n",
    "    ('id', id_cerv),\n",
    "    ('name', name), \n",
    "    ('price', price),\n",
    "    ('descr_short', descr_short),\n",
    "    ('descr_full', descr_full),\n",
    "    ('image', image),\n",
    "    ('brand', brand),\n",
    "    ('barcode', barcode),\n",
    "    ('features', features_dicc)\n",
    "    ])       \n",
    "lista_cervezas"
   ]
  },
  {
   "cell_type": "markdown",
   "metadata": {},
   "source": [
    "### Ya sabemos obtener todos los datos que nos interesan de una cerveza, ahora tenemos que aplicar esta lógica para obtener todas las demás "
   ]
  },
  {
   "cell_type": "code",
   "execution_count": null,
   "metadata": {},
   "outputs": [],
   "source": [
    "pages = np.arange(1, 81)\n",
    "count = 1\n",
    "lista_cervezas = []\n",
    "\n",
    "for page in pages:\n",
    "    \n",
    "    URL = 'https://www.labirratorium.com/es/67-cervezas-por-estilo?page=' + str(page)\n",
    "    r = requests.get(URL)\n",
    "    soup = BeautifulSoup(r.text, 'lxml')\n",
    "    cervezas_grid = soup.find_all(class_='product-image')\n",
    "    \n",
    "    count_beer = 1 # para el print de seguimiento de descarga\n",
    "    \n",
    "    for cerveza in cervezas_grid:\n",
    "        # Print de seguimiento de descarga:\n",
    "        print('Cerveza {} de {}, pag {}/{}'.format(\n",
    "            count_beer, len(cervezas_grid), page, len(pages)))\n",
    "\n",
    "        URL_cerveza = cerveza.find('a')['href']\n",
    "        r = requests.get(URL_cerveza)\n",
    "        soup_cerveza = BeautifulSoup(r.text, 'lxml')\n",
    "        \n",
    "        id_cerv = 'lbt_' + str(count)\n",
    "        \n",
    "        name = soup_cerveza.find(class_='h1 product-detail-name').text   \n",
    "\n",
    "        price = soup_cerveza.find(class_='current-price').find('span')['content']\n",
    "\n",
    "        try:\n",
    "            descr_short = soup_cerveza.find(class_='description-short').find('p').text\n",
    "        except:\n",
    "            descr_short = None\n",
    "\n",
    "        descr_full_list = []\n",
    "        descr_full_p = soup_cerveza.find(class_='product-description').find_all('p')\n",
    "        for sentence in descr_full_p:\n",
    "            descr_full_list.append(sentence.text)\n",
    "            \n",
    "        descr_full = \"\\n\".join(descr_full_list)\n",
    "        \n",
    "        image = soup_cerveza.find(class_='js-qv-product-cover img-fluid')['src']\n",
    "\n",
    "        try:\n",
    "            brand = soup_cerveza.find(class_='img img-thumbnail manufacturer-logo')['alt']\n",
    "        except:\n",
    "            brand = None\n",
    "\n",
    "        try:\n",
    "            barcode = soup_cerveza.find(class_='product-reference').find('span').text\n",
    "        except:\n",
    "            barcode = None\n",
    "\n",
    "        features_dicc = {}\n",
    "        features = soup_cerveza.find(class_ = 'data-sheet')\n",
    "        try:\n",
    "            features_dt = features.find_all('dt')\n",
    "            features_dd = features.find_all('dd')\n",
    "            for feature, value in zip(features_dt, features_dd):\n",
    "                #print(feature.text, value.text)\n",
    "                features_dicc[feature.text] = value.text\n",
    "        except:\n",
    "            features_dicc = {}\n",
    "\n",
    "        lista_cervezas.append([\n",
    "            ('id', id_cerv),\n",
    "            ('name', name), \n",
    "            ('price', price),\n",
    "            ('descr_short', descr_short),\n",
    "            ('descr_full', descr_full),\n",
    "            ('image', image),\n",
    "            ('brand', brand),\n",
    "            ('barcode', barcode),\n",
    "            ('features', features_dicc)\n",
    "        ])        \n",
    "        \n",
    "        # Pasamos al siguiente id\n",
    "        count += 1\n",
    "        count_beer += 1"
   ]
  },
  {
   "cell_type": "markdown",
   "metadata": {},
   "source": [
    "### FBI: Top ten criminals\n",
    "\n",
    "#### Queremos guardar las imágenes de cada fugitivo y que el nombre de cada archivo sea el nombre del fugitivo:"
   ]
  },
  {
   "cell_type": "code",
   "execution_count": 50,
   "metadata": {},
   "outputs": [
    {
     "data": {
      "text/plain": [
       "[<img src=\"++theme++fbigov.theme/uswds-2.9.0/img/icon-dot-gov.svg\"/>,\n",
       " <img src=\"++theme++fbigov.theme/uswds-2.9.0/img/icon-https.svg\"/>,\n",
       " <img alt=\"Federal Bureau of Investigation Logo\" src=\"https://www.fbi.gov/++theme++fbigov.theme/images/fbibannerseal.png\" title=\"Federal Bureau of Investigation\"/>,\n",
       " <img alt=\"ALEXIS FLORES\" class=\"\" src=\"https://www.fbi.gov/wanted/topten/alexis-flores/@@images/image/preview\"/>,\n",
       " <img alt=\"JOSE RODOLFO VILLARREAL-HERNANDEZ\" class=\"\" src=\"https://www.fbi.gov/wanted/topten/jose-rodolfo-villarreal-hernandez/@@images/image/preview\"/>,\n",
       " <img alt=\"EUGENE PALMER\" class=\"\" src=\"https://www.fbi.gov/wanted/topten/eugene-palmer/@@images/image/preview\"/>,\n",
       " <img alt=\"RAFAEL CARO-QUINTERO\" class=\"\" src=\"https://www.fbi.gov/wanted/topten/rafael-caro-quintero/@@images/image/preview\"/>,\n",
       " <img alt=\"BHADRESHKUMAR CHETANBHAI PATEL\" class=\"\" src=\"https://www.fbi.gov/wanted/topten/bhadreshkumar-chetanbhai-patel/@@images/image/preview\"/>,\n",
       " <img alt=\"ROBERT WILLIAM FISHER\" class=\"\" src=\"https://www.fbi.gov/wanted/topten/robert-william-fisher/@@images/image/preview\"/>,\n",
       " <img alt=\"ALEJANDRO ROSALES CASTILLO\" class=\"\" src=\"https://www.fbi.gov/wanted/topten/alejandro-castillo/@@images/image/preview\"/>,\n",
       " <img alt=\"ARNOLDO JIMENEZ\" class=\"\" src=\"https://www.fbi.gov/wanted/topten/arnoldo-jimenez/@@images/image/preview\"/>,\n",
       " <img alt=\"JASON DEREK BROWN\" class=\"\" src=\"https://www.fbi.gov/wanted/topten/jason-derek-brown/@@images/image/preview\"/>,\n",
       " <img alt=\"YASER ABDEL SAID\" class=\"\" src=\"https://www.fbi.gov/wanted/topten/yaser-abdel-said/@@images/image/preview\"/>]"
      ]
     },
     "execution_count": 50,
     "metadata": {},
     "output_type": "execute_result"
    }
   ],
   "source": [
    "fbi_url = 'https://www.fbi.gov/wanted/topten'\n",
    "\n",
    "# parser lxml\n",
    "# parser html.parser\n",
    "r= requests.get(fbi_url)\n",
    "soup = BeautifulSoup(r.text, \"lxml\")\n",
    "\n",
    "fbi = soup.find_all('img')\n",
    "fbi"
   ]
  },
  {
   "cell_type": "code",
   "execution_count": 62,
   "metadata": {},
   "outputs": [
    {
     "name": "stdout",
     "output_type": "stream",
     "text": [
      "None\n",
      "None\n",
      "Federal Bureau of Investigation Logo\n",
      "ALEXIS FLORES\n",
      "JOSE RODOLFO VILLARREAL-HERNANDEZ\n",
      "EUGENE PALMER\n",
      "RAFAEL CARO-QUINTERO\n",
      "BHADRESHKUMAR CHETANBHAI PATEL\n",
      "ROBERT WILLIAM FISHER\n",
      "ALEJANDRO ROSALES CASTILLO\n",
      "ARNOLDO JIMENEZ\n",
      "JASON DEREK BROWN\n",
      "YASER ABDEL SAID\n"
     ]
    }
   ],
   "source": [
    "for x in fbi:\n",
    "    print(x.get('alt'))"
   ]
  },
  {
   "cell_type": "code",
   "execution_count": 66,
   "metadata": {},
   "outputs": [
    {
     "data": {
      "text/plain": [
       "[None,\n",
       " None,\n",
       " 'Federal Bureau of Investigation Logo',\n",
       " 'ALEXIS FLORES',\n",
       " 'JOSE RODOLFO VILLARREAL-HERNANDEZ',\n",
       " 'EUGENE PALMER',\n",
       " 'RAFAEL CARO-QUINTERO',\n",
       " 'BHADRESHKUMAR CHETANBHAI PATEL',\n",
       " 'ROBERT WILLIAM FISHER',\n",
       " 'ALEJANDRO ROSALES CASTILLO',\n",
       " 'ARNOLDO JIMENEZ',\n",
       " 'JASON DEREK BROWN',\n",
       " 'YASER ABDEL SAID']"
      ]
     },
     "execution_count": 66,
     "metadata": {},
     "output_type": "execute_result"
    }
   ],
   "source": [
    "names = []\n",
    "for x in fbi:\n",
    "    names.append(x.get('alt'))\n",
    "names"
   ]
  },
  {
   "cell_type": "code",
   "execution_count": 63,
   "metadata": {},
   "outputs": [
    {
     "data": {
      "text/plain": [
       "['++theme++fbigov.theme/uswds-2.9.0/img/icon-dot-gov.svg',\n",
       " '++theme++fbigov.theme/uswds-2.9.0/img/icon-https.svg',\n",
       " 'https://www.fbi.gov/++theme++fbigov.theme/images/fbibannerseal.png',\n",
       " 'https://www.fbi.gov/wanted/topten/alexis-flores/@@images/image/preview',\n",
       " 'https://www.fbi.gov/wanted/topten/jose-rodolfo-villarreal-hernandez/@@images/image/preview',\n",
       " 'https://www.fbi.gov/wanted/topten/eugene-palmer/@@images/image/preview',\n",
       " 'https://www.fbi.gov/wanted/topten/rafael-caro-quintero/@@images/image/preview',\n",
       " 'https://www.fbi.gov/wanted/topten/bhadreshkumar-chetanbhai-patel/@@images/image/preview',\n",
       " 'https://www.fbi.gov/wanted/topten/robert-william-fisher/@@images/image/preview',\n",
       " 'https://www.fbi.gov/wanted/topten/alejandro-castillo/@@images/image/preview',\n",
       " 'https://www.fbi.gov/wanted/topten/arnoldo-jimenez/@@images/image/preview',\n",
       " 'https://www.fbi.gov/wanted/topten/jason-derek-brown/@@images/image/preview',\n",
       " 'https://www.fbi.gov/wanted/topten/yaser-abdel-said/@@images/image/preview']"
      ]
     },
     "execution_count": 63,
     "metadata": {},
     "output_type": "execute_result"
    }
   ],
   "source": [
    "imgs = []\n",
    "for x in fbi:\n",
    "    imgs.append(x.get(\"src\"))\n",
    "imgs"
   ]
  },
  {
   "cell_type": "code",
   "execution_count": 70,
   "metadata": {},
   "outputs": [
    {
     "data": {
      "text/plain": [
       "{None: '++theme++fbigov.theme/uswds-2.9.0/img/icon-https.svg',\n",
       " 'Federal Bureau of Investigation Logo': 'https://www.fbi.gov/++theme++fbigov.theme/images/fbibannerseal.png',\n",
       " 'ALEXIS FLORES': 'https://www.fbi.gov/wanted/topten/alexis-flores/@@images/image/preview',\n",
       " 'JOSE RODOLFO VILLARREAL-HERNANDEZ': 'https://www.fbi.gov/wanted/topten/jose-rodolfo-villarreal-hernandez/@@images/image/preview',\n",
       " 'EUGENE PALMER': 'https://www.fbi.gov/wanted/topten/eugene-palmer/@@images/image/preview',\n",
       " 'RAFAEL CARO-QUINTERO': 'https://www.fbi.gov/wanted/topten/rafael-caro-quintero/@@images/image/preview',\n",
       " 'BHADRESHKUMAR CHETANBHAI PATEL': 'https://www.fbi.gov/wanted/topten/bhadreshkumar-chetanbhai-patel/@@images/image/preview',\n",
       " 'ROBERT WILLIAM FISHER': 'https://www.fbi.gov/wanted/topten/robert-william-fisher/@@images/image/preview',\n",
       " 'ALEJANDRO ROSALES CASTILLO': 'https://www.fbi.gov/wanted/topten/alejandro-castillo/@@images/image/preview',\n",
       " 'ARNOLDO JIMENEZ': 'https://www.fbi.gov/wanted/topten/arnoldo-jimenez/@@images/image/preview',\n",
       " 'JASON DEREK BROWN': 'https://www.fbi.gov/wanted/topten/jason-derek-brown/@@images/image/preview',\n",
       " 'YASER ABDEL SAID': 'https://www.fbi.gov/wanted/topten/yaser-abdel-said/@@images/image/preview'}"
      ]
     },
     "execution_count": 70,
     "metadata": {},
     "output_type": "execute_result"
    }
   ],
   "source": [
    "dict_fbi = zip(names,imgs)\n",
    "dict_fbi = dict(dict_fbi)\n",
    "dict_fbi"
   ]
  },
  {
   "cell_type": "code",
   "execution_count": 73,
   "metadata": {},
   "outputs": [],
   "source": [
    "for key, value in dict_fbi.items():\n",
    "    if not \"+\" in value:  # or http in img_url\n",
    "        r = requests.get(value)\n",
    "        if r.status_code == 200:  # Get OK\n",
    "            with open(str(key) + \".png\", 'wb') as f:\n",
    "                f.write(r.content)"
   ]
  },
  {
   "cell_type": "code",
   "execution_count": null,
   "metadata": {},
   "outputs": [],
   "source": []
  }
 ],
 "metadata": {
  "hide_input": false,
  "kernelspec": {
   "display_name": "Python 3",
   "language": "python",
   "name": "python3"
  },
  "language_info": {
   "codemirror_mode": {
    "name": "ipython",
    "version": 3
   },
   "file_extension": ".py",
   "mimetype": "text/x-python",
   "name": "python",
   "nbconvert_exporter": "python",
   "pygments_lexer": "ipython3",
   "version": "3.8.3"
  },
  "varInspector": {
   "cols": {
    "lenName": 16,
    "lenType": 16,
    "lenVar": 40
   },
   "kernels_config": {
    "python": {
     "delete_cmd_postfix": "",
     "delete_cmd_prefix": "del ",
     "library": "var_list.py",
     "varRefreshCmd": "print(var_dic_list())"
    },
    "r": {
     "delete_cmd_postfix": ") ",
     "delete_cmd_prefix": "rm(",
     "library": "var_list.r",
     "varRefreshCmd": "cat(var_dic_list()) "
    }
   },
   "types_to_exclude": [
    "module",
    "function",
    "builtin_function_or_method",
    "instance",
    "_Feature"
   ],
   "window_display": false
  }
 },
 "nbformat": 4,
 "nbformat_minor": 2
}