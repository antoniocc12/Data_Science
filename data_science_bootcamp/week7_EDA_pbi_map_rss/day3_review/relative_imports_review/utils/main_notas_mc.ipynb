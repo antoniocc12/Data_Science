{
 "metadata": {
  "language_info": {
   "codemirror_mode": {
    "name": "ipython",
    "version": 3
   },
   "file_extension": ".py",
   "mimetype": "text/x-python",
   "name": "python",
   "nbconvert_exporter": "python",
   "pygments_lexer": "ipython3",
   "version": "3.7.4"
  },
  "orig_nbformat": 2,
  "kernelspec": {
   "name": "python374jvsc74a57bd0a9b83ec4160fc914f5169c2fc0bc9ab1c02e189a457abfa966969b692f6336e9",
   "display_name": "Python 3.7.4 64-bit"
  },
  "metadata": {
   "interpreter": {
    "hash": "a9b83ec4160fc914f5169c2fc0bc9ab1c02e189a457abfa966969b692f6336e9"
   }
  }
 },
 "nbformat": 4,
 "nbformat_minor": 2,
 "cells": [
  {
   "cell_type": "code",
   "execution_count": null,
   "metadata": {},
   "outputs": [],
   "source": [
    "from utils.b import function1  # esto puedo hacerlo por que esta a lamisma altura"
   ]
  },
  {
   "cell_type": "code",
   "execution_count": null,
   "metadata": {},
   "outputs": [],
   "source": [
    "# como eesta dentro del mismo nivel solo se hace import, por que si hacemos esto de sys.path se muestra queu essta en la misma carpeta\n",
    "import sys \n",
    "sys.path[0]"
   ]
  },
  {
   "cell_type": "code",
   "execution_count": null,
   "metadata": {},
   "outputs": [],
   "source": [
    "#eso significa qu ehya una variable sys.path y tiene por defecto una ruta a la carpeta en la que estoy"
   ]
  },
  {
   "cell_type": "code",
   "execution_count": null,
   "metadata": {},
   "outputs": [],
   "source": [
    "#tener en cuenta o estoy en notebook o .py"
   ]
  },
  {
   "cell_type": "code",
   "execution_count": null,
   "metadata": {},
   "outputs": [],
   "source": [
    "#si quiero salirme una carpeta atras:\n",
    "#tener que añadir al sys.path u na carpeta que se llama dashboard\n",
    "#la intencion de la carpeta src es tener ahi todo el codigo y fuera de ella todas las otras carpetas.\n",
    "#Habrá una carpeta principal que contenga el nombre de todo el proyecto y ahi dentro las otras subcarpetas"
   ]
  },
  {
   "cell_type": "code",
   "execution_count": 1,
   "metadata": {},
   "outputs": [
    {
     "output_type": "execute_result",
     "data": {
      "text/plain": [
       "'c:\\\\Users\\\\Mary\\\\Desktop\\\\Boot Camp\\\\Python\\\\MaryC-MezaR\\\\data_science_bootcamp_2021\\\\week7_EDA_pbi_map_rss\\\\day3_review\\\\relative_imports_review\\\\utils'"
      ]
     },
     "metadata": {},
     "execution_count": 1
    }
   ],
   "source": [
    "# En jupyter notebook\n",
    "\n",
    "import os \n",
    "\n",
    "os.getcwd()"
   ]
  },
  {
   "cell_type": "code",
   "execution_count": 2,
   "metadata": {},
   "outputs": [
    {
     "output_type": "execute_result",
     "data": {
      "text/plain": [
       "'c:\\\\Users\\\\Mary\\\\Desktop\\\\Boot Camp\\\\Python\\\\MaryC-MezaR\\\\data_science_bootcamp_2021\\\\week7_EDA_pbi_map_rss\\\\day3_review\\\\relative_imports_review\\\\utils'"
      ]
     },
     "metadata": {},
     "execution_count": 2
    }
   ],
   "source": [
    "current_path = os.getcwd()\n",
    "current_path"
   ]
  },
  {
   "cell_type": "code",
   "execution_count": 3,
   "metadata": {},
   "outputs": [
    {
     "output_type": "execute_result",
     "data": {
      "text/plain": [
       "'c:\\\\Users\\\\Mary\\\\Desktop\\\\Boot Camp\\\\Python\\\\MaryC-MezaR\\\\data_science_bootcamp_2021\\\\week7_EDA_pbi_map_rss\\\\day3_review\\\\relative_imports_review'"
      ]
     },
     "metadata": {},
     "execution_count": 3
    }
   ],
   "source": [
    "#tengo que subir una carpeta\n",
    "src_path = os.path.dirname(current_path)\n"
   ]
  },
  {
   "cell_type": "code",
   "execution_count": null,
   "metadata": {},
   "outputs": [],
   "source": [
    "#IMPORTANTE aÑADIR AL \n",
    "sys.path.append(src_path)"
   ]
  },
  {
   "cell_type": "code",
   "execution_count": null,
   "metadata": {},
   "outputs": [],
   "source": [
    "from dashboar.a import function_a  # esto ya es para importar y que me salga todo dentro de dashboard"
   ]
  },
  {
   "cell_type": "code",
   "execution_count": null,
   "metadata": {},
   "outputs": [],
   "source": [
    "## ahora ya puedo acceder a cualquier carpeta que este dentro de la carpeta principal src"
   ]
  }
 ]
}