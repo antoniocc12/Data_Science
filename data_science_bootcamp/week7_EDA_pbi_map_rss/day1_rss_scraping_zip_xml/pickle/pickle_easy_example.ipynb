{
 "metadata": {
  "language_info": {
   "codemirror_mode": {
    "name": "ipython",
    "version": 3
   },
   "file_extension": ".py",
   "mimetype": "text/x-python",
   "name": "python",
   "nbconvert_exporter": "python",
   "pygments_lexer": "ipython3",
   "version": "3.7.4"
  },
  "orig_nbformat": 2,
  "kernelspec": {
   "name": "python374jvsc74a57bd0a9b83ec4160fc914f5169c2fc0bc9ab1c02e189a457abfa966969b692f6336e9",
   "display_name": "Python 3.7.4 64-bit"
  },
  "metadata": {
   "interpreter": {
    "hash": "a9b83ec4160fc914f5169c2fc0bc9ab1c02e189a457abfa966969b692f6336e9"
   }
  }
 },
 "nbformat": 4,
 "nbformat_minor": 2,
 "cells": [
  {
   "source": [
    "!pip3 install pickle"
   ],
   "cell_type": "code",
   "metadata": {},
   "execution_count": null,
   "outputs": []
  },
  {
   "cell_type": "code",
   "execution_count": null,
   "metadata": {},
   "outputs": [],
   "source": [
    "#para trabajar con ficheros y carpeta sirve para guardar la variable asi larga en un archivo"
   ]
  },
  {
   "cell_type": "code",
   "execution_count": 1,
   "metadata": {},
   "outputs": [
    {
     "output_type": "execute_result",
     "data": {
      "text/plain": [
       "array([[0.21168372, 0.91833128, 0.85095254, 0.31575354, 0.62717548,\n",
       "        0.37379628, 0.21126839, 0.86374363, 0.51458158, 0.40077039,\n",
       "        0.98976066, 0.13557887, 0.40499627, 0.82957607, 0.08890585,\n",
       "        0.1479598 , 0.67731193, 0.8969871 , 0.75130735, 0.1663844 ,\n",
       "        0.85974619, 0.53618744, 0.14612436, 0.68558546, 0.97094553,\n",
       "        0.26797761, 0.47340964, 0.83442999, 0.95149137, 0.04005772,\n",
       "        0.12942475, 0.97710299, 0.60249377, 0.25163364, 0.76331151,\n",
       "        0.76564487, 0.38691448, 0.82345049, 0.70691491, 0.25386352,\n",
       "        0.90432674, 0.57862569, 0.88576692, 0.29828231, 0.88437033,\n",
       "        0.02006875, 0.80155889, 0.01054716, 0.3145988 , 0.02428977,\n",
       "        0.96146693, 0.41379866, 0.73635978, 0.23823119, 0.01092086,\n",
       "        0.50037305, 0.34981707, 0.52424287, 0.75298614, 0.82077832]])"
      ]
     },
     "metadata": {},
     "execution_count": 1
    }
   ],
   "source": [
    "import pickle\n",
    "import numpy as np \n",
    "\n",
    "long_array = np.random.rand(1,60)\n",
    "long_array"
   ]
  },
  {
   "source": [
    "### Guardamos la variable en un fichero"
   ],
   "cell_type": "markdown",
   "metadata": {}
  },
  {
   "cell_type": "code",
   "execution_count": 6,
   "metadata": {},
   "outputs": [],
   "source": [
    "pickle.dump( long_array, open(\"long_array.pepita\", \"wb\" ))"
   ]
  },
  {
   "source": [
    "### Cargamos la variable a partir de un fichero"
   ],
   "cell_type": "markdown",
   "metadata": {}
  },
  {
   "cell_type": "code",
   "execution_count": 7,
   "metadata": {},
   "outputs": [
    {
     "output_type": "execute_result",
     "data": {
      "text/plain": [
       "array([[0.1568862 , 0.29415187, 0.82543136, 0.61948421, 0.67047468,\n",
       "        0.27294081, 0.03479161, 0.36855172, 0.922173  , 0.71733008,\n",
       "        0.07488525, 0.27827534, 0.63461545, 0.82391936, 0.13677972,\n",
       "        0.04159077, 0.40062557, 0.6413302 , 0.87319117, 0.81382776,\n",
       "        0.05635696, 0.58330692, 0.78050168, 0.16527468, 0.75574963,\n",
       "        0.65055388, 0.07384414, 0.72235283, 0.37958457, 0.04414547,\n",
       "        0.77532925, 0.97921744, 0.4378943 , 0.87835118, 0.80679294,\n",
       "        0.56327895, 0.15464994, 0.09801182, 0.59302378, 0.73731345,\n",
       "        0.14984317, 0.52169793, 0.82499471, 0.80667152, 0.77390005,\n",
       "        0.34945011, 0.60206001, 0.97854075, 0.0351598 , 0.13285276,\n",
       "        0.39394127, 0.66218134, 0.85545927, 0.38717323, 0.26826533,\n",
       "        0.2556096 , 0.90183481, 0.34747431, 0.01283061, 0.50610326]])"
      ]
     },
     "metadata": {},
     "execution_count": 7
    }
   ],
   "source": [
    "long_array_loaded = pickle.load(open(\"long_array.pepita\", \"rb\" ))\n",
    "long_array_loaded"
   ]
  },
  {
   "cell_type": "code",
   "execution_count": null,
   "metadata": {},
   "outputs": [],
   "source": []
  }
 ]
}