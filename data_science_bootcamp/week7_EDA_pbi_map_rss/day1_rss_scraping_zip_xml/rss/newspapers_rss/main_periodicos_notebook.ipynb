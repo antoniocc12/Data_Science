{
 "metadata": {
  "language_info": {
   "codemirror_mode": {
    "name": "ipython",
    "version": 3
   },
   "file_extension": ".py",
   "mimetype": "text/x-python",
   "name": "python",
   "nbconvert_exporter": "python",
   "pygments_lexer": "ipython3",
   "version": "3.7.4"
  },
  "orig_nbformat": 2,
  "kernelspec": {
   "name": "python374jvsc74a57bd0a9b83ec4160fc914f5169c2fc0bc9ab1c02e189a457abfa966969b692f6336e9",
   "display_name": "Python 3.7.4 64-bit"
  },
  "metadata": {
   "interpreter": {
    "hash": "a9b83ec4160fc914f5169c2fc0bc9ab1c02e189a457abfa966969b692f6336e9"
   }
  }
 },
 "nbformat": 4,
 "nbformat_minor": 2,
 "cells": [
  {
   "cell_type": "code",
   "execution_count": 4,
   "metadata": {},
   "outputs": [
    {
     "output_type": "stream",
     "name": "stdout",
     "text": [
      "company_df.shape: (0, 5)\n\n FINISH \n\n"
     ]
    },
    {
     "output_type": "execute_result",
     "data": {
      "text/plain": [
       "Empty DataFrame\n",
       "Columns: [Periodico, Empresa, Noticia, Fecha noticia, Link Noticia]\n",
       "Index: []"
      ],
      "text/html": "<div>\n<style scoped>\n    .dataframe tbody tr th:only-of-type {\n        vertical-align: middle;\n    }\n\n    .dataframe tbody tr th {\n        vertical-align: top;\n    }\n\n    .dataframe thead th {\n        text-align: right;\n    }\n</style>\n<table border=\"1\" class=\"dataframe\">\n  <thead>\n    <tr style=\"text-align: right;\">\n      <th></th>\n      <th>Periodico</th>\n      <th>Empresa</th>\n      <th>Noticia</th>\n      <th>Fecha noticia</th>\n      <th>Link Noticia</th>\n    </tr>\n  </thead>\n  <tbody>\n  </tbody>\n</table>\n</div>"
     },
     "metadata": {},
     "execution_count": 4
    }
   ],
   "source": [
    "from urllib.request import urlopen\n",
    "from xml.etree.ElementTree import parse\n",
    "import pandas as pd\n",
    "import json \n",
    "company = 'ayuntamiento'  #aqui le podemos cambiar la palabra clave de busqueda\n",
    "\n",
    "newspapers = {\n",
    "    'Expansion': 'https://e00-expansion.uecdn.es/rss/empresas.xml',\n",
    "    'El economista': 'https://www.eleconomista.es/rss/rss-empresas.php',\n",
    "    'Cinco dias': 'https://cincodias.elpais.com/seccion/rss/companias/',\n",
    "    'El confidencial': 'https://rss.elconfidencial.com/empresas/'\n",
    "}\n",
    "\n",
    "tot_data = {\n",
    "    'Periodico': [],\n",
    "    'Empresa': [],\n",
    "    'Noticia': [],\n",
    "    'Fecha noticia': [],\n",
    "    'Link Noticia': []\n",
    "}\n",
    "\n",
    "for i in newspapers:\n",
    "    url_str = newspapers[i]\n",
    "    var_url = urlopen(url_str)\n",
    "    xmldoc = parse(var_url)\n",
    "\n",
    "    for item in xmldoc.iterfind('channel/item'):\n",
    "\n",
    "        if company in item.findtext('title').lower():\n",
    "            tot_data['Periodico'].append(i)\n",
    "            tot_data['Empresa'].append(company)\n",
    "            tot_data['Noticia'].append(item.findtext('title'))\n",
    "            tot_data['Fecha noticia'].append(item.findtext('pubDate'))\n",
    "            tot_data['Link Noticia'].append(item.findtext('link'))\n",
    "\n",
    "company_df = pd.DataFrame(tot_data)\n",
    "print(\"company_df.shape:\", company_df.shape)\n",
    "company_df.to_excel('./company_data.xlsx')\n",
    "company_df.to_csv('./company_data.csv')\n",
    "company_df.to_json(\"company_data.json\")\n",
    "print(\"\\n FINISH \\n\")\n",
    "company_df"
   ]
  },
  {
   "cell_type": "code",
   "execution_count": 5,
   "metadata": {},
   "outputs": [
    {
     "output_type": "execute_result",
     "data": {
      "text/plain": [
       "Series([], Name: Link Noticia, dtype: float64)"
      ]
     },
     "metadata": {},
     "execution_count": 5
    }
   ],
   "source": [
    "company_df['Link Noticia']"
   ]
  },
  {
   "cell_type": "code",
   "execution_count": null,
   "metadata": {},
   "outputs": [],
   "source": []
  }
 ]
}