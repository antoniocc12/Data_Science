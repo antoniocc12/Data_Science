{
 "cells": [
  {
   "cell_type": "markdown",
   "metadata": {},
   "source": [
    "# Regular Expressions (RegEx)"
   ]
  },
  {
   "cell_type": "markdown",
   "metadata": {},
   "source": [
    "A regular expression, regex or regexp is a sequence of characters that define a search pattern."
   ]
  },
  {
   "cell_type": "markdown",
   "metadata": {},
   "source": [
    "![regex](https://miro.medium.com/max/1200/1*ZVlIZ1ZYC6rASz-dYPzhZQ.jpeg)"
   ]
  },
  {
   "cell_type": "markdown",
   "metadata": {},
   "source": [
    "**references**\n",
    "\n",
    "- https://docs.python.org/3/howto/regex.html\n",
    "- https://www.datacamp.com/community/tutorials/python-regular-expression-tutorial\n",
    "- https://www.dataquest.io/blog/regular-expressions-data-scientists/\n",
    "- https://www.kaggle.com/rtatman/fraudulent-email-corpus\n",
    "\n",
    "**may save your life**\n",
    "\n",
    "- https://regex101.com/"
   ]
  },
  {
   "cell_type": "markdown",
   "metadata": {},
   "source": [
    "### First things first"
   ]
  },
  {
   "cell_type": "markdown",
   "metadata": {},
   "source": [
    "For the standard case **import re** should be enough. For the later case **pip3 install regex** should install it."
   ]
  },
  {
   "cell_type": "code",
   "execution_count": 4,
   "metadata": {},
   "outputs": [],
   "source": [
    "import re\n",
    "import numpy as np\n",
    "import pandas as pd"
   ]
  },
  {
   "cell_type": "markdown",
   "metadata": {},
   "source": [
    "## Sintax\n",
    "### Special Characters:\n",
    "- `.` Matches any character except a newline.\n",
    "- `^` Matches the start of the string.\n",
    "- `$` Matches the end of the string or just before the newline at the end of the string.\n",
    "- `*` Matches 0 or more repetitions of the preceding RE.\n",
    "- `+` Matches 1 or more repetitions of the preceding RE.\n",
    "- `?` Matches 0 or 1 repetitions of the preceding RE.\n",
    "- NOTA: re.M -> modo multilinea\n",
    "\n",
    "https://docs.python.org/3/library/re.html#re-syntax\n",
    "\n"
   ]
  },
  {
   "source": [
    "### Special Sequences:\n",
    "\n",
    "- **Literals** `a` \n",
    "- **Alternation** `a|b`\n",
    "- **Character sets** `[ab]`, `[^ab]` # el gorrito aqui es que no este ni a ni b. Los corchetes estos son como lista de opciones\n",
    "- **Wildcards** `.` \n",
    "- **Escape special characters** `\\` (?,*,+,^,&)  ## siempre que quiero buscar algo literalmente tengo que poner \\ para que no me signifique la busqueda ni nada si no buscar literalmente el caracter esepecial\n",
    "- **Ranges** `[a-d]`, `[1-9]` # podria ser una lista de opciones pero aqui le damos un rango, del 1 al 9 \n",
    "\n",
    "- **Quantifiers** `{2}`, `{2,}`, `{2,4}`, `?`, `*`, `+`\n",
    "- **Grouping** `()`\n",
    "- **Anchors** `^`, `$`\n",
    "- **Character classes** `\\w`, `\\d`, `\\s`, `\\n`, `\\W`, `\\D`, `\\S`\n",
    "\n",
    "**\\w** - Matches any alphanumeric character (digits and alphabets). Equivalent to `[a-zA-Z0-9_]`. By the way, underscore _ is also considered an alphanumeric character. \n",
    "\n",
    "**\\d** - Matches any digit. Equivalent to `[0-9]` \n",
    "\n",
    "**\\s** - Matches where a string contains any whitespace character. Equivalent to `[ \\t\\n\\r\\f\\v]`\n",
    "\n",
    "**\\W** - Matches any non-alphanumeric character. Equivalent to `[^a-zA-Z0-9_]`\n",
    "\n",
    "**\\D** - Matches any non digit. Equivalent to `[^0-9]` \n",
    "\n",
    "**\\S** - Matches where a string contains any non-whitespace character. Equivalent to `[^ \\t\\n\\r\\f\\v]`\n",
    "\n"
   ],
   "cell_type": "markdown",
   "metadata": {}
  },
  {
   "cell_type": "markdown",
   "metadata": {},
   "source": [
    "### Methods"
   ]
  },
  {
   "cell_type": "markdown",
   "metadata": {},
   "source": [
    "### re.sub(pattern, repl, string, count=0)\n",
    "Replaces one or many matches with a string"
   ]
  },
  {
   "cell_type": "code",
   "execution_count": 5,
   "metadata": {},
   "outputs": [],
   "source": [
    "txt = \"gabriel, Mónica, Borja and Clara are TA's??\""
   ]
  },
  {
   "cell_type": "code",
   "execution_count": 6,
   "metadata": {},
   "outputs": [
    {
     "output_type": "execute_result",
     "data": {
      "text/plain": [
       "\"Gabriel, Mónica, Borja and Clara are TA's??\""
      ]
     },
     "metadata": {},
     "execution_count": 6
    }
   ],
   "source": [
    "#re.sub\n",
    "#Literals  #aqui estamos poniendo una G mayuscula, aqui no estoy transformando txt, tendria que guardarlo\n",
    "re.sub('g','G',txt)"
   ]
  },
  {
   "cell_type": "code",
   "execution_count": 7,
   "metadata": {},
   "outputs": [
    {
     "output_type": "execute_result",
     "data": {
      "text/plain": [
       "\"gabriel, ónica, orja and lara are 's??\""
      ]
     },
     "metadata": {},
     "execution_count": 7
    }
   ],
   "source": [
    "#Ranges\n",
    "re.sub('[A-Z]','',txt) #aqui ha remplazado en un rango las mayusculas por un espacio"
   ]
  },
  {
   "cell_type": "code",
   "execution_count": 8,
   "metadata": {},
   "outputs": [
    {
     "output_type": "execute_result",
     "data": {
      "text/plain": [
       "\"gabriel, Mónica, Borja and Clara are TA's.\""
      ]
     },
     "metadata": {},
     "execution_count": 8
    }
   ],
   "source": [
    "#Escape special character, quantifiers\n",
    "re.sub('\\?{2}','.',txt)"
   ]
  },
  {
   "cell_type": "markdown",
   "metadata": {},
   "source": [
    "### re.search(pattern, string, flags=0)\n",
    "Scan through a string, looking for any location where this RE matches. If the search is succesful, `re.search()` returns a match object. Otherwise, it returns `None`."
   ]
  },
  {
   "cell_type": "code",
   "execution_count": 9,
   "metadata": {},
   "outputs": [
    {
     "output_type": "execute_result",
     "data": {
      "text/plain": [
       "<re.Match object; span=(0, 17), match='The rain in Spain'>"
      ]
     },
     "metadata": {},
     "execution_count": 9
    }
   ],
   "source": [
    "#re.search\n",
    "txt = \"The rain in Spain\"\n",
    "x = re.search(\"^The.*Spain$\", txt) #aqui decimos que al principio vaya un the eso esta anclado con ^ luego el .* es lo que haya dentro de es decir cualquier cosa, y al final el $ es para decir que el Spain debe ir al final si o si anclado\n",
    "x"
   ]
  },
  {
   "cell_type": "code",
   "execution_count": 10,
   "metadata": {},
   "outputs": [
    {
     "output_type": "stream",
     "name": "stdout",
     "text": [
      "None\n"
     ]
    }
   ],
   "source": [
    "y = re.search(\"^Hola.*\", txt) \n",
    "print(y)"
   ]
  },
  {
   "cell_type": "code",
   "execution_count": 11,
   "metadata": {},
   "outputs": [
    {
     "output_type": "stream",
     "name": "stdout",
     "text": [
      "<re.Match object; span=(12, 17), match='Spain'>\n(12, 17)\n12\n17\nThe rain in Spain\nSpain\n"
     ]
    }
   ],
   "source": [
    "txt = \"The rain in Spain\"\n",
    "#\\b whole words only\n",
    "x = re.search(r\"\\bS\\w+\", txt) #\\b cuando queremos que solo nos busque lo que este seguido aqui es que una palabra empiece por S que este seguido de caracteres alfanuméricos hasta que termine\n",
    "print(x)\n",
    "print(x.span())\n",
    "#returns a tuple containing the start-, and end positions of the match\n",
    "print(x.start())\n",
    "#contains the start position of the match\n",
    "print(x.end())\n",
    "#contains the end position of the match\n",
    "print(x.string)\n",
    "#print the string passed into the function (variable 'txt')\n",
    "print(x.group())\n",
    "#Print the part of the string where there was a match"
   ]
  },
  {
   "cell_type": "code",
   "execution_count": 12,
   "metadata": {},
   "outputs": [
    {
     "output_type": "stream",
     "name": "stdout",
     "text": [
      "<re.Match object; span=(4, 8), match='rain'>\nNone\n<re.Match object; span=(0, 3), match='The'>\nNone\n"
     ]
    }
   ],
   "source": [
    "print(re.search(r'r\\w*', txt))\n",
    "print(re.search(r'R\\w*', txt))\n",
    "print(re.search(r'^T\\w*', txt))\n",
    "print(re.search(r'^t\\w*', txt))"
   ]
  },
  {
   "cell_type": "markdown",
   "metadata": {},
   "source": [
    "### re.match(pattern, string)\n",
    "Determine if the RE matches at the **beginning** of the string."
   ]
  },
  {
   "cell_type": "code",
   "execution_count": 13,
   "metadata": {},
   "outputs": [
    {
     "output_type": "stream",
     "name": "stdout",
     "text": [
      "Match!\n"
     ]
    }
   ],
   "source": [
    "#re.match\n",
    "pattern = r\"Cookie\"\n",
    "sequence = \"I want a Cookie\"\n",
    "sequence2= \"Cookie, I want you!\"\n",
    "if re.match(pattern, sequence2):\n",
    "    print(\"Match!\")\n",
    "else: \n",
    "    print(\"Not a match!\")"
   ]
  },
  {
   "cell_type": "code",
   "execution_count": 14,
   "metadata": {},
   "outputs": [
    {
     "output_type": "stream",
     "name": "stdout",
     "text": [
      "None\nNone\n<re.Match object; span=(0, 3), match='The'>\n<re.Match object; span=(0, 3), match='The'>\n"
     ]
    }
   ],
   "source": [
    "txt = \"The rain in Madrid\"\n",
    "#matches at the beginning of the string\n",
    "print(re.match(r'r\\w*', txt))\n",
    "print(re.match(r'^r\\w*', txt))\n",
    "print(re.match(r'^T\\w*', txt))\n",
    "print(re.match(r'T\\w*', txt))"
   ]
  },
  {
   "cell_type": "code",
   "execution_count": 15,
   "metadata": {},
   "outputs": [
    {
     "output_type": "stream",
     "name": "stdout",
     "text": [
      "support@thebridge.com\nsupport\nthebridge.com\n"
     ]
    }
   ],
   "source": [
    "email_address = 'Please contact us at: support@thebridge.com'\n",
    "match = re.search(r'(\\w+)@([\\w\\.]+)', email_address)\n",
    "if match:\n",
    "    print(match.group()) # The whole matched text\n",
    "    print(match.group(1)) # The username (group 1)\n",
    "    print(match.group(2)) # The host (group 2)"
   ]
  },
  {
   "cell_type": "markdown",
   "metadata": {},
   "source": [
    "### re.fullmatch(pattern, string)"
   ]
  },
  {
   "cell_type": "code",
   "execution_count": 16,
   "metadata": {},
   "outputs": [
    {
     "output_type": "stream",
     "name": "stdout",
     "text": [
      "Karina is not desired name\nMarina is not desired name\nIsabel is desired name\nGina is not desired name\nXinru is not desired name\nSonia is not desired name\nMarycruz is not desired name\n"
     ]
    }
   ],
   "source": [
    "class_names = [\"Karina\", \"Marina\", \"Isabel\", \"Gina\", \"Xinru\", \"Sonia\", \"Marycruz\"]\n",
    "for name in class_names:\n",
    "    if re.fullmatch(\"Isabel\", name):\n",
    "        print(f\"{name} is desired name\")\n",
    "    else:\n",
    "        print(f\"{name} is not desired name\")"
   ]
  },
  {
   "cell_type": "markdown",
   "metadata": {},
   "source": [
    "### re.findall (pattern, string)\n",
    "Find all substrings where the RE matches, and returns them as a list."
   ]
  },
  {
   "cell_type": "code",
   "execution_count": 17,
   "metadata": {},
   "outputs": [
    {
     "output_type": "execute_result",
     "data": {
      "text/plain": [
       "['support.data@data-science.com', 'xyz@thebridge.com']"
      ]
     },
     "metadata": {},
     "execution_count": 17
    }
   ],
   "source": [
    "#re.findall para hacer una lista\n",
    "email_address = \"Please contact us at: support.data@data-science.com, xyz@thebridge.com\"\n",
    "\n",
    "#'addresses' is a list that stores all the possible match\n",
    "addresses = re.findall(r'[\\w\\.]+@[\\w\\.-]+', email_address)\n",
    "addresses"
   ]
  },
  {
   "cell_type": "code",
   "execution_count": 18,
   "metadata": {},
   "outputs": [
    {
     "output_type": "stream",
     "name": "stdout",
     "text": [
      "['P', 'l', 's', 'c', 'n', 't', 'c', 't', 's', 't', ':', 's', 'p', 'p', 'r', 't', '.', 'd', 't', '@', 'd', 't', '-', 's', 'c', 'n', 'c', '.', 'c', 'm', ',', 'x', 'y', 'z', '@', 't', 'h', 'b', 'r', 'd', 'g', '.', 'c', 'm']\n"
     ]
    }
   ],
   "source": [
    "print(re.findall('[^aeiou\\s]',email_address))"
   ]
  },
  {
   "cell_type": "markdown",
   "metadata": {},
   "source": [
    "**¿Qué me van a devolver las siguientes dos líneas de código?**\n",
    "\n"
   ]
  },
  {
   "cell_type": "code",
   "execution_count": 19,
   "metadata": {},
   "outputs": [
    {
     "output_type": "stream",
     "name": "stdout",
     "text": [
      "[' contact']\n"
     ]
    }
   ],
   "source": [
    "print(re.findall('\\sc\\w*', email_address)) #\\s eso significa espacio, eso es lo que diferencia a la c de contact de las otras \n"
   ]
  },
  {
   "cell_type": "code",
   "execution_count": 31,
   "metadata": {},
   "outputs": [
    {
     "output_type": "stream",
     "name": "stdout",
     "text": [
      "['Please']\n"
     ]
    }
   ],
   "source": [
    "print(re.findall('^P\\w*', email_address))"
   ]
  },
  {
   "cell_type": "markdown",
   "metadata": {},
   "source": [
    "\n",
    "------------------------------------------------------------------------------"
   ]
  },
  {
   "cell_type": "code",
   "execution_count": 53,
   "metadata": {},
   "outputs": [],
   "source": [
    "#cargar el archivo o texto, se ha creado como una sola string o viene creado por defecto\n",
    "with open('info.txt', 'r') as file:\n",
    "    client_info = file.read()"
   ]
  },
  {
   "cell_type": "code",
   "execution_count": 54,
   "metadata": {},
   "outputs": [
    {
     "output_type": "execute_result",
     "data": {
      "text/plain": [
       "'Wyoming Dudley sit.amet.metus@egestasnunc.ca 2518 Nulla Road 34-739-941-941 Aristotle Grant arcu.Aliquam.ultrices@vestibulumneceuismod.co.uk 8453 Nostra, St. 34-278-870-242 Zephania Copeland Nulla.eu.neque@Fuscealiquetmagna.com P.O. Box 733, 3179 Ligula. Av. 34-999-876-292 Scarlett Ortiz Nullam.velit@non.ca 6082 Massa Road 34-345-887-949 Ocean Bell In@gravidamolestiearcu.co.uk P.O. Box 370, 440 Suspendisse Rd. 34-905-089-682 Meghan Henson non.bibendum@ipsumdolorsit.edu Ap #393-8999 Maecenas Rd. 34-773-463-479 Cole Cantrell rutrum.Fusce.dolor@purusNullamscelerisque.ca Ap #897-8561 Vitae, Rd. 34-017-915-525 Leandra Shaw quam.quis@ac.net P.O. Box 345, 1982 Ipsum Road 34-274-204-840 Michelle Rollins Nulla.eu.neque@idmollis.com 2891 Eget St. 34-575-459-881 Pamela Webster lacus.Cras@quisaccumsan.net 1418 Non Avenue 34-249-358-256 Kieran Aguilar commodo.at@sit.org 393-8798 Phasellus Rd. 34-299-478-659 Harrison Bartlett libero.et.tristique@sodaleseliterat.com Ap #803-4228 Accumsan Rd. 34-094-099-748 Skyler Lancaster porttitor@Integervitaenibh.net P.O. Box 728, 7203 Sed, Av. 34-236-498-114 Xenos Foley Nam.tempor@inmagna.com Ap #400-1688 Libero. Rd. 34-541-455-803 Sebastian Blanchard ac@augueeu.co.uk Ap #453-9113 Nisi Street 34-274-768-546 Herman Key sagittis.lobortis.mauris@atvelitCras.com Ap #270-5853 Risus. Rd. 34-850-484-655 Ulric Harvey Curae.Donec.tincidunt@est.edu Ap #445-6354 Quam. Avenue 34-193-830-599 Deacon Morris senectus.et.netus@ullamcorper.com P.O. Box 524, 5640 Gravida Rd. 34-768-704-320 Raven Hendricks Cras.interdum.Nunc@eratsemper.org Ap #921-9419 In Av. 34-960-058-312 Ferris Norman nascetur@tortoratrisus.com 6318 Aliquam Rd. 34-835-461-291 Reece Burks aliquam@doloregestas.com 995-1345 Sed St. 34-524-499-405 Keegan Simmons ornare@vitae.net P.O. Box 425, 1287 Pellentesque. Street 34-553-655-405 Ava Huber ultricies.ligula.Nullam@malesuada.com Ap #476-3742 Eget, Street 34-193-752-726 Clinton Odom ut.aliquam@imperdietnonvestibulum.ca 5215 Dictum Avenue 34-165-726-657 Amanda Meyer felis.purus@idsapienCras.com 557-4354 Parturient Ave 34-172-146-895 Kadeem Kennedy Integer.urna@non.edu 6159 Elementum, St. 34-309-707-078 Dylan Mcintosh ligula@consequatlectus.co.uk 6191 Tempus St. 34-289-368-945 Lavinia Knox lectus@lacus.com Ap #355-6742 Donec Road 34-432-424-781 Breanna Horton Integer@facilisismagnatellus.com 685-129 Mauris St. 34-880-153-396 Zelenia Simmons egestas.ligula@pedeSuspendisse.co.uk 284-9669 Et St. 34-876-903-767 Tarik Keith est.mollis.non@Donectincidunt.edu 1514 Nulla Street 34-508-574-378 Garrett Orr euismod.ac.fermentum@gravida.ca Ap #301-3913 Libero. Avenue 34-219-498-365 Quynn Hart Nam.interdum.enim@egetmassa.co.uk 4552 Erat Rd. 34-413-279-781 Marvin Everett non.egestas.a@ipsum.edu Ap #332-4113 Felis Ave 34-789-736-506 Bernard Murray malesuada.fames.ac@laciniaorciconsectetuer.net 9212 Tempus Avenue 34-701-997-370 Abraham Trujillo mollis.dui.in@arcu.com 754-3604 Amet, Av. 34-912-146-256 Tanner English taciti@consequat.co.uk Ap #415-5232 Facilisis, Av. 34-550-871-297 Flavia Ramos tellus.faucibus.leo@Pellentesqueultricies.net Ap #340-7466 Donec Avenue 34-818-230-259 Jescie Rice massa.Vestibulum.accumsan@Namnulla.com 3221 Quisque Avenue 34-707-183-700 Quincy Morin justo@fermentumfermentumarcu.org 313-9676 Neque. Rd. 34-006-975-807 Russell Stevens nulla@odioNam.ca 6870 Vulputate, Ave 34-975-336-347 Joel Madden magna@dolornonummy.org P.O. Box 297, 7863 Pede, Road 34-208-023-425 Brady Reed litora.torquent@ipsum.com P.O. Box 285, 4196 Turpis St. 34-810-185-675 Tyrone Juarez parturient@massa.org 6028 Pharetra Street 34-318-817-026 Jescie Short auctor@euerosNam.edu Ap #295-8545 Egestas Rd. 34-229-857-982 Wyoming Gill egestas.Duis.ac@dictumeleifendnunc.edu P.O. Box 590, 9155 Arcu Rd. 34-415-168-417 Conan Schmidt augue.scelerisque@dictum.co.uk Ap #718-6336 Fermentum St. 34-595-803-021 Brody Vega arcu.Vestibulum@turpisegestasFusce.ca 1187 Malesuada St. 34-620-827-404 Sade Morgan lorem.eget.mollis@parturientmontesnascetur.org P.O. Box 104, 7033 Lectus. St. 34-711-768-527 Mary Madden iaculis@Nullamsuscipitest.ca P.O. Box 438, 166 Turpis Avenue 34-159-329-878 Micah Weeks vestibulum@Etiamvestibulummassa.com P.O. Box 504, 3384 Eget Street 34-619-616-824 Zena Reed rutrum.lorem.ac@fringillaporttitorvulputate.org 5351 Justo. Road 34-865-861-872 Eaton Ortiz ac@urnaUt.net P.O. Box 110, 4145 Varius. St. 34-294-644-638 Keith Trujillo magna.Praesent.interdum@Suspendisse.co.uk 553-5099 Lacus, Road 34-439-853-222 Dylan Walls tincidunt@metusAeneansed.edu 197-1551 Vivamus Street 34-215-852-041 Buckminster Huber et@maurisidsapien.org P.O. Box 663, 9678 Diam Av. 34-425-519-500 Wynne Welch velit.egestas.lacinia@nonummyFusce.com Ap #798-3605 Sed St. 34-152-386-570 Beverly Mccormick Proin@luctusvulputate.org 953-395 Egestas St. 34-114-918-271 Quinlan Morrow eget.magna@cursus.edu Ap #839-6857 Ut, Av. 34-578-430-713 Ira Hampton et.risus.Quisque@mollisduiin.edu 878-4520 Sapien, St. 34-198-215-014 Abel Fuller In.at.pede@porttitor.ca Ap #862-5882 Etiam Rd. 34-081-000-664 Kaseem Thornton id@non.co.uk 408-1137 Ut, Street 34-215-712-522 Nathan Lowery dui.Cras.pellentesque@Morbinonsapien.com Ap #814-4168 Nec, Road 34-247-057-497 Ora Massey Vivamus@nullaatsem.ca 102-2852 Nam Road 34-091-856-589 Lunea Medina faucibus@arcuiaculisenim.co.uk P.O. Box 815, 9937 Natoque Ave 34-972-416-447 Imani Knapp dapibus@nonummyipsum.com 7935 Fringilla Avenue 34-371-921-059 George Melendez purus@velit.net 249-1083 Feugiat. Road 34-103-486-092 Arsenio Leach ipsum.leo@ornareelitelit.co.uk P.O. Box 378, 125 Blandit Road 34-093-803-387 Chelsea Lopez nec.eleifend@augue.net 4663 Malesuada. Avenue 34-887-264-237 Jordan Fernandez magnis.dis@nuncest.ca P.O. Box 487, 1132 Diam Avenue 34-396-708-852 Mason Beard vulputate@noncursusnon.co.uk P.O. Box 418, 5259 Lacus. St. 34-935-106-187 Cynthia Cline enim.commodo.hendrerit@tempor.com Ap #830-3526 Ultricies Rd. 34-719-648-197 Kylynn Berger dictum.placerat.augue@sed.co.uk 686-6237 Ut, Av. 34-287-491-518 Raphael Bright massa.rutrum.magna@enim.ca Ap #142-8892 Eget Street 34-190-000-222 Aurora Hensley tristique.neque@Donecegestas.co.uk 244-6510 Augue. Ave 34-632-106-215 Lionel Branch Fusce.aliquet.magna@vel.edu 879-5517 Enim. Ave 34-236-373-612 Chancellor Faulkner et@vulputateposuere.net Ap #494-8635 Nonummy Street 34-103-834-289 Chelsea Oliver risus.Donec@eu.com P.O. Box 852, 7236 Non, Ave 34-247-496-116 Rhonda Tran Aliquam.auctor@Integer.edu 917-6654 Aptent Rd. 34-685-891-953 Merrill Kirby ac@sapien.co.uk Ap #515-8375 Sed, Avenue 34-382-619-851 Nayda Mccall dictum.cursus.Nunc@semmollisdui.edu P.O. Box 954, 2668 Gravida Ave 34-988-032-549 Katell Gross lacus.Aliquam.rutrum@sedhendrerita.co.uk 210-1289 Urna Avenue 34-827-702-441 Grace Rosa venenatis@odioNaminterdum.com Ap #126-662 Nisl. Avenue 34-962-483-735 Dorian Skinner ac@interdumNunc.org Ap #108-4751 Luctus. Rd. 34-045-897-696 Tatiana Charles lorem.auctor.quis@convallis.edu 9598 Nunc Road 34-536-831-838 Britanni Deleon Aenean@magna.edu 5681 Diam. St. 34-008-550-220 Nyssa Rivera arcu@Quisqueimperdiet.ca 568-8885 Aliquam Ave 34-502-109-187 Gloria Copeland habitant.morbi.tristique@nectempusmauris.co.uk P.O. Box 321, 2754 Vel Avenue 34-259-454-764 Zahir Arnold dui.augue.eu@Cras.ca Ap #447-4118 Tempus, St. 34-648-926-885 Basil Shaw ligula.tortor.dictum@velsapien.ca Ap #387-2486 Rhoncus. Road 34-131-055-768 Otto Dawson urna.Nunc@purusmauris.co.uk P.O. Box 486, 8468 Mi Rd. 34-824-680-101 Stone Whitaker Nullam.vitae@necenim.ca P.O. Box 247, 2644 Nascetur Street 34-390-299-105 Elton Lynch sagittis.placerat@ProinultricesDuis.ca 204-9070 Ullamcorper St. 34-022-795-481 Micah Copeland dignissim@lacus.co.uk 8710 Eleifend. Avenue 34-033-595-405 Colton Compton ac@euismodest.co.uk 5334 Turpis. St. 34-058-465-887 Shelby Oconnor Nunc.ut@vitaeerat.edu Ap #891-5687 Nonummy Street 34-857-529-653 Libby Noble at@velit.co.uk 3369 Sem Street 34-621-918-403 Myra Lowe arcu.vel@elita.ca Ap #201-9675 Vivamus Av. 34-715-306-812 Jasmine Peterson et@Intincidunt.org P.O. Box 551, 2211 Lacus. Rd. 34-680-520-067 Zahir Goodwin Aliquam@congueInscelerisque.org Ap #588-4151 Proin St. 34-870-684-275'"
      ]
     },
     "metadata": {},
     "execution_count": 54
    }
   ],
   "source": [
    "client_info"
   ]
  },
  {
   "cell_type": "code",
   "execution_count": 56,
   "metadata": {},
   "outputs": [
    {
     "output_type": "execute_result",
     "data": {
      "text/plain": [
       "'Wyoming Dudley sit.amet.metus@egestasnunc.ca 2518 Nulla Road 34-739-941-941 Aristotle Grant arcu.Aliquam.ultrices@vestibulumneceuismod.co.uk 8453 Nost'"
      ]
     },
     "metadata": {},
     "execution_count": 56
    }
   ],
   "source": [
    "client_info[:150]"
   ]
  },
  {
   "cell_type": "code",
   "execution_count": 55,
   "metadata": {},
   "outputs": [
    {
     "output_type": "stream",
     "name": "stdout",
     "text": [
      "['sit.amet.metus@egestasnunc.ca', 'arcu.Aliquam.ultrices@vestibulumneceuismod.co.uk', 'Nulla.eu.neque@Fuscealiquetmagna.com', 'Nullam.velit@non.ca', 'In@gravidamolestiearcu.co.uk']\n"
     ]
    }
   ],
   "source": [
    "emails_clients=re.findall(r\"[\\w.]+@+[\\w.]+\", client_info)\n",
    "print(emails_clients[:5])"
   ]
  },
  {
   "cell_type": "code",
   "execution_count": null,
   "metadata": {},
   "outputs": [],
   "source": [
    "client_numbers = re.findall(r\"\\d{2}-\\d{3}-\\d{3}-\\d{3}\", client_info)"
   ]
  },
  {
   "cell_type": "code",
   "execution_count": 57,
   "metadata": {},
   "outputs": [],
   "source": [
    "client_numbers = re.findall(r\"[0-9]{2}-\\d{3}-\\d{3}-\\d{3}\", client_info)"
   ]
  },
  {
   "cell_type": "code",
   "execution_count": null,
   "metadata": {},
   "outputs": [],
   "source": [
    "client_numbers = re.findall(r\"[(00)?\\+?\\d{2}-\\d{3}-\\d{3}-\\d{3}\", client_info)\n"
   ]
  },
  {
   "cell_type": "code",
   "execution_count": 23,
   "metadata": {},
   "outputs": [
    {
     "output_type": "stream",
     "name": "stdout",
     "text": [
      "['34-739-941-941', '34-278-870-242', '34-999-876-292', '34-345-887-949', '34-905-089-682', '34-773-463-479', '34-017-915-525', '34-274-204-840', '34-575-459-881', '34-249-358-256', '34-299-478-659', '34-094-099-748', '34-236-498-114', '34-541-455-803', '34-274-768-546', '34-850-484-655', '34-193-830-599', '34-768-704-320', '34-960-058-312', '34-835-461-291', '34-524-499-405', '34-553-655-405', '34-193-752-726', '34-165-726-657', '34-172-146-895', '34-309-707-078', '34-289-368-945', '34-432-424-781', '34-880-153-396', '34-876-903-767', '34-508-574-378', '34-219-498-365', '34-413-279-781', '34-789-736-506', '34-701-997-370', '34-912-146-256', '34-550-871-297', '34-818-230-259', '34-707-183-700', '34-006-975-807', '34-975-336-347', '34-208-023-425', '34-810-185-675', '34-318-817-026', '34-229-857-982', '34-415-168-417', '34-595-803-021', '34-620-827-404', '34-711-768-527', '34-159-329-878', '34-619-616-824', '34-865-861-872', '34-294-644-638', '34-439-853-222', '34-215-852-041', '34-425-519-500', '34-152-386-570', '34-114-918-271', '34-578-430-713', '34-198-215-014', '34-081-000-664', '34-215-712-522', '34-247-057-497', '34-091-856-589', '34-972-416-447', '34-371-921-059', '34-103-486-092', '34-093-803-387', '34-887-264-237', '34-396-708-852', '34-935-106-187', '34-719-648-197', '34-287-491-518', '34-190-000-222', '34-632-106-215', '34-236-373-612', '34-103-834-289', '34-247-496-116', '34-685-891-953', '34-382-619-851', '34-988-032-549', '34-827-702-441', '34-962-483-735', '34-045-897-696', '34-536-831-838', '34-008-550-220', '34-502-109-187', '34-259-454-764', '34-648-926-885', '34-131-055-768', '34-824-680-101', '34-390-299-105', '34-022-795-481', '34-033-595-405', '34-058-465-887', '34-857-529-653', '34-621-918-403', '34-715-306-812', '34-680-520-067', '34-870-684-275']\n"
     ]
    }
   ],
   "source": [
    "print(client_numbers)"
   ]
  },
  {
   "cell_type": "markdown",
   "metadata": {},
   "source": [
    "### re.split(pattern, string, maxsplit=0)\n",
    "Returns a list where the string has been split at each match"
   ]
  },
  {
   "cell_type": "code",
   "execution_count": 60,
   "metadata": {},
   "outputs": [
    {
     "output_type": "stream",
     "name": "stdout",
     "text": [
      "Hello,\n Please, contact me the sooner.\n Thank you,\n Me\n"
     ]
    }
   ],
   "source": [
    "#re.split\n",
    "sente = \"Hello,\\n Please, contact me the sooner.\\n Thank you,\\n Me\"\n",
    "print(sente)"
   ]
  },
  {
   "cell_type": "code",
   "execution_count": 61,
   "metadata": {},
   "outputs": [
    {
     "output_type": "execute_result",
     "data": {
      "text/plain": [
       "['Hello,', 'Please, contact me the sooner.', 'Thank you,', 'Me']"
      ]
     },
     "metadata": {},
     "execution_count": 61
    }
   ],
   "source": [
    "reg = re.split(\"\\n \", sente)\n",
    "reg"
   ]
  },
  {
   "cell_type": "code",
   "execution_count": 26,
   "metadata": {},
   "outputs": [
    {
     "output_type": "execute_result",
     "data": {
      "text/plain": [
       "'Hello,Please, contact me the sooner.Thank you,Me'"
      ]
     },
     "metadata": {},
     "execution_count": 26
    }
   ],
   "source": [
    "\"\".join(reg)"
   ]
  },
  {
   "cell_type": "markdown",
   "metadata": {},
   "source": [
    "### re.compile(pattern\n",
    "Compiles a RE into a regular expression object."
   ]
  },
  {
   "cell_type": "code",
   "execution_count": 27,
   "metadata": {},
   "outputs": [],
   "source": [
    "name_check = re.compile(r\"[^A-Za-z ]\")"
   ]
  },
  {
   "cell_type": "code",
   "execution_count": null,
   "metadata": {},
   "outputs": [],
   "source": [
    "\"[^A-Za-z ]\".search(name) #es lo mismo que lo que se puso arriba"
   ]
  },
  {
   "cell_type": "code",
   "execution_count": 62,
   "metadata": {},
   "outputs": [
    {
     "output_type": "stream",
     "name": "stdout",
     "text": [
      "Please enter your name correctly!\n",
      "Finally mate, I thought you'd never do it\n"
     ]
    }
   ],
   "source": [
    "name = input(\"Please insert your name:\")\n",
    "while name_check.search(name):\n",
    "    # it loops while if finds a match\n",
    "    print(\"Please enter your name correctly!\")\n",
    "    name = input(\"Please insert your name:\")\n",
    "print(\"Finally mate, I thought you'd never do it\")"
   ]
  },
  {
   "cell_type": "markdown",
   "metadata": {},
   "source": [
    "-----------------------------------------------------------------------------------------------------------\n"
   ]
  },
  {
   "cell_type": "markdown",
   "metadata": {},
   "source": [
    "## Some practice \n",
    "Now is your turn."
   ]
  },
  {
   "cell_type": "markdown",
   "metadata": {},
   "source": [
    "#### Simple validation of a username\n",
    "https://www.codewars.com/kata/56a3f08aa9a6cc9b75000023\n",
    "    \n",
    "Write a simple regex to validate a username. Allowed characters are:\n",
    "\n",
    "- lowercase letters,\n",
    "- numbers,\n",
    "- underscore\n",
    "\n",
    "Length should be between 4 and 16 characters (both included).\n"
   ]
  },
  {
   "cell_type": "code",
   "execution_count": null,
   "metadata": {},
   "outputs": [],
   "source": [
    "#Solucion Mauro´s team"
   ]
  },
  {
   "cell_type": "code",
   "execution_count": 19,
   "metadata": {},
   "outputs": [],
   "source": [
    "import re\n",
    "def validate_usr(username):\n",
    "    patron = r'[a-z0-9_]{4,16}'\n",
    "    busqueda = re.match(patron,username)\n",
    "    if busqueda:\n",
    "        return True\n",
    "    else:\n",
    "        return False \n"
   ]
  },
  {
   "cell_type": "code",
   "execution_count": null,
   "metadata": {},
   "outputs": [],
   "source": [
    "check_usernamesbool = [validate_usr(e) for e in check_usernamesbool]"
   ]
  },
  {
   "cell_type": "code",
   "execution_count": 33,
   "metadata": {},
   "outputs": [],
   "source": []
  },
  {
   "cell_type": "markdown",
   "metadata": {},
   "source": [
    "#### Regex validate PIN code \n",
    "\n",
    "https://www.codewars.com/kata/55f8a9c06c018a0d6e000132\n",
    "\n",
    "ATM machines allow 4 or 6 digit PIN codes and PIN codes cannot contain anything but exactly 4 digits or exactly 6 digits.\n",
    "\n",
    "If the function is passed a valid PIN string, return true, else return false.\n",
    "\n",
    "Examples:\n",
    "```python\n",
    "\"1234\"   -->  True\n",
    "\"12345\"  -->  False\n",
    "\"a234\"   -->  False\n",
    "```"
   ]
  },
  {
   "cell_type": "code",
   "execution_count": 7,
   "metadata": {},
   "outputs": [],
   "source": [
    "# your solution # $ es para que acabe ahi \n",
    "pin = re.compile(r\"^[0-9]{6}$|^[0-9]{4}$\")\n",
    "(r\"^\\d{6}$|^\\d{4}$\")"
   ]
  },
  {
   "cell_type": "code",
   "execution_count": 18,
   "metadata": {
    "tags": []
   },
   "outputs": [
    {
     "output_type": "execute_result",
     "data": {
      "text/plain": [
       "False"
      ]
     },
     "metadata": {},
     "execution_count": 18
    }
   ],
   "source": [
    "pin = input(\"Please insert your pin:\")\n",
    "def validate_pin(pin):\n",
    "    \n",
    "    regex =re.compile(r\"^[0-9]{6}$|^[0-9]{4}$\")\n",
    "    if regex.match(str(pin)): #el match te verifica que esto coincida\n",
    "        return True\n",
    "    return False\n",
    "\n",
    "    # it loops while if finds a match\n",
    "   \n",
    "\n",
    "\n",
    "validate_pin(pin)\n",
    "        \n",
    "\n",
    "        \n",
    "  "
   ]
  },
  {
   "cell_type": "code",
   "execution_count": 22,
   "metadata": {},
   "outputs": [],
   "source": [
    "import re\n",
    "\n",
    "def validate_pin(pin):\n",
    "    #return true or false\n",
    "    regex = re.compile(r'^\\d{4}$|^\\d{6}$')\n",
    "    if regex.fullmatch(str(pin)):\n",
    "        return True\n",
    "    else:\n",
    "        return False"
   ]
  },
  {
   "cell_type": "code",
   "execution_count": 23,
   "metadata": {},
   "outputs": [
    {
     "output_type": "execute_result",
     "data": {
      "text/plain": [
       "False"
      ]
     },
     "metadata": {},
     "execution_count": 23
    }
   ],
   "source": [
    "pin = input(\"Please insert your pin:\")\n",
    "validate_pin(pin)"
   ]
  },
  {
   "cell_type": "markdown",
   "metadata": {},
   "source": [
    "-----------------------------------------------------------------------------------------------------------"
   ]
  },
  {
   "cell_type": "markdown",
   "metadata": {},
   "source": [
    "# The FBI challenge"
   ]
  },
  {
   "cell_type": "markdown",
   "metadata": {},
   "source": [
    "- https://www.fbi.gov/scams-and-safety/common-fraud-schemes/nigerian-letter-or-419-fraud\n",
    "- https://www.kaggle.com/rtatman/fraudulent-email-corpus"
   ]
  },
  {
   "cell_type": "markdown",
   "metadata": {},
   "source": [
    "It's your first day at the FBI office and your boss has just send you an `txt` file: `emails.txt`, she asked you to make some analysis but first of all, you need to get a dataframe like the following. You'll need some python knowledge and some regex for that goal. "
   ]
  },
  {
   "cell_type": "markdown",
   "metadata": {},
   "source": [
    "---------------------------------------------------------------------------------------------------------------------------"
   ]
  },
  {
   "cell_type": "markdown",
   "metadata": {},
   "source": [
    "#### Since we are good people, here you have a proposed solution"
   ]
  },
  {
   "cell_type": "code",
   "execution_count": 36,
   "metadata": {},
   "outputs": [],
   "source": [
    "emails_info={}"
   ]
  },
  {
   "cell_type": "code",
   "execution_count": 37,
   "metadata": {},
   "outputs": [],
   "source": [
    "fh = open(\"emails.txt\", \"r\").read()"
   ]
  },
  {
   "cell_type": "code",
   "execution_count": 38,
   "metadata": {},
   "outputs": [
    {
     "output_type": "execute_result",
     "data": {
      "text/plain": [
       "3977"
      ]
     },
     "metadata": {},
     "execution_count": 38
    }
   ],
   "source": [
    "fh.count(\"From r\")"
   ]
  },
  {
   "cell_type": "code",
   "execution_count": 39,
   "metadata": {},
   "outputs": [],
   "source": [
    "contents = re.split(r\"From r\", fh)"
   ]
  },
  {
   "cell_type": "code",
   "execution_count": 40,
   "metadata": {
    "scrolled": true
   },
   "outputs": [
    {
     "output_type": "execute_result",
     "data": {
      "text/plain": [
       "''"
      ]
     },
     "metadata": {},
     "execution_count": 40
    }
   ],
   "source": [
    "contents[0]"
   ]
  },
  {
   "cell_type": "code",
   "execution_count": 41,
   "metadata": {},
   "outputs": [
    {
     "output_type": "execute_result",
     "data": {
      "text/plain": [
       "''"
      ]
     },
     "metadata": {},
     "execution_count": 41
    }
   ],
   "source": [
    "contents.pop(0)"
   ]
  },
  {
   "cell_type": "markdown",
   "metadata": {},
   "source": [
    "- sender_email\n",
    "- sender_name\n",
    "- date_sent\n",
    "- time_sent\n",
    "- subject"
   ]
  },
  {
   "cell_type": "markdown",
   "metadata": {},
   "source": [
    "### Info Sender"
   ]
  },
  {
   "cell_type": "code",
   "execution_count": 42,
   "metadata": {},
   "outputs": [],
   "source": [
    "info_sender=[]\n",
    "for i,e in enumerate(contents):\n",
    "    try:\n",
    "        info_sender.append(re.search(\"From:.*\", e).group())\n",
    "    except: \n",
    "        info_sender.append(\"not found\")"
   ]
  },
  {
   "cell_type": "code",
   "execution_count": 43,
   "metadata": {},
   "outputs": [
    {
     "output_type": "execute_result",
     "data": {
      "text/plain": [
       "3977"
      ]
     },
     "metadata": {},
     "execution_count": 43
    }
   ],
   "source": [
    "len(info_sender)"
   ]
  },
  {
   "cell_type": "code",
   "execution_count": 44,
   "metadata": {},
   "outputs": [
    {
     "output_type": "execute_result",
     "data": {
      "text/plain": [
       "3977"
      ]
     },
     "metadata": {},
     "execution_count": 44
    }
   ],
   "source": [
    "#sender_email\n",
    "emails_info['sender_email']=[]\n",
    "for line in info_sender:\n",
    "    res=re.findall(r'[\\w\\.]+@[\\w\\.-]+', line)\n",
    "    if res:\n",
    "        emails_info['sender_email'].append(res[0])\n",
    "    else:\n",
    "        emails_info['sender_email'].append(np.nan)\n",
    "        \n",
    "len(emails_info['sender_email'])"
   ]
  },
  {
   "cell_type": "code",
   "execution_count": 45,
   "metadata": {},
   "outputs": [
    {
     "output_type": "execute_result",
     "data": {
      "text/plain": [
       "3977"
      ]
     },
     "metadata": {},
     "execution_count": 45
    }
   ],
   "source": [
    "#sender name\n",
    "emails_info['sender_name']=[]\n",
    "for line in info_sender:\n",
    "    res=re.findall(r':.*<', line)\n",
    "    if res:\n",
    "        emails_info['sender_name'].append(res[0][1:-1])\n",
    "    else:\n",
    "        emails_info['sender_name'].append(np.nan)\n",
    "len(emails_info['sender_name'])"
   ]
  },
  {
   "cell_type": "markdown",
   "metadata": {},
   "source": [
    "### Info Dates"
   ]
  },
  {
   "cell_type": "code",
   "execution_count": 46,
   "metadata": {},
   "outputs": [
    {
     "output_type": "execute_result",
     "data": {
      "text/plain": [
       "3977"
      ]
     },
     "metadata": {},
     "execution_count": 46
    }
   ],
   "source": [
    "#DATES\n",
    "dates=[]\n",
    "for i,e in enumerate(contents):\n",
    "    try:\n",
    "        dates.append(re.search(\"Date:.*\", e).group())\n",
    "    except: \n",
    "        dates.append(\"not found\")\n",
    "len(dates)"
   ]
  },
  {
   "cell_type": "code",
   "execution_count": 47,
   "metadata": {},
   "outputs": [
    {
     "output_type": "execute_result",
     "data": {
      "text/plain": [
       "3977"
      ]
     },
     "metadata": {},
     "execution_count": 47
    }
   ],
   "source": [
    "#email date\n",
    "emails_info['date_sent']=[]\n",
    "for dat in dates:\n",
    "    res=re.findall(r\"\\d+\\s\\w{3}\\s\\d+\", dat)\n",
    "    if res:\n",
    "        emails_info['date_sent'].append(res[0])\n",
    "    else:\n",
    "        emails_info['date_sent'].append(np.nan)\n",
    "\n",
    "len(emails_info['date_sent'])"
   ]
  },
  {
   "cell_type": "code",
   "execution_count": 48,
   "metadata": {},
   "outputs": [
    {
     "output_type": "execute_result",
     "data": {
      "text/plain": [
       "3977"
      ]
     },
     "metadata": {},
     "execution_count": 48
    }
   ],
   "source": [
    "emails_info['time_sent']=[]\n",
    "for dat in dates:\n",
    "    res=re.findall(r\"\\d{2}:\\d{2}:\\d{2}\", dat)\n",
    "    if res:\n",
    "        emails_info['time_sent'].append(res[0])\n",
    "    else:\n",
    "        emails_info['time_sent'].append(np.nan)\n",
    "\n",
    "len(emails_info['time_sent'])"
   ]
  },
  {
   "cell_type": "markdown",
   "metadata": {},
   "source": [
    "### Subject"
   ]
  },
  {
   "cell_type": "code",
   "execution_count": 49,
   "metadata": {},
   "outputs": [
    {
     "output_type": "execute_result",
     "data": {
      "text/plain": [
       "3977"
      ]
     },
     "metadata": {},
     "execution_count": 49
    }
   ],
   "source": [
    "subject=[]\n",
    "for i,e in enumerate(contents):\n",
    "    try:\n",
    "        subject.append(re.search(\"Subject:.*\", e).group())\n",
    "    except: \n",
    "        subject.append(\"not found\")\n",
    "len(subject)"
   ]
  },
  {
   "cell_type": "code",
   "execution_count": 50,
   "metadata": {},
   "outputs": [
    {
     "output_type": "execute_result",
     "data": {
      "text/plain": [
       "3977"
      ]
     },
     "metadata": {},
     "execution_count": 50
    }
   ],
   "source": [
    "emails_info['subject']=[]\n",
    "for sub in subject:\n",
    "    res=re.findall(r\":.*\", sub)\n",
    "    if res:\n",
    "        emails_info['subject'].append(res[0][2:])\n",
    "    else:\n",
    "        emails_info['subject'].append(np.nan)\n",
    "\n",
    "len(emails_info['subject'])"
   ]
  },
  {
   "cell_type": "markdown",
   "metadata": {},
   "source": [
    "### Creating DataFrame"
   ]
  },
  {
   "cell_type": "code",
   "execution_count": 51,
   "metadata": {},
   "outputs": [
    {
     "output_type": "execute_result",
     "data": {
      "text/plain": [
       "sender_email    476\n",
       "sender_name     837\n",
       "date_sent       614\n",
       "time_sent       618\n",
       "subject          27\n",
       "dtype: int64"
      ]
     },
     "metadata": {},
     "execution_count": 51
    }
   ],
   "source": [
    "df=pd.DataFrame(emails_info)\n",
    "df.isnull().sum()"
   ]
  },
  {
   "cell_type": "code",
   "execution_count": 52,
   "metadata": {},
   "outputs": [
    {
     "output_type": "execute_result",
     "data": {
      "text/plain": [
       "                   sender_email             sender_name    date_sent  \\\n",
       "0   james_ngola2002@maktoob.com     \"MR. JAMES NGOLA.\"   31 Oct 2002   \n",
       "1  bensul2004nng@spinfinder.com      \"Mr. Ben Suleman\"   31 Oct 2002   \n",
       "2          obong_715@epatra.com   \"PRINCE OBONG ELEME\"   31 Oct 2002   \n",
       "3          obong_715@epatra.com   \"PRINCE OBONG ELEME\"   31 Oct 2002   \n",
       "4            m_abacha03@www.com        \"Maryam Abacha\"    1 Nov 2002   \n",
       "\n",
       "  time_sent                                     subject  \n",
       "0  02:38:20  URGENT BUSINESS ASSISTANCE AND PARTNERSHIP  \n",
       "1  05:10:00         URGENT ASSISTANCE /RELATIONSHIP (P)  \n",
       "2  22:17:55                             GOOD DAY TO YOU  \n",
       "3  22:44:20                             GOOD DAY TO YOU  \n",
       "4  01:45:04                     I Need Your Assistance.  "
      ],
      "text/html": "<div>\n<style scoped>\n    .dataframe tbody tr th:only-of-type {\n        vertical-align: middle;\n    }\n\n    .dataframe tbody tr th {\n        vertical-align: top;\n    }\n\n    .dataframe thead th {\n        text-align: right;\n    }\n</style>\n<table border=\"1\" class=\"dataframe\">\n  <thead>\n    <tr style=\"text-align: right;\">\n      <th></th>\n      <th>sender_email</th>\n      <th>sender_name</th>\n      <th>date_sent</th>\n      <th>time_sent</th>\n      <th>subject</th>\n    </tr>\n  </thead>\n  <tbody>\n    <tr>\n      <th>0</th>\n      <td>james_ngola2002@maktoob.com</td>\n      <td>\"MR. JAMES NGOLA.\"</td>\n      <td>31 Oct 2002</td>\n      <td>02:38:20</td>\n      <td>URGENT BUSINESS ASSISTANCE AND PARTNERSHIP</td>\n    </tr>\n    <tr>\n      <th>1</th>\n      <td>bensul2004nng@spinfinder.com</td>\n      <td>\"Mr. Ben Suleman\"</td>\n      <td>31 Oct 2002</td>\n      <td>05:10:00</td>\n      <td>URGENT ASSISTANCE /RELATIONSHIP (P)</td>\n    </tr>\n    <tr>\n      <th>2</th>\n      <td>obong_715@epatra.com</td>\n      <td>\"PRINCE OBONG ELEME\"</td>\n      <td>31 Oct 2002</td>\n      <td>22:17:55</td>\n      <td>GOOD DAY TO YOU</td>\n    </tr>\n    <tr>\n      <th>3</th>\n      <td>obong_715@epatra.com</td>\n      <td>\"PRINCE OBONG ELEME\"</td>\n      <td>31 Oct 2002</td>\n      <td>22:44:20</td>\n      <td>GOOD DAY TO YOU</td>\n    </tr>\n    <tr>\n      <th>4</th>\n      <td>m_abacha03@www.com</td>\n      <td>\"Maryam Abacha\"</td>\n      <td>1 Nov 2002</td>\n      <td>01:45:04</td>\n      <td>I Need Your Assistance.</td>\n    </tr>\n  </tbody>\n</table>\n</div>"
     },
     "metadata": {},
     "execution_count": 52
    }
   ],
   "source": [
    "df.head()"
   ]
  },
  {
   "cell_type": "markdown",
   "metadata": {},
   "source": [
    "### ¡Now you can start your analysis!"
   ]
  }
 ],
 "metadata": {
  "kernelspec": {
   "name": "python374jvsc74a57bd0a9b83ec4160fc914f5169c2fc0bc9ab1c02e189a457abfa966969b692f6336e9",
   "display_name": "Python 3.7.4 64-bit"
  },
  "language_info": {
   "codemirror_mode": {
    "name": "ipython",
    "version": 3
   },
   "file_extension": ".py",
   "mimetype": "text/x-python",
   "name": "python",
   "nbconvert_exporter": "python",
   "pygments_lexer": "ipython3",
   "version": "3.7.4"
  },
  "metadata": {
   "interpreter": {
    "hash": "a9b83ec4160fc914f5169c2fc0bc9ab1c02e189a457abfa966969b692f6336e9"
   }
  }
 },
 "nbformat": 4,
 "nbformat_minor": 2
}