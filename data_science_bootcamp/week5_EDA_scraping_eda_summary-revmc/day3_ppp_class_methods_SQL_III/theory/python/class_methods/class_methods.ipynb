{
 "cells": [
  {
   "cell_type": "code",
   "execution_count": null,
   "metadata": {},
   "outputs": [],
   "source": [
    "from datetime import date \n",
    "  \n",
    "class Person: \n",
    "    def __init__(self, name, age, is_alive): \n",
    "        self.__name = name \n",
    "        self.__age = age \n",
    "    \n",
    "    # @ --> decorador de la función\n",
    "    @classmethod ## si queremojs crear una nueva instancia de persona, sin pasarle el nombre, la edad y si está vivo. Podemos crear una persona a través de la fecha de nacimiento.\n",
    "    #Class method sirve para crear una nueva instancia con nuevos atributos\n",
    "    def from_birth_year(cls, name, birthyear): \n",
    "        return cls(name=name, age=(date.today().year - birthyear)) \n",
    "      \n",
    "    @classmethod\n",
    "    def create_pepito(cls): \n",
    "        return cls(name=\"Pepito\", age=34, is_alive=True) \n",
    "\n",
    "    @classmethod\n",
    "    def create_alive_person(cls, name, age): \n",
    "        return cls(name=name, age=age, is_alive=True) \n",
    "\n",
    "    # @ --> decorador de la función\n",
    "    @staticmethod #se va a utilizar sin tener que crear una instancia de la clase y son funciones que tienen algun concepto o atributo de la clase \n",
    "    def is_adult(age):\n",
    "        return age > 18\n",
    "  \n",
    "    @property\n",
    "    def name(self):\n",
    "        return self.__name\n",
    "\n",
    "    def funcion_normal(self):\n",
    "        return 2\n",
    "\n",
    "    @name.setter  #actualizar ese nombre\n",
    "    def name(self, x):\n",
    "        if x == \"\" or x == None:\n",
    "            print(\"Por favor, escriba un nombre\")\n",
    "        else:\n",
    "            self.__name = x\n",
    "    \n",
    "    @property\n",
    "    def age(self):\n",
    "        return self.__age\n",
    "\n",
    "    @age.setter\n",
    "    def age(self, age):\n",
    "        self.__age = age\n",
    "\n",
    "    @property\n",
    "    def x(self):\n",
    "        return self.__x\n",
    "\n",
    "    def name_and_age(self):\n",
    "        print(self.age, self.name) \n",
    "\n",
    "    def __private_function(self):\n",
    "        print(\"I am private\")\n",
    "\n",
    "    def _protected_function(self):\n",
    "        print(\"I am protected\")\n",
    "        self.__private_function()\n",
    "\n",
    "    def public_function(self):\n",
    "        print(\"I am public and I will call my sisters private and protected functions\")\n",
    "        print(\"Calling protected...\")\n",
    "        self._protected_function()\n",
    "        print(\"Calling private...\")\n",
    "        self.__private_function()\n",
    "        print(\"They are safe!\")\n"
   ]
  },
  {
   "cell_type": "code",
   "execution_count": null,
   "metadata": {},
   "outputs": [],
   "source": [
    "p = Person(name=\"Gregorio\", age=92)\n",
    "p.name_and_age()\n",
    "p.is_adult(age=43)"
   ]
  },
  {
   "cell_type": "code",
   "execution_count": null,
   "metadata": {},
   "outputs": [],
   "source": [
    "pepito = Person.create_pepito()\n",
    "print(pepito.age)\n",
    "print(pepito.is_adult(86))\n",
    "pepito.name"
   ]
  },
  {
   "cell_type": "code",
   "execution_count": null,
   "metadata": {},
   "outputs": [],
   "source": [
    "pepito.x"
   ]
  },
  {
   "cell_type": "code",
   "execution_count": null,
   "metadata": {},
   "outputs": [],
   "source": [
    "pepito.name = \"Zidane\"\n",
    "pepito.name"
   ]
  },
  {
   "cell_type": "code",
   "execution_count": null,
   "metadata": {},
   "outputs": [],
   "source": [
    "pepito.x"
   ]
  },
  {
   "cell_type": "code",
   "execution_count": null,
   "metadata": {},
   "outputs": [],
   "source": [
    "Person.is_adult(86)"
   ]
  },
  {
   "cell_type": "code",
   "execution_count": null,
   "metadata": {},
   "outputs": [],
   "source": [
    "Person.name_and_age()"
   ]
  },
  {
   "cell_type": "code",
   "execution_count": null,
   "metadata": {},
   "outputs": [],
   "source": [
    "p = Person(name=\"\", age=56)"
   ]
  },
  {
   "cell_type": "code",
   "execution_count": null,
   "metadata": {},
   "outputs": [],
   "source": [
    "p = Person(name=\"Gregorio\", age=92)\n",
    "p.name "
   ]
  },
  {
   "cell_type": "code",
   "execution_count": null,
   "metadata": {},
   "outputs": [],
   "source": [
    "p.age"
   ]
  },
  {
   "cell_type": "code",
   "execution_count": null,
   "metadata": {},
   "outputs": [],
   "source": [
    "p.__age"
   ]
  },
  {
   "cell_type": "code",
   "execution_count": null,
   "metadata": {},
   "outputs": [],
   "source": [
    "lucia = Person.from_birth_year(name=\"Lucía\", birthyear=1992)\n",
    "print(lucia.name)\n",
    "lucia.age"
   ]
  },
  {
   "cell_type": "code",
   "execution_count": null,
   "metadata": {},
   "outputs": [],
   "source": [
    "lucia.age"
   ]
  },
  {
   "cell_type": "code",
   "execution_count": 5,
   "metadata": {},
   "outputs": [
    {
     "output_type": "stream",
     "name": "stdout",
     "text": [
      "Tiene los barcos necesarios 2 \n"
     ]
    }
   ],
   "source": [
    "class Tablero:\n",
    "    #Función/Método de la CLASE Tablero\n",
    "    @staticmethod\n",
    "    def check_boats(number_of_boats):\n",
    "        if number_of_boats !=10:\n",
    "            print(\"No tiene los 10 barcos\")\n",
    "        else:\n",
    "            print(\"Tiene los barcos necesarios\")\n",
    "    #Funcion de la INSTANCIA tablero y para llamar a esa funcion se llama con Tablero().check_boats2(number_of_boats=10)\n",
    "    def check_boats2(self, number_of_boats):\n",
    "        \n",
    "        if number_of_boats !=10:\n",
    "            print(\"No tiene los 10 barcos 2\")\n",
    "        else:\n",
    "            print(\"Tiene los barcos necesarios 2 \")\n",
    "\n",
    "Tablero().check_boats2(number_of_boats=10)\n",
    "\n"
   ]
  },
  {
   "cell_type": "code",
   "execution_count": null,
   "metadata": {},
   "outputs": [],
   "source": [
    "def check_boats(tablero) #si la clase tablero tuviera una funcion estatica que compro"
   ]
  }
 ],
 "metadata": {
  "language_info": {
   "name": "python",
   "codemirror_mode": {
    "name": "ipython",
    "version": 3
   },
   "version": "3.7.4"
  },
  "orig_nbformat": 2,
  "file_extension": ".py",
  "mimetype": "text/x-python",
  "name": "python",
  "npconvert_exporter": "python",
  "pygments_lexer": "ipython3",
  "version": 3,
  "kernelspec": {
   "name": "python374jvsc74a57bd0a9b83ec4160fc914f5169c2fc0bc9ab1c02e189a457abfa966969b692f6336e9",
   "display_name": "Python 3.7.4 64-bit"
  },
  "metadata": {
   "interpreter": {
    "hash": "a9b83ec4160fc914f5169c2fc0bc9ab1c02e189a457abfa966969b692f6336e9"
   }
  }
 },
 "nbformat": 4,
 "nbformat_minor": 2
}