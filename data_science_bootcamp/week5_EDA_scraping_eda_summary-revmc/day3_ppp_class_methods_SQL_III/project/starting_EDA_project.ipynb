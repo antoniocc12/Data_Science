{
 "cells": [
  {
   "cell_type": "markdown",
   "metadata": {},
   "source": [
    "![EDA.png](img/proyecto_eda.png)"
   ]
  },
  {
   "cell_type": "markdown",
   "metadata": {},
   "source": [
    "# Primera entrega EDA: Definición del proyecto"
   ]
  },
  {
   "cell_type": "markdown",
   "metadata": {},
   "source": [
    "En este primer entregable se espera  hagas la búsqueda de datos e investigación suficiente como para definir lo que serán los primeros pasos de tu proyecto EDA y los datos que usarás incluyendo al menos un dataset principal (aunque también podrás incluir fuentes de datos alternativas).\n",
    "\n",
    "Tienes hasta el día _20/05/2021 a las 09:00_ para entregar este archivo completado. Posteriormente se os introducirá el proyecto y darán los detalles pertinentes."
   ]
  },
  {
   "source": [
    "### Tema"
   ],
   "cell_type": "markdown",
   "metadata": {}
  },
  {
   "source": [
    "# Manejo económico de residuos sólidos"
   ],
   "cell_type": "markdown",
   "metadata": {}
  },
  {
   "source": [
    "### Título de proyecto"
   ],
   "cell_type": "markdown",
   "metadata": {}
  },
  {
   "source": [
    "## Eficiencia económica y social en el Manejo de residuos sólidos en Madrid Capital y Barcelona"
   ],
   "cell_type": "markdown",
   "metadata": {}
  },
  {
   "cell_type": "markdown",
   "metadata": {},
   "source": [
    "### Hipótesis\n",
    "Define aquí la que será la hipótesis de tu proyecto.\n",
    "Puede que tengas más de una, pero tu proyecto lo harás teniendo una principal hipótesis."
   ]
  },
  {
   "source": [
    "#### La gestión integral de residuos sólidos es un proceso complejo en el que son muchos los actores implicados y, cuyo resultado en la mayoría de las ocasiones es desconocido por la población en general. Las estadísticas demuestran que existe un subsidio de la Gestión de Residuos Sólidos por parte de los Municipios, ya que el gasto generado en su manejo es mayor a las recaudaciones que perciben por tasas, tarifas u otros ingresos. Por tanto, la hipótesis de este proyecto  se centra en las siguientes preguntas: ¿Está provocando el sistema actual de tratamientos de residuos sólidos costes económicos y ambientales a los Municipios de Madrid y Barcelona?. ¿Existe una relación entre los niveles de pobreza y la densidad poblacional entre la cantidad de residuos dispuestos?."
   ],
   "cell_type": "markdown",
   "metadata": {}
  },
  {
   "cell_type": "markdown",
   "metadata": {},
   "source": [
    "### Datasets\n",
    "Incluye aquí una breve descripción del dataset o datasets de los que partirás para poder evaluar tu hipótesis. También incluye el origen de estos datos y el formato en el que están."
   ]
  },
  {
   "source": [
    "#### Para la realizacion de este proyecto, se utilizará un dataset que será el producto de la unión de varias bases de datos provienientes de la pagina web \"Portal de datos abiertos del Ayuntamiento de Madrid\" y  \" Servicio de datos abiertos del Ajuntament de Barcelona\" (referenciadas posteriormente),los cuales contienen informacion de series temporales correspondientes a los presupuestos asignados y utilizados en la gestión de residuos, así como la informacion sobre las tasas recaudadas anualmente, y la cantidad de basura generada. Cada uno de estos datasets estan en formato excel.xlsx. Cada tipo de información está presentada en su respectivo archivo, los cuales se procederá a unir.\n",
    "https://datos.madrid.es/portal/site/egob\n",
    "https://opendata-ajuntament.barcelona.cat/es/"
   ],
   "cell_type": "markdown",
   "metadata": {}
  },
  {
   "cell_type": "markdown",
   "metadata": {},
   "source": [
    "### Fuentes alternativas de datos\n",
    "Como podrán ser webs a las que hacer web scraping o APIs de donde obtener información."
   ]
  },
  {
   "source": [
    "#### http://www.atlas.d-waste.com/\n",
    "#### https://datatopics.worldbank.org/what-a-waste/\n",
    "#### https://globalewaste.org/map/\n",
    "#### https://ec.europa.eu/eurostat/web/waste/data/database\n",
    "\n",
    "\n"
   ],
   "cell_type": "markdown",
   "metadata": {}
  },
  {
   "cell_type": "markdown",
   "metadata": {},
   "source": [
    "**¿De dónde saco los datos?** Posibles fuentes:\n",
    "\n",
    "- De los enlaces que están en el canal *links_of_interests* de Discord\n",
    "- https://www.kaggle.com/datasets\n",
    "- [API de Idealista](https://www.idealista.com/labs/)\n",
    "- [API de Booking](https://developers.booking.com/api/index.html)\n",
    "- [API de Tripadvisor](http://developer-tripadvisor.com/content-api/)\n",
    "- [API de Facebook](https://developers.facebook.com/docs/apis-and-sdks?locale=es_ES)\n",
    "- [API de Twitter](https://developer.twitter.com/en/docs)\n",
    "- [API de Instagram](https://www.instagram.com/developer/)\n",
    "- [APIs de Google Maps](https://cloud.google.com/maps-platform?hl=es)\n",
    "- [Google Timeline](https://www.google.es/maps/timeline?pb). Todo tu registro de actividad de Google, como los lugares que has visitado\n",
    "- [Alexa. Tráfico de webs](https://www.alexa.com/siteinfo)\n",
    "- [Catastro](https://ovc.catastro.meh.es/ovcservweb/OVCSWLocalizacionRC/OVCCoordenadas.asmx)\n",
    "- [Airbnb](http://insideairbnb.com/index.html)\n",
    "- Web scrapping. Acceso automatizado a cualquier web.\n",
    "- Kaggle: página con competiciones de data scientists. Muchísimos datasets.\n",
    "- QPython 3L: APP para ejecutar código Python en el movil. Podrás sacar datos de tu actividad con el teléfono (horarios, geoposicionamiento)\n",
    "- Coronavirus. Se están empezando a librerar muchísimos datasets con datos del coronavirus en todo el mundo. En Kaggle hay varios.\n",
    "- [Web de datos abiertos del gobierno](https://datos.gob.es/)\n",
    "- [OpenStreetMap](https://wiki.openstreetmap.org/wiki/API). Datos de ubicaciones (como Google Maps) abiertos\n",
    "- [Obtención de datos bursátiles](https://financetrain.com/best-python-librariespackages-finance-financial-data-scientists/)\n",
    "- [ESRI Datos abiertos España](https://opendata.esri.es/)\n",
    "- [INE](https://www.ine.es/nomen2/ficheros.do)\n",
    "- [Red.es](https://www.red.es/redes/es/que-hacemos/datos-abiertos)\n",
    "- [Datos abiertos gobierno](https://www.hacienda.gob.es/es-ES/GobiernoAbierto/Datos%20Abiertos/Paginas/Catalogodedatosabiertos.aspx)\n",
    "- [Ayuntamiento de Madrid](https://datos.madrid.es/portal/site/egob/)\n",
    "- [Ayuntamiento de Barcelona](https://opendata-ajuntament.barcelona.cat/es)\n",
    "- [Metro de Madrid](https://data-crtm.opendata.arcgis.com/)\n",
    "- [Portal datos europeo I](https://data.europa.eu/euodp/es/home)\n",
    "- [Portal datos europeo II](https://www.europeandataportal.eu/data/datasets?locale=en&minScoring=0)\n",
    "- [Google Dataset Search](https://datasetsearch.research.google.com/)\n",
    "- [Indicadores macro mundiales](https://databank.worldbank.org/home)\n",
    "- [Indicadores macro mundiales 2](https://ilostat.ilo.org/data/country-profiles/)"
   ]
  },
  {
   "cell_type": "code",
   "execution_count": null,
   "metadata": {},
   "outputs": [],
   "source": []
  }
 ],
 "metadata": {
  "kernelspec": {
   "name": "python36464bitc2077ed07ea84d23aa5b518d224882ab",
   "display_name": "Python 3.6.4 64-bit"
  },
  "language_info": {
   "codemirror_mode": {
    "name": "ipython",
    "version": 3
   },
   "file_extension": ".py",
   "mimetype": "text/x-python",
   "name": "python",
   "nbconvert_exporter": "python",
   "pygments_lexer": "ipython3",
   "version": "3.6.4"
  },
  "metadata": {
   "interpreter": {
    "hash": "5c4d2f1fdcd3716c7a5eea90ad07be30193490dd4e63617705244f5fd89ea793"
   }
  }
 },
 "nbformat": 4,
 "nbformat_minor": 5
}