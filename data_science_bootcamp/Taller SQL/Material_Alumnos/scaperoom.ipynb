{
 "metadata": {
  "language_info": {
   "codemirror_mode": {
    "name": "ipython",
    "version": 3
   },
   "file_extension": ".py",
   "mimetype": "text/x-python",
   "name": "python",
   "nbconvert_exporter": "python",
   "pygments_lexer": "ipython3",
   "version": "3.7.4"
  },
  "orig_nbformat": 2,
  "kernelspec": {
   "name": "python374jvsc74a57bd0a9b83ec4160fc914f5169c2fc0bc9ab1c02e189a457abfa966969b692f6336e9",
   "display_name": "Python 3.7.4 64-bit"
  },
  "metadata": {
   "interpreter": {
    "hash": "a9b83ec4160fc914f5169c2fc0bc9ab1c02e189a457abfa966969b692f6336e9"
   }
  }
 },
 "nbformat": 4,
 "nbformat_minor": 2,
 "cells": [
  {
   "cell_type": "code",
   "execution_count": 2,
   "metadata": {},
   "outputs": [],
   "source": [
    "# Importamos librerias\n",
    "import pandas as pd \n",
    "import sqlite3"
   ]
  },
  {
   "cell_type": "code",
   "execution_count": 3,
   "metadata": {},
   "outputs": [],
   "source": [
    "def sql_query(query):\n",
    "\n",
    "    curs.execute(query)\n",
    "\n",
    "    datos_query = curs.fetchall() \n",
    "    #lo siguiente es para obtener los nombres de las columnas que nos faltaban\n",
    "    col_names = [description[0] for description in curs.description]\n",
    "    return pd.DataFrame(datos_query, columns=col_names)"
   ]
  },
  {
   "cell_type": "code",
   "execution_count": null,
   "metadata": {},
   "outputs": [],
   "source": [
    "query = \"\"\"\n",
    "SELECT c.*, InvoiceDate\n",
    "FROM customers c, invoices i\n",
    "WHERE c.CustomerId = i.CustomerId\n",
    "\"\"\"\n",
    "pd.read_sql_query(query, connection)"
   ]
  },
  {
   "cell_type": "code",
   "execution_count": null,
   "metadata": {},
   "outputs": [],
   "source": [
    "name\n",
    "crime_scene_report\n",
    "drivers_license\n",
    "person\n",
    "facebook_event_checkin\n",
    "interview\n",
    "get_fit_now_member\n",
    "get_fit_now_check_in\n",
    "income\n",
    "solution"
   ]
  },
  {
   "cell_type": "code",
   "execution_count": null,
   "metadata": {},
   "outputs": [],
   "source": [
    "specific type of crime in a specific city.\n",
    "date\ttype\tdescription\tcity\n",
    "20180115\ttheft\tBig Bully stole my lunch money!\tChicago\n",
    "20170101\ttheft\t‘Yes,’ said Alice, ‘we learned French and music.’\tChicago\n",
    "20171227\ttheft\tsilence, and then another confusion of voices--‘Hold up his head--Brandy\tChicago"
   ]
  },
  {
   "cell_type": "code",
   "execution_count": null,
   "metadata": {},
   "outputs": [],
   "source": [
    "ciudad\n",
    "Irving\n",
    "Indianápolis\n",
    "Irvine\n",
    "Inglewood\n",
    "Independencia"
   ]
  },
  {
   "cell_type": "code",
   "execution_count": null,
   "metadata": {},
   "outputs": [],
   "source": [
    "Irving\n",
    "Irvine"
   ]
  },
  {
   "cell_type": "code",
   "execution_count": null,
   "metadata": {},
   "outputs": [],
   "source": [
    "\tLas imágenes de seguridad muestran que hubo dos testigos. El primer testigo vive en la última casa de \"Northwestern Dr\". La segunda testigo, llamada Annabel, vive en algún lugar de \"Franklin Ave\""
   ]
  },
  {
   "cell_type": "code",
   "execution_count": null,
   "metadata": {},
   "outputs": [],
   "source": [
    "16371\tAnnabel Miller\t490173\t103\tFranklin Ave\t318771143"
   ]
  },
  {
   "cell_type": "code",
   "execution_count": null,
   "metadata": {},
   "outputs": [],
   "source": [
    "14887\tMorty Schapiro\t118009\t4919\tNorthwestern Dr\t111564949\n"
   ]
  },
  {
   "cell_type": "code",
   "execution_count": null,
   "metadata": {},
   "outputs": [],
   "source": [
    "SELECT person.name, interview.transcript\n",
    "FROM person JOIN interview\n",
    "ON person.id = interview.person_id\n",
    "WHERE person.id = 14887 OR person.id = 16371"
   ]
  }
 ]
}