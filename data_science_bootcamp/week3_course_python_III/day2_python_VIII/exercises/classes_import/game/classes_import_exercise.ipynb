{
 "metadata": {
  "language_info": {
   "codemirror_mode": {
    "name": "ipython",
    "version": 3
   },
   "file_extension": ".py",
   "mimetype": "text/x-python",
   "name": "python",
   "nbconvert_exporter": "python",
   "pygments_lexer": "ipython3",
   "version": "3.7.4"
  },
  "orig_nbformat": 2,
  "kernelspec": {
   "name": "python374jvsc74a57bd0a9b83ec4160fc914f5169c2fc0bc9ab1c02e189a457abfa966969b692f6336e9",
   "display_name": "Python 3.7.4 64-bit"
  },
  "metadata": {
   "interpreter": {
    "hash": "a9b83ec4160fc914f5169c2fc0bc9ab1c02e189a457abfa966969b692f6336e9"
   }
  }
 },
 "nbformat": 4,
 "nbformat_minor": 2,
 "cells": [
  {
   "source": [
    "## 1\n",
    "\n",
    "Crea un archivo 'ClaseHumano.py' en la carpeta 'objects' que contenga una clase:\n",
    "\n",
    "* 'Humano' que tiene:\n",
    "    - Un atributo 'ojos' que por defecto es 2\n",
    "    - Un atributo 'piernas' que por defecto es 2\n",
    "    - Un atributo 'dientes' que por defecto es 32\n",
    "    - Un atributo 'nombre'\n",
    "    - Un atributo 'armadura' \n",
    "    - Un atributo 'nivel' \n",
    "    - Un atributo 'ataque'\n",
    "    - Un atributo 'salud' que por defecto es 100\n",
    "    - Una función  llamada 'atacar' que recibe un argumento 'orco' que representa otra clase ('Orco'). Esta función resta a la vida del 'Orco' el ataque de 'Humano' menos la armadura de 'Orco'. Al final, muestra por pantalla la vida del 'Orco'\n",
    "    - Una función no_vivo que retorna True si la vida del 'Humano' es igual o inferior a 0, False en otro caso.\n",
    "    - Una función que muestre por pantalla todos los atributos actuales de 'Humano' concatenados con un String representando el nombre del atributo que se muestra. Ejemplo: \"Nombre: Ataulfo | dientes: 32 | salud: 100 | ...\"\n",
    "\n",
    "Crea un archivo 'ClaseOrco.py' en la carpeta 'objects' que contenga una clase:\n",
    "\n",
    "* 'Orco' que tiene:\n",
    "    - Un atributo 'ojos' que por defecto es 2\n",
    "    - Un atributo 'piernas' que por defecto es 2\n",
    "    - Un atributo 'dientes' que por defecto es 56\n",
    "    - Un atributo 'nombre'\n",
    "    - Un atributo 'armadura' \n",
    "    - Un atributo 'nivel' \n",
    "    - Un atributo 'ataque'\n",
    "    - Un atributo 'salud' que por defecto es 100\n",
    "    - Una función  llamada 'atacar' que recibe un argumento 'humano' que representa otra clase ('Humano'). Esta función resta a la vida del 'Humano' el ataque de 'Orco' menos la armadura de 'Humano'. Al final, muestra por pantalla la vida del 'Humano'\n",
    "    - Una función no_vivo que retorna True si la vida del 'Humano' es igual o inferior a 0, False en otro caso.\n",
    "    - Una función que muestre por pantalla todos los atributos actuales de 'Orco' concatenados con un String representando el nombre del atributo que se muestra. Ejemplo: \"Nombre: Graug | dientes: 56 | salud: 100 | ...\"   "
   ],
   "cell_type": "markdown",
   "metadata": {}
  },
  {
   "source": [
    "## 2\n",
    "\n",
    "Desde aquí, importa las clases del ejercicio 1 (tendrás que utilizar sys.path para poder importar los archivos/módulos/librerías/ficheros). Crea una instancia de Humano/a y otra de Orco/a:\n",
    "\n",
    "* La clase Humano/a ha de inicializarse con los siguientes valores:\n",
    "    - nombre: tu nombre\n",
    "    - nivel: tu edad\n",
    "    - armadura: un número Entero que sea un décimo de tu nivel redondeado hacia abajo\n",
    "    - ataque: un número Entero que sea un quinto de tu nivel redondeado hacia abajo\n",
    "    - Todo lo demás por defecto.\n",
    "\n",
    "* La clase Orco/a ha de inicializarse con los siguientes valores:\n",
    "    - nombre: el nombre de tu compañero/a\n",
    "    - nivel: su edad\n",
    "    - armadura: un número Entero que sea un quinceavo de su nivel redondeado hacia arriba\n",
    "    - ataque: un número Entero que sea un sexto de su nivel redondeado hacia arriba\n",
    "    - Todo lo demás por defecto.\n"
   ],
   "cell_type": "markdown",
   "metadata": {}
  },
  {
   "cell_type": "code",
   "execution_count": 18,
   "metadata": {},
   "outputs": [
    {
     "output_type": "execute_result",
     "data": {
      "text/plain": [
       "['c:\\\\Users\\\\Mary\\\\Desktop\\\\Boot Camp\\\\Python\\\\MaryC-MezaR\\\\data_science_bootcamp_2021\\\\week3_course_python_III\\\\day2_python_VIII\\\\exercises\\\\classes_import\\\\game',\n",
       " 'c:\\\\Users\\\\Mary\\\\.vscode\\\\extensions\\\\ms-toolsai.jupyter-2021.5.745244803\\\\pythonFiles',\n",
       " 'c:\\\\Users\\\\Mary\\\\.vscode\\\\extensions\\\\ms-toolsai.jupyter-2021.5.745244803\\\\pythonFiles',\n",
       " 'c:\\\\Users\\\\Mary\\\\.vscode\\\\extensions\\\\ms-toolsai.jupyter-2021.5.745244803\\\\pythonFiles\\\\lib\\\\python',\n",
       " 'C:\\\\Users\\\\Mary\\\\AppData\\\\Local\\\\Programs\\\\Python\\\\Python37\\\\python37.zip',\n",
       " 'C:\\\\Users\\\\Mary\\\\AppData\\\\Local\\\\Programs\\\\Python\\\\Python37\\\\DLLs',\n",
       " 'C:\\\\Users\\\\Mary\\\\AppData\\\\Local\\\\Programs\\\\Python\\\\Python37\\\\lib',\n",
       " 'C:\\\\Users\\\\Mary\\\\AppData\\\\Local\\\\Programs\\\\Python\\\\Python37',\n",
       " '',\n",
       " 'C:\\\\Users\\\\Mary\\\\AppData\\\\Roaming\\\\Python\\\\Python37\\\\site-packages',\n",
       " 'C:\\\\Users\\\\Mary\\\\AppData\\\\Roaming\\\\Python\\\\Python37\\\\site-packages\\\\win32',\n",
       " 'C:\\\\Users\\\\Mary\\\\AppData\\\\Roaming\\\\Python\\\\Python37\\\\site-packages\\\\win32\\\\lib',\n",
       " 'C:\\\\Users\\\\Mary\\\\AppData\\\\Roaming\\\\Python\\\\Python37\\\\site-packages\\\\Pythonwin',\n",
       " 'C:\\\\Users\\\\Mary\\\\AppData\\\\Local\\\\Programs\\\\Python\\\\Python37\\\\lib\\\\site-packages',\n",
       " 'C:\\\\Users\\\\Mary\\\\AppData\\\\Roaming\\\\Python\\\\Python37\\\\site-packages\\\\IPython\\\\extensions',\n",
       " 'C:\\\\Users\\\\Mary\\\\.ipython',\n",
       " 'c:\\\\Users\\\\Mary\\\\Desktop\\\\Boot Camp\\\\Python\\\\MaryC-MezaR\\\\data_science_bootcamp_2021\\\\week3_course_python_III\\\\day2_python_VIII\\\\exercises\\\\classes_import',\n",
       " 'c:\\\\Users\\\\Mary\\\\Desktop\\\\Boot Camp\\\\Python\\\\MaryC-MezaR\\\\data_science_bootcamp_2021\\\\week3_course_python_III\\\\day2_python_VIII\\\\exercises\\\\classes_import']"
      ]
     },
     "metadata": {},
     "execution_count": 18
    }
   ],
   "source": [
    "# Tu código aquí\n",
    "\n",
    "import os\n",
    "import sys \n",
    "\n",
    "ruta = os.getcwd()\n",
    "ruta = os.path.dirname(ruta)\n",
    "    \n",
    "sys.path.append(ruta)\n",
    "sys.path \n"
   ]
  },
  {
   "cell_type": "code",
   "execution_count": 19,
   "metadata": {},
   "outputs": [],
   "source": [
    "import objects.ClaseHumano as humano\n",
    "import objects.ClaseOrco as orco "
   ]
  },
  {
   "cell_type": "code",
   "execution_count": 26,
   "metadata": {},
   "outputs": [],
   "source": [
    "\n",
    "Mary = humano.Humano(nombre=\"Mary Cruz\", nivel=31, armadura= round(31/10), ataque= round(31/5) , ojos=2, piernas=2, dientes=32, salud=100)\n"
   ]
  },
  {
   "cell_type": "code",
   "execution_count": 21,
   "metadata": {},
   "outputs": [],
   "source": [
    "import math"
   ]
  },
  {
   "cell_type": "code",
   "execution_count": 27,
   "metadata": {},
   "outputs": [
    {
     "output_type": "stream",
     "name": "stdout",
     "text": [
      "nombre: Nacho / dientes: 56 / ojos: 2 / piernas: 2 / armadura: 4 / nivel: 47 / ataque: 8 / salud 100\n"
     ]
    }
   ],
   "source": [
    "Nacho = orco.Orco(nombre=\"Nacho\", nivel=47, armadura=(math.ceil(47/15)), ataque=math.ceil(47/6), ojos=2, piernas=2, dientes=56, salud=100)\n",
    "Nacho.mostrar_atributos()"
   ]
  },
  {
   "source": [
    "## 3\n",
    "\n",
    "Crea un bucle infinito que espere en cada turno(Iteración) 1 segundo. Para ello has de utilizar la función 'sleep(1)' de la librería time. En cada uno de los turnos debe ocurrir lo siguiente:\n",
    "\n",
    "- Que se muestre por pantalla el número del turno que se lleva empezando desde 1.  \n",
    "- Que se ataquen las instancias. Para ello, has de llamar a la función 'atacar' de cada una de las instancias.\n",
    "- Comprobar si una instancia no está viva con la función correspondiente. Si una instancia no está viva, mostrar por pantalla que una de ellas ha perdido y la otra ha ganado. Terminar el juego aquí.\n",
    "- Mostrar al finalizar el turno una barra divisoria para diferenciar un turno del siguiente.\n",
    "\n",
    "Hay que tener en cuenta: \n",
    "\n",
    "- Una instancia no puede atacar a la otra si no está viva.\n",
    "- Empieza primero la instancia que tiene menos nivel."
   ],
   "cell_type": "markdown",
   "metadata": {}
  },
  {
   "cell_type": "code",
   "execution_count": 23,
   "metadata": {},
   "outputs": [],
   "source": [
    "import time"
   ]
  },
  {
   "cell_type": "code",
   "execution_count": 25,
   "metadata": {},
   "outputs": [
    {
     "output_type": "execute_result",
     "data": {
      "text/plain": [
       "False"
      ]
     },
     "metadata": {},
     "execution_count": 25
    }
   ],
   "source": [
    "Mary.no_vivo()"
   ]
  },
  {
   "cell_type": "code",
   "execution_count": 28,
   "metadata": {},
   "outputs": [
    {
     "output_type": "stream",
     "name": "stdout",
     "text": [
      "Turno 1\n",
      "La salud del Orco es 98\n",
      "___________________\n",
      "Turno 2\n",
      "La salud del Humano es 95\n",
      "___________________\n",
      "Turno 3\n",
      "La salud del Orco es 96\n",
      "___________________\n",
      "Turno 4\n",
      "La salud del Humano es 90\n",
      "___________________\n",
      "Turno 5\n",
      "La salud del Orco es 94\n",
      "___________________\n",
      "Turno 6\n",
      "La salud del Humano es 85\n",
      "___________________\n",
      "Turno 7\n",
      "La salud del Orco es 92\n",
      "___________________\n",
      "Turno 8\n",
      "La salud del Humano es 80\n",
      "___________________\n",
      "Turno 9\n",
      "La salud del Orco es 90\n",
      "___________________\n",
      "Turno 10\n",
      "La salud del Humano es 75\n",
      "___________________\n",
      "Turno 11\n",
      "La salud del Orco es 88\n",
      "___________________\n",
      "Turno 12\n",
      "La salud del Humano es 70\n",
      "___________________\n",
      "Turno 13\n",
      "La salud del Orco es 86\n",
      "___________________\n",
      "Turno 14\n",
      "La salud del Humano es 65\n",
      "___________________\n",
      "Turno 15\n",
      "La salud del Orco es 84\n",
      "___________________\n",
      "Turno 16\n",
      "La salud del Humano es 60\n",
      "___________________\n",
      "Turno 17\n",
      "La salud del Orco es 82\n",
      "___________________\n",
      "Turno 18\n",
      "La salud del Humano es 55\n",
      "___________________\n",
      "Turno 19\n",
      "La salud del Orco es 80\n",
      "___________________\n",
      "Turno 20\n",
      "La salud del Humano es 50\n",
      "___________________\n",
      "Turno 21\n",
      "La salud del Orco es 78\n",
      "___________________\n",
      "Turno 22\n",
      "La salud del Humano es 45\n",
      "___________________\n",
      "Turno 23\n",
      "La salud del Orco es 76\n",
      "___________________\n",
      "Turno 24\n",
      "La salud del Humano es 40\n",
      "___________________\n",
      "Turno 25\n",
      "La salud del Orco es 74\n",
      "___________________\n",
      "Turno 26\n",
      "La salud del Humano es 35\n",
      "___________________\n",
      "Turno 27\n",
      "La salud del Orco es 72\n",
      "___________________\n",
      "Turno 28\n",
      "La salud del Humano es 30\n",
      "___________________\n",
      "Turno 29\n",
      "La salud del Orco es 70\n",
      "___________________\n",
      "Turno 30\n",
      "La salud del Humano es 25\n",
      "___________________\n",
      "Turno 31\n",
      "La salud del Orco es 68\n",
      "___________________\n",
      "Turno 32\n",
      "La salud del Humano es 20\n",
      "___________________\n",
      "Turno 33\n",
      "La salud del Orco es 66\n",
      "___________________\n",
      "Turno 34\n",
      "La salud del Humano es 15\n",
      "___________________\n",
      "Turno 35\n",
      "La salud del Orco es 64\n",
      "___________________\n",
      "Turno 36\n",
      "La salud del Humano es 10\n",
      "___________________\n",
      "Turno 37\n",
      "La salud del Orco es 62\n",
      "___________________\n",
      "Turno 38\n",
      "La salud del Humano es 5\n",
      "___________________\n",
      "Turno 39\n",
      "La salud del Orco es 60\n",
      "___________________\n",
      "Turno 40\n",
      "La salud del Humano es 0\n",
      "___________________\n",
      "Nacho ha ganado :), Mary ha muerto +\n"
     ]
    }
   ],
   "source": [
    "# Tu código aquí\n",
    "\n",
    "turnos = 1\n",
    "\n",
    "while turnos <50:\n",
    "                \n",
    "    print(\"Turno\",turnos)\n",
    "    Mary.atacar(Nacho)\n",
    "    print(\"___________________\")\n",
    "       \n",
    "    turnos +=1\n",
    "    time.sleep(1)\n",
    " \n",
    "    print(\"Turno\",turnos)\n",
    "    Nacho.atacar(Mary)\n",
    "    print(\"___________________\")\n",
    "\n",
    "    turnos +=1\n",
    "    time.sleep(1)\n",
    "\n",
    "    if Mary.no_vivo() == False:\n",
    "        continue\n",
    "            \n",
    "    else:\n",
    "        \n",
    "    \n",
    "        print(\"Nacho ha ganado :), Mary ha muerto +\") \n",
    "        break\n",
    "    \n",
    "    if Nacho.no_vivo() == False:\n",
    "        continue\n",
    "        \n",
    "    else:\n",
    "        print(\"Mary ha ganado :), Nacho ha muerto +\") \n",
    "        break\n",
    "    \n",
    "    turnos +=1\n",
    "    time.sleep(1)\n",
    "       \n",
    " \n",
    "    \n",
    "    "
   ]
  },
  {
   "cell_type": "code",
   "execution_count": null,
   "metadata": {},
   "outputs": [],
   "source": []
  }
 ]
}