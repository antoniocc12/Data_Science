{
 "metadata": {
  "language_info": {
   "codemirror_mode": {
    "name": "ipython",
    "version": 3
   },
   "file_extension": ".py",
   "mimetype": "text/x-python",
   "name": "python",
   "nbconvert_exporter": "python",
   "pygments_lexer": "ipython3",
   "version": "3.6.4"
  },
  "orig_nbformat": 2,
  "kernelspec": {
   "name": "python36464bitc2077ed07ea84d23aa5b518d224882ab",
   "display_name": "Python 3.6.4 64-bit"
  },
  "metadata": {
   "interpreter": {
    "hash": "5c4d2f1fdcd3716c7a5eea90ad07be30193490dd4e63617705244f5fd89ea793"
   }
  }
 },
 "nbformat": 4,
 "nbformat_minor": 2,
 "cells": [
  {
   "source": [
    "## OOP --> Programación orientada a objetos/clase"
   ],
   "cell_type": "markdown",
   "metadata": {}
  },
  {
   "cell_type": "code",
   "execution_count": null,
   "metadata": {},
   "outputs": [],
   "source": [
    "# Mala praxis para representar objeto de la vida real\n",
    "ojos = 2\n",
    "piernas = 2\n",
    "nombre = \"Ataulfo\""
   ]
  },
  {
   "cell_type": "code",
   "execution_count": 32,
   "metadata": {},
   "outputs": [
    {
     "output_type": "stream",
     "name": "stdout",
     "text": [
      "Ataulfo\n89\nH\n"
     ]
    }
   ],
   "source": [
    "class Humano:\n",
    "\n",
    "    # función constructor\n",
    "    def __init__(self, n, edad, sexo, altura, color_pelo, ojos=2, piernas=2, especie=\"Homo Sapiens\", jkl=\"9\"):\n",
    "        # nombre del atributo de la clase Humano <-- --> valor\n",
    "        self.nombre = n\n",
    "        self.edad = 89\n",
    "        self.sexo = sexo\n",
    "        self.altura = altura\n",
    "        self.color_pelo = color_pelo\n",
    "        self.ojos = ojos\n",
    "        self.piernas = piernas\n",
    "        self.especie = especie\n",
    "\n",
    "    def mostrar_piernas(self, piernas=19):\n",
    "        print(\"Este el valor de una variable piernas:\", piernas)\n",
    "        print(\"Este es el atributo piernas de humano:\", self.piernas)\n",
    "\n",
    "    def mostrar_atributos(self):\n",
    "        print(\"El nombre del humano es:\", self.nombre)\n",
    "        print(\"La edad del humano es:\", self.edad)\n",
    "        print(\"El sexo del humano es:\", self.sexo)\n",
    "        print(\"La altura del humano es:\", self.altura)\n",
    "        print(\"El color_pelo del humano es:\", self.color_pelo)\n",
    "        print(\"Los ojos del humano son:\", self.ojos)\n",
    "        print(\"El Nº Piernas del humano es:\", self.piernas)\n",
    "        print(\"La especie del humano es:\", self.especie)\n",
    "\n",
    "    def muestra_jkl(self, jkl):\n",
    "        self.jkl = jkl\n",
    "        print(\"self.jkl\", self.jkl)\n",
    "\n",
    "ataulfo = Humano(n=\"Ataulfo\", edad=25, sexo=\"H\", altura=2.20, ojos=3, color_pelo=\"Pelirojo\")\n",
    "\n",
    "print(ataulfo.nombre)\n",
    "print(ataulfo.edad) \n",
    "print(ataulfo.sexo) "
   ]
  },
  {
   "cell_type": "code",
   "execution_count": 15,
   "metadata": {},
   "outputs": [
    {
     "output_type": "stream",
     "name": "stdout",
     "text": [
      "Este el valor de una variable piernas: 19\nEste es el atributo piernas de humano: 2\n"
     ]
    }
   ],
   "source": [
    "ataulfo.mostrar_piernas()"
   ]
  },
  {
   "cell_type": "code",
   "execution_count": 33,
   "metadata": {},
   "outputs": [],
   "source": [
    "elvis = Humano(n=\"Elvis\", edad=51, sexo=\"H\", altura=1.83, ojos=2, color_pelo=\"Moreno\")"
   ]
  },
  {
   "cell_type": "code",
   "execution_count": 17,
   "metadata": {},
   "outputs": [
    {
     "output_type": "execute_result",
     "data": {
      "text/plain": [
       "False"
      ]
     },
     "metadata": {},
     "execution_count": 17
    }
   ],
   "source": [
    "ataulfo == elvis"
   ]
  },
  {
   "cell_type": "code",
   "execution_count": 20,
   "metadata": {},
   "outputs": [
    {
     "output_type": "execute_result",
     "data": {
      "text/plain": [
       "2"
      ]
     },
     "metadata": {},
     "execution_count": 20
    }
   ],
   "source": [
    "elvis.ojos"
   ]
  },
  {
   "cell_type": "code",
   "execution_count": 21,
   "metadata": {},
   "outputs": [
    {
     "output_type": "execute_result",
     "data": {
      "text/plain": [
       "3"
      ]
     },
     "metadata": {},
     "execution_count": 21
    }
   ],
   "source": [
    "ataulfo.ojos"
   ]
  },
  {
   "cell_type": "code",
   "execution_count": 27,
   "metadata": {},
   "outputs": [
    {
     "output_type": "stream",
     "name": "stdout",
     "text": [
      "El nombre del humano es: Ataulfo\nLa edad del humano es: 89\nEl sexo del humano es: H\nLa altura del humano es: 2.2\nEl color_pelo del humano es: Pelirojo\nLos ojos del humano son: 3\nEl Nº Piernas del humano es: 2\nLa especie del humano es: Homo Sapiens\n"
     ]
    }
   ],
   "source": [
    "ataulfo.mostrar_atributos()"
   ]
  },
  {
   "cell_type": "code",
   "execution_count": 29,
   "metadata": {},
   "outputs": [
    {
     "output_type": "stream",
     "name": "stdout",
     "text": [
      "El nombre del humano es: Elvis\nLa edad del humano es: 89\nEl sexo del humano es: H\nLa altura del humano es: 1.83\nEl color_pelo del humano es: Moreno\nLos ojos del humano son: 2\nEl Nº Piernas del humano es: 2\nLa especie del humano es: Homo Sapiens\n"
     ]
    }
   ],
   "source": [
    "elvis.mostrar_atributos()"
   ]
  },
  {
   "cell_type": "code",
   "execution_count": 35,
   "metadata": {},
   "outputs": [
    {
     "output_type": "stream",
     "name": "stdout",
     "text": [
      "self.jkl 2\n"
     ]
    }
   ],
   "source": [
    "ataulfo.muestra_jkl(jkl=2)"
   ]
  },
  {
   "cell_type": "code",
   "execution_count": 31,
   "metadata": {},
   "outputs": [
    {
     "output_type": "execute_result",
     "data": {
      "text/plain": [
       "'Simba'"
      ]
     },
     "metadata": {},
     "execution_count": 31
    }
   ],
   "source": [
    "class Perro():\n",
    "    ojos = 2\n",
    "    nombre = \"Simba\"\n",
    "\n",
    "simba = Perro()\n",
    "simba.ojos\n",
    "simba.nombre"
   ]
  },
  {
   "cell_type": "code",
   "execution_count": null,
   "metadata": {},
   "outputs": [],
   "source": []
  }
 ]
}