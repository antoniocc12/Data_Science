{
 "metadata": {
  "language_info": {
   "codemirror_mode": {
    "name": "ipython",
    "version": 3
   },
   "file_extension": ".py",
   "mimetype": "text/x-python",
   "name": "python",
   "nbconvert_exporter": "python",
   "pygments_lexer": "ipython3",
   "version": "3.7.4"
  },
  "orig_nbformat": 2,
  "kernelspec": {
   "name": "python374jvsc74a57bd0a9b83ec4160fc914f5169c2fc0bc9ab1c02e189a457abfa966969b692f6336e9",
   "display_name": "Python 3.7.4 64-bit"
  },
  "metadata": {
   "interpreter": {
    "hash": "a9b83ec4160fc914f5169c2fc0bc9ab1c02e189a457abfa966969b692f6336e9"
   }
  }
 },
 "nbformat": 4,
 "nbformat_minor": 2,
 "cells": [
  {
   "source": [
    "## Hablando del path"
   ],
   "cell_type": "markdown",
   "metadata": {}
  },
  {
   "cell_type": "code",
   "execution_count": 1,
   "metadata": {},
   "outputs": [
    {
     "output_type": "execute_result",
     "data": {
      "text/plain": [
       "2"
      ]
     },
     "metadata": {},
     "execution_count": 1
    }
   ],
   "source": [
    "import mi_modulo\n",
    "\n",
    "mi_modulo.x\n"
   ]
  },
  {
   "cell_type": "code",
   "execution_count": 2,
   "metadata": {},
   "outputs": [
    {
     "output_type": "execute_result",
     "data": {
      "text/plain": [
       "'c:\\\\Users\\\\Mary\\\\Desktop\\\\Boot Camp\\\\Python\\\\MaryC-MezaR\\\\week3_course_python_III\\\\day1_python_VII\\\\theory\\\\6_import\\\\mi_modulo.py'"
      ]
     },
     "metadata": {},
     "execution_count": 2
    }
   ],
   "source": [
    "import mi_modulo as mm \n",
    "\n",
    "mm.__file__"
   ]
  },
  {
   "cell_type": "code",
   "execution_count": 3,
   "metadata": {},
   "outputs": [
    {
     "output_type": "execute_result",
     "data": {
      "text/plain": [
       "'C:\\\\Users\\\\Mary\\\\AppData\\\\Local\\\\Programs\\\\Python\\\\Python37\\\\lib\\\\random.py'"
      ]
     },
     "metadata": {},
     "execution_count": 3
    }
   ],
   "source": [
    "import random\n",
    "\n",
    "random.__file__"
   ]
  },
  {
   "cell_type": "code",
   "execution_count": null,
   "metadata": {},
   "outputs": [],
   "source": [
    "## Se puede importar la libreria random aunque no esté en la misma carpeta o al mismo nivel que mi archivo por que esto viene por defecto creada por python"
   ]
  },
  {
   "cell_type": "code",
   "execution_count": 5,
   "metadata": {},
   "outputs": [
    {
     "output_type": "execute_result",
     "data": {
      "text/plain": [
       "['c:\\\\Users\\\\Mary\\\\Desktop\\\\Boot Camp\\\\Python\\\\MaryC-MezaR\\\\week3_course_python_III\\\\day1_python_VII\\\\theory\\\\6_import',\n",
       " 'c:\\\\Users\\\\Mary\\\\.vscode\\\\extensions\\\\ms-toolsai.jupyter-2021.5.745244803\\\\pythonFiles',\n",
       " 'c:\\\\Users\\\\Mary\\\\.vscode\\\\extensions\\\\ms-toolsai.jupyter-2021.5.745244803\\\\pythonFiles',\n",
       " 'c:\\\\Users\\\\Mary\\\\.vscode\\\\extensions\\\\ms-toolsai.jupyter-2021.5.745244803\\\\pythonFiles\\\\lib\\\\python',\n",
       " 'C:\\\\Users\\\\Mary\\\\AppData\\\\Local\\\\Programs\\\\Python\\\\Python37\\\\python37.zip',\n",
       " 'C:\\\\Users\\\\Mary\\\\AppData\\\\Local\\\\Programs\\\\Python\\\\Python37\\\\DLLs',\n",
       " 'C:\\\\Users\\\\Mary\\\\AppData\\\\Local\\\\Programs\\\\Python\\\\Python37\\\\lib',\n",
       " 'C:\\\\Users\\\\Mary\\\\AppData\\\\Local\\\\Programs\\\\Python\\\\Python37',\n",
       " '',\n",
       " 'C:\\\\Users\\\\Mary\\\\AppData\\\\Roaming\\\\Python\\\\Python37\\\\site-packages',\n",
       " 'C:\\\\Users\\\\Mary\\\\AppData\\\\Roaming\\\\Python\\\\Python37\\\\site-packages\\\\win32',\n",
       " 'C:\\\\Users\\\\Mary\\\\AppData\\\\Roaming\\\\Python\\\\Python37\\\\site-packages\\\\win32\\\\lib',\n",
       " 'C:\\\\Users\\\\Mary\\\\AppData\\\\Roaming\\\\Python\\\\Python37\\\\site-packages\\\\Pythonwin',\n",
       " 'C:\\\\Users\\\\Mary\\\\AppData\\\\Local\\\\Programs\\\\Python\\\\Python37\\\\lib\\\\site-packages',\n",
       " 'C:\\\\Users\\\\Mary\\\\AppData\\\\Roaming\\\\Python\\\\Python37\\\\site-packages\\\\IPython\\\\extensions',\n",
       " 'C:\\\\Users\\\\Mary\\\\.ipython']"
      ]
     },
     "metadata": {},
     "execution_count": 5
    }
   ],
   "source": [
    "import sys\n",
    "\n",
    "sys.path"
   ]
  },
  {
   "cell_type": "code",
   "execution_count": null,
   "metadata": {},
   "outputs": [],
   "source": [
    "#python me va a dejar importar todos los archivos .py que este dentro de las carpetas que aparecen en sys.path . Si no aparece en sys.path no me va a importar python"
   ]
  },
  {
   "cell_type": "code",
   "execution_count": null,
   "metadata": {},
   "outputs": [],
   "source": [
    "# se puede acceder tambien a carpetas internas poniendo primero el nombre de la carpeta, el punto y luego el nombre del archivo"
   ]
  },
  {
   "cell_type": "code",
   "execution_count": null,
   "metadata": {},
   "outputs": [],
   "source": [
    "import f.archivo_dentro_de_f as adf\n",
    "\n",
    "adf.f1()"
   ]
  },
  {
   "source": [
    "## 27/04/2021"
   ],
   "cell_type": "markdown",
   "metadata": {}
  },
  {
   "cell_type": "code",
   "execution_count": 1,
   "metadata": {},
   "outputs": [],
   "source": [
    "import sys"
   ]
  },
  {
   "cell_type": "code",
   "execution_count": 2,
   "metadata": {},
   "outputs": [
    {
     "output_type": "execute_result",
     "data": {
      "text/plain": [
       "['c:\\\\Users\\\\Mary\\\\Desktop\\\\Boot Camp\\\\Python\\\\MaryC-MezaR\\\\week3_course_python_III\\\\day1_python_VII\\\\theory\\\\6_import',\n",
       " 'c:\\\\Users\\\\Mary\\\\.vscode\\\\extensions\\\\ms-toolsai.jupyter-2021.5.745244803\\\\pythonFiles',\n",
       " 'c:\\\\Users\\\\Mary\\\\.vscode\\\\extensions\\\\ms-toolsai.jupyter-2021.5.745244803\\\\pythonFiles',\n",
       " 'c:\\\\Users\\\\Mary\\\\.vscode\\\\extensions\\\\ms-toolsai.jupyter-2021.5.745244803\\\\pythonFiles\\\\lib\\\\python',\n",
       " 'C:\\\\Users\\\\Mary\\\\AppData\\\\Local\\\\Programs\\\\Python\\\\Python37\\\\python37.zip',\n",
       " 'C:\\\\Users\\\\Mary\\\\AppData\\\\Local\\\\Programs\\\\Python\\\\Python37\\\\DLLs',\n",
       " 'C:\\\\Users\\\\Mary\\\\AppData\\\\Local\\\\Programs\\\\Python\\\\Python37\\\\lib',\n",
       " 'C:\\\\Users\\\\Mary\\\\AppData\\\\Local\\\\Programs\\\\Python\\\\Python37',\n",
       " '',\n",
       " 'C:\\\\Users\\\\Mary\\\\AppData\\\\Roaming\\\\Python\\\\Python37\\\\site-packages',\n",
       " 'C:\\\\Users\\\\Mary\\\\AppData\\\\Roaming\\\\Python\\\\Python37\\\\site-packages\\\\win32',\n",
       " 'C:\\\\Users\\\\Mary\\\\AppData\\\\Roaming\\\\Python\\\\Python37\\\\site-packages\\\\win32\\\\lib',\n",
       " 'C:\\\\Users\\\\Mary\\\\AppData\\\\Roaming\\\\Python\\\\Python37\\\\site-packages\\\\Pythonwin',\n",
       " 'C:\\\\Users\\\\Mary\\\\AppData\\\\Local\\\\Programs\\\\Python\\\\Python37\\\\lib\\\\site-packages',\n",
       " 'C:\\\\Users\\\\Mary\\\\AppData\\\\Roaming\\\\Python\\\\Python37\\\\site-packages\\\\IPython\\\\extensions',\n",
       " 'C:\\\\Users\\\\Mary\\\\.ipython']"
      ]
     },
     "metadata": {},
     "execution_count": 2
    }
   ],
   "source": [
    "sys.path"
   ]
  },
  {
   "cell_type": "code",
   "execution_count": 3,
   "metadata": {},
   "outputs": [
    {
     "output_type": "execute_result",
     "data": {
      "text/plain": [
       "list"
      ]
     },
     "metadata": {},
     "execution_count": 3
    }
   ],
   "source": [
    "type(sys.path)  #es una lista."
   ]
  },
  {
   "source": [
    "## OJO"
   ],
   "cell_type": "markdown",
   "metadata": {}
  },
  {
   "cell_type": "code",
   "execution_count": null,
   "metadata": {},
   "outputs": [],
   "source": [
    "#python me va a dejar importar todos los archivos .py que este dentro de las carpetas que aparecen en sys.path . Si no aparece en sys.path no me va a importar python\n",
    "\n",
    "#si no está la ruta, python no me va a dejar importar, yo tengo que especificarle\n",
    "\n",
    "#siempre por defecto en la variable sys.path va a aparecer la ruta de la carpeta donde estoy ubicada o que estoy utilizando"
   ]
  },
  {
   "cell_type": "code",
   "execution_count": null,
   "metadata": {},
   "outputs": [],
   "source": [
    "#si la carpeta no esta, añado a sys.path la ruta, entonces tengo que como minimo importar la carpeta que esta encima de la carpeta que donde queremos importar \n",
    "\n",
    "#relativa = tiene en cuenta desde donde yo estoy import k.fichero_j\n",
    "\n",
    "\n",
    "\n",
    "#absoluta = \n",
    "\n"
   ]
  },
  {
   "cell_type": "code",
   "execution_count": null,
   "metadata": {},
   "outputs": [],
   "source": [
    "# Copy path --> absoluto, desde el principio de la unidad estoy copiando todas las carpetas hasta llegar al archivo (boton derecho copy path)\n",
    "\n",
    "ruta_absoluta =\n",
    "C:\\Users\\Mary\\Desktop\\Boot Camp\\Python\\MaryC-MezaR\\week3_course_python_III\\day1_python_VII\\theory\\6_import\\f"
   ]
  },
  {
   "cell_type": "code",
   "execution_count": null,
   "metadata": {},
   "outputs": [],
   "source": [
    "# Copy relative path ---->\n",
    "\n",
    "ruta_relativa = \n",
    "C:\\Users\\Mary\\Desktop\\Boot Camp\\Python\\MaryC-MezaR\\week3_course_python_III\\day1_python_VII\\theory\\6_import\\6_import.ipynb"
   ]
  },
  {
   "source": [
    "## LO IMPORTANTE DE LOS PATH ES QUE SE PUEDAN UTILIZAR EN CUALQUIER ORDENADOR NO SOLO EN EL MIO"
   ],
   "cell_type": "markdown",
   "metadata": {}
  },
  {
   "cell_type": "code",
   "execution_count": null,
   "metadata": {},
   "outputs": [],
   "source": [
    "# Añadir al sys.path la ruta a la carpeta superior a \"mi modulo\"\n",
    "\n",
    "#ruta_absoluta = en windows se recomienda poner \\\\ dos barras por que \\n es salto de linea para imprimir o cosas asi:\n",
    "\n",
    "sys.path.append(ruta_absoluta)\n",
    "\n",
    "#ahi ya se pueden utilizar todas las variables dentro de la carpeta\n",
    "\n",
    "\n",
    "sys.path.pop()  #para eliminar el ultimo elemento de la lista"
   ]
  },
  {
   "source": [
    "### Añadir desde cualquier ordenador y que funcione en todos "
   ],
   "cell_type": "markdown",
   "metadata": {}
  },
  {
   "cell_type": "code",
   "execution_count": null,
   "metadata": {},
   "outputs": [],
   "source": [
    "#Utilizar una serie de funciones que vienen en python instalandola, o una desde python"
   ]
  },
  {
   "cell_type": "code",
   "execution_count": 4,
   "metadata": {},
   "outputs": [
    {
     "output_type": "execute_result",
     "data": {
      "text/plain": [
       "'c:\\\\Users\\\\Mary\\\\Desktop\\\\Boot Camp\\\\Python\\\\MaryC-MezaR\\\\week3_course_python_III\\\\day1_python_VII\\\\theory\\\\6_import'"
      ]
     },
     "metadata": {},
     "execution_count": 4
    }
   ],
   "source": [
    "import os  # ARCHIVO .py built-in de python\n",
    "#getcwd --> devuelve la ruta a la carpeta en la que estoy\n",
    "os.getcwd()"
   ]
  },
  {
   "cell_type": "code",
   "execution_count": 5,
   "metadata": {},
   "outputs": [
    {
     "output_type": "execute_result",
     "data": {
      "text/plain": [
       "'c:\\\\Users\\\\Mary\\\\Desktop\\\\Boot Camp\\\\Python\\\\MaryC-MezaR\\\\week3_course_python_III\\\\day1_python_VII\\\\theory'"
      ]
     },
     "metadata": {},
     "execution_count": 5
    }
   ],
   "source": [
    "os.path.dirname(os.getcwd()) #coger la carpeta desde donde esta el archivo en el que estamos trabajando. OS es una libreria que viene por defecto. SIGNIFICA "
   ]
  },
  {
   "cell_type": "code",
   "execution_count": 7,
   "metadata": {},
   "outputs": [
    {
     "output_type": "execute_result",
     "data": {
      "text/plain": [
       "'c:\\\\Users\\\\Mary\\\\Desktop\\\\Boot Camp\\\\Python\\\\MaryC-MezaR\\\\week3_course_python_III\\\\day1_python_VII'"
      ]
     },
     "metadata": {},
     "execution_count": 7
    }
   ],
   "source": [
    "os.path.dirname((os.path.dirname(os.getcwd()))) #ME DARÁ LA CARPETA DE MAS ARRIBA"
   ]
  },
  {
   "cell_type": "code",
   "execution_count": 10,
   "metadata": {},
   "outputs": [
    {
     "output_type": "stream",
     "name": "stdout",
     "text": [
      "c:\\Users\\Mary\\Desktop\\Boot Camp\\Python\\MaryC-MezaR\\week3_course_python_III\\day1_python_VII\\theory\\6_import\nc:\\Users\\Mary\\Desktop\\Boot Camp\\Python\\MaryC-MezaR\\week3_course_python_III\\day1_python_VII\\theory\nc:\\Users\\Mary\\Desktop\\Boot Camp\\Python\\MaryC-MezaR\\week3_course_python_III\\day1_python_VII\nc:\\Users\\Mary\\Desktop\\Boot Camp\\Python\\MaryC-MezaR\\week3_course_python_III\nc:\\Users\\Mary\\Desktop\\Boot Camp\\Python\\MaryC-MezaR\nc:\\Users\\Mary\\Desktop\\Boot Camp\\Python\nc:\\Users\\Mary\\Desktop\\Boot Camp\n"
     ]
    }
   ],
   "source": [
    "# Esta función sirve para salirse 4 veces o los números que les pongamos. Esto sirve para entregar los proyectos que significará la llegada a la carpeta raiz\n",
    "\n",
    "ruta = os.getcwd()\n",
    "print(ruta)\n",
    "for i in range(6):\n",
    "    ruta = os.path.dirname(ruta)\n",
    "    print(ruta)\n",
    "    "
   ]
  },
  {
   "source": [
    "### Siempre existe una carpeta raiz en los proyectos que entregamos"
   ],
   "cell_type": "markdown",
   "metadata": {}
  },
  {
   "cell_type": "code",
   "execution_count": null,
   "metadata": {},
   "outputs": [],
   "source": [
    "# Llegando a la carpeta raiz, podemos importar todo lo que tenemos dentro.\n",
    "\n",
    "import week3"
   ]
  },
  {
   "cell_type": "code",
   "execution_count": 2,
   "metadata": {},
   "outputs": [
    {
     "output_type": "stream",
     "name": "stdout",
     "text": [
      "c:\\Users\\Mary\\Desktop\\Boot Camp\\Python\\MaryC-MezaR\\data_science_apr_2021\\week3_course_python_III\\day1_python_VII\\theory\\6_import\nc:\\Users\\Mary\\Desktop\\Boot Camp\\Python\\MaryC-MezaR\\data_science_apr_2021\\week3_course_python_III\\day1_python_VII\\theory\nc:\\Users\\Mary\\Desktop\\Boot Camp\\Python\\MaryC-MezaR\\data_science_apr_2021\\week3_course_python_III\\day1_python_VII\nc:\\Users\\Mary\\Desktop\\Boot Camp\\Python\\MaryC-MezaR\\data_science_apr_2021\\week3_course_python_III\nc:\\Users\\Mary\\Desktop\\Boot Camp\\Python\\MaryC-MezaR\\data_science_apr_2021\n"
     ]
    }
   ],
   "source": [
    "ruta = os.getcwd()\n",
    "print(ruta)\n",
    "for i in range(4):\n",
    "    ruta = os.path.dirname(ruta)\n",
    "    print(ruta)"
   ]
  },
  {
   "cell_type": "code",
   "execution_count": 4,
   "metadata": {},
   "outputs": [
    {
     "output_type": "stream",
     "name": "stdout",
     "text": [
      "c:\\Users\\Mary\\Desktop\\Boot Camp\\Python\\MaryC-MezaR\\data_science_apr_2021\\week3_course_python_III\\day1_python_VII\\theory\\6_import\nc:\\Users\\Mary\\Desktop\\Boot Camp\\Python\\MaryC-MezaR\\data_science_apr_2021\\week3_course_python_III\\day1_python_VII\\theory\nc:\\Users\\Mary\\Desktop\\Boot Camp\\Python\\MaryC-MezaR\\data_science_apr_2021\\week3_course_python_III\\day1_python_VII\nc:\\Users\\Mary\\Desktop\\Boot Camp\\Python\\MaryC-MezaR\\data_science_apr_2021\\week3_course_python_III\nc:\\Users\\Mary\\Desktop\\Boot Camp\\Python\\MaryC-MezaR\\data_science_apr_2021\nc:\\Users\\Mary\\Desktop\\Boot Camp\\Python\\MaryC-MezaR\n"
     ]
    },
    {
     "output_type": "execute_result",
     "data": {
      "text/plain": [
       "['c:\\\\Users\\\\Mary\\\\Desktop\\\\Boot Camp\\\\Python\\\\MaryC-MezaR\\\\data_science_apr_2021\\\\week3_course_python_III\\\\day1_python_VII\\\\theory\\\\6_import',\n",
       " 'c:\\\\Users\\\\Mary\\\\.vscode\\\\extensions\\\\ms-toolsai.jupyter-2021.5.745244803\\\\pythonFiles',\n",
       " 'c:\\\\Users\\\\Mary\\\\.vscode\\\\extensions\\\\ms-toolsai.jupyter-2021.5.745244803\\\\pythonFiles',\n",
       " 'c:\\\\Users\\\\Mary\\\\.vscode\\\\extensions\\\\ms-toolsai.jupyter-2021.5.745244803\\\\pythonFiles\\\\lib\\\\python',\n",
       " 'C:\\\\Users\\\\Mary\\\\AppData\\\\Local\\\\Programs\\\\Python\\\\Python37\\\\python37.zip',\n",
       " 'C:\\\\Users\\\\Mary\\\\AppData\\\\Local\\\\Programs\\\\Python\\\\Python37\\\\DLLs',\n",
       " 'C:\\\\Users\\\\Mary\\\\AppData\\\\Local\\\\Programs\\\\Python\\\\Python37\\\\lib',\n",
       " 'C:\\\\Users\\\\Mary\\\\AppData\\\\Local\\\\Programs\\\\Python\\\\Python37',\n",
       " '',\n",
       " 'C:\\\\Users\\\\Mary\\\\AppData\\\\Roaming\\\\Python\\\\Python37\\\\site-packages',\n",
       " 'C:\\\\Users\\\\Mary\\\\AppData\\\\Roaming\\\\Python\\\\Python37\\\\site-packages\\\\win32',\n",
       " 'C:\\\\Users\\\\Mary\\\\AppData\\\\Roaming\\\\Python\\\\Python37\\\\site-packages\\\\win32\\\\lib',\n",
       " 'C:\\\\Users\\\\Mary\\\\AppData\\\\Roaming\\\\Python\\\\Python37\\\\site-packages\\\\Pythonwin',\n",
       " 'C:\\\\Users\\\\Mary\\\\AppData\\\\Local\\\\Programs\\\\Python\\\\Python37\\\\lib\\\\site-packages',\n",
       " 'C:\\\\Users\\\\Mary\\\\AppData\\\\Roaming\\\\Python\\\\Python37\\\\site-packages\\\\IPython\\\\extensions',\n",
       " 'C:\\\\Users\\\\Mary\\\\.ipython',\n",
       " 'c:\\\\Users\\\\Mary\\\\Desktop\\\\Boot Camp\\\\Python\\\\MaryC-MezaR',\n",
       " 'c:\\\\Users\\\\Mary\\\\Desktop\\\\Boot Camp\\\\Python\\\\MaryC-MezaR']"
      ]
     },
     "metadata": {},
     "execution_count": 4
    }
   ],
   "source": [
    "#Es el bucle de GABRIEL, significa que es que lleguemos a la ruta\n",
    "# EL OBJETIVO ES AÑADIR AL sys.path LA RUTA DE LA CARPETA RAIZ QUE ESTA N CARPETAS POR ENCIMA DE LA QUE CONTIENE EL ARCHIVO QUE SE ESTA EJECUTANDO\n",
    "ruta = os.getcwd()\n",
    "print(ruta)\n",
    "for i in range(5):\n",
    "    ruta = os.path.dirname(ruta)\n",
    "    print(ruta)\n",
    "sys.path.append(ruta)\n",
    "sys.path"
   ]
  },
  {
   "cell_type": "code",
   "execution_count": null,
   "metadata": {},
   "outputs": [],
   "source": [
    "#Cuando estamos en archivos .py ----> utilizamos (\"_file_\") y si estamos en ipynb ----> os.getcwd()\n"
   ]
  }
 ]
}