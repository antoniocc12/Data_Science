{
 "metadata": {
  "language_info": {
   "codemirror_mode": {
    "name": "ipython",
    "version": 3
   },
   "file_extension": ".py",
   "mimetype": "text/x-python",
   "name": "python",
   "nbconvert_exporter": "python",
   "pygments_lexer": "ipython3",
   "version": "3.7.4"
  },
  "orig_nbformat": 2,
  "kernelspec": {
   "name": "python374jvsc74a57bd0a9b83ec4160fc914f5169c2fc0bc9ab1c02e189a457abfa966969b692f6336e9",
   "display_name": "Python 3.7.4 64-bit"
  },
  "metadata": {
   "interpreter": {
    "hash": "a9b83ec4160fc914f5169c2fc0bc9ab1c02e189a457abfa966969b692f6336e9"
   }
  }
 },
 "nbformat": 4,
 "nbformat_minor": 2,
 "cells": [
  {
   "source": [
    "## CLASES"
   ],
   "cell_type": "markdown",
   "metadata": {}
  },
  {
   "source": [
    "### OPP --> Programación orientada a objetos /clase"
   ],
   "cell_type": "markdown",
   "metadata": {}
  },
  {
   "cell_type": "code",
   "execution_count": null,
   "metadata": {},
   "outputs": [],
   "source": [
    "# Mala praxis para representar objeto de la vida real\n",
    "\n",
    "ojos = 2\n",
    "piernas = 2\n",
    "nombre = \"Ataulfo\"\n"
   ]
  },
  {
   "cell_type": "code",
   "execution_count": 3,
   "metadata": {},
   "outputs": [
    {
     "output_type": "execute_result",
     "data": {
      "text/plain": [
       "<__main__.Humano at 0x2172eb7b848>"
      ]
     },
     "metadata": {},
     "execution_count": 3
    }
   ],
   "source": [
    "class Humano:\n",
    "\n",
    "    # función constructor (si quiero agregar piernas, ojos, debo agregarlos como parametros del constructor)\n",
    "    def __init__(self, n, edad, sexo, altura, color_pelo, ojos=2, piernas=2, especie=\"Homo Sapiens\", jkl=\"9\"): # se le puede poner los atributos que yo quiera, por eso pone jkl\n",
    "        # lo de la parte de la izquierda es el nombre del atributo de la clase humana <-----> a la derecha va el valor es decir lo que se da o el valor que le doy\n",
    "        self.nombre = n\n",
    "        self.edad = edad\n",
    "        self.sexo = sexo\n",
    "        self.altura = altura\n",
    "        self.color_pelo = color_pelo\n",
    "        self.ojos = ojos\n",
    "        self.piernas = piernas\n",
    "        self.especie = especie\n",
    "\n",
    "    def mostrar_piernas(self):\n",
    "        print(self.piernas)\n",
    "\n",
    "\n",
    "\n",
    "ataulfo = Humano(n=\"Ataulfo\", edad=25, sexo=\"H\", altura=2.20, ojos=3, color_pelo=\"Pelirrojo\")\n",
    "\n",
    "ataulfo\n"
   ]
  },
  {
   "cell_type": "code",
   "execution_count": 11,
   "metadata": {},
   "outputs": [
    {
     "output_type": "error",
     "ename": "NameError",
     "evalue": "name 'piernas' is not defined",
     "traceback": [
      "\u001b[1;31m---------------------------------------------------------------------------\u001b[0m",
      "\u001b[1;31mNameError\u001b[0m                                 Traceback (most recent call last)",
      "\u001b[1;32m<ipython-input-11-712279a15bc8>\u001b[0m in \u001b[0;36m<module>\u001b[1;34m\u001b[0m\n\u001b[1;32m----> 1\u001b[1;33m \u001b[0mataulfo\u001b[0m\u001b[1;33m.\u001b[0m\u001b[0mmostrar_piernas\u001b[0m\u001b[1;33m(\u001b[0m\u001b[1;33m)\u001b[0m\u001b[1;33m\u001b[0m\u001b[1;33m\u001b[0m\u001b[0m\n\u001b[0m",
      "\u001b[1;32m<ipython-input-10-4b0a58247a09>\u001b[0m in \u001b[0;36mmostrar_piernas\u001b[1;34m(self)\u001b[0m\n\u001b[0;32m     14\u001b[0m \u001b[1;33m\u001b[0m\u001b[0m\n\u001b[0;32m     15\u001b[0m     \u001b[1;32mdef\u001b[0m \u001b[0mmostrar_piernas\u001b[0m\u001b[1;33m(\u001b[0m\u001b[0mself\u001b[0m\u001b[1;33m)\u001b[0m\u001b[1;33m:\u001b[0m\u001b[1;33m\u001b[0m\u001b[1;33m\u001b[0m\u001b[0m\n\u001b[1;32m---> 16\u001b[1;33m         \u001b[0mprint\u001b[0m\u001b[1;33m(\u001b[0m\u001b[0mpiernas\u001b[0m\u001b[1;33m)\u001b[0m\u001b[1;33m\u001b[0m\u001b[1;33m\u001b[0m\u001b[0m\n\u001b[0m\u001b[0;32m     17\u001b[0m \u001b[1;33m\u001b[0m\u001b[0m\n\u001b[0;32m     18\u001b[0m \u001b[1;33m\u001b[0m\u001b[0m\n",
      "\u001b[1;31mNameError\u001b[0m: name 'piernas' is not defined"
     ]
    }
   ],
   "source": [
    "ataulfo.mostrar_piernas()  #sale error por que piernas aqui no existe, si quiero acceder al atributo de la función piernas hay que ponerle un self"
   ]
  },
  {
   "cell_type": "code",
   "execution_count": 13,
   "metadata": {},
   "outputs": [
    {
     "output_type": "stream",
     "name": "stdout",
     "text": [
      "2\n"
     ]
    }
   ],
   "source": [
    "ataulfo.mostrar_piernas()  #si quiero usar un atributo de la función humano hay que usar self"
   ]
  },
  {
   "cell_type": "code",
   "execution_count": 2,
   "metadata": {},
   "outputs": [
    {
     "output_type": "execute_result",
     "data": {
      "text/plain": [
       "'Ataulfo'"
      ]
     },
     "metadata": {},
     "execution_count": 2
    }
   ],
   "source": [
    "ataulfo.nombre  #Estoy accediendo al self al valor del self.nombre"
   ]
  },
  {
   "cell_type": "code",
   "execution_count": 3,
   "metadata": {},
   "outputs": [
    {
     "output_type": "error",
     "ename": "AttributeError",
     "evalue": "'Humano' object has no attribute 'edad'",
     "traceback": [
      "\u001b[1;31m---------------------------------------------------------------------------\u001b[0m",
      "\u001b[1;31mAttributeError\u001b[0m                            Traceback (most recent call last)",
      "\u001b[1;32m<ipython-input-3-009017027d65>\u001b[0m in \u001b[0;36m<module>\u001b[1;34m\u001b[0m\n\u001b[1;32m----> 1\u001b[1;33m \u001b[0mataulfo\u001b[0m\u001b[1;33m.\u001b[0m\u001b[0medad\u001b[0m\u001b[1;33m\u001b[0m\u001b[1;33m\u001b[0m\u001b[0m\n\u001b[0m",
      "\u001b[1;31mAttributeError\u001b[0m: 'Humano' object has no attribute 'edad'"
     ]
    }
   ],
   "source": [
    "ataulfo.edad  #sale error por que no le he asignado un self hay que atribuirle "
   ]
  },
  {
   "cell_type": "code",
   "execution_count": 8,
   "metadata": {},
   "outputs": [
    {
     "output_type": "stream",
     "name": "stdout",
     "text": [
      "25\nH\n"
     ]
    }
   ],
   "source": [
    "print(ataulfo.edad)\n",
    "print(ataulfo.sexo)\n",
    "print(ataulfo.altura)\n",
    "print(ataulfo.color_pelo)\n",
    "print(ataulfo.especie)"
   ]
  },
  {
   "cell_type": "code",
   "execution_count": 1,
   "metadata": {},
   "outputs": [],
   "source": [
    "class Humano:\n",
    "\n",
    "    # función constructor (si quiero agregar piernas, ojos, debo agregarlos como parametros del constructor)\n",
    "    def __init__(self, n, edad, sexo, altura, color_pelo, ojos=2, piernas=2, especie=\"Homo Sapiens\", jkl=\"9\"): # se le puede poner los atributos que yo quiera, por eso pone jkl\n",
    "        # lo de la parte de la izquierda es el nombre del atributo de la clase humana <-----> a la derecha va el valor es decir lo que se da o el valor que le doy\n",
    "        self.nombre = n\n",
    "        self.edad = edad\n",
    "        self.sexo = sexo\n",
    "        self.altura = altura\n",
    "        self.color_pelo = color_pelo\n",
    "        self.ojos = ojos\n",
    "        self.piernas = piernas\n",
    "        self.especie = especie\n",
    "\n",
    "    def mostrar_piernas(self, piernas=19):\n",
    "        print(self.piernas)\n",
    "\n",
    "    def mostrar_atributos(self):\n",
    "        print(\"El nombre del humano es:\", self.nombre)\n",
    "        print(\"La edad del humano es:\", self.edad)\n",
    "        print(\"El sexo del humano es:\", self.sexo)\n",
    "        print(\"La altura del humano es:\", self.altura)\n",
    "        print(\"El color_pelo del humano es:\", self.color_pelo)\n",
    "        print(\"Los ojos del humano son:\", self.ojos)\n",
    "        print(\"Las piernas del humano son:\", self.piernas)\n",
    "        print(\"La especie del humano es:\", self.especie)"
   ]
  },
  {
   "cell_type": "code",
   "execution_count": 18,
   "metadata": {},
   "outputs": [],
   "source": [
    "elvis = Humano(n=\"Elvis\", edad=40, sexo=\"H\", altura=1.20, ojos=2, color_pelo=\"Pelinegro\", )"
   ]
  },
  {
   "cell_type": "code",
   "execution_count": 15,
   "metadata": {},
   "outputs": [
    {
     "output_type": "execute_result",
     "data": {
      "text/plain": [
       "False"
      ]
     },
     "metadata": {},
     "execution_count": 15
    }
   ],
   "source": [
    "elvis ==ataulfo"
   ]
  },
  {
   "cell_type": "code",
   "execution_count": 23,
   "metadata": {},
   "outputs": [
    {
     "output_type": "stream",
     "name": "stdout",
     "text": [
      "El nombre del humano es: Elvis\nLa edad del humano es: 40\nEl sexo del humano es: H\nLa altura del humano es: 1.2\nEl color_pelo del humano es: Pelinegro\n"
     ]
    }
   ],
   "source": [
    "elvis.mostrar_atributos()"
   ]
  },
  {
   "cell_type": "code",
   "execution_count": null,
   "metadata": {},
   "outputs": [],
   "source": [
    "# LA OTRA FORMA DE MOSTRAR ATRIBUTOS DE LAS PERSONAS ES"
   ]
  },
  {
   "cell_type": "code",
   "execution_count": 21,
   "metadata": {},
   "outputs": [
    {
     "output_type": "stream",
     "name": "stdout",
     "text": [
      "2\nSimba\n"
     ]
    }
   ],
   "source": [
    "class Perro():\n",
    "    ojos = 2\n",
    "    nombre = \"Simba\"\n",
    "\n",
    "simba = Perro()\n",
    "print(simba.ojos)\n",
    "print(simba.nombre)"
   ]
  },
  {
   "cell_type": "code",
   "execution_count": null,
   "metadata": {},
   "outputs": [],
   "source": [
    "## se puede crear un nuevo atributo dentro de la otra función por jeemplo \n",
    "\n",
    "def muestra_jkl()"
   ]
  },
  {
   "cell_type": "code",
   "execution_count": 4,
   "metadata": {},
   "outputs": [
    {
     "output_type": "stream",
     "name": "stdout",
     "text": [
      "2\n"
     ]
    }
   ],
   "source": [
    "ataulfo.mostrar_piernas()"
   ]
  },
  {
   "cell_type": "code",
   "execution_count": null,
   "metadata": {},
   "outputs": [],
   "source": [
    "##Despues creó una nueva función debajo de la otra función, y hasta que no llamemos a la función que creamos no va a aparecer ese jkl mirar el archivo del profesor"
   ]
  }
 ]
}