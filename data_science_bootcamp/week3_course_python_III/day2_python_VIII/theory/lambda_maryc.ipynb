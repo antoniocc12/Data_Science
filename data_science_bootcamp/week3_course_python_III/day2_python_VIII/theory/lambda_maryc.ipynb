{
 "metadata": {
  "language_info": {
   "codemirror_mode": {
    "name": "ipython",
    "version": 3
   },
   "file_extension": ".py",
   "mimetype": "text/x-python",
   "name": "python",
   "nbconvert_exporter": "python",
   "pygments_lexer": "ipython3",
   "version": "3.7.4"
  },
  "orig_nbformat": 2,
  "kernelspec": {
   "name": "python374jvsc74a57bd0a9b83ec4160fc914f5169c2fc0bc9ab1c02e189a457abfa966969b692f6336e9",
   "display_name": "Python 3.7.4 64-bit"
  },
  "metadata": {
   "interpreter": {
    "hash": "a9b83ec4160fc914f5169c2fc0bc9ab1c02e189a457abfa966969b692f6336e9"
   }
  }
 },
 "nbformat": 4,
 "nbformat_minor": 2,
 "cells": [
  {
   "source": [
    "## Lambda functions"
   ],
   "cell_type": "markdown",
   "metadata": {}
  },
  {
   "cell_type": "code",
   "execution_count": 2,
   "metadata": {},
   "outputs": [
    {
     "output_type": "execute_result",
     "data": {
      "text/plain": [
       "'12'"
      ]
     },
     "metadata": {},
     "execution_count": 2
    }
   ],
   "source": [
    "## En la mayoria de la programacion es una función anonima, en python tambien puede tener none\n",
    "#sintax:\n",
    "nombre_funcion2 = lambda x: str(x+2)    #lo que se pone despues de los dos puntos es lo que retorna la función \n",
    "\n",
    "nombre_funcion2(x=10)"
   ]
  },
  {
   "cell_type": "code",
   "execution_count": 3,
   "metadata": {},
   "outputs": [
    {
     "output_type": "execute_result",
     "data": {
      "text/plain": [
       "'8'"
      ]
     },
     "metadata": {},
     "execution_count": 3
    }
   ],
   "source": [
    "# es lo mismo que decir\n",
    "def nombre_funcion(x):\n",
    "    return str(x+2)\n",
    "\n",
    "nombre_funcion(x=6)"
   ]
  },
  {
   "cell_type": "code",
   "execution_count": 4,
   "metadata": {},
   "outputs": [
    {
     "output_type": "execute_result",
     "data": {
      "text/plain": [
       "'13'"
      ]
     },
     "metadata": {},
     "execution_count": 4
    }
   ],
   "source": [
    "f1 = lambda x,y,z: str(x+y+z)\n",
    "\n",
    "f1(x=5, y=7, z=1)"
   ]
  },
  {
   "cell_type": "code",
   "execution_count": 5,
   "metadata": {},
   "outputs": [
    {
     "output_type": "execute_result",
     "data": {
      "text/plain": [
       "[<function __main__.<listcomp>.<lambda>(elem)>,\n",
       " <function __main__.<listcomp>.<lambda>(elem)>,\n",
       " <function __main__.<listcomp>.<lambda>(elem)>,\n",
       " <function __main__.<listcomp>.<lambda>(elem)>]"
      ]
     },
     "metadata": {},
     "execution_count": 5
    }
   ],
   "source": [
    "#forma anonima\n",
    "\n",
    "l = [2,3,6,8]\n",
    "\n",
    "lista = [lambda elem: elem/2 for elem in l]\n",
    "\n",
    "lista"
   ]
  },
  {
   "cell_type": "code",
   "execution_count": 6,
   "metadata": {},
   "outputs": [
    {
     "output_type": "execute_result",
     "data": {
      "text/plain": [
       "[1.0, 1.5, 3.0, 4.0]"
      ]
     },
     "metadata": {},
     "execution_count": 6
    }
   ],
   "source": [
    "l = [2,3,6,8]\n",
    "\n",
    "f2 = lambda elem: elem/2\n",
    "lista = [f2(elem) for elem in l]\n",
    "\n",
    "lista"
   ]
  },
  {
   "cell_type": "code",
   "execution_count": null,
   "metadata": {},
   "outputs": [],
   "source": []
  }
 ]
}