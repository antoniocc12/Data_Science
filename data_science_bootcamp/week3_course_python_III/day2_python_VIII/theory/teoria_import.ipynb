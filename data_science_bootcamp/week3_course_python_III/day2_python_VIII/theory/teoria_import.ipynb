{
 "metadata": {
  "language_info": {
   "codemirror_mode": {
    "name": "ipython",
    "version": 3
   },
   "file_extension": ".py",
   "mimetype": "text/x-python",
   "name": "python",
   "nbconvert_exporter": "python",
   "pygments_lexer": "ipython3",
   "version": "3.7.4"
  },
  "orig_nbformat": 2,
  "kernelspec": {
   "name": "python374jvsc74a57bd0a9b83ec4160fc914f5169c2fc0bc9ab1c02e189a457abfa966969b692f6336e9",
   "display_name": "Python 3.7.4 64-bit"
  },
  "metadata": {
   "interpreter": {
    "hash": "a9b83ec4160fc914f5169c2fc0bc9ab1c02e189a457abfa966969b692f6336e9"
   }
  }
 },
 "nbformat": 4,
 "nbformat_minor": 2,
 "cells": [
  {
   "source": [
    "### Añadir desde cualquier ordenador y que funcione en todos"
   ],
   "cell_type": "markdown",
   "metadata": {}
  },
  {
   "cell_type": "code",
   "execution_count": 1,
   "metadata": {},
   "outputs": [],
   "source": [
    "##Utilizar una serie de funciones que vienen en python instalandola, o una desde python"
   ]
  },
  {
   "cell_type": "code",
   "execution_count": null,
   "metadata": {},
   "outputs": [],
   "source": [
    "import os  # ARCHIVO .py built-in de python\n",
    "\n",
    "#El módulo os nos permite acceder a funcionalidades dependientes del Sistema Operativo. Sobre todo, aquellas que nos refieren información sobre el entorno del mismo y nos permiten manipular la estructura de directorios\n",
    "\n",
    "import sys \n",
    "\n",
    "#El módulo sys es el encargado de proveer variables y funcionalidades, directamente relacionadas con el intérprete."
   ]
  },
  {
   "cell_type": "code",
   "execution_count": null,
   "metadata": {},
   "outputs": [],
   "source": [
    "\n",
    "\n",
    "\n",
    "ruta = __file__ \n",
    "\n",
    "\n",
    "# EL OBJETIVO ES AÑADIR AL sys.path LA RUTA DE LA CARPETA RAIZ QUE ESTA N CARPETAS POR ENCIMA DE LA QUE CONTIENE EL ARCHIVO QUE SE ESTA EJECUTANDO\n",
    "ruta = os.getcwd() #Cuando estamos en archivos .py ----> utilizamos (\"_file_\") y si estamos en ipynb ----> os.getcwd()\n",
    "ruta = __file__\n",
    "print(ruta)\n",
    "for i in range(5):\n",
    "    ruta = os.path.dirname(ruta)\n",
    "    print(ruta)\n",
    "sys.path.append(ruta)\n",
    "sys.path\n"
   ]
  },
  {
   "cell_type": "code",
   "execution_count": null,
   "metadata": {},
   "outputs": [],
   "source": [
    "#si la carpeta no esta, añado a sys.path la ruta, entonces tengo que como minimo importar la carpeta que esta encima de la carpeta que donde queremos importar "
   ]
  },
  {
   "cell_type": "code",
   "execution_count": null,
   "metadata": {},
   "outputs": [],
   "source": [
    "import imports.b.c.z as fun4  #aqui estamos accediendo a la carpeta primero, y luego paso a paso al archivo, asignandole un alias"
   ]
  }
 ]
}