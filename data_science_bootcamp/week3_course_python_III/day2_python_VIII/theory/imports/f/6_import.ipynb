{
 "cells": [
  {
   "cell_type": "markdown",
   "metadata": {},
   "source": [
    "# Apartado 6 - Import"
   ]
  },
  {
   "cell_type": "markdown",
   "metadata": {},
   "source": [
    "- Import modulos\n",
    "- Abrir ficheros"
   ]
  },
  {
   "cell_type": "markdown",
   "metadata": {},
   "source": [
    "------------------------------------------------------------------"
   ]
  },
  {
   "cell_type": "markdown",
   "metadata": {},
   "source": [
    "## Import modulos"
   ]
  },
  {
   "cell_type": "markdown",
   "metadata": {},
   "source": [
    "[HELP](https://realpython.com/python-modules-packages/)"
   ]
  },
  {
   "cell_type": "code",
   "execution_count": null,
   "metadata": {},
   "outputs": [],
   "source": [
    "import mi_modulo \n",
    "\n",
    "suma = mi_modulo.suma_2(a=2, b=6)\n",
    "print(suma)"
   ]
  },
  {
   "cell_type": "code",
   "execution_count": null,
   "metadata": {},
   "outputs": [],
   "source": [
    "resta = mi_modulo.resta_2(a=7, b=6)\n",
    "resta"
   ]
  },
  {
   "cell_type": "code",
   "execution_count": null,
   "metadata": {},
   "outputs": [],
   "source": [
    "from mi_modulo import resta_2\n",
    "\n",
    "resta2 = resta_2(a=5, b=3)\n",
    "resta2"
   ]
  },
  {
   "cell_type": "code",
   "execution_count": null,
   "metadata": {},
   "outputs": [],
   "source": [
    "import mi_modulo as mm\n",
    "\n",
    "mm.resta_2()"
   ]
  },
  {
   "cell_type": "markdown",
   "metadata": {},
   "source": [
    "--------------------------------------------------------------------------"
   ]
  },
  {
   "cell_type": "code",
   "execution_count": 1,
   "metadata": {},
   "outputs": [
    {
     "output_type": "execute_result",
     "data": {
      "text/plain": [
       "['z:\\\\Data_Science\\\\TheBridge\\\\Content\\\\Contenido_Curso\\\\data_science_apr_2021\\\\week3_precurse_python_III\\\\day1_python_X\\\\exercises\\\\6_import',\n",
       " 'c:\\\\Users\\\\gvazquez\\\\.vscode\\\\extensions\\\\ms-toolsai.jupyter-2021.5.745244803\\\\pythonFiles',\n",
       " 'c:\\\\Users\\\\gvazquez\\\\.vscode\\\\extensions\\\\ms-toolsai.jupyter-2021.5.745244803\\\\pythonFiles',\n",
       " 'c:\\\\Users\\\\gvazquez\\\\.vscode\\\\extensions\\\\ms-toolsai.jupyter-2021.5.745244803\\\\pythonFiles\\\\lib\\\\python',\n",
       " 'Z:\\\\Data_Science\\\\Software\\\\Python\\\\Python_3.6.4\\\\python36.zip',\n",
       " 'Z:\\\\Data_Science\\\\Software\\\\Python\\\\Python_3.6.4\\\\DLLs',\n",
       " 'Z:\\\\Data_Science\\\\Software\\\\Python\\\\Python_3.6.4\\\\lib',\n",
       " 'Z:\\\\Data_Science\\\\Software\\\\Python\\\\Python_3.6.4',\n",
       " '',\n",
       " 'C:\\\\Users\\\\gvazquez\\\\AppData\\\\Roaming\\\\Python\\\\Python36\\\\site-packages',\n",
       " 'C:\\\\Users\\\\gvazquez\\\\AppData\\\\Roaming\\\\Python\\\\Python36\\\\site-packages\\\\win32',\n",
       " 'C:\\\\Users\\\\gvazquez\\\\AppData\\\\Roaming\\\\Python\\\\Python36\\\\site-packages\\\\win32\\\\lib',\n",
       " 'C:\\\\Users\\\\gvazquez\\\\AppData\\\\Roaming\\\\Python\\\\Python36\\\\site-packages\\\\Pythonwin',\n",
       " 'Z:\\\\Data_Science\\\\Software\\\\Python\\\\Python_3.6.4\\\\lib\\\\site-packages',\n",
       " 'C:\\\\Users\\\\gvazquez\\\\AppData\\\\Roaming\\\\Python\\\\Python36\\\\site-packages\\\\IPython\\\\extensions',\n",
       " 'C:\\\\Users\\\\gvazquez\\\\.ipython']"
      ]
     },
     "metadata": {},
     "execution_count": 1
    }
   ],
   "source": [
    "import sys\n",
    "sys.path"
   ]
  },
  {
   "cell_type": "code",
   "execution_count": 2,
   "metadata": {},
   "outputs": [
    {
     "output_type": "execute_result",
     "data": {
      "text/plain": [
       "'z:\\\\Data_Science\\\\TheBridge\\\\Content\\\\Contenido_Curso\\\\data_science_apr_2021\\\\week3_precurse_python_III\\\\day1_python_X\\\\exercises\\\\6_import\\\\mi_modulo.py'"
      ]
     },
     "metadata": {},
     "execution_count": 2
    }
   ],
   "source": [
    "import mi_modulo as mm\n",
    "\n",
    "mm.__file__"
   ]
  },
  {
   "cell_type": "code",
   "execution_count": 6,
   "metadata": {},
   "outputs": [
    {
     "output_type": "execute_result",
     "data": {
      "text/plain": [
       "'Z:\\\\Data_Science\\\\Software\\\\Python\\\\Python_3.6.4\\\\lib\\\\re.py'"
      ]
     },
     "metadata": {},
     "execution_count": 6
    }
   ],
   "source": [
    "import re\n",
    "\n",
    "re.__file__"
   ]
  },
  {
   "cell_type": "code",
   "execution_count": 1,
   "metadata": {},
   "outputs": [
    {
     "output_type": "execute_result",
     "data": {
      "text/plain": [
       "['z:\\\\Data_Science\\\\TheBridge\\\\Content\\\\Contenido_Curso\\\\data_science_apr_2021\\\\week3_course_python_III\\\\day2_python_VIII\\\\theory\\\\imports\\\\f',\n",
       " 'c:\\\\Users\\\\gvazquez\\\\.vscode\\\\extensions\\\\ms-toolsai.jupyter-2021.5.745244803\\\\pythonFiles',\n",
       " 'c:\\\\Users\\\\gvazquez\\\\.vscode\\\\extensions\\\\ms-toolsai.jupyter-2021.5.745244803\\\\pythonFiles',\n",
       " 'c:\\\\Users\\\\gvazquez\\\\.vscode\\\\extensions\\\\ms-toolsai.jupyter-2021.5.745244803\\\\pythonFiles\\\\lib\\\\python',\n",
       " 'Z:\\\\Data_Science\\\\Software\\\\Python\\\\Python_3.6.4\\\\python36.zip',\n",
       " 'Z:\\\\Data_Science\\\\Software\\\\Python\\\\Python_3.6.4\\\\DLLs',\n",
       " 'Z:\\\\Data_Science\\\\Software\\\\Python\\\\Python_3.6.4\\\\lib',\n",
       " 'Z:\\\\Data_Science\\\\Software\\\\Python\\\\Python_3.6.4',\n",
       " '',\n",
       " 'C:\\\\Users\\\\gvazquez\\\\AppData\\\\Roaming\\\\Python\\\\Python36\\\\site-packages',\n",
       " 'C:\\\\Users\\\\gvazquez\\\\AppData\\\\Roaming\\\\Python\\\\Python36\\\\site-packages\\\\win32',\n",
       " 'C:\\\\Users\\\\gvazquez\\\\AppData\\\\Roaming\\\\Python\\\\Python36\\\\site-packages\\\\win32\\\\lib',\n",
       " 'C:\\\\Users\\\\gvazquez\\\\AppData\\\\Roaming\\\\Python\\\\Python36\\\\site-packages\\\\Pythonwin',\n",
       " 'Z:\\\\Data_Science\\\\Software\\\\Python\\\\Python_3.6.4\\\\lib\\\\site-packages',\n",
       " 'C:\\\\Users\\\\gvazquez\\\\AppData\\\\Roaming\\\\Python\\\\Python36\\\\site-packages\\\\IPython\\\\extensions',\n",
       " 'C:\\\\Users\\\\gvazquez\\\\.ipython']"
      ]
     },
     "metadata": {},
     "execution_count": 1
    }
   ],
   "source": [
    "# siempre y por defecto en la variable sys.path va a aparecer la ruta a la carpeta del archivo que estoy utilizando.\n",
    "import sys\n",
    "sys.path"
   ]
  },
  {
   "cell_type": "code",
   "execution_count": null,
   "metadata": {},
   "outputs": [],
   "source": [
    "# Forma relativa\n",
    "import k.fichero_j"
   ]
  },
  {
   "cell_type": "code",
   "execution_count": null,
   "metadata": {},
   "outputs": [],
   "source": [
    "# Copy path --> absoluto\n",
    "ruta_absoluta = \"Z:\\Data_Science\\TheBridge\\Content\\Contenido_Curso\\data_science_apr_2021\\week3_course_python_III\\day2_python_VIII\\theory\\imports\\f\\6_import.ipynb\""
   ]
  },
  {
   "cell_type": "code",
   "execution_count": null,
   "metadata": {},
   "outputs": [],
   "source": [
    "# Copy relative path --> relativo\n",
    "\n",
    "ruta_relativa = \"data_science_apr_2021\\week3_course_python_III\\day2_python_VIII\\theory\\imports\\f\\6_import.ipynb\""
   ]
  },
  {
   "cell_type": "code",
   "execution_count": 2,
   "metadata": {},
   "outputs": [
    {
     "output_type": "error",
     "ename": "ModuleNotFoundError",
     "evalue": "No module named 'mi_modulo'",
     "traceback": [
      "\u001b[1;31m---------------------------------------------------------------------------\u001b[0m",
      "\u001b[1;31mModuleNotFoundError\u001b[0m                       Traceback (most recent call last)",
      "\u001b[1;32m<ipython-input-2-561d62d7bd13>\u001b[0m in \u001b[0;36m<module>\u001b[1;34m\u001b[0m\n\u001b[1;32m----> 1\u001b[1;33m \u001b[1;32mimport\u001b[0m \u001b[0mmi_modulo\u001b[0m\u001b[1;33m\u001b[0m\u001b[0m\n\u001b[0m",
      "\u001b[1;31mModuleNotFoundError\u001b[0m: No module named 'mi_modulo'"
     ]
    }
   ],
   "source": [
    "import mi_modulo "
   ]
  },
  {
   "cell_type": "code",
   "execution_count": 10,
   "metadata": {},
   "outputs": [
    {
     "output_type": "execute_result",
     "data": {
      "text/plain": [
       "['z:\\\\Data_Science\\\\TheBridge\\\\Content\\\\Contenido_Curso\\\\data_science_apr_2021\\\\week3_course_python_III\\\\day2_python_VIII\\\\theory\\\\imports\\\\f',\n",
       " 'c:\\\\Users\\\\gvazquez\\\\.vscode\\\\extensions\\\\ms-toolsai.jupyter-2021.5.745244803\\\\pythonFiles',\n",
       " 'c:\\\\Users\\\\gvazquez\\\\.vscode\\\\extensions\\\\ms-toolsai.jupyter-2021.5.745244803\\\\pythonFiles',\n",
       " 'c:\\\\Users\\\\gvazquez\\\\.vscode\\\\extensions\\\\ms-toolsai.jupyter-2021.5.745244803\\\\pythonFiles\\\\lib\\\\python',\n",
       " 'Z:\\\\Data_Science\\\\Software\\\\Python\\\\Python_3.6.4\\\\python36.zip',\n",
       " 'Z:\\\\Data_Science\\\\Software\\\\Python\\\\Python_3.6.4\\\\DLLs',\n",
       " 'Z:\\\\Data_Science\\\\Software\\\\Python\\\\Python_3.6.4\\\\lib',\n",
       " 'Z:\\\\Data_Science\\\\Software\\\\Python\\\\Python_3.6.4',\n",
       " '',\n",
       " 'C:\\\\Users\\\\gvazquez\\\\AppData\\\\Roaming\\\\Python\\\\Python36\\\\site-packages',\n",
       " 'C:\\\\Users\\\\gvazquez\\\\AppData\\\\Roaming\\\\Python\\\\Python36\\\\site-packages\\\\win32',\n",
       " 'C:\\\\Users\\\\gvazquez\\\\AppData\\\\Roaming\\\\Python\\\\Python36\\\\site-packages\\\\win32\\\\lib',\n",
       " 'C:\\\\Users\\\\gvazquez\\\\AppData\\\\Roaming\\\\Python\\\\Python36\\\\site-packages\\\\Pythonwin',\n",
       " 'Z:\\\\Data_Science\\\\Software\\\\Python\\\\Python_3.6.4\\\\lib\\\\site-packages',\n",
       " 'C:\\\\Users\\\\gvazquez\\\\AppData\\\\Roaming\\\\Python\\\\Python36\\\\site-packages\\\\IPython\\\\extensions',\n",
       " 'C:\\\\Users\\\\gvazquez\\\\.ipython',\n",
       " 'Z:\\\\Data_Science\\\\TheBridge\\\\Content\\\\Contenido_Curso\\\\data_science_apr_2021\\\\week3_course_python_III\\\\day2_python_VIII\\\\theory\\\\imports']"
      ]
     },
     "metadata": {},
     "execution_count": 10
    }
   ],
   "source": [
    "# Añadir al sys.path la ruta a la carpeta superior a \"mi_modulo\"\n",
    "ruta_absoluta = \"Z:\\\\Data_Science\\\\TheBridge\\\\Content\\\\Contenido_Curso\\\\data_science_apr_2021\\\\week3_course_python_III\\\\day2_python_VIII\\\\theory\\\\imports\"\n",
    "\n",
    "sys.path.append(ruta_absoluta)\n",
    "sys.path"
   ]
  },
  {
   "cell_type": "code",
   "execution_count": 11,
   "metadata": {},
   "outputs": [
    {
     "output_type": "execute_result",
     "data": {
      "text/plain": [
       "2"
      ]
     },
     "metadata": {},
     "execution_count": 11
    }
   ],
   "source": [
    "import mi_modulo as mm\n",
    "mm.x"
   ]
  },
  {
   "cell_type": "code",
   "execution_count": 12,
   "metadata": {},
   "outputs": [
    {
     "output_type": "execute_result",
     "data": {
      "text/plain": [
       "'Z:\\\\Data_Science\\\\TheBridge\\\\Content\\\\Contenido_Curso\\\\data_science_apr_2021\\\\week3_course_python_III\\\\day2_python_VIII\\\\theory\\\\imports'"
      ]
     },
     "metadata": {},
     "execution_count": 12
    }
   ],
   "source": [
    "sys.path.pop()"
   ]
  },
  {
   "cell_type": "code",
   "execution_count": 1,
   "metadata": {},
   "outputs": [
    {
     "output_type": "error",
     "ename": "ModuleNotFoundError",
     "evalue": "No module named 'mi_modulo'",
     "traceback": [
      "\u001b[1;31m---------------------------------------------------------------------------\u001b[0m",
      "\u001b[1;31mModuleNotFoundError\u001b[0m                       Traceback (most recent call last)",
      "\u001b[1;32m<ipython-input-1-973f1332c0ad>\u001b[0m in \u001b[0;36m<module>\u001b[1;34m\u001b[0m\n\u001b[1;32m----> 1\u001b[1;33m \u001b[1;32mimport\u001b[0m \u001b[0mmi_modulo\u001b[0m \u001b[1;32mas\u001b[0m \u001b[0mmm\u001b[0m\u001b[1;33m\u001b[0m\u001b[0m\n\u001b[0m\u001b[0;32m      2\u001b[0m \u001b[0mmm\u001b[0m\u001b[1;33m.\u001b[0m\u001b[0mx\u001b[0m\u001b[1;33m\u001b[0m\u001b[0m\n",
      "\u001b[1;31mModuleNotFoundError\u001b[0m: No module named 'mi_modulo'"
     ]
    }
   ],
   "source": [
    "# Al reiniciar el kernel\n",
    "import mi_modulo as mm\n",
    "mm.x"
   ]
  },
  {
   "cell_type": "code",
   "execution_count": 5,
   "metadata": {},
   "outputs": [
    {
     "output_type": "execute_result",
     "data": {
      "text/plain": [
       "<module 'os' from 'Z:\\\\Data_Science\\\\Software\\\\Python\\\\Python_3.6.4\\\\lib\\\\os.py'>"
      ]
     },
     "metadata": {},
     "execution_count": 5
    }
   ],
   "source": [
    "# built-in\n",
    "import os\n",
    "os"
   ]
  },
  {
   "cell_type": "code",
   "execution_count": 6,
   "metadata": {},
   "outputs": [
    {
     "output_type": "stream",
     "name": "stdout",
     "text": [
      "2\n",
      "3\n"
     ]
    }
   ],
   "source": [
    "import time \n",
    "print(2)\n",
    "time.sleep(1)\n",
    "print(3)"
   ]
  },
  {
   "cell_type": "code",
   "execution_count": 2,
   "metadata": {},
   "outputs": [
    {
     "output_type": "execute_result",
     "data": {
      "text/plain": [
       "'z:\\\\Data_Science\\\\TheBridge\\\\Content\\\\Contenido_Curso\\\\data_science_apr_2021\\\\week3_course_python_III\\\\day2_python_VIII\\\\theory\\\\imports\\\\f'"
      ]
     },
     "metadata": {},
     "execution_count": 2
    }
   ],
   "source": [
    "import os  # archivo .py built-in de python\n",
    "\n",
    "# getcwd --> devuelve la ruta a la carpeta en la que estoy\n",
    "os.getcwd()"
   ]
  },
  {
   "cell_type": "code",
   "execution_count": 7,
   "metadata": {},
   "outputs": [
    {
     "output_type": "execute_result",
     "data": {
      "text/plain": [
       "'z:\\\\Data_Science\\\\TheBridge\\\\Content\\\\Contenido_Curso\\\\data_science_apr_2021\\\\week3_course_python_III\\\\day2_python_VIII\\\\theory\\\\imports'"
      ]
     },
     "metadata": {},
     "execution_count": 7
    }
   ],
   "source": [
    "ruta_a_carpeta_en_la_que_estoy = os.getcwd()\n",
    "\n",
    "os.path.dirname(ruta_a_carpeta_en_la_que_estoy)"
   ]
  },
  {
   "cell_type": "code",
   "execution_count": 8,
   "metadata": {},
   "outputs": [
    {
     "output_type": "execute_result",
     "data": {
      "text/plain": [
       "'z:\\\\Data_Science\\\\TheBridge\\\\Content\\\\Contenido_Curso\\\\data_science_apr_2021\\\\week3_course_python_III\\\\day2_python_VIII\\\\theory'"
      ]
     },
     "metadata": {},
     "execution_count": 8
    }
   ],
   "source": [
    "os.path.dirname(os.path.dirname(ruta_a_carpeta_en_la_que_estoy))"
   ]
  },
  {
   "cell_type": "code",
   "execution_count": 20,
   "metadata": {},
   "outputs": [
    {
     "output_type": "execute_result",
     "data": {
      "text/plain": [
       "'z:\\\\Data_Science\\\\TheBridge\\\\Content\\\\Contenido_Curso\\\\data_science_apr_2021\\\\week3_course_python_III\\\\day2_python_VIII\\\\theory\\\\imports\\\\f'"
      ]
     },
     "metadata": {},
     "execution_count": 20
    }
   ],
   "source": [
    "os.getcwd() #--> devuelve la ruta a la carpeta en la que estoy"
   ]
  },
  {
   "cell_type": "code",
   "execution_count": 24,
   "metadata": {},
   "outputs": [
    {
     "output_type": "execute_result",
     "data": {
      "text/plain": [
       "'\\\\'"
      ]
     },
     "metadata": {},
     "execution_count": 24
    }
   ],
   "source": [
    "# os.sep es una variable que contiene una barra de rutas dependiendo del sistema operativo\n",
    "os.sep"
   ]
  },
  {
   "cell_type": "code",
   "execution_count": null,
   "metadata": {},
   "outputs": [],
   "source": [
    "# Cuando estamos en '.py' --> utilizamos '__file__'\n",
    "\n",
    "# Cuando estamos en '.ipynb' --> utilizamos 'os.getcwd()'"
   ]
  },
  {
   "cell_type": "code",
   "execution_count": 18,
   "metadata": {},
   "outputs": [
    {
     "output_type": "stream",
     "name": "stdout",
     "text": [
      "z:\\Data_Science\\TheBridge\\Content\\Contenido_Curso\\data_science_apr_2021\\week3_course_python_III\\day2_python_VIII\\theory\\imports\\f\nz:\\Data_Science\\TheBridge\\Content\\Contenido_Curso\\data_science_apr_2021\\week3_course_python_III\\day2_python_VIII\\theory\\imports\nz:\\Data_Science\\TheBridge\\Content\\Contenido_Curso\\data_science_apr_2021\\week3_course_python_III\\day2_python_VIII\\theory\nz:\\Data_Science\\TheBridge\\Content\\Contenido_Curso\\data_science_apr_2021\\week3_course_python_III\\day2_python_VIII\nz:\\Data_Science\\TheBridge\\Content\\Contenido_Curso\\data_science_apr_2021\\week3_course_python_III\nz:\\Data_Science\\TheBridge\\Content\\Contenido_Curso\\data_science_apr_2021\n"
     ]
    },
    {
     "output_type": "execute_result",
     "data": {
      "text/plain": [
       "['z:\\\\Data_Science\\\\TheBridge\\\\Content\\\\Contenido_Curso\\\\data_science_apr_2021\\\\week3_course_python_III\\\\day2_python_VIII\\\\theory\\\\imports\\\\f',\n",
       " 'c:\\\\Users\\\\gvazquez\\\\.vscode\\\\extensions\\\\ms-toolsai.jupyter-2021.5.745244803\\\\pythonFiles',\n",
       " 'c:\\\\Users\\\\gvazquez\\\\.vscode\\\\extensions\\\\ms-toolsai.jupyter-2021.5.745244803\\\\pythonFiles',\n",
       " 'c:\\\\Users\\\\gvazquez\\\\.vscode\\\\extensions\\\\ms-toolsai.jupyter-2021.5.745244803\\\\pythonFiles\\\\lib\\\\python',\n",
       " 'Z:\\\\Data_Science\\\\Software\\\\Python\\\\Python_3.6.4\\\\python36.zip',\n",
       " 'Z:\\\\Data_Science\\\\Software\\\\Python\\\\Python_3.6.4\\\\DLLs',\n",
       " 'Z:\\\\Data_Science\\\\Software\\\\Python\\\\Python_3.6.4\\\\lib',\n",
       " 'Z:\\\\Data_Science\\\\Software\\\\Python\\\\Python_3.6.4',\n",
       " '',\n",
       " 'C:\\\\Users\\\\gvazquez\\\\AppData\\\\Roaming\\\\Python\\\\Python36\\\\site-packages',\n",
       " 'C:\\\\Users\\\\gvazquez\\\\AppData\\\\Roaming\\\\Python\\\\Python36\\\\site-packages\\\\win32',\n",
       " 'C:\\\\Users\\\\gvazquez\\\\AppData\\\\Roaming\\\\Python\\\\Python36\\\\site-packages\\\\win32\\\\lib',\n",
       " 'C:\\\\Users\\\\gvazquez\\\\AppData\\\\Roaming\\\\Python\\\\Python36\\\\site-packages\\\\Pythonwin',\n",
       " 'Z:\\\\Data_Science\\\\Software\\\\Python\\\\Python_3.6.4\\\\lib\\\\site-packages',\n",
       " 'C:\\\\Users\\\\gvazquez\\\\AppData\\\\Roaming\\\\Python\\\\Python36\\\\site-packages\\\\IPython\\\\extensions',\n",
       " 'C:\\\\Users\\\\gvazquez\\\\.ipython',\n",
       " 'z:\\\\Data_Science\\\\TheBridge\\\\Content\\\\Contenido_Curso\\\\data_science_apr_2021',\n",
       " 'z:\\\\Data_Science\\\\TheBridge\\\\Content\\\\Contenido_Curso\\\\data_science_apr_2021',\n",
       " 'z:\\\\Data_Science\\\\TheBridge\\\\Content\\\\Contenido_Curso\\\\data_science_apr_2021']"
      ]
     },
     "metadata": {},
     "execution_count": 18
    }
   ],
   "source": [
    "# El objetivo es añadir al sys.path la ruta de la carpeta raiz que está N carpetas por encima de la que contiene el archivo que se está ejecutando\n",
    "ruta = os.getcwd()\n",
    "print(ruta)\n",
    "N = 5\n",
    "for i in range(N):\n",
    "    ruta = os.path.dirname(ruta)\n",
    "    print(ruta)\n",
    "sys.path.append(ruta)\n",
    "sys.path"
   ]
  },
  {
   "cell_type": "code",
   "execution_count": 23,
   "metadata": {},
   "outputs": [
    {
     "output_type": "execute_result",
     "data": {
      "text/plain": [
       "'\\\\'"
      ]
     },
     "metadata": {},
     "execution_count": 23
    }
   ],
   "source": [
    "os.sep "
   ]
  },
  {
   "cell_type": "code",
   "execution_count": 17,
   "metadata": {},
   "outputs": [
    {
     "output_type": "execute_result",
     "data": {
      "text/plain": [
       "2"
      ]
     },
     "metadata": {},
     "execution_count": 17
    }
   ],
   "source": [
    "import week3_course_python_III.day2_python_VIII.theory.imports.mi_modulo as mm\n",
    "\n",
    "mm.x"
   ]
  },
  {
   "cell_type": "code",
   "execution_count": null,
   "metadata": {},
   "outputs": [],
   "source": [
    "# Siempre existe una carpeta raiz"
   ]
  },
  {
   "cell_type": "code",
   "execution_count": 5,
   "metadata": {},
   "outputs": [
    {
     "output_type": "stream",
     "name": "stdout",
     "text": [
      "\\\n"
     ]
    }
   ],
   "source": [
    "print(\"\\\\\")"
   ]
  },
  {
   "cell_type": "code",
   "execution_count": 9,
   "metadata": {},
   "outputs": [
    {
     "output_type": "stream",
     "name": "stdout",
     "text": [
      "\"\n"
     ]
    }
   ],
   "source": [
    "print(\"\\\"\")"
   ]
  },
  {
   "cell_type": "code",
   "execution_count": null,
   "metadata": {},
   "outputs": [],
   "source": []
  }
 ],
 "metadata": {
  "kernelspec": {
   "name": "python36464bitc2077ed07ea84d23aa5b518d224882ab",
   "display_name": "Python 3.6.4 64-bit"
  },
  "language_info": {
   "codemirror_mode": {
    "name": "ipython",
    "version": 3
   },
   "file_extension": ".py",
   "mimetype": "text/x-python",
   "name": "python",
   "nbconvert_exporter": "python",
   "pygments_lexer": "ipython3",
   "version": "3.6.4"
  },
  "metadata": {
   "interpreter": {
    "hash": "5c4d2f1fdcd3716c7a5eea90ad07be30193490dd4e63617705244f5fd89ea793"
   }
  }
 },
 "nbformat": 4,
 "nbformat_minor": 4
}