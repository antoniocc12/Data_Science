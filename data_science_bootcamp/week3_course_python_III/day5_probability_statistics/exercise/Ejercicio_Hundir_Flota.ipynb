{
 "cells": [
  {
   "cell_type": "markdown",
   "metadata": {},
   "source": [
    "# Ejercicio Hundir La Flota | Challenge yourself \n",
    "\n",
    "#### La fecha de entrega está limitada al próximo 16/05/2021"
   ]
  },
  {
   "cell_type": "markdown",
   "metadata": {},
   "source": [
    "En este ejercicio deberás programar el juego **hundir la flota** o [**batalla naval**](https://es.wikipedia.org/wiki/Batalla_naval_(juego)) "
   ]
  },
  {
   "cell_type": "markdown",
   "metadata": {},
   "source": [
    "El tablero de este juego será una matriz de 10x10 dimensiones, matriz sobre la que plamaremos el estado de cada turno. Cada matriz de información continente del estado en cada momento, se mostrará por pantalla."
   ]
  },
  {
   "cell_type": "markdown",
   "metadata": {},
   "source": [
    "![tablero](https://i.pinimg.com/474x/1c/66/ca/1c66ca8d767428dcd1c39285643f3987--yahoo-search.jpg)"
   ]
  },
  {
   "cell_type": "markdown",
   "metadata": {},
   "source": [
    "**Las reglas son las siguientes:**\n",
    "\n",
    "- Cada jugador deberá colocar en su tablero:\n",
    "    - 4 barcos tamaño 2x1. \n",
    "\n",
    "    - 3 barcos tamaño 3x1.\n",
    "\n",
    "    - 2 barcos tamaño 4x1.\n",
    "    \n",
    "    - 1 barco tamaño 5x1. \n",
    "    \n",
    "\n",
    "- En cada turno, el jugador correspondiente debe elegir una casilla de la matriz (10x10) y ambos jugadores marcarán la casilla en la matriz.\n",
    "- Si la casilla que se ha elegido es agua, será marcada como un una \"**o**\" y si la casilla que ha marcado es uno de los barcos, la casilla será marcada con una \"**x**\". \n",
    "- Los barcos han de ser mostrados con un \"__#__\" en la matriz. \n",
    "- Los espacios con agua serán mostrados como \" \" ó \"**~**\".\n",
    "\n",
    "Antes de que comience la partida, cada jugador deberá crear su estado inicial. El estado inicial es una configuración de la matriz con todos los barcos colocados. Para ello, el programa debería preguntar, uno a uno, dónde se quiere colocar cada barco. El estilo de pregunta, ha de ser: \n",
    "\n",
    "- Inserte la posición del barco 1 (2x1). El usuario ha de escribir si se quiere insertar en la 4a fila, en horizontal y ocupando las últimas dos columnas: `4h9:10`.\n",
    "- Inserte la posición del barco 2 (2x1). El usuario ha de escribir si se quiere insertar en la 8a fila, en horizontal y ocupando las dos primeras columnas: `8h1:2`.\n",
    "- Inserte la posición del barco 3 (5x1). Si se quiere colocar en vertical empezando por la fila 1 a la 5 y columna 8: `8v1:5`.\n",
    "\n",
    "También tendrás la opción de cargar una partida anteriormente definida en formato [JSON](https://www.w3schools.com/python/python_json.asp).\n",
    "\n",
    "Para saber quién empieza a jugar, los jugadores deberán ponerse de acuerdo para que uno de ellos sea el que llame a una función que devuelva dos valores random del 1 al 6, de tipo entero. El primer valor que se muestre por pantalla será el correspondiente al jugador que llama a la función, el segundo será el del contrincante. Quien saque un valor más alto, empieza. \n",
    "\n",
    "Además, el programa guardará el nombre de los jugadores y el histórico, es decir, todos los estados de la partida. Para ello se utilizará el formato JSON.\n",
    "\n",
    "Cuando un jugador haya creado su estado inicial, este estado también deberá ser guardado en formato JSON. Antes de que se inicie la partida, el otro jugador deberá cargar tu estado inicial y tú el suyo. El estado inicial del enemigo es el que usará tu programa para comprobar si las coordenadas que has utilizado han acertado en el blanco o no. \n",
    "\n",
    "El formato de preguntas por turno es: \n",
    "\n",
    "- `Inserte coordenadas a atacar:`. La respuesta válida será `0x8` --> fila 0, columna 8. \n",
    "\n",
    "Una vez insertada las coordenadas, deberá resultar que aparezcan tu matriz y la matriz de estado de tu enemigo, esta última con la nueva coordenada marcada sin la flota excepto si el torpedo hubiera dado en el blanco. "
   ]
  },
  {
   "cell_type": "markdown",
   "metadata": {},
   "source": [
    "**A modo de resumen:**\n",
    "\n",
    "1. Se eligen los nombres de jugador. ¡Recuerda no dejar espacios!\n",
    "\n",
    "2. Se pregunta sobre las posiciones de tu flota. Una vez que se haya definido, el sistema debe guardar en JSON el estado de tu flota. OPCIONAL: Puedes cargar una partida a partir de un fichero JSON.\n",
    "\n",
    "3. Se carga el estado inicial de tu enemigo a partir de un fichero JSON que te habrá definido previamente. El fichero estará en una carpeta llamada \"Partidas_Batalla_Naval\". Para cargar el fichero se debe introducir la ruta o nombre del fichero. \n",
    "\n",
    "4. Cuando ambos estéis en el mismo punto y se sepa quién es el primero, se debe escribir *primero* o *segundo*. Si eres primero, el sistema empezará preguntándote las coordenadas. Si eres segundo, el sistema preguntará por las coordenadas del rival. \n",
    "\n",
    "5. Se debe mostrar por pantalla dos matrices: una matriz 10x10 que representa los puntos que has ido marcando, que no mostrará la flota del enemigo excepto si algún barco ha sido dañado, y otra a la derecha que muestre tu flota con los puntos que hayan sido atacados por parte del contrincante. \n",
    "\n",
    "6. Cuando toda la flota de uno de los dos jugadores haya sido exterminada, se mostrará el ganador de la partida. Que si has sido tú el que ha programado este juego, ya habrás ganado incluso antes de empezar a jugar. "
   ]
  },
  {
   "source": [
    "----------------------------------------------------\n",
    "\n",
    "Hay dos tipos de bonus:\n",
    "\n",
    "1. Hacer todo usando clases. Como mínimo, crear una clase \"Barco\" y \"Tablero\"\n",
    "2. Toda la parte del JSON es un Bonus extra plus ++ con el objetivo de que se pueda cargar una partida con una configuración predeterminada. De esta forma, podrías configurar una estructura de barcos y que alguien juegue contra ti en su ordenador con esa estructura.\n",
    "3. ¿Habéis acabado todo esto antes de la fecha? Habla con los profesores :=) \n",
    "----------------------------------------------------"
   ],
   "cell_type": "markdown",
   "metadata": {}
  },
  {
   "cell_type": "markdown",
   "metadata": {},
   "source": [
    "Hay que programar este juego en varios archivos `.py` de modo que puedas ejecutar dicho programa por la terminal desde cualquier dispositivo. "
   ]
  },
  {
   "cell_type": "code",
   "execution_count": 10,
   "metadata": {},
   "outputs": [
    {
     "output_type": "execute_result",
     "data": {
      "text/plain": [
       "[['~', '~', '~', '~', '~', '~', '~', '~', '~', '~'],\n",
       " ['~', '~', '~', '~', '~', '~', '~', '~', '~', '~'],\n",
       " ['~', '~', '~', '~', '~', '~', '~', '~', '~', '~'],\n",
       " ['~', '~', '~', '~', '~', '~', '~', '~', '~', '~'],\n",
       " ['~', '~', '~', '~', '~', '~', '~', '~', '~', '~'],\n",
       " ['~', '~', '~', '~', '~', '~', '~', '~', '~', '~'],\n",
       " ['~', '~', '~', '~', '~', '~', '~', '~', '~', '~'],\n",
       " ['~', '~', '~', '~', '~', '~', '~', '~', '~', '~'],\n",
       " ['~', '~', '~', '~', '~', '~', '~', '~', '~', '~'],\n",
       " ['~', '~', '~', '~', '~', '~', '~', '~', '~', '~']]"
      ]
     },
     "metadata": {},
     "execution_count": 10
    }
   ],
   "source": [
    "# keep calm and keep coding\n",
    "def matriz_barco (fila,columna,caracter):\n",
    "    \n",
    "    matriz = []\n",
    "    for i in range(fila):\n",
    "        a = [caracter]*columna\n",
    "        matriz.append(a)\n",
    "    return matriz\n",
    "matriz_barco(10, 10, \"~\")"
   ]
  },
  {
   "cell_type": "code",
   "execution_count": null,
   "metadata": {},
   "outputs": [],
   "source": [
    "for i in matriz_barco:\n",
    "    import numpy as np \n",
    "            filas = int(input(\"Inserte el número de la fila\"))\n",
    "            columnas = int(input(\"Inserte el número de la columna\"))\n",
    "            posicion = input(\"Inserte la ubicacion: 'h' para horizontal y 'v' para vertical\")\n",
    "            np.array\n",
    "\n",
    "#Inserte la posición del barco 1 (2x1). El usuario ha de escribir si\n",
    "#  se quiere insertar en la 4a fila, en horizontal y ocupando las últimas \n",
    "# dos columnas: 4h9:10."
   ]
  },
  {
   "cell_type": "code",
   "execution_count": null,
   "metadata": {},
   "outputs": [],
   "source": [
    "\"\"\"Crea un tablero de 10x10 relleno del carácter espacio ( ).\n",
    "Posiciona un par de barcos en (0,1), (1,1) y (1,3), (1,4), (1,5), (1,6). Los barcos serán Os mayúsculas. Como ves, un barco de dos posiciones de eslora y otro de cuatro.\n",
    "Recibe un disparo en uno de los barcos, sustituyendo la O por una X\n",
    "Recibe un disparo en agua, sustituyendo uno de los espacios por un guión: -\n",
    "Ignorando los disparos recibidos, ahora prueba a posicionar otro barco de 4 posiciones dentro del tablero, pero de manera ALEATORIA.\n",
    "TIP apartado 5: El barco tendrá una posición inicial aleatoria dentro del tablero, y una orientación también aleatoria (N,S,E,O)\"\"\""
   ]
  },
  {
   "cell_type": "code",
   "execution_count": 4,
   "metadata": {},
   "outputs": [
    {
     "output_type": "error",
     "ename": "TypeError",
     "evalue": "'function' object does not support item assignment",
     "traceback": [
      "\u001b[1;31m---------------------------------------------------------------------------\u001b[0m",
      "\u001b[1;31mTypeError\u001b[0m                                 Traceback (most recent call last)",
      "\u001b[1;32m<ipython-input-4-c44c7723b3dd>\u001b[0m in \u001b[0;36m<module>\u001b[1;34m\u001b[0m\n\u001b[1;32m----> 1\u001b[1;33m \u001b[0mmatriz_barco\u001b[0m\u001b[1;33m[\u001b[0m\u001b[1;36m4\u001b[0m\u001b[1;33m,\u001b[0m \u001b[1;36m9\u001b[0m\u001b[1;33m:\u001b[0m\u001b[1;36m10\u001b[0m\u001b[1;33m]\u001b[0m \u001b[1;33m=\u001b[0m \u001b[1;34m\"#\"\u001b[0m\u001b[1;33m\u001b[0m\u001b[1;33m\u001b[0m\u001b[0m\n\u001b[0m\u001b[0;32m      2\u001b[0m \u001b[0mprint\u001b[0m\u001b[1;33m(\u001b[0m\u001b[0mmatriz_barco\u001b[0m\u001b[1;33m)\u001b[0m\u001b[1;33m\u001b[0m\u001b[1;33m\u001b[0m\u001b[0m\n",
      "\u001b[1;31mTypeError\u001b[0m: 'function' object does not support item assignment"
     ]
    }
   ],
   "source": [
    "matriz_barco[4, 9:10] = \"#\"\n",
    "print(matriz_barco)"
   ]
  },
  {
   "cell_type": "code",
   "execution_count": 29,
   "metadata": {},
   "outputs": [
    {
     "output_type": "stream",
     "name": "stdout",
     "text": [
      "[['~', '~', '~', '~', '~', '~', '~', '~', '~', '~'], ['~', '~', '~', '~', '~', '~', '~', '~', '~', '~'], ['~', '~', '~', '~', '~', '~', '~', '~', '~', '~'], ['~', '~', '~', '~', '~', '~', '~', '~', '~', '~'], ['~', '~', '~', '~', '~', '~', '~', '~', '~', '~'], ['~', '~', '~', '~', '~', '~', '~', '~', '~', '~'], ['~', '~', '~', '~', '~', '~', '~', '~', '~', '~'], ['~', '~', '~', '~', '~', '~', '~', '~', '~', '~'], ['~', '~', '~', '~', '~', '~', '~', '~', '~', '~'], ['~', '~', '~', '~', '~', '~', '~', '~', '~', '~']]\n"
     ]
    }
   ],
   "source": [
    "matriz = []\n",
    "fila = 10\n",
    "columna = 10\n",
    "caracter = \"~\"   \n",
    "for i in range(fila):\n",
    "    a = [caracter]*columna\n",
    "    matriz.append(a)\n",
    "print(matriz)"
   ]
  },
  {
   "cell_type": "code",
   "execution_count": 30,
   "metadata": {},
   "outputs": [
    {
     "output_type": "execute_result",
     "data": {
      "text/plain": [
       "[['~', '~', '~', '~', '~', '~', '~', '~', '~', '~'],\n",
       " ['~', '~', '~', '~', '~', '~', '~', '~', '~', '~'],\n",
       " ['~', '~', '~', '~', '~', '~', '~', '~', '~', '~'],\n",
       " ['~', '~', '~', '~', '~', '~', '~', '~', '~', '~'],\n",
       " ['~', '~', '~', '~', '~', '~', '~', '~', '~', '~'],\n",
       " ['~', '~', '~', '~', '~', '~', '~', '~', '~', '~'],\n",
       " ['~', '~', '~', '~', '~', '~', '~', '~', '~', '~'],\n",
       " ['~', '~', '~', '~', '~', '~', '~', '~', '~', '~'],\n",
       " ['~', '~', '~', '~', '~', '~', '~', '~', '~', '~'],\n",
       " ['~', '~', '~', '~', '~', '~', '~', '~', '~', '~']]"
      ]
     },
     "metadata": {},
     "execution_count": 30
    }
   ],
   "source": [
    "matriz"
   ]
  },
  {
   "cell_type": "code",
   "execution_count": 33,
   "metadata": {},
   "outputs": [
    {
     "output_type": "execute_result",
     "data": {
      "text/plain": [
       "[['~', '~', '~', '~', '~', '~', '~', '~', '~', '~'],\n",
       " ['~', '~', '~', '~', '~', '~', '~', '~', '~', '~'],\n",
       " ['~', '~', '~', '~', '~', '~', '~', '~', '~', '~'],\n",
       " ['~', '#', '~', '~', '~', '~', '~', '~', '~'],\n",
       " ['~', '~', '~', '~', '~', '~', '~', '~', '~', '~'],\n",
       " ['~', '~', '~', '~', '~', '~', '~', '~', '~', '~'],\n",
       " ['~', '~', '~', '~', '~', '~', '~', '~', '~', '~'],\n",
       " ['~', '~', '~', '~', '~', '~', '~', '~', '~', '~'],\n",
       " ['~', '~', '~', '~', '~', '~', '~', '~', '~', '~'],\n",
       " ['~', '~', '~', '~', '~', '~', '~', '~', '~', '~']]"
      ]
     },
     "metadata": {},
     "execution_count": 33
    }
   ],
   "source": [
    "matriz[3][1:3] = \"#\"\n",
    "matriz"
   ]
  },
  {
   "cell_type": "code",
   "execution_count": 59,
   "metadata": {},
   "outputs": [
    {
     "output_type": "execute_result",
     "data": {
      "text/plain": [
       "array([['~', '~', '~', '~', '~', '~', '~', '~', '~', '~'],\n",
       "       ['~', '~', '~', '~', '~', '~', '~', '~', '~', '~'],\n",
       "       ['~', '~', '~', '~', '~', '~', '~', '~', '~', '~'],\n",
       "       ['~', '~', '~', '~', '~', '~', '~', '~', '~', '~'],\n",
       "       ['~', '~', '#', '#', '~', '~', '~', '~', '~', '~'],\n",
       "       ['~', '~', '#', '#', '~', '~', '~', '~', '~', '~'],\n",
       "       ['~', '~', '~', '~', '~', '~', '~', '~', '~', '~'],\n",
       "       ['#', '#', '#', '~', '~', '~', '~', '~', '~', '~'],\n",
       "       ['#', '#', '#', '~', '~', '~', '~', '~', '~', '~'],\n",
       "       ['~', '~', '~', '~', '~', '~', '~', '~', '~', '~']], dtype='<U1')"
      ]
     },
     "metadata": {},
     "execution_count": 59
    }
   ],
   "source": [
    "matrix \n",
    "matrix[4, 2:4] = \"#\"\n",
    "matrix[5, 2:4] = \"#\"\n",
    "matrix[7:9, 0:3] = \"#\"\n",
    "matrix\n"
   ]
  },
  {
   "cell_type": "code",
   "execution_count": 4,
   "metadata": {},
   "outputs": [
    {
     "output_type": "execute_result",
     "data": {
      "text/plain": [
       "array([['~', '~', '~', '~', '~', '~', '~', '~', '~', '~'],\n",
       "       ['~', '~', '~', '~', '~', '~', '~', '~', '~', '~'],\n",
       "       ['~', '~', '~', '~', '~', '~', '~', '~', '~', '~'],\n",
       "       ['~', '~', '~', '~', '~', '~', '~', '~', '~', '~'],\n",
       "       ['~', '~', '~', '~', '~', '~', '~', '~', '~', '~'],\n",
       "       ['~', '~', '~', '~', '~', '~', '~', '~', '~', '~'],\n",
       "       ['~', '~', '~', '~', '~', '~', '~', '~', '~', '~'],\n",
       "       ['~', '~', '~', '~', '~', '~', '~', '~', '~', '~'],\n",
       "       ['~', '~', '~', '~', '~', '~', '~', '~', '~', '~'],\n",
       "       ['~', '~', '~', '~', '~', '~', '~', '~', '~', '~']], dtype='<U1')"
      ]
     },
     "metadata": {},
     "execution_count": 4
    }
   ],
   "source": [
    "def matriz_barco (fila,columna,caracter):\n",
    "\n",
    "    import numpy as np\n",
    "    matrix = np.full((fila,columna), str(caracter))\n",
    "    return matrix\n",
    "\n",
    "matriz_barco (fila=10,columna=10,caracter=\"~\")"
   ]
  },
  {
   "cell_type": "code",
   "execution_count": null,
   "metadata": {},
   "outputs": [],
   "source": [
    "tablero = np.full((10,10), \" \")\n",
    "#[0:2, 0:2 ]\n",
    "barco_1 = tablero[0:2, 1:2] = \"O\"\n",
    "#tablero[1,1] = \"O\"\n",
    "barco_2 = tablero[1:2:,3:7] = \"O\""
   ]
  },
  {
   "cell_type": "code",
   "execution_count": 1,
   "metadata": {},
   "outputs": [
    {
     "output_type": "stream",
     "name": "stdout",
     "text": [
      "_|_|_|_|_|_|_|_|_|_|\n_|_|_|_|_|_|_|_|_|_|\n_|_|_|_|_|_|_|_|_|_|\n_|_|_|_|_|_|_|_|_|_|\n_|_|_|_|_|_|_|_|_|_|\n_|_|_|_|_|_|_|_|_|_|\n_|_|_|_|_|_|_|_|_|_|\n_|_|_|_|_|_|_|_|_|_|\n_|_|_|_|_|_|_|_|_|_|\n_|_|_|_|_|_|_|_|_|_|\n"
     ]
    }
   ],
   "source": [
    "def create_board():\n",
    "    for i in range(10):\n",
    "        print(\"_|\" * 10)\n",
    "\n",
    "create_board()"
   ]
  },
  {
   "cell_type": "code",
   "execution_count": null,
   "metadata": {},
   "outputs": [],
   "source": []
  }
 ],
 "metadata": {
  "file_extension": ".py",
  "kernelspec": {
   "name": "python374jvsc74a57bd0a9b83ec4160fc914f5169c2fc0bc9ab1c02e189a457abfa966969b692f6336e9",
   "display_name": "Python 3.7.4 64-bit"
  },
  "language_info": {
   "codemirror_mode": {
    "name": "ipython",
    "version": 3
   },
   "file_extension": ".py",
   "mimetype": "text/x-python",
   "name": "python",
   "nbconvert_exporter": "python",
   "pygments_lexer": "ipython3",
   "version": "3.7.4"
  },
  "mimetype": "text/x-python",
  "name": "python",
  "npconvert_exporter": "python",
  "pygments_lexer": "ipython3",
  "version": 3,
  "metadata": {
   "interpreter": {
    "hash": "a9b83ec4160fc914f5169c2fc0bc9ab1c02e189a457abfa966969b692f6336e9"
   }
  }
 },
 "nbformat": 4,
 "nbformat_minor": 4
}