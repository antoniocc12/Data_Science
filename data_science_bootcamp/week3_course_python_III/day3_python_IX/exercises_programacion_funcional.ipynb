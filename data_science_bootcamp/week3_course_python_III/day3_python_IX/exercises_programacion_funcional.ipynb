{
 "cells": [
  {
   "cell_type": "markdown",
   "metadata": {},
   "source": [
    "# Python | Programación funcional\n",
    "\n",
    "### Ejercicio 1.\n",
    "\n",
    "1. Utiliza `reduce` para concatenar estas palabras en una frase\n",
    "```Python\n",
    "ejer_1 = (\"to\", \"be\", \"or\", \"not\", \"to\", \"be\", \"that\", \"is\", \"the\", \"question\")\n",
    "```"
   ]
  },
  {
   "cell_type": "code",
   "execution_count": 1,
   "metadata": {},
   "outputs": [],
   "source": [
    "ejer_1 = (\"to\", \"be\", \"or\", \"not\", \"to\", \"be\", \"that\", \"is\", \"the\", \"question\")"
   ]
  },
  {
   "cell_type": "code",
   "execution_count": 5,
   "metadata": {},
   "outputs": [
    {
     "output_type": "execute_result",
     "data": {
      "text/plain": [
       "'to be or not to be that is the question'"
      ]
     },
     "metadata": {},
     "execution_count": 5
    }
   ],
   "source": [
    "from functools import reduce\n",
    "\n",
    "reduce(lambda x, y: x + \" \" + y, ejer_1)"
   ]
  },
  {
   "cell_type": "markdown",
   "metadata": {},
   "source": [
    "2. Obtén una nueva tupla con el cuadrado de cada elemento de la siguiente tupla\n",
    "\n",
    "```Python\n",
    "ejer_2 = (1,2,3,4,5)\n",
    "```"
   ]
  },
  {
   "cell_type": "code",
   "execution_count": 6,
   "metadata": {},
   "outputs": [],
   "source": [
    "ejer_2 = (1,2,3,4,5)"
   ]
  },
  {
   "cell_type": "code",
   "execution_count": 8,
   "metadata": {},
   "outputs": [
    {
     "output_type": "execute_result",
     "data": {
      "text/plain": [
       "(1, 4, 9, 16, 25)"
      ]
     },
     "metadata": {},
     "execution_count": 8
    }
   ],
   "source": [
    "tuple(map(lambda x : x**2, ejer_2))"
   ]
  },
  {
   "cell_type": "markdown",
   "metadata": {},
   "source": [
    "3. Filtra aquellos elementos que sean multiplos de 3 o de 5\n",
    "```Python\n",
    "ejer_3 = (1,2,3,4,5,15,21,22,33,34,35)\n",
    "```"
   ]
  },
  {
   "cell_type": "code",
   "execution_count": 9,
   "metadata": {},
   "outputs": [],
   "source": [
    "ejer_3 = (1,2,3,4,5,15,21,22,33,34,35)"
   ]
  },
  {
   "cell_type": "code",
   "execution_count": 10,
   "metadata": {},
   "outputs": [
    {
     "output_type": "execute_result",
     "data": {
      "text/plain": [
       "[3, 5, 15, 21, 33, 35]"
      ]
     },
     "metadata": {},
     "execution_count": 10
    }
   ],
   "source": [
    "list(filter(lambda x: x%3==0 or x%5==0, ejer_3))"
   ]
  },
  {
   "cell_type": "markdown",
   "metadata": {},
   "source": [
    "4. Convierte la siguiente tupla de pesetas a euros\n",
    "```Python\n",
    "ejer_4 = (1000, 8000, 20000000, 40000000)\n",
    "```"
   ]
  },
  {
   "cell_type": "code",
   "execution_count": 13,
   "metadata": {},
   "outputs": [],
   "source": [
    "ejer_4 = (1000, 8000, 20000000, 40000000)"
   ]
  },
  {
   "cell_type": "code",
   "execution_count": 26,
   "metadata": {},
   "outputs": [
    {
     "output_type": "execute_result",
     "data": {
      "text/plain": [
       "[6.024096385542169, 48.19277108433735, 120481.92771084337, 240963.85542168675]"
      ]
     },
     "metadata": {},
     "execution_count": 26
    }
   ],
   "source": [
    "\n",
    "\n",
    "list(map(lambda a: a/166, ejer_4))\n",
    "\n",
    "\n"
   ]
  },
  {
   "cell_type": "markdown",
   "metadata": {},
   "source": [
    "5. Convierte la siguiente lista de desconocidos a mayusculas\n",
    "```Python\n",
    "ejer_5 = (\"Arya\", \"John\", \"Robb\", \"Bran\", \"Sansa\", \"Rickon\")\n",
    "```"
   ]
  },
  {
   "cell_type": "code",
   "execution_count": 27,
   "metadata": {},
   "outputs": [],
   "source": [
    "ejer_5 = (\"Arya\", \"John\", \"Robb\", \"Bran\", \"Sansa\", \"Rickon\")"
   ]
  },
  {
   "cell_type": "code",
   "execution_count": 29,
   "metadata": {},
   "outputs": [
    {
     "output_type": "execute_result",
     "data": {
      "text/plain": [
       "['ARYA', 'JOHN', 'ROBB', 'BRAN', 'SANSA', 'RICKON']"
      ]
     },
     "metadata": {},
     "execution_count": 29
    }
   ],
   "source": [
    "list(map(lambda x: x.upper(), ejer_5))"
   ]
  },
  {
   "cell_type": "markdown",
   "metadata": {},
   "source": [
    "6. Realiza un conversor de dias de la semana en texto a numerico (1-7), usando `map`.\n",
    "```Python\n",
    "ejer_6 = (\"Lunes\", \"Martes\", \"Miércoles\", \"Jueves\", \"Viernes\", \"Sábado\", \"Domingo\")\n",
    "```"
   ]
  },
  {
   "cell_type": "code",
   "execution_count": 30,
   "metadata": {},
   "outputs": [],
   "source": [
    "ejer_6 = (\"Lunes\", \"Martes\", \"Miércoles\", \"Jueves\", \"Viernes\", \"Sábado\", \"Domingo\")"
   ]
  },
  {
   "cell_type": "code",
   "execution_count": 84,
   "metadata": {},
   "outputs": [
    {
     "output_type": "execute_result",
     "data": {
      "text/plain": [
       "[1, 2, 3, 4, 5, 6, 7]"
      ]
     },
     "metadata": {},
     "execution_count": 84
    }
   ],
   "source": [
    "dias = [1, 2, 3, 4, 5, 6, 7]\n",
    "\n",
    "list(map(lambda x,y: x if x == \"\" else y, ejer_6,dias))\n"
   ]
  },
  {
   "cell_type": "markdown",
   "metadata": {},
   "source": [
    "7. Utiliza `map` para multiplicar elemento a elemento estas dos tuplas\n",
    "```Python\n",
    "ejer_7_1 = (2, 5, 8)\n",
    "ejer_7_2 = (6, 3, 2)\n",
    "```"
   ]
  },
  {
   "cell_type": "code",
   "execution_count": 39,
   "metadata": {},
   "outputs": [],
   "source": [
    "ejer_7_1 = (2, 5, 8)\n",
    "ejer_7_2 = (6, 3, 2)"
   ]
  },
  {
   "cell_type": "code",
   "execution_count": 41,
   "metadata": {},
   "outputs": [
    {
     "output_type": "execute_result",
     "data": {
      "text/plain": [
       "(12, 15, 16)"
      ]
     },
     "metadata": {},
     "execution_count": 41
    }
   ],
   "source": [
    "tuple(map(lambda a, b: a * b, ejer_7_1, ejer_7_2))"
   ]
  },
  {
   "cell_type": "markdown",
   "metadata": {},
   "source": [
    "8. Crea una tupla nueva con todos los coches que no sean VW :)\n",
    "\n",
    "```Python\n",
    "ejer_8 = (\"VW\", \"Audi\", \"Renault\", \"VW\", \"BMW\")\n",
    "```"
   ]
  },
  {
   "cell_type": "code",
   "execution_count": 42,
   "metadata": {},
   "outputs": [],
   "source": [
    "ejer_8 = (\"VW\", \"Audi\", \"Renault\", \"VW\", \"BMW\")"
   ]
  },
  {
   "cell_type": "code",
   "execution_count": 44,
   "metadata": {},
   "outputs": [
    {
     "output_type": "execute_result",
     "data": {
      "text/plain": [
       "('Audi', 'Renault', 'BMW')"
      ]
     },
     "metadata": {},
     "execution_count": 44
    }
   ],
   "source": [
    "tuple(filter(lambda x: x != \"VW\",ejer_8 ))"
   ]
  },
  {
   "cell_type": "markdown",
   "metadata": {},
   "source": [
    "9. Dadas las siguientes fechas en formato string, quedate con aquellas del año 2020\n",
    "\n",
    "```Python\n",
    "ejer_9 = (\"2019-04-08\", \"2020-10-10\", \"2020-01-22\", \"2019-07-13\", \"2019-02-01\")\n",
    "```"
   ]
  },
  {
   "cell_type": "code",
   "execution_count": 46,
   "metadata": {},
   "outputs": [],
   "source": [
    "ejer_9 = (\"2019-04-08\", \"2020-10-10\", \"2020-01-22\", \"2019-07-13\", \"2019-02-01\")"
   ]
  },
  {
   "cell_type": "code",
   "execution_count": 49,
   "metadata": {},
   "outputs": [
    {
     "output_type": "execute_result",
     "data": {
      "text/plain": [
       "('2019-04-08', '2019-07-13', '2019-02-01')"
      ]
     },
     "metadata": {},
     "execution_count": 49
    }
   ],
   "source": [
    "tuple(filter(lambda x: \"2020\" not in x,ejer_9 ))"
   ]
  },
  {
   "cell_type": "markdown",
   "metadata": {},
   "source": [
    "10. Filtra aquellos strings que sean [palíndromos](https://es.wikipedia.org/wiki/Pal%C3%ADndromo)\n",
    "```Python\n",
    "ejer_10 = (\"php\", \"w3r\", \"Python\", \"abcd\", \"Java\", \"aaa\")\n",
    "```"
   ]
  },
  {
   "cell_type": "code",
   "execution_count": 53,
   "metadata": {},
   "outputs": [],
   "source": [
    "ejer_10 = (\"php\", \"w3r\", \"Python\", \"abcd\", \"Java\", \"aaa\")"
   ]
  },
  {
   "cell_type": "code",
   "execution_count": 54,
   "metadata": {},
   "outputs": [
    {
     "output_type": "execute_result",
     "data": {
      "text/plain": [
       "('php', 'aaa')"
      ]
     },
     "metadata": {},
     "execution_count": 54
    }
   ],
   "source": [
    "tuple(filter(lambda x: x[::-1] == x,ejer_10 ))"
   ]
  },
  {
   "cell_type": "markdown",
   "metadata": {},
   "source": [
    "### Bonus Track.\n",
    "\n",
    "- Resuelve esta kata usando `map`\n",
    "https://www.codewars.com/kata/554b4ac871d6813a03000035\n",
    "\n",
    "Nota: si es demasiado difícil intenta resolverla sin usar `map` y si lo consigues, vuelve a resolverla usando `map`."
   ]
  }
 ],
 "metadata": {
  "kernelspec": {
   "name": "python374jvsc74a57bd0a9b83ec4160fc914f5169c2fc0bc9ab1c02e189a457abfa966969b692f6336e9",
   "display_name": "Python 3.7.4 64-bit"
  },
  "language_info": {
   "codemirror_mode": {
    "name": "ipython",
    "version": 3
   },
   "file_extension": ".py",
   "mimetype": "text/x-python",
   "name": "python",
   "nbconvert_exporter": "python",
   "pygments_lexer": "ipython3",
   "version": "3.7.4"
  },
  "metadata": {
   "interpreter": {
    "hash": "a9b83ec4160fc914f5169c2fc0bc9ab1c02e189a457abfa966969b692f6336e9"
   }
  }
 },
 "nbformat": 4,
 "nbformat_minor": 4
}