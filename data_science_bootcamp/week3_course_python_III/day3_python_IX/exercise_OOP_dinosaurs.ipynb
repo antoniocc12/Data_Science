{
 "cells": [
  {
   "cell_type": "markdown",
   "metadata": {
    "id": "BuQ4CAHwm9h5"
   },
   "source": [
    "# Python | object oriented programming"
   ]
  },
  {
   "cell_type": "markdown",
   "metadata": {
    "id": "FxPBIJLgm9iA"
   },
   "source": [
    "#### ¡Practice what you already know and keep learning!"
   ]
  },
  {
   "cell_type": "markdown",
   "metadata": {
    "id": "mk5uo_y1m9iB"
   },
   "source": [
    "![\"con_clase\"](https://cdn.ttgtmedia.com/rms/onlineimages/whatis-object_oriented_programming_half_column_mobile.png)"
   ]
  },
  {
   "cell_type": "markdown",
   "metadata": {
    "id": "I8XXMNCmm9iC"
   },
   "source": [
    "https://realpython.com/python3-object-oriented-programming/"
   ]
  },
  {
   "cell_type": "markdown",
   "metadata": {
    "id": "IvEq9-fkm9iD"
   },
   "source": [
    "## Exercise 1. "
   ]
  },
  {
   "cell_type": "markdown",
   "metadata": {
    "id": "1ZuDAWtPm9iE"
   },
   "source": [
    "A friend of yours have asked you to define a class so they can use it at the Natural History Museum in London in order to describe dinosaurs. \n",
    "\n",
    "Since you have no idea about dinosaurs he has given you a couple of instructions:\n",
    "\n",
    "   - Dinosaurs have four attributes all along the whole kind:\n",
    "        - They all have teeth, although every one of them have a different number of those\n",
    "        - Special skills which will be an empty list \n",
    "        - He finds interesting to specify if they are dangerous with a boolean, he also told you to set it False since usually they are very nice \n",
    "        - All of them have an only head\n",
    "        \n",
    "        \n",
    "   - Define also a couple of methods:\n",
    "   \n",
    "       - `many_teeth` --> number of teeth gives you a clue of how old the dinosaurs are, that's why it could be interesting to be able to change the number of teeth they have.\n",
    "       - `add_skill` --> this method add skills to each dinosaurs instance. \n",
    "       - `is_dangerous` --> not all of the dinosaurs are nice, some of them are a little bit dangerous and could attacks you, with this method you should be able to change the boolean set. Make sure, using `if`, the argument is always a boolean, if not print something like \"Remember you should give a boolean, True or False?\"\n"
   ]
  },
  {
   "cell_type": "code",
   "execution_count": 5,
   "metadata": {
    "id": "vO98GInMm9iG"
   },
   "outputs": [],
   "source": [
    "# define a class Dinosaur\n",
    "class Dinosaur():\n",
    "    \n",
    "    def __init__(self, teeth, dangerous=False,special_skills = list(), head=1):\n",
    "\n",
    "        self.teeth = teeth\n",
    "        self.special_skills = special_skills\n",
    "        self.dangerous = dangerous\n",
    "        self.head = head\n",
    "       \n",
    "    def many_teeth(self, teeth):\n",
    "        self.teeth = teeth\n",
    "        print (\"The number of teeth as\", self.teeth) \n",
    "    \n",
    "    def add_skill(self,special_skills):\n",
    "        self.special_skills.append(special_skills)\n",
    "                                \n",
    "        print(\"The skills of this type of dinosaurs is\",self.special_skills)\n",
    "         \n",
    "         \n",
    "    def is_dangerous(self, peligroso):\n",
    "        if type(peligroso) != bool:\n",
    "            print(\"Remember you should give a boolean, True or False?\")\n",
    "        else:\n",
    "            self.dangerous = peligroso\n",
    "            print (\"This type of dinosaur is dangerous:\", self.dangerous)\n",
    "            \n",
    "           \n",
    "              \n",
    "        \n",
    "    "
   ]
  },
  {
   "cell_type": "markdown",
   "metadata": {
    "id": "2bdz2TUBm9iG"
   },
   "source": [
    "Once you have the class Dinosaur and its methods defined, create an instance **tyrannosaurus**. Your friend has told you that Tyrannosaurus rex had 50 to 60 solid cone-shaped teeth as big as bananas. Set the number of teeth as 60 since you will have the opportunity of changing it later using the method `many_teeth`. "
   ]
  },
  {
   "cell_type": "code",
   "execution_count": 3,
   "metadata": {},
   "outputs": [],
   "source": []
  },
  {
   "cell_type": "code",
   "execution_count": 9,
   "metadata": {
    "id": "5jH0onglm9iH"
   },
   "outputs": [
    {
     "output_type": "stream",
     "name": "stdout",
     "text": [
      "The number of teeth as 60\n"
     ]
    }
   ],
   "source": [
    "# create an Tyrannosaurus rex with 60 teeth\n",
    "\n",
    "tyrannosaurus = Dinosaur(teeth=60,)\n",
    "tyrannosaurus.many_teeth(60)\n",
    "\n",
    "\n",
    "\n"
   ]
  },
  {
   "cell_type": "markdown",
   "metadata": {
    "id": "AYggIHH3m9iH"
   },
   "source": [
    "Tyrannosaurus rex are the most dangerous dinosaurs so please, use the method `is_dangerous` with the argument \"yes, it is dangerous\", to set this up. It should return a message telling you to give a boolean, True or False, instead of the string you used as argument. "
   ]
  },
  {
   "cell_type": "code",
   "execution_count": 17,
   "metadata": {
    "id": "AAGTApnZm9iH"
   },
   "outputs": [
    {
     "output_type": "stream",
     "name": "stdout",
     "text": [
      "Remember you should give a boolean, True or False?\n"
     ]
    }
   ],
   "source": [
    "# call is_dangerous method saying \"yes, it is dangerous\"\n",
    "\n",
    "tyrannosaurus.is_dangerous(\"yes, it is dangerous\")"
   ]
  },
  {
   "cell_type": "markdown",
   "metadata": {
    "id": "2fVZ77J-m9iI"
   },
   "source": [
    "Good try! But you need to set this with a boolean. Since tyrannosaurus rex are dangerous give True as an argument to the method `is_dangerous`."
   ]
  },
  {
   "cell_type": "code",
   "execution_count": 10,
   "metadata": {
    "id": "zmsAIyp6m9iI"
   },
   "outputs": [
    {
     "output_type": "stream",
     "name": "stdout",
     "text": [
      "This type of dinosaur is dangerous: True\n"
     ]
    }
   ],
   "source": [
    "# call is_dangerous method with True as an argument\n",
    "\n",
    "tyrannosaurus.is_dangerous(True)\n"
   ]
  },
  {
   "cell_type": "markdown",
   "metadata": {
    "id": "sKf-Ear1m9iI"
   },
   "source": [
    "Set \"lethality\" as an special skill of the tyrannosaurus rex using the `add_skill` method. "
   ]
  },
  {
   "cell_type": "code",
   "execution_count": 19,
   "metadata": {
    "id": "G53h3xq6m9iI"
   },
   "outputs": [
    {
     "output_type": "stream",
     "name": "stdout",
     "text": [
      "The skills of this type of dinosaurs is ['lethality']\n"
     ]
    }
   ],
   "source": [
    "# give lethality as an argument to the method add_skill\n",
    "\n",
    "tyrannosaurus.add_skill(\"lethality\")\n"
   ]
  },
  {
   "cell_type": "markdown",
   "metadata": {
    "id": "eSbRsbgLm9iJ"
   },
   "source": [
    "Show its `special_skill` to make sure you add the skill as expected."
   ]
  },
  {
   "cell_type": "code",
   "execution_count": 20,
   "metadata": {
    "id": "0Ae44O1Gm9iJ"
   },
   "outputs": [
    {
     "output_type": "execute_result",
     "data": {
      "text/plain": [
       "['lethality']"
      ]
     },
     "metadata": {},
     "execution_count": 20
    }
   ],
   "source": [
    "# show its special_skill \n",
    "tyrannosaurus.special_skills \n"
   ]
  },
  {
   "cell_type": "markdown",
   "metadata": {
    "id": "fBytzaNfm9iK"
   },
   "source": [
    "If you could add \"lethality\" to the tyrannosaurus special skills, let's try now adding \"strength\"."
   ]
  },
  {
   "cell_type": "code",
   "execution_count": 21,
   "metadata": {
    "id": "ctA3qtr6m9iK"
   },
   "outputs": [
    {
     "output_type": "stream",
     "name": "stdout",
     "text": [
      "The skills of this type of dinosaurs is ['lethality', 'strength']\n"
     ]
    }
   ],
   "source": [
    "# add strength to the list of special_skill\n",
    "tyrannosaurus.add_skill(\"strength\")"
   ]
  },
  {
   "cell_type": "markdown",
   "metadata": {
    "id": "qz5Nw6cEm9iK"
   },
   "source": [
    "Now, you know a lot about tyrannosaurus rex and found out the most of them lose some teeth due to their diet during their life, so 50 teeth should be more realistic. Use `many_teeth` method. "
   ]
  },
  {
   "cell_type": "code",
   "execution_count": 22,
   "metadata": {
    "id": "z1bdi52Im9iK"
   },
   "outputs": [
    {
     "output_type": "stream",
     "name": "stdout",
     "text": [
      "The number of teeth as 50\n"
     ]
    }
   ],
   "source": [
    "# set 50 teeth as the number of teeth\n",
    "\n",
    "tyrannosaurus.many_teeth(50)"
   ]
  },
  {
   "cell_type": "markdown",
   "metadata": {
    "id": "o-7Bad0um9iL"
   },
   "source": [
    "Show the tyrannosaurus rex's attributes defining a dictionary called `tyrannosaurus_data`. The keys should be the attributes: `teeth`, `danger`, `head`, `special_skill`, and the values those given to the attributes during the exercise.\n",
    "\n",
    "*Hint: You could solve this exercise using a function. Try google.* "
   ]
  },
  {
   "cell_type": "code",
   "execution_count": 23,
   "metadata": {
    "id": "WOF38DGwm9iL"
   },
   "outputs": [
    {
     "output_type": "stream",
     "name": "stdout",
     "text": [
      "{'teeth': 50, 'special_skills': ['lethality', 'strength'], 'dangerous': True, 'head': 1}\n"
     ]
    }
   ],
   "source": [
    "# create the tyrannosaurus_data dictionary\n",
    "print(tyrannosaurus.__dict__)"
   ]
  },
  {
   "cell_type": "markdown",
   "metadata": {
    "id": "lBjvGXe6m9iL"
   },
   "source": [
    "Try to define a function named `if_danger` which check if **Dinosaur** is dangerous and if it is, then return something like \"RUN FOR YOUR LIFE, THIS GUY IS HUNGRY AND EAT PEOPLE\", in case the dinosaur isn't dangerous return \"all good, nothing to fear\".\n",
    "\n",
    "Call the function using as an argument the attribute `danger` of the **tyrannosaurus**."
   ]
  },
  {
   "cell_type": "code",
   "execution_count": 13,
   "metadata": {
    "id": "xpvjjRpsm9iL"
   },
   "outputs": [],
   "source": [
    "# define if_danger with one parameter\n",
    "\n",
    "def if_danger(danger):\n",
    "    if isinstance(danger,bool):\n",
    "        if danger == True:\n",
    "            return \"RUN FOR YOUR LIFE, THIS GUY IS HUNGRY AND EAT PEOPLE\"\n",
    "        else:\n",
    "            return \"all good, nothing to fear\"\n",
    "    else:\n",
    "        print(\"Remember you should give a boolean, True or False?\")\n",
    "\n",
    "\n",
    "\n",
    "              \n",
    "    \n",
    "        \n"
   ]
  },
  {
   "cell_type": "code",
   "execution_count": 14,
   "metadata": {
    "id": "HUoNuOwkm9iM"
   },
   "outputs": [
    {
     "output_type": "execute_result",
     "data": {
      "text/plain": [
       "'RUN FOR YOUR LIFE, THIS GUY IS HUNGRY AND EAT PEOPLE'"
      ]
     },
     "metadata": {},
     "execution_count": 14
    }
   ],
   "source": [
    "# invoked the if_danger function\n",
    "\n",
    "\n",
    "if_danger(danger=tyrannosaurus.dangerous)"
   ]
  },
  {
   "cell_type": "markdown",
   "metadata": {
    "id": "MBfcWvBWm9iM"
   },
   "source": [
    "## Bonus Track."
   ]
  },
  {
   "cell_type": "markdown",
   "metadata": {
    "id": "drkpY5I0m9iM"
   },
   "source": [
    "A company is opening a bank, but the coder who is designing the user class made some errors. They need you to help them.\n",
    "\n",
    "You must include the following:\n",
    "\n",
    "**A withdraw method**\n",
    "- Subtracts money from balance\n",
    "- One parameter, money to withdraw\n",
    "- Raise ValueError if there isn't enough money to withdraw\n",
    "- Return a string with name and balence(see examples)\n",
    "\n",
    "**A check method**\n",
    "- Adds money to baleance\n",
    "- Two parameters, other user and money\n",
    "- Other user will always be valid\n",
    "- Raise a ValueError if other user doesn't have enough money\n",
    "- Raise a ValueError if checking_account isn't true for other user\n",
    "- Return a string with name and balance plus other name and other balance(see examples)\n",
    "\n",
    "**An add_cash method**\n",
    "- Adds money to balance\n",
    "- One parameter, money to add\n",
    "- Return a string with name and balance(see examples)\n",
    "\n",
    "**Additional Notes:**\n",
    "\n",
    "- Checking_account should be stored as a boolean\n",
    "- No input numbers will be negitive\n",
    "- Output must end with period\n",
    "- Float numbers will not be used so, balance should be integer\n",
    "- No currency will be used"
   ]
  },
  {
   "cell_type": "markdown",
   "metadata": {
    "id": "tx13w3brm9iN"
   },
   "source": [
    "KATA --> https://www.codewars.com/kata/5a03af9606d5b65ff7000009"
   ]
  },
  {
   "cell_type": "markdown",
   "metadata": {
    "id": "36JztU-im9iN"
   },
   "source": [
    "**If you dare trying to solve this problem, you'll need this:** https://www.w3schools.com/python/gloss_python_raise.asp"
   ]
  },
  {
   "cell_type": "code",
   "execution_count": null,
   "metadata": {
    "id": "qCnnlCJgm9iN"
   },
   "outputs": [],
   "source": [
    "#your code here\n",
    "class User(object):\n",
    "    pass\n"
   ]
  }
 ],
 "metadata": {
  "colab": {
   "name": "exercise_OOP_dinosaurs.ipynb",
   "provenance": []
  },
  "kernelspec": {
   "name": "python374jvsc74a57bd0a9b83ec4160fc914f5169c2fc0bc9ab1c02e189a457abfa966969b692f6336e9",
   "display_name": "Python 3.7.4 64-bit"
  },
  "language_info": {
   "codemirror_mode": {
    "name": "ipython",
    "version": 3
   },
   "file_extension": ".py",
   "mimetype": "text/x-python",
   "name": "python",
   "nbconvert_exporter": "python",
   "pygments_lexer": "ipython3",
   "version": "3.7.4"
  },
  "metadata": {
   "interpreter": {
    "hash": "a9b83ec4160fc914f5169c2fc0bc9ab1c02e189a457abfa966969b692f6336e9"
   }
  }
 },
 "nbformat": 4,
 "nbformat_minor": 1
}