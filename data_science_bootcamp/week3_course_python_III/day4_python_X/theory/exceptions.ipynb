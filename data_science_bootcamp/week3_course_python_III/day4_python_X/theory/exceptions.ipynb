{
 "metadata": {
  "language_info": {
   "codemirror_mode": {
    "name": "ipython",
    "version": 3
   },
   "file_extension": ".py",
   "mimetype": "text/x-python",
   "name": "python",
   "nbconvert_exporter": "python",
   "pygments_lexer": "ipython3",
   "version": "3.7.4"
  },
  "orig_nbformat": 2,
  "kernelspec": {
   "name": "python374jvsc74a57bd0a9b83ec4160fc914f5169c2fc0bc9ab1c02e189a457abfa966969b692f6336e9",
   "display_name": "Python 3.7.4 64-bit"
  },
  "metadata": {
   "interpreter": {
    "hash": "a9b83ec4160fc914f5169c2fc0bc9ab1c02e189a457abfa966969b692f6336e9"
   }
  }
 },
 "nbformat": 4,
 "nbformat_minor": 2,
 "cells": [
  {
   "source": [
    "### Exceptions\n",
    "\n",
    "- Try/Except\n",
    "- Raise \n",
    "- Assert"
   ],
   "cell_type": "markdown",
   "metadata": {}
  },
  {
   "source": [
    "#### Try/Except"
   ],
   "cell_type": "markdown",
   "metadata": {}
  },
  {
   "cell_type": "code",
   "execution_count": null,
   "metadata": {},
   "outputs": [],
   "source": [
    "#try step sirve para gestionar el error. Intentar una guia de codigo y si sale bien rompemos el boucle. Muchas veces hay programas que no necesitan o deben ser parados, para eso se hace lo del try except, te continua el proceso pero te muestra el error. Eso se llama recursividad "
   ]
  },
  {
   "cell_type": "code",
   "execution_count": null,
   "metadata": {},
   "outputs": [],
   "source": []
  },
  {
   "cell_type": "code",
   "execution_count": null,
   "metadata": {},
   "outputs": [],
   "source": [
    "while True:\n",
    "    try:\n",
    "        x = int(input(\"Please enter a number: \"))\n",
    "        break\n",
    "    except ValueError:\n",
    "        print(\"Oops!  That was no valid number.  Try again...\")"
   ]
  },
  {
   "cell_type": "code",
   "execution_count": 1,
   "metadata": {},
   "outputs": [
    {
     "output_type": "stream",
     "name": "stdout",
     "text": [
      "1\n2\nHa dado error:\nError: string index out of range\nc\n4\nHa dado error:\nError: 'int' object is not subscriptable\n5\nHa dado error:\nError: list index out of range\n['xy']\n"
     ]
    }
   ],
   "source": [
    "lista = [\"a1\", \"b2\", \"c\", \"d4\", 5, [\"xy\"]]\n",
    "\n",
    "for elem in lista:\n",
    "    try:\n",
    "        print(elem[1])\n",
    "    except Exception as error:\n",
    "        print(\"Ha dado error:\")\n",
    "        print(\"Error:\", error)\n",
    "        print(elem)"
   ]
  },
  {
   "cell_type": "code",
   "execution_count": null,
   "metadata": {},
   "outputs": [],
   "source": [
    "def suma(a, b):\n",
    "    try:\n",
    "        print(a + b)\n",
    "    except Exception as error:\n",
    "        print(error)\n",
    "        suma(a=int(a), b=int(b), cont=cont+1) #esto es recursividad por que estoy dando una solución al problema para ver si puedo arreglarlo"
   ]
  },
  {
   "cell_type": "code",
   "execution_count": null,
   "metadata": {},
   "outputs": [],
   "source": [
    "ef suma(a, b):\n",
    "    try:\n",
    "        print(a + b)\n",
    "    except Exception as error:\n",
    "        try:\n",
    "            print(error)\n",
    "            suma(a=int(a), b=int(b), cont=cont+1) #esto es recursividad por que estoy dando una solución al problema para ver si puedo arreglarlo\n",
    "        except:\n",
    "            print(\"error y fin\")\n",
    "\n",
    "\n",
    "            \n",
    "suma(a=2,b=\"a\")"
   ]
  },
  {
   "source": [
    "#### Raise"
   ],
   "cell_type": "markdown",
   "metadata": {}
  },
  {
   "cell_type": "code",
   "execution_count": null,
   "metadata": {},
   "outputs": [],
   "source": [
    "x = input(\"Introduce un número\")\n",
    "\n",
    "try: \n",
    "    x = int(x)\n",
    "except:\n",
    "    raise Exception(\"No es un número\")\n"
   ]
  },
  {
   "source": [
    "#### Assert\n",
    "\n",
    "assert condition, error if condition != True"
   ],
   "cell_type": "markdown",
   "metadata": {}
  },
  {
   "cell_type": "code",
   "execution_count": 16,
   "metadata": {},
   "outputs": [
    {
     "output_type": "error",
     "ename": "AssertionError",
     "evalue": "x debe ser Adios",
     "traceback": [
      "\u001b[1;31m---------------------------------------------------------------------------\u001b[0m",
      "\u001b[1;31mAssertionError\u001b[0m                            Traceback (most recent call last)",
      "\u001b[1;32m<ipython-input-16-e6dc188cc324>\u001b[0m in \u001b[0;36m<module>\u001b[1;34m\u001b[0m\n\u001b[0;32m      1\u001b[0m \u001b[0mx\u001b[0m \u001b[1;33m=\u001b[0m \u001b[1;34m\"Hola\"\u001b[0m\u001b[1;33m\u001b[0m\u001b[0m\n\u001b[0;32m      2\u001b[0m \u001b[1;33m\u001b[0m\u001b[0m\n\u001b[1;32m----> 3\u001b[1;33m \u001b[1;32massert\u001b[0m \u001b[0mx\u001b[0m \u001b[1;33m==\u001b[0m \u001b[1;34m\"Adios\"\u001b[0m\u001b[1;33m,\u001b[0m \u001b[1;34m\"x debe ser Adios\"\u001b[0m\u001b[1;33m\u001b[0m\u001b[0m\n\u001b[0m\u001b[0;32m      4\u001b[0m \u001b[1;33m\u001b[0m\u001b[0m\n\u001b[0;32m      5\u001b[0m \u001b[0mprint\u001b[0m\u001b[1;33m(\u001b[0m\u001b[1;34m\"debajo del assert\"\u001b[0m\u001b[1;33m)\u001b[0m\u001b[1;33m\u001b[0m\u001b[0m\n",
      "\u001b[1;31mAssertionError\u001b[0m: x debe ser Adios"
     ]
    }
   ],
   "source": [
    "x = \"Hola\"\n",
    "\n",
    "assert x == \"Adios\", \"x debe ser Adios\"  #ese assert se debbe cumplir si o si para dejar pasar a la siguiente funcionalidad\n",
    "\n",
    "print(\"debajo del assert\")"
   ]
  },
  {
   "cell_type": "code",
   "execution_count": 1,
   "metadata": {},
   "outputs": [
    {
     "output_type": "stream",
     "name": "stdout",
     "text": [
      "debajo del assert\n"
     ]
    }
   ],
   "source": [
    "x = \"Adios\"\n",
    "\n",
    "assert x == \"Adios\", \"x debe ser Adios\"  #ese assert se debbe cumplir si o si para dejar pasar a la siguiente funcionalidad\n",
    "\n",
    "print(\"debajo del assert\")"
   ]
  },
  {
   "cell_type": "code",
   "execution_count": 2,
   "metadata": {},
   "outputs": [
    {
     "output_type": "execute_result",
     "data": {
      "text/plain": [
       "True"
      ]
     },
     "metadata": {},
     "execution_count": 2
    }
   ],
   "source": [
    "things = [2,4, 2.5]\n",
    "\n",
    "all(isinstance(elem, (int, float)) for elem in things)  #para comprobar que cdada uno de los elementos de mi lista cumplen con ese tipo ya sea entero oflotante por eso se pone all antes de. Si todos son true, todo eso es true"
   ]
  },
  {
   "cell_type": "code",
   "execution_count": 6,
   "metadata": {},
   "outputs": [
    {
     "output_type": "execute_result",
     "data": {
      "text/plain": [
       "[True, True, True]"
      ]
     },
     "metadata": {},
     "execution_count": 6
    }
   ],
   "source": [
    "[isinstance(elem,(int,float))for elem in things]"
   ]
  },
  {
   "cell_type": "code",
   "execution_count": 7,
   "metadata": {},
   "outputs": [
    {
     "output_type": "execute_result",
     "data": {
      "text/plain": [
       "False"
      ]
     },
     "metadata": {},
     "execution_count": 7
    }
   ],
   "source": [
    "things = [2,4, 2.5,\"\"]\n",
    "all(isinstance(elem,(int,float))for elem in things)"
   ]
  },
  {
   "cell_type": "code",
   "execution_count": 5,
   "metadata": {},
   "outputs": [
    {
     "output_type": "execute_result",
     "data": {
      "text/plain": [
       "False"
      ]
     },
     "metadata": {},
     "execution_count": 5
    }
   ],
   "source": [
    "l = [True, True, False, True]  #sale false por que no todos son true\n",
    "all(l)\n"
   ]
  },
  {
   "cell_type": "code",
   "execution_count": 4,
   "metadata": {},
   "outputs": [],
   "source": [
    "def checking_types(elements, types):\n",
    "    return all(isinstance(elem, types) for elem in elements)"
   ]
  },
  {
   "cell_type": "code",
   "execution_count": 9,
   "metadata": {},
   "outputs": [
    {
     "output_type": "stream",
     "name": "stdout",
     "text": [
      "3\n"
     ]
    },
    {
     "output_type": "execute_result",
     "data": {
      "text/plain": [
       "3"
      ]
     },
     "metadata": {},
     "execution_count": 9
    }
   ],
   "source": [
    "def suma_positiva(a, b):\n",
    "    assert checking_types(elements=[a,b], types=(int, float)), \"a y b deben ser parámetros numéricos\"\n",
    "    assert a >= 0 and b >=0, \"a y b deben ser superiores o iguales a 0\"\n",
    "    print(a + b)\n",
    "    return a + b\n",
    "\n",
    "a = 2     #aqui hemos cambiado las variables primero estaban con errores del tipo o que no cumpla la condición\n",
    "b = 1\n",
    "x = suma_positiva(a=a,b=b)\n",
    "x"
   ]
  },
  {
   "cell_type": "code",
   "execution_count": null,
   "metadata": {},
   "outputs": [],
   "source": [
    "except Exception as error: \n",
    "        print ('array should contain only numbers')\n",
    "    assert isinstance(somefunction, types.FunctionType), 'given argument is not a function'\n"
   ]
  }
 ]
}