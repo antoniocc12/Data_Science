{
 "metadata": {
  "language_info": {
   "codemirror_mode": {
    "name": "ipython",
    "version": 3
   },
   "file_extension": ".py",
   "mimetype": "text/x-python",
   "name": "python",
   "nbconvert_exporter": "python",
   "pygments_lexer": "ipython3",
   "version": "3.7.4"
  },
  "orig_nbformat": 2,
  "kernelspec": {
   "name": "python374jvsc74a57bd0a9b83ec4160fc914f5169c2fc0bc9ab1c02e189a457abfa966969b692f6336e9",
   "display_name": "Python 3.7.4 64-bit"
  },
  "metadata": {
   "interpreter": {
    "hash": "a9b83ec4160fc914f5169c2fc0bc9ab1c02e189a457abfa966969b692f6336e9"
   }
  }
 },
 "nbformat": 4,
 "nbformat_minor": 2,
 "cells": [
  {
   "source": [
    "## IMPORTS"
   ],
   "cell_type": "markdown",
   "metadata": {}
  },
  {
   "cell_type": "code",
   "execution_count": null,
   "metadata": {},
   "outputs": [],
   "source": [
    "#29/04/2019\n",
    "\n",
    "#Cuando queremos usar una función ya hecha en otra funcion .añadir al sys.pah una carpeta que esta por encima\n",
    "\n",
    "# os y sys se importa por que ambas nos van a dar la información. sys.pah nos da toda la ruta que python va a tener en cuenta cuando hagamos import. Sube solo una carpeta hasta la imp\n",
    "\n",
    "import os, sys\n",
    "\n",
    "ruta = __file__ ## eso es para el .py y el el otro es para jupiter\n",
    "os.path.dirname(os.path.dirname(ruta)) # aqui estamos subiendo dos veces la carpeta ruta pero tambien se puede hacer un for para que python lo haga solo sin hacerlo dos veces. Se podría hacer esto pero mejor es hacer el for\n",
    "#Se hace el file por que de esa manera funciona en todos los ordenadores. Si le hago botón derecho pegar path ahi no va a salir en otras compus cuando yo lo haga. \n",
    "for i in range(2):\n",
    "    ruta = os.path.dirname(ruta)\n",
    "print(\"Ruta:\", ruta)\n",
    "sys.path.append(ruta)\n",
    "\n",
    "# import b.y as y Una vez que ya he subido dos carpetas arriba, hasta imp, procedemos a importar el archivo (esta es la resolución de la tarea de imports, solo le pone un rango de dos, solo sube a las dos carpetas arriba, si quiero el archivo llamado y vamos a subir a la carpeta b y llamar a la archivo y)\n",
    "\n",
    "import b.y as y \n",
    "\n",
    "def x1():\n",
    "    print(\"x1\")\n",
    "    y.y1()\n",
    "\n",
    "x1()\n",
    "\n",
    "\n",
    "#se genera un conflicto si vuelvo a repetir el mismo comando de import en el archivo de x repitiendo nuevamente lo de importar. Se intenta importar continuamente\n",
    "\n",
    "#Ejecutiamos el archivo x, la función, la linea de import y hace una llamada a la función, y ahi ya se ejecuta lo que tenemos en y por tal motivo se imprimen 2 y1. La primera y1 que e muestra es la y1 del archivo x. Aunque ejecute from b.y import y1 se va a ejecutar todo así que de igual manera va a imprimir 2 veces y1. \n",
    "\n",
    "#COMENTARIOS DE GABRIEL: Cuando import un archivo de la forma que sea --> se ir\"Cuando importo un archivo, ejecuto todo el archivo\" ¿Si tengo un print, también? \"También\" ¿Si tengo un error también? \"También, porque cuando importo un archivo, ejecuto todo el archivo\".import\n",
    "\n",
    "#SOLUCION: cuando se ejecuta eso solo se va a ejecutiar lo que este debajode la condicion\n",
    " if __name__ == \"__main__\":\n",
    "     x1()\n",
    "\n",
    "# Entonces en el archivo x se vuelve a poner el import a.x as x debajo de ese if_name para que cuando se ejecuquete la funciónse ejecuta \n",
    "\n",
    "#esa funcion name igual a main es para verificar si estamos usando un archivo principal es decir la funcion name o variable del archivo se ejecuta en el archivo principal o no\n",
    "\n",
    "https://www.freecodecamp.org/espanol/news/python-if-name-main/\n",
    "\n",
    "\n",
    "#OJO: Desde y importe x pero desde x no estoy importantdo nada para que no me salga de nuevo.Se genera un boucle infinito. y se sigue llamando las funciones de y de importancion muchas veces. Cuando enmpiece a llamar a las funciones, si una no está ejecutada no la va a mostar\n",
    "#para que se ejecute y1 en el error que me sale, por ejemplo lo que podemos hacer para solucionar, se puede importar en el x poniendo el from en el archivo z "
   ]
  }
 ]
}