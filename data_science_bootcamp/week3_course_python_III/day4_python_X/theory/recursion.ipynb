{
 "metadata": {
  "language_info": {
   "codemirror_mode": {
    "name": "ipython",
    "version": 3
   },
   "file_extension": ".py",
   "mimetype": "text/x-python",
   "name": "python",
   "nbconvert_exporter": "python",
   "pygments_lexer": "ipython3",
   "version": "3.7.4"
  },
  "orig_nbformat": 2,
  "kernelspec": {
   "name": "python374jvsc74a57bd0a9b83ec4160fc914f5169c2fc0bc9ab1c02e189a457abfa966969b692f6336e9",
   "display_name": "Python 3.7.4 64-bit"
  },
  "metadata": {
   "interpreter": {
    "hash": "a9b83ec4160fc914f5169c2fc0bc9ab1c02e189a457abfa966969b692f6336e9"
   }
  }
 },
 "nbformat": 4,
 "nbformat_minor": 2,
 "cells": [
  {
   "source": [
    "## RECURSIVIDAD"
   ],
   "cell_type": "markdown",
   "metadata": {}
  },
  {
   "cell_type": "code",
   "execution_count": 3,
   "metadata": {},
   "outputs": [
    {
     "output_type": "stream",
     "name": "stdout",
     "text": [
      "1\n1\n1\n1\n1\n1\n1\n1\n1\n1\nNone\n"
     ]
    }
   ],
   "source": [
    "\n",
    "\n",
    "def f1(cont=0):\n",
    "    if cont == 10:  #caso base por que si no es infinito\n",
    "        return cont\n",
    "    \n",
    "    print(1)\n",
    "    f1(cont=cont+1)\n",
    "\n",
    "x = f1()  #cuando se llama aqui a f1 lo primero que retorna la funcion por primera vez es 0. La primera vez que yo estoy llamando es none\n",
    "print (x)\n"
   ]
  },
  {
   "cell_type": "code",
   "execution_count": 7,
   "metadata": {},
   "outputs": [
    {
     "output_type": "stream",
     "name": "stdout",
     "text": [
      "1\n1\n1\n3\n"
     ]
    }
   ],
   "source": [
    "def f1(cont=0):\n",
    "    if cont == 3:  #caso base por que si no es infinito\n",
    "        return cont\n",
    "    \n",
    "    print(1)\n",
    "    return f1(cont=cont+1)  #va aqui el return para que devuelva el valor cuando devuelva la función. Lo que queremos es que se vaya guardando el valor que va retornando. Usar el python tutor\n",
    "\n",
    "\n",
    "x = f1()\n",
    "print(x)"
   ]
  },
  {
   "cell_type": "code",
   "execution_count": null,
   "metadata": {},
   "outputs": [],
   "source": [
    "# Factorial de un numero es multiplicar todos los numeros hasta llegar a 1\n",
    "\n",
    "#5!\n",
    "\n",
    "5*4*3*2*1"
   ]
  },
  {
   "cell_type": "code",
   "execution_count": 15,
   "metadata": {},
   "outputs": [
    {
     "output_type": "execute_result",
     "data": {
      "text/plain": [
       "120"
      ]
     },
     "metadata": {},
     "execution_count": 15
    }
   ],
   "source": [
    "import math\n",
    "math.factorial(5)"
   ]
  },
  {
   "cell_type": "code",
   "execution_count": 25,
   "metadata": {},
   "outputs": [
    {
     "output_type": "execute_result",
     "data": {
      "text/plain": [
       "120"
      ]
     },
     "metadata": {},
     "execution_count": 25
    }
   ],
   "source": [
    "def factorial(n, cont=1):  #la idea del contador es que el numero sea 1\n",
    "    if n == 1: # primero va el caso base\n",
    "        return cont\n",
    "    cont = cont * (n)\n",
    "    return factorial(n=n-1, cont=cont) \n",
    "\n",
    "\n",
    "\n",
    "factorial(n=5) #le doy dos numeros uno la variable que vaya albergando el contador y otra el numero al que quiero sacarle el factorial\n",
    " "
   ]
  },
  {
   "cell_type": "code",
   "execution_count": 20,
   "metadata": {},
   "outputs": [
    {
     "output_type": "execute_result",
     "data": {
      "text/plain": [
       "120"
      ]
     },
     "metadata": {},
     "execution_count": 20
    }
   ],
   "source": [
    "#factorial sin contador \n",
    "\n",
    "def factorial_sin_contador(n):  \n",
    "    if n == 1:\n",
    "        return n\n",
    "    return n*factorial_sin_contador(n=n-1)\n",
    "   \n",
    "\n",
    "\n",
    "\n",
    "factorial_sin_contador(5)"
   ]
  },
  {
   "cell_type": "code",
   "execution_count": null,
   "metadata": {},
   "outputs": [],
   "source": [
    "## Hay 3 formas de resolverlo: lo mas eficiente es lo recursivo con contador ,while, for\n",
    "\n",
    "https://www.programiz.com/python-programming/recursion\n",
    "\n"
   ]
  }
 ]
}