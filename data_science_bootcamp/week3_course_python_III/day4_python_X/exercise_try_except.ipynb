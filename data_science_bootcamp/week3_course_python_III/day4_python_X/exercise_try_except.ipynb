{
 "cells": [
  {
   "cell_type": "markdown",
   "metadata": {},
   "source": [
    "# Python | try&except"
   ]
  },
  {
   "cell_type": "markdown",
   "metadata": {},
   "source": [
    "Python uses try and except to handle errors gracefully. A graceful exit (or graceful handling) of errors is a simple programming idiom - a program detects a serious error condition and \"exits gracefully\", in a controlled manner as a result. Often the program prints a descriptive error message to a terminal or log as part of the graceful exit, this makes our application more robust. The cause of an exception is often external to the program itself. An example of exceptions could be an incorrect input, wrong file name, unable to find a file, a malfunctioning IO device. Graceful handling of errors prevents our applications from crashing."
   ]
  },
  {
   "cell_type": "markdown",
   "metadata": {},
   "source": [
    "```python\n",
    "try:\n",
    "    code in this block if things go well\n",
    "except:\n",
    "    code in this block run if things go wrong\n",
    "```"
   ]
  },
  {
   "cell_type": "markdown",
   "metadata": {},
   "source": [
    "### Exercise 1. \n"
   ]
  },
  {
   "cell_type": "markdown",
   "metadata": {},
   "source": [
    "1. In the 4 cells below, modify the code to catch the error and print a meaningful message that will alert the user what went wrong. You may catch the error using a general except or a specific except for the error caused by the code."
   ]
  },
  {
   "cell_type": "code",
   "execution_count": 4,
   "metadata": {},
   "outputs": [
    {
     "output_type": "stream",
     "name": "stdout",
     "text": [
      "name 'some_string' is not defined\n"
     ]
    }
   ],
   "source": [
    "# Modify the code below:\n",
    "\n",
    "try:\n",
    "    print(some_string)\n",
    "except Exception as error:\n",
    "        print(error)\n",
    "    "
   ]
  },
  {
   "cell_type": "code",
   "execution_count": 7,
   "metadata": {},
   "outputs": [
    {
     "output_type": "stream",
     "name": "stdout",
     "text": [
      "Error: unsupported operand type(s) for ** or pow(): 'str' and 'int'\nError: unsupported operand type(s) for ** or pow(): 'str' and 'int'\nError: unsupported operand type(s) for ** or pow(): 'str' and 'int'\n"
     ]
    }
   ],
   "source": [
    "# Modify the code below:\n",
    "\n",
    "for i in ['a','b','c']:\n",
    "    try:\n",
    "        print (i**2)\n",
    "    except Exception as error:\n",
    "    \n",
    "       \n",
    "        print(\"Error:\", error)\n",
    "       "
   ]
  },
  {
   "cell_type": "code",
   "execution_count": 11,
   "metadata": {},
   "outputs": [
    {
     "output_type": "stream",
     "name": "stdout",
     "text": [
      "Oops! Zero was no valid number.  Try again...\n"
     ]
    }
   ],
   "source": [
    "# Modify the code below:\n",
    "try:\n",
    "    x = 5\n",
    "    y = 0\n",
    "\n",
    "    z = x/y\n",
    "   \n",
    "except Exception as error:\n",
    "    print(\"Oops! Zero was no valid number.  Try again...\")\n",
    "\n",
    "\n"
   ]
  },
  {
   "cell_type": "code",
   "execution_count": 13,
   "metadata": {},
   "outputs": [
    {
     "output_type": "stream",
     "name": "stdout",
     "text": [
      "Ha dado error:\nError: list index out of range\n10\nHa dado error:\nError: list index out of range\n20\nHa dado error:\nError: list index out of range\n20\n"
     ]
    }
   ],
   "source": [
    "# Modify the code below:\n",
    "\n",
    "abc=[10,20,20]\n",
    "\n",
    "for elem in abc:\n",
    "    try:\n",
    "        print(abc[3])\n",
    "    except Exception as error:\n",
    "        print(\"Ha dado error:\")\n",
    "        print(\"Error:\", error)\n",
    "        print(elem)"
   ]
  },
  {
   "cell_type": "markdown",
   "metadata": {},
   "source": [
    "### Exercise 2. "
   ]
  },
  {
   "cell_type": "markdown",
   "metadata": {},
   "source": [
    "In the 3 cells below, add an if statment that will handle both types of input allowed in the functions."
   ]
  },
  {
   "cell_type": "code",
   "execution_count": 16,
   "metadata": {},
   "outputs": [
    {
     "output_type": "execute_result",
     "data": {
      "text/plain": [
       "2.0"
      ]
     },
     "metadata": {},
     "execution_count": 16
    }
   ],
   "source": [
    "import math # import a library called math with functions, like sqrt() \n",
    "# Modify the code below to handle positive and negative numbers by adding an if statement and performing a transformation:\n",
    "\n",
    "def sqrt_for_all(x):\n",
    "    if x <= 0:\n",
    "        return math.sqrt(abs(x))\n",
    "    else:\n",
    "        return math.sqrt(x)\n",
    "    \n",
    "    # This function will take any real number and return the square root of its magnitude\n",
    "    # Input: real number\n",
    "    # Output: real number\n",
    "    \n",
    "    # Sample Input: -4\n",
    "    # Sample Output: 2.0\n",
    "    \n",
    "\n",
    "sqrt_for_all(-4)"
   ]
  },
  {
   "cell_type": "code",
   "execution_count": 12,
   "metadata": {},
   "outputs": [
    {
     "output_type": "execute_result",
     "data": {
      "text/plain": [
       "0"
      ]
     },
     "metadata": {},
     "execution_count": 12
    }
   ],
   "source": [
    "# Modify the code below to handle zero as well. In the case of zero, return zero\n",
    "\n",
    "def divide(x, y):\n",
    "    \n",
    "    if y == 0:\n",
    "        return 0\n",
    "    else:\n",
    "        print(x / y)\n",
    "        \n",
    "    # This function will take any two real numbers and return their quotient. If the denominator is zero, we return zero\n",
    "    # Input: real number\n",
    "    # Output: real number\n",
    "    \n",
    "    # Sample Input: 5, 1\n",
    "    # Sample Output: 5.0\n",
    "\n",
    "    \n",
    "    \n",
    "\n",
    "divide(5, 0)"
   ]
  },
  {
   "cell_type": "code",
   "execution_count": 30,
   "metadata": {},
   "outputs": [
    {
     "output_type": "execute_result",
     "data": {
      "text/plain": [
       "[11]"
      ]
     },
     "metadata": {},
     "execution_count": 30
    }
   ],
   "source": [
    "lista = []\n",
    "lista.append(11)\n",
    "lista\n",
    "\n"
   ]
  },
  {
   "cell_type": "code",
   "execution_count": 55,
   "metadata": {},
   "outputs": [
    {
     "output_type": "execute_result",
     "data": {
      "text/plain": [
       "[11]"
      ]
     },
     "metadata": {},
     "execution_count": 55
    }
   ],
   "source": [
    "# Modify the function below that it will take either an number and a list or two numbers. \n",
    "# If we take two numbers, add them together and return a list of length 1. \n",
    "# Otherwise, add the number to every element of the list and return the resulting list\n",
    "\n",
    "def add_elements(a, l):\n",
    "    if isinstance(a, int) and isinstance(l,int):\n",
    "        lista = []\n",
    "        suma = a + l\n",
    "        lista.append(suma)\n",
    "        return lista\n",
    "    if isinstance(a, list):\n",
    "        a.append(l) \n",
    "        return a\n",
    "\n",
    "    else:\n",
    "        l.append(a) \n",
    "        return l\n",
    "        \n",
    "  \n",
    "    \n",
    "      \n",
    "    # This function takes either two numbers or a list and a number and adds the number to all elements of the list\n",
    "    # If the function only takes two numbers, it returns a list of length one that is the sum of the numbers\n",
    "    \n",
    "    # Input: number and list or two numbers\n",
    "    # Output: list\n",
    "    \n",
    "    # Sample Input: 5, 6\n",
    "    # Sample Output: [11]\n",
    "    \n",
    "        \n",
    "add_elements(5, 6)\n",
    "\n"
   ]
  },
  {
   "cell_type": "markdown",
   "metadata": {},
   "source": [
    "### Exercise 3. \n",
    "\n",
    "Write a function that asks for an integer and prints the square of it. Keep checking while the function gets an integer.\n",
    "\n",
    "Use a `while` loop with a `try/except` block to account for incorrect inputs."
   ]
  },
  {
   "cell_type": "code",
   "execution_count": 58,
   "metadata": {},
   "outputs": [
    {
     "output_type": "stream",
     "name": "stdout",
     "text": [
      "Oops!  Block to account for incorrect inputs\n"
     ]
    }
   ],
   "source": [
    "while True:\n",
    "    try:\n",
    "        x = int(input(\"Please enter a number: \"))\n",
    "        print(x**2)\n",
    "        break\n",
    "    except ValueError:\n",
    "        print(\"Oops!  Block to account for incorrect inputs\")\n",
    "        break"
   ]
  },
  {
   "cell_type": "markdown",
   "metadata": {},
   "source": [
    "### Bonus track.\n",
    "\n",
    "1. Solve this kata in **codewars**.\n",
    "\n",
    "https://www.codewars.com/kata/560fbc2d636966b21e00009e"
   ]
  },
  {
   "cell_type": "code",
   "execution_count": null,
   "metadata": {},
   "outputs": [],
   "source": []
  },
  {
   "cell_type": "markdown",
   "metadata": {},
   "source": [
    "2. Make a program using `while` that generates a **deck of cards** of 4 different suits. The deck must have 40 cards.\n",
    "\n",
    "   Develop the program in a `.py` file that will be run through the terminal. \n",
    "   \n",
    "   Then, import the module to this notebook and show the deck you've generated below."
   ]
  },
  {
   "cell_type": "code",
   "execution_count": null,
   "metadata": {},
   "outputs": [],
   "source": []
  },
  {
   "cell_type": "markdown",
   "metadata": {},
   "source": [
    "![\"lol\"](https://i.pinimg.com/originals/34/b2/ad/34b2ad1c370539fba5ed9422711cad7b.png)"
   ]
  }
 ],
 "metadata": {
  "kernelspec": {
   "name": "python374jvsc74a57bd0a9b83ec4160fc914f5169c2fc0bc9ab1c02e189a457abfa966969b692f6336e9",
   "display_name": "Python 3.7.4 64-bit"
  },
  "language_info": {
   "codemirror_mode": {
    "name": "ipython",
    "version": 3
   },
   "file_extension": ".py",
   "mimetype": "text/x-python",
   "name": "python",
   "nbconvert_exporter": "python",
   "pygments_lexer": "ipython3",
   "version": "3.7.4"
  },
  "metadata": {
   "interpreter": {
    "hash": "a9b83ec4160fc914f5169c2fc0bc9ab1c02e189a457abfa966969b692f6336e9"
   }
  }
 },
 "nbformat": 4,
 "nbformat_minor": 4
}