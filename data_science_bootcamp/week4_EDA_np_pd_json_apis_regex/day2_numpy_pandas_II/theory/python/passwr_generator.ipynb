{
 "metadata": {
  "language_info": {
   "codemirror_mode": {
    "name": "ipython",
    "version": 3
   },
   "file_extension": ".py",
   "mimetype": "text/x-python",
   "name": "python",
   "nbconvert_exporter": "python",
   "pygments_lexer": "ipython3",
   "version": "3.7.4"
  },
  "orig_nbformat": 2,
  "kernelspec": {
   "name": "python374jvsc74a57bd0a9b83ec4160fc914f5169c2fc0bc9ab1c02e189a457abfa966969b692f6336e9",
   "display_name": "Python 3.7.4 64-bit"
  },
  "metadata": {
   "interpreter": {
    "hash": "a9b83ec4160fc914f5169c2fc0bc9ab1c02e189a457abfa966969b692f6336e9"
   }
  }
 },
 "nbformat": 4,
 "nbformat_minor": 2,
 "cells": [
  {
   "source": [
    "Crea una función llamada \"generador\" con dos argumentos de entrada 'longitud' (entero) y 'dificultad' (entero). La función retornará una contraseña (string) de tamaño 'longitud' y con las siguientes características dependiendo del valor de 'dificultad':\n",
    "\n",
    "1. Si 'dificultad' tiene valor 1, entonces la contraseña solo contendrá números. \n",
    "2. Si 'dificultad' tiene valor 2, entonces la contraseña contendrá números y letras\n",
    "3. Si 'dificultad' tiene valor 3, entonces la contraseña contendrá números, letras y signos de puntuación (!,?¡:-.\"')\n",
    "4. Si 'dificultad' tiene valor 4, entonces la contraseña será como la del punto 3. pero con el doble de longitud y solo números pares. \n",
    "5. Para cualquier otro caso, la contraseña será \"numpy_y_pandas_son_lo_mejor\""
   ],
   "cell_type": "markdown",
   "metadata": {}
  },
  {
   "cell_type": "code",
   "execution_count": 56,
   "metadata": {},
   "outputs": [
    {
     "output_type": "execute_result",
     "data": {
      "text/plain": [
       "'/BR('"
      ]
     },
     "metadata": {},
     "execution_count": 56
    }
   ],
   "source": [
    "from random import randint\n",
    "import string\n",
    "import secrets \n",
    "\n",
    "\n",
    "def generador(longitud, dificultad):\n",
    "    range_start = 10**(longitud-1)\n",
    "    range_end = (10**longitud)-1   \n",
    "       \n",
    "    if dificultad == 1:\n",
    "        \n",
    "        return str(randint(range_start, range_end))\n",
    "    elif dificultad == 2:\n",
    "        return ''.join(secrets.choice(string.ascii_letters + string.digits) for x in range(longitud))\n",
    "    elif dificultad == 3:\n",
    "        return ''.join(secrets.choice(string.ascii_letters + string.digits + string.punctuation) for x in range(longitud))\n",
    "    elif dificultad == 4:\n",
    "        return ''.join(secrets.choice(string.ascii_letters + string.digits + string.punctuation) for x in range(longitud*2))\n",
    "    else:\n",
    "        return \"numpy_y_pandas_son_lo_mejor\"\n",
    "\n",
    "\n",
    "  \n",
    "generador(4,3)\n",
    "\n"
   ]
  },
  {
   "cell_type": "code",
   "execution_count": null,
   "metadata": {},
   "outputs": [],
   "source": [
    " elif dificultad == 3:\n",
    "        return ''.join((random.choice(string.ascii_letters) for x in range(longitud)))  \n",
    "      "
   ]
  },
  {
   "cell_type": "code",
   "execution_count": 18,
   "metadata": {},
   "outputs": [
    {
     "output_type": "stream",
     "name": "stdout",
     "text": [
      "2\n3\n4\n1\n"
     ]
    }
   ],
   "source": [
    "def digitos(n):\n",
    "\tcotador = 0\n",
    "\tif n == 0:\n",
    "\t    cotador = 1\n",
    "\telse:\n",
    "\t    cotador = 1\n",
    "\t    while (n >= 10):\n",
    "\t        cotador += 1\n",
    "\t        n = n//10\n",
    "\t        #imprime(n)\n",
    "\treturn cotador\n",
    "print(digitos(25))   # Debe imprimir 2\n",
    "print(digitos(144))  # Debe imprimir 3\n",
    "print(digitos(1000)) # Debe imprimir 4\n",
    "print(digitos(0))    # Debe imprimir 1"
   ]
  },
  {
   "cell_type": "code",
   "execution_count": null,
   "metadata": {},
   "outputs": [],
   "source": []
  }
 ]
}