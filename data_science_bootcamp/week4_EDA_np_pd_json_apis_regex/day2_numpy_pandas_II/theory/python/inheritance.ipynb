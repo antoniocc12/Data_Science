{
 "cells": [
  {
   "cell_type": "markdown",
   "metadata": {},
   "source": [
    "Inheritance in python"
   ]
  },
  {
   "cell_type": "code",
   "execution_count": 18,
   "metadata": {},
   "outputs": [],
   "source": [
    "class LivingBeing():\n",
    "    \"\"\"Father/Mother class\"\"\"\n",
    "    def __init__(self, kingdom, born_date, color, days_lived=0, procreate_ability=True):\n",
    "        self.is_living = True\n",
    "        self.kingdom = kingdom\n",
    "        self.procreate_ability = procreate_ability\n",
    "        self.born_date = born_date\n",
    "        self.death_date = None\n",
    "        self.days_lived = days_lived\n",
    "\n",
    "    def living_being_function(self):\n",
    "        print(\"I am a living being!\")\n",
    "\n",
    "    def die(self):\n",
    "        print(\"Murió\")\n",
    "        self.is_living = False\n",
    "        self.death_date = \"05/05/2021\""
   ]
  },
  {
   "cell_type": "code",
   "execution_count": 2,
   "metadata": {},
   "outputs": [],
   "source": [
    "def new_day(living_being_class): #se le puede poner una clase a ese atributo\n",
    "    living_being_class.days_lived += 1"
   ]
  },
  {
   "cell_type": "code",
   "execution_count": 5,
   "metadata": {
    "tags": []
   },
   "outputs": [
    {
     "output_type": "stream",
     "name": "stdout",
     "text": [
      "celula.days_lived: 520\n"
     ]
    },
    {
     "output_type": "error",
     "ename": "NameError",
     "evalue": "name 'living_being_class' is not defined",
     "traceback": [
      "\u001b[1;31m---------------------------------------------------------------------------\u001b[0m",
      "\u001b[1;31mNameError\u001b[0m                                 Traceback (most recent call last)",
      "\u001b[1;32m<ipython-input-5-109a90a5c7d9>\u001b[0m in \u001b[0;36m<module>\u001b[1;34m\u001b[0m\n\u001b[0;32m      1\u001b[0m \u001b[0mcelula\u001b[0m \u001b[1;33m=\u001b[0m \u001b[0mLivingBeing\u001b[0m\u001b[1;33m(\u001b[0m\u001b[0mkingdom\u001b[0m\u001b[1;33m=\u001b[0m\u001b[1;34m\"Animal\"\u001b[0m\u001b[1;33m,\u001b[0m \u001b[0mborn_date\u001b[0m\u001b[1;33m=\u001b[0m\u001b[1;34m\"18/06/2019\"\u001b[0m\u001b[1;33m,\u001b[0m \u001b[0mdays_lived\u001b[0m\u001b[1;33m=\u001b[0m\u001b[1;36m520\u001b[0m\u001b[1;33m)\u001b[0m\u001b[1;33m\u001b[0m\u001b[1;33m\u001b[0m\u001b[0m\n\u001b[0;32m      2\u001b[0m \u001b[0mprint\u001b[0m\u001b[1;33m(\u001b[0m\u001b[1;34m\"celula.days_lived:\"\u001b[0m\u001b[1;33m,\u001b[0m \u001b[0mcelula\u001b[0m\u001b[1;33m.\u001b[0m\u001b[0mdays_lived\u001b[0m\u001b[1;33m)\u001b[0m\u001b[1;33m\u001b[0m\u001b[1;33m\u001b[0m\u001b[0m\n\u001b[1;32m----> 3\u001b[1;33m \u001b[0mnew_day\u001b[0m\u001b[1;33m(\u001b[0m\u001b[0mliving_being_class\u001b[0m\u001b[1;33m==\u001b[0m\u001b[0mcelula\u001b[0m\u001b[1;33m)\u001b[0m\u001b[1;33m\u001b[0m\u001b[1;33m\u001b[0m\u001b[0m\n\u001b[0m\u001b[0;32m      4\u001b[0m \u001b[0mprint\u001b[0m\u001b[1;33m(\u001b[0m\u001b[1;34m\"celula.days_lived:\"\u001b[0m\u001b[1;33m,\u001b[0m \u001b[0mcelula\u001b[0m\u001b[1;33m.\u001b[0m\u001b[0mdays_lived\u001b[0m\u001b[1;33m)\u001b[0m\u001b[1;33m\u001b[0m\u001b[1;33m\u001b[0m\u001b[0m\n",
      "\u001b[1;31mNameError\u001b[0m: name 'living_being_class' is not defined"
     ]
    }
   ],
   "source": [
    "celula = LivingBeing(kingdom=\"Animal\", born_date=\"18/06/2019\", days_lived=520)\n",
    "print(\"celula.days_lived:\", celula.days_lived)\n",
    "new_day(living_being_class==celula)\n",
    "print(\"celula.days_lived:\", celula.days_lived)"
   ]
  },
  {
   "cell_type": "code",
   "execution_count": null,
   "metadata": {},
   "outputs": [],
   "source": [
    "print(\"celula.is_living:\",celula.is_living)\n",
    "celula.die()\n",
    "print(\"celula.is_living:\",celula.is_living)"
   ]
  },
  {
   "cell_type": "code",
   "execution_count": null,
   "metadata": {},
   "outputs": [],
   "source": [
    "humano = LivingBeing(kingdom=\"Animal\", born_date=\"21/06/2019\")\n",
    "print(\"humano.is_living:\", humano.is_living)\n",
    "humano.die()\n",
    "print(\"humano.is_living:\", humano.is_living)"
   ]
  },
  {
   "cell_type": "code",
   "execution_count": null,
   "metadata": {},
   "outputs": [],
   "source": [
    "class Human(LivingBeing):\n",
    "    \"\"\"Children class\"\"\"\n",
    "    def __init__(self, born_date, procreate_ability=True, eyes=2, legs=2, intelligence_ability=True):\n",
    "        #Herencia\n",
    "        LivingBeing.__init__(self, kingdom=\"Human\", procreate_ability=procreate_ability, born_date=born_date)\n",
    "        self.eyes = eyes\n",
    "        self.legs = legs\n",
    "        self.intelligence_ability = intelligence_ability\n",
    "    \n",
    "    "
   ]
  },
  {
   "source": [
    "humano = Human(born_date=\"13/05/1991\")\n",
    "\n",
    "print(\"humano.is_living:\", humano.is_living)\n",
    "print(\"\\nCalling to living_being_function():\\n\")\n",
    "humano.living_being_function()"
   ],
   "cell_type": "code",
   "metadata": {
    "tags": []
   },
   "execution_count": null,
   "outputs": []
  },
  {
   "cell_type": "code",
   "execution_count": null,
   "metadata": {},
   "outputs": [],
   "source": [
    "humano_esteril = Human(born_date=\"13/05/1991\", procreate_ability=False)\n",
    "\n",
    "print(\"humano.is_living:\", humano_esteril.is_living)\n",
    "print(\"\\nCalling to living_being_function():\\n\")\n",
    "humano_esteril.living_being_function()"
   ]
  },
  {
   "cell_type": "code",
   "execution_count": 19,
   "metadata": {
    "tags": []
   },
   "outputs": [],
   "source": [
    "class Perro(LivingBeing):\n",
    "    def __init__(self, raza, born_d, patas=4, ojos=2, cola=True, agresivo=False):\n",
    "    #Heredabilidad\n",
    "        LivingBeing.__init__(self, kingdom=\"Animal\", born_date=born_d, color=c) #aqui es importante definir los obligatorios que fueron definidos en ser vivo por que si no sale error. En self van los atributos que tiene el perro pero no el ser vivo. Si no quiero que todos los perros creados tengan fecha de nacimiento establecida, debo ponerla en el def inicial de aqui, no en la funcion de livingbeing\n",
    "        self.cola = cola\n",
    "        self.raza = raza\n",
    "        self.ojos = ojos"
   ]
  },
  {
   "cell_type": "code",
   "execution_count": 20,
   "metadata": {},
   "outputs": [
    {
     "output_type": "error",
     "ename": "TypeError",
     "evalue": "__init__() got an unexpected keyword argument 'c'",
     "traceback": [
      "\u001b[1;31m---------------------------------------------------------------------------\u001b[0m",
      "\u001b[1;31mTypeError\u001b[0m                                 Traceback (most recent call last)",
      "\u001b[1;32m<ipython-input-20-9fe20ef2b204>\u001b[0m in \u001b[0;36m<module>\u001b[1;34m\u001b[0m\n\u001b[1;32m----> 1\u001b[1;33m \u001b[0mdoby\u001b[0m \u001b[1;33m=\u001b[0m \u001b[0mPerro\u001b[0m\u001b[1;33m(\u001b[0m\u001b[0mraza\u001b[0m\u001b[1;33m=\u001b[0m\u001b[1;34m\"San Bernardo\"\u001b[0m\u001b[1;33m,\u001b[0m \u001b[0mc\u001b[0m\u001b[1;33m=\u001b[0m\u001b[1;34m\"Marron y Blanco\"\u001b[0m\u001b[1;33m,\u001b[0m \u001b[0mborn_d\u001b[0m\u001b[1;33m=\u001b[0m\u001b[1;34m\"05/05/2020\"\u001b[0m\u001b[1;33m)\u001b[0m\u001b[1;33m\u001b[0m\u001b[1;33m\u001b[0m\u001b[0m\n\u001b[0m\u001b[0;32m      2\u001b[0m \u001b[1;33m\u001b[0m\u001b[0m\n",
      "\u001b[1;31mTypeError\u001b[0m: __init__() got an unexpected keyword argument 'c'"
     ]
    }
   ],
   "source": [
    "doby = Perro(raza=\"San Bernardo\", c=\"Marron y Blanco\", born_d=\"05/05/2020\")\n",
    "\n"
   ]
  },
  {
   "cell_type": "code",
   "execution_count": null,
   "metadata": {},
   "outputs": [],
   "source": []
  }
 ],
 "metadata": {
  "language_info": {
   "name": "python",
   "codemirror_mode": {
    "name": "ipython",
    "version": 3
   },
   "version": "3.7.4"
  },
  "orig_nbformat": 2,
  "file_extension": ".py",
  "mimetype": "text/x-python",
  "name": "python",
  "npconvert_exporter": "python",
  "pygments_lexer": "ipython3",
  "version": 3,
  "kernelspec": {
   "name": "python374jvsc74a57bd0a9b83ec4160fc914f5169c2fc0bc9ab1c02e189a457abfa966969b692f6336e9",
   "display_name": "Python 3.7.4 64-bit"
  },
  "metadata": {
   "interpreter": {
    "hash": "a9b83ec4160fc914f5169c2fc0bc9ab1c02e189a457abfa966969b692f6336e9"
   }
  }
 },
 "nbformat": 4,
 "nbformat_minor": 2
}