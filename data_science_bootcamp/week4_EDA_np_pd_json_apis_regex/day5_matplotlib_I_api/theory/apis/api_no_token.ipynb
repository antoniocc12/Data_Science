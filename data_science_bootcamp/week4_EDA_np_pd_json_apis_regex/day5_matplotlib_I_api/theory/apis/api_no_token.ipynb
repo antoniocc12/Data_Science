{
 "metadata": {
  "language_info": {
   "codemirror_mode": {
    "name": "ipython",
    "version": 3
   },
   "file_extension": ".py",
   "mimetype": "text/x-python",
   "name": "python",
   "nbconvert_exporter": "python",
   "pygments_lexer": "ipython3",
   "version": "3.7.4"
  },
  "orig_nbformat": 2,
  "kernelspec": {
   "name": "python374jvsc74a57bd0a9b83ec4160fc914f5169c2fc0bc9ab1c02e189a457abfa966969b692f6336e9",
   "display_name": "Python 3.7.4 64-bit"
  },
  "metadata": {
   "interpreter": {
    "hash": "a9b83ec4160fc914f5169c2fc0bc9ab1c02e189a457abfa966969b692f6336e9"
   }
  }
 },
 "nbformat": 4,
 "nbformat_minor": 2,
 "cells": [
  {
   "cell_type": "markdown",
   "metadata": {},
   "source": [
    "_El maravilloso mundo de las_ **APIs**\n",
    "### o EL RETORNO DE JSON\n"
   ]
  },
  {
   "source": [
    "API: Interfaz de Programación de Aplicaciones\n",
    "\n",
    "Conjunto de definiciones y protocolos que se utiliza para desarrollar e integrar el software de las aplicaciones, permitiendo la comunicación entre dos aplicaciones de software a través de un conjunto de reglas."
   ],
   "cell_type": "markdown",
   "metadata": {}
  },
  {
   "cell_type": "markdown",
   "metadata": {},
   "source": [
    "Listado de **APIs** for free: \n",
    "https://github.com/public-apis/public-apis"
   ]
  },
  {
   "cell_type": "code",
   "execution_count": 1,
   "metadata": {},
   "outputs": [],
   "source": [
    "import json\n",
    "import requests\n",
    "\n",
    "import pandas as pd\n",
    "from pandas.io.json import json_normalize"
   ]
  },
  {
   "cell_type": "code",
   "execution_count": 2,
   "metadata": {},
   "outputs": [],
   "source": [
    "url_s = \"https://favqs.com/\"\n",
    "endpoint = \"api/qotd\"\n",
    "url_w = url_s + endpoint"
   ]
  },
  {
   "cell_type": "code",
   "execution_count": 3,
   "metadata": {},
   "outputs": [
    {
     "output_type": "execute_result",
     "data": {
      "text/plain": [
       "<Response [503]>"
      ]
     },
     "metadata": {},
     "execution_count": 3
    }
   ],
   "source": [
    "requests.get(url_w)"
   ]
  },
  {
   "cell_type": "code",
   "execution_count": 4,
   "metadata": {},
   "outputs": [
    {
     "output_type": "error",
     "ename": "JSONDecodeError",
     "evalue": "Expecting value: line 1 column 1 (char 0)",
     "traceback": [
      "\u001b[1;31m---------------------------------------------------------------------------\u001b[0m",
      "\u001b[1;31mJSONDecodeError\u001b[0m                           Traceback (most recent call last)",
      "\u001b[1;32m<ipython-input-4-4411ebc4d7a0>\u001b[0m in \u001b[0;36m<module>\u001b[1;34m\u001b[0m\n\u001b[1;32m----> 1\u001b[1;33m \u001b[0mqotd\u001b[0m \u001b[1;33m=\u001b[0m \u001b[0mrequests\u001b[0m\u001b[1;33m.\u001b[0m\u001b[0mget\u001b[0m\u001b[1;33m(\u001b[0m\u001b[0murl_w\u001b[0m\u001b[1;33m)\u001b[0m\u001b[1;33m.\u001b[0m\u001b[0mjson\u001b[0m\u001b[1;33m(\u001b[0m\u001b[1;33m)\u001b[0m\u001b[1;33m\u001b[0m\u001b[1;33m\u001b[0m\u001b[0m\n\u001b[0m\u001b[0;32m      2\u001b[0m \u001b[0mqotd\u001b[0m\u001b[1;33m\u001b[0m\u001b[1;33m\u001b[0m\u001b[0m\n",
      "\u001b[1;32m~\\AppData\\Local\\Programs\\Python\\Python37\\lib\\site-packages\\requests\\models.py\u001b[0m in \u001b[0;36mjson\u001b[1;34m(self, **kwargs)\u001b[0m\n\u001b[0;32m    898\u001b[0m                     \u001b[1;31m# used.\u001b[0m\u001b[1;33m\u001b[0m\u001b[1;33m\u001b[0m\u001b[1;33m\u001b[0m\u001b[0m\n\u001b[0;32m    899\u001b[0m                     \u001b[1;32mpass\u001b[0m\u001b[1;33m\u001b[0m\u001b[1;33m\u001b[0m\u001b[0m\n\u001b[1;32m--> 900\u001b[1;33m         \u001b[1;32mreturn\u001b[0m \u001b[0mcomplexjson\u001b[0m\u001b[1;33m.\u001b[0m\u001b[0mloads\u001b[0m\u001b[1;33m(\u001b[0m\u001b[0mself\u001b[0m\u001b[1;33m.\u001b[0m\u001b[0mtext\u001b[0m\u001b[1;33m,\u001b[0m \u001b[1;33m**\u001b[0m\u001b[0mkwargs\u001b[0m\u001b[1;33m)\u001b[0m\u001b[1;33m\u001b[0m\u001b[1;33m\u001b[0m\u001b[0m\n\u001b[0m\u001b[0;32m    901\u001b[0m \u001b[1;33m\u001b[0m\u001b[0m\n\u001b[0;32m    902\u001b[0m     \u001b[1;33m@\u001b[0m\u001b[0mproperty\u001b[0m\u001b[1;33m\u001b[0m\u001b[1;33m\u001b[0m\u001b[0m\n",
      "\u001b[1;32m~\\AppData\\Local\\Programs\\Python\\Python37\\lib\\json\\__init__.py\u001b[0m in \u001b[0;36mloads\u001b[1;34m(s, encoding, cls, object_hook, parse_float, parse_int, parse_constant, object_pairs_hook, **kw)\u001b[0m\n\u001b[0;32m    346\u001b[0m             \u001b[0mparse_int\u001b[0m \u001b[1;32mis\u001b[0m \u001b[1;32mNone\u001b[0m \u001b[1;32mand\u001b[0m \u001b[0mparse_float\u001b[0m \u001b[1;32mis\u001b[0m \u001b[1;32mNone\u001b[0m \u001b[1;32mand\u001b[0m\u001b[1;33m\u001b[0m\u001b[1;33m\u001b[0m\u001b[0m\n\u001b[0;32m    347\u001b[0m             parse_constant is None and object_pairs_hook is None and not kw):\n\u001b[1;32m--> 348\u001b[1;33m         \u001b[1;32mreturn\u001b[0m \u001b[0m_default_decoder\u001b[0m\u001b[1;33m.\u001b[0m\u001b[0mdecode\u001b[0m\u001b[1;33m(\u001b[0m\u001b[0ms\u001b[0m\u001b[1;33m)\u001b[0m\u001b[1;33m\u001b[0m\u001b[1;33m\u001b[0m\u001b[0m\n\u001b[0m\u001b[0;32m    349\u001b[0m     \u001b[1;32mif\u001b[0m \u001b[0mcls\u001b[0m \u001b[1;32mis\u001b[0m \u001b[1;32mNone\u001b[0m\u001b[1;33m:\u001b[0m\u001b[1;33m\u001b[0m\u001b[1;33m\u001b[0m\u001b[0m\n\u001b[0;32m    350\u001b[0m         \u001b[0mcls\u001b[0m \u001b[1;33m=\u001b[0m \u001b[0mJSONDecoder\u001b[0m\u001b[1;33m\u001b[0m\u001b[1;33m\u001b[0m\u001b[0m\n",
      "\u001b[1;32m~\\AppData\\Local\\Programs\\Python\\Python37\\lib\\json\\decoder.py\u001b[0m in \u001b[0;36mdecode\u001b[1;34m(self, s, _w)\u001b[0m\n\u001b[0;32m    335\u001b[0m \u001b[1;33m\u001b[0m\u001b[0m\n\u001b[0;32m    336\u001b[0m         \"\"\"\n\u001b[1;32m--> 337\u001b[1;33m         \u001b[0mobj\u001b[0m\u001b[1;33m,\u001b[0m \u001b[0mend\u001b[0m \u001b[1;33m=\u001b[0m \u001b[0mself\u001b[0m\u001b[1;33m.\u001b[0m\u001b[0mraw_decode\u001b[0m\u001b[1;33m(\u001b[0m\u001b[0ms\u001b[0m\u001b[1;33m,\u001b[0m \u001b[0midx\u001b[0m\u001b[1;33m=\u001b[0m\u001b[0m_w\u001b[0m\u001b[1;33m(\u001b[0m\u001b[0ms\u001b[0m\u001b[1;33m,\u001b[0m \u001b[1;36m0\u001b[0m\u001b[1;33m)\u001b[0m\u001b[1;33m.\u001b[0m\u001b[0mend\u001b[0m\u001b[1;33m(\u001b[0m\u001b[1;33m)\u001b[0m\u001b[1;33m)\u001b[0m\u001b[1;33m\u001b[0m\u001b[1;33m\u001b[0m\u001b[0m\n\u001b[0m\u001b[0;32m    338\u001b[0m         \u001b[0mend\u001b[0m \u001b[1;33m=\u001b[0m \u001b[0m_w\u001b[0m\u001b[1;33m(\u001b[0m\u001b[0ms\u001b[0m\u001b[1;33m,\u001b[0m \u001b[0mend\u001b[0m\u001b[1;33m)\u001b[0m\u001b[1;33m.\u001b[0m\u001b[0mend\u001b[0m\u001b[1;33m(\u001b[0m\u001b[1;33m)\u001b[0m\u001b[1;33m\u001b[0m\u001b[1;33m\u001b[0m\u001b[0m\n\u001b[0;32m    339\u001b[0m         \u001b[1;32mif\u001b[0m \u001b[0mend\u001b[0m \u001b[1;33m!=\u001b[0m \u001b[0mlen\u001b[0m\u001b[1;33m(\u001b[0m\u001b[0ms\u001b[0m\u001b[1;33m)\u001b[0m\u001b[1;33m:\u001b[0m\u001b[1;33m\u001b[0m\u001b[1;33m\u001b[0m\u001b[0m\n",
      "\u001b[1;32m~\\AppData\\Local\\Programs\\Python\\Python37\\lib\\json\\decoder.py\u001b[0m in \u001b[0;36mraw_decode\u001b[1;34m(self, s, idx)\u001b[0m\n\u001b[0;32m    353\u001b[0m             \u001b[0mobj\u001b[0m\u001b[1;33m,\u001b[0m \u001b[0mend\u001b[0m \u001b[1;33m=\u001b[0m \u001b[0mself\u001b[0m\u001b[1;33m.\u001b[0m\u001b[0mscan_once\u001b[0m\u001b[1;33m(\u001b[0m\u001b[0ms\u001b[0m\u001b[1;33m,\u001b[0m \u001b[0midx\u001b[0m\u001b[1;33m)\u001b[0m\u001b[1;33m\u001b[0m\u001b[1;33m\u001b[0m\u001b[0m\n\u001b[0;32m    354\u001b[0m         \u001b[1;32mexcept\u001b[0m \u001b[0mStopIteration\u001b[0m \u001b[1;32mas\u001b[0m \u001b[0merr\u001b[0m\u001b[1;33m:\u001b[0m\u001b[1;33m\u001b[0m\u001b[1;33m\u001b[0m\u001b[0m\n\u001b[1;32m--> 355\u001b[1;33m             \u001b[1;32mraise\u001b[0m \u001b[0mJSONDecodeError\u001b[0m\u001b[1;33m(\u001b[0m\u001b[1;34m\"Expecting value\"\u001b[0m\u001b[1;33m,\u001b[0m \u001b[0ms\u001b[0m\u001b[1;33m,\u001b[0m \u001b[0merr\u001b[0m\u001b[1;33m.\u001b[0m\u001b[0mvalue\u001b[0m\u001b[1;33m)\u001b[0m \u001b[1;32mfrom\u001b[0m \u001b[1;32mNone\u001b[0m\u001b[1;33m\u001b[0m\u001b[1;33m\u001b[0m\u001b[0m\n\u001b[0m\u001b[0;32m    356\u001b[0m         \u001b[1;32mreturn\u001b[0m \u001b[0mobj\u001b[0m\u001b[1;33m,\u001b[0m \u001b[0mend\u001b[0m\u001b[1;33m\u001b[0m\u001b[1;33m\u001b[0m\u001b[0m\n",
      "\u001b[1;31mJSONDecodeError\u001b[0m: Expecting value: line 1 column 1 (char 0)"
     ]
    }
   ],
   "source": [
    "qotd = requests.get(url_w).json()\n",
    "qotd"
   ]
  },
  {
   "cell_type": "code",
   "execution_count": 5,
   "metadata": {},
   "outputs": [
    {
     "output_type": "error",
     "ename": "NameError",
     "evalue": "name 'qotd' is not defined",
     "traceback": [
      "\u001b[1;31m---------------------------------------------------------------------------\u001b[0m",
      "\u001b[1;31mNameError\u001b[0m                                 Traceback (most recent call last)",
      "\u001b[1;32m<ipython-input-5-82ad4143e619>\u001b[0m in \u001b[0;36m<module>\u001b[1;34m\u001b[0m\n\u001b[1;32m----> 1\u001b[1;33m \u001b[0mqotd\u001b[0m\u001b[1;33m[\u001b[0m\u001b[1;34m\"quote\"\u001b[0m\u001b[1;33m]\u001b[0m\u001b[1;33m\u001b[0m\u001b[1;33m\u001b[0m\u001b[0m\n\u001b[0m",
      "\u001b[1;31mNameError\u001b[0m: name 'qotd' is not defined"
     ]
    }
   ],
   "source": [
    "qotd[\"quote\"]"
   ]
  },
  {
   "cell_type": "code",
   "execution_count": null,
   "metadata": {
    "tags": []
   },
   "outputs": [],
   "source": [
    "cita = qotd[\"quote\"]\n",
    "fecha = qotd[\"qotd_date\"][:10]\n",
    "autor = cita[\"author\"]\n",
    "cita_texto = cita[\"body\"]\n",
    "\n",
    "print(\"La frase del día\", fecha, \"es de\", autor, \"y es la siguiente:\\n\\n\" + cita_texto)"
   ]
  },
  {
   "cell_type": "code",
   "execution_count": null,
   "metadata": {},
   "outputs": [],
   "source": [
    "json_normalize(qotd)"
   ]
  },
  {
   "cell_type": "markdown",
   "metadata": {},
   "source": [
    "## API sin token"
   ]
  },
  {
   "cell_type": "markdown",
   "metadata": {},
   "source": [
    "**¿Qué es importante cuando tratamos con APIs?**\n",
    "Leer la documentación porque, si no lo hacemos, no sabemos cómo usarla. \n",
    "\n",
    "https://pokeapi.co\n",
    "\n",
    "https://pokeapi.co/docs/v2#pokemon"
   ]
  },
  {
   "source": [
    "------------------\n",
    "\n",
    "### Objetivo: \n",
    "\n",
    "Tener todos los nombres de pokemons junto con su url\n",
    "\n",
    "\n",
    "-----------------"
   ],
   "cell_type": "markdown",
   "metadata": {}
  },
  {
   "cell_type": "code",
   "execution_count": 6,
   "metadata": {},
   "outputs": [
    {
     "output_type": "execute_result",
     "data": {
      "text/plain": [
       "{'count': 1118,\n",
       " 'next': 'https://pokeapi.co/api/v2/pokemon?offset=20&limit=20',\n",
       " 'previous': None,\n",
       " 'results': [{'name': 'bulbasaur',\n",
       "   'url': 'https://pokeapi.co/api/v2/pokemon/1/'},\n",
       "  {'name': 'ivysaur', 'url': 'https://pokeapi.co/api/v2/pokemon/2/'},\n",
       "  {'name': 'venusaur', 'url': 'https://pokeapi.co/api/v2/pokemon/3/'},\n",
       "  {'name': 'charmander', 'url': 'https://pokeapi.co/api/v2/pokemon/4/'},\n",
       "  {'name': 'charmeleon', 'url': 'https://pokeapi.co/api/v2/pokemon/5/'},\n",
       "  {'name': 'charizard', 'url': 'https://pokeapi.co/api/v2/pokemon/6/'},\n",
       "  {'name': 'squirtle', 'url': 'https://pokeapi.co/api/v2/pokemon/7/'},\n",
       "  {'name': 'wartortle', 'url': 'https://pokeapi.co/api/v2/pokemon/8/'},\n",
       "  {'name': 'blastoise', 'url': 'https://pokeapi.co/api/v2/pokemon/9/'},\n",
       "  {'name': 'caterpie', 'url': 'https://pokeapi.co/api/v2/pokemon/10/'},\n",
       "  {'name': 'metapod', 'url': 'https://pokeapi.co/api/v2/pokemon/11/'},\n",
       "  {'name': 'butterfree', 'url': 'https://pokeapi.co/api/v2/pokemon/12/'},\n",
       "  {'name': 'weedle', 'url': 'https://pokeapi.co/api/v2/pokemon/13/'},\n",
       "  {'name': 'kakuna', 'url': 'https://pokeapi.co/api/v2/pokemon/14/'},\n",
       "  {'name': 'beedrill', 'url': 'https://pokeapi.co/api/v2/pokemon/15/'},\n",
       "  {'name': 'pidgey', 'url': 'https://pokeapi.co/api/v2/pokemon/16/'},\n",
       "  {'name': 'pidgeotto', 'url': 'https://pokeapi.co/api/v2/pokemon/17/'},\n",
       "  {'name': 'pidgeot', 'url': 'https://pokeapi.co/api/v2/pokemon/18/'},\n",
       "  {'name': 'rattata', 'url': 'https://pokeapi.co/api/v2/pokemon/19/'},\n",
       "  {'name': 'raticate', 'url': 'https://pokeapi.co/api/v2/pokemon/20/'}]}"
      ]
     },
     "metadata": {},
     "execution_count": 6
    }
   ],
   "source": [
    "# No todas las APIs devuelven todos los posibles valores debido a limitación de recursos\n",
    "\n",
    "url = \"https://pokeapi.co/api/v2/pokemon\"\n",
    "poke_json = requests.get(url).json()\n",
    "poke_json                 "
   ]
  },
  {
   "cell_type": "code",
   "execution_count": 7,
   "metadata": {},
   "outputs": [
    {
     "output_type": "stream",
     "name": "stderr",
     "text": [
      "ipykernel_launcher:1: FutureWarning: pandas.io.json.json_normalize is deprecated, use pandas.json_normalize instead\n"
     ]
    },
    {
     "output_type": "execute_result",
     "data": {
      "text/plain": [
       "   count                                               next previous  \\\n",
       "0   1118  https://pokeapi.co/api/v2/pokemon?offset=20&li...     None   \n",
       "\n",
       "                                             results  \n",
       "0  [{'name': 'bulbasaur', 'url': 'https://pokeapi...  "
      ],
      "text/html": "<div>\n<style scoped>\n    .dataframe tbody tr th:only-of-type {\n        vertical-align: middle;\n    }\n\n    .dataframe tbody tr th {\n        vertical-align: top;\n    }\n\n    .dataframe thead th {\n        text-align: right;\n    }\n</style>\n<table border=\"1\" class=\"dataframe\">\n  <thead>\n    <tr style=\"text-align: right;\">\n      <th></th>\n      <th>count</th>\n      <th>next</th>\n      <th>previous</th>\n      <th>results</th>\n    </tr>\n  </thead>\n  <tbody>\n    <tr>\n      <th>0</th>\n      <td>1118</td>\n      <td>https://pokeapi.co/api/v2/pokemon?offset=20&amp;li...</td>\n      <td>None</td>\n      <td>[{'name': 'bulbasaur', 'url': 'https://pokeapi...</td>\n    </tr>\n  </tbody>\n</table>\n</div>"
     },
     "metadata": {},
     "execution_count": 7
    }
   ],
   "source": [
    "json_normalize(poke_json)"
   ]
  },
  {
   "cell_type": "code",
   "execution_count": 8,
   "metadata": {},
   "outputs": [
    {
     "output_type": "execute_result",
     "data": {
      "text/plain": [
       "'https://pokeapi.co/api/v2/pokemon?offset=20&limit=20'"
      ]
     },
     "metadata": {},
     "execution_count": 8
    }
   ],
   "source": [
    "poke_json[\"next\"]"
   ]
  },
  {
   "cell_type": "code",
   "execution_count": null,
   "metadata": {},
   "outputs": [],
   "source": [
    "answer = requests.get(\"https://pokeapi.co/api/v2/pokemon?offset=0&limit=77\").json()\n",
    "answer"
   ]
  },
  {
   "cell_type": "code",
   "execution_count": 11,
   "metadata": {},
   "outputs": [
    {
     "output_type": "execute_result",
     "data": {
      "text/plain": [
       "{'count': 1118,\n",
       " 'next': 'https://pokeapi.co/api/v2/pokemon?offset=77&limit=77',\n",
       " 'previous': None,\n",
       " 'results': [{'name': 'bulbasaur',\n",
       "   'url': 'https://pokeapi.co/api/v2/pokemon/1/'},\n",
       "  {'name': 'ivysaur', 'url': 'https://pokeapi.co/api/v2/pokemon/2/'},\n",
       "  {'name': 'venusaur', 'url': 'https://pokeapi.co/api/v2/pokemon/3/'},\n",
       "  {'name': 'charmander', 'url': 'https://pokeapi.co/api/v2/pokemon/4/'},\n",
       "  {'name': 'charmeleon', 'url': 'https://pokeapi.co/api/v2/pokemon/5/'},\n",
       "  {'name': 'charizard', 'url': 'https://pokeapi.co/api/v2/pokemon/6/'},\n",
       "  {'name': 'squirtle', 'url': 'https://pokeapi.co/api/v2/pokemon/7/'},\n",
       "  {'name': 'wartortle', 'url': 'https://pokeapi.co/api/v2/pokemon/8/'},\n",
       "  {'name': 'blastoise', 'url': 'https://pokeapi.co/api/v2/pokemon/9/'},\n",
       "  {'name': 'caterpie', 'url': 'https://pokeapi.co/api/v2/pokemon/10/'},\n",
       "  {'name': 'metapod', 'url': 'https://pokeapi.co/api/v2/pokemon/11/'},\n",
       "  {'name': 'butterfree', 'url': 'https://pokeapi.co/api/v2/pokemon/12/'},\n",
       "  {'name': 'weedle', 'url': 'https://pokeapi.co/api/v2/pokemon/13/'},\n",
       "  {'name': 'kakuna', 'url': 'https://pokeapi.co/api/v2/pokemon/14/'},\n",
       "  {'name': 'beedrill', 'url': 'https://pokeapi.co/api/v2/pokemon/15/'},\n",
       "  {'name': 'pidgey', 'url': 'https://pokeapi.co/api/v2/pokemon/16/'},\n",
       "  {'name': 'pidgeotto', 'url': 'https://pokeapi.co/api/v2/pokemon/17/'},\n",
       "  {'name': 'pidgeot', 'url': 'https://pokeapi.co/api/v2/pokemon/18/'},\n",
       "  {'name': 'rattata', 'url': 'https://pokeapi.co/api/v2/pokemon/19/'},\n",
       "  {'name': 'raticate', 'url': 'https://pokeapi.co/api/v2/pokemon/20/'},\n",
       "  {'name': 'spearow', 'url': 'https://pokeapi.co/api/v2/pokemon/21/'},\n",
       "  {'name': 'fearow', 'url': 'https://pokeapi.co/api/v2/pokemon/22/'},\n",
       "  {'name': 'ekans', 'url': 'https://pokeapi.co/api/v2/pokemon/23/'},\n",
       "  {'name': 'arbok', 'url': 'https://pokeapi.co/api/v2/pokemon/24/'},\n",
       "  {'name': 'pikachu', 'url': 'https://pokeapi.co/api/v2/pokemon/25/'},\n",
       "  {'name': 'raichu', 'url': 'https://pokeapi.co/api/v2/pokemon/26/'},\n",
       "  {'name': 'sandshrew', 'url': 'https://pokeapi.co/api/v2/pokemon/27/'},\n",
       "  {'name': 'sandslash', 'url': 'https://pokeapi.co/api/v2/pokemon/28/'},\n",
       "  {'name': 'nidoran-f', 'url': 'https://pokeapi.co/api/v2/pokemon/29/'},\n",
       "  {'name': 'nidorina', 'url': 'https://pokeapi.co/api/v2/pokemon/30/'},\n",
       "  {'name': 'nidoqueen', 'url': 'https://pokeapi.co/api/v2/pokemon/31/'},\n",
       "  {'name': 'nidoran-m', 'url': 'https://pokeapi.co/api/v2/pokemon/32/'},\n",
       "  {'name': 'nidorino', 'url': 'https://pokeapi.co/api/v2/pokemon/33/'},\n",
       "  {'name': 'nidoking', 'url': 'https://pokeapi.co/api/v2/pokemon/34/'},\n",
       "  {'name': 'clefairy', 'url': 'https://pokeapi.co/api/v2/pokemon/35/'},\n",
       "  {'name': 'clefable', 'url': 'https://pokeapi.co/api/v2/pokemon/36/'},\n",
       "  {'name': 'vulpix', 'url': 'https://pokeapi.co/api/v2/pokemon/37/'},\n",
       "  {'name': 'ninetales', 'url': 'https://pokeapi.co/api/v2/pokemon/38/'},\n",
       "  {'name': 'jigglypuff', 'url': 'https://pokeapi.co/api/v2/pokemon/39/'},\n",
       "  {'name': 'wigglytuff', 'url': 'https://pokeapi.co/api/v2/pokemon/40/'},\n",
       "  {'name': 'zubat', 'url': 'https://pokeapi.co/api/v2/pokemon/41/'},\n",
       "  {'name': 'golbat', 'url': 'https://pokeapi.co/api/v2/pokemon/42/'},\n",
       "  {'name': 'oddish', 'url': 'https://pokeapi.co/api/v2/pokemon/43/'},\n",
       "  {'name': 'gloom', 'url': 'https://pokeapi.co/api/v2/pokemon/44/'},\n",
       "  {'name': 'vileplume', 'url': 'https://pokeapi.co/api/v2/pokemon/45/'},\n",
       "  {'name': 'paras', 'url': 'https://pokeapi.co/api/v2/pokemon/46/'},\n",
       "  {'name': 'parasect', 'url': 'https://pokeapi.co/api/v2/pokemon/47/'},\n",
       "  {'name': 'venonat', 'url': 'https://pokeapi.co/api/v2/pokemon/48/'},\n",
       "  {'name': 'venomoth', 'url': 'https://pokeapi.co/api/v2/pokemon/49/'},\n",
       "  {'name': 'diglett', 'url': 'https://pokeapi.co/api/v2/pokemon/50/'},\n",
       "  {'name': 'dugtrio', 'url': 'https://pokeapi.co/api/v2/pokemon/51/'},\n",
       "  {'name': 'meowth', 'url': 'https://pokeapi.co/api/v2/pokemon/52/'},\n",
       "  {'name': 'persian', 'url': 'https://pokeapi.co/api/v2/pokemon/53/'},\n",
       "  {'name': 'psyduck', 'url': 'https://pokeapi.co/api/v2/pokemon/54/'},\n",
       "  {'name': 'golduck', 'url': 'https://pokeapi.co/api/v2/pokemon/55/'},\n",
       "  {'name': 'mankey', 'url': 'https://pokeapi.co/api/v2/pokemon/56/'},\n",
       "  {'name': 'primeape', 'url': 'https://pokeapi.co/api/v2/pokemon/57/'},\n",
       "  {'name': 'growlithe', 'url': 'https://pokeapi.co/api/v2/pokemon/58/'},\n",
       "  {'name': 'arcanine', 'url': 'https://pokeapi.co/api/v2/pokemon/59/'},\n",
       "  {'name': 'poliwag', 'url': 'https://pokeapi.co/api/v2/pokemon/60/'},\n",
       "  {'name': 'poliwhirl', 'url': 'https://pokeapi.co/api/v2/pokemon/61/'},\n",
       "  {'name': 'poliwrath', 'url': 'https://pokeapi.co/api/v2/pokemon/62/'},\n",
       "  {'name': 'abra', 'url': 'https://pokeapi.co/api/v2/pokemon/63/'},\n",
       "  {'name': 'kadabra', 'url': 'https://pokeapi.co/api/v2/pokemon/64/'},\n",
       "  {'name': 'alakazam', 'url': 'https://pokeapi.co/api/v2/pokemon/65/'},\n",
       "  {'name': 'machop', 'url': 'https://pokeapi.co/api/v2/pokemon/66/'},\n",
       "  {'name': 'machoke', 'url': 'https://pokeapi.co/api/v2/pokemon/67/'},\n",
       "  {'name': 'machamp', 'url': 'https://pokeapi.co/api/v2/pokemon/68/'},\n",
       "  {'name': 'bellsprout', 'url': 'https://pokeapi.co/api/v2/pokemon/69/'},\n",
       "  {'name': 'weepinbell', 'url': 'https://pokeapi.co/api/v2/pokemon/70/'},\n",
       "  {'name': 'victreebel', 'url': 'https://pokeapi.co/api/v2/pokemon/71/'},\n",
       "  {'name': 'tentacool', 'url': 'https://pokeapi.co/api/v2/pokemon/72/'},\n",
       "  {'name': 'tentacruel', 'url': 'https://pokeapi.co/api/v2/pokemon/73/'},\n",
       "  {'name': 'geodude', 'url': 'https://pokeapi.co/api/v2/pokemon/74/'},\n",
       "  {'name': 'graveler', 'url': 'https://pokeapi.co/api/v2/pokemon/75/'},\n",
       "  {'name': 'golem', 'url': 'https://pokeapi.co/api/v2/pokemon/76/'},\n",
       "  {'name': 'ponyta', 'url': 'https://pokeapi.co/api/v2/pokemon/77/'}]}"
      ]
     },
     "metadata": {},
     "execution_count": 11
    }
   ],
   "source": [
    "answer = requests.get(\"https://pokeapi.co/api/v2/pokemon?offset=0&limit=77\").json() #si en el limite le ponemos mas van a salir mas y el offset es el primer numero. El pokemon antes de ? es que estamos usando el get. El interrogante es a partir de aqui empiezan los metadatos.\n",
    "#Vel el archivo de los parámetros\n",
    "answer"
   ]
  },
  {
   "cell_type": "code",
   "execution_count": 10,
   "metadata": {},
   "outputs": [
    {
     "output_type": "execute_result",
     "data": {
      "text/plain": [
       "{'count': 1118,\n",
       " 'next': 'https://pokeapi.co/api/v2/pokemon?offset=40&limit=20',\n",
       " 'previous': 'https://pokeapi.co/api/v2/pokemon?offset=0&limit=20',\n",
       " 'results': [{'name': 'spearow',\n",
       "   'url': 'https://pokeapi.co/api/v2/pokemon/21/'},\n",
       "  {'name': 'fearow', 'url': 'https://pokeapi.co/api/v2/pokemon/22/'},\n",
       "  {'name': 'ekans', 'url': 'https://pokeapi.co/api/v2/pokemon/23/'},\n",
       "  {'name': 'arbok', 'url': 'https://pokeapi.co/api/v2/pokemon/24/'},\n",
       "  {'name': 'pikachu', 'url': 'https://pokeapi.co/api/v2/pokemon/25/'},\n",
       "  {'name': 'raichu', 'url': 'https://pokeapi.co/api/v2/pokemon/26/'},\n",
       "  {'name': 'sandshrew', 'url': 'https://pokeapi.co/api/v2/pokemon/27/'},\n",
       "  {'name': 'sandslash', 'url': 'https://pokeapi.co/api/v2/pokemon/28/'},\n",
       "  {'name': 'nidoran-f', 'url': 'https://pokeapi.co/api/v2/pokemon/29/'},\n",
       "  {'name': 'nidorina', 'url': 'https://pokeapi.co/api/v2/pokemon/30/'},\n",
       "  {'name': 'nidoqueen', 'url': 'https://pokeapi.co/api/v2/pokemon/31/'},\n",
       "  {'name': 'nidoran-m', 'url': 'https://pokeapi.co/api/v2/pokemon/32/'},\n",
       "  {'name': 'nidorino', 'url': 'https://pokeapi.co/api/v2/pokemon/33/'},\n",
       "  {'name': 'nidoking', 'url': 'https://pokeapi.co/api/v2/pokemon/34/'},\n",
       "  {'name': 'clefairy', 'url': 'https://pokeapi.co/api/v2/pokemon/35/'},\n",
       "  {'name': 'clefable', 'url': 'https://pokeapi.co/api/v2/pokemon/36/'},\n",
       "  {'name': 'vulpix', 'url': 'https://pokeapi.co/api/v2/pokemon/37/'},\n",
       "  {'name': 'ninetales', 'url': 'https://pokeapi.co/api/v2/pokemon/38/'},\n",
       "  {'name': 'jigglypuff', 'url': 'https://pokeapi.co/api/v2/pokemon/39/'},\n",
       "  {'name': 'wigglytuff', 'url': 'https://pokeapi.co/api/v2/pokemon/40/'}]}"
      ]
     },
     "metadata": {},
     "execution_count": 10
    }
   ],
   "source": [
    "# Cogemos 77 pokemons\n",
    "#Si queremos coger o traer todos los pokemon, le podemos poner un numero muy muy alto al limite para que nos salgan los valores.\n",
    "#Si vemos que el next nos sale none es una buena manera de ver que ya no hay mas datos para traer\n",
    "\n",
    "\n",
    "answer = requests.get(poke_json[\"next\"]).json()\n",
    "answer"
   ]
  },
  {
   "cell_type": "code",
   "execution_count": null,
   "metadata": {},
   "outputs": [],
   "source": [
    "#Para hacer eso sin traer toda la informacion del query, podemos hacer el uso de answer para el data frame"
   ]
  },
  {
   "cell_type": "code",
   "execution_count": 12,
   "metadata": {},
   "outputs": [
    {
     "output_type": "execute_result",
     "data": {
      "text/plain": [
       "    count                                               next previous  \\\n",
       "0    1118  https://pokeapi.co/api/v2/pokemon?offset=77&li...     None   \n",
       "1    1118  https://pokeapi.co/api/v2/pokemon?offset=77&li...     None   \n",
       "2    1118  https://pokeapi.co/api/v2/pokemon?offset=77&li...     None   \n",
       "3    1118  https://pokeapi.co/api/v2/pokemon?offset=77&li...     None   \n",
       "4    1118  https://pokeapi.co/api/v2/pokemon?offset=77&li...     None   \n",
       "..    ...                                                ...      ...   \n",
       "72   1118  https://pokeapi.co/api/v2/pokemon?offset=77&li...     None   \n",
       "73   1118  https://pokeapi.co/api/v2/pokemon?offset=77&li...     None   \n",
       "74   1118  https://pokeapi.co/api/v2/pokemon?offset=77&li...     None   \n",
       "75   1118  https://pokeapi.co/api/v2/pokemon?offset=77&li...     None   \n",
       "76   1118  https://pokeapi.co/api/v2/pokemon?offset=77&li...     None   \n",
       "\n",
       "                                              results  \n",
       "0   {'name': 'bulbasaur', 'url': 'https://pokeapi....  \n",
       "1   {'name': 'ivysaur', 'url': 'https://pokeapi.co...  \n",
       "2   {'name': 'venusaur', 'url': 'https://pokeapi.c...  \n",
       "3   {'name': 'charmander', 'url': 'https://pokeapi...  \n",
       "4   {'name': 'charmeleon', 'url': 'https://pokeapi...  \n",
       "..                                                ...  \n",
       "72  {'name': 'tentacruel', 'url': 'https://pokeapi...  \n",
       "73  {'name': 'geodude', 'url': 'https://pokeapi.co...  \n",
       "74  {'name': 'graveler', 'url': 'https://pokeapi.c...  \n",
       "75  {'name': 'golem', 'url': 'https://pokeapi.co/a...  \n",
       "76  {'name': 'ponyta', 'url': 'https://pokeapi.co/...  \n",
       "\n",
       "[77 rows x 4 columns]"
      ],
      "text/html": "<div>\n<style scoped>\n    .dataframe tbody tr th:only-of-type {\n        vertical-align: middle;\n    }\n\n    .dataframe tbody tr th {\n        vertical-align: top;\n    }\n\n    .dataframe thead th {\n        text-align: right;\n    }\n</style>\n<table border=\"1\" class=\"dataframe\">\n  <thead>\n    <tr style=\"text-align: right;\">\n      <th></th>\n      <th>count</th>\n      <th>next</th>\n      <th>previous</th>\n      <th>results</th>\n    </tr>\n  </thead>\n  <tbody>\n    <tr>\n      <th>0</th>\n      <td>1118</td>\n      <td>https://pokeapi.co/api/v2/pokemon?offset=77&amp;li...</td>\n      <td>None</td>\n      <td>{'name': 'bulbasaur', 'url': 'https://pokeapi....</td>\n    </tr>\n    <tr>\n      <th>1</th>\n      <td>1118</td>\n      <td>https://pokeapi.co/api/v2/pokemon?offset=77&amp;li...</td>\n      <td>None</td>\n      <td>{'name': 'ivysaur', 'url': 'https://pokeapi.co...</td>\n    </tr>\n    <tr>\n      <th>2</th>\n      <td>1118</td>\n      <td>https://pokeapi.co/api/v2/pokemon?offset=77&amp;li...</td>\n      <td>None</td>\n      <td>{'name': 'venusaur', 'url': 'https://pokeapi.c...</td>\n    </tr>\n    <tr>\n      <th>3</th>\n      <td>1118</td>\n      <td>https://pokeapi.co/api/v2/pokemon?offset=77&amp;li...</td>\n      <td>None</td>\n      <td>{'name': 'charmander', 'url': 'https://pokeapi...</td>\n    </tr>\n    <tr>\n      <th>4</th>\n      <td>1118</td>\n      <td>https://pokeapi.co/api/v2/pokemon?offset=77&amp;li...</td>\n      <td>None</td>\n      <td>{'name': 'charmeleon', 'url': 'https://pokeapi...</td>\n    </tr>\n    <tr>\n      <th>...</th>\n      <td>...</td>\n      <td>...</td>\n      <td>...</td>\n      <td>...</td>\n    </tr>\n    <tr>\n      <th>72</th>\n      <td>1118</td>\n      <td>https://pokeapi.co/api/v2/pokemon?offset=77&amp;li...</td>\n      <td>None</td>\n      <td>{'name': 'tentacruel', 'url': 'https://pokeapi...</td>\n    </tr>\n    <tr>\n      <th>73</th>\n      <td>1118</td>\n      <td>https://pokeapi.co/api/v2/pokemon?offset=77&amp;li...</td>\n      <td>None</td>\n      <td>{'name': 'geodude', 'url': 'https://pokeapi.co...</td>\n    </tr>\n    <tr>\n      <th>74</th>\n      <td>1118</td>\n      <td>https://pokeapi.co/api/v2/pokemon?offset=77&amp;li...</td>\n      <td>None</td>\n      <td>{'name': 'graveler', 'url': 'https://pokeapi.c...</td>\n    </tr>\n    <tr>\n      <th>75</th>\n      <td>1118</td>\n      <td>https://pokeapi.co/api/v2/pokemon?offset=77&amp;li...</td>\n      <td>None</td>\n      <td>{'name': 'golem', 'url': 'https://pokeapi.co/a...</td>\n    </tr>\n    <tr>\n      <th>76</th>\n      <td>1118</td>\n      <td>https://pokeapi.co/api/v2/pokemon?offset=77&amp;li...</td>\n      <td>None</td>\n      <td>{'name': 'ponyta', 'url': 'https://pokeapi.co/...</td>\n    </tr>\n  </tbody>\n</table>\n<p>77 rows × 4 columns</p>\n</div>"
     },
     "metadata": {},
     "execution_count": 12
    }
   ],
   "source": [
    "df_pokemons = pd.DataFrame(answer)\n",
    "df_pokemons"
   ]
  },
  {
   "cell_type": "code",
   "execution_count": 13,
   "metadata": {},
   "outputs": [
    {
     "output_type": "execute_result",
     "data": {
      "text/plain": [
       "          name                                    url\n",
       "0    bulbasaur   https://pokeapi.co/api/v2/pokemon/1/\n",
       "1      ivysaur   https://pokeapi.co/api/v2/pokemon/2/\n",
       "2     venusaur   https://pokeapi.co/api/v2/pokemon/3/\n",
       "3   charmander   https://pokeapi.co/api/v2/pokemon/4/\n",
       "4   charmeleon   https://pokeapi.co/api/v2/pokemon/5/\n",
       "..         ...                                    ...\n",
       "72  tentacruel  https://pokeapi.co/api/v2/pokemon/73/\n",
       "73     geodude  https://pokeapi.co/api/v2/pokemon/74/\n",
       "74    graveler  https://pokeapi.co/api/v2/pokemon/75/\n",
       "75       golem  https://pokeapi.co/api/v2/pokemon/76/\n",
       "76      ponyta  https://pokeapi.co/api/v2/pokemon/77/\n",
       "\n",
       "[77 rows x 2 columns]"
      ],
      "text/html": "<div>\n<style scoped>\n    .dataframe tbody tr th:only-of-type {\n        vertical-align: middle;\n    }\n\n    .dataframe tbody tr th {\n        vertical-align: top;\n    }\n\n    .dataframe thead th {\n        text-align: right;\n    }\n</style>\n<table border=\"1\" class=\"dataframe\">\n  <thead>\n    <tr style=\"text-align: right;\">\n      <th></th>\n      <th>name</th>\n      <th>url</th>\n    </tr>\n  </thead>\n  <tbody>\n    <tr>\n      <th>0</th>\n      <td>bulbasaur</td>\n      <td>https://pokeapi.co/api/v2/pokemon/1/</td>\n    </tr>\n    <tr>\n      <th>1</th>\n      <td>ivysaur</td>\n      <td>https://pokeapi.co/api/v2/pokemon/2/</td>\n    </tr>\n    <tr>\n      <th>2</th>\n      <td>venusaur</td>\n      <td>https://pokeapi.co/api/v2/pokemon/3/</td>\n    </tr>\n    <tr>\n      <th>3</th>\n      <td>charmander</td>\n      <td>https://pokeapi.co/api/v2/pokemon/4/</td>\n    </tr>\n    <tr>\n      <th>4</th>\n      <td>charmeleon</td>\n      <td>https://pokeapi.co/api/v2/pokemon/5/</td>\n    </tr>\n    <tr>\n      <th>...</th>\n      <td>...</td>\n      <td>...</td>\n    </tr>\n    <tr>\n      <th>72</th>\n      <td>tentacruel</td>\n      <td>https://pokeapi.co/api/v2/pokemon/73/</td>\n    </tr>\n    <tr>\n      <th>73</th>\n      <td>geodude</td>\n      <td>https://pokeapi.co/api/v2/pokemon/74/</td>\n    </tr>\n    <tr>\n      <th>74</th>\n      <td>graveler</td>\n      <td>https://pokeapi.co/api/v2/pokemon/75/</td>\n    </tr>\n    <tr>\n      <th>75</th>\n      <td>golem</td>\n      <td>https://pokeapi.co/api/v2/pokemon/76/</td>\n    </tr>\n    <tr>\n      <th>76</th>\n      <td>ponyta</td>\n      <td>https://pokeapi.co/api/v2/pokemon/77/</td>\n    </tr>\n  </tbody>\n</table>\n<p>77 rows × 2 columns</p>\n</div>"
     },
     "metadata": {},
     "execution_count": 13
    }
   ],
   "source": [
    "#si para acceder a esos nuevos diccionarios, que estan albergados en la columna results, hacemos lo siguiente para poder entrar dentro de ese diccionario. Ahi vemos esa lista de json que representa esa columna. En la url está la direccion de la api a ese pokemon que se llama bulbasaur. Si desde python queremos ingresar a cada uno hacemos lo mismo, volver a ingresar \n",
    "\n",
    "df2 = pd.DataFrame(answer[\"results\"])\n",
    "df2"
   ]
  },
  {
   "cell_type": "code",
   "execution_count": 14,
   "metadata": {},
   "outputs": [
    {
     "output_type": "execute_result",
     "data": {
      "text/plain": [
       "[2, 4, 'a', 'b']"
      ]
     },
     "metadata": {},
     "execution_count": 14
    }
   ],
   "source": [
    "l1 = [2, 4]\n",
    "l2 = [\"a\", \"b\"]\n",
    "l1.extend(l2)\n",
    "l1"
   ]
  },
  {
   "cell_type": "code",
   "execution_count": 15,
   "metadata": {},
   "outputs": [
    {
     "output_type": "execute_result",
     "data": {
      "text/plain": [
       "{'count': 1118,\n",
       " 'next': 'https://pokeapi.co/api/v2/pokemon?offset=20&limit=20',\n",
       " 'previous': None,\n",
       " 'results': [{'name': 'bulbasaur',\n",
       "   'url': 'https://pokeapi.co/api/v2/pokemon/1/'},\n",
       "  {'name': 'ivysaur', 'url': 'https://pokeapi.co/api/v2/pokemon/2/'},\n",
       "  {'name': 'venusaur', 'url': 'https://pokeapi.co/api/v2/pokemon/3/'},\n",
       "  {'name': 'charmander', 'url': 'https://pokeapi.co/api/v2/pokemon/4/'},\n",
       "  {'name': 'charmeleon', 'url': 'https://pokeapi.co/api/v2/pokemon/5/'},\n",
       "  {'name': 'charizard', 'url': 'https://pokeapi.co/api/v2/pokemon/6/'},\n",
       "  {'name': 'squirtle', 'url': 'https://pokeapi.co/api/v2/pokemon/7/'},\n",
       "  {'name': 'wartortle', 'url': 'https://pokeapi.co/api/v2/pokemon/8/'},\n",
       "  {'name': 'blastoise', 'url': 'https://pokeapi.co/api/v2/pokemon/9/'},\n",
       "  {'name': 'caterpie', 'url': 'https://pokeapi.co/api/v2/pokemon/10/'},\n",
       "  {'name': 'metapod', 'url': 'https://pokeapi.co/api/v2/pokemon/11/'},\n",
       "  {'name': 'butterfree', 'url': 'https://pokeapi.co/api/v2/pokemon/12/'},\n",
       "  {'name': 'weedle', 'url': 'https://pokeapi.co/api/v2/pokemon/13/'},\n",
       "  {'name': 'kakuna', 'url': 'https://pokeapi.co/api/v2/pokemon/14/'},\n",
       "  {'name': 'beedrill', 'url': 'https://pokeapi.co/api/v2/pokemon/15/'},\n",
       "  {'name': 'pidgey', 'url': 'https://pokeapi.co/api/v2/pokemon/16/'},\n",
       "  {'name': 'pidgeotto', 'url': 'https://pokeapi.co/api/v2/pokemon/17/'},\n",
       "  {'name': 'pidgeot', 'url': 'https://pokeapi.co/api/v2/pokemon/18/'},\n",
       "  {'name': 'rattata', 'url': 'https://pokeapi.co/api/v2/pokemon/19/'},\n",
       "  {'name': 'raticate', 'url': 'https://pokeapi.co/api/v2/pokemon/20/'}]}"
      ]
     },
     "metadata": {},
     "execution_count": 15
    }
   ],
   "source": [
    "poke_json #lo utilizabamos para la primera llamada a la ap"
   ]
  },
  {
   "cell_type": "code",
   "execution_count": 16,
   "metadata": {
    "tags": []
   },
   "outputs": [
    {
     "output_type": "execute_result",
     "data": {
      "text/plain": [
       "[{'name': 'bulbasaur', 'url': 'https://pokeapi.co/api/v2/pokemon/1/'},\n",
       " {'name': 'ivysaur', 'url': 'https://pokeapi.co/api/v2/pokemon/2/'},\n",
       " {'name': 'venusaur', 'url': 'https://pokeapi.co/api/v2/pokemon/3/'},\n",
       " {'name': 'charmander', 'url': 'https://pokeapi.co/api/v2/pokemon/4/'},\n",
       " {'name': 'charmeleon', 'url': 'https://pokeapi.co/api/v2/pokemon/5/'},\n",
       " {'name': 'charizard', 'url': 'https://pokeapi.co/api/v2/pokemon/6/'},\n",
       " {'name': 'squirtle', 'url': 'https://pokeapi.co/api/v2/pokemon/7/'},\n",
       " {'name': 'wartortle', 'url': 'https://pokeapi.co/api/v2/pokemon/8/'},\n",
       " {'name': 'blastoise', 'url': 'https://pokeapi.co/api/v2/pokemon/9/'},\n",
       " {'name': 'caterpie', 'url': 'https://pokeapi.co/api/v2/pokemon/10/'},\n",
       " {'name': 'metapod', 'url': 'https://pokeapi.co/api/v2/pokemon/11/'},\n",
       " {'name': 'butterfree', 'url': 'https://pokeapi.co/api/v2/pokemon/12/'},\n",
       " {'name': 'weedle', 'url': 'https://pokeapi.co/api/v2/pokemon/13/'},\n",
       " {'name': 'kakuna', 'url': 'https://pokeapi.co/api/v2/pokemon/14/'},\n",
       " {'name': 'beedrill', 'url': 'https://pokeapi.co/api/v2/pokemon/15/'},\n",
       " {'name': 'pidgey', 'url': 'https://pokeapi.co/api/v2/pokemon/16/'},\n",
       " {'name': 'pidgeotto', 'url': 'https://pokeapi.co/api/v2/pokemon/17/'},\n",
       " {'name': 'pidgeot', 'url': 'https://pokeapi.co/api/v2/pokemon/18/'},\n",
       " {'name': 'rattata', 'url': 'https://pokeapi.co/api/v2/pokemon/19/'},\n",
       " {'name': 'raticate', 'url': 'https://pokeapi.co/api/v2/pokemon/20/'}]"
      ]
     },
     "metadata": {},
     "execution_count": 16
    }
   ],
   "source": [
    "pokemon = [] # para contener todos los resultados de la api\n",
    "poke_dict = {\"name\":\"url\"} #crear un data frame que va a tener una clave name y una url que es el valor de la url asociado al codigo name\n",
    "\n",
    "pokemon.extend(poke_json[\"results\"])\n",
    "pokemon"
   ]
  },
  {
   "cell_type": "code",
   "execution_count": 17,
   "metadata": {},
   "outputs": [
    {
     "output_type": "stream",
     "name": "stdout",
     "text": [
      "40\nWall time: 601 ms\n"
     ]
    },
    {
     "output_type": "execute_result",
     "data": {
      "text/plain": [
       "[{'name': 'bulbasaur', 'url': 'https://pokeapi.co/api/v2/pokemon/1/'},\n",
       " {'name': 'ivysaur', 'url': 'https://pokeapi.co/api/v2/pokemon/2/'},\n",
       " {'name': 'venusaur', 'url': 'https://pokeapi.co/api/v2/pokemon/3/'},\n",
       " {'name': 'charmander', 'url': 'https://pokeapi.co/api/v2/pokemon/4/'},\n",
       " {'name': 'charmeleon', 'url': 'https://pokeapi.co/api/v2/pokemon/5/'},\n",
       " {'name': 'charizard', 'url': 'https://pokeapi.co/api/v2/pokemon/6/'},\n",
       " {'name': 'squirtle', 'url': 'https://pokeapi.co/api/v2/pokemon/7/'},\n",
       " {'name': 'wartortle', 'url': 'https://pokeapi.co/api/v2/pokemon/8/'},\n",
       " {'name': 'blastoise', 'url': 'https://pokeapi.co/api/v2/pokemon/9/'},\n",
       " {'name': 'caterpie', 'url': 'https://pokeapi.co/api/v2/pokemon/10/'},\n",
       " {'name': 'metapod', 'url': 'https://pokeapi.co/api/v2/pokemon/11/'},\n",
       " {'name': 'butterfree', 'url': 'https://pokeapi.co/api/v2/pokemon/12/'},\n",
       " {'name': 'weedle', 'url': 'https://pokeapi.co/api/v2/pokemon/13/'},\n",
       " {'name': 'kakuna', 'url': 'https://pokeapi.co/api/v2/pokemon/14/'},\n",
       " {'name': 'beedrill', 'url': 'https://pokeapi.co/api/v2/pokemon/15/'},\n",
       " {'name': 'pidgey', 'url': 'https://pokeapi.co/api/v2/pokemon/16/'},\n",
       " {'name': 'pidgeotto', 'url': 'https://pokeapi.co/api/v2/pokemon/17/'},\n",
       " {'name': 'pidgeot', 'url': 'https://pokeapi.co/api/v2/pokemon/18/'},\n",
       " {'name': 'rattata', 'url': 'https://pokeapi.co/api/v2/pokemon/19/'},\n",
       " {'name': 'raticate', 'url': 'https://pokeapi.co/api/v2/pokemon/20/'},\n",
       " {'name': 'spearow', 'url': 'https://pokeapi.co/api/v2/pokemon/21/'},\n",
       " {'name': 'fearow', 'url': 'https://pokeapi.co/api/v2/pokemon/22/'},\n",
       " {'name': 'ekans', 'url': 'https://pokeapi.co/api/v2/pokemon/23/'},\n",
       " {'name': 'arbok', 'url': 'https://pokeapi.co/api/v2/pokemon/24/'},\n",
       " {'name': 'pikachu', 'url': 'https://pokeapi.co/api/v2/pokemon/25/'},\n",
       " {'name': 'raichu', 'url': 'https://pokeapi.co/api/v2/pokemon/26/'},\n",
       " {'name': 'sandshrew', 'url': 'https://pokeapi.co/api/v2/pokemon/27/'},\n",
       " {'name': 'sandslash', 'url': 'https://pokeapi.co/api/v2/pokemon/28/'},\n",
       " {'name': 'nidoran-f', 'url': 'https://pokeapi.co/api/v2/pokemon/29/'},\n",
       " {'name': 'nidorina', 'url': 'https://pokeapi.co/api/v2/pokemon/30/'},\n",
       " {'name': 'nidoqueen', 'url': 'https://pokeapi.co/api/v2/pokemon/31/'},\n",
       " {'name': 'nidoran-m', 'url': 'https://pokeapi.co/api/v2/pokemon/32/'},\n",
       " {'name': 'nidorino', 'url': 'https://pokeapi.co/api/v2/pokemon/33/'},\n",
       " {'name': 'nidoking', 'url': 'https://pokeapi.co/api/v2/pokemon/34/'},\n",
       " {'name': 'clefairy', 'url': 'https://pokeapi.co/api/v2/pokemon/35/'},\n",
       " {'name': 'clefable', 'url': 'https://pokeapi.co/api/v2/pokemon/36/'},\n",
       " {'name': 'vulpix', 'url': 'https://pokeapi.co/api/v2/pokemon/37/'},\n",
       " {'name': 'ninetales', 'url': 'https://pokeapi.co/api/v2/pokemon/38/'},\n",
       " {'name': 'jigglypuff', 'url': 'https://pokeapi.co/api/v2/pokemon/39/'},\n",
       " {'name': 'wigglytuff', 'url': 'https://pokeapi.co/api/v2/pokemon/40/'}]"
      ]
     },
     "metadata": {},
     "execution_count": 17
    }
   ],
   "source": [
    "%%time\n",
    "pokemon_api_url = \"https://pokeapi.co/api/v2/pokemon\"\n",
    "poke_json = requests.get(pokemon_api_url).json()\n",
    "pokemon = []\n",
    "\n",
    "# Almacenamos 40 pokemons realizando peticiones hasta que la lista de pokemons tenga 40 o más pokemons. Hasta que ya no tenga 40 pokemos voy a parar el boucle. Es un boucle para conseguir la cantidad de informacion que quiero.\n",
    "#Esta sería una forma de limitar la informacion que voy a traer. Por que hay una cantidad de información tan amplia en el mercado. \n",
    "while len(pokemon) < 40:\n",
    "#while len(pokemon) < 1118:\n",
    "    pokemon.extend(poke_json[\"results\"])\n",
    "    next_url = poke_json[\"next\"]\n",
    "    poke_json = requests.get(next_url).json()\n",
    "print(len(pokemon))\n",
    "pokemon"
   ]
  },
  {
   "cell_type": "code",
   "execution_count": null,
   "metadata": {},
   "outputs": [],
   "source": [
    "%%time #mide el tiempo que tarda en ejecutarse esta celda de código\n",
    "pokemon_api_url = \"https://pokeapi.co/api/v2/pokemon\"\n",
    "poke_json = requests.get(pokemon_api_url).json()\n",
    "pokemon = []\n",
    "\n",
    "import time\n",
    "while poke_json[\"next\"] != None: #aqui es que mientras la clave next no sea none va a seguir haciendo una llamada. \n",
    "    pokemon.extend(poke_json[\"results\"])\n",
    "    next_url = poke_json[\"next\"]\n",
    "    poke_json = requests.get(next_url).json()\n",
    "    #print(poke_json[\"next\"])\n",
    "    #time.sleep(1) #si va sin el # significa que se pare un segundo antes de la siguiente llamada\n",
    "pokemon.extend(poke_json[\"results\"])\n",
    "\n",
    "print(len(pokemon))\n",
    "pokemon"
   ]
  },
  {
   "cell_type": "code",
   "execution_count": null,
   "metadata": {},
   "outputs": [],
   "source": []
  },
  {
   "cell_type": "code",
   "execution_count": 18,
   "metadata": {},
   "outputs": [
    {
     "output_type": "execute_result",
     "data": {
      "text/plain": [
       "{'bulbasaur': 'https://pokeapi.co/api/v2/pokemon/1/',\n",
       " 'ivysaur': 'https://pokeapi.co/api/v2/pokemon/2/',\n",
       " 'venusaur': 'https://pokeapi.co/api/v2/pokemon/3/',\n",
       " 'charmander': 'https://pokeapi.co/api/v2/pokemon/4/',\n",
       " 'charmeleon': 'https://pokeapi.co/api/v2/pokemon/5/',\n",
       " 'charizard': 'https://pokeapi.co/api/v2/pokemon/6/',\n",
       " 'squirtle': 'https://pokeapi.co/api/v2/pokemon/7/',\n",
       " 'wartortle': 'https://pokeapi.co/api/v2/pokemon/8/',\n",
       " 'blastoise': 'https://pokeapi.co/api/v2/pokemon/9/',\n",
       " 'caterpie': 'https://pokeapi.co/api/v2/pokemon/10/',\n",
       " 'metapod': 'https://pokeapi.co/api/v2/pokemon/11/',\n",
       " 'butterfree': 'https://pokeapi.co/api/v2/pokemon/12/',\n",
       " 'weedle': 'https://pokeapi.co/api/v2/pokemon/13/',\n",
       " 'kakuna': 'https://pokeapi.co/api/v2/pokemon/14/',\n",
       " 'beedrill': 'https://pokeapi.co/api/v2/pokemon/15/',\n",
       " 'pidgey': 'https://pokeapi.co/api/v2/pokemon/16/',\n",
       " 'pidgeotto': 'https://pokeapi.co/api/v2/pokemon/17/',\n",
       " 'pidgeot': 'https://pokeapi.co/api/v2/pokemon/18/',\n",
       " 'rattata': 'https://pokeapi.co/api/v2/pokemon/19/',\n",
       " 'raticate': 'https://pokeapi.co/api/v2/pokemon/20/',\n",
       " 'spearow': 'https://pokeapi.co/api/v2/pokemon/21/',\n",
       " 'fearow': 'https://pokeapi.co/api/v2/pokemon/22/',\n",
       " 'ekans': 'https://pokeapi.co/api/v2/pokemon/23/',\n",
       " 'arbok': 'https://pokeapi.co/api/v2/pokemon/24/',\n",
       " 'pikachu': 'https://pokeapi.co/api/v2/pokemon/25/',\n",
       " 'raichu': 'https://pokeapi.co/api/v2/pokemon/26/',\n",
       " 'sandshrew': 'https://pokeapi.co/api/v2/pokemon/27/',\n",
       " 'sandslash': 'https://pokeapi.co/api/v2/pokemon/28/',\n",
       " 'nidoran-f': 'https://pokeapi.co/api/v2/pokemon/29/',\n",
       " 'nidorina': 'https://pokeapi.co/api/v2/pokemon/30/',\n",
       " 'nidoqueen': 'https://pokeapi.co/api/v2/pokemon/31/',\n",
       " 'nidoran-m': 'https://pokeapi.co/api/v2/pokemon/32/',\n",
       " 'nidorino': 'https://pokeapi.co/api/v2/pokemon/33/',\n",
       " 'nidoking': 'https://pokeapi.co/api/v2/pokemon/34/',\n",
       " 'clefairy': 'https://pokeapi.co/api/v2/pokemon/35/',\n",
       " 'clefable': 'https://pokeapi.co/api/v2/pokemon/36/',\n",
       " 'vulpix': 'https://pokeapi.co/api/v2/pokemon/37/',\n",
       " 'ninetales': 'https://pokeapi.co/api/v2/pokemon/38/',\n",
       " 'jigglypuff': 'https://pokeapi.co/api/v2/pokemon/39/',\n",
       " 'wigglytuff': 'https://pokeapi.co/api/v2/pokemon/40/'}"
      ]
     },
     "metadata": {},
     "execution_count": 18
    }
   ],
   "source": [
    "diccionario_pokemons_url = {}\n",
    "for i, e in enumerate(pokemon):\n",
    "    nombre_pokemon = pokemon[i][\"name\"]\n",
    "    url_pokemon = pokemon[i][\"url\"]\n",
    "    diccionario_pokemons_url[nombre_pokemon] = url_pokemon\n",
    "\n",
    "diccionario_pokemons_url"
   ]
  },
  {
   "cell_type": "code",
   "execution_count": 19,
   "metadata": {},
   "outputs": [
    {
     "output_type": "execute_result",
     "data": {
      "text/plain": [
       "                                              url\n",
       "bulbasaur    https://pokeapi.co/api/v2/pokemon/1/\n",
       "ivysaur      https://pokeapi.co/api/v2/pokemon/2/\n",
       "venusaur     https://pokeapi.co/api/v2/pokemon/3/\n",
       "charmander   https://pokeapi.co/api/v2/pokemon/4/\n",
       "charmeleon   https://pokeapi.co/api/v2/pokemon/5/\n",
       "charizard    https://pokeapi.co/api/v2/pokemon/6/\n",
       "squirtle     https://pokeapi.co/api/v2/pokemon/7/\n",
       "wartortle    https://pokeapi.co/api/v2/pokemon/8/\n",
       "blastoise    https://pokeapi.co/api/v2/pokemon/9/\n",
       "caterpie    https://pokeapi.co/api/v2/pokemon/10/\n",
       "metapod     https://pokeapi.co/api/v2/pokemon/11/\n",
       "butterfree  https://pokeapi.co/api/v2/pokemon/12/\n",
       "weedle      https://pokeapi.co/api/v2/pokemon/13/\n",
       "kakuna      https://pokeapi.co/api/v2/pokemon/14/\n",
       "beedrill    https://pokeapi.co/api/v2/pokemon/15/\n",
       "pidgey      https://pokeapi.co/api/v2/pokemon/16/\n",
       "pidgeotto   https://pokeapi.co/api/v2/pokemon/17/\n",
       "pidgeot     https://pokeapi.co/api/v2/pokemon/18/\n",
       "rattata     https://pokeapi.co/api/v2/pokemon/19/\n",
       "raticate    https://pokeapi.co/api/v2/pokemon/20/\n",
       "spearow     https://pokeapi.co/api/v2/pokemon/21/\n",
       "fearow      https://pokeapi.co/api/v2/pokemon/22/\n",
       "ekans       https://pokeapi.co/api/v2/pokemon/23/\n",
       "arbok       https://pokeapi.co/api/v2/pokemon/24/\n",
       "pikachu     https://pokeapi.co/api/v2/pokemon/25/\n",
       "raichu      https://pokeapi.co/api/v2/pokemon/26/\n",
       "sandshrew   https://pokeapi.co/api/v2/pokemon/27/\n",
       "sandslash   https://pokeapi.co/api/v2/pokemon/28/\n",
       "nidoran-f   https://pokeapi.co/api/v2/pokemon/29/\n",
       "nidorina    https://pokeapi.co/api/v2/pokemon/30/\n",
       "nidoqueen   https://pokeapi.co/api/v2/pokemon/31/\n",
       "nidoran-m   https://pokeapi.co/api/v2/pokemon/32/\n",
       "nidorino    https://pokeapi.co/api/v2/pokemon/33/\n",
       "nidoking    https://pokeapi.co/api/v2/pokemon/34/\n",
       "clefairy    https://pokeapi.co/api/v2/pokemon/35/\n",
       "clefable    https://pokeapi.co/api/v2/pokemon/36/\n",
       "vulpix      https://pokeapi.co/api/v2/pokemon/37/\n",
       "ninetales   https://pokeapi.co/api/v2/pokemon/38/\n",
       "jigglypuff  https://pokeapi.co/api/v2/pokemon/39/\n",
       "wigglytuff  https://pokeapi.co/api/v2/pokemon/40/"
      ],
      "text/html": "<div>\n<style scoped>\n    .dataframe tbody tr th:only-of-type {\n        vertical-align: middle;\n    }\n\n    .dataframe tbody tr th {\n        vertical-align: top;\n    }\n\n    .dataframe thead th {\n        text-align: right;\n    }\n</style>\n<table border=\"1\" class=\"dataframe\">\n  <thead>\n    <tr style=\"text-align: right;\">\n      <th></th>\n      <th>url</th>\n    </tr>\n  </thead>\n  <tbody>\n    <tr>\n      <th>bulbasaur</th>\n      <td>https://pokeapi.co/api/v2/pokemon/1/</td>\n    </tr>\n    <tr>\n      <th>ivysaur</th>\n      <td>https://pokeapi.co/api/v2/pokemon/2/</td>\n    </tr>\n    <tr>\n      <th>venusaur</th>\n      <td>https://pokeapi.co/api/v2/pokemon/3/</td>\n    </tr>\n    <tr>\n      <th>charmander</th>\n      <td>https://pokeapi.co/api/v2/pokemon/4/</td>\n    </tr>\n    <tr>\n      <th>charmeleon</th>\n      <td>https://pokeapi.co/api/v2/pokemon/5/</td>\n    </tr>\n    <tr>\n      <th>charizard</th>\n      <td>https://pokeapi.co/api/v2/pokemon/6/</td>\n    </tr>\n    <tr>\n      <th>squirtle</th>\n      <td>https://pokeapi.co/api/v2/pokemon/7/</td>\n    </tr>\n    <tr>\n      <th>wartortle</th>\n      <td>https://pokeapi.co/api/v2/pokemon/8/</td>\n    </tr>\n    <tr>\n      <th>blastoise</th>\n      <td>https://pokeapi.co/api/v2/pokemon/9/</td>\n    </tr>\n    <tr>\n      <th>caterpie</th>\n      <td>https://pokeapi.co/api/v2/pokemon/10/</td>\n    </tr>\n    <tr>\n      <th>metapod</th>\n      <td>https://pokeapi.co/api/v2/pokemon/11/</td>\n    </tr>\n    <tr>\n      <th>butterfree</th>\n      <td>https://pokeapi.co/api/v2/pokemon/12/</td>\n    </tr>\n    <tr>\n      <th>weedle</th>\n      <td>https://pokeapi.co/api/v2/pokemon/13/</td>\n    </tr>\n    <tr>\n      <th>kakuna</th>\n      <td>https://pokeapi.co/api/v2/pokemon/14/</td>\n    </tr>\n    <tr>\n      <th>beedrill</th>\n      <td>https://pokeapi.co/api/v2/pokemon/15/</td>\n    </tr>\n    <tr>\n      <th>pidgey</th>\n      <td>https://pokeapi.co/api/v2/pokemon/16/</td>\n    </tr>\n    <tr>\n      <th>pidgeotto</th>\n      <td>https://pokeapi.co/api/v2/pokemon/17/</td>\n    </tr>\n    <tr>\n      <th>pidgeot</th>\n      <td>https://pokeapi.co/api/v2/pokemon/18/</td>\n    </tr>\n    <tr>\n      <th>rattata</th>\n      <td>https://pokeapi.co/api/v2/pokemon/19/</td>\n    </tr>\n    <tr>\n      <th>raticate</th>\n      <td>https://pokeapi.co/api/v2/pokemon/20/</td>\n    </tr>\n    <tr>\n      <th>spearow</th>\n      <td>https://pokeapi.co/api/v2/pokemon/21/</td>\n    </tr>\n    <tr>\n      <th>fearow</th>\n      <td>https://pokeapi.co/api/v2/pokemon/22/</td>\n    </tr>\n    <tr>\n      <th>ekans</th>\n      <td>https://pokeapi.co/api/v2/pokemon/23/</td>\n    </tr>\n    <tr>\n      <th>arbok</th>\n      <td>https://pokeapi.co/api/v2/pokemon/24/</td>\n    </tr>\n    <tr>\n      <th>pikachu</th>\n      <td>https://pokeapi.co/api/v2/pokemon/25/</td>\n    </tr>\n    <tr>\n      <th>raichu</th>\n      <td>https://pokeapi.co/api/v2/pokemon/26/</td>\n    </tr>\n    <tr>\n      <th>sandshrew</th>\n      <td>https://pokeapi.co/api/v2/pokemon/27/</td>\n    </tr>\n    <tr>\n      <th>sandslash</th>\n      <td>https://pokeapi.co/api/v2/pokemon/28/</td>\n    </tr>\n    <tr>\n      <th>nidoran-f</th>\n      <td>https://pokeapi.co/api/v2/pokemon/29/</td>\n    </tr>\n    <tr>\n      <th>nidorina</th>\n      <td>https://pokeapi.co/api/v2/pokemon/30/</td>\n    </tr>\n    <tr>\n      <th>nidoqueen</th>\n      <td>https://pokeapi.co/api/v2/pokemon/31/</td>\n    </tr>\n    <tr>\n      <th>nidoran-m</th>\n      <td>https://pokeapi.co/api/v2/pokemon/32/</td>\n    </tr>\n    <tr>\n      <th>nidorino</th>\n      <td>https://pokeapi.co/api/v2/pokemon/33/</td>\n    </tr>\n    <tr>\n      <th>nidoking</th>\n      <td>https://pokeapi.co/api/v2/pokemon/34/</td>\n    </tr>\n    <tr>\n      <th>clefairy</th>\n      <td>https://pokeapi.co/api/v2/pokemon/35/</td>\n    </tr>\n    <tr>\n      <th>clefable</th>\n      <td>https://pokeapi.co/api/v2/pokemon/36/</td>\n    </tr>\n    <tr>\n      <th>vulpix</th>\n      <td>https://pokeapi.co/api/v2/pokemon/37/</td>\n    </tr>\n    <tr>\n      <th>ninetales</th>\n      <td>https://pokeapi.co/api/v2/pokemon/38/</td>\n    </tr>\n    <tr>\n      <th>jigglypuff</th>\n      <td>https://pokeapi.co/api/v2/pokemon/39/</td>\n    </tr>\n    <tr>\n      <th>wigglytuff</th>\n      <td>https://pokeapi.co/api/v2/pokemon/40/</td>\n    </tr>\n  </tbody>\n</table>\n</div>"
     },
     "metadata": {},
     "execution_count": 19
    }
   ],
   "source": [
    "df = pd.DataFrame(diccionario_pokemons_url, index=[\"url\"])\n",
    "df = df.T #df.T el T es transpuesto, si se ve el jason que nos ha dado , se puede ver como cada una de las keys son las claves que tiene y los valores son las url. Si no le pongo traspose se hace una fila, no se cuantas columnas\n",
    "df"
   ]
  },
  {
   "cell_type": "code",
   "execution_count": 20,
   "metadata": {},
   "outputs": [
    {
     "output_type": "stream",
     "name": "stdout",
     "text": [
      "<class 'numpy.ndarray'>\n"
     ]
    },
    {
     "output_type": "execute_result",
     "data": {
      "text/plain": [
       "Index(['bulbasaur', 'ivysaur', 'venusaur', 'charmander', 'charmeleon',\n",
       "       'charizard', 'squirtle', 'wartortle', 'blastoise', 'caterpie',\n",
       "       'metapod', 'butterfree', 'weedle', 'kakuna', 'beedrill', 'pidgey',\n",
       "       'pidgeotto', 'pidgeot', 'rattata', 'raticate', 'spearow', 'fearow',\n",
       "       'ekans', 'arbok', 'pikachu', 'raichu', 'sandshrew', 'sandslash',\n",
       "       'nidoran-f', 'nidorina', 'nidoqueen', 'nidoran-m', 'nidorino',\n",
       "       'nidoking', 'clefairy', 'clefable', 'vulpix', 'ninetales', 'jigglypuff',\n",
       "       'wigglytuff'],\n",
       "      dtype='object')"
      ]
     },
     "metadata": {},
     "execution_count": 20
    }
   ],
   "source": [
    "# Para acceder al índice de cualquier DataFrame\n",
    "print(type(df.T.index.values))\n",
    "df.index"
   ]
  },
  {
   "source": [
    "for nombre_pokemon, url in diccionario_pokemons_url.items():\n",
    "    peticion_api_url = requests.get(url).json()\n",
    "    print(nombre_pokemon)\n",
    "    print(url)\n",
    "    break\n",
    "\n",
    "peticion_api_url"
   ],
   "cell_type": "code",
   "metadata": {},
   "execution_count": 21,
   "outputs": [
    {
     "output_type": "stream",
     "name": "stdout",
     "text": [
      "bulbasaur\nhttps://pokeapi.co/api/v2/pokemon/1/\n"
     ]
    },
    {
     "output_type": "execute_result",
     "data": {
      "text/plain": [
       "arn_method': {'name': 'machine',\n",
       "      'url': 'https://pokeapi.co/api/v2/move-learn-method/4/'},\n",
       "     'version_group': {'name': 'x-y',\n",
       "      'url': 'https://pokeapi.co/api/v2/version-group/15/'}},\n",
       "    {'level_learned_at': 0,\n",
       "     'move_learn_method': {'name': 'machine',\n",
       "      'url': 'https://pokeapi.co/api/v2/move-learn-method/4/'},\n",
       "     'version_group': {'name': 'omega-ruby-alpha-sapphire',\n",
       "      'url': 'https://pokeapi.co/api/v2/version-group/16/'}},\n",
       "    {'level_learned_at': 0,\n",
       "     'move_learn_method': {'name': 'machine',\n",
       "      'url': 'https://pokeapi.co/api/v2/move-learn-method/4/'},\n",
       "     'version_group': {'name': 'sun-moon',\n",
       "      'url': 'https://pokeapi.co/api/v2/version-group/17/'}},\n",
       "    {'level_learned_at': 0,\n",
       "     'move_learn_method': {'name': 'machine',\n",
       "      'url': 'https://pokeapi.co/api/v2/move-learn-method/4/'},\n",
       "     'version_group': {'name': 'ultra-sun-ultra-moon',\n",
       "      'url': 'https://pokeapi.co/api/v2/version-group/18/'}}]},\n",
       "  {'move': {'name': 'round', 'url': 'https://pokeapi.co/api/v2/move/496/'},\n",
       "   'version_group_details': [{'level_learned_at': 0,\n",
       "     'move_learn_method': {'name': 'machine',\n",
       "      'url': 'https://pokeapi.co/api/v2/move-learn-method/4/'},\n",
       "     'version_group': {'name': 'black-white',\n",
       "      'url': 'https://pokeapi.co/api/v2/version-group/11/'}},\n",
       "    {'level_learned_at': 0,\n",
       "     'move_learn_method': {'name': 'machine',\n",
       "      'url': 'https://pokeapi.co/api/v2/move-learn-method/4/'},\n",
       "     'version_group': {'name': 'black-2-white-2',\n",
       "      'url': 'https://pokeapi.co/api/v2/version-group/14/'}},\n",
       "    {'level_learned_at': 0,\n",
       "     'move_learn_method': {'name': 'machine',\n",
       "      'url': 'https://pokeapi.co/api/v2/move-learn-method/4/'},\n",
       "     'version_group': {'name': 'x-y',\n",
       "      'url': 'https://pokeapi.co/api/v2/version-group/15/'}},\n",
       "    {'level_learned_at': 0,\n",
       "     'move_learn_method': {'name': 'machine',\n",
       "      'url': 'https://pokeapi.co/api/v2/move-learn-method/4/'},\n",
       "     'version_group': {'name': 'omega-ruby-alpha-sapphire',\n",
       "      'url': 'https://pokeapi.co/api/v2/version-group/16/'}},\n",
       "    {'level_learned_at': 0,\n",
       "     'move_learn_method': {'name': 'machine',\n",
       "      'url': 'https://pokeapi.co/api/v2/move-learn-method/4/'},\n",
       "     'version_group': {'name': 'sun-moon',\n",
       "      'url': 'https://pokeapi.co/api/v2/version-group/17/'}},\n",
       "    {'level_learned_at': 0,\n",
       "     'move_learn_method': {'name': 'machine',\n",
       "      'url': 'https://pokeapi.co/api/v2/move-learn-method/4/'},\n",
       "     'version_group': {'name': 'ultra-sun-ultra-moon',\n",
       "      'url': 'https://pokeapi.co/api/v2/version-group/18/'}}]},\n",
       "  {'move': {'name': 'echoed-voice',\n",
       "    'url': 'https://pokeapi.co/api/v2/move/497/'},\n",
       "   'version_group_details': [{'level_learned_at': 0,\n",
       "     'move_learn_method': {'name': 'machine',\n",
       "      'url': 'https://pokeapi.co/api/v2/move-learn-method/4/'},\n",
       "     'version_group': {'name': 'black-white',\n",
       "      'url': 'https://pokeapi.co/api/v2/version-group/11/'}},\n",
       "    {'level_learned_at': 0,\n",
       "     'move_learn_method': {'name': 'machine',\n",
       "      'url': 'https://pokeapi.co/api/v2/move-learn-method/4/'},\n",
       "     'version_group': {'name': 'black-2-white-2',\n",
       "      'url': 'https://pokeapi.co/api/v2/version-group/14/'}},\n",
       "    {'level_learned_at': 0,\n",
       "     'move_learn_method': {'name': 'machine',\n",
       "      'url': 'https://pokeapi.co/api/v2/move-learn-method/4/'},\n",
       "     'version_group': {'name': 'x-y',\n",
       "      'url': 'https://pokeapi.co/api/v2/version-group/15/'}},\n",
       "    {'level_learned_at': 0,\n",
       "     'move_learn_method': {'name': 'machine',\n",
       "      'url': 'https://pokeapi.co/api/v2/move-learn-method/4/'},\n",
       "     'version_group': {'name': 'omega-ruby-alpha-sapphire',\n",
       "      'url': 'https://pokeapi.co/api/v2/version-group/16/'}},\n",
       "    {'level_learned_at': 0,\n",
       "     'move_learn_method': {'name': 'machine',\n",
       "      'url': 'https://pokeapi.co/api/v2/move-learn-method/4/'},\n",
       "     'version_group': {'name': 'sun-moon',\n",
       "      'url': 'https://pokeapi.co/api/v2/version-group/17/'}},\n",
       "    {'level_learned_at': 0,\n",
       "     'move_learn_method': {'name': 'machine',\n",
       "      'url': 'https://pokeapi.co/api/v2/move-learn-method/4/'},\n",
       "     'version_group': {'name': 'ultra-sun-ultra-moon',\n",
       "      'url': 'https://pokeapi.co/api/v2/version-group/18/'}}]},\n",
       "  {'move': {'name': 'grass-pledge',\n",
       "    'url': 'https://pokeapi.co/api/v2/move/520/'},\n",
       "   'version_group_details': [{'level_learned_at': 0,\n",
       "     'move_learn_method': {'name': 'tutor',\n",
       "      'url': 'https://pokeapi.co/api/v2/move-learn-method/3/'},\n",
       "     'version_group': {'name': 'black-white',\n",
       "      'url': 'https://pokeapi.co/api/v2/version-group/11/'}},\n",
       "    {'level_learned_at': 0,\n",
       "     'move_learn_method': {'name': 'tutor',\n",
       "      'url': 'https://pokeapi.co/api/v2/move-learn-method/3/'},\n",
       "     'version_group': {'name': 'black-2-white-2',\n",
       "      'url': 'https://pokeapi.co/api/v2/version-group/14/'}},\n",
       "    {'level_learned_at': 0,\n",
       "     'move_learn_method': {'name': 'tutor',\n",
       "      'url': 'https://pokeapi.co/api/v2/move-learn-method/3/'},\n",
       "     'version_group': {'name': 'x-y',\n",
       "      'url': 'https://pokeapi.co/api/v2/version-group/15/'}},\n",
       "    {'level_learned_at': 0,\n",
       "     'move_learn_method': {'name': 'tutor',\n",
       "      'url': 'https://pokeapi.co/api/v2/move-learn-method/3/'},\n",
       "     'version_group': {'name': 'omega-ruby-alpha-sapphire',\n",
       "      'url': 'https://pokeapi.co/api/v2/version-group/16/'}},\n",
       "    {'level_learned_at': 0,\n",
       "     'move_learn_method': {'name': 'tutor',\n",
       "      'url': 'https://pokeapi.co/api/v2/move-learn-method/3/'},\n",
       "     'version_group': {'name': 'sun-moon',\n",
       "      'url': 'https://pokeapi.co/api/v2/version-group/17/'}},\n",
       "    {'level_learned_at': 0,\n",
       "     'move_learn_method': {'name': 'tutor',\n",
       "      'url': 'https://pokeapi.co/api/v2/move-learn-method/3/'},\n",
       "     'version_group': {'name': 'ultra-sun-ultra-moon',\n",
       "      'url': 'https://pokeapi.co/api/v2/version-group/18/'}}]},\n",
       "  {'move': {'name': 'work-up', 'url': 'https://pokeapi.co/api/v2/move/526/'},\n",
       "   'version_group_details': [{'level_learned_at': 0,\n",
       "     'move_learn_method': {'name': 'machine',\n",
       "      'url': 'https://pokeapi.co/api/v2/move-learn-method/4/'},\n",
       "     'version_group': {'name': 'sun-moon',\n",
       "      'url': 'https://pokeapi.co/api/v2/version-group/17/'}},\n",
       "    {'level_learned_at': 0,\n",
       "     'move_learn_method': {'name': 'machine',\n",
       "      'url': 'https://pokeapi.co/api/v2/move-learn-method/4/'},\n",
       "     'version_group': {'name': 'ultra-sun-ultra-moon',\n",
       "      'url': 'https://pokeapi.co/api/v2/version-group/18/'}}]},\n",
       "  {'move': {'name': 'grassy-terrain',\n",
       "    'url': 'https://pokeapi.co/api/v2/move/580/'},\n",
       "   'version_group_details': [{'level_learned_at': 0,\n",
       "     'move_learn_method': {'name': 'egg',\n",
       "      'url': 'https://pokeapi.co/api/v2/move-learn-method/2/'},\n",
       "     'version_group': {'name': 'x-y',\n",
       "      'url': 'https://pokeapi.co/api/v2/version-group/15/'}},\n",
       "    {'level_learned_at': 0,\n",
       "     'move_learn_method': {'name': 'egg',\n",
       "      'url': 'https://pokeapi.co/api/v2/move-learn-method/2/'},\n",
       "     'version_group': {'name': 'omega-ruby-alpha-sapphire',\n",
       "      'url': 'https://pokeapi.co/api/v2/version-group/16/'}},\n",
       "    {'level_learned_at': 0,\n",
       "     'move_learn_method': {'name': 'egg',\n",
       "      'url': 'https://pokeapi.co/api/v2/move-learn-method/2/'},\n",
       "     'version_group': {'name': 'sun-moon',\n",
       "      'url': 'https://pokeapi.co/api/v2/version-group/17/'}},\n",
       "    {'level_learned_at': 0,\n",
       "     'move_learn_method': {'name': 'egg',\n",
       "      'url': 'https://pokeapi.co/api/v2/move-learn-method/2/'},\n",
       "     'version_group': {'name': 'ultra-sun-ultra-moon',\n",
       "      'url': 'https://pokeapi.co/api/v2/version-group/18/'}}]},\n",
       "  {'move': {'name': 'confide', 'url': 'https://pokeapi.co/api/v2/move/590/'},\n",
       "   'version_group_details': [{'level_learned_at': 0,\n",
       "     'move_learn_method': {'name': 'machine',\n",
       "      'url': 'https://pokeapi.co/api/v2/move-learn-method/4/'},\n",
       "     'version_group': {'name': 'x-y',\n",
       "      'url': 'https://pokeapi.co/api/v2/version-group/15/'}},\n",
       "    {'level_learned_at': 0,\n",
       "     'move_learn_method': {'name': 'machine',\n",
       "      'url': 'https://pokeapi.co/api/v2/move-learn-method/4/'},\n",
       "     'version_group': {'name': 'omega-ruby-alpha-sapphire',\n",
       "      'url': 'https://pokeapi.co/api/v2/version-group/16/'}},\n",
       "    {'level_learned_at': 0,\n",
       "     'move_learn_method': {'name': 'machine',\n",
       "      'url': 'https://pokeapi.co/api/v2/move-learn-method/4/'},\n",
       "     'version_group': {'name': 'sun-moon',\n",
       "      'url': 'https://pokeapi.co/api/v2/version-group/17/'}},\n",
       "    {'level_learned_at': 0,\n",
       "     'move_learn_method': {'name': 'machine',\n",
       "      'url': 'https://pokeapi.co/api/v2/move-learn-method/4/'},\n",
       "     'version_group': {'name': 'ultra-sun-ultra-moon',\n",
       "      'url': 'https://pokeapi.co/api/v2/version-group/18/'}}]}],\n",
       " 'name': 'bulbasaur',\n",
       " 'order': 1,\n",
       " 'past_types': [],\n",
       " 'species': {'name': 'bulbasaur',\n",
       "  'url': 'https://pokeapi.co/api/v2/pokemon-species/1/'},\n",
       " 'sprites': {'back_default': 'https://raw.githubusercontent.com/PokeAPI/sprites/master/sprites/pokemon/back/1.png',\n",
       "  'back_female': None,\n",
       "  'back_shiny': 'https://raw.githubusercontent.com/PokeAPI/sprites/master/sprites/pokemon/back/shiny/1.png',\n",
       "  'back_shiny_female': None,\n",
       "  'front_default': 'https://raw.githubusercontent.com/PokeAPI/sprites/master/sprites/pokemon/1.png',\n",
       "  'front_female': None,\n",
       "  'front_shiny': 'https://raw.githubusercontent.com/PokeAPI/sprites/master/sprites/pokemon/shiny/1.png',\n",
       "  'front_shiny_female': None,\n",
       "  'other': {'dream_world': {'front_default': 'https://raw.githubusercontent.com/PokeAPI/sprites/master/sprites/pokemon/other/dream-world/1.svg',\n",
       "    'front_female': None},\n",
       "   'official-artwork': {'front_default': 'https://raw.githubusercontent.com/PokeAPI/sprites/master/sprites/pokemon/other/official-artwork/1.png'}},\n",
       "  'versions': {'generation-i': {'red-blue': {'back_default': 'https://raw.githubusercontent.com/PokeAPI/sprites/master/sprites/pokemon/versions/generation-i/red-blue/back/1.png',\n",
       "     'back_gray': 'https://raw.githubusercontent.com/PokeAPI/sprites/master/sprites/pokemon/versions/generation-i/red-blue/back/gray/1.png',\n",
       "     'front_default': 'https://raw.githubusercontent.com/PokeAPI/sprites/master/sprites/pokemon/versions/generation-i/red-blue/1.png',\n",
       "     'front_gray': 'https://raw.githubusercontent.com/PokeAPI/sprites/master/sprites/pokemon/versions/generation-i/red-blue/gray/1.png'},\n",
       "    'yellow': {'back_default': 'https://raw.githubusercontent.com/PokeAPI/sprites/master/sprites/pokemon/versions/generation-i/yellow/back/1.png',\n",
       "     'back_gray': 'https://raw.githubusercontent.com/PokeAPI/sprites/master/sprites/pokemon/versions/generation-i/yellow/back/gray/1.png',\n",
       "     'front_default': 'https://raw.githubusercontent.com/PokeAPI/sprites/master/sprites/pokemon/versions/generation-i/yellow/1.png',\n",
       "     'front_gray': 'https://raw.githubusercontent.com/PokeAPI/sprites/master/sprites/pokemon/versions/generation-i/yellow/gray/1.png'}},\n",
       "   'generation-ii': {'crystal': {'back_default': 'https://raw.githubusercontent.com/PokeAPI/sprites/master/sprites/pokemon/versions/generation-ii/crystal/back/1.png',\n",
       "     'back_shiny': 'https://raw.githubusercontent.com/PokeAPI/sprites/master/sprites/pokemon/versions/generation-ii/crystal/back/shiny/1.png',\n",
       "     'front_default': 'https://raw.githubusercontent.com/PokeAPI/sprites/master/sprites/pokemon/versions/generation-ii/crystal/1.png',\n",
       "     'front_shiny': 'https://raw.githubusercontent.com/PokeAPI/sprites/master/sprites/pokemon/versions/generation-ii/crystal/shiny/1.png'},\n",
       "    'gold': {'back_default': 'https://raw.githubusercontent.com/PokeAPI/sprites/master/sprites/pokemon/versions/generation-ii/gold/back/1.png',\n",
       "     'back_shiny': 'https://raw.githubusercontent.com/PokeAPI/sprites/master/sprites/pokemon/versions/generation-ii/gold/back/shiny/1.png',\n",
       "     'front_default': 'https://raw.githubusercontent.com/PokeAPI/sprites/master/sprites/pokemon/versions/generation-ii/gold/1.png',\n",
       "     'front_shiny': 'https://raw.githubusercontent.com/PokeAPI/sprites/master/sprites/pokemon/versions/generation-ii/gold/shiny/1.png'},\n",
       "    'silver': {'back_default': 'https://raw.githubusercontent.com/PokeAPI/sprites/master/sprites/pokemon/versions/generation-ii/silver/back/1.png',\n",
       "     'back_shiny': 'https://raw.githubusercontent.com/PokeAPI/sprites/master/sprites/pokemon/versions/generation-ii/silver/back/shiny/1.png',\n",
       "     'front_default': 'https://raw.githubusercontent.com/PokeAPI/sprites/master/sprites/pokemon/versions/generation-ii/silver/1.png',\n",
       "     'front_shiny': 'https://raw.githubusercontent.com/PokeAPI/sprites/master/sprites/pokemon/versions/generation-ii/silver/shiny/1.png'}},\n",
       "   'generation-iii': {'emerald': {'front_default': 'https://raw.githubusercontent.com/PokeAPI/sprites/master/sprites/pokemon/versions/generation-iii/emerald/1.png',\n",
       "     'front_shiny': 'https://raw.githubusercontent.com/PokeAPI/sprites/master/sprites/pokemon/versions/generation-iii/emerald/shiny/1.png'},\n",
       "    'firered-leafgreen': {'back_default': 'https://raw.githubusercontent.com/PokeAPI/sprites/master/sprites/pokemon/versions/generation-iii/firered-leafgreen/back/1.png',\n",
       "     'back_shiny': 'https://raw.githubusercontent.com/PokeAPI/sprites/master/sprites/pokemon/versions/generation-iii/firered-leafgreen/back/shiny/1.png',\n",
       "     'front_default': 'https://raw.githubusercontent.com/PokeAPI/sprites/master/sprites/pokemon/versions/generation-iii/firered-leafgreen/1.png',\n",
       "     'front_shiny': 'https://raw.githubusercontent.com/PokeAPI/sprites/master/sprites/pokemon/versions/generation-iii/firered-leafgreen/shiny/1.png'},\n",
       "    'ruby-sapphire': {'back_default': 'https://raw.githubusercontent.com/PokeAPI/sprites/master/sprites/pokemon/versions/generation-iii/ruby-sapphire/back/1.png',\n",
       "     'back_shiny': 'https://raw.githubusercontent.com/PokeAPI/sprites/master/sprites/pokemon/versions/generation-iii/ruby-sapphire/back/shiny/1.png',\n",
       "     'front_default': 'https://raw.githubusercontent.com/PokeAPI/sprites/master/sprites/pokemon/versions/generation-iii/ruby-sapphire/1.png',\n",
       "     'front_shiny': 'https://raw.githubusercontent.com/PokeAPI/sprites/master/sprites/pokemon/versions/generation-iii/ruby-sapphire/shiny/1.png'}},\n",
       "   'generation-iv': {'diamond-pearl': {'back_default': 'https://raw.githubusercontent.com/PokeAPI/sprites/master/sprites/pokemon/versions/generation-iv/diamond-pearl/back/1.png',\n",
       "     'back_female': None,\n",
       "     'back_shiny': 'https://raw.githubusercontent.com/PokeAPI/sprites/master/sprites/pokemon/versions/generation-iv/diamond-pearl/back/shiny/1.png',\n",
       "     'back_shiny_female': None,\n",
       "     'front_default': 'https://raw.githubusercontent.com/PokeAPI/sprites/master/sprites/pokemon/versions/generation-iv/diamond-pearl/1.png',\n",
       "     'front_female': None,\n",
       "     'front_shiny': 'https://raw.githubusercontent.com/PokeAPI/sprites/master/sprites/pokemon/versions/generation-iv/diamond-pearl/shiny/1.png',\n",
       "     'front_shiny_female': None},\n",
       "    'heartgold-soulsilver': {'back_default': 'https://raw.githubusercontent.com/PokeAPI/sprites/master/sprites/pokemon/versions/generation-iv/heartgold-soulsilver/back/1.png',\n",
       "     'back_female': None,\n",
       "     'back_shiny': 'https://raw.githubusercontent.com/PokeAPI/sprites/master/sprites/pokemon/versions/generation-iv/heartgold-soulsilver/back/shiny/1.png',\n",
       "     'back_shiny_female': None,\n",
       "     'front_default': 'https://raw.githubusercontent.com/PokeAPI/sprites/master/sprites/pokemon/versions/generation-iv/heartgold-soulsilver/1.png',\n",
       "     'front_female': None,\n",
       "     'front_shiny': 'https://raw.githubusercontent.com/PokeAPI/sprites/master/sprites/pokemon/versions/generation-iv/heartgold-soulsilver/shiny/1.png',\n",
       "     'front_shiny_female': None},\n",
       "    'platinum': {'back_default': 'https://raw.githubusercontent.com/PokeAPI/sprites/master/sprites/pokemon/versions/generation-iv/platinum/back/1.png',\n",
       "     'back_female': None,\n",
       "     'back_shiny': 'https://raw.githubusercontent.com/PokeAPI/sprites/master/sprites/pokemon/versions/generation-iv/platinum/back/shiny/1.png',\n",
       "     'back_shiny_female': None,\n",
       "     'front_default': 'https://raw.githubusercontent.com/PokeAPI/sprites/master/sprites/pokemon/versions/generation-iv/platinum/1.png',\n",
       "     'front_female': None,\n",
       "     'front_shiny': 'https://raw.githubusercontent.com/PokeAPI/sprites/master/sprites/pokemon/versions/generation-iv/platinum/shiny/1.png',\n",
       "     'front_shiny_female': None}},\n",
       "   'generation-v': {'black-white': {'animated': {'back_default': 'https://raw.githubusercontent.com/PokeAPI/sprites/master/sprites/pokemon/versions/generation-v/black-white/animated/back/1.gif',\n",
       "      'back_female': None,\n",
       "      'back_shiny': 'https://raw.githubusercontent.com/PokeAPI/sprites/master/sprites/pokemon/versions/generation-v/black-white/animated/back/shiny/1.gif',\n",
       "      'back_shiny_female': None,\n",
       "      'front_default': 'https://raw.githubusercontent.com/PokeAPI/sprites/master/sprites/pokemon/versions/generation-v/black-white/animated/1.gif',\n",
       "      'front_female': None,\n",
       "      'front_shiny': 'https://raw.githubusercontent.com/PokeAPI/sprites/master/sprites/pokemon/versions/generation-v/black-white/animated/shiny/1.gif',\n",
       "      'front_shiny_female': None},\n",
       "     'back_default': 'https://raw.githubusercontent.com/PokeAPI/sprites/master/sprites/pokemon/versions/generation-v/black-white/back/1.png',\n",
       "     'back_female': None,\n",
       "     'back_shiny': 'https://raw.githubusercontent.com/PokeAPI/sprites/master/sprites/pokemon/versions/generation-v/black-white/back/shiny/1.png',\n",
       "     'back_shiny_female': None,\n",
       "     'front_default': 'https://raw.githubusercontent.com/PokeAPI/sprites/master/sprites/pokemon/versions/generation-v/black-white/1.png',\n",
       "     'front_female': None,\n",
       "     'front_shiny': 'https://raw.githubusercontent.com/PokeAPI/sprites/master/sprites/pokemon/versions/generation-v/black-white/shiny/1.png',\n",
       "     'front_shiny_female': None}},\n",
       "   'generation-vi': {'omegaruby-alphasapphire': {'front_default': 'https://raw.githubusercontent.com/PokeAPI/sprites/master/sprites/pokemon/versions/generation-vi/omegaruby-alphasapphire/1.png',\n",
       "     'front_female': None,\n",
       "     'front_shiny': 'https://raw.githubusercontent.com/PokeAPI/sprites/master/sprites/pokemon/versions/generation-vi/omegaruby-alphasapphire/shiny/1.png',\n",
       "     'front_shiny_female': None},\n",
       "    'x-y': {'front_default': 'https://raw.githubusercontent.com/PokeAPI/sprites/master/sprites/pokemon/versions/generation-vi/x-y/1.png',\n",
       "     'front_female': None,\n",
       "     'front_shiny': 'https://raw.githubusercontent.com/PokeAPI/sprites/master/sprites/pokemon/versions/generation-vi/x-y/shiny/1.png',\n",
       "     'front_shiny_female': None}},\n",
       "   'generation-vii': {'icons': {'front_default': 'https://raw.githubusercontent.com/PokeAPI/sprites/master/sprites/pokemon/versions/generation-vii/icons/1.png',\n",
       "     'front_female': None},\n",
       "    'ultra-sun-ultra-moon': {'front_default': 'https://raw.githubusercontent.com/PokeAPI/sprites/master/sprites/pokemon/versions/generation-vii/ultra-sun-ultra-moon/1.png',\n",
       "     'front_female': None,\n",
       "     'front_shiny': 'https://raw.githubusercontent.com/PokeAPI/sprites/master/sprites/pokemon/versions/generation-vii/ultra-sun-ultra-moon/shiny/1.png',\n",
       "     'front_shiny_female': None}},\n",
       "   'generation-viii': {'icons': {'front_default': 'https://raw.githubusercontent.com/PokeAPI/sprites/master/sprites/pokemon/versions/generation-viii/icons/1.png',\n",
       "     'front_female': None}}}},\n",
       " 'stats': [{'base_stat': 45,\n",
       "   'effort': 0,\n",
       "   'stat': {'name': 'hp', 'url': 'https://pokeapi.co/api/v2/stat/1/'}},\n",
       "  {'base_stat': 49,\n",
       "   'effort': 0,\n",
       "   'stat': {'name': 'attack', 'url': 'https://pokeapi.co/api/v2/stat/2/'}},\n",
       "  {'base_stat': 49,\n",
       "   'effort': 0,\n",
       "   'stat': {'name': 'defense', 'url': 'https://pokeapi.co/api/v2/stat/3/'}},\n",
       "  {'base_stat': 65,\n",
       "   'effort': 1,\n",
       "   'stat': {'name': 'special-attack',\n",
       "    'url': 'https://pokeapi.co/api/v2/stat/4/'}},\n",
       "  {'base_stat': 65,\n",
       "   'effort': 0,\n",
       "   'stat': {'name': 'special-defense',\n",
       "    'url': 'https://pokeapi.co/api/v2/stat/5/'}},\n",
       "  {'base_stat': 45,\n",
       "   'effort': 0,\n",
       "   'stat': {'name': 'speed', 'url': 'https://pokeapi.co/api/v2/stat/6/'}}],\n",
       " 'types': [{'slot': 1,\n",
       "   'type': {'name': 'grass', 'url': 'https://pokeapi.co/api/v2/type/12/'}},\n",
       "  {'slot': 2,\n",
       "   'type': {'name': 'poison', 'url': 'https://pokeapi.co/api/v2/type/4/'}}],\n",
       " 'weight': 69}"
      ]
     },
     "metadata": {},
     "execution_count": 21
    }
   ]
  },
  {
   "cell_type": "code",
   "execution_count": 22,
   "metadata": {},
   "outputs": [
    {
     "output_type": "execute_result",
     "data": {
      "text/plain": [
       "                                             ability  is_hidden  slot\n",
       "0  {'name': 'overgrow', 'url': 'https://pokeapi.c...      False     1\n",
       "1  {'name': 'chlorophyll', 'url': 'https://pokeap...       True     3"
      ],
      "text/html": "<div>\n<style scoped>\n    .dataframe tbody tr th:only-of-type {\n        vertical-align: middle;\n    }\n\n    .dataframe tbody tr th {\n        vertical-align: top;\n    }\n\n    .dataframe thead th {\n        text-align: right;\n    }\n</style>\n<table border=\"1\" class=\"dataframe\">\n  <thead>\n    <tr style=\"text-align: right;\">\n      <th></th>\n      <th>ability</th>\n      <th>is_hidden</th>\n      <th>slot</th>\n    </tr>\n  </thead>\n  <tbody>\n    <tr>\n      <th>0</th>\n      <td>{'name': 'overgrow', 'url': 'https://pokeapi.c...</td>\n      <td>False</td>\n      <td>1</td>\n    </tr>\n    <tr>\n      <th>1</th>\n      <td>{'name': 'chlorophyll', 'url': 'https://pokeap...</td>\n      <td>True</td>\n      <td>3</td>\n    </tr>\n  </tbody>\n</table>\n</div>"
     },
     "metadata": {},
     "execution_count": 22
    }
   ],
   "source": [
    "pd.DataFrame(peticion_api_url[\"abilities\"])"
   ]
  },
  {
   "cell_type": "code",
   "execution_count": 23,
   "metadata": {},
   "outputs": [
    {
     "output_type": "stream",
     "name": "stdout",
     "text": [
      "bulbasaur\nhttps://pokeapi.co/api/v2/pokemon/1/\n"
     ]
    },
    {
     "output_type": "execute_result",
     "data": {
      "text/plain": [
       "[{'slot': 1,\n",
       "  'type': {'name': 'grass', 'url': 'https://pokeapi.co/api/v2/type/12/'}},\n",
       " {'slot': 2,\n",
       "  'type': {'name': 'poison', 'url': 'https://pokeapi.co/api/v2/type/4/'}}]"
      ]
     },
     "metadata": {},
     "execution_count": 23
    }
   ],
   "source": [
    "for nombre_pokemon, url in diccionario_pokemons_url.items():\n",
    "    peticion_api_url = requests.get(url).json()\n",
    "    print(nombre_pokemon)\n",
    "    print(url)\n",
    "    break\n",
    "peticion_api_url[\"types\"]"
   ]
  },
  {
   "cell_type": "code",
   "execution_count": 24,
   "metadata": {},
   "outputs": [
    {
     "output_type": "execute_result",
     "data": {
      "text/plain": [
       "   slot                                               type\n",
       "0     1  {'name': 'grass', 'url': 'https://pokeapi.co/a...\n",
       "1     2  {'name': 'poison', 'url': 'https://pokeapi.co/..."
      ],
      "text/html": "<div>\n<style scoped>\n    .dataframe tbody tr th:only-of-type {\n        vertical-align: middle;\n    }\n\n    .dataframe tbody tr th {\n        vertical-align: top;\n    }\n\n    .dataframe thead th {\n        text-align: right;\n    }\n</style>\n<table border=\"1\" class=\"dataframe\">\n  <thead>\n    <tr style=\"text-align: right;\">\n      <th></th>\n      <th>slot</th>\n      <th>type</th>\n    </tr>\n  </thead>\n  <tbody>\n    <tr>\n      <th>0</th>\n      <td>1</td>\n      <td>{'name': 'grass', 'url': 'https://pokeapi.co/a...</td>\n    </tr>\n    <tr>\n      <th>1</th>\n      <td>2</td>\n      <td>{'name': 'poison', 'url': 'https://pokeapi.co/...</td>\n    </tr>\n  </tbody>\n</table>\n</div>"
     },
     "metadata": {},
     "execution_count": 24
    }
   ],
   "source": [
    "pd.DataFrame(peticion_api_url[\"types\"])"
   ]
  },
  {
   "cell_type": "code",
   "execution_count": 25,
   "metadata": {},
   "outputs": [
    {
     "output_type": "execute_result",
     "data": {
      "text/plain": [
       "{'name': 'grass', 'url': 'https://pokeapi.co/api/v2/type/12/'}"
      ]
     },
     "metadata": {},
     "execution_count": 25
    }
   ],
   "source": [
    "pd.DataFrame(peticion_api_url[\"types\"]).type.values[0]"
   ]
  },
  {
   "cell_type": "code",
   "execution_count": 27,
   "metadata": {},
   "outputs": [
    {
     "output_type": "execute_result",
     "data": {
      "text/plain": [
       "'https://pokeapi.co/api/v2/type/12/'"
      ]
     },
     "metadata": {},
     "execution_count": 27
    }
   ],
   "source": [
    "type_poke = pd.DataFrame(peticion_api_url[\"types\"]).type.values[0][\"url\"]\n",
    "type_poke"
   ]
  },
  {
   "cell_type": "code",
   "execution_count": 28,
   "metadata": {},
   "outputs": [
    {
     "output_type": "execute_result",
     "data": {
      "text/plain": [
       "{'damage_relations': {'double_damage_from': [{'name': 'flying',\n",
       "    'url': 'https://pokeapi.co/api/v2/type/3/'},\n",
       "   {'name': 'poison', 'url': 'https://pokeapi.co/api/v2/type/4/'},\n",
       "   {'name': 'bug', 'url': 'https://pokeapi.co/api/v2/type/7/'},\n",
       "   {'name': 'fire', 'url': 'https://pokeapi.co/api/v2/type/10/'},\n",
       "   {'name': 'ice', 'url': 'https://pokeapi.co/api/v2/type/15/'}],\n",
       "  'double_damage_to': [{'name': 'ground',\n",
       "    'url': 'https://pokeapi.co/api/v2/type/5/'},\n",
       "   {'name': 'rock', 'url': 'https://pokeapi.co/api/v2/type/6/'},\n",
       "   {'name': 'water', 'url': 'https://pokeapi.co/api/v2/type/11/'}],\n",
       "  'half_damage_from': [{'name': 'ground',\n",
       "    'url': 'https://pokeapi.co/api/v2/type/5/'},\n",
       "   {'name': 'water', 'url': 'https://pokeapi.co/api/v2/type/11/'},\n",
       "   {'name': 'grass', 'url': 'https://pokeapi.co/api/v2/type/12/'},\n",
       "   {'name': 'electric', 'url': 'https://pokeapi.co/api/v2/type/13/'}],\n",
       "  'half_damage_to': [{'name': 'flying',\n",
       "    'url': 'https://pokeapi.co/api/v2/type/3/'},\n",
       "   {'name': 'poison', 'url': 'https://pokeapi.co/api/v2/type/4/'},\n",
       "   {'name': 'bug', 'url': 'https://pokeapi.co/api/v2/type/7/'},\n",
       "   {'name': 'steel', 'url': 'https://pokeapi.co/api/v2/type/9/'},\n",
       "   {'name': 'fire', 'url': 'https://pokeapi.co/api/v2/type/10/'},\n",
       "   {'name': 'grass', 'url': 'https://pokeapi.co/api/v2/type/12/'},\n",
       "   {'name': 'dragon', 'url': 'https://pokeapi.co/api/v2/type/16/'}],\n",
       "  'no_damage_from': [],\n",
       "  'no_damage_to': []},\n",
       " 'game_indices': [{'game_index': 22,\n",
       "   'generation': {'name': 'generation-i',\n",
       "    'url': 'https://pokeapi.co/api/v2/generation/1/'}},\n",
       "  {'game_index': 22,\n",
       "   'generation': {'name': 'generation-ii',\n",
       "    'url': 'https://pokeapi.co/api/v2/generation/2/'}},\n",
       "  {'game_index': 12,\n",
       "   'generation': {'name': 'generation-iii',\n",
       "    'url': 'https://pokeapi.co/api/v2/generation/3/'}},\n",
       "  {'game_index': 12,\n",
       "   'generation': {'name': 'generation-iv',\n",
       "    'url': 'https://pokeapi.co/api/v2/generation/4/'}},\n",
       "  {'game_index': 11,\n",
       "   'generation': {'name': 'generation-v',\n",
       "    'url': 'https://pokeapi.co/api/v2/generation/5/'}},\n",
       "  {'game_index': 11,\n",
       "   'generation': {'name': 'generation-vi',\n",
       "    'url': 'https://pokeapi.co/api/v2/generation/6/'}}],\n",
       " 'generation': {'name': 'generation-i',\n",
       "  'url': 'https://pokeapi.co/api/v2/generation/1/'},\n",
       " 'id': 12,\n",
       " 'move_damage_class': {'name': 'special',\n",
       "  'url': 'https://pokeapi.co/api/v2/move-damage-class/3/'},\n",
       " 'moves': [{'name': 'vine-whip', 'url': 'https://pokeapi.co/api/v2/move/22/'},\n",
       "  {'name': 'absorb', 'url': 'https://pokeapi.co/api/v2/move/71/'},\n",
       "  {'name': 'mega-drain', 'url': 'https://pokeapi.co/api/v2/move/72/'},\n",
       "  {'name': 'leech-seed', 'url': 'https://pokeapi.co/api/v2/move/73/'},\n",
       "  {'name': 'razor-leaf', 'url': 'https://pokeapi.co/api/v2/move/75/'},\n",
       "  {'name': 'solar-beam', 'url': 'https://pokeapi.co/api/v2/move/76/'},\n",
       "  {'name': 'stun-spore', 'url': 'https://pokeapi.co/api/v2/move/78/'},\n",
       "  {'name': 'sleep-powder', 'url': 'https://pokeapi.co/api/v2/move/79/'},\n",
       "  {'name': 'petal-dance', 'url': 'https://pokeapi.co/api/v2/move/80/'},\n",
       "  {'name': 'spore', 'url': 'https://pokeapi.co/api/v2/move/147/'},\n",
       "  {'name': 'cotton-spore', 'url': 'https://pokeapi.co/api/v2/move/178/'},\n",
       "  {'name': 'giga-drain', 'url': 'https://pokeapi.co/api/v2/move/202/'},\n",
       "  {'name': 'synthesis', 'url': 'https://pokeapi.co/api/v2/move/235/'},\n",
       "  {'name': 'ingrain', 'url': 'https://pokeapi.co/api/v2/move/275/'},\n",
       "  {'name': 'needle-arm', 'url': 'https://pokeapi.co/api/v2/move/302/'},\n",
       "  {'name': 'aromatherapy', 'url': 'https://pokeapi.co/api/v2/move/312/'},\n",
       "  {'name': 'grass-whistle', 'url': 'https://pokeapi.co/api/v2/move/320/'},\n",
       "  {'name': 'bullet-seed', 'url': 'https://pokeapi.co/api/v2/move/331/'},\n",
       "  {'name': 'frenzy-plant', 'url': 'https://pokeapi.co/api/v2/move/338/'},\n",
       "  {'name': 'magical-leaf', 'url': 'https://pokeapi.co/api/v2/move/345/'},\n",
       "  {'name': 'leaf-blade', 'url': 'https://pokeapi.co/api/v2/move/348/'},\n",
       "  {'name': 'worry-seed', 'url': 'https://pokeapi.co/api/v2/move/388/'},\n",
       "  {'name': 'seed-bomb', 'url': 'https://pokeapi.co/api/v2/move/402/'},\n",
       "  {'name': 'energy-ball', 'url': 'https://pokeapi.co/api/v2/move/412/'},\n",
       "  {'name': 'leaf-storm', 'url': 'https://pokeapi.co/api/v2/move/437/'},\n",
       "  {'name': 'power-whip', 'url': 'https://pokeapi.co/api/v2/move/438/'},\n",
       "  {'name': 'grass-knot', 'url': 'https://pokeapi.co/api/v2/move/447/'},\n",
       "  {'name': 'wood-hammer', 'url': 'https://pokeapi.co/api/v2/move/452/'},\n",
       "  {'name': 'seed-flare', 'url': 'https://pokeapi.co/api/v2/move/465/'},\n",
       "  {'name': 'grass-pledge', 'url': 'https://pokeapi.co/api/v2/move/520/'},\n",
       "  {'name': 'horn-leech', 'url': 'https://pokeapi.co/api/v2/move/532/'},\n",
       "  {'name': 'leaf-tornado', 'url': 'https://pokeapi.co/api/v2/move/536/'},\n",
       "  {'name': 'cotton-guard', 'url': 'https://pokeapi.co/api/v2/move/538/'},\n",
       "  {'name': 'forests-curse', 'url': 'https://pokeapi.co/api/v2/move/571/'},\n",
       "  {'name': 'petal-blizzard', 'url': 'https://pokeapi.co/api/v2/move/572/'},\n",
       "  {'name': 'grassy-terrain', 'url': 'https://pokeapi.co/api/v2/move/580/'},\n",
       "  {'name': 'spiky-shield', 'url': 'https://pokeapi.co/api/v2/move/596/'},\n",
       "  {'name': 'bloom-doom--physical',\n",
       "   'url': 'https://pokeapi.co/api/v2/move/644/'},\n",
       "  {'name': 'bloom-doom--special',\n",
       "   'url': 'https://pokeapi.co/api/v2/move/645/'},\n",
       "  {'name': 'strength-sap', 'url': 'https://pokeapi.co/api/v2/move/668/'},\n",
       "  {'name': 'solar-blade', 'url': 'https://pokeapi.co/api/v2/move/669/'},\n",
       "  {'name': 'leafage', 'url': 'https://pokeapi.co/api/v2/move/670/'},\n",
       "  {'name': 'trop-kick', 'url': 'https://pokeapi.co/api/v2/move/688/'},\n",
       "  {'name': 'sappy-seed', 'url': 'https://pokeapi.co/api/v2/move/738/'},\n",
       "  {'name': 'max-overgrowth', 'url': 'https://pokeapi.co/api/v2/move/773/'},\n",
       "  {'name': 'drum-beating', 'url': 'https://pokeapi.co/api/v2/move/778/'},\n",
       "  {'name': 'snap-trap', 'url': 'https://pokeapi.co/api/v2/move/779/'},\n",
       "  {'name': 'apple-acid', 'url': 'https://pokeapi.co/api/v2/move/787/'},\n",
       "  {'name': 'grav-apple', 'url': 'https://pokeapi.co/api/v2/move/788/'},\n",
       "  {'name': 'grassy-glide', 'url': 'https://pokeapi.co/api/v2/move/803/'},\n",
       "  {'name': 'jungle-healing', 'url': 'https://pokeapi.co/api/v2/move/816/'}],\n",
       " 'name': 'grass',\n",
       " 'names': [{'language': {'name': 'ja-Hrkt',\n",
       "    'url': 'https://pokeapi.co/api/v2/language/1/'},\n",
       "   'name': 'くさ'},\n",
       "  {'language': {'name': 'ko', 'url': 'https://pokeapi.co/api/v2/language/3/'},\n",
       "   'name': '풀'},\n",
       "  {'language': {'name': 'fr', 'url': 'https://pokeapi.co/api/v2/language/5/'},\n",
       "   'name': 'Plante'},\n",
       "  {'language': {'name': 'de', 'url': 'https://pokeapi.co/api/v2/language/6/'},\n",
       "   'name': 'Pflanze'},\n",
       "  {'language': {'name': 'es', 'url': 'https://pokeapi.co/api/v2/language/7/'},\n",
       "   'name': 'Planta'},\n",
       "  {'language': {'name': 'it', 'url': 'https://pokeapi.co/api/v2/language/8/'},\n",
       "   'name': 'Erba'},\n",
       "  {'language': {'name': 'en', 'url': 'https://pokeapi.co/api/v2/language/9/'},\n",
       "   'name': 'Grass'}],\n",
       " 'pokemon': [{'pokemon': {'name': 'bulbasaur',\n",
       "    'url': 'https://pokeapi.co/api/v2/pokemon/1/'},\n",
       "   'slot': 1},\n",
       "  {'pokemon': {'name': 'ivysaur',\n",
       "    'url': 'https://pokeapi.co/api/v2/pokemon/2/'},\n",
       "   'slot': 1},\n",
       "  {'pokemon': {'name': 'venusaur',\n",
       "    'url': 'https://pokeapi.co/api/v2/pokemon/3/'},\n",
       "   'slot': 1},\n",
       "  {'pokemon': {'name': 'oddish',\n",
       "    'url': 'https://pokeapi.co/api/v2/pokemon/43/'},\n",
       "   'slot': 1},\n",
       "  {'pokemon': {'name': 'gloom',\n",
       "    'url': 'https://pokeapi.co/api/v2/pokemon/44/'},\n",
       "   'slot': 1},\n",
       "  {'pokemon': {'name': 'vileplume',\n",
       "    'url': 'https://pokeapi.co/api/v2/pokemon/45/'},\n",
       "   'slot': 1},\n",
       "  {'pokemon': {'name': 'paras',\n",
       "    'url': 'https://pokeapi.co/api/v2/pokemon/46/'},\n",
       "   'slot': 2},\n",
       "  {'pokemon': {'name': 'parasect',\n",
       "    'url': 'https://pokeapi.co/api/v2/pokemon/47/'},\n",
       "   'slot': 2},\n",
       "  {'pokemon': {'name': 'bellsprout',\n",
       "    'url': 'https://pokeapi.co/api/v2/pokemon/69/'},\n",
       "   'slot': 1},\n",
       "  {'pokemon': {'name': 'weepinbell',\n",
       "    'url': 'https://pokeapi.co/api/v2/pokemon/70/'},\n",
       "   'slot': 1},\n",
       "  {'pokemon': {'name': 'victreebel',\n",
       "    'url': 'https://pokeapi.co/api/v2/pokemon/71/'},\n",
       "   'slot': 1},\n",
       "  {'pokemon': {'name': 'exeggcute',\n",
       "    'url': 'https://pokeapi.co/api/v2/pokemon/102/'},\n",
       "   'slot': 1},\n",
       "  {'pokemon': {'name': 'exeggutor',\n",
       "    'url': 'https://pokeapi.co/api/v2/pokemon/103/'},\n",
       "   'slot': 1},\n",
       "  {'pokemon': {'name': 'tangela',\n",
       "    'url': 'https://pokeapi.co/api/v2/pokemon/114/'},\n",
       "   'slot': 1},\n",
       "  {'pokemon': {'name': 'chikorita',\n",
       "    'url': 'https://pokeapi.co/api/v2/pokemon/152/'},\n",
       "   'slot': 1},\n",
       "  {'pokemon': {'name': 'bayleef',\n",
       "    'url': 'https://pokeapi.co/api/v2/pokemon/153/'},\n",
       "   'slot': 1},\n",
       "  {'pokemon': {'name': 'meganium',\n",
       "    'url': 'https://pokeapi.co/api/v2/pokemon/154/'},\n",
       "   'slot': 1},\n",
       "  {'pokemon': {'name': 'bellossom',\n",
       "    'url': 'https://pokeapi.co/api/v2/pokemon/182/'},\n",
       "   'slot': 1},\n",
       "  {'pokemon': {'name': 'hoppip',\n",
       "    'url': 'https://pokeapi.co/api/v2/pokemon/187/'},\n",
       "   'slot': 1},\n",
       "  {'pokemon': {'name': 'skiploom',\n",
       "    'url': 'https://pokeapi.co/api/v2/pokemon/188/'},\n",
       "   'slot': 1},\n",
       "  {'pokemon': {'name': 'jumpluff',\n",
       "    'url': 'https://pokeapi.co/api/v2/pokemon/189/'},\n",
       "   'slot': 1},\n",
       "  {'pokemon': {'name': 'sunkern',\n",
       "    'url': 'https://pokeapi.co/api/v2/pokemon/191/'},\n",
       "   'slot': 1},\n",
       "  {'pokemon': {'name': 'sunflora',\n",
       "    'url': 'https://pokeapi.co/api/v2/pokemon/192/'},\n",
       "   'slot': 1},\n",
       "  {'pokemon': {'name': 'celebi',\n",
       "    'url': 'https://pokeapi.co/api/v2/pokemon/251/'},\n",
       "   'slot': 2},\n",
       "  {'pokemon': {'name': 'treecko',\n",
       "    'url': 'https://pokeapi.co/api/v2/pokemon/252/'},\n",
       "   'slot': 1},\n",
       "  {'pokemon': {'name': 'grovyle',\n",
       "    'url': 'https://pokeapi.co/api/v2/pokemon/253/'},\n",
       "   'slot': 1},\n",
       "  {'pokemon': {'name': 'sceptile',\n",
       "    'url': 'https://pokeapi.co/api/v2/pokemon/254/'},\n",
       "   'slot': 1},\n",
       "  {'pokemon': {'name': 'lotad',\n",
       "    'url': 'https://pokeapi.co/api/v2/pokemon/270/'},\n",
       "   'slot': 2},\n",
       "  {'pokemon': {'name': 'lombre',\n",
       "    'url': 'https://pokeapi.co/api/v2/pokemon/271/'},\n",
       "   'slot': 2},\n",
       "  {'pokemon': {'name': 'ludicolo',\n",
       "    'url': 'https://pokeapi.co/api/v2/pokemon/272/'},\n",
       "   'slot': 2},\n",
       "  {'pokemon': {'name': 'seedot',\n",
       "    'url': 'https://pokeapi.co/api/v2/pokemon/273/'},\n",
       "   'slot': 1},\n",
       "  {'pokemon': {'name': 'nuzleaf',\n",
       "    'url': 'https://pokeapi.co/api/v2/pokemon/274/'},\n",
       "   'slot': 1},\n",
       "  {'pokemon': {'name': 'shiftry',\n",
       "    'url': 'https://pokeapi.co/api/v2/pokemon/275/'},\n",
       "   'slot': 1},\n",
       "  {'pokemon': {'name': 'shroomish',\n",
       "    'url': 'https://pokeapi.co/api/v2/pokemon/285/'},\n",
       "   'slot': 1},\n",
       "  {'pokemon': {'name': 'breloom',\n",
       "    'url': 'https://pokeapi.co/api/v2/pokemon/286/'},\n",
       "   'slot': 1},\n",
       "  {'pokemon': {'name': 'roselia',\n",
       "    'url': 'https://pokeapi.co/api/v2/pokemon/315/'},\n",
       "   'slot': 1},\n",
       "  {'pokemon': {'name': 'cacnea',\n",
       "    'url': 'https://pokeapi.co/api/v2/pokemon/331/'},\n",
       "   'slot': 1},\n",
       "  {'pokemon': {'name': 'cacturne',\n",
       "    'url': 'https://pokeapi.co/api/v2/pokemon/332/'},\n",
       "   'slot': 1},\n",
       "  {'pokemon': {'name': 'lileep',\n",
       "    'url': 'https://pokeapi.co/api/v2/pokemon/345/'},\n",
       "   'slot': 2},\n",
       "  {'pokemon': {'name': 'cradily',\n",
       "    'url': 'https://pokeapi.co/api/v2/pokemon/346/'},\n",
       "   'slot': 2},\n",
       "  {'pokemon': {'name': 'tropius',\n",
       "    'url': 'https://pokeapi.co/api/v2/pokemon/357/'},\n",
       "   'slot': 1},\n",
       "  {'pokemon': {'name': 'turtwig',\n",
       "    'url': 'https://pokeapi.co/api/v2/pokemon/387/'},\n",
       "   'slot': 1},\n",
       "  {'pokemon': {'name': 'grotle',\n",
       "    'url': 'https://pokeapi.co/api/v2/pokemon/388/'},\n",
       "   'slot': 1},\n",
       "  {'pokemon': {'name': 'torterra',\n",
       "    'url': 'https://pokeapi.co/api/v2/pokemon/389/'},\n",
       "   'slot': 1},\n",
       "  {'pokemon': {'name': 'budew',\n",
       "    'url': 'https://pokeapi.co/api/v2/pokemon/406/'},\n",
       "   'slot': 1},\n",
       "  {'pokemon': {'name': 'roserade',\n",
       "    'url': 'https://pokeapi.co/api/v2/pokemon/407/'},\n",
       "   'slot': 1},\n",
       "  {'pokemon': {'name': 'wormadam-plant',\n",
       "    'url': 'https://pokeapi.co/api/v2/pokemon/413/'},\n",
       "   'slot': 2},\n",
       "  {'pokemon': {'name': 'cherubi',\n",
       "    'url': 'https://pokeapi.co/api/v2/pokemon/420/'},\n",
       "   'slot': 1},\n",
       "  {'pokemon': {'name': 'cherrim',\n",
       "    'url': 'https://pokeapi.co/api/v2/pokemon/421/'},\n",
       "   'slot': 1},\n",
       "  {'pokemon': {'name': 'carnivine',\n",
       "    'url': 'https://pokeapi.co/api/v2/pokemon/455/'},\n",
       "   'slot': 1},\n",
       "  {'pokemon': {'name': 'snover',\n",
       "    'url': 'https://pokeapi.co/api/v2/pokemon/459/'},\n",
       "   'slot': 1},\n",
       "  {'pokemon': {'name': 'abomasnow',\n",
       "    'url': 'https://pokeapi.co/api/v2/pokemon/460/'},\n",
       "   'slot': 1},\n",
       "  {'pokemon': {'name': 'tangrowth',\n",
       "    'url': 'https://pokeapi.co/api/v2/pokemon/465/'},\n",
       "   'slot': 1},\n",
       "  {'pokemon': {'name': 'leafeon',\n",
       "    'url': 'https://pokeapi.co/api/v2/pokemon/470/'},\n",
       "   'slot': 1},\n",
       "  {'pokemon': {'name': 'shaymin-land',\n",
       "    'url': 'https://pokeapi.co/api/v2/pokemon/492/'},\n",
       "   'slot': 1},\n",
       "  {'pokemon': {'name': 'snivy',\n",
       "    'url': 'https://pokeapi.co/api/v2/pokemon/495/'},\n",
       "   'slot': 1},\n",
       "  {'pokemon': {'name': 'servine',\n",
       "    'url': 'https://pokeapi.co/api/v2/pokemon/496/'},\n",
       "   'slot': 1},\n",
       "  {'pokemon': {'name': 'serperior',\n",
       "    'url': 'https://pokeapi.co/api/v2/pokemon/497/'},\n",
       "   'slot': 1},\n",
       "  {'pokemon': {'name': 'pansage',\n",
       "    'url': 'https://pokeapi.co/api/v2/pokemon/511/'},\n",
       "   'slot': 1},\n",
       "  {'pokemon': {'name': 'simisage',\n",
       "    'url': 'https://pokeapi.co/api/v2/pokemon/512/'},\n",
       "   'slot': 1},\n",
       "  {'pokemon': {'name': 'sewaddle',\n",
       "    'url': 'https://pokeapi.co/api/v2/pokemon/540/'},\n",
       "   'slot': 2},\n",
       "  {'pokemon': {'name': 'swadloon',\n",
       "    'url': 'https://pokeapi.co/api/v2/pokemon/541/'},\n",
       "   'slot': 2},\n",
       "  {'pokemon': {'name': 'leavanny',\n",
       "    'url': 'https://pokeapi.co/api/v2/pokemon/542/'},\n",
       "   'slot': 2},\n",
       "  {'pokemon': {'name': 'cottonee',\n",
       "    'url': 'https://pokeapi.co/api/v2/pokemon/546/'},\n",
       "   'slot': 1},\n",
       "  {'pokemon': {'name': 'whimsicott',\n",
       "    'url': 'https://pokeapi.co/api/v2/pokemon/547/'},\n",
       "   'slot': 1},\n",
       "  {'pokemon': {'name': 'petilil',\n",
       "    'url': 'https://pokeapi.co/api/v2/pokemon/548/'},\n",
       "   'slot': 1},\n",
       "  {'pokemon': {'name': 'lilligant',\n",
       "    'url': 'https://pokeapi.co/api/v2/pokemon/549/'},\n",
       "   'slot': 1},\n",
       "  {'pokemon': {'name': 'maractus',\n",
       "    'url': 'https://pokeapi.co/api/v2/pokemon/556/'},\n",
       "   'slot': 1},\n",
       "  {'pokemon': {'name': 'deerling',\n",
       "    'url': 'https://pokeapi.co/api/v2/pokemon/585/'},\n",
       "   'slot': 2},\n",
       "  {'pokemon': {'name': 'sawsbuck',\n",
       "    'url': 'https://pokeapi.co/api/v2/pokemon/586/'},\n",
       "   'slot': 2},\n",
       "  {'pokemon': {'name': 'foongus',\n",
       "    'url': 'https://pokeapi.co/api/v2/pokemon/590/'},\n",
       "   'slot': 1},\n",
       "  {'pokemon': {'name': 'amoonguss',\n",
       "    'url': 'https://pokeapi.co/api/v2/pokemon/591/'},\n",
       "   'slot': 1},\n",
       "  {'pokemon': {'name': 'ferroseed',\n",
       "    'url': 'https://pokeapi.co/api/v2/pokemon/597/'},\n",
       "   'slot': 1},\n",
       "  {'pokemon': {'name': 'ferrothorn',\n",
       "    'url': 'https://pokeapi.co/api/v2/pokemon/598/'},\n",
       "   'slot': 1},\n",
       "  {'pokemon': {'name': 'virizion',\n",
       "    'url': 'https://pokeapi.co/api/v2/pokemon/640/'},\n",
       "   'slot': 1},\n",
       "  {'pokemon': {'name': 'chespin',\n",
       "    'url': 'https://pokeapi.co/api/v2/pokemon/650/'},\n",
       "   'slot': 1},\n",
       "  {'pokemon': {'name': 'quilladin',\n",
       "    'url': 'https://pokeapi.co/api/v2/pokemon/651/'},\n",
       "   'slot': 1},\n",
       "  {'pokemon': {'name': 'chesnaught',\n",
       "    'url': 'https://pokeapi.co/api/v2/pokemon/652/'},\n",
       "   'slot': 1},\n",
       "  {'pokemon': {'name': 'skiddo',\n",
       "    'url': 'https://pokeapi.co/api/v2/pokemon/672/'},\n",
       "   'slot': 1},\n",
       "  {'pokemon': {'name': 'gogoat',\n",
       "    'url': 'https://pokeapi.co/api/v2/pokemon/673/'},\n",
       "   'slot': 1},\n",
       "  {'pokemon': {'name': 'phantump',\n",
       "    'url': 'https://pokeapi.co/api/v2/pokemon/708/'},\n",
       "   'slot': 2},\n",
       "  {'pokemon': {'name': 'trevenant',\n",
       "    'url': 'https://pokeapi.co/api/v2/pokemon/709/'},\n",
       "   'slot': 2},\n",
       "  {'pokemon': {'name': 'pumpkaboo-average',\n",
       "    'url': 'https://pokeapi.co/api/v2/pokemon/710/'},\n",
       "   'slot': 2},\n",
       "  {'pokemon': {'name': 'gourgeist-average',\n",
       "    'url': 'https://pokeapi.co/api/v2/pokemon/711/'},\n",
       "   'slot': 2},\n",
       "  {'pokemon': {'name': 'rowlet',\n",
       "    'url': 'https://pokeapi.co/api/v2/pokemon/722/'},\n",
       "   'slot': 1},\n",
       "  {'pokemon': {'name': 'dartrix',\n",
       "    'url': 'https://pokeapi.co/api/v2/pokemon/723/'},\n",
       "   'slot': 1},\n",
       "  {'pokemon': {'name': 'decidueye',\n",
       "    'url': 'https://pokeapi.co/api/v2/pokemon/724/'},\n",
       "   'slot': 1},\n",
       "  {'pokemon': {'name': 'fomantis',\n",
       "    'url': 'https://pokeapi.co/api/v2/pokemon/753/'},\n",
       "   'slot': 1},\n",
       "  {'pokemon': {'name': 'lurantis',\n",
       "    'url': 'https://pokeapi.co/api/v2/pokemon/754/'},\n",
       "   'slot': 1},\n",
       "  {'pokemon': {'name': 'morelull',\n",
       "    'url': 'https://pokeapi.co/api/v2/pokemon/755/'},\n",
       "   'slot': 1},\n",
       "  {'pokemon': {'name': 'shiinotic',\n",
       "    'url': 'https://pokeapi.co/api/v2/pokemon/756/'},\n",
       "   'slot': 1},\n",
       "  {'pokemon': {'name': 'bounsweet',\n",
       "    'url': 'https://pokeapi.co/api/v2/pokemon/761/'},\n",
       "   'slot': 1},\n",
       "  {'pokemon': {'name': 'steenee',\n",
       "    'url': 'https://pokeapi.co/api/v2/pokemon/762/'},\n",
       "   'slot': 1},\n",
       "  {'pokemon': {'name': 'tsareena',\n",
       "    'url': 'https://pokeapi.co/api/v2/pokemon/763/'},\n",
       "   'slot': 1},\n",
       "  {'pokemon': {'name': 'dhelmise',\n",
       "    'url': 'https://pokeapi.co/api/v2/pokemon/781/'},\n",
       "   'slot': 2},\n",
       "  {'pokemon': {'name': 'tapu-bulu',\n",
       "    'url': 'https://pokeapi.co/api/v2/pokemon/787/'},\n",
       "   'slot': 1},\n",
       "  {'pokemon': {'name': 'kartana',\n",
       "    'url': 'https://pokeapi.co/api/v2/pokemon/798/'},\n",
       "   'slot': 1},\n",
       "  {'pokemon': {'name': 'grookey',\n",
       "    'url': 'https://pokeapi.co/api/v2/pokemon/810/'},\n",
       "   'slot': 1},\n",
       "  {'pokemon': {'name': 'thwackey',\n",
       "    'url': 'https://pokeapi.co/api/v2/pokemon/811/'},\n",
       "   'slot': 1},\n",
       "  {'pokemon': {'name': 'rillaboom',\n",
       "    'url': 'https://pokeapi.co/api/v2/pokemon/812/'},\n",
       "   'slot': 1},\n",
       "  {'pokemon': {'name': 'gossifleur',\n",
       "    'url': 'https://pokeapi.co/api/v2/pokemon/829/'},\n",
       "   'slot': 1},\n",
       "  {'pokemon': {'name': 'eldegoss',\n",
       "    'url': 'https://pokeapi.co/api/v2/pokemon/830/'},\n",
       "   'slot': 1},\n",
       "  {'pokemon': {'name': 'applin',\n",
       "    'url': 'https://pokeapi.co/api/v2/pokemon/840/'},\n",
       "   'slot': 1},\n",
       "  {'pokemon': {'name': 'flapple',\n",
       "    'url': 'https://pokeapi.co/api/v2/pokemon/841/'},\n",
       "   'slot': 1},\n",
       "  {'pokemon': {'name': 'appletun',\n",
       "    'url': 'https://pokeapi.co/api/v2/pokemon/842/'},\n",
       "   'slot': 1},\n",
       "  {'pokemon': {'name': 'zarude',\n",
       "    'url': 'https://pokeapi.co/api/v2/pokemon/893/'},\n",
       "   'slot': 2},\n",
       "  {'pokemon': {'name': 'calyrex',\n",
       "    'url': 'https://pokeapi.co/api/v2/pokemon/898/'},\n",
       "   'slot': 2},\n",
       "  {'pokemon': {'name': 'shaymin-sky',\n",
       "    'url': 'https://pokeapi.co/api/v2/pokemon/10006/'},\n",
       "   'slot': 1},\n",
       "  {'pokemon': {'name': 'rotom-mow',\n",
       "    'url': 'https://pokeapi.co/api/v2/pokemon/10012/'},\n",
       "   'slot': 2},\n",
       "  {'pokemon': {'name': 'pumpkaboo-small',\n",
       "    'url': 'https://pokeapi.co/api/v2/pokemon/10027/'},\n",
       "   'slot': 2},\n",
       "  {'pokemon': {'name': 'pumpkaboo-large',\n",
       "    'url': 'https://pokeapi.co/api/v2/pokemon/10028/'},\n",
       "   'slot': 2},\n",
       "  {'pokemon': {'name': 'pumpkaboo-super',\n",
       "    'url': 'https://pokeapi.co/api/v2/pokemon/10029/'},\n",
       "   'slot': 2},\n",
       "  {'pokemon': {'name': 'gourgeist-small',\n",
       "    'url': 'https://pokeapi.co/api/v2/pokemon/10030/'},\n",
       "   'slot': 2},\n",
       "  {'pokemon': {'name': 'gourgeist-large',\n",
       "    'url': 'https://pokeapi.co/api/v2/pokemon/10031/'},\n",
       "   'slot': 2},\n",
       "  {'pokemon': {'name': 'gourgeist-super',\n",
       "    'url': 'https://pokeapi.co/api/v2/pokemon/10032/'},\n",
       "   'slot': 2},\n",
       "  {'pokemon': {'name': 'venusaur-mega',\n",
       "    'url': 'https://pokeapi.co/api/v2/pokemon/10033/'},\n",
       "   'slot': 1},\n",
       "  {'pokemon': {'name': 'abomasnow-mega',\n",
       "    'url': 'https://pokeapi.co/api/v2/pokemon/10060/'},\n",
       "   'slot': 1},\n",
       "  {'pokemon': {'name': 'sceptile-mega',\n",
       "    'url': 'https://pokeapi.co/api/v2/pokemon/10065/'},\n",
       "   'slot': 1},\n",
       "  {'pokemon': {'name': 'exeggutor-alola',\n",
       "    'url': 'https://pokeapi.co/api/v2/pokemon/10114/'},\n",
       "   'slot': 1},\n",
       "  {'pokemon': {'name': 'lurantis-totem',\n",
       "    'url': 'https://pokeapi.co/api/v2/pokemon/10128/'},\n",
       "   'slot': 1},\n",
       "  {'pokemon': {'name': 'venusaur-gmax',\n",
       "    'url': 'https://pokeapi.co/api/v2/pokemon/10186/'},\n",
       "   'slot': 1},\n",
       "  {'pokemon': {'name': 'rillaboom-gmax',\n",
       "    'url': 'https://pokeapi.co/api/v2/pokemon/10200/'},\n",
       "   'slot': 1},\n",
       "  {'pokemon': {'name': 'flapple-gmax',\n",
       "    'url': 'https://pokeapi.co/api/v2/pokemon/10207/'},\n",
       "   'slot': 1},\n",
       "  {'pokemon': {'name': 'appletun-gmax',\n",
       "    'url': 'https://pokeapi.co/api/v2/pokemon/10208/'},\n",
       "   'slot': 1}]}"
      ]
     },
     "metadata": {},
     "execution_count": 28
    }
   ],
   "source": [
    "peticion_api_url = requests.get(type_poke).json()\n",
    "peticion_api_url"
   ]
  },
  {
   "cell_type": "code",
   "execution_count": null,
   "metadata": {},
   "outputs": [],
   "source": []
  }
 ]
}