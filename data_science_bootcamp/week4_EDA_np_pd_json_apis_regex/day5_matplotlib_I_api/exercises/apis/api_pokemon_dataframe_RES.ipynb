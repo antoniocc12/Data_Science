{
 "cells": [
  {
   "cell_type": "markdown",
   "metadata": {
    "id": "QgnFnkjHNZDc"
   },
   "source": [
    "### Ejercicio 1\n",
    "\n",
    "A partir de la API de Pokemon, se pide generar un DataFrame como el de la imagen con las columnas: \n",
    "\n",
    "- **\"height\",\"id\",\"order\",\"weight\",\"types\"**\n",
    "\n",
    "### Ejercicio 2\n",
    "\n",
    "¿Has visto que dentro del DataFrame la columna \"types\" hay diccionarios? Se pide agregar, por cada pokemon, las columnas necesarias al DataFrame para albergar toda la información de \"types\".\n",
    "\n",
    "![](df_pk.PNG)"
   ]
  },
  {
   "cell_type": "code",
   "execution_count": 12,
   "metadata": {
    "id": "r55IGhA-NZDq"
   },
   "outputs": [],
   "source": [
    "import json\n",
    "import requests\n",
    "import pandas as pd"
   ]
  },
  {
   "cell_type": "markdown",
   "metadata": {
    "id": "pjCwutPFNZDs"
   },
   "source": [
    "Lo primero de todo será definir la **url** de donde sacaremos la información y realizar la petición con la función `get` de la librería `requests`, pasándolo a su vez a `json`."
   ]
  },
  {
   "cell_type": "code",
   "execution_count": 2,
   "metadata": {
    "id": "UpvfF7ZLNZDt"
   },
   "outputs": [],
   "source": [
    "url = \"https://pokeapi.co/api/v2/pokemon\"\n",
    "poke_json = requests.get(url).json()"
   ]
  },
  {
   "cell_type": "markdown",
   "metadata": {
    "id": "TEsAaWalNZDu"
   },
   "source": [
    "Creamos una lista vacía donde contendremos todos los resultados obtenidos de la api, además de un diccionario vacío para guardar los nombre de pokemon y las **url** de donde luego sacaremos el resto de información "
   ]
  },
  {
   "cell_type": "code",
   "execution_count": 3,
   "metadata": {},
   "outputs": [],
   "source": [
    "pokemon = []\n",
    "pokemon.extend(poke_json[\"results\"])"
   ]
  },
  {
   "cell_type": "markdown",
   "metadata": {},
   "source": [
    "A partir de los resultados creamos un dataframe."
   ]
  },
  {
   "cell_type": "code",
   "execution_count": 4,
   "metadata": {},
   "outputs": [
    {
     "data": {
      "text/html": [
       "<div>\n",
       "<style scoped>\n",
       "    .dataframe tbody tr th:only-of-type {\n",
       "        vertical-align: middle;\n",
       "    }\n",
       "\n",
       "    .dataframe tbody tr th {\n",
       "        vertical-align: top;\n",
       "    }\n",
       "\n",
       "    .dataframe thead th {\n",
       "        text-align: right;\n",
       "    }\n",
       "</style>\n",
       "<table border=\"1\" class=\"dataframe\">\n",
       "  <thead>\n",
       "    <tr style=\"text-align: right;\">\n",
       "      <th></th>\n",
       "      <th>name</th>\n",
       "      <th>url</th>\n",
       "    </tr>\n",
       "  </thead>\n",
       "  <tbody>\n",
       "    <tr>\n",
       "      <th>0</th>\n",
       "      <td>bulbasaur</td>\n",
       "      <td>https://pokeapi.co/api/v2/pokemon/1/</td>\n",
       "    </tr>\n",
       "    <tr>\n",
       "      <th>1</th>\n",
       "      <td>ivysaur</td>\n",
       "      <td>https://pokeapi.co/api/v2/pokemon/2/</td>\n",
       "    </tr>\n",
       "    <tr>\n",
       "      <th>2</th>\n",
       "      <td>venusaur</td>\n",
       "      <td>https://pokeapi.co/api/v2/pokemon/3/</td>\n",
       "    </tr>\n",
       "    <tr>\n",
       "      <th>3</th>\n",
       "      <td>charmander</td>\n",
       "      <td>https://pokeapi.co/api/v2/pokemon/4/</td>\n",
       "    </tr>\n",
       "    <tr>\n",
       "      <th>4</th>\n",
       "      <td>charmeleon</td>\n",
       "      <td>https://pokeapi.co/api/v2/pokemon/5/</td>\n",
       "    </tr>\n",
       "    <tr>\n",
       "      <th>5</th>\n",
       "      <td>charizard</td>\n",
       "      <td>https://pokeapi.co/api/v2/pokemon/6/</td>\n",
       "    </tr>\n",
       "    <tr>\n",
       "      <th>6</th>\n",
       "      <td>squirtle</td>\n",
       "      <td>https://pokeapi.co/api/v2/pokemon/7/</td>\n",
       "    </tr>\n",
       "    <tr>\n",
       "      <th>7</th>\n",
       "      <td>wartortle</td>\n",
       "      <td>https://pokeapi.co/api/v2/pokemon/8/</td>\n",
       "    </tr>\n",
       "    <tr>\n",
       "      <th>8</th>\n",
       "      <td>blastoise</td>\n",
       "      <td>https://pokeapi.co/api/v2/pokemon/9/</td>\n",
       "    </tr>\n",
       "    <tr>\n",
       "      <th>9</th>\n",
       "      <td>caterpie</td>\n",
       "      <td>https://pokeapi.co/api/v2/pokemon/10/</td>\n",
       "    </tr>\n",
       "    <tr>\n",
       "      <th>10</th>\n",
       "      <td>metapod</td>\n",
       "      <td>https://pokeapi.co/api/v2/pokemon/11/</td>\n",
       "    </tr>\n",
       "    <tr>\n",
       "      <th>11</th>\n",
       "      <td>butterfree</td>\n",
       "      <td>https://pokeapi.co/api/v2/pokemon/12/</td>\n",
       "    </tr>\n",
       "    <tr>\n",
       "      <th>12</th>\n",
       "      <td>weedle</td>\n",
       "      <td>https://pokeapi.co/api/v2/pokemon/13/</td>\n",
       "    </tr>\n",
       "    <tr>\n",
       "      <th>13</th>\n",
       "      <td>kakuna</td>\n",
       "      <td>https://pokeapi.co/api/v2/pokemon/14/</td>\n",
       "    </tr>\n",
       "    <tr>\n",
       "      <th>14</th>\n",
       "      <td>beedrill</td>\n",
       "      <td>https://pokeapi.co/api/v2/pokemon/15/</td>\n",
       "    </tr>\n",
       "    <tr>\n",
       "      <th>15</th>\n",
       "      <td>pidgey</td>\n",
       "      <td>https://pokeapi.co/api/v2/pokemon/16/</td>\n",
       "    </tr>\n",
       "    <tr>\n",
       "      <th>16</th>\n",
       "      <td>pidgeotto</td>\n",
       "      <td>https://pokeapi.co/api/v2/pokemon/17/</td>\n",
       "    </tr>\n",
       "    <tr>\n",
       "      <th>17</th>\n",
       "      <td>pidgeot</td>\n",
       "      <td>https://pokeapi.co/api/v2/pokemon/18/</td>\n",
       "    </tr>\n",
       "    <tr>\n",
       "      <th>18</th>\n",
       "      <td>rattata</td>\n",
       "      <td>https://pokeapi.co/api/v2/pokemon/19/</td>\n",
       "    </tr>\n",
       "    <tr>\n",
       "      <th>19</th>\n",
       "      <td>raticate</td>\n",
       "      <td>https://pokeapi.co/api/v2/pokemon/20/</td>\n",
       "    </tr>\n",
       "  </tbody>\n",
       "</table>\n",
       "</div>"
      ],
      "text/plain": [
       "          name                                    url\n",
       "0    bulbasaur   https://pokeapi.co/api/v2/pokemon/1/\n",
       "1      ivysaur   https://pokeapi.co/api/v2/pokemon/2/\n",
       "2     venusaur   https://pokeapi.co/api/v2/pokemon/3/\n",
       "3   charmander   https://pokeapi.co/api/v2/pokemon/4/\n",
       "4   charmeleon   https://pokeapi.co/api/v2/pokemon/5/\n",
       "5    charizard   https://pokeapi.co/api/v2/pokemon/6/\n",
       "6     squirtle   https://pokeapi.co/api/v2/pokemon/7/\n",
       "7    wartortle   https://pokeapi.co/api/v2/pokemon/8/\n",
       "8    blastoise   https://pokeapi.co/api/v2/pokemon/9/\n",
       "9     caterpie  https://pokeapi.co/api/v2/pokemon/10/\n",
       "10     metapod  https://pokeapi.co/api/v2/pokemon/11/\n",
       "11  butterfree  https://pokeapi.co/api/v2/pokemon/12/\n",
       "12      weedle  https://pokeapi.co/api/v2/pokemon/13/\n",
       "13      kakuna  https://pokeapi.co/api/v2/pokemon/14/\n",
       "14    beedrill  https://pokeapi.co/api/v2/pokemon/15/\n",
       "15      pidgey  https://pokeapi.co/api/v2/pokemon/16/\n",
       "16   pidgeotto  https://pokeapi.co/api/v2/pokemon/17/\n",
       "17     pidgeot  https://pokeapi.co/api/v2/pokemon/18/\n",
       "18     rattata  https://pokeapi.co/api/v2/pokemon/19/\n",
       "19    raticate  https://pokeapi.co/api/v2/pokemon/20/"
      ]
     },
     "execution_count": 4,
     "metadata": {},
     "output_type": "execute_result"
    }
   ],
   "source": [
    "df = pd.DataFrame(pokemon)\n",
    "df"
   ]
  },
  {
   "cell_type": "code",
   "execution_count": 5,
   "metadata": {},
   "outputs": [],
   "source": [
    "def get_info(url):\n",
    "    lista_vacia = []\n",
    "    peticion_api_url = requests.get(url).json()\n",
    "    lista_keys = [\"height\",\"id\",\"order\",\"weight\",\"types\"]\n",
    "    for key in lista_keys:\n",
    "        lista_vacia.append(peticion_api_url[key])\n",
    "    return pd.Series(lista_vacia)\n",
    "        "
   ]
  },
  {
   "cell_type": "code",
   "execution_count": 6,
   "metadata": {},
   "outputs": [],
   "source": [
    "df[[\"height\",\"id\",\"order\",\"weight\",\"types\"]] = df['url'].apply(lambda x:get_info(x))"
   ]
  },
  {
   "cell_type": "code",
   "execution_count": 7,
   "metadata": {},
   "outputs": [
    {
     "data": {
      "text/html": [
       "<div>\n",
       "<style scoped>\n",
       "    .dataframe tbody tr th:only-of-type {\n",
       "        vertical-align: middle;\n",
       "    }\n",
       "\n",
       "    .dataframe tbody tr th {\n",
       "        vertical-align: top;\n",
       "    }\n",
       "\n",
       "    .dataframe thead th {\n",
       "        text-align: right;\n",
       "    }\n",
       "</style>\n",
       "<table border=\"1\" class=\"dataframe\">\n",
       "  <thead>\n",
       "    <tr style=\"text-align: right;\">\n",
       "      <th></th>\n",
       "      <th>name</th>\n",
       "      <th>url</th>\n",
       "      <th>height</th>\n",
       "      <th>id</th>\n",
       "      <th>order</th>\n",
       "      <th>weight</th>\n",
       "      <th>types</th>\n",
       "    </tr>\n",
       "  </thead>\n",
       "  <tbody>\n",
       "    <tr>\n",
       "      <th>0</th>\n",
       "      <td>bulbasaur</td>\n",
       "      <td>https://pokeapi.co/api/v2/pokemon/1/</td>\n",
       "      <td>7</td>\n",
       "      <td>1</td>\n",
       "      <td>1</td>\n",
       "      <td>69</td>\n",
       "      <td>[{'slot': 1, 'type': {'name': 'grass', 'url': ...</td>\n",
       "    </tr>\n",
       "    <tr>\n",
       "      <th>1</th>\n",
       "      <td>ivysaur</td>\n",
       "      <td>https://pokeapi.co/api/v2/pokemon/2/</td>\n",
       "      <td>10</td>\n",
       "      <td>2</td>\n",
       "      <td>2</td>\n",
       "      <td>130</td>\n",
       "      <td>[{'slot': 1, 'type': {'name': 'grass', 'url': ...</td>\n",
       "    </tr>\n",
       "    <tr>\n",
       "      <th>2</th>\n",
       "      <td>venusaur</td>\n",
       "      <td>https://pokeapi.co/api/v2/pokemon/3/</td>\n",
       "      <td>20</td>\n",
       "      <td>3</td>\n",
       "      <td>3</td>\n",
       "      <td>1000</td>\n",
       "      <td>[{'slot': 1, 'type': {'name': 'grass', 'url': ...</td>\n",
       "    </tr>\n",
       "    <tr>\n",
       "      <th>3</th>\n",
       "      <td>charmander</td>\n",
       "      <td>https://pokeapi.co/api/v2/pokemon/4/</td>\n",
       "      <td>6</td>\n",
       "      <td>4</td>\n",
       "      <td>5</td>\n",
       "      <td>85</td>\n",
       "      <td>[{'slot': 1, 'type': {'name': 'fire', 'url': '...</td>\n",
       "    </tr>\n",
       "    <tr>\n",
       "      <th>4</th>\n",
       "      <td>charmeleon</td>\n",
       "      <td>https://pokeapi.co/api/v2/pokemon/5/</td>\n",
       "      <td>11</td>\n",
       "      <td>5</td>\n",
       "      <td>6</td>\n",
       "      <td>190</td>\n",
       "      <td>[{'slot': 1, 'type': {'name': 'fire', 'url': '...</td>\n",
       "    </tr>\n",
       "  </tbody>\n",
       "</table>\n",
       "</div>"
      ],
      "text/plain": [
       "         name                                   url  height  id  order  \\\n",
       "0   bulbasaur  https://pokeapi.co/api/v2/pokemon/1/       7   1      1   \n",
       "1     ivysaur  https://pokeapi.co/api/v2/pokemon/2/      10   2      2   \n",
       "2    venusaur  https://pokeapi.co/api/v2/pokemon/3/      20   3      3   \n",
       "3  charmander  https://pokeapi.co/api/v2/pokemon/4/       6   4      5   \n",
       "4  charmeleon  https://pokeapi.co/api/v2/pokemon/5/      11   5      6   \n",
       "\n",
       "   weight                                              types  \n",
       "0      69  [{'slot': 1, 'type': {'name': 'grass', 'url': ...  \n",
       "1     130  [{'slot': 1, 'type': {'name': 'grass', 'url': ...  \n",
       "2    1000  [{'slot': 1, 'type': {'name': 'grass', 'url': ...  \n",
       "3      85  [{'slot': 1, 'type': {'name': 'fire', 'url': '...  \n",
       "4     190  [{'slot': 1, 'type': {'name': 'fire', 'url': '...  "
      ]
     },
     "execution_count": 7,
     "metadata": {},
     "output_type": "execute_result"
    }
   ],
   "source": [
    "df.head()"
   ]
  },
  {
   "cell_type": "code",
   "execution_count": 22,
   "metadata": {},
   "outputs": [
    {
     "data": {
      "text/plain": [
       "[{'slot': 1,\n",
       "  'type': {'name': 'grass', 'url': 'https://pokeapi.co/api/v2/type/12/'}},\n",
       " {'slot': 2,\n",
       "  'type': {'name': 'poison', 'url': 'https://pokeapi.co/api/v2/type/4/'}}]"
      ]
     },
     "execution_count": 22,
     "metadata": {},
     "output_type": "execute_result"
    }
   ],
   "source": [
    "df['types'][0]"
   ]
  },
  {
   "cell_type": "markdown",
   "metadata": {
    "id": "0g0ZcNHCNZD4"
   },
   "source": [
    "Para \"sacar\" el diccionario de la lista contenida en la columna `types` se deberá usar `pd.explode`.\n",
    "\n",
    "- https://pandas.pydata.org/pandas-docs/stable/reference/api/pandas.DataFrame.explode.html\n"
   ]
  },
  {
   "cell_type": "code",
   "execution_count": 8,
   "metadata": {
    "id": "g6Zx_jwyNZD5"
   },
   "outputs": [
    {
     "data": {
      "text/html": [
       "<div>\n",
       "<style scoped>\n",
       "    .dataframe tbody tr th:only-of-type {\n",
       "        vertical-align: middle;\n",
       "    }\n",
       "\n",
       "    .dataframe tbody tr th {\n",
       "        vertical-align: top;\n",
       "    }\n",
       "\n",
       "    .dataframe thead th {\n",
       "        text-align: right;\n",
       "    }\n",
       "</style>\n",
       "<table border=\"1\" class=\"dataframe\">\n",
       "  <thead>\n",
       "    <tr style=\"text-align: right;\">\n",
       "      <th></th>\n",
       "      <th>name</th>\n",
       "      <th>url</th>\n",
       "      <th>height</th>\n",
       "      <th>id</th>\n",
       "      <th>order</th>\n",
       "      <th>weight</th>\n",
       "      <th>types</th>\n",
       "    </tr>\n",
       "  </thead>\n",
       "  <tbody>\n",
       "    <tr>\n",
       "      <th>0</th>\n",
       "      <td>bulbasaur</td>\n",
       "      <td>https://pokeapi.co/api/v2/pokemon/1/</td>\n",
       "      <td>7</td>\n",
       "      <td>1</td>\n",
       "      <td>1</td>\n",
       "      <td>69</td>\n",
       "      <td>{'slot': 1, 'type': {'name': 'grass', 'url': '...</td>\n",
       "    </tr>\n",
       "    <tr>\n",
       "      <th>0</th>\n",
       "      <td>bulbasaur</td>\n",
       "      <td>https://pokeapi.co/api/v2/pokemon/1/</td>\n",
       "      <td>7</td>\n",
       "      <td>1</td>\n",
       "      <td>1</td>\n",
       "      <td>69</td>\n",
       "      <td>{'slot': 2, 'type': {'name': 'poison', 'url': ...</td>\n",
       "    </tr>\n",
       "    <tr>\n",
       "      <th>1</th>\n",
       "      <td>ivysaur</td>\n",
       "      <td>https://pokeapi.co/api/v2/pokemon/2/</td>\n",
       "      <td>10</td>\n",
       "      <td>2</td>\n",
       "      <td>2</td>\n",
       "      <td>130</td>\n",
       "      <td>{'slot': 1, 'type': {'name': 'grass', 'url': '...</td>\n",
       "    </tr>\n",
       "    <tr>\n",
       "      <th>1</th>\n",
       "      <td>ivysaur</td>\n",
       "      <td>https://pokeapi.co/api/v2/pokemon/2/</td>\n",
       "      <td>10</td>\n",
       "      <td>2</td>\n",
       "      <td>2</td>\n",
       "      <td>130</td>\n",
       "      <td>{'slot': 2, 'type': {'name': 'poison', 'url': ...</td>\n",
       "    </tr>\n",
       "    <tr>\n",
       "      <th>2</th>\n",
       "      <td>venusaur</td>\n",
       "      <td>https://pokeapi.co/api/v2/pokemon/3/</td>\n",
       "      <td>20</td>\n",
       "      <td>3</td>\n",
       "      <td>3</td>\n",
       "      <td>1000</td>\n",
       "      <td>{'slot': 1, 'type': {'name': 'grass', 'url': '...</td>\n",
       "    </tr>\n",
       "  </tbody>\n",
       "</table>\n",
       "</div>"
      ],
      "text/plain": [
       "        name                                   url  height  id  order  weight  \\\n",
       "0  bulbasaur  https://pokeapi.co/api/v2/pokemon/1/       7   1      1      69   \n",
       "0  bulbasaur  https://pokeapi.co/api/v2/pokemon/1/       7   1      1      69   \n",
       "1    ivysaur  https://pokeapi.co/api/v2/pokemon/2/      10   2      2     130   \n",
       "1    ivysaur  https://pokeapi.co/api/v2/pokemon/2/      10   2      2     130   \n",
       "2   venusaur  https://pokeapi.co/api/v2/pokemon/3/      20   3      3    1000   \n",
       "\n",
       "                                               types  \n",
       "0  {'slot': 1, 'type': {'name': 'grass', 'url': '...  \n",
       "0  {'slot': 2, 'type': {'name': 'poison', 'url': ...  \n",
       "1  {'slot': 1, 'type': {'name': 'grass', 'url': '...  \n",
       "1  {'slot': 2, 'type': {'name': 'poison', 'url': ...  \n",
       "2  {'slot': 1, 'type': {'name': 'grass', 'url': '...  "
      ]
     },
     "execution_count": 8,
     "metadata": {},
     "output_type": "execute_result"
    }
   ],
   "source": [
    "first = df.explode(\"types\")\n",
    "first.head()"
   ]
  },
  {
   "cell_type": "markdown",
   "metadata": {
    "id": "ykXkL-YONZD6"
   },
   "source": [
    "Este es el diccionario que hay que deshacer en este caso en 3 columnas, **slot**, **name** y **url**."
   ]
  },
  {
   "cell_type": "code",
   "execution_count": 9,
   "metadata": {},
   "outputs": [
    {
     "data": {
      "text/plain": [
       "{'slot': 1,\n",
       " 'type': {'name': 'grass', 'url': 'https://pokeapi.co/api/v2/type/12/'}}"
      ]
     },
     "execution_count": 9,
     "metadata": {},
     "output_type": "execute_result"
    }
   ],
   "source": [
    "first['types'].values[0]"
   ]
  },
  {
   "cell_type": "markdown",
   "metadata": {},
   "source": [
    "Así no."
   ]
  },
  {
   "cell_type": "code",
   "execution_count": 10,
   "metadata": {
    "id": "1aCM40u3NZD7"
   },
   "outputs": [
    {
     "data": {
      "text/html": [
       "<div>\n",
       "<style scoped>\n",
       "    .dataframe tbody tr th:only-of-type {\n",
       "        vertical-align: middle;\n",
       "    }\n",
       "\n",
       "    .dataframe tbody tr th {\n",
       "        vertical-align: top;\n",
       "    }\n",
       "\n",
       "    .dataframe thead th {\n",
       "        text-align: right;\n",
       "    }\n",
       "</style>\n",
       "<table border=\"1\" class=\"dataframe\">\n",
       "  <thead>\n",
       "    <tr style=\"text-align: right;\">\n",
       "      <th></th>\n",
       "      <th>slot</th>\n",
       "      <th>type</th>\n",
       "    </tr>\n",
       "  </thead>\n",
       "  <tbody>\n",
       "    <tr>\n",
       "      <th>name</th>\n",
       "      <td>1</td>\n",
       "      <td>grass</td>\n",
       "    </tr>\n",
       "    <tr>\n",
       "      <th>url</th>\n",
       "      <td>1</td>\n",
       "      <td>https://pokeapi.co/api/v2/type/12/</td>\n",
       "    </tr>\n",
       "  </tbody>\n",
       "</table>\n",
       "</div>"
      ],
      "text/plain": [
       "      slot                                type\n",
       "name     1                               grass\n",
       "url      1  https://pokeapi.co/api/v2/type/12/"
      ]
     },
     "execution_count": 10,
     "metadata": {},
     "output_type": "execute_result"
    }
   ],
   "source": [
    "pd.DataFrame(first[\"types\"].iloc[0])"
   ]
  },
  {
   "cell_type": "markdown",
   "metadata": {},
   "source": [
    "Así si."
   ]
  },
  {
   "cell_type": "code",
   "execution_count": null,
   "metadata": {},
   "outputs": [],
   "source": [
    "#0 sin usar json_normalize, A MANITA"
   ]
  },
  {
   "cell_type": "code",
   "execution_count": 31,
   "metadata": {},
   "outputs": [],
   "source": [
    "def get_more_data(jsonito):\n",
    "    return pd.Series([jsonito['slot'], jsonito['type']['name'], jsonito['type']['url']])"
   ]
  },
  {
   "cell_type": "code",
   "execution_count": 32,
   "metadata": {},
   "outputs": [],
   "source": [
    "first[[\"slot\", \"type.name\", \"type.url\"]] = first['types'].apply(lambda x: get_more_data(x))"
   ]
  },
  {
   "cell_type": "code",
   "execution_count": 33,
   "metadata": {},
   "outputs": [],
   "source": [
    "first.drop(columns = \"types\", inplace = True)"
   ]
  },
  {
   "cell_type": "code",
   "execution_count": 34,
   "metadata": {},
   "outputs": [
    {
     "data": {
      "text/html": [
       "<div>\n",
       "<style scoped>\n",
       "    .dataframe tbody tr th:only-of-type {\n",
       "        vertical-align: middle;\n",
       "    }\n",
       "\n",
       "    .dataframe tbody tr th {\n",
       "        vertical-align: top;\n",
       "    }\n",
       "\n",
       "    .dataframe thead th {\n",
       "        text-align: right;\n",
       "    }\n",
       "</style>\n",
       "<table border=\"1\" class=\"dataframe\">\n",
       "  <thead>\n",
       "    <tr style=\"text-align: right;\">\n",
       "      <th></th>\n",
       "      <th>name</th>\n",
       "      <th>url</th>\n",
       "      <th>height</th>\n",
       "      <th>id</th>\n",
       "      <th>order</th>\n",
       "      <th>weight</th>\n",
       "      <th>slot</th>\n",
       "      <th>type.name</th>\n",
       "      <th>type.url</th>\n",
       "    </tr>\n",
       "  </thead>\n",
       "  <tbody>\n",
       "    <tr>\n",
       "      <th>0</th>\n",
       "      <td>bulbasaur</td>\n",
       "      <td>https://pokeapi.co/api/v2/pokemon/1/</td>\n",
       "      <td>7</td>\n",
       "      <td>1</td>\n",
       "      <td>1</td>\n",
       "      <td>69</td>\n",
       "      <td>1</td>\n",
       "      <td>grass</td>\n",
       "      <td>https://pokeapi.co/api/v2/type/12/</td>\n",
       "    </tr>\n",
       "    <tr>\n",
       "      <th>0</th>\n",
       "      <td>bulbasaur</td>\n",
       "      <td>https://pokeapi.co/api/v2/pokemon/1/</td>\n",
       "      <td>7</td>\n",
       "      <td>1</td>\n",
       "      <td>1</td>\n",
       "      <td>69</td>\n",
       "      <td>2</td>\n",
       "      <td>poison</td>\n",
       "      <td>https://pokeapi.co/api/v2/type/4/</td>\n",
       "    </tr>\n",
       "    <tr>\n",
       "      <th>1</th>\n",
       "      <td>ivysaur</td>\n",
       "      <td>https://pokeapi.co/api/v2/pokemon/2/</td>\n",
       "      <td>10</td>\n",
       "      <td>2</td>\n",
       "      <td>2</td>\n",
       "      <td>130</td>\n",
       "      <td>1</td>\n",
       "      <td>grass</td>\n",
       "      <td>https://pokeapi.co/api/v2/type/12/</td>\n",
       "    </tr>\n",
       "    <tr>\n",
       "      <th>1</th>\n",
       "      <td>ivysaur</td>\n",
       "      <td>https://pokeapi.co/api/v2/pokemon/2/</td>\n",
       "      <td>10</td>\n",
       "      <td>2</td>\n",
       "      <td>2</td>\n",
       "      <td>130</td>\n",
       "      <td>2</td>\n",
       "      <td>poison</td>\n",
       "      <td>https://pokeapi.co/api/v2/type/4/</td>\n",
       "    </tr>\n",
       "    <tr>\n",
       "      <th>2</th>\n",
       "      <td>venusaur</td>\n",
       "      <td>https://pokeapi.co/api/v2/pokemon/3/</td>\n",
       "      <td>20</td>\n",
       "      <td>3</td>\n",
       "      <td>3</td>\n",
       "      <td>1000</td>\n",
       "      <td>1</td>\n",
       "      <td>grass</td>\n",
       "      <td>https://pokeapi.co/api/v2/type/12/</td>\n",
       "    </tr>\n",
       "  </tbody>\n",
       "</table>\n",
       "</div>"
      ],
      "text/plain": [
       "        name                                   url  height  id  order  weight  \\\n",
       "0  bulbasaur  https://pokeapi.co/api/v2/pokemon/1/       7   1      1      69   \n",
       "0  bulbasaur  https://pokeapi.co/api/v2/pokemon/1/       7   1      1      69   \n",
       "1    ivysaur  https://pokeapi.co/api/v2/pokemon/2/      10   2      2     130   \n",
       "1    ivysaur  https://pokeapi.co/api/v2/pokemon/2/      10   2      2     130   \n",
       "2   venusaur  https://pokeapi.co/api/v2/pokemon/3/      20   3      3    1000   \n",
       "\n",
       "   slot type.name                            type.url  \n",
       "0     1     grass  https://pokeapi.co/api/v2/type/12/  \n",
       "0     2    poison   https://pokeapi.co/api/v2/type/4/  \n",
       "1     1     grass  https://pokeapi.co/api/v2/type/12/  \n",
       "1     2    poison   https://pokeapi.co/api/v2/type/4/  \n",
       "2     1     grass  https://pokeapi.co/api/v2/type/12/  "
      ]
     },
     "execution_count": 34,
     "metadata": {},
     "output_type": "execute_result"
    }
   ],
   "source": [
    "first.head()"
   ]
  },
  {
   "cell_type": "markdown",
   "metadata": {
    "id": "pC9_J6o7NZD8"
   },
   "source": [
    "Con `json_normalize` podremos hacerlo fácilmente. Ya nunca más os costará deshacer un json/diccionario/lista dentro de un dataframe.\n",
    "\n",
    "- Documentación oficial --> https://pandas.pydata.org/pandas-docs/stable/reference/api/pandas.json_normalize.html\n",
    "- Documentación no oficial --> https://stackoverflow.com/questions/21104592/json-to-pandas-dataframe"
   ]
  },
  {
   "cell_type": "code",
   "execution_count": 36,
   "metadata": {
    "id": "Ulg5IMsVNZD9"
   },
   "outputs": [
    {
     "name": "stderr",
     "output_type": "stream",
     "text": [
      "<ipython-input-36-73ed5125d60a>:1: FutureWarning: pandas.io.json.json_normalize is deprecated, use pandas.json_normalize instead\n",
      "  second = json_normalize(json.loads(first.to_json(orient=\"records\")))\n"
     ]
    },
    {
     "data": {
      "text/html": [
       "<div>\n",
       "<style scoped>\n",
       "    .dataframe tbody tr th:only-of-type {\n",
       "        vertical-align: middle;\n",
       "    }\n",
       "\n",
       "    .dataframe tbody tr th {\n",
       "        vertical-align: top;\n",
       "    }\n",
       "\n",
       "    .dataframe thead th {\n",
       "        text-align: right;\n",
       "    }\n",
       "</style>\n",
       "<table border=\"1\" class=\"dataframe\">\n",
       "  <thead>\n",
       "    <tr style=\"text-align: right;\">\n",
       "      <th></th>\n",
       "      <th>name</th>\n",
       "      <th>url</th>\n",
       "      <th>height</th>\n",
       "      <th>id</th>\n",
       "      <th>order</th>\n",
       "      <th>weight</th>\n",
       "      <th>slot</th>\n",
       "      <th>type.name</th>\n",
       "      <th>type.url</th>\n",
       "    </tr>\n",
       "  </thead>\n",
       "  <tbody>\n",
       "    <tr>\n",
       "      <th>0</th>\n",
       "      <td>bulbasaur</td>\n",
       "      <td>https://pokeapi.co/api/v2/pokemon/1/</td>\n",
       "      <td>7</td>\n",
       "      <td>1</td>\n",
       "      <td>1</td>\n",
       "      <td>69</td>\n",
       "      <td>1</td>\n",
       "      <td>grass</td>\n",
       "      <td>https://pokeapi.co/api/v2/type/12/</td>\n",
       "    </tr>\n",
       "    <tr>\n",
       "      <th>1</th>\n",
       "      <td>bulbasaur</td>\n",
       "      <td>https://pokeapi.co/api/v2/pokemon/1/</td>\n",
       "      <td>7</td>\n",
       "      <td>1</td>\n",
       "      <td>1</td>\n",
       "      <td>69</td>\n",
       "      <td>2</td>\n",
       "      <td>poison</td>\n",
       "      <td>https://pokeapi.co/api/v2/type/4/</td>\n",
       "    </tr>\n",
       "    <tr>\n",
       "      <th>2</th>\n",
       "      <td>ivysaur</td>\n",
       "      <td>https://pokeapi.co/api/v2/pokemon/2/</td>\n",
       "      <td>10</td>\n",
       "      <td>2</td>\n",
       "      <td>2</td>\n",
       "      <td>130</td>\n",
       "      <td>1</td>\n",
       "      <td>grass</td>\n",
       "      <td>https://pokeapi.co/api/v2/type/12/</td>\n",
       "    </tr>\n",
       "    <tr>\n",
       "      <th>3</th>\n",
       "      <td>ivysaur</td>\n",
       "      <td>https://pokeapi.co/api/v2/pokemon/2/</td>\n",
       "      <td>10</td>\n",
       "      <td>2</td>\n",
       "      <td>2</td>\n",
       "      <td>130</td>\n",
       "      <td>2</td>\n",
       "      <td>poison</td>\n",
       "      <td>https://pokeapi.co/api/v2/type/4/</td>\n",
       "    </tr>\n",
       "    <tr>\n",
       "      <th>4</th>\n",
       "      <td>venusaur</td>\n",
       "      <td>https://pokeapi.co/api/v2/pokemon/3/</td>\n",
       "      <td>20</td>\n",
       "      <td>3</td>\n",
       "      <td>3</td>\n",
       "      <td>1000</td>\n",
       "      <td>1</td>\n",
       "      <td>grass</td>\n",
       "      <td>https://pokeapi.co/api/v2/type/12/</td>\n",
       "    </tr>\n",
       "  </tbody>\n",
       "</table>\n",
       "</div>"
      ],
      "text/plain": [
       "        name                                   url  height  id  order  weight  \\\n",
       "0  bulbasaur  https://pokeapi.co/api/v2/pokemon/1/       7   1      1      69   \n",
       "1  bulbasaur  https://pokeapi.co/api/v2/pokemon/1/       7   1      1      69   \n",
       "2    ivysaur  https://pokeapi.co/api/v2/pokemon/2/      10   2      2     130   \n",
       "3    ivysaur  https://pokeapi.co/api/v2/pokemon/2/      10   2      2     130   \n",
       "4   venusaur  https://pokeapi.co/api/v2/pokemon/3/      20   3      3    1000   \n",
       "\n",
       "   slot type.name                            type.url  \n",
       "0     1     grass  https://pokeapi.co/api/v2/type/12/  \n",
       "1     2    poison   https://pokeapi.co/api/v2/type/4/  \n",
       "2     1     grass  https://pokeapi.co/api/v2/type/12/  \n",
       "3     2    poison   https://pokeapi.co/api/v2/type/4/  \n",
       "4     1     grass  https://pokeapi.co/api/v2/type/12/  "
      ]
     },
     "execution_count": 36,
     "metadata": {},
     "output_type": "execute_result"
    }
   ],
   "source": [
    "#1\n",
    "second = json_normalize(json.loads(first.to_json(orient=\"records\")))\n",
    "second.head()"
   ]
  },
  {
   "cell_type": "code",
   "execution_count": 14,
   "metadata": {
    "scrolled": true
   },
   "outputs": [
    {
     "data": {
      "text/html": [
       "<div>\n",
       "<style scoped>\n",
       "    .dataframe tbody tr th:only-of-type {\n",
       "        vertical-align: middle;\n",
       "    }\n",
       "\n",
       "    .dataframe tbody tr th {\n",
       "        vertical-align: top;\n",
       "    }\n",
       "\n",
       "    .dataframe thead th {\n",
       "        text-align: right;\n",
       "    }\n",
       "</style>\n",
       "<table border=\"1\" class=\"dataframe\">\n",
       "  <thead>\n",
       "    <tr style=\"text-align: right;\">\n",
       "      <th></th>\n",
       "      <th>slot</th>\n",
       "      <th>type.name</th>\n",
       "      <th>type.url</th>\n",
       "    </tr>\n",
       "  </thead>\n",
       "  <tbody>\n",
       "    <tr>\n",
       "      <th>0</th>\n",
       "      <td>1</td>\n",
       "      <td>grass</td>\n",
       "      <td>https://pokeapi.co/api/v2/type/12/</td>\n",
       "    </tr>\n",
       "    <tr>\n",
       "      <th>1</th>\n",
       "      <td>2</td>\n",
       "      <td>poison</td>\n",
       "      <td>https://pokeapi.co/api/v2/type/4/</td>\n",
       "    </tr>\n",
       "    <tr>\n",
       "      <th>2</th>\n",
       "      <td>1</td>\n",
       "      <td>grass</td>\n",
       "      <td>https://pokeapi.co/api/v2/type/12/</td>\n",
       "    </tr>\n",
       "    <tr>\n",
       "      <th>3</th>\n",
       "      <td>2</td>\n",
       "      <td>poison</td>\n",
       "      <td>https://pokeapi.co/api/v2/type/4/</td>\n",
       "    </tr>\n",
       "    <tr>\n",
       "      <th>4</th>\n",
       "      <td>1</td>\n",
       "      <td>grass</td>\n",
       "      <td>https://pokeapi.co/api/v2/type/12/</td>\n",
       "    </tr>\n",
       "  </tbody>\n",
       "</table>\n",
       "</div>"
      ],
      "text/plain": [
       "   slot type.name                            type.url\n",
       "0     1     grass  https://pokeapi.co/api/v2/type/12/\n",
       "1     2    poison   https://pokeapi.co/api/v2/type/4/\n",
       "2     1     grass  https://pokeapi.co/api/v2/type/12/\n",
       "3     2    poison   https://pokeapi.co/api/v2/type/4/\n",
       "4     1     grass  https://pokeapi.co/api/v2/type/12/"
      ]
     },
     "execution_count": 14,
     "metadata": {},
     "output_type": "execute_result"
    }
   ],
   "source": [
    "#2\n",
    "third = pd.json_normalize(first[\"types\"])\n",
    "third.head()"
   ]
  },
  {
   "cell_type": "code",
   "execution_count": 20,
   "metadata": {},
   "outputs": [],
   "source": [
    "fourth = pd.concat([first.reset_index(drop = True), third.reset_index(drop = True)], axis=1)\n",
    "fourth.drop(columns = [\"types\"], inplace = True)"
   ]
  },
  {
   "cell_type": "code",
   "execution_count": 21,
   "metadata": {},
   "outputs": [
    {
     "data": {
      "text/html": [
       "<div>\n",
       "<style scoped>\n",
       "    .dataframe tbody tr th:only-of-type {\n",
       "        vertical-align: middle;\n",
       "    }\n",
       "\n",
       "    .dataframe tbody tr th {\n",
       "        vertical-align: top;\n",
       "    }\n",
       "\n",
       "    .dataframe thead th {\n",
       "        text-align: right;\n",
       "    }\n",
       "</style>\n",
       "<table border=\"1\" class=\"dataframe\">\n",
       "  <thead>\n",
       "    <tr style=\"text-align: right;\">\n",
       "      <th></th>\n",
       "      <th>name</th>\n",
       "      <th>url</th>\n",
       "      <th>height</th>\n",
       "      <th>id</th>\n",
       "      <th>order</th>\n",
       "      <th>weight</th>\n",
       "      <th>slot</th>\n",
       "      <th>type.name</th>\n",
       "      <th>type.url</th>\n",
       "    </tr>\n",
       "  </thead>\n",
       "  <tbody>\n",
       "    <tr>\n",
       "      <th>0</th>\n",
       "      <td>bulbasaur</td>\n",
       "      <td>https://pokeapi.co/api/v2/pokemon/1/</td>\n",
       "      <td>7</td>\n",
       "      <td>1</td>\n",
       "      <td>1</td>\n",
       "      <td>69</td>\n",
       "      <td>1</td>\n",
       "      <td>grass</td>\n",
       "      <td>https://pokeapi.co/api/v2/type/12/</td>\n",
       "    </tr>\n",
       "    <tr>\n",
       "      <th>1</th>\n",
       "      <td>bulbasaur</td>\n",
       "      <td>https://pokeapi.co/api/v2/pokemon/1/</td>\n",
       "      <td>7</td>\n",
       "      <td>1</td>\n",
       "      <td>1</td>\n",
       "      <td>69</td>\n",
       "      <td>2</td>\n",
       "      <td>poison</td>\n",
       "      <td>https://pokeapi.co/api/v2/type/4/</td>\n",
       "    </tr>\n",
       "    <tr>\n",
       "      <th>2</th>\n",
       "      <td>ivysaur</td>\n",
       "      <td>https://pokeapi.co/api/v2/pokemon/2/</td>\n",
       "      <td>10</td>\n",
       "      <td>2</td>\n",
       "      <td>2</td>\n",
       "      <td>130</td>\n",
       "      <td>1</td>\n",
       "      <td>grass</td>\n",
       "      <td>https://pokeapi.co/api/v2/type/12/</td>\n",
       "    </tr>\n",
       "    <tr>\n",
       "      <th>3</th>\n",
       "      <td>ivysaur</td>\n",
       "      <td>https://pokeapi.co/api/v2/pokemon/2/</td>\n",
       "      <td>10</td>\n",
       "      <td>2</td>\n",
       "      <td>2</td>\n",
       "      <td>130</td>\n",
       "      <td>2</td>\n",
       "      <td>poison</td>\n",
       "      <td>https://pokeapi.co/api/v2/type/4/</td>\n",
       "    </tr>\n",
       "    <tr>\n",
       "      <th>4</th>\n",
       "      <td>venusaur</td>\n",
       "      <td>https://pokeapi.co/api/v2/pokemon/3/</td>\n",
       "      <td>20</td>\n",
       "      <td>3</td>\n",
       "      <td>3</td>\n",
       "      <td>1000</td>\n",
       "      <td>1</td>\n",
       "      <td>grass</td>\n",
       "      <td>https://pokeapi.co/api/v2/type/12/</td>\n",
       "    </tr>\n",
       "  </tbody>\n",
       "</table>\n",
       "</div>"
      ],
      "text/plain": [
       "        name                                   url  height  id  order  weight  \\\n",
       "0  bulbasaur  https://pokeapi.co/api/v2/pokemon/1/       7   1      1      69   \n",
       "1  bulbasaur  https://pokeapi.co/api/v2/pokemon/1/       7   1      1      69   \n",
       "2    ivysaur  https://pokeapi.co/api/v2/pokemon/2/      10   2      2     130   \n",
       "3    ivysaur  https://pokeapi.co/api/v2/pokemon/2/      10   2      2     130   \n",
       "4   venusaur  https://pokeapi.co/api/v2/pokemon/3/      20   3      3    1000   \n",
       "\n",
       "   slot type.name                            type.url  \n",
       "0     1     grass  https://pokeapi.co/api/v2/type/12/  \n",
       "1     2    poison   https://pokeapi.co/api/v2/type/4/  \n",
       "2     1     grass  https://pokeapi.co/api/v2/type/12/  \n",
       "3     2    poison   https://pokeapi.co/api/v2/type/4/  \n",
       "4     1     grass  https://pokeapi.co/api/v2/type/12/  "
      ]
     },
     "execution_count": 21,
     "metadata": {},
     "output_type": "execute_result"
    }
   ],
   "source": [
    "fourth.head()"
   ]
  },
  {
   "cell_type": "code",
   "execution_count": null,
   "metadata": {},
   "outputs": [],
   "source": []
  }
 ],
 "metadata": {
  "colab": {
   "name": "api_pokemon_dataframe_RES.ipynb",
   "provenance": []
  },
  "kernelspec": {
   "display_name": "Python 3",
   "language": "python",
   "name": "python3"
  },
  "language_info": {
   "codemirror_mode": {
    "name": "ipython",
    "version": 3
   },
   "file_extension": ".py",
   "mimetype": "text/x-python",
   "name": "python",
   "nbconvert_exporter": "python",
   "pygments_lexer": "ipython3",
   "version": "3.8.3"
  }
 },
 "nbformat": 4,
 "nbformat_minor": 1
}
