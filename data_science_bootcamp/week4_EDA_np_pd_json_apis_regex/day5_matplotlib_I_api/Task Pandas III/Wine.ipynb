{
 "cells": [
  {
   "cell_type": "markdown",
   "metadata": {},
   "source": [
    "# 03 - Deleting & handling missing values - Wine"
   ]
  },
  {
   "cell_type": "markdown",
   "metadata": {},
   "source": [
    "### Step 1. Import the necessary libraries"
   ]
  },
  {
   "cell_type": "code",
   "execution_count": 22,
   "metadata": {},
   "outputs": [],
   "source": [
    "import pandas as pd\n",
    "import numpy as np"
   ]
  },
  {
   "cell_type": "markdown",
   "metadata": {},
   "source": [
    "### Step 2. Import the dataset from this [address](https://archive.ics.uci.edu/ml/machine-learning-databases/wine/wine.data). "
   ]
  },
  {
   "cell_type": "markdown",
   "metadata": {},
   "source": [
    "### Step 3. Assign it to a variable called wine"
   ]
  },
  {
   "cell_type": "code",
   "execution_count": 66,
   "metadata": {},
   "outputs": [
    {
     "output_type": "execute_result",
     "data": {
      "text/plain": [
       "     1  14.23  1.71  2.43  15.6  127   2.8  3.06   .28  2.29   5.64  1.04  \\\n",
       "0    1  13.20  1.78  2.14  11.2  100  2.65  2.76  0.26  1.28   4.38  1.05   \n",
       "1    1  13.16  2.36  2.67  18.6  101  2.80  3.24  0.30  2.81   5.68  1.03   \n",
       "2    1  14.37  1.95  2.50  16.8  113  3.85  3.49  0.24  2.18   7.80  0.86   \n",
       "3    1  13.24  2.59  2.87  21.0  118  2.80  2.69  0.39  1.82   4.32  1.04   \n",
       "4    1  14.20  1.76  2.45  15.2  112  3.27  3.39  0.34  1.97   6.75  1.05   \n",
       "..  ..    ...   ...   ...   ...  ...   ...   ...   ...   ...    ...   ...   \n",
       "172  3  13.71  5.65  2.45  20.5   95  1.68  0.61  0.52  1.06   7.70  0.64   \n",
       "173  3  13.40  3.91  2.48  23.0  102  1.80  0.75  0.43  1.41   7.30  0.70   \n",
       "174  3  13.27  4.28  2.26  20.0  120  1.59  0.69  0.43  1.35  10.20  0.59   \n",
       "175  3  13.17  2.59  2.37  20.0  120  1.65  0.68  0.53  1.46   9.30  0.60   \n",
       "176  3  14.13  4.10  2.74  24.5   96  2.05  0.76  0.56  1.35   9.20  0.61   \n",
       "\n",
       "     3.92  1065  \n",
       "0    3.40  1050  \n",
       "1    3.17  1185  \n",
       "2    3.45  1480  \n",
       "3    2.93   735  \n",
       "4    2.85  1450  \n",
       "..    ...   ...  \n",
       "172  1.74   740  \n",
       "173  1.56   750  \n",
       "174  1.56   835  \n",
       "175  1.62   840  \n",
       "176  1.60   560  \n",
       "\n",
       "[177 rows x 14 columns]"
      ],
      "text/html": "<div>\n<style scoped>\n    .dataframe tbody tr th:only-of-type {\n        vertical-align: middle;\n    }\n\n    .dataframe tbody tr th {\n        vertical-align: top;\n    }\n\n    .dataframe thead th {\n        text-align: right;\n    }\n</style>\n<table border=\"1\" class=\"dataframe\">\n  <thead>\n    <tr style=\"text-align: right;\">\n      <th></th>\n      <th>1</th>\n      <th>14.23</th>\n      <th>1.71</th>\n      <th>2.43</th>\n      <th>15.6</th>\n      <th>127</th>\n      <th>2.8</th>\n      <th>3.06</th>\n      <th>.28</th>\n      <th>2.29</th>\n      <th>5.64</th>\n      <th>1.04</th>\n      <th>3.92</th>\n      <th>1065</th>\n    </tr>\n  </thead>\n  <tbody>\n    <tr>\n      <th>0</th>\n      <td>1</td>\n      <td>13.20</td>\n      <td>1.78</td>\n      <td>2.14</td>\n      <td>11.2</td>\n      <td>100</td>\n      <td>2.65</td>\n      <td>2.76</td>\n      <td>0.26</td>\n      <td>1.28</td>\n      <td>4.38</td>\n      <td>1.05</td>\n      <td>3.40</td>\n      <td>1050</td>\n    </tr>\n    <tr>\n      <th>1</th>\n      <td>1</td>\n      <td>13.16</td>\n      <td>2.36</td>\n      <td>2.67</td>\n      <td>18.6</td>\n      <td>101</td>\n      <td>2.80</td>\n      <td>3.24</td>\n      <td>0.30</td>\n      <td>2.81</td>\n      <td>5.68</td>\n      <td>1.03</td>\n      <td>3.17</td>\n      <td>1185</td>\n    </tr>\n    <tr>\n      <th>2</th>\n      <td>1</td>\n      <td>14.37</td>\n      <td>1.95</td>\n      <td>2.50</td>\n      <td>16.8</td>\n      <td>113</td>\n      <td>3.85</td>\n      <td>3.49</td>\n      <td>0.24</td>\n      <td>2.18</td>\n      <td>7.80</td>\n      <td>0.86</td>\n      <td>3.45</td>\n      <td>1480</td>\n    </tr>\n    <tr>\n      <th>3</th>\n      <td>1</td>\n      <td>13.24</td>\n      <td>2.59</td>\n      <td>2.87</td>\n      <td>21.0</td>\n      <td>118</td>\n      <td>2.80</td>\n      <td>2.69</td>\n      <td>0.39</td>\n      <td>1.82</td>\n      <td>4.32</td>\n      <td>1.04</td>\n      <td>2.93</td>\n      <td>735</td>\n    </tr>\n    <tr>\n      <th>4</th>\n      <td>1</td>\n      <td>14.20</td>\n      <td>1.76</td>\n      <td>2.45</td>\n      <td>15.2</td>\n      <td>112</td>\n      <td>3.27</td>\n      <td>3.39</td>\n      <td>0.34</td>\n      <td>1.97</td>\n      <td>6.75</td>\n      <td>1.05</td>\n      <td>2.85</td>\n      <td>1450</td>\n    </tr>\n    <tr>\n      <th>...</th>\n      <td>...</td>\n      <td>...</td>\n      <td>...</td>\n      <td>...</td>\n      <td>...</td>\n      <td>...</td>\n      <td>...</td>\n      <td>...</td>\n      <td>...</td>\n      <td>...</td>\n      <td>...</td>\n      <td>...</td>\n      <td>...</td>\n      <td>...</td>\n    </tr>\n    <tr>\n      <th>172</th>\n      <td>3</td>\n      <td>13.71</td>\n      <td>5.65</td>\n      <td>2.45</td>\n      <td>20.5</td>\n      <td>95</td>\n      <td>1.68</td>\n      <td>0.61</td>\n      <td>0.52</td>\n      <td>1.06</td>\n      <td>7.70</td>\n      <td>0.64</td>\n      <td>1.74</td>\n      <td>740</td>\n    </tr>\n    <tr>\n      <th>173</th>\n      <td>3</td>\n      <td>13.40</td>\n      <td>3.91</td>\n      <td>2.48</td>\n      <td>23.0</td>\n      <td>102</td>\n      <td>1.80</td>\n      <td>0.75</td>\n      <td>0.43</td>\n      <td>1.41</td>\n      <td>7.30</td>\n      <td>0.70</td>\n      <td>1.56</td>\n      <td>750</td>\n    </tr>\n    <tr>\n      <th>174</th>\n      <td>3</td>\n      <td>13.27</td>\n      <td>4.28</td>\n      <td>2.26</td>\n      <td>20.0</td>\n      <td>120</td>\n      <td>1.59</td>\n      <td>0.69</td>\n      <td>0.43</td>\n      <td>1.35</td>\n      <td>10.20</td>\n      <td>0.59</td>\n      <td>1.56</td>\n      <td>835</td>\n    </tr>\n    <tr>\n      <th>175</th>\n      <td>3</td>\n      <td>13.17</td>\n      <td>2.59</td>\n      <td>2.37</td>\n      <td>20.0</td>\n      <td>120</td>\n      <td>1.65</td>\n      <td>0.68</td>\n      <td>0.53</td>\n      <td>1.46</td>\n      <td>9.30</td>\n      <td>0.60</td>\n      <td>1.62</td>\n      <td>840</td>\n    </tr>\n    <tr>\n      <th>176</th>\n      <td>3</td>\n      <td>14.13</td>\n      <td>4.10</td>\n      <td>2.74</td>\n      <td>24.5</td>\n      <td>96</td>\n      <td>2.05</td>\n      <td>0.76</td>\n      <td>0.56</td>\n      <td>1.35</td>\n      <td>9.20</td>\n      <td>0.61</td>\n      <td>1.60</td>\n      <td>560</td>\n    </tr>\n  </tbody>\n</table>\n<p>177 rows × 14 columns</p>\n</div>"
     },
     "metadata": {},
     "execution_count": 66
    }
   ],
   "source": [
    "wine = pd.read_csv(\"data/wine.data\")\n",
    "wine"
   ]
  },
  {
   "cell_type": "markdown",
   "metadata": {},
   "source": [
    "### Step 4. Delete the first, fourth, seventh, nineth, eleventh, thirteenth and fourteenth columns"
   ]
  },
  {
   "cell_type": "code",
   "execution_count": 67,
   "metadata": {},
   "outputs": [
    {
     "output_type": "execute_result",
     "data": {
      "text/plain": [
       "     14.23  1.71  15.6  127  3.06  2.29  1.04\n",
       "0    13.20  1.78  11.2  100  2.76  1.28  1.05\n",
       "1    13.16  2.36  18.6  101  3.24  2.81  1.03\n",
       "2    14.37  1.95  16.8  113  3.49  2.18  0.86\n",
       "3    13.24  2.59  21.0  118  2.69  1.82  1.04\n",
       "4    14.20  1.76  15.2  112  3.39  1.97  1.05\n",
       "..     ...   ...   ...  ...   ...   ...   ...\n",
       "172  13.71  5.65  20.5   95  0.61  1.06  0.64\n",
       "173  13.40  3.91  23.0  102  0.75  1.41  0.70\n",
       "174  13.27  4.28  20.0  120  0.69  1.35  0.59\n",
       "175  13.17  2.59  20.0  120  0.68  1.46  0.60\n",
       "176  14.13  4.10  24.5   96  0.76  1.35  0.61\n",
       "\n",
       "[177 rows x 7 columns]"
      ],
      "text/html": "<div>\n<style scoped>\n    .dataframe tbody tr th:only-of-type {\n        vertical-align: middle;\n    }\n\n    .dataframe tbody tr th {\n        vertical-align: top;\n    }\n\n    .dataframe thead th {\n        text-align: right;\n    }\n</style>\n<table border=\"1\" class=\"dataframe\">\n  <thead>\n    <tr style=\"text-align: right;\">\n      <th></th>\n      <th>14.23</th>\n      <th>1.71</th>\n      <th>15.6</th>\n      <th>127</th>\n      <th>3.06</th>\n      <th>2.29</th>\n      <th>1.04</th>\n    </tr>\n  </thead>\n  <tbody>\n    <tr>\n      <th>0</th>\n      <td>13.20</td>\n      <td>1.78</td>\n      <td>11.2</td>\n      <td>100</td>\n      <td>2.76</td>\n      <td>1.28</td>\n      <td>1.05</td>\n    </tr>\n    <tr>\n      <th>1</th>\n      <td>13.16</td>\n      <td>2.36</td>\n      <td>18.6</td>\n      <td>101</td>\n      <td>3.24</td>\n      <td>2.81</td>\n      <td>1.03</td>\n    </tr>\n    <tr>\n      <th>2</th>\n      <td>14.37</td>\n      <td>1.95</td>\n      <td>16.8</td>\n      <td>113</td>\n      <td>3.49</td>\n      <td>2.18</td>\n      <td>0.86</td>\n    </tr>\n    <tr>\n      <th>3</th>\n      <td>13.24</td>\n      <td>2.59</td>\n      <td>21.0</td>\n      <td>118</td>\n      <td>2.69</td>\n      <td>1.82</td>\n      <td>1.04</td>\n    </tr>\n    <tr>\n      <th>4</th>\n      <td>14.20</td>\n      <td>1.76</td>\n      <td>15.2</td>\n      <td>112</td>\n      <td>3.39</td>\n      <td>1.97</td>\n      <td>1.05</td>\n    </tr>\n    <tr>\n      <th>...</th>\n      <td>...</td>\n      <td>...</td>\n      <td>...</td>\n      <td>...</td>\n      <td>...</td>\n      <td>...</td>\n      <td>...</td>\n    </tr>\n    <tr>\n      <th>172</th>\n      <td>13.71</td>\n      <td>5.65</td>\n      <td>20.5</td>\n      <td>95</td>\n      <td>0.61</td>\n      <td>1.06</td>\n      <td>0.64</td>\n    </tr>\n    <tr>\n      <th>173</th>\n      <td>13.40</td>\n      <td>3.91</td>\n      <td>23.0</td>\n      <td>102</td>\n      <td>0.75</td>\n      <td>1.41</td>\n      <td>0.70</td>\n    </tr>\n    <tr>\n      <th>174</th>\n      <td>13.27</td>\n      <td>4.28</td>\n      <td>20.0</td>\n      <td>120</td>\n      <td>0.69</td>\n      <td>1.35</td>\n      <td>0.59</td>\n    </tr>\n    <tr>\n      <th>175</th>\n      <td>13.17</td>\n      <td>2.59</td>\n      <td>20.0</td>\n      <td>120</td>\n      <td>0.68</td>\n      <td>1.46</td>\n      <td>0.60</td>\n    </tr>\n    <tr>\n      <th>176</th>\n      <td>14.13</td>\n      <td>4.10</td>\n      <td>24.5</td>\n      <td>96</td>\n      <td>0.76</td>\n      <td>1.35</td>\n      <td>0.61</td>\n    </tr>\n  </tbody>\n</table>\n<p>177 rows × 7 columns</p>\n</div>"
     },
     "metadata": {},
     "execution_count": 67
    }
   ],
   "source": [
    "wine = wine.drop(wine.columns[[0, 3, 6, 8, 10, 12, 13]], axis='columns')\n",
    "wine"
   ]
  },
  {
   "cell_type": "markdown",
   "metadata": {},
   "source": [
    "### Step 5. Assign the columns as below:\n",
    "\n",
    "The attributes are (donated by Riccardo Leardi, riclea '@' anchem.unige.it):  \n",
    "1) alcohol  \n",
    "2) malic_acid  \n",
    "3) alcalinity_of_ash  \n",
    "4) magnesium  \n",
    "5) flavanoids  \n",
    "6) proanthocyanins  \n",
    "7) hue "
   ]
  },
  {
   "cell_type": "code",
   "execution_count": 68,
   "metadata": {},
   "outputs": [],
   "source": [
    "wine = pd.DataFrame(np.vstack([wine.columns, wine]))\n",
    "wine.columns = ['alcohol', 'malic_acid', 'alcalinity_of_ash', 'magnesium', 'flavanoids', 'proanthocyanins', 'hue']"
   ]
  },
  {
   "cell_type": "code",
   "execution_count": 69,
   "metadata": {},
   "outputs": [
    {
     "output_type": "execute_result",
     "data": {
      "text/plain": [
       "    alcohol malic_acid alcalinity_of_ash magnesium flavanoids proanthocyanins  \\\n",
       "0     14.23       1.71              15.6       127       3.06            2.29   \n",
       "1      13.2       1.78              11.2     100.0       2.76            1.28   \n",
       "2     13.16       2.36              18.6     101.0       3.24            2.81   \n",
       "3     14.37       1.95              16.8     113.0       3.49            2.18   \n",
       "4     13.24       2.59              21.0     118.0       2.69            1.82   \n",
       "..      ...        ...               ...       ...        ...             ...   \n",
       "173   13.71       5.65              20.5      95.0       0.61            1.06   \n",
       "174    13.4       3.91              23.0     102.0       0.75            1.41   \n",
       "175   13.27       4.28              20.0     120.0       0.69            1.35   \n",
       "176   13.17       2.59              20.0     120.0       0.68            1.46   \n",
       "177   14.13        4.1              24.5      96.0       0.76            1.35   \n",
       "\n",
       "      hue  \n",
       "0    1.04  \n",
       "1    1.05  \n",
       "2    1.03  \n",
       "3    0.86  \n",
       "4    1.04  \n",
       "..    ...  \n",
       "173  0.64  \n",
       "174   0.7  \n",
       "175  0.59  \n",
       "176   0.6  \n",
       "177  0.61  \n",
       "\n",
       "[178 rows x 7 columns]"
      ],
      "text/html": "<div>\n<style scoped>\n    .dataframe tbody tr th:only-of-type {\n        vertical-align: middle;\n    }\n\n    .dataframe tbody tr th {\n        vertical-align: top;\n    }\n\n    .dataframe thead th {\n        text-align: right;\n    }\n</style>\n<table border=\"1\" class=\"dataframe\">\n  <thead>\n    <tr style=\"text-align: right;\">\n      <th></th>\n      <th>alcohol</th>\n      <th>malic_acid</th>\n      <th>alcalinity_of_ash</th>\n      <th>magnesium</th>\n      <th>flavanoids</th>\n      <th>proanthocyanins</th>\n      <th>hue</th>\n    </tr>\n  </thead>\n  <tbody>\n    <tr>\n      <th>0</th>\n      <td>14.23</td>\n      <td>1.71</td>\n      <td>15.6</td>\n      <td>127</td>\n      <td>3.06</td>\n      <td>2.29</td>\n      <td>1.04</td>\n    </tr>\n    <tr>\n      <th>1</th>\n      <td>13.2</td>\n      <td>1.78</td>\n      <td>11.2</td>\n      <td>100.0</td>\n      <td>2.76</td>\n      <td>1.28</td>\n      <td>1.05</td>\n    </tr>\n    <tr>\n      <th>2</th>\n      <td>13.16</td>\n      <td>2.36</td>\n      <td>18.6</td>\n      <td>101.0</td>\n      <td>3.24</td>\n      <td>2.81</td>\n      <td>1.03</td>\n    </tr>\n    <tr>\n      <th>3</th>\n      <td>14.37</td>\n      <td>1.95</td>\n      <td>16.8</td>\n      <td>113.0</td>\n      <td>3.49</td>\n      <td>2.18</td>\n      <td>0.86</td>\n    </tr>\n    <tr>\n      <th>4</th>\n      <td>13.24</td>\n      <td>2.59</td>\n      <td>21.0</td>\n      <td>118.0</td>\n      <td>2.69</td>\n      <td>1.82</td>\n      <td>1.04</td>\n    </tr>\n    <tr>\n      <th>...</th>\n      <td>...</td>\n      <td>...</td>\n      <td>...</td>\n      <td>...</td>\n      <td>...</td>\n      <td>...</td>\n      <td>...</td>\n    </tr>\n    <tr>\n      <th>173</th>\n      <td>13.71</td>\n      <td>5.65</td>\n      <td>20.5</td>\n      <td>95.0</td>\n      <td>0.61</td>\n      <td>1.06</td>\n      <td>0.64</td>\n    </tr>\n    <tr>\n      <th>174</th>\n      <td>13.4</td>\n      <td>3.91</td>\n      <td>23.0</td>\n      <td>102.0</td>\n      <td>0.75</td>\n      <td>1.41</td>\n      <td>0.7</td>\n    </tr>\n    <tr>\n      <th>175</th>\n      <td>13.27</td>\n      <td>4.28</td>\n      <td>20.0</td>\n      <td>120.0</td>\n      <td>0.69</td>\n      <td>1.35</td>\n      <td>0.59</td>\n    </tr>\n    <tr>\n      <th>176</th>\n      <td>13.17</td>\n      <td>2.59</td>\n      <td>20.0</td>\n      <td>120.0</td>\n      <td>0.68</td>\n      <td>1.46</td>\n      <td>0.6</td>\n    </tr>\n    <tr>\n      <th>177</th>\n      <td>14.13</td>\n      <td>4.1</td>\n      <td>24.5</td>\n      <td>96.0</td>\n      <td>0.76</td>\n      <td>1.35</td>\n      <td>0.61</td>\n    </tr>\n  </tbody>\n</table>\n<p>178 rows × 7 columns</p>\n</div>"
     },
     "metadata": {},
     "execution_count": 69
    }
   ],
   "source": [
    "wine"
   ]
  },
  {
   "cell_type": "markdown",
   "metadata": {},
   "source": [
    "### Step 6. Set the values of the first 3 rows from alcohol as NaN"
   ]
  },
  {
   "cell_type": "code",
   "execution_count": 70,
   "metadata": {},
   "outputs": [
    {
     "output_type": "execute_result",
     "data": {
      "text/plain": [
       "alcohol              3\n",
       "malic_acid           0\n",
       "alcalinity_of_ash    0\n",
       "magnesium            0\n",
       "flavanoids           0\n",
       "proanthocyanins      0\n",
       "hue                  0\n",
       "dtype: int64"
      ]
     },
     "metadata": {},
     "execution_count": 70
    }
   ],
   "source": [
    "wine.iloc[:3,:1] = np.nan\n",
    "wine.isnull().sum()"
   ]
  },
  {
   "cell_type": "code",
   "execution_count": 71,
   "metadata": {},
   "outputs": [
    {
     "output_type": "execute_result",
     "data": {
      "text/plain": [
       "  alcohol malic_acid alcalinity_of_ash magnesium flavanoids proanthocyanins  \\\n",
       "0     NaN       1.71              15.6       127       3.06            2.29   \n",
       "1     NaN       1.78              11.2     100.0       2.76            1.28   \n",
       "2     NaN       2.36              18.6     101.0       3.24            2.81   \n",
       "3   14.37       1.95              16.8     113.0       3.49            2.18   \n",
       "4   13.24       2.59              21.0     118.0       2.69            1.82   \n",
       "\n",
       "    hue  \n",
       "0  1.04  \n",
       "1  1.05  \n",
       "2  1.03  \n",
       "3  0.86  \n",
       "4  1.04  "
      ],
      "text/html": "<div>\n<style scoped>\n    .dataframe tbody tr th:only-of-type {\n        vertical-align: middle;\n    }\n\n    .dataframe tbody tr th {\n        vertical-align: top;\n    }\n\n    .dataframe thead th {\n        text-align: right;\n    }\n</style>\n<table border=\"1\" class=\"dataframe\">\n  <thead>\n    <tr style=\"text-align: right;\">\n      <th></th>\n      <th>alcohol</th>\n      <th>malic_acid</th>\n      <th>alcalinity_of_ash</th>\n      <th>magnesium</th>\n      <th>flavanoids</th>\n      <th>proanthocyanins</th>\n      <th>hue</th>\n    </tr>\n  </thead>\n  <tbody>\n    <tr>\n      <th>0</th>\n      <td>NaN</td>\n      <td>1.71</td>\n      <td>15.6</td>\n      <td>127</td>\n      <td>3.06</td>\n      <td>2.29</td>\n      <td>1.04</td>\n    </tr>\n    <tr>\n      <th>1</th>\n      <td>NaN</td>\n      <td>1.78</td>\n      <td>11.2</td>\n      <td>100.0</td>\n      <td>2.76</td>\n      <td>1.28</td>\n      <td>1.05</td>\n    </tr>\n    <tr>\n      <th>2</th>\n      <td>NaN</td>\n      <td>2.36</td>\n      <td>18.6</td>\n      <td>101.0</td>\n      <td>3.24</td>\n      <td>2.81</td>\n      <td>1.03</td>\n    </tr>\n    <tr>\n      <th>3</th>\n      <td>14.37</td>\n      <td>1.95</td>\n      <td>16.8</td>\n      <td>113.0</td>\n      <td>3.49</td>\n      <td>2.18</td>\n      <td>0.86</td>\n    </tr>\n    <tr>\n      <th>4</th>\n      <td>13.24</td>\n      <td>2.59</td>\n      <td>21.0</td>\n      <td>118.0</td>\n      <td>2.69</td>\n      <td>1.82</td>\n      <td>1.04</td>\n    </tr>\n  </tbody>\n</table>\n</div>"
     },
     "metadata": {},
     "execution_count": 71
    }
   ],
   "source": [
    "wine.head()"
   ]
  },
  {
   "cell_type": "markdown",
   "metadata": {},
   "source": [
    "### Step 7. Now set the value of the rows 3 and 4 of magnesium as NaN"
   ]
  },
  {
   "cell_type": "code",
   "execution_count": 72,
   "metadata": {},
   "outputs": [
    {
     "output_type": "execute_result",
     "data": {
      "text/plain": [
       "alcohol              3\n",
       "malic_acid           0\n",
       "alcalinity_of_ash    0\n",
       "magnesium            2\n",
       "flavanoids           0\n",
       "proanthocyanins      0\n",
       "hue                  0\n",
       "dtype: int64"
      ]
     },
     "metadata": {},
     "execution_count": 72
    }
   ],
   "source": [
    "wine.iloc[3:5,3:4] = np.nan\n",
    "wine.isnull().sum()"
   ]
  },
  {
   "cell_type": "code",
   "execution_count": 73,
   "metadata": {},
   "outputs": [
    {
     "output_type": "execute_result",
     "data": {
      "text/plain": [
       "  alcohol malic_acid alcalinity_of_ash magnesium flavanoids proanthocyanins  \\\n",
       "0     NaN       1.71              15.6       127       3.06            2.29   \n",
       "1     NaN       1.78              11.2     100.0       2.76            1.28   \n",
       "2     NaN       2.36              18.6     101.0       3.24            2.81   \n",
       "3   14.37       1.95              16.8       NaN       3.49            2.18   \n",
       "4   13.24       2.59              21.0       NaN       2.69            1.82   \n",
       "\n",
       "    hue  \n",
       "0  1.04  \n",
       "1  1.05  \n",
       "2  1.03  \n",
       "3  0.86  \n",
       "4  1.04  "
      ],
      "text/html": "<div>\n<style scoped>\n    .dataframe tbody tr th:only-of-type {\n        vertical-align: middle;\n    }\n\n    .dataframe tbody tr th {\n        vertical-align: top;\n    }\n\n    .dataframe thead th {\n        text-align: right;\n    }\n</style>\n<table border=\"1\" class=\"dataframe\">\n  <thead>\n    <tr style=\"text-align: right;\">\n      <th></th>\n      <th>alcohol</th>\n      <th>malic_acid</th>\n      <th>alcalinity_of_ash</th>\n      <th>magnesium</th>\n      <th>flavanoids</th>\n      <th>proanthocyanins</th>\n      <th>hue</th>\n    </tr>\n  </thead>\n  <tbody>\n    <tr>\n      <th>0</th>\n      <td>NaN</td>\n      <td>1.71</td>\n      <td>15.6</td>\n      <td>127</td>\n      <td>3.06</td>\n      <td>2.29</td>\n      <td>1.04</td>\n    </tr>\n    <tr>\n      <th>1</th>\n      <td>NaN</td>\n      <td>1.78</td>\n      <td>11.2</td>\n      <td>100.0</td>\n      <td>2.76</td>\n      <td>1.28</td>\n      <td>1.05</td>\n    </tr>\n    <tr>\n      <th>2</th>\n      <td>NaN</td>\n      <td>2.36</td>\n      <td>18.6</td>\n      <td>101.0</td>\n      <td>3.24</td>\n      <td>2.81</td>\n      <td>1.03</td>\n    </tr>\n    <tr>\n      <th>3</th>\n      <td>14.37</td>\n      <td>1.95</td>\n      <td>16.8</td>\n      <td>NaN</td>\n      <td>3.49</td>\n      <td>2.18</td>\n      <td>0.86</td>\n    </tr>\n    <tr>\n      <th>4</th>\n      <td>13.24</td>\n      <td>2.59</td>\n      <td>21.0</td>\n      <td>NaN</td>\n      <td>2.69</td>\n      <td>1.82</td>\n      <td>1.04</td>\n    </tr>\n  </tbody>\n</table>\n</div>"
     },
     "metadata": {},
     "execution_count": 73
    }
   ],
   "source": [
    "wine.head()"
   ]
  },
  {
   "cell_type": "markdown",
   "metadata": {},
   "source": [
    "### Step 8. Fill the value of NaN with the number 10 in alcohol and 100 in magnesium"
   ]
  },
  {
   "cell_type": "code",
   "execution_count": 74,
   "metadata": {},
   "outputs": [
    {
     "output_type": "execute_result",
     "data": {
      "text/plain": [
       "alcohol              0\n",
       "malic_acid           0\n",
       "alcalinity_of_ash    0\n",
       "magnesium            2\n",
       "flavanoids           0\n",
       "proanthocyanins      0\n",
       "hue                  0\n",
       "dtype: int64"
      ]
     },
     "metadata": {},
     "execution_count": 74
    }
   ],
   "source": [
    "wine['alcohol']=wine['alcohol'].fillna(10)\n",
    "\n",
    "wine.isnull().sum()"
   ]
  },
  {
   "cell_type": "code",
   "execution_count": 75,
   "metadata": {},
   "outputs": [],
   "source": [
    "wine['magnesium']=wine['magnesium'].fillna(100)\n",
    "\n"
   ]
  },
  {
   "cell_type": "markdown",
   "metadata": {},
   "source": [
    "### Step 9. Count the number of missing values"
   ]
  },
  {
   "cell_type": "code",
   "execution_count": 76,
   "metadata": {},
   "outputs": [
    {
     "output_type": "execute_result",
     "data": {
      "text/plain": [
       "alcohol              0\n",
       "malic_acid           0\n",
       "alcalinity_of_ash    0\n",
       "magnesium            0\n",
       "flavanoids           0\n",
       "proanthocyanins      0\n",
       "hue                  0\n",
       "dtype: int64"
      ]
     },
     "metadata": {},
     "execution_count": 76
    }
   ],
   "source": [
    "wine.isnull().sum()"
   ]
  },
  {
   "cell_type": "markdown",
   "metadata": {},
   "source": [
    "### Step 10.  Create an array of 10 random numbers up until 10"
   ]
  },
  {
   "cell_type": "code",
   "execution_count": 80,
   "metadata": {},
   "outputs": [
    {
     "output_type": "execute_result",
     "data": {
      "text/plain": [
       "   0\n",
       "0  2\n",
       "1  2\n",
       "2  5\n",
       "3  9\n",
       "4  1\n",
       "5  2\n",
       "6  6\n",
       "7  6\n",
       "8  8\n",
       "9  4"
      ],
      "text/html": "<div>\n<style scoped>\n    .dataframe tbody tr th:only-of-type {\n        vertical-align: middle;\n    }\n\n    .dataframe tbody tr th {\n        vertical-align: top;\n    }\n\n    .dataframe thead th {\n        text-align: right;\n    }\n</style>\n<table border=\"1\" class=\"dataframe\">\n  <thead>\n    <tr style=\"text-align: right;\">\n      <th></th>\n      <th>0</th>\n    </tr>\n  </thead>\n  <tbody>\n    <tr>\n      <th>0</th>\n      <td>2</td>\n    </tr>\n    <tr>\n      <th>1</th>\n      <td>2</td>\n    </tr>\n    <tr>\n      <th>2</th>\n      <td>5</td>\n    </tr>\n    <tr>\n      <th>3</th>\n      <td>9</td>\n    </tr>\n    <tr>\n      <th>4</th>\n      <td>1</td>\n    </tr>\n    <tr>\n      <th>5</th>\n      <td>2</td>\n    </tr>\n    <tr>\n      <th>6</th>\n      <td>6</td>\n    </tr>\n    <tr>\n      <th>7</th>\n      <td>6</td>\n    </tr>\n    <tr>\n      <th>8</th>\n      <td>8</td>\n    </tr>\n    <tr>\n      <th>9</th>\n      <td>4</td>\n    </tr>\n  </tbody>\n</table>\n</div>"
     },
     "metadata": {},
     "execution_count": 80
    }
   ],
   "source": [
    "wineran = pd.DataFrame(np.random.randint(0,10, size=10))\n",
    "wineran"
   ]
  },
  {
   "cell_type": "markdown",
   "metadata": {},
   "source": [
    "### Step 11.  Use random numbers you generated as an index and assign NaN value to each of cell."
   ]
  },
  {
   "cell_type": "code",
   "execution_count": 83,
   "metadata": {},
   "outputs": [
    {
     "output_type": "execute_result",
     "data": {
      "text/plain": [
       "     alcohol malic_acid alcalinity_of_ash magnesium flavanoids  \\\n",
       "0        NaN        NaN               NaN       NaN        NaN   \n",
       "1        NaN        NaN               NaN       NaN        NaN   \n",
       "2        NaN        NaN               NaN       NaN        NaN   \n",
       "3        NaN        NaN               NaN       NaN        NaN   \n",
       "4        NaN        NaN               NaN       NaN        NaN   \n",
       "..       ...        ...               ...       ...        ...   \n",
       "173    13.71       5.65              20.5      95.0       0.61   \n",
       "174    13.40       3.91              23.0     102.0       0.75   \n",
       "175    13.27       4.28              20.0     120.0       0.69   \n",
       "176    13.17       2.59              20.0     120.0       0.68   \n",
       "177    14.13        4.1              24.5      96.0       0.76   \n",
       "\n",
       "    proanthocyanins   hue  wineran  \n",
       "0               NaN   NaN      NaN  \n",
       "1               NaN   NaN      NaN  \n",
       "2               NaN   NaN      NaN  \n",
       "3               NaN   NaN      NaN  \n",
       "4               NaN   NaN      NaN  \n",
       "..              ...   ...      ...  \n",
       "173            1.06  0.64    173.0  \n",
       "174            1.41   0.7    174.0  \n",
       "175            1.35  0.59    175.0  \n",
       "176            1.46   0.6    176.0  \n",
       "177            1.35  0.61    177.0  \n",
       "\n",
       "[178 rows x 8 columns]"
      ],
      "text/html": "<div>\n<style scoped>\n    .dataframe tbody tr th:only-of-type {\n        vertical-align: middle;\n    }\n\n    .dataframe tbody tr th {\n        vertical-align: top;\n    }\n\n    .dataframe thead th {\n        text-align: right;\n    }\n</style>\n<table border=\"1\" class=\"dataframe\">\n  <thead>\n    <tr style=\"text-align: right;\">\n      <th></th>\n      <th>alcohol</th>\n      <th>malic_acid</th>\n      <th>alcalinity_of_ash</th>\n      <th>magnesium</th>\n      <th>flavanoids</th>\n      <th>proanthocyanins</th>\n      <th>hue</th>\n      <th>wineran</th>\n    </tr>\n  </thead>\n  <tbody>\n    <tr>\n      <th>0</th>\n      <td>NaN</td>\n      <td>NaN</td>\n      <td>NaN</td>\n      <td>NaN</td>\n      <td>NaN</td>\n      <td>NaN</td>\n      <td>NaN</td>\n      <td>NaN</td>\n    </tr>\n    <tr>\n      <th>1</th>\n      <td>NaN</td>\n      <td>NaN</td>\n      <td>NaN</td>\n      <td>NaN</td>\n      <td>NaN</td>\n      <td>NaN</td>\n      <td>NaN</td>\n      <td>NaN</td>\n    </tr>\n    <tr>\n      <th>2</th>\n      <td>NaN</td>\n      <td>NaN</td>\n      <td>NaN</td>\n      <td>NaN</td>\n      <td>NaN</td>\n      <td>NaN</td>\n      <td>NaN</td>\n      <td>NaN</td>\n    </tr>\n    <tr>\n      <th>3</th>\n      <td>NaN</td>\n      <td>NaN</td>\n      <td>NaN</td>\n      <td>NaN</td>\n      <td>NaN</td>\n      <td>NaN</td>\n      <td>NaN</td>\n      <td>NaN</td>\n    </tr>\n    <tr>\n      <th>4</th>\n      <td>NaN</td>\n      <td>NaN</td>\n      <td>NaN</td>\n      <td>NaN</td>\n      <td>NaN</td>\n      <td>NaN</td>\n      <td>NaN</td>\n      <td>NaN</td>\n    </tr>\n    <tr>\n      <th>...</th>\n      <td>...</td>\n      <td>...</td>\n      <td>...</td>\n      <td>...</td>\n      <td>...</td>\n      <td>...</td>\n      <td>...</td>\n      <td>...</td>\n    </tr>\n    <tr>\n      <th>173</th>\n      <td>13.71</td>\n      <td>5.65</td>\n      <td>20.5</td>\n      <td>95.0</td>\n      <td>0.61</td>\n      <td>1.06</td>\n      <td>0.64</td>\n      <td>173.0</td>\n    </tr>\n    <tr>\n      <th>174</th>\n      <td>13.40</td>\n      <td>3.91</td>\n      <td>23.0</td>\n      <td>102.0</td>\n      <td>0.75</td>\n      <td>1.41</td>\n      <td>0.7</td>\n      <td>174.0</td>\n    </tr>\n    <tr>\n      <th>175</th>\n      <td>13.27</td>\n      <td>4.28</td>\n      <td>20.0</td>\n      <td>120.0</td>\n      <td>0.69</td>\n      <td>1.35</td>\n      <td>0.59</td>\n      <td>175.0</td>\n    </tr>\n    <tr>\n      <th>176</th>\n      <td>13.17</td>\n      <td>2.59</td>\n      <td>20.0</td>\n      <td>120.0</td>\n      <td>0.68</td>\n      <td>1.46</td>\n      <td>0.6</td>\n      <td>176.0</td>\n    </tr>\n    <tr>\n      <th>177</th>\n      <td>14.13</td>\n      <td>4.1</td>\n      <td>24.5</td>\n      <td>96.0</td>\n      <td>0.76</td>\n      <td>1.35</td>\n      <td>0.61</td>\n      <td>177.0</td>\n    </tr>\n  </tbody>\n</table>\n<p>178 rows × 8 columns</p>\n</div>"
     },
     "metadata": {},
     "execution_count": 83
    }
   ],
   "source": [
    "wine['wineran'] = wine.index \n",
    "wine.iloc[:10,:] = np.nan\n",
    "wine\n",
    "\n"
   ]
  },
  {
   "cell_type": "markdown",
   "metadata": {},
   "source": [
    "### Step 12.  How many missing values do we have?"
   ]
  },
  {
   "cell_type": "code",
   "execution_count": 84,
   "metadata": {},
   "outputs": [
    {
     "output_type": "execute_result",
     "data": {
      "text/plain": [
       "alcohol              10\n",
       "malic_acid           10\n",
       "alcalinity_of_ash    10\n",
       "magnesium            10\n",
       "flavanoids           10\n",
       "proanthocyanins      10\n",
       "hue                  10\n",
       "wineran              10\n",
       "dtype: int64"
      ]
     },
     "metadata": {},
     "execution_count": 84
    }
   ],
   "source": [
    "\n",
    "wine.isnull().sum()"
   ]
  },
  {
   "cell_type": "markdown",
   "metadata": {},
   "source": [
    "### Step 13. Delete the rows that contain missing values"
   ]
  },
  {
   "cell_type": "code",
   "execution_count": 86,
   "metadata": {},
   "outputs": [
    {
     "output_type": "execute_result",
     "data": {
      "text/plain": [
       "     alcohol malic_acid alcalinity_of_ash magnesium flavanoids  \\\n",
       "10     14.10       2.16              18.0     105.0       3.32   \n",
       "11     14.12       1.48              16.8      95.0       2.43   \n",
       "12     13.75       1.73              16.0      89.0       2.76   \n",
       "13     14.75       1.73              11.4      91.0       3.69   \n",
       "14     14.38       1.87              12.0     102.0       3.64   \n",
       "..       ...        ...               ...       ...        ...   \n",
       "173    13.71       5.65              20.5      95.0       0.61   \n",
       "174    13.40       3.91              23.0     102.0       0.75   \n",
       "175    13.27       4.28              20.0     120.0       0.69   \n",
       "176    13.17       2.59              20.0     120.0       0.68   \n",
       "177    14.13        4.1              24.5      96.0       0.76   \n",
       "\n",
       "    proanthocyanins   hue  wineran  \n",
       "10             2.38  1.25     10.0  \n",
       "11             1.57  1.17     11.0  \n",
       "12             1.81  1.15     12.0  \n",
       "13             2.81  1.25     13.0  \n",
       "14             2.96   1.2     14.0  \n",
       "..              ...   ...      ...  \n",
       "173            1.06  0.64    173.0  \n",
       "174            1.41   0.7    174.0  \n",
       "175            1.35  0.59    175.0  \n",
       "176            1.46   0.6    176.0  \n",
       "177            1.35  0.61    177.0  \n",
       "\n",
       "[168 rows x 8 columns]"
      ],
      "text/html": "<div>\n<style scoped>\n    .dataframe tbody tr th:only-of-type {\n        vertical-align: middle;\n    }\n\n    .dataframe tbody tr th {\n        vertical-align: top;\n    }\n\n    .dataframe thead th {\n        text-align: right;\n    }\n</style>\n<table border=\"1\" class=\"dataframe\">\n  <thead>\n    <tr style=\"text-align: right;\">\n      <th></th>\n      <th>alcohol</th>\n      <th>malic_acid</th>\n      <th>alcalinity_of_ash</th>\n      <th>magnesium</th>\n      <th>flavanoids</th>\n      <th>proanthocyanins</th>\n      <th>hue</th>\n      <th>wineran</th>\n    </tr>\n  </thead>\n  <tbody>\n    <tr>\n      <th>10</th>\n      <td>14.10</td>\n      <td>2.16</td>\n      <td>18.0</td>\n      <td>105.0</td>\n      <td>3.32</td>\n      <td>2.38</td>\n      <td>1.25</td>\n      <td>10.0</td>\n    </tr>\n    <tr>\n      <th>11</th>\n      <td>14.12</td>\n      <td>1.48</td>\n      <td>16.8</td>\n      <td>95.0</td>\n      <td>2.43</td>\n      <td>1.57</td>\n      <td>1.17</td>\n      <td>11.0</td>\n    </tr>\n    <tr>\n      <th>12</th>\n      <td>13.75</td>\n      <td>1.73</td>\n      <td>16.0</td>\n      <td>89.0</td>\n      <td>2.76</td>\n      <td>1.81</td>\n      <td>1.15</td>\n      <td>12.0</td>\n    </tr>\n    <tr>\n      <th>13</th>\n      <td>14.75</td>\n      <td>1.73</td>\n      <td>11.4</td>\n      <td>91.0</td>\n      <td>3.69</td>\n      <td>2.81</td>\n      <td>1.25</td>\n      <td>13.0</td>\n    </tr>\n    <tr>\n      <th>14</th>\n      <td>14.38</td>\n      <td>1.87</td>\n      <td>12.0</td>\n      <td>102.0</td>\n      <td>3.64</td>\n      <td>2.96</td>\n      <td>1.2</td>\n      <td>14.0</td>\n    </tr>\n    <tr>\n      <th>...</th>\n      <td>...</td>\n      <td>...</td>\n      <td>...</td>\n      <td>...</td>\n      <td>...</td>\n      <td>...</td>\n      <td>...</td>\n      <td>...</td>\n    </tr>\n    <tr>\n      <th>173</th>\n      <td>13.71</td>\n      <td>5.65</td>\n      <td>20.5</td>\n      <td>95.0</td>\n      <td>0.61</td>\n      <td>1.06</td>\n      <td>0.64</td>\n      <td>173.0</td>\n    </tr>\n    <tr>\n      <th>174</th>\n      <td>13.40</td>\n      <td>3.91</td>\n      <td>23.0</td>\n      <td>102.0</td>\n      <td>0.75</td>\n      <td>1.41</td>\n      <td>0.7</td>\n      <td>174.0</td>\n    </tr>\n    <tr>\n      <th>175</th>\n      <td>13.27</td>\n      <td>4.28</td>\n      <td>20.0</td>\n      <td>120.0</td>\n      <td>0.69</td>\n      <td>1.35</td>\n      <td>0.59</td>\n      <td>175.0</td>\n    </tr>\n    <tr>\n      <th>176</th>\n      <td>13.17</td>\n      <td>2.59</td>\n      <td>20.0</td>\n      <td>120.0</td>\n      <td>0.68</td>\n      <td>1.46</td>\n      <td>0.6</td>\n      <td>176.0</td>\n    </tr>\n    <tr>\n      <th>177</th>\n      <td>14.13</td>\n      <td>4.1</td>\n      <td>24.5</td>\n      <td>96.0</td>\n      <td>0.76</td>\n      <td>1.35</td>\n      <td>0.61</td>\n      <td>177.0</td>\n    </tr>\n  </tbody>\n</table>\n<p>168 rows × 8 columns</p>\n</div>"
     },
     "metadata": {},
     "execution_count": 86
    }
   ],
   "source": [
    "wine = wine.dropna()\n",
    "wine"
   ]
  },
  {
   "cell_type": "markdown",
   "metadata": {},
   "source": [
    "### Step 14. Print only the non-null values in alcohol"
   ]
  },
  {
   "cell_type": "code",
   "execution_count": 89,
   "metadata": {},
   "outputs": [
    {
     "output_type": "execute_result",
     "data": {
      "text/plain": [
       "10     False\n",
       "11     False\n",
       "12     False\n",
       "13     False\n",
       "14     False\n",
       "       ...  \n",
       "173    False\n",
       "174    False\n",
       "175    False\n",
       "176    False\n",
       "177    False\n",
       "Name: alcohol, Length: 168, dtype: bool"
      ]
     },
     "metadata": {},
     "execution_count": 89
    }
   ],
   "source": [
    "non_null_series = pd.isnull(wine['alcohol'])\n",
    "non_null_series "
   ]
  },
  {
   "cell_type": "code",
   "execution_count": 90,
   "metadata": {},
   "outputs": [
    {
     "output_type": "stream",
     "name": "stdout",
     "text": [
      "10     14.10\n11     14.12\n12     13.75\n13     14.75\n14     14.38\n       ...  \n173    13.71\n174    13.40\n175    13.27\n176    13.17\n177    14.13\nName: alcohol, Length: 168, dtype: float64\n"
     ]
    }
   ],
   "source": [
    "print(wine['alcohol'])"
   ]
  },
  {
   "cell_type": "markdown",
   "metadata": {},
   "source": [
    "### Step 15.  Reset the index, so it starts with 0 again"
   ]
  },
  {
   "cell_type": "code",
   "execution_count": 93,
   "metadata": {},
   "outputs": [
    {
     "output_type": "execute_result",
     "data": {
      "text/plain": [
       "   alcohol malic_acid alcalinity_of_ash magnesium flavanoids proanthocyanins  \\\n",
       "0    14.10       2.16              18.0     105.0       3.32            2.38   \n",
       "1    14.12       1.48              16.8      95.0       2.43            1.57   \n",
       "2    13.75       1.73              16.0      89.0       2.76            1.81   \n",
       "3    14.75       1.73              11.4      91.0       3.69            2.81   \n",
       "4    14.38       1.87              12.0     102.0       3.64            2.96   \n",
       "\n",
       "    hue  wineran  \n",
       "0  1.25     10.0  \n",
       "1  1.17     11.0  \n",
       "2  1.15     12.0  \n",
       "3  1.25     13.0  \n",
       "4   1.2     14.0  "
      ],
      "text/html": "<div>\n<style scoped>\n    .dataframe tbody tr th:only-of-type {\n        vertical-align: middle;\n    }\n\n    .dataframe tbody tr th {\n        vertical-align: top;\n    }\n\n    .dataframe thead th {\n        text-align: right;\n    }\n</style>\n<table border=\"1\" class=\"dataframe\">\n  <thead>\n    <tr style=\"text-align: right;\">\n      <th></th>\n      <th>alcohol</th>\n      <th>malic_acid</th>\n      <th>alcalinity_of_ash</th>\n      <th>magnesium</th>\n      <th>flavanoids</th>\n      <th>proanthocyanins</th>\n      <th>hue</th>\n      <th>wineran</th>\n    </tr>\n  </thead>\n  <tbody>\n    <tr>\n      <th>0</th>\n      <td>14.10</td>\n      <td>2.16</td>\n      <td>18.0</td>\n      <td>105.0</td>\n      <td>3.32</td>\n      <td>2.38</td>\n      <td>1.25</td>\n      <td>10.0</td>\n    </tr>\n    <tr>\n      <th>1</th>\n      <td>14.12</td>\n      <td>1.48</td>\n      <td>16.8</td>\n      <td>95.0</td>\n      <td>2.43</td>\n      <td>1.57</td>\n      <td>1.17</td>\n      <td>11.0</td>\n    </tr>\n    <tr>\n      <th>2</th>\n      <td>13.75</td>\n      <td>1.73</td>\n      <td>16.0</td>\n      <td>89.0</td>\n      <td>2.76</td>\n      <td>1.81</td>\n      <td>1.15</td>\n      <td>12.0</td>\n    </tr>\n    <tr>\n      <th>3</th>\n      <td>14.75</td>\n      <td>1.73</td>\n      <td>11.4</td>\n      <td>91.0</td>\n      <td>3.69</td>\n      <td>2.81</td>\n      <td>1.25</td>\n      <td>13.0</td>\n    </tr>\n    <tr>\n      <th>4</th>\n      <td>14.38</td>\n      <td>1.87</td>\n      <td>12.0</td>\n      <td>102.0</td>\n      <td>3.64</td>\n      <td>2.96</td>\n      <td>1.2</td>\n      <td>14.0</td>\n    </tr>\n  </tbody>\n</table>\n</div>"
     },
     "metadata": {},
     "execution_count": 93
    }
   ],
   "source": [
    "wine = wine.reset_index(drop=True)\n",
    "wine.head()"
   ]
  },
  {
   "cell_type": "code",
   "execution_count": null,
   "metadata": {},
   "outputs": [],
   "source": []
  }
 ],
 "metadata": {
  "anaconda-cloud": {},
  "kernelspec": {
   "name": "python374jvsc74a57bd0a9b83ec4160fc914f5169c2fc0bc9ab1c02e189a457abfa966969b692f6336e9",
   "display_name": "Python 3.7.4 64-bit"
  },
  "language_info": {
   "codemirror_mode": {
    "name": "ipython",
    "version": 3
   },
   "file_extension": ".py",
   "mimetype": "text/x-python",
   "name": "python",
   "nbconvert_exporter": "python",
   "pygments_lexer": "ipython3",
   "version": "3.7.4"
  },
  "metadata": {
   "interpreter": {
    "hash": "a9b83ec4160fc914f5169c2fc0bc9ab1c02e189a457abfa966969b692f6336e9"
   }
  }
 },
 "nbformat": 4,
 "nbformat_minor": 4
}