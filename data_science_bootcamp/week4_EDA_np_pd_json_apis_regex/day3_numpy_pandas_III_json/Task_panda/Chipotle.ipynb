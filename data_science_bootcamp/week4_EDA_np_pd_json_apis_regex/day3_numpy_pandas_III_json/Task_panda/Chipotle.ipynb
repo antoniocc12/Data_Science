{
 "cells": [
  {
   "cell_type": "markdown",
   "metadata": {},
   "source": [
    "# 02 - Filtering and Sorting Data"
   ]
  },
  {
   "cell_type": "markdown",
   "metadata": {},
   "source": [
    "\n",
    "\n",
    "### Step 1. Import the necessary libraries"
   ]
  },
  {
   "cell_type": "code",
   "execution_count": 1,
   "metadata": {},
   "outputs": [],
   "source": [
    "import pandas as pd\n",
    "import numpy as np \n",
    "import requests\n",
    "import json\n"
   ]
  },
  {
   "cell_type": "markdown",
   "metadata": {},
   "source": [
    "### Step 2. Import the dataset from this [address](https://raw.githubusercontent.com/justmarkham/DAT8/master/data/chipotle.tsv). Assign it to a variable called chipo.\n",
    "\n",
    "This time we are going to pull data directly from the internet."
   ]
  },
  {
   "cell_type": "code",
   "execution_count": 13,
   "metadata": {},
   "outputs": [],
   "source": [
    "#chipo = requests.get(\"https://raw.githubusercontent.com/justmarkham/DAT8/master/data/chipotle.tsv\")\n"
   ]
  },
  {
   "cell_type": "code",
   "execution_count": 17,
   "metadata": {},
   "outputs": [
    {
     "output_type": "execute_result",
     "data": {
      "text/plain": [
       "      order_id  quantity                              item_name  \\\n",
       "0            1         1           Chips and Fresh Tomato Salsa   \n",
       "1            1         1                                   Izze   \n",
       "2            1         1                       Nantucket Nectar   \n",
       "3            1         1  Chips and Tomatillo-Green Chili Salsa   \n",
       "4            2         2                           Chicken Bowl   \n",
       "...        ...       ...                                    ...   \n",
       "4617      1833         1                          Steak Burrito   \n",
       "4618      1833         1                          Steak Burrito   \n",
       "4619      1834         1                     Chicken Salad Bowl   \n",
       "4620      1834         1                     Chicken Salad Bowl   \n",
       "4621      1834         1                     Chicken Salad Bowl   \n",
       "\n",
       "                                     choice_description item_price  \n",
       "0                                                   NaN     $2.39   \n",
       "1                                          [Clementine]     $3.39   \n",
       "2                                               [Apple]     $3.39   \n",
       "3                                                   NaN     $2.39   \n",
       "4     [Tomatillo-Red Chili Salsa (Hot), [Black Beans...    $16.98   \n",
       "...                                                 ...        ...  \n",
       "4617  [Fresh Tomato Salsa, [Rice, Black Beans, Sour ...    $11.75   \n",
       "4618  [Fresh Tomato Salsa, [Rice, Sour Cream, Cheese...    $11.75   \n",
       "4619  [Fresh Tomato Salsa, [Fajita Vegetables, Pinto...    $11.25   \n",
       "4620  [Fresh Tomato Salsa, [Fajita Vegetables, Lettu...     $8.75   \n",
       "4621  [Fresh Tomato Salsa, [Fajita Vegetables, Pinto...     $8.75   \n",
       "\n",
       "[4622 rows x 5 columns]"
      ],
      "text/html": "<div>\n<style scoped>\n    .dataframe tbody tr th:only-of-type {\n        vertical-align: middle;\n    }\n\n    .dataframe tbody tr th {\n        vertical-align: top;\n    }\n\n    .dataframe thead th {\n        text-align: right;\n    }\n</style>\n<table border=\"1\" class=\"dataframe\">\n  <thead>\n    <tr style=\"text-align: right;\">\n      <th></th>\n      <th>order_id</th>\n      <th>quantity</th>\n      <th>item_name</th>\n      <th>choice_description</th>\n      <th>item_price</th>\n    </tr>\n  </thead>\n  <tbody>\n    <tr>\n      <th>0</th>\n      <td>1</td>\n      <td>1</td>\n      <td>Chips and Fresh Tomato Salsa</td>\n      <td>NaN</td>\n      <td>$2.39</td>\n    </tr>\n    <tr>\n      <th>1</th>\n      <td>1</td>\n      <td>1</td>\n      <td>Izze</td>\n      <td>[Clementine]</td>\n      <td>$3.39</td>\n    </tr>\n    <tr>\n      <th>2</th>\n      <td>1</td>\n      <td>1</td>\n      <td>Nantucket Nectar</td>\n      <td>[Apple]</td>\n      <td>$3.39</td>\n    </tr>\n    <tr>\n      <th>3</th>\n      <td>1</td>\n      <td>1</td>\n      <td>Chips and Tomatillo-Green Chili Salsa</td>\n      <td>NaN</td>\n      <td>$2.39</td>\n    </tr>\n    <tr>\n      <th>4</th>\n      <td>2</td>\n      <td>2</td>\n      <td>Chicken Bowl</td>\n      <td>[Tomatillo-Red Chili Salsa (Hot), [Black Beans...</td>\n      <td>$16.98</td>\n    </tr>\n    <tr>\n      <th>...</th>\n      <td>...</td>\n      <td>...</td>\n      <td>...</td>\n      <td>...</td>\n      <td>...</td>\n    </tr>\n    <tr>\n      <th>4617</th>\n      <td>1833</td>\n      <td>1</td>\n      <td>Steak Burrito</td>\n      <td>[Fresh Tomato Salsa, [Rice, Black Beans, Sour ...</td>\n      <td>$11.75</td>\n    </tr>\n    <tr>\n      <th>4618</th>\n      <td>1833</td>\n      <td>1</td>\n      <td>Steak Burrito</td>\n      <td>[Fresh Tomato Salsa, [Rice, Sour Cream, Cheese...</td>\n      <td>$11.75</td>\n    </tr>\n    <tr>\n      <th>4619</th>\n      <td>1834</td>\n      <td>1</td>\n      <td>Chicken Salad Bowl</td>\n      <td>[Fresh Tomato Salsa, [Fajita Vegetables, Pinto...</td>\n      <td>$11.25</td>\n    </tr>\n    <tr>\n      <th>4620</th>\n      <td>1834</td>\n      <td>1</td>\n      <td>Chicken Salad Bowl</td>\n      <td>[Fresh Tomato Salsa, [Fajita Vegetables, Lettu...</td>\n      <td>$8.75</td>\n    </tr>\n    <tr>\n      <th>4621</th>\n      <td>1834</td>\n      <td>1</td>\n      <td>Chicken Salad Bowl</td>\n      <td>[Fresh Tomato Salsa, [Fajita Vegetables, Pinto...</td>\n      <td>$8.75</td>\n    </tr>\n  </tbody>\n</table>\n<p>4622 rows × 5 columns</p>\n</div>"
     },
     "metadata": {},
     "execution_count": 17
    }
   ],
   "source": [
    "chipo = pd.read_table(\"https://raw.githubusercontent.com/justmarkham/DAT8/master/data/chipotle.tsv\", sep='\\t')\n",
    "chipo\n",
    "\n",
    "#si pongo chipo.to_json(\"nombre.json\") se va a guardar en json o si pongo to_csv se guarda en csv para tenerlo despues o to_excel"
   ]
  },
  {
   "cell_type": "code",
   "execution_count": 32,
   "metadata": {},
   "outputs": [
    {
     "output_type": "execute_result",
     "data": {
      "text/plain": [
       "Index(['order_id', 'quantity', 'item_name', 'choice_description',\n",
       "       'item_price'],\n",
       "      dtype='object')"
      ]
     },
     "metadata": {},
     "execution_count": 32
    }
   ],
   "source": [
    "chipo.columns"
   ]
  },
  {
   "cell_type": "code",
   "execution_count": 116,
   "metadata": {},
   "outputs": [
    {
     "output_type": "execute_result",
     "data": {
      "text/plain": [
       "5"
      ]
     },
     "metadata": {},
     "execution_count": 116
    }
   ],
   "source": [
    "chipo.shape[1]"
   ]
  },
  {
   "cell_type": "code",
   "execution_count": 116,
   "metadata": {},
   "outputs": [],
   "source": [
    "#chipo['item_price'] = chipo['item_price'].apply(lambda x : x[1:] if x.startswith(\"$\") else x)\n"
   ]
  },
  {
   "cell_type": "code",
   "execution_count": 7,
   "metadata": {},
   "outputs": [
    {
     "output_type": "execute_result",
     "data": {
      "text/plain": [
       "0        2.39\n",
       "1        3.39\n",
       "2        3.39\n",
       "3        2.39\n",
       "4       16.98\n",
       "        ...  \n",
       "4617    11.75\n",
       "4618    11.75\n",
       "4619    11.25\n",
       "4620     8.75\n",
       "4621     8.75\n",
       "Name: item_price, Length: 4622, dtype: float64"
      ]
     },
     "metadata": {},
     "execution_count": 7
    }
   ],
   "source": [
    "chipo['item_price'].str[1:].astype(float)"
   ]
  },
  {
   "cell_type": "markdown",
   "metadata": {},
   "source": [
    "### Step 3. Name of the most expensive products (item_name)\n",
    "\n",
    "¿Recuerdas el `map`? En **pandas** tienes el método [`apply`](https://pandas.pydata.org/pandas-docs/stable/reference/api/pandas.DataFrame.apply.html) y en para resolver este ejercicio te puede ser muy útil. \n",
    "\n",
    "Pero no acaba ahí https://stackoverflow.com/questions/19798153/difference-between-map-applymap-and-apply-methods-in-pandas"
   ]
  },
  {
   "cell_type": "code",
   "execution_count": 18,
   "metadata": {},
   "outputs": [],
   "source": [
    "\n",
    "chipo['item_price'] = chipo.item_price.apply(lambda x: float(x[1:]))"
   ]
  },
  {
   "cell_type": "code",
   "execution_count": 54,
   "metadata": {},
   "outputs": [
    {
     "output_type": "execute_result",
     "data": {
      "text/plain": [
       "      order_id  quantity                     item_name choice_description  \\\n",
       "3598      1443        15  Chips and Fresh Tomato Salsa                NaN   \n",
       "\n",
       "      item_price  \n",
       "3598       44.25  "
      ],
      "text/html": "<div>\n<style scoped>\n    .dataframe tbody tr th:only-of-type {\n        vertical-align: middle;\n    }\n\n    .dataframe tbody tr th {\n        vertical-align: top;\n    }\n\n    .dataframe thead th {\n        text-align: right;\n    }\n</style>\n<table border=\"1\" class=\"dataframe\">\n  <thead>\n    <tr style=\"text-align: right;\">\n      <th></th>\n      <th>order_id</th>\n      <th>quantity</th>\n      <th>item_name</th>\n      <th>choice_description</th>\n      <th>item_price</th>\n    </tr>\n  </thead>\n  <tbody>\n    <tr>\n      <th>3598</th>\n      <td>1443</td>\n      <td>15</td>\n      <td>Chips and Fresh Tomato Salsa</td>\n      <td>NaN</td>\n      <td>44.25</td>\n    </tr>\n  </tbody>\n</table>\n</div>"
     },
     "metadata": {},
     "execution_count": 54
    }
   ],
   "source": [
    "chipo[chipo['item_price'] == chipo['item_price'].max()]"
   ]
  },
  {
   "cell_type": "markdown",
   "metadata": {},
   "source": [
    "### Step 4. How many products cost more than $10.00?"
   ]
  },
  {
   "cell_type": "code",
   "execution_count": 81,
   "metadata": {},
   "outputs": [
    {
     "output_type": "stream",
     "name": "stdout",
     "text": [
      "products with price > $10.00 are 50\n"
     ]
    }
   ],
   "source": [
    "expensive_products = chipo.groupby('item_name')['item_price'].max(10).count()\n",
    "\n",
    "print(\"products with price > $10.00 are\", expensive_products)"
   ]
  },
  {
   "cell_type": "code",
   "execution_count": 67,
   "metadata": {},
   "outputs": [
    {
     "output_type": "execute_result",
     "data": {
      "text/plain": [
       "      order_id  quantity           item_name  \\\n",
       "4            2         2        Chicken Bowl   \n",
       "5            3         1        Chicken Bowl   \n",
       "7            4         1       Steak Burrito   \n",
       "13           7         1        Chicken Bowl   \n",
       "23          12         1     Chicken Burrito   \n",
       "...        ...       ...                 ...   \n",
       "4610      1830         1       Steak Burrito   \n",
       "4611      1830         1      Veggie Burrito   \n",
       "4617      1833         1       Steak Burrito   \n",
       "4618      1833         1       Steak Burrito   \n",
       "4619      1834         1  Chicken Salad Bowl   \n",
       "\n",
       "                                     choice_description  item_price  \n",
       "4     [Tomatillo-Red Chili Salsa (Hot), [Black Beans...       16.98  \n",
       "5     [Fresh Tomato Salsa (Mild), [Rice, Cheese, Sou...       10.98  \n",
       "7     [Tomatillo Red Chili Salsa, [Fajita Vegetables...       11.75  \n",
       "13    [Fresh Tomato Salsa, [Fajita Vegetables, Rice,...       11.25  \n",
       "23    [[Tomatillo-Green Chili Salsa (Medium), Tomati...       10.98  \n",
       "...                                                 ...         ...  \n",
       "4610  [Fresh Tomato Salsa, [Rice, Sour Cream, Cheese...       11.75  \n",
       "4611  [Tomatillo Green Chili Salsa, [Rice, Fajita Ve...       11.25  \n",
       "4617  [Fresh Tomato Salsa, [Rice, Black Beans, Sour ...       11.75  \n",
       "4618  [Fresh Tomato Salsa, [Rice, Sour Cream, Cheese...       11.75  \n",
       "4619  [Fresh Tomato Salsa, [Fajita Vegetables, Pinto...       11.25  \n",
       "\n",
       "[1130 rows x 5 columns]"
      ],
      "text/html": "<div>\n<style scoped>\n    .dataframe tbody tr th:only-of-type {\n        vertical-align: middle;\n    }\n\n    .dataframe tbody tr th {\n        vertical-align: top;\n    }\n\n    .dataframe thead th {\n        text-align: right;\n    }\n</style>\n<table border=\"1\" class=\"dataframe\">\n  <thead>\n    <tr style=\"text-align: right;\">\n      <th></th>\n      <th>order_id</th>\n      <th>quantity</th>\n      <th>item_name</th>\n      <th>choice_description</th>\n      <th>item_price</th>\n    </tr>\n  </thead>\n  <tbody>\n    <tr>\n      <th>4</th>\n      <td>2</td>\n      <td>2</td>\n      <td>Chicken Bowl</td>\n      <td>[Tomatillo-Red Chili Salsa (Hot), [Black Beans...</td>\n      <td>16.98</td>\n    </tr>\n    <tr>\n      <th>5</th>\n      <td>3</td>\n      <td>1</td>\n      <td>Chicken Bowl</td>\n      <td>[Fresh Tomato Salsa (Mild), [Rice, Cheese, Sou...</td>\n      <td>10.98</td>\n    </tr>\n    <tr>\n      <th>7</th>\n      <td>4</td>\n      <td>1</td>\n      <td>Steak Burrito</td>\n      <td>[Tomatillo Red Chili Salsa, [Fajita Vegetables...</td>\n      <td>11.75</td>\n    </tr>\n    <tr>\n      <th>13</th>\n      <td>7</td>\n      <td>1</td>\n      <td>Chicken Bowl</td>\n      <td>[Fresh Tomato Salsa, [Fajita Vegetables, Rice,...</td>\n      <td>11.25</td>\n    </tr>\n    <tr>\n      <th>23</th>\n      <td>12</td>\n      <td>1</td>\n      <td>Chicken Burrito</td>\n      <td>[[Tomatillo-Green Chili Salsa (Medium), Tomati...</td>\n      <td>10.98</td>\n    </tr>\n    <tr>\n      <th>...</th>\n      <td>...</td>\n      <td>...</td>\n      <td>...</td>\n      <td>...</td>\n      <td>...</td>\n    </tr>\n    <tr>\n      <th>4610</th>\n      <td>1830</td>\n      <td>1</td>\n      <td>Steak Burrito</td>\n      <td>[Fresh Tomato Salsa, [Rice, Sour Cream, Cheese...</td>\n      <td>11.75</td>\n    </tr>\n    <tr>\n      <th>4611</th>\n      <td>1830</td>\n      <td>1</td>\n      <td>Veggie Burrito</td>\n      <td>[Tomatillo Green Chili Salsa, [Rice, Fajita Ve...</td>\n      <td>11.25</td>\n    </tr>\n    <tr>\n      <th>4617</th>\n      <td>1833</td>\n      <td>1</td>\n      <td>Steak Burrito</td>\n      <td>[Fresh Tomato Salsa, [Rice, Black Beans, Sour ...</td>\n      <td>11.75</td>\n    </tr>\n    <tr>\n      <th>4618</th>\n      <td>1833</td>\n      <td>1</td>\n      <td>Steak Burrito</td>\n      <td>[Fresh Tomato Salsa, [Rice, Sour Cream, Cheese...</td>\n      <td>11.75</td>\n    </tr>\n    <tr>\n      <th>4619</th>\n      <td>1834</td>\n      <td>1</td>\n      <td>Chicken Salad Bowl</td>\n      <td>[Fresh Tomato Salsa, [Fajita Vegetables, Pinto...</td>\n      <td>11.25</td>\n    </tr>\n  </tbody>\n</table>\n<p>1130 rows × 5 columns</p>\n</div>"
     },
     "metadata": {},
     "execution_count": 67
    }
   ],
   "source": [
    "chipo[chipo['item_price'] > 10]"
   ]
  },
  {
   "cell_type": "markdown",
   "metadata": {},
   "source": [
    "### Step 5. What is the price of each item? \n",
    "###### print a data frame with only two columns item_name and item_price"
   ]
  },
  {
   "cell_type": "code",
   "execution_count": 83,
   "metadata": {},
   "outputs": [
    {
     "output_type": "execute_result",
     "data": {
      "text/plain": [
       "                                  item_name item_price\n",
       "0              Chips and Fresh Tomato Salsa      2.39 \n",
       "1                                      Izze      3.39 \n",
       "2                          Nantucket Nectar      3.39 \n",
       "3     Chips and Tomatillo-Green Chili Salsa      2.39 \n",
       "4                              Chicken Bowl     16.98 \n",
       "...                                     ...        ...\n",
       "4617                          Steak Burrito     11.75 \n",
       "4618                          Steak Burrito     11.75 \n",
       "4619                     Chicken Salad Bowl     11.25 \n",
       "4620                     Chicken Salad Bowl      8.75 \n",
       "4621                     Chicken Salad Bowl      8.75 \n",
       "\n",
       "[4622 rows x 2 columns]"
      ],
      "text/html": "<div>\n<style scoped>\n    .dataframe tbody tr th:only-of-type {\n        vertical-align: middle;\n    }\n\n    .dataframe tbody tr th {\n        vertical-align: top;\n    }\n\n    .dataframe thead th {\n        text-align: right;\n    }\n</style>\n<table border=\"1\" class=\"dataframe\">\n  <thead>\n    <tr style=\"text-align: right;\">\n      <th></th>\n      <th>item_name</th>\n      <th>item_price</th>\n    </tr>\n  </thead>\n  <tbody>\n    <tr>\n      <th>0</th>\n      <td>Chips and Fresh Tomato Salsa</td>\n      <td>2.39</td>\n    </tr>\n    <tr>\n      <th>1</th>\n      <td>Izze</td>\n      <td>3.39</td>\n    </tr>\n    <tr>\n      <th>2</th>\n      <td>Nantucket Nectar</td>\n      <td>3.39</td>\n    </tr>\n    <tr>\n      <th>3</th>\n      <td>Chips and Tomatillo-Green Chili Salsa</td>\n      <td>2.39</td>\n    </tr>\n    <tr>\n      <th>4</th>\n      <td>Chicken Bowl</td>\n      <td>16.98</td>\n    </tr>\n    <tr>\n      <th>...</th>\n      <td>...</td>\n      <td>...</td>\n    </tr>\n    <tr>\n      <th>4617</th>\n      <td>Steak Burrito</td>\n      <td>11.75</td>\n    </tr>\n    <tr>\n      <th>4618</th>\n      <td>Steak Burrito</td>\n      <td>11.75</td>\n    </tr>\n    <tr>\n      <th>4619</th>\n      <td>Chicken Salad Bowl</td>\n      <td>11.25</td>\n    </tr>\n    <tr>\n      <th>4620</th>\n      <td>Chicken Salad Bowl</td>\n      <td>8.75</td>\n    </tr>\n    <tr>\n      <th>4621</th>\n      <td>Chicken Salad Bowl</td>\n      <td>8.75</td>\n    </tr>\n  </tbody>\n</table>\n<p>4622 rows × 2 columns</p>\n</div>"
     },
     "metadata": {},
     "execution_count": 83
    }
   ],
   "source": [
    "\n",
    "chipo[['item_name', 'item_price']]\n"
   ]
  },
  {
   "cell_type": "markdown",
   "metadata": {},
   "source": [
    "### Step 6. Sort by the name of the item"
   ]
  },
  {
   "cell_type": "code",
   "execution_count": 102,
   "metadata": {},
   "outputs": [
    {
     "output_type": "execute_result",
     "data": {
      "text/plain": [
       "      order_id  quantity          item_name  \\\n",
       "3389      1360         2  6 Pack Soft Drink   \n",
       "341        148         1  6 Pack Soft Drink   \n",
       "1849       749         1  6 Pack Soft Drink   \n",
       "1860       754         1  6 Pack Soft Drink   \n",
       "2713      1076         1  6 Pack Soft Drink   \n",
       "...        ...       ...                ...   \n",
       "2384       948         1  Veggie Soft Tacos   \n",
       "781        322         1  Veggie Soft Tacos   \n",
       "2851      1132         1  Veggie Soft Tacos   \n",
       "1699       688         1  Veggie Soft Tacos   \n",
       "1395       567         1  Veggie Soft Tacos   \n",
       "\n",
       "                                     choice_description  item_price  \n",
       "3389                                        [Diet Coke]       12.98  \n",
       "341                                         [Diet Coke]        6.49  \n",
       "1849                                             [Coke]        6.49  \n",
       "1860                                        [Diet Coke]        6.49  \n",
       "2713                                             [Coke]        6.49  \n",
       "...                                                 ...         ...  \n",
       "2384  [Roasted Chili Corn Salsa, [Fajita Vegetables,...        8.75  \n",
       "781   [Fresh Tomato Salsa, [Black Beans, Cheese, Sou...        8.75  \n",
       "2851  [Roasted Chili Corn Salsa (Medium), [Black Bea...        8.49  \n",
       "1699  [Fresh Tomato Salsa, [Fajita Vegetables, Rice,...       11.25  \n",
       "1395  [Fresh Tomato Salsa (Mild), [Pinto Beans, Rice...        8.49  \n",
       "\n",
       "[4622 rows x 5 columns]"
      ],
      "text/html": "<div>\n<style scoped>\n    .dataframe tbody tr th:only-of-type {\n        vertical-align: middle;\n    }\n\n    .dataframe tbody tr th {\n        vertical-align: top;\n    }\n\n    .dataframe thead th {\n        text-align: right;\n    }\n</style>\n<table border=\"1\" class=\"dataframe\">\n  <thead>\n    <tr style=\"text-align: right;\">\n      <th></th>\n      <th>order_id</th>\n      <th>quantity</th>\n      <th>item_name</th>\n      <th>choice_description</th>\n      <th>item_price</th>\n    </tr>\n  </thead>\n  <tbody>\n    <tr>\n      <th>3389</th>\n      <td>1360</td>\n      <td>2</td>\n      <td>6 Pack Soft Drink</td>\n      <td>[Diet Coke]</td>\n      <td>12.98</td>\n    </tr>\n    <tr>\n      <th>341</th>\n      <td>148</td>\n      <td>1</td>\n      <td>6 Pack Soft Drink</td>\n      <td>[Diet Coke]</td>\n      <td>6.49</td>\n    </tr>\n    <tr>\n      <th>1849</th>\n      <td>749</td>\n      <td>1</td>\n      <td>6 Pack Soft Drink</td>\n      <td>[Coke]</td>\n      <td>6.49</td>\n    </tr>\n    <tr>\n      <th>1860</th>\n      <td>754</td>\n      <td>1</td>\n      <td>6 Pack Soft Drink</td>\n      <td>[Diet Coke]</td>\n      <td>6.49</td>\n    </tr>\n    <tr>\n      <th>2713</th>\n      <td>1076</td>\n      <td>1</td>\n      <td>6 Pack Soft Drink</td>\n      <td>[Coke]</td>\n      <td>6.49</td>\n    </tr>\n    <tr>\n      <th>...</th>\n      <td>...</td>\n      <td>...</td>\n      <td>...</td>\n      <td>...</td>\n      <td>...</td>\n    </tr>\n    <tr>\n      <th>2384</th>\n      <td>948</td>\n      <td>1</td>\n      <td>Veggie Soft Tacos</td>\n      <td>[Roasted Chili Corn Salsa, [Fajita Vegetables,...</td>\n      <td>8.75</td>\n    </tr>\n    <tr>\n      <th>781</th>\n      <td>322</td>\n      <td>1</td>\n      <td>Veggie Soft Tacos</td>\n      <td>[Fresh Tomato Salsa, [Black Beans, Cheese, Sou...</td>\n      <td>8.75</td>\n    </tr>\n    <tr>\n      <th>2851</th>\n      <td>1132</td>\n      <td>1</td>\n      <td>Veggie Soft Tacos</td>\n      <td>[Roasted Chili Corn Salsa (Medium), [Black Bea...</td>\n      <td>8.49</td>\n    </tr>\n    <tr>\n      <th>1699</th>\n      <td>688</td>\n      <td>1</td>\n      <td>Veggie Soft Tacos</td>\n      <td>[Fresh Tomato Salsa, [Fajita Vegetables, Rice,...</td>\n      <td>11.25</td>\n    </tr>\n    <tr>\n      <th>1395</th>\n      <td>567</td>\n      <td>1</td>\n      <td>Veggie Soft Tacos</td>\n      <td>[Fresh Tomato Salsa (Mild), [Pinto Beans, Rice...</td>\n      <td>8.49</td>\n    </tr>\n  </tbody>\n</table>\n<p>4622 rows × 5 columns</p>\n</div>"
     },
     "metadata": {},
     "execution_count": 102
    }
   ],
   "source": [
    "chipo.sort_values('item_name')"
   ]
  },
  {
   "cell_type": "markdown",
   "metadata": {},
   "source": [
    "### Step 7. What was the quantity of the most expensive item ordered? 2 ways"
   ]
  },
  {
   "cell_type": "markdown",
   "metadata": {},
   "source": [
    "V1"
   ]
  },
  {
   "cell_type": "code",
   "execution_count": 175,
   "metadata": {},
   "outputs": [
    {
     "output_type": "stream",
     "name": "stdout",
     "text": [
      " the quantity of max price is  3598    15\nName: quantity, dtype: int64\n"
     ]
    }
   ],
   "source": [
    "price = chipo['item_price'].max()\n",
    "quantity_price = chipo.loc[(chipo[\"item_price\"]==price),:]\n",
    "\n",
    "print(\" the quantity of max price is \", quantity_price[\"quantity\"])"
   ]
  },
  {
   "cell_type": "markdown",
   "metadata": {},
   "source": [
    "V2"
   ]
  },
  {
   "cell_type": "code",
   "execution_count": 174,
   "metadata": {},
   "outputs": [
    {
     "output_type": "stream",
     "name": "stdout",
     "text": [
      " the quantity of max price is  15\n"
     ]
    }
   ],
   "source": [
    "max_quantity = chipo[chipo.item_price == 44.25]['quantity'].max()\n",
    "print(\" the quantity of max price is \", max_quantity)"
   ]
  },
  {
   "cell_type": "code",
   "execution_count": 125,
   "metadata": {},
   "outputs": [
    {
     "output_type": "execute_result",
     "data": {
      "text/plain": [
       "quantity\n",
       "1     11.89\n",
       "2     23.78\n",
       "3     35.25\n",
       "4     35.00\n",
       "5      7.50\n",
       "7     10.50\n",
       "8     13.52\n",
       "10    15.00\n",
       "15    44.25\n",
       "Name: item_price, dtype: float64"
      ]
     },
     "metadata": {},
     "execution_count": 125
    }
   ],
   "source": [
    "\n",
    "chipo.groupby('quantity')['item_price'].max()\n"
   ]
  },
  {
   "cell_type": "markdown",
   "metadata": {},
   "source": [
    "### Step 8. How many times was a Veggie Salad Bowl ordered?"
   ]
  },
  {
   "cell_type": "code",
   "execution_count": 141,
   "metadata": {},
   "outputs": [
    {
     "output_type": "stream",
     "name": "stdout",
     "text": [
      "Number of Veggie Salad Bowls ordered: 18\n"
     ]
    }
   ],
   "source": [
    "salad_time = chipo[chipo.item_name == \"Veggie Salad Bowl\"]['quantity'].count()\n",
    "\n",
    "\n",
    "print(\"Number of Veggie Salad Bowls ordered:\", salad_time )"
   ]
  },
  {
   "cell_type": "markdown",
   "metadata": {},
   "source": [
    "### Step 9. How many times did someone order more than one Canned Soda?"
   ]
  },
  {
   "cell_type": "code",
   "execution_count": 162,
   "metadata": {},
   "outputs": [
    {
     "output_type": "stream",
     "name": "stdout",
     "text": [
      "20\n"
     ]
    }
   ],
   "source": [
    "\n",
    "soda = chipo.loc[chipo['item_name']=='Canned Soda',:]\n",
    "print(soda.loc[soda['quantity'] > 1,'quantity'].count())\n",
    "\n",
    "\n",
    "\n"
   ]
  },
  {
   "cell_type": "code",
   "execution_count": null,
   "metadata": {},
   "outputs": [],
   "source": []
  }
 ],
 "metadata": {
  "anaconda-cloud": {},
  "kernelspec": {
   "name": "python374jvsc74a57bd0a9b83ec4160fc914f5169c2fc0bc9ab1c02e189a457abfa966969b692f6336e9",
   "display_name": "Python 3.7.4 64-bit"
  },
  "language_info": {
   "codemirror_mode": {
    "name": "ipython",
    "version": 3
   },
   "file_extension": ".py",
   "mimetype": "text/x-python",
   "name": "python",
   "nbconvert_exporter": "python",
   "pygments_lexer": "ipython3",
   "version": "3.7.4"
  },
  "metadata": {
   "interpreter": {
    "hash": "a9b83ec4160fc914f5169c2fc0bc9ab1c02e189a457abfa966969b692f6336e9"
   }
  }
 },
 "nbformat": 4,
 "nbformat_minor": 4
}