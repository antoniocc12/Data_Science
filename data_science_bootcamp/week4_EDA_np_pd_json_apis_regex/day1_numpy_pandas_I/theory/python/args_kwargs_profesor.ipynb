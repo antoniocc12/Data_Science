{
 "cells": [
  {
   "cell_type": "markdown",
   "metadata": {},
   "source": [
    "Parámetros *args y *kwargs en Python"
   ]
  },
  {
   "source": [
    "### *args"
   ],
   "cell_type": "markdown",
   "metadata": {}
  },
  {
   "cell_type": "code",
   "execution_count": null,
   "metadata": {},
   "outputs": [],
   "source": [
    "def nombre_f():\n",
    "    return 2"
   ]
  },
  {
   "cell_type": "code",
   "execution_count": null,
   "metadata": {},
   "outputs": [],
   "source": [
    "def nombre_f_1(arg1, arg2, arg3=5):\n",
    "    return arg3"
   ]
  },
  {
   "cell_type": "code",
   "execution_count": 1,
   "metadata": {},
   "outputs": [
    {
     "output_type": "stream",
     "name": "stdout",
     "text": [
      "<class 'tuple'>\n(2, ['g', 'h'], 9, 'j')\n"
     ]
    }
   ],
   "source": [
    "def nombre_args(*args):\n",
    "    print(type(args))\n",
    "    print(args)\n",
    "\n",
    "x = 2\n",
    "y = [\"g\", \"h\"]\n",
    "nombre_args(x, y, 9, \"j\")"
   ]
  },
  {
   "cell_type": "code",
   "execution_count": 2,
   "metadata": {},
   "outputs": [
    {
     "output_type": "execute_result",
     "data": {
      "text/plain": [
       "12"
      ]
     },
     "metadata": {},
     "execution_count": 2
    }
   ],
   "source": [
    "t = (2, 4, 6)\n",
    "sum(t)"
   ]
  },
  {
   "cell_type": "code",
   "execution_count": 3,
   "metadata": {},
   "outputs": [
    {
     "output_type": "stream",
     "name": "stdout",
     "text": [
      "5679\n"
     ]
    }
   ],
   "source": [
    "def realiza_suma_numeros(*args):\n",
    "    print(sum(args))\n",
    "\n",
    "realiza_suma_numeros(7, 222, 9999, -4549)"
   ]
  },
  {
   "cell_type": "code",
   "execution_count": 4,
   "metadata": {},
   "outputs": [
    {
     "output_type": "stream",
     "name": "stdout",
     "text": [
      "x: 7\n*args: (222, 9999, -4549)\n5672\n"
     ]
    }
   ],
   "source": [
    "def realiza_suma_numeros(x, *args):\n",
    "    print(\"x:\", x)\n",
    "    print(\"*args:\", args)\n",
    "    print(sum(args))\n",
    "\n",
    "realiza_suma_numeros(7, 222, 9999, -4549)"
   ]
  },
  {
   "cell_type": "code",
   "execution_count": 5,
   "metadata": {},
   "outputs": [
    {
     "output_type": "stream",
     "name": "stdout",
     "text": [
      "x: 7\n*args: ()\n0\n"
     ]
    }
   ],
   "source": [
    "realiza_suma_numeros(7)"
   ]
  },
  {
   "cell_type": "code",
   "execution_count": 6,
   "metadata": {},
   "outputs": [
    {
     "output_type": "error",
     "ename": "TypeError",
     "evalue": "realiza_suma_numeros() missing 1 required positional argument: 'x'",
     "traceback": [
      "\u001b[1;31m---------------------------------------------------------------------------\u001b[0m",
      "\u001b[1;31mTypeError\u001b[0m                                 Traceback (most recent call last)",
      "\u001b[1;32m<ipython-input-6-ef97ef9c1c4a>\u001b[0m in \u001b[0;36m<module>\u001b[1;34m\u001b[0m\n\u001b[1;32m----> 1\u001b[1;33m \u001b[0mrealiza_suma_numeros\u001b[0m\u001b[1;33m(\u001b[0m\u001b[1;33m)\u001b[0m\u001b[1;33m\u001b[0m\u001b[0m\n\u001b[0m",
      "\u001b[1;31mTypeError\u001b[0m: realiza_suma_numeros() missing 1 required positional argument: 'x'"
     ]
    }
   ],
   "source": [
    "realiza_suma_numeros()"
   ]
  },
  {
   "cell_type": "code",
   "execution_count": 7,
   "metadata": {},
   "outputs": [
    {
     "output_type": "error",
     "ename": "SyntaxError",
     "evalue": "positional argument follows keyword argument (<ipython-input-7-69e69c88c45e>, line 1)",
     "traceback": [
      "\u001b[1;36m  File \u001b[1;32m\"<ipython-input-7-69e69c88c45e>\"\u001b[1;36m, line \u001b[1;32m1\u001b[0m\n\u001b[1;33m    realiza_suma_numeros(x=2, 7, 4)\u001b[0m\n\u001b[1;37m                             ^\u001b[0m\n\u001b[1;31mSyntaxError\u001b[0m\u001b[1;31m:\u001b[0m positional argument follows keyword argument\n"
     ]
    }
   ],
   "source": [
    "realiza_suma_numeros(x=2, 7, 4)"
   ]
  },
  {
   "cell_type": "code",
   "execution_count": 8,
   "metadata": {},
   "outputs": [
    {
     "output_type": "error",
     "ename": "TypeError",
     "evalue": "realiza_suma_numeros() got an unexpected keyword argument 'a'",
     "traceback": [
      "\u001b[1;31m---------------------------------------------------------------------------\u001b[0m",
      "\u001b[1;31mTypeError\u001b[0m                                 Traceback (most recent call last)",
      "\u001b[1;32m<ipython-input-8-0405d2c2a7ea>\u001b[0m in \u001b[0;36m<module>\u001b[1;34m\u001b[0m\n\u001b[1;32m----> 1\u001b[1;33m \u001b[0mrealiza_suma_numeros\u001b[0m\u001b[1;33m(\u001b[0m\u001b[0mx\u001b[0m\u001b[1;33m=\u001b[0m\u001b[1;36m2\u001b[0m\u001b[1;33m,\u001b[0m \u001b[0ma\u001b[0m\u001b[1;33m=\u001b[0m\u001b[1;36m7\u001b[0m\u001b[1;33m,\u001b[0m \u001b[0mj\u001b[0m\u001b[1;33m=\u001b[0m\u001b[1;36m4\u001b[0m\u001b[1;33m)\u001b[0m\u001b[1;33m\u001b[0m\u001b[0m\n\u001b[0m",
      "\u001b[1;31mTypeError\u001b[0m: realiza_suma_numeros() got an unexpected keyword argument 'a'"
     ]
    }
   ],
   "source": [
    "realiza_suma_numeros(x=2, a=7, j=4)"
   ]
  },
  {
   "cell_type": "code",
   "execution_count": 10,
   "metadata": {},
   "outputs": [
    {
     "output_type": "error",
     "ename": "TypeError",
     "evalue": "realiza_suma_numeros() got multiple values for argument 'x'",
     "traceback": [
      "\u001b[1;31m---------------------------------------------------------------------------\u001b[0m",
      "\u001b[1;31mTypeError\u001b[0m                                 Traceback (most recent call last)",
      "\u001b[1;32m<ipython-input-10-67ff9ba765da>\u001b[0m in \u001b[0;36m<module>\u001b[1;34m\u001b[0m\n\u001b[1;32m----> 1\u001b[1;33m \u001b[0mrealiza_suma_numeros\u001b[0m\u001b[1;33m(\u001b[0m\u001b[1;36m2\u001b[0m\u001b[1;33m,\u001b[0m \u001b[1;36m7\u001b[0m\u001b[1;33m,\u001b[0m \u001b[0mx\u001b[0m\u001b[1;33m=\u001b[0m\u001b[1;36m4\u001b[0m\u001b[1;33m)\u001b[0m\u001b[1;33m\u001b[0m\u001b[0m\n\u001b[0m",
      "\u001b[1;31mTypeError\u001b[0m: realiza_suma_numeros() got multiple values for argument 'x'"
     ]
    }
   ],
   "source": [
    "# Cuando utilizamos args no podemos asignar ningún nombre de variable\n",
    "# *args es una tupla de todos los valores que no estén asociados a ningún argumento obligatorio de la función\n",
    "realiza_suma_numeros(2, 7, 4)"
   ]
  },
  {
   "source": [
    "### Kwargs"
   ],
   "cell_type": "markdown",
   "metadata": {}
  },
  {
   "cell_type": "code",
   "execution_count": 12,
   "metadata": {},
   "outputs": [
    {
     "output_type": "stream",
     "name": "stdout",
     "text": [
      "<class 'dict'>\n{'x': 2, 'p': 3}\n"
     ]
    }
   ],
   "source": [
    "def funcion_kwargs(**kwargs):\n",
    "    print(type(kwargs))\n",
    "    print(kwargs)\n",
    "\n",
    "funcion_kwargs(x=2, p=3)"
   ]
  },
  {
   "cell_type": "code",
   "execution_count": 13,
   "metadata": {},
   "outputs": [
    {
     "output_type": "stream",
     "name": "stdout",
     "text": [
      "x: 2\n<class 'dict'>\n{'p': 3}\n"
     ]
    }
   ],
   "source": [
    "def funcion_kwargs(x, **kwargs):\n",
    "    print(\"x:\", x)\n",
    "    print(type(kwargs))\n",
    "    print(kwargs)\n",
    "\n",
    "funcion_kwargs(x=2, p=3)"
   ]
  },
  {
   "cell_type": "code",
   "execution_count": 14,
   "metadata": {},
   "outputs": [
    {
     "output_type": "stream",
     "name": "stdout",
     "text": [
      "x: 2\nb: 4\n<class 'dict'>\n{'p': 3, 's': [-8, -9]}\n"
     ]
    }
   ],
   "source": [
    "def funcion_kwargs(x, b=4, **kwargs):\n",
    "    print(\"x:\", x)\n",
    "    print(\"b:\", b)\n",
    "    print(type(kwargs))\n",
    "    print(kwargs)\n",
    "\n",
    "funcion_kwargs(2, p=3, s=[-8, -9])"
   ]
  },
  {
   "cell_type": "code",
   "execution_count": 15,
   "metadata": {},
   "outputs": [
    {
     "output_type": "stream",
     "name": "stdout",
     "text": [
      "x: 2\nb: 4\n<class 'dict'>\n{'p': 3, 's': [-8, -9]}\n"
     ]
    }
   ],
   "source": [
    "def funcion_kwargs(x, b=4, **kwargs):\n",
    "    print(\"x:\", x)\n",
    "    print(\"b:\", b)\n",
    "    print(type(kwargs))\n",
    "    print(kwargs)\n",
    "\n",
    "funcion_kwargs(p=3, s=[-8, -9], x=2)"
   ]
  },
  {
   "cell_type": "code",
   "execution_count": 18,
   "metadata": {},
   "outputs": [
    {
     "output_type": "stream",
     "name": "stdout",
     "text": [
      "2\n-1\n"
     ]
    }
   ],
   "source": [
    "def funcion(x, b=4):\n",
    "    print(x)\n",
    "    print(b)\n",
    "\n",
    "funcion(2, -1)"
   ]
  },
  {
   "cell_type": "code",
   "execution_count": 19,
   "metadata": {},
   "outputs": [
    {
     "output_type": "stream",
     "name": "stdout",
     "text": [
      "x: 2\nb: -1\n<class 'dict'>\n{'p': 3, 's': [-8, -9]}\n"
     ]
    }
   ],
   "source": [
    "def funcion_kwargs(x, b=4, **kwargs):\n",
    "    print(\"x:\", x)\n",
    "    print(\"b:\", b)\n",
    "    print(type(kwargs))\n",
    "    print(kwargs)\n",
    "\n",
    "funcion_kwargs(2, -1, p=3, s=[-8, -9])"
   ]
  },
  {
   "cell_type": "code",
   "execution_count": 22,
   "metadata": {},
   "outputs": [
    {
     "output_type": "error",
     "ename": "TypeError",
     "evalue": "funcion_kwargs() takes from 1 to 2 positional arguments but 3 were given",
     "traceback": [
      "\u001b[1;31m---------------------------------------------------------------------------\u001b[0m",
      "\u001b[1;31mTypeError\u001b[0m                                 Traceback (most recent call last)",
      "\u001b[1;32m<ipython-input-22-32fb965407b9>\u001b[0m in \u001b[0;36m<module>\u001b[1;34m\u001b[0m\n\u001b[0;32m      5\u001b[0m     \u001b[0mprint\u001b[0m\u001b[1;33m(\u001b[0m\u001b[0mkwargs\u001b[0m\u001b[1;33m)\u001b[0m\u001b[1;33m\u001b[0m\u001b[0m\n\u001b[0;32m      6\u001b[0m \u001b[1;33m\u001b[0m\u001b[0m\n\u001b[1;32m----> 7\u001b[1;33m \u001b[0mfuncion_kwargs\u001b[0m\u001b[1;33m(\u001b[0m\u001b[1;36m2\u001b[0m\u001b[1;33m,\u001b[0m \u001b[1;33m-\u001b[0m\u001b[1;36m1\u001b[0m\u001b[1;33m,\u001b[0m \u001b[1;33m-\u001b[0m\u001b[1;36m99999\u001b[0m\u001b[1;33m,\u001b[0m \u001b[0mp\u001b[0m\u001b[1;33m=\u001b[0m\u001b[1;36m3\u001b[0m\u001b[1;33m,\u001b[0m \u001b[0ms\u001b[0m\u001b[1;33m=\u001b[0m\u001b[1;33m[\u001b[0m\u001b[1;33m-\u001b[0m\u001b[1;36m8\u001b[0m\u001b[1;33m,\u001b[0m \u001b[1;33m-\u001b[0m\u001b[1;36m9\u001b[0m\u001b[1;33m]\u001b[0m\u001b[1;33m)\u001b[0m\u001b[1;33m\u001b[0m\u001b[0m\n\u001b[0m",
      "\u001b[1;31mTypeError\u001b[0m: funcion_kwargs() takes from 1 to 2 positional arguments but 3 were given"
     ]
    }
   ],
   "source": [
    "def funcion_kwargs(x, b=4, **kwargs):\n",
    "    print(\"x:\", x)\n",
    "    print(\"b:\", b)\n",
    "    print(type(kwargs))\n",
    "    print(kwargs)\n",
    "\n",
    "funcion_kwargs(2, -1, -99999, p=3, s=[-8, -9])"
   ]
  },
  {
   "source": [
    "### *args & **kwargs"
   ],
   "cell_type": "markdown",
   "metadata": {}
  },
  {
   "cell_type": "code",
   "execution_count": 27,
   "metadata": {},
   "outputs": [
    {
     "output_type": "stream",
     "name": "stdout",
     "text": [
      "x: 1\nb: 4\n<class 'tuple'>\n*args: ()\n<class 'dict'>\n**kwargs: {}\n"
     ]
    }
   ],
   "source": [
    "# Si se utilizan *args y **kwargs, se pone primero *args (un asterisco) antes que **kwargs (dos asteriscos) \n",
    "def funcion_args_kwargs(x, b=4, *args, **kwargs):\n",
    "    print(\"x:\", x)\n",
    "    print(\"b:\", b)\n",
    "    print(type(args))\n",
    "    print(\"*args:\", args)\n",
    "    print(type(kwargs))\n",
    "    print(\"**kwargs:\", kwargs)\n",
    "\n",
    "funcion_args_kwargs(1)"
   ]
  },
  {
   "cell_type": "code",
   "execution_count": 28,
   "metadata": {},
   "outputs": [
    {
     "output_type": "stream",
     "name": "stdout",
     "text": [
      "x: 1\nb: 4\n<class 'tuple'>\n*args: ()\n<class 'dict'>\n**kwargs: {'k': 2}\n"
     ]
    }
   ],
   "source": [
    "funcion_args_kwargs(x=1, k=2)"
   ]
  },
  {
   "cell_type": "code",
   "execution_count": 29,
   "metadata": {},
   "outputs": [
    {
     "output_type": "error",
     "ename": "TypeError",
     "evalue": "funcion_args_() got an unexpected keyword argument 'x'",
     "traceback": [
      "\u001b[1;31m---------------------------------------------------------------------------\u001b[0m",
      "\u001b[1;31mTypeError\u001b[0m                                 Traceback (most recent call last)",
      "\u001b[1;32m<ipython-input-29-89f5dc211c35>\u001b[0m in \u001b[0;36m<module>\u001b[1;34m\u001b[0m\n\u001b[0;32m      2\u001b[0m     \u001b[0mprint\u001b[0m\u001b[1;33m(\u001b[0m\u001b[1;34m\"*args:\"\u001b[0m\u001b[1;33m,\u001b[0m \u001b[0margs\u001b[0m\u001b[1;33m)\u001b[0m\u001b[1;33m\u001b[0m\u001b[0m\n\u001b[0;32m      3\u001b[0m \u001b[1;33m\u001b[0m\u001b[0m\n\u001b[1;32m----> 4\u001b[1;33m \u001b[0mfuncion_args_\u001b[0m\u001b[1;33m(\u001b[0m\u001b[0mx\u001b[0m\u001b[1;33m=\u001b[0m\u001b[1;36m2\u001b[0m\u001b[1;33m)\u001b[0m\u001b[1;33m\u001b[0m\u001b[0m\n\u001b[0m",
      "\u001b[1;31mTypeError\u001b[0m: funcion_args_() got an unexpected keyword argument 'x'"
     ]
    }
   ],
   "source": [
    "def funcion_args_(*args):\n",
    "    print(\"*args:\", args)\n",
    "\n",
    "funcion_args_(x=2)"
   ]
  },
  {
   "cell_type": "code",
   "execution_count": 30,
   "metadata": {},
   "outputs": [
    {
     "output_type": "stream",
     "name": "stdout",
     "text": [
      "*kwargs: {'x': 2}\n"
     ]
    }
   ],
   "source": [
    "def funcion_kwargs_(**kwargs):\n",
    "    print(\"*kwargs:\", kwargs)\n",
    "\n",
    "funcion_kwargs_(x=2)"
   ]
  },
  {
   "cell_type": "code",
   "execution_count": 31,
   "metadata": {},
   "outputs": [
    {
     "output_type": "stream",
     "name": "stdout",
     "text": [
      "x: 1\nb: 2\n<class 'tuple'>\n*args: (3,)\n<class 'dict'>\n**kwargs: {}\n"
     ]
    }
   ],
   "source": [
    "def funcion_args_kwargs(x, b=4, *args, **kwargs):\n",
    "    print(\"x:\", x)\n",
    "    print(\"b:\", b)\n",
    "    print(type(args))\n",
    "    print(\"*args:\", args)\n",
    "    print(type(kwargs))\n",
    "    print(\"**kwargs:\", kwargs)\n",
    "\n",
    "funcion_args_kwargs(1, 2, 3)"
   ]
  },
  {
   "cell_type": "code",
   "execution_count": 32,
   "metadata": {},
   "outputs": [
    {
     "output_type": "stream",
     "name": "stdout",
     "text": [
      "x: 1\nb: 2\n<class 'tuple'>\n*args: (3,)\n<class 'dict'>\n**kwargs: {'j': 6}\n"
     ]
    }
   ],
   "source": [
    "def funcion_args_kwargs(x, b=4, *args, **kwargs):\n",
    "    print(\"x:\", x)\n",
    "    print(\"b:\", b)\n",
    "    print(type(args))\n",
    "    print(\"*args:\", args)\n",
    "    print(type(kwargs))\n",
    "    print(\"**kwargs:\", kwargs)\n",
    "\n",
    "funcion_args_kwargs(1, 2, 3, j=6)"
   ]
  },
  {
   "cell_type": "code",
   "execution_count": 33,
   "metadata": {},
   "outputs": [
    {
     "output_type": "stream",
     "name": "stdout",
     "text": [
      "x: 1\nb: 4\n<class 'tuple'>\n*args: ()\n<class 'dict'>\n**kwargs: {'j': 6}\n"
     ]
    }
   ],
   "source": [
    "def funcion_args_kwargs(x, b=4, *args, **kwargs):\n",
    "    print(\"x:\", x)\n",
    "    print(\"b:\", b)\n",
    "    print(type(args))\n",
    "    print(\"*args:\", args)\n",
    "    print(type(kwargs))\n",
    "    print(\"**kwargs:\", kwargs)\n",
    "\n",
    "funcion_args_kwargs(1, j=6)"
   ]
  },
  {
   "cell_type": "code",
   "execution_count": 34,
   "metadata": {},
   "outputs": [
    {
     "output_type": "stream",
     "name": "stdout",
     "text": [
      "x: 1\nb: 2\n<class 'tuple'>\n*args: (3, 999)\n<class 'dict'>\n**kwargs: {'j': 6}\n"
     ]
    }
   ],
   "source": [
    "def funcion_args_kwargs(x, b=4, *args, **kwargs):\n",
    "    print(\"x:\", x)\n",
    "    print(\"b:\", b)\n",
    "    print(type(args))\n",
    "    print(\"*args:\", args)\n",
    "    print(type(kwargs))\n",
    "    print(\"**kwargs:\", kwargs)\n",
    "\n",
    "funcion_args_kwargs(1, 2, 3, 999, j=6)"
   ]
  },
  {
   "cell_type": "code",
   "execution_count": 35,
   "metadata": {},
   "outputs": [
    {
     "output_type": "error",
     "ename": "TypeError",
     "evalue": "funcion_args_kwargs() got multiple values for argument 'b'",
     "traceback": [
      "\u001b[1;31m---------------------------------------------------------------------------\u001b[0m",
      "\u001b[1;31mTypeError\u001b[0m                                 Traceback (most recent call last)",
      "\u001b[1;32m<ipython-input-35-b68354cdad17>\u001b[0m in \u001b[0;36m<module>\u001b[1;34m\u001b[0m\n\u001b[0;32m      7\u001b[0m     \u001b[0mprint\u001b[0m\u001b[1;33m(\u001b[0m\u001b[1;34m\"**kwargs:\"\u001b[0m\u001b[1;33m,\u001b[0m \u001b[0mkwargs\u001b[0m\u001b[1;33m)\u001b[0m\u001b[1;33m\u001b[0m\u001b[0m\n\u001b[0;32m      8\u001b[0m \u001b[1;33m\u001b[0m\u001b[0m\n\u001b[1;32m----> 9\u001b[1;33m \u001b[0mfuncion_args_kwargs\u001b[0m\u001b[1;33m(\u001b[0m\u001b[1;36m1\u001b[0m\u001b[1;33m,\u001b[0m \u001b[1;36m2\u001b[0m\u001b[1;33m,\u001b[0m \u001b[1;36m3\u001b[0m\u001b[1;33m,\u001b[0m \u001b[1;36m999\u001b[0m\u001b[1;33m,\u001b[0m \u001b[0mj\u001b[0m\u001b[1;33m=\u001b[0m\u001b[1;36m6\u001b[0m\u001b[1;33m,\u001b[0m \u001b[0mb\u001b[0m\u001b[1;33m=\u001b[0m\u001b[1;36m5\u001b[0m\u001b[1;33m)\u001b[0m\u001b[1;33m\u001b[0m\u001b[0m\n\u001b[0m",
      "\u001b[1;31mTypeError\u001b[0m: funcion_args_kwargs() got multiple values for argument 'b'"
     ]
    }
   ],
   "source": [
    "def funcion_args_kwargs(x, b=4, *args, **kwargs):\n",
    "    print(\"x:\", x)\n",
    "    print(\"b:\", b)\n",
    "    print(type(args))\n",
    "    print(\"*args:\", args)\n",
    "    print(type(kwargs))\n",
    "    print(\"**kwargs:\", kwargs)\n",
    "\n",
    "funcion_args_kwargs(1, 2, 3, 999, j=6, b=5)"
   ]
  },
  {
   "cell_type": "code",
   "execution_count": 36,
   "metadata": {},
   "outputs": [
    {
     "output_type": "error",
     "ename": "SyntaxError",
     "evalue": "positional argument follows keyword argument (<ipython-input-36-dff4f71af1cc>, line 9)",
     "traceback": [
      "\u001b[1;36m  File \u001b[1;32m\"<ipython-input-36-dff4f71af1cc>\"\u001b[1;36m, line \u001b[1;32m9\u001b[0m\n\u001b[1;33m    funcion_args_kwargs(1, 2, 3, 999, j=6, 5)\u001b[0m\n\u001b[1;37m                                          ^\u001b[0m\n\u001b[1;31mSyntaxError\u001b[0m\u001b[1;31m:\u001b[0m positional argument follows keyword argument\n"
     ]
    }
   ],
   "source": [
    "def funcion_args_kwargs(x, b=4, *args, **kwargs):\n",
    "    print(\"x:\", x)\n",
    "    print(\"b:\", b)\n",
    "    print(type(args))\n",
    "    print(\"*args:\", args)\n",
    "    print(type(kwargs))\n",
    "    print(\"**kwargs:\", kwargs)\n",
    "\n",
    "# No funciona porque cuando asigno una variable con un igual =, tenemos que poner todas las variables con igual a su derecha\n",
    "funcion_args_kwargs(1, 2, 3, 999, j=6, 5)"
   ]
  },
  {
   "cell_type": "code",
   "execution_count": 37,
   "metadata": {},
   "outputs": [
    {
     "output_type": "stream",
     "name": "stdout",
     "text": [
      "x: 1\nb: 2\n<class 'tuple'>\n*args: (3, 999, {5: 'po'})\n<class 'dict'>\n**kwargs: {'j': 6}\n"
     ]
    }
   ],
   "source": [
    "def funcion_args_kwargs(x, b=4, *args, **kwargs):\n",
    "    print(\"x:\", x)\n",
    "    print(\"b:\", b)\n",
    "    print(type(args))\n",
    "    print(\"*args:\", args)\n",
    "    print(type(kwargs))\n",
    "    print(\"**kwargs:\", kwargs)\n",
    "\n",
    "d = {5:\"po\"}\n",
    "funcion_args_kwargs(1, 2, 3, 999, d, j=6)"
   ]
  },
  {
   "cell_type": "code",
   "execution_count": 39,
   "metadata": {},
   "outputs": [
    {
     "output_type": "stream",
     "name": "stdout",
     "text": [
      "x: 1\nb: 2\n<class 'tuple'>\n*args: (3, 999, {5: 'po'})\n<class 'dict'>\n**kwargs: {'d': {5: 'po'}, 'j': 6}\n"
     ]
    }
   ],
   "source": [
    "def funcion_args_kwargs(x, b=4, *args, **kwargs):\n",
    "    print(\"x:\", x)\n",
    "    print(\"b:\", b)\n",
    "    print(type(args))\n",
    "    print(\"*args:\", args)\n",
    "    print(type(kwargs))\n",
    "    print(\"**kwargs:\", kwargs)\n",
    "\n",
    "d = {5:\"po\"}\n",
    "funcion_args_kwargs(1, 2, 3, 999, d, d=d, j=6)"
   ]
  },
  {
   "cell_type": "code",
   "execution_count": 45,
   "metadata": {},
   "outputs": [
    {
     "output_type": "execute_result",
     "data": {
      "text/plain": [
       "'Str\"ing'"
      ]
     },
     "metadata": {},
     "execution_count": 45
    }
   ],
   "source": [
    "s = \"Str\\\"ing\"\n",
    "f = \"Stri''g\"\n",
    "s"
   ]
  },
  {
   "cell_type": "code",
   "execution_count": 48,
   "metadata": {},
   "outputs": [
    {
     "output_type": "stream",
     "name": "stdout",
     "text": [
      "x: 1\nb: 2\n<class 'tuple'>\n*args: (3, 999, {5: 'po'})\n<class 'dict'>\n**kwargs: {'d': {5: 'po'}, 'j': 6}\nkwargs['d']--> {5: 'po'}\n"
     ]
    }
   ],
   "source": [
    "def funcion_args_kwargs(x, b=4, *args, **kwargs):\n",
    "    print(\"x:\", x)\n",
    "    print(\"b:\", b)\n",
    "    print(type(args))\n",
    "    print(\"*args:\", args)\n",
    "    print(type(kwargs))\n",
    "    print(\"**kwargs:\", kwargs)\n",
    "    print(\"kwargs['d']-->\", kwargs[\"d\"])\n",
    "\n",
    "k = {5:\"po\"}\n",
    "funcion_args_kwargs(1, 2, 3, 999, k, d=k, j=6)"
   ]
  },
  {
   "cell_type": "code",
   "execution_count": 51,
   "metadata": {},
   "outputs": [
    {
     "output_type": "stream",
     "name": "stdout",
     "text": [
      "x: 1\nb: 2\n<class 'tuple'>\n*args: (3, 999, {5: 'po'})\n<class 'dict'>\n**kwargs: {'d': {5: 'po'}, 'j': 6}\nkwargs['d']--> {5: 'po'}\n"
     ]
    }
   ],
   "source": [
    "def funcion_args_kwargs(x, b=4, *args, **kwargs):\n",
    "    print(\"x:\", x)\n",
    "    print(\"b:\", b)\n",
    "    print(type(args))\n",
    "    print(\"*args:\", args)\n",
    "    print(type(kwargs))\n",
    "    print(\"**kwargs:\", kwargs)\n",
    "    print(\"kwargs['d']-->\", kwargs[\"d\"])\n",
    "\n",
    "k = {5:\"po\"}\n",
    "funcion_args_kwargs(1, 2, 3, 999, k, d=k, j=6)"
   ]
  },
  {
   "cell_type": "code",
   "execution_count": null,
   "metadata": {},
   "outputs": [],
   "source": []
  }
 ],
 "metadata": {
  "language_info": {
   "name": "python",
   "codemirror_mode": {
    "name": "ipython",
    "version": 3
   },
   "version": "3.6.4"
  },
  "orig_nbformat": 2,
  "file_extension": ".py",
  "mimetype": "text/x-python",
  "name": "python",
  "npconvert_exporter": "python",
  "pygments_lexer": "ipython3",
  "version": 3,
  "kernelspec": {
   "name": "python36464bitc2077ed07ea84d23aa5b518d224882ab",
   "display_name": "Python 3.6.4 64-bit"
  },
  "metadata": {
   "interpreter": {
    "hash": "5c4d2f1fdcd3716c7a5eea90ad07be30193490dd4e63617705244f5fd89ea793"
   }
  }
 },
 "nbformat": 4,
 "nbformat_minor": 2
}