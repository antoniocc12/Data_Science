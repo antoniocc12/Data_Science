{
 "metadata": {
  "language_info": {
   "codemirror_mode": {
    "name": "ipython",
    "version": 3
   },
   "file_extension": ".py",
   "mimetype": "text/x-python",
   "name": "python",
   "nbconvert_exporter": "python",
   "pygments_lexer": "ipython3",
   "version": "3.6.4"
  },
  "orig_nbformat": 2,
  "kernelspec": {
   "name": "python36464bitc2077ed07ea84d23aa5b518d224882ab",
   "display_name": "Python 3.6.4 64-bit"
  },
  "metadata": {
   "interpreter": {
    "hash": "5c4d2f1fdcd3716c7a5eea90ad07be30193490dd4e63617705244f5fd89ea793"
   }
  }
 },
 "nbformat": 4,
 "nbformat_minor": 2,
 "cells": [
  {
   "cell_type": "code",
   "execution_count": 3,
   "metadata": {},
   "outputs": [
    {
     "output_type": "stream",
     "name": "stdout",
     "text": [
      "99\n"
     ]
    }
   ],
   "source": [
    "x = 99\n",
    "def funcion():\n",
    "    # variable LOCAL \n",
    "    x = 2\n",
    "    return 2\n",
    "\n",
    "funcion()\n",
    "print(x)"
   ]
  },
  {
   "cell_type": "code",
   "execution_count": 4,
   "metadata": {},
   "outputs": [
    {
     "output_type": "stream",
     "name": "stdout",
     "text": [
      "2\n"
     ]
    }
   ],
   "source": [
    "x = 99\n",
    "def funcion():\n",
    "    # variable Global\n",
    "    global x \n",
    "    x = 2\n",
    "    return 2\n",
    "\n",
    "funcion()\n",
    "print(x)"
   ]
  },
  {
   "cell_type": "code",
   "execution_count": 5,
   "metadata": {},
   "outputs": [
    {
     "output_type": "error",
     "ename": "SyntaxError",
     "evalue": "name 'x' is assigned to before global declaration (<ipython-input-5-594cce3ff38a>, line 8)",
     "traceback": [
      "\u001b[1;36m  File \u001b[1;32m\"<ipython-input-5-594cce3ff38a>\"\u001b[1;36m, line \u001b[1;32m8\u001b[0m\n\u001b[1;33m    funcion()\u001b[0m\n\u001b[1;37m             \n^\u001b[0m\n\u001b[1;31mSyntaxError\u001b[0m\u001b[1;31m:\u001b[0m name 'x' is assigned to before global declaration\n"
     ]
    }
   ],
   "source": [
    "x = 99\n",
    "def funcion():\n",
    "    # variable Global\n",
    "    x = 7\n",
    "    global x \n",
    "    x = 2\n",
    "\n",
    "funcion()\n",
    "print(x)"
   ]
  },
  {
   "cell_type": "code",
   "execution_count": 6,
   "metadata": {},
   "outputs": [
    {
     "output_type": "stream",
     "name": "stdout",
     "text": [
      "l1: [0, 1, 2, 'AS']\nx: 2\n"
     ]
    }
   ],
   "source": [
    "x = 99\n",
    "l1 = [0, 1, 2]\n",
    "def funcion(lista):\n",
    "    # variable Global\n",
    "    global x \n",
    "    x = 2\n",
    "    lista.append(\"AS\")\n",
    "\n",
    "funcion(lista=l1)\n",
    "print(\"l1:\", l1)\n",
    "print(\"x:\", x)"
   ]
  },
  {
   "cell_type": "code",
   "execution_count": 10,
   "metadata": {},
   "outputs": [
    {
     "output_type": "stream",
     "name": "stdout",
     "text": [
      "l1: 1\nx: 2\n"
     ]
    }
   ],
   "source": [
    "x = 99\n",
    "l1 = [0, 1, 2]\n",
    "def funcion(lista):\n",
    "    # variable Global\n",
    "    global x\n",
    "    global l1\n",
    "    x = 2\n",
    "    lista.append(\"AS\")\n",
    "    l1 = 1\n",
    "    \n",
    "\n",
    "funcion(lista=l1)\n",
    "print(\"l1:\", l1)\n",
    "print(\"x:\", x)"
   ]
  },
  {
   "cell_type": "code",
   "execution_count": 13,
   "metadata": {},
   "outputs": [
    {
     "output_type": "stream",
     "name": "stdout",
     "text": [
      "l1: None\nx: 2\n"
     ]
    }
   ],
   "source": [
    "x = 99\n",
    "l1 = [0, 1, 2]\n",
    "def funcion(lista):\n",
    "    # variable Global\n",
    "    global x\n",
    "    global l1\n",
    "    x = 2\n",
    "    l1 = lista.append(\"AS\")\n",
    "    \n",
    "funcion(lista=l1)\n",
    "print(\"l1:\", l1)\n",
    "print(\"x:\", x)"
   ]
  },
  {
   "cell_type": "code",
   "execution_count": 17,
   "metadata": {},
   "outputs": [
    {
     "output_type": "stream",
     "name": "stdout",
     "text": [
      "l1 dentro de funcion 2: None\nl1: [0, 1, 2, 'AS']\nx: 2\n"
     ]
    }
   ],
   "source": [
    "x = 99\n",
    "l1 = [0, 1, 2]\n",
    "def funcion(lista):\n",
    "    # variable Global\n",
    "    global x\n",
    "    x = 2\n",
    "    l1 = lista.append(\"AS\")\n",
    "    print(\"l1 dentro de funcion 2:\", l1)\n",
    "    \n",
    "funcion(lista=l1)\n",
    "print(\"l1:\", l1)\n",
    "print(\"x:\", x)"
   ]
  },
  {
   "cell_type": "code",
   "execution_count": 20,
   "metadata": {},
   "outputs": [
    {
     "output_type": "stream",
     "name": "stdout",
     "text": [
      "l1 dentro de funcion 1: [0, 1, 2, 'AS']\nlista dentro de funcion 1: [0, 1, 2, 'AS']\nl1 dentro de funcion 2: None\nlista dentro de funcion 2: [0, 1, 2, 'AS', 'AS']\nl1: None\nx: 2\n"
     ]
    }
   ],
   "source": [
    "x = 99\n",
    "l1 = [0, 1, 2]\n",
    "def funcion(lista):\n",
    "    # variable Global\n",
    "    global x, l1\n",
    "    x = 2\n",
    "    lista.append(\"AS\")\n",
    "    print(\"l1 dentro de funcion 1:\", l1)\n",
    "    print(\"lista dentro de funcion 1:\", lista)\n",
    "    l1 = lista.append(\"AS\")\n",
    "    print(\"l1 dentro de funcion 2:\", l1)\n",
    "    print(\"lista dentro de funcion 2:\", lista)\n",
    "    \n",
    "funcion(lista=l1)\n",
    "print(\"l1:\", l1)\n",
    "print(\"x:\", x)"
   ]
  },
  {
   "cell_type": "code",
   "execution_count": 22,
   "metadata": {},
   "outputs": [
    {
     "output_type": "stream",
     "name": "stdout",
     "text": [
      "lista dentro de funcion 1: [0, 1, 2, 'AS']\nl1 dentro de funcion 2: None\nlista dentro de funcion 2: [0, 1, 2, 'AS', 'AS']\nl1 final: [0, 1, 2, 'AS', 'AS']\nx: 2\n"
     ]
    }
   ],
   "source": [
    "# Podemos modificar variables globales (fuera de la función) sin tener que utilizar la palabra reservada 'global'\n",
    "\n",
    "x = 99\n",
    "l1 = [0, 1, 2]\n",
    "def funcion(lista):\n",
    "    x = 2\n",
    "    lista.append(\"AS\")\n",
    "    print(\"lista dentro de funcion 1:\", lista)\n",
    "    l1 = lista.append(\"AS\")\n",
    "    print(\"l1 dentro de funcion 2:\", l1)\n",
    "    print(\"lista dentro de funcion 2:\", lista)\n",
    "    return x\n",
    "\n",
    "x = funcion(lista=l1)\n",
    "print(\"l1 final:\", l1)\n",
    "print(\"x:\", x)"
   ]
  },
  {
   "cell_type": "code",
   "execution_count": null,
   "metadata": {},
   "outputs": [],
   "source": []
  }
 ]
}