{
 "cells": [
  {
   "cell_type": "markdown",
   "metadata": {},
   "source": [
    "Parámetros *args y *kwargs en Python"
   ]
  },
  {
   "cell_type": "code",
   "execution_count": 1,
   "metadata": {},
   "outputs": [],
   "source": [
    "def nombre_f():\n",
    "    return 2\n",
    "    "
   ]
  },
  {
   "cell_type": "code",
   "execution_count": null,
   "metadata": {},
   "outputs": [],
   "source": [
    "def nombre_f_args(arg1, arg2, arg3=3):\n",
    "    return arg3\n",
    "    "
   ]
  },
  {
   "cell_type": "code",
   "execution_count": 2,
   "metadata": {},
   "outputs": [
    {
     "output_type": "stream",
     "name": "stdout",
     "text": [
      "<class 'tuple'>\n(2, ['g', 'h'], 9, 'j')\n"
     ]
    }
   ],
   "source": [
    "def nombre_args(*args):  #se pone args o cualquier otra cosa, con poner un asterisco nos estamos poniendo cualquier objeto\n",
    "    print(type(args))\n",
    "    print(args)\n",
    "\n",
    "x = 2\n",
    "y = [\"g\", \"h\"]\n",
    "nombre_args(x, y, 9, \"j\") #estamos pasando  argumentos que esta funcion a priori no tiene, por eso todos esos argumentos salen"
   ]
  },
  {
   "cell_type": "code",
   "execution_count": 3,
   "metadata": {},
   "outputs": [
    {
     "output_type": "execute_result",
     "data": {
      "text/plain": [
       "12"
      ]
     },
     "metadata": {},
     "execution_count": 3
    }
   ],
   "source": [
    "t = (2, 4, 6)\n",
    "sum(t)"
   ]
  },
  {
   "cell_type": "code",
   "execution_count": 5,
   "metadata": {},
   "outputs": [
    {
     "output_type": "stream",
     "name": "stdout",
     "text": [
      "5679\n"
     ]
    }
   ],
   "source": [
    "# La logica que tiene es que no tenga que mandarle un numero definido de argumentos si no poner los que quiera\n",
    "def realiza_suma_numeros(*args): \n",
    "    print(sum(args))\n",
    "\n",
    "realiza_suma_numeros(7, 222, 9999, -4549)\n"
   ]
  },
  {
   "cell_type": "code",
   "execution_count": 6,
   "metadata": {},
   "outputs": [
    {
     "output_type": "stream",
     "name": "stdout",
     "text": [
      "x: 7\n*args: (222, 9999, -4549)\n5672\n"
     ]
    }
   ],
   "source": [
    "def realiza_suma_numeros(x, *args):\n",
    "    print(\"x:\", x)\n",
    "    print(\"*args:\", args)\n",
    "    print(sum(args))\n",
    "\n",
    "realiza_suma_numeros(7, 222, 9999, -4549)  #el parentesis es una tupla de numeros. Si nosotros solo dejamos el 7 no dará error por que estamos satisfaciendo lo obligatorio\n"
   ]
  },
  {
   "cell_type": "code",
   "execution_count": 7,
   "metadata": {},
   "outputs": [
    {
     "output_type": "error",
     "ename": "TypeError",
     "evalue": "realiza_suma_numeros() got an unexpected keyword argument 'a'",
     "traceback": [
      "\u001b[1;31m---------------------------------------------------------------------------\u001b[0m",
      "\u001b[1;31mTypeError\u001b[0m                                 Traceback (most recent call last)",
      "\u001b[1;32m<ipython-input-7-e9672a4e9038>\u001b[0m in \u001b[0;36m<module>\u001b[1;34m\u001b[0m\n\u001b[0;32m      1\u001b[0m \u001b[1;31m#limitacion con args la unica forma de llamar a la funcion es utilizar una misma forma de pasar los numeros, no ponemos asignar ningun nombre de variables\u001b[0m\u001b[1;33m\u001b[0m\u001b[1;33m\u001b[0m\u001b[1;33m\u001b[0m\u001b[0m\n\u001b[1;32m----> 2\u001b[1;33m \u001b[0mrealiza_suma_numeros\u001b[0m\u001b[1;33m(\u001b[0m\u001b[0mx\u001b[0m\u001b[1;33m=\u001b[0m\u001b[1;36m7\u001b[0m\u001b[1;33m,\u001b[0m \u001b[0ma\u001b[0m\u001b[1;33m=\u001b[0m\u001b[1;36m8\u001b[0m\u001b[1;33m)\u001b[0m\u001b[1;33m\u001b[0m\u001b[1;33m\u001b[0m\u001b[0m\n\u001b[0m",
      "\u001b[1;31mTypeError\u001b[0m: realiza_suma_numeros() got an unexpected keyword argument 'a'"
     ]
    }
   ],
   "source": [
    "#limitacion con args la unica forma de llamar a la funcion es utilizar una misma forma de pasar los numeros, no ponemos asignar ningun nombre de variables\n",
    "realiza_suma_numeros(x=7, a=8)"
   ]
  },
  {
   "cell_type": "code",
   "execution_count": 8,
   "metadata": {},
   "outputs": [
    {
     "output_type": "error",
     "ename": "SyntaxError",
     "evalue": "positional argument follows keyword argument (<ipython-input-8-3e43c2c999f9>, line 2)",
     "traceback": [
      "\u001b[1;36m  File \u001b[1;32m\"<ipython-input-8-3e43c2c999f9>\"\u001b[1;36m, line \u001b[1;32m2\u001b[0m\n\u001b[1;33m    realiza_suma_numeros(x=7, 9, 5)\u001b[0m\n\u001b[1;37m                             ^\u001b[0m\n\u001b[1;31mSyntaxError\u001b[0m\u001b[1;31m:\u001b[0m positional argument follows keyword argument\n"
     ]
    }
   ],
   "source": [
    "#limitacion con args la unica forma de llamar a la funcion es utilizar una misma forma de pasar los numeros, no ponemos asignar ningun nombre de variables\n",
    "realiza_suma_numeros(x=7, 9, 5) #esto no se puede hacer, por que tienes que asignar valores despues de x si ya asignasete uno"
   ]
  },
  {
   "cell_type": "code",
   "execution_count": null,
   "metadata": {},
   "outputs": [],
   "source": [
    "#Cuando utilizamos args no podemos asignar ningun nombre de variable\n",
    "# *args "
   ]
  },
  {
   "source": [
    "### KWARGS"
   ],
   "cell_type": "markdown",
   "metadata": {}
  },
  {
   "cell_type": "code",
   "execution_count": 10,
   "metadata": {},
   "outputs": [
    {
     "output_type": "stream",
     "name": "stdout",
     "text": [
      "<class 'dict'>\n{'x': 2, 'p': 3}\n"
     ]
    }
   ],
   "source": [
    "def funcion_kwargs(**kwargs): #el nombre que pongo despues de los ** o una estrellita no importa el nombre que vaya por que los asteriscos ya representan esas variables\n",
    "    print(type(kwargs))\n",
    "    print(kwargs)\n",
    "\n",
    "#kwargs no permite llamar a la funcion sin nombre de variable.Kwargs es un diccionario que permite guardar. Necesitas asignarle un nombre a la variable al llamar a la funcion para que se asigne a al kwargs\n",
    "\n",
    "funcion_kwargs(x=2, p=3)\n"
   ]
  },
  {
   "cell_type": "code",
   "execution_count": 11,
   "metadata": {},
   "outputs": [
    {
     "output_type": "stream",
     "name": "stdout",
     "text": [
      "x: 2\n<class 'dict'>\n{'p': 3}\n"
     ]
    }
   ],
   "source": [
    "def funcion_kwargs(x, **kwargs):\n",
    "    print(\"x:\", x)\n",
    "    print(type(kwargs))\n",
    "    print(kwargs)\n",
    "\n",
    "funcion_kwargs(x=2, p=3)"
   ]
  },
  {
   "cell_type": "code",
   "execution_count": 13,
   "metadata": {},
   "outputs": [
    {
     "output_type": "stream",
     "name": "stdout",
     "text": [
      "x: 2\n<class 'dict'>\n{'p': 3, 's': [-8, -9]}\n"
     ]
    }
   ],
   "source": [
    "def funcion_kwargs(x, b=4, **kwargs):\n",
    "    print(\"x:\", x)\n",
    "    print(type(kwargs))\n",
    "    print(kwargs)\n",
    "\n",
    "funcion_kwargs(2, p=3, s=[-8, -9])"
   ]
  },
  {
   "cell_type": "code",
   "execution_count": null,
   "metadata": {},
   "outputs": [],
   "source": [
    "def funcion_kwargs(x, b=4, **kwargs):\n",
    "    print(\"x:\", x)\n",
    "    print(type(kwargs))\n",
    "    print(kwargs)\n",
    "\n",
    "funcion_kwargs(2, p=3, s=[-8, -9])"
   ]
  },
  {
   "cell_type": "code",
   "execution_count": 15,
   "metadata": {},
   "outputs": [
    {
     "output_type": "stream",
     "name": "stdout",
     "text": [
      "x: 2\nb: -1\n<class 'dict'>\n{'p': 3, 's': [-8, -9]}\n"
     ]
    }
   ],
   "source": [
    "def funcion_kwargs(x, b=4, **kwargs):\n",
    "    print(\"x:\", x)\n",
    "    print(\"b:\", b)\n",
    "    print(type(kwargs))\n",
    "    print(kwargs)\n",
    "\n",
    "funcion_kwargs(2, -1,  p=3, s=[-8, -9]) # aqui el segundo valor se va a ir a la b por que a pesar qeu ya le  hemos dado un valor, igual se asigna a la b por que es el segundo valor que tengo en la función, y no le he asignado ningun nombre de variable por eso va al nombre de la variable siguiente que tiene x "
   ]
  },
  {
   "cell_type": "code",
   "execution_count": 17,
   "metadata": {},
   "outputs": [
    {
     "output_type": "error",
     "ename": "SyntaxError",
     "evalue": "invalid syntax (<ipython-input-17-e99cafe2caf8>, line 7)",
     "traceback": [
      "\u001b[1;36m  File \u001b[1;32m\"<ipython-input-17-e99cafe2caf8>\"\u001b[1;36m, line \u001b[1;32m7\u001b[0m\n\u001b[1;33m    funcion_kwargs(2, -1, 9999  p=3, s=[-8, -9]) # aqui da error al poner 9999 por que no tiene asignado un nombre de variable y no hay otra variable obligatoria declarada anteriormente.\u001b[0m\n\u001b[1;37m                                ^\u001b[0m\n\u001b[1;31mSyntaxError\u001b[0m\u001b[1;31m:\u001b[0m invalid syntax\n"
     ]
    }
   ],
   "source": [
    "def funcion_kwargs(x, b=4, **kwargs):\n",
    "    print(\"x:\", x)\n",
    "    print(\"b:\", b)\n",
    "    print(type(kwargs))\n",
    "    print(kwargs)\n",
    "\n",
    "funcion_kwargs(2, -1, 9999  p=3, s=[-8, -9]) # aqui da error al poner 9999 por que no tiene asignado un nombre de variable y no hay otra variable obligatoria declarada anteriormente."
   ]
  },
  {
   "source": [
    "### *args & **kwargs"
   ],
   "cell_type": "markdown",
   "metadata": {}
  },
  {
   "cell_type": "code",
   "execution_count": 39,
   "metadata": {},
   "outputs": [
    {
     "output_type": "stream",
     "name": "stdout",
     "text": [
      "x: 1\nb: 4\n<class 'tuple'>\n*args: ()\n<class 'dict'>\n**kwargs: {}\n"
     ]
    }
   ],
   "source": [
    "# Si swe utilizan *args y **kwargs, se pone primero *args(un asteristo) anges que **kwargs (dos asteriscos)\n",
    "\n",
    "def funcion_args_kwargs(x, b=4, *args, **kwargs):\n",
    "    print(\"x:\", x)\n",
    "    print(\"b:\", b)\n",
    "    print(type(args))\n",
    "    print(\"*args:\", args)\n",
    "    print(type(kwargs))\n",
    "    print(\"**kwargs:\", kwargs)\n",
    "    \n",
    "\n",
    "funcion_args_kwargs(1)  #aqui va a funcionar por que  le estoy dando un valor a x ya que el resto de los valores es opcional, "
   ]
  },
  {
   "cell_type": "code",
   "execution_count": 40,
   "metadata": {},
   "outputs": [
    {
     "output_type": "stream",
     "name": "stdout",
     "text": [
      "x: 1\nb: 4\n<class 'tuple'>\n*args: ()\n<class 'dict'>\n**kwargs: {'k': 2}\n"
     ]
    }
   ],
   "source": [
    "funcion_args_kwargs(x=1, k=2) #aqui va al diccionario por que le estoy dando nombre de variable"
   ]
  },
  {
   "cell_type": "code",
   "execution_count": 41,
   "metadata": {},
   "outputs": [
    {
     "output_type": "stream",
     "name": "stdout",
     "text": [
      "x: 1\nb: 2\n<class 'tuple'>\n*args: (3,)\n<class 'dict'>\n**kwargs: {}\n"
     ]
    }
   ],
   "source": [
    "#ARGS NO ADMINE UN NOMBRE DE VARIABLE, ESA ES LA DIFERENCIA CON KWARGS, POR ESO AHI SE ASIGNA \n",
    "funcion_args_kwargs(1, 2, 3)"
   ]
  },
  {
   "cell_type": "code",
   "execution_count": 42,
   "metadata": {},
   "outputs": [
    {
     "output_type": "stream",
     "name": "stdout",
     "text": [
      "x: 1\nb: 2\n<class 'tuple'>\n*args: ()\n<class 'dict'>\n**kwargs: {'j': 3}\n"
     ]
    }
   ],
   "source": [
    "funcion_args_kwargs(1, 2, j=3)"
   ]
  },
  {
   "cell_type": "code",
   "execution_count": 43,
   "metadata": {},
   "outputs": [
    {
     "output_type": "stream",
     "name": "stdout",
     "text": [
      "x: 1\nb: 2\n<class 'tuple'>\n*args: (3, 999)\n<class 'dict'>\n**kwargs: {'j': 8}\n"
     ]
    }
   ],
   "source": [
    "funcion_args_kwargs(1, 2, 3, 999, j=8)"
   ]
  },
  {
   "cell_type": "code",
   "execution_count": 44,
   "metadata": {},
   "outputs": [
    {
     "output_type": "stream",
     "name": "stdout",
     "text": [
      "x: 1\nb: 2\n<class 'tuple'>\n*args: (3, 999, {5: 'po'})\n<class 'dict'>\n**kwargs: {'d': {5: 'po'}, 'j': 8}\n"
     ]
    }
   ],
   "source": [
    "d = {5: \"po\"}\n",
    "funcion_args_kwargs(1, 2, 3, 999, d, d=d, j=8)"
   ]
  },
  {
   "cell_type": "code",
   "execution_count": 48,
   "metadata": {},
   "outputs": [
    {
     "output_type": "stream",
     "name": "stdout",
     "text": [
      "x: 1\nb: 2\n<class 'tuple'>\n*args: (3, 999, {5: 'po'})\n<class 'dict'>\n**kwargs: {'d': {5: 'po'}, 'j': 8}\nkwargs['d']---> {5: 'po'}\n"
     ]
    }
   ],
   "source": [
    "def funcion_args_kwargs(x, b=4, *args, **kwargs):\n",
    "    print(\"x:\", x)\n",
    "    print(\"b:\", b)\n",
    "    print(type(args))\n",
    "    print(\"*args:\", args)\n",
    "    print(type(kwargs))\n",
    "    print(\"**kwargs:\", kwargs)\n",
    "    print(\"kwargs['d']--->\", kwargs[\"d\"]) # esto funcionan pero al usar una comilla distinta por error de sintaxis por eso no funcionaba pero si le cambio alguna, ahi si sirve\n",
    "\n",
    "d = {5: \"po\"}\n",
    "funcion_args_kwargs(1, 2, 3, 999, d, d=d, j=8)\n",
    "    "
   ]
  },
  {
   "cell_type": "code",
   "execution_count": null,
   "metadata": {},
   "outputs": [],
   "source": []
  }
 ],
 "metadata": {
  "language_info": {
   "name": "python",
   "codemirror_mode": {
    "name": "ipython",
    "version": 3
   },
   "version": "3.7.4"
  },
  "orig_nbformat": 2,
  "file_extension": ".py",
  "mimetype": "text/x-python",
  "name": "python",
  "npconvert_exporter": "python",
  "pygments_lexer": "ipython3",
  "version": 3,
  "kernelspec": {
   "name": "python374jvsc74a57bd0a9b83ec4160fc914f5169c2fc0bc9ab1c02e189a457abfa966969b692f6336e9",
   "display_name": "Python 3.7.4 64-bit"
  },
  "metadata": {
   "interpreter": {
    "hash": "a9b83ec4160fc914f5169c2fc0bc9ab1c02e189a457abfa966969b692f6336e9"
   }
  }
 },
 "nbformat": 4,
 "nbformat_minor": 2
}