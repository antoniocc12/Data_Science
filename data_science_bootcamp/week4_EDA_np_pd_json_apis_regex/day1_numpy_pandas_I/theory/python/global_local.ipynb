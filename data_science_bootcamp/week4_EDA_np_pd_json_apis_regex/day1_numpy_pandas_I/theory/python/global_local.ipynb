{
 "metadata": {
  "language_info": {
   "codemirror_mode": {
    "name": "ipython",
    "version": 3
   },
   "file_extension": ".py",
   "mimetype": "text/x-python",
   "name": "python",
   "nbconvert_exporter": "python",
   "pygments_lexer": "ipython3",
   "version": "3.7.4"
  },
  "orig_nbformat": 2,
  "kernelspec": {
   "name": "python374jvsc74a57bd0a9b83ec4160fc914f5169c2fc0bc9ab1c02e189a457abfa966969b692f6336e9",
   "display_name": "Python 3.7.4 64-bit"
  },
  "metadata": {
   "interpreter": {
    "hash": "a9b83ec4160fc914f5169c2fc0bc9ab1c02e189a457abfa966969b692f6336e9"
   }
  }
 },
 "nbformat": 4,
 "nbformat_minor": 2,
 "cells": [
  {
   "cell_type": "code",
   "execution_count": 1,
   "metadata": {},
   "outputs": [
    {
     "output_type": "stream",
     "name": "stdout",
     "text": [
      "99\n"
     ]
    }
   ],
   "source": [
    "x = 99\n",
    "def funcion():\n",
    "    # variable LOCAL, no existe fuera\n",
    "    X = 2\n",
    "    return 2\n",
    "\n",
    "funcion()\n",
    "print(x)\n"
   ]
  },
  {
   "cell_type": "code",
   "execution_count": 5,
   "metadata": {},
   "outputs": [
    {
     "output_type": "stream",
     "name": "stdout",
     "text": [
      "2\n2\n"
     ]
    }
   ],
   "source": [
    "\n",
    "\n",
    "def funcion():\n",
    "    global x # se pone este global para que sirva esta x local, y sea a global. El global va al principio de la funcnion\n",
    "    x = 2\n",
    "    print(x)\n",
    "\n",
    "\n",
    "funcion()\n",
    "print(x)"
   ]
  },
  {
   "cell_type": "code",
   "execution_count": 9,
   "metadata": {},
   "outputs": [
    {
     "output_type": "stream",
     "name": "stdout",
     "text": [
      "l1: [0, 1, 2, 'AS']\nx: 99\n"
     ]
    }
   ],
   "source": [
    "x = 99\n",
    "l1 = [0, 1, 2]\n",
    "def funcion(lista):\n",
    "    # variable global\n",
    "    global x \n",
    "    X = 2\n",
    "    lista.append(\"AS\")\n",
    "\n",
    "funcion(lista=l1)\n",
    "print(\"l1:\", l1)\n",
    "print(\"x:\", x)"
   ]
  },
  {
   "cell_type": "code",
   "execution_count": 10,
   "metadata": {},
   "outputs": [
    {
     "output_type": "stream",
     "name": "stdout",
     "text": [
      "l1: [0, 1, 2, 'AS']\nx: 99\n"
     ]
    }
   ],
   "source": [
    "x = 99\n",
    "l1 = [0, 1, 2]\n",
    "def funcion(lista):\n",
    "    # variable global\n",
    "    global x \n",
    "    X = 2\n",
    "    lista.append(\"AS\")\n",
    "    lista = l1 #esto no va a cambiar mi variable local, a menos que yo le ponga global\n",
    "funcion(lista=l1)\n",
    "print(\"l1:\", l1)\n",
    "print(\"x:\", x)"
   ]
  },
  {
   "cell_type": "code",
   "execution_count": 12,
   "metadata": {},
   "outputs": [
    {
     "output_type": "stream",
     "name": "stdout",
     "text": [
      "l1: 1\nx: 99\n"
     ]
    }
   ],
   "source": [
    "x = 99\n",
    "l1 = [0, 1, 2]\n",
    "def funcion(lista):\n",
    "    # variable global\n",
    "    global x\n",
    "    global l1\n",
    "    X = 2\n",
    "    lista.append(\"AS\")\n",
    "    l1 = 1 #aqui si cambia la lista, por que le pongo global l1 y ademas estampos asignando un nuevo valor \n",
    "funcion(lista=l1)\n",
    "print(\"l1:\", l1)\n",
    "print(\"x:\", x)"
   ]
  },
  {
   "cell_type": "code",
   "execution_count": 13,
   "metadata": {},
   "outputs": [
    {
     "output_type": "stream",
     "name": "stdout",
     "text": [
      "l1: None\nx: 99\n"
     ]
    }
   ],
   "source": [
    "x = 99\n",
    "l1 = [0, 1, 2]\n",
    "def funcion(lista):\n",
    "    # variable global\n",
    "    global x\n",
    "    global l1\n",
    "    X = 2\n",
    "    l1 = lista.append(\"AS\") #es none por que hay funciones que devuelven none, hay funciones que si actuan sobre una variable local, pero como estamos asignandolo que devuelve la función append, sale none\n",
    "    \n",
    "funcion(lista=l1)\n",
    "print(\"l1:\", l1)\n",
    "print(\"x:\", x)"
   ]
  },
  {
   "cell_type": "code",
   "execution_count": 15,
   "metadata": {},
   "outputs": [
    {
     "output_type": "stream",
     "name": "stdout",
     "text": [
      "l1 dentro de la funcion 2: None\nl1: [0, 1, 2, 'AS']\nx: 99\n"
     ]
    }
   ],
   "source": [
    "x = 99\n",
    "l1 = [0, 1, 2]\n",
    "def funcion(lista):\n",
    "    # variable global\n",
    "    global x\n",
    "  \n",
    "    X = 2\n",
    "    l1 = lista.append(\"AS\")  #aqui se cambia por que ocurre lo de despues del = y por eso el as si se pone, por que afecta a la variable l1 de afuera. Dentro de la función l1 vale none, pero fuera de la función vale lo otro.\n",
    "    print(\"l1 dentro de la funcion 2:\", l1)\n",
    "funcion(lista=l1)\n",
    "print(\"l1:\", l1)\n",
    "print(\"x:\", x)"
   ]
  },
  {
   "cell_type": "code",
   "execution_count": 16,
   "metadata": {},
   "outputs": [
    {
     "output_type": "stream",
     "name": "stdout",
     "text": [
      "l1 dentro de la funcion 2: None\nl1: None\nx: 99\n"
     ]
    }
   ],
   "source": [
    "x = 99\n",
    "l1 = [0, 1, 2]\n",
    "def funcion(lista):\n",
    "    # variable global\n",
    "    global x, l1\n",
    "  \n",
    "    X = 2\n",
    "    l1 = lista.append(\"AS\")  #aqui lo primero que hacemos es un append AS, pero despues a l1 le damos elvalor de lo que retorna la funcion append, y eso es l1. por eso en ambos casos vale none\n",
    "    print(\"l1 dentro de la funcion 2:\", l1)\n",
    "funcion(lista=l1)\n",
    "print(\"l1:\", l1)\n",
    "print(\"x:\", x)"
   ]
  },
  {
   "cell_type": "code",
   "execution_count": 17,
   "metadata": {},
   "outputs": [
    {
     "output_type": "stream",
     "name": "stdout",
     "text": [
      "l1 dentro de la funcion 1: [0, 1, 2, 'AS']\nl1 dentro de la funcion 2: None\nl1 dentro de la funcion 2: [0, 1, 2, 'AS', 'AS']\nl1: None\nx: 99\n"
     ]
    }
   ],
   "source": [
    "x = 99 #estamos modificando x y l1 en local sin usar global\n",
    "l1 = [0, 1, 2]\n",
    "def funcion(lista):\n",
    "    # variable global\n",
    "    global x, l1\n",
    "  \n",
    "    X = 2\n",
    "    lista.append(\"AS\")  \n",
    "    print(\"l1 dentro de la funcion 1:\", lista)\n",
    "    l1 = lista.append(\"AS\")  \n",
    "    print(\"l1 dentro de la funcion 2:\", l1)\n",
    "    print(\"l1 dentro de la funcion 2:\", lista)\n",
    "    return x\n",
    "\n",
    "x = funcion(lista=l1)\n",
    "\n",
    "print(\"l1:\", l1)\n",
    "print(\"x:\", x)"
   ]
  },
  {
   "cell_type": "code",
   "execution_count": 2,
   "metadata": {},
   "outputs": [
    {
     "output_type": "stream",
     "name": "stdout",
     "text": [
      "2\n24\n2\n"
     ]
    }
   ],
   "source": [
    "x = 2\n",
    "a = 10\n",
    "\n",
    "def funcion(x):\n",
    "    x = 7 + x + a\n",
    "    print(x)\n",
    "\n",
    "print(x)\n",
    "funcion(x=7)\n",
    "print(x)"
   ]
  },
  {
   "cell_type": "code",
   "execution_count": 11,
   "metadata": {},
   "outputs": [
    {
     "output_type": "stream",
     "name": "stdout",
     "text": [
      "2\nb: 14\n24\n2\n10\n"
     ]
    }
   ],
   "source": [
    "x = 2\n",
    "a = 10\n",
    "\n",
    "def funcion(x):\n",
    "    b = a + 4\n",
    "    print(\"b:\", b)\n",
    "    x = 7 + x + a\n",
    "    print(x)\n",
    "\n",
    "print(x)\n",
    "funcion(x=7)\n",
    "print(x)\n",
    "print(a)"
   ]
  },
  {
   "cell_type": "code",
   "execution_count": 12,
   "metadata": {},
   "outputs": [
    {
     "output_type": "stream",
     "name": "stdout",
     "text": [
      "2\na: 12\nb: 16\n26\n2\n12\n"
     ]
    }
   ],
   "source": [
    "x = 2\n",
    "a = 10\n",
    "\n",
    "def funcion(x):\n",
    "    global a\n",
    "    a = a + 2\n",
    "    b = a + 4\n",
    "    print(\"a:\", a)\n",
    "    print(\"b:\", b)\n",
    "    x = 7 + x + a\n",
    "    print(x)\n",
    "\n",
    "print(x)\n",
    "funcion(x=7)\n",
    "print(x)\n",
    "print(a)"
   ]
  },
  {
   "cell_type": "code",
   "execution_count": null,
   "metadata": {},
   "outputs": [],
   "source": []
  }
 ]
}