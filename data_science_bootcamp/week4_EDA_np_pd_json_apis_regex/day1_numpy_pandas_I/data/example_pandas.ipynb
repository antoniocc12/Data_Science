{
 "metadata": {
  "language_info": {
   "codemirror_mode": {
    "name": "ipython",
    "version": 3
   },
   "file_extension": ".py",
   "mimetype": "text/x-python",
   "name": "python",
   "nbconvert_exporter": "python",
   "pygments_lexer": "ipython3",
   "version": "3.6.4"
  },
  "orig_nbformat": 2,
  "kernelspec": {
   "name": "python36464bitc2077ed07ea84d23aa5b518d224882ab",
   "display_name": "Python 3.6.4 64-bit"
  },
  "metadata": {
   "interpreter": {
    "hash": "5c4d2f1fdcd3716c7a5eea90ad07be30193490dd4e63617705244f5fd89ea793"
   }
  }
 },
 "nbformat": 4,
 "nbformat_minor": 2,
 "cells": [
  {
   "cell_type": "code",
   "execution_count": 1,
   "metadata": {},
   "outputs": [],
   "source": [
    "import pandas as pd"
   ]
  },
  {
   "cell_type": "code",
   "execution_count": 4,
   "metadata": {},
   "outputs": [
    {
     "output_type": "execute_result",
     "data": {
      "text/plain": [
       "               STATION                                STATION_NAME      DATE  \\\n",
       "0    GHCND:USW00024233  SEATTLE TACOMA INTERNATIONAL AIRPORT WA US  20140101   \n",
       "1    GHCND:USW00024233  SEATTLE TACOMA INTERNATIONAL AIRPORT WA US  20140102   \n",
       "2    GHCND:USW00024233  SEATTLE TACOMA INTERNATIONAL AIRPORT WA US  20140103   \n",
       "3    GHCND:USW00024233  SEATTLE TACOMA INTERNATIONAL AIRPORT WA US  20140104   \n",
       "4    GHCND:USW00024233  SEATTLE TACOMA INTERNATIONAL AIRPORT WA US  20140105   \n",
       "..                 ...                                         ...       ...   \n",
       "360  GHCND:USW00024233  SEATTLE TACOMA INTERNATIONAL AIRPORT WA US  20141227   \n",
       "361  GHCND:USW00024233  SEATTLE TACOMA INTERNATIONAL AIRPORT WA US  20141228   \n",
       "362  GHCND:USW00024233  SEATTLE TACOMA INTERNATIONAL AIRPORT WA US  20141229   \n",
       "363  GHCND:USW00024233  SEATTLE TACOMA INTERNATIONAL AIRPORT WA US  20141230   \n",
       "364  GHCND:USW00024233  SEATTLE TACOMA INTERNATIONAL AIRPORT WA US  20141231   \n",
       "\n",
       "     PRCP  SNWD  SNOW  TMAX  TMIN  AWND  WDF2  WDF5  WSF2  WSF5  WT01  WT05  \\\n",
       "0       0     0     0    72    33    12   340   310    36    40 -9999 -9999   \n",
       "1      41     0     0   106    61    32   190   200    94   116 -9999 -9999   \n",
       "2      15     0     0    89    28    26    30    50    63    72     1 -9999   \n",
       "3       0     0     0    78     6    27    40    40    45    58     1 -9999   \n",
       "4       0     0     0    83    -5    37    10    10    67    76 -9999 -9999   \n",
       "..    ...   ...   ...   ...   ...   ...   ...   ...   ...   ...   ...   ...   \n",
       "360    33     0     0    94    44    49   210   210   112   161     1 -9999   \n",
       "361    41     0     0    67    28    18    50    30    58    72     1 -9999   \n",
       "362     0     0     0    61     6    43   350   350    76   103     1 -9999   \n",
       "363     0     0     0    33   -21    36    90    70    63    76 -9999 -9999   \n",
       "364     0     0     0    33   -27    30    30 -9999    58 -9999 -9999 -9999   \n",
       "\n",
       "     WT02  WT03  \n",
       "0   -9999 -9999  \n",
       "1   -9999 -9999  \n",
       "2   -9999 -9999  \n",
       "3   -9999 -9999  \n",
       "4   -9999 -9999  \n",
       "..    ...   ...  \n",
       "360 -9999 -9999  \n",
       "361 -9999 -9999  \n",
       "362 -9999 -9999  \n",
       "363 -9999 -9999  \n",
       "364 -9999 -9999  \n",
       "\n",
       "[365 rows x 17 columns]"
      ],
      "text/html": "<div>\n<style scoped>\n    .dataframe tbody tr th:only-of-type {\n        vertical-align: middle;\n    }\n\n    .dataframe tbody tr th {\n        vertical-align: top;\n    }\n\n    .dataframe thead th {\n        text-align: right;\n    }\n</style>\n<table border=\"1\" class=\"dataframe\">\n  <thead>\n    <tr style=\"text-align: right;\">\n      <th></th>\n      <th>STATION</th>\n      <th>STATION_NAME</th>\n      <th>DATE</th>\n      <th>PRCP</th>\n      <th>SNWD</th>\n      <th>SNOW</th>\n      <th>TMAX</th>\n      <th>TMIN</th>\n      <th>AWND</th>\n      <th>WDF2</th>\n      <th>WDF5</th>\n      <th>WSF2</th>\n      <th>WSF5</th>\n      <th>WT01</th>\n      <th>WT05</th>\n      <th>WT02</th>\n      <th>WT03</th>\n    </tr>\n  </thead>\n  <tbody>\n    <tr>\n      <th>0</th>\n      <td>GHCND:USW00024233</td>\n      <td>SEATTLE TACOMA INTERNATIONAL AIRPORT WA US</td>\n      <td>20140101</td>\n      <td>0</td>\n      <td>0</td>\n      <td>0</td>\n      <td>72</td>\n      <td>33</td>\n      <td>12</td>\n      <td>340</td>\n      <td>310</td>\n      <td>36</td>\n      <td>40</td>\n      <td>-9999</td>\n      <td>-9999</td>\n      <td>-9999</td>\n      <td>-9999</td>\n    </tr>\n    <tr>\n      <th>1</th>\n      <td>GHCND:USW00024233</td>\n      <td>SEATTLE TACOMA INTERNATIONAL AIRPORT WA US</td>\n      <td>20140102</td>\n      <td>41</td>\n      <td>0</td>\n      <td>0</td>\n      <td>106</td>\n      <td>61</td>\n      <td>32</td>\n      <td>190</td>\n      <td>200</td>\n      <td>94</td>\n      <td>116</td>\n      <td>-9999</td>\n      <td>-9999</td>\n      <td>-9999</td>\n      <td>-9999</td>\n    </tr>\n    <tr>\n      <th>2</th>\n      <td>GHCND:USW00024233</td>\n      <td>SEATTLE TACOMA INTERNATIONAL AIRPORT WA US</td>\n      <td>20140103</td>\n      <td>15</td>\n      <td>0</td>\n      <td>0</td>\n      <td>89</td>\n      <td>28</td>\n      <td>26</td>\n      <td>30</td>\n      <td>50</td>\n      <td>63</td>\n      <td>72</td>\n      <td>1</td>\n      <td>-9999</td>\n      <td>-9999</td>\n      <td>-9999</td>\n    </tr>\n    <tr>\n      <th>3</th>\n      <td>GHCND:USW00024233</td>\n      <td>SEATTLE TACOMA INTERNATIONAL AIRPORT WA US</td>\n      <td>20140104</td>\n      <td>0</td>\n      <td>0</td>\n      <td>0</td>\n      <td>78</td>\n      <td>6</td>\n      <td>27</td>\n      <td>40</td>\n      <td>40</td>\n      <td>45</td>\n      <td>58</td>\n      <td>1</td>\n      <td>-9999</td>\n      <td>-9999</td>\n      <td>-9999</td>\n    </tr>\n    <tr>\n      <th>4</th>\n      <td>GHCND:USW00024233</td>\n      <td>SEATTLE TACOMA INTERNATIONAL AIRPORT WA US</td>\n      <td>20140105</td>\n      <td>0</td>\n      <td>0</td>\n      <td>0</td>\n      <td>83</td>\n      <td>-5</td>\n      <td>37</td>\n      <td>10</td>\n      <td>10</td>\n      <td>67</td>\n      <td>76</td>\n      <td>-9999</td>\n      <td>-9999</td>\n      <td>-9999</td>\n      <td>-9999</td>\n    </tr>\n    <tr>\n      <th>...</th>\n      <td>...</td>\n      <td>...</td>\n      <td>...</td>\n      <td>...</td>\n      <td>...</td>\n      <td>...</td>\n      <td>...</td>\n      <td>...</td>\n      <td>...</td>\n      <td>...</td>\n      <td>...</td>\n      <td>...</td>\n      <td>...</td>\n      <td>...</td>\n      <td>...</td>\n      <td>...</td>\n      <td>...</td>\n    </tr>\n    <tr>\n      <th>360</th>\n      <td>GHCND:USW00024233</td>\n      <td>SEATTLE TACOMA INTERNATIONAL AIRPORT WA US</td>\n      <td>20141227</td>\n      <td>33</td>\n      <td>0</td>\n      <td>0</td>\n      <td>94</td>\n      <td>44</td>\n      <td>49</td>\n      <td>210</td>\n      <td>210</td>\n      <td>112</td>\n      <td>161</td>\n      <td>1</td>\n      <td>-9999</td>\n      <td>-9999</td>\n      <td>-9999</td>\n    </tr>\n    <tr>\n      <th>361</th>\n      <td>GHCND:USW00024233</td>\n      <td>SEATTLE TACOMA INTERNATIONAL AIRPORT WA US</td>\n      <td>20141228</td>\n      <td>41</td>\n      <td>0</td>\n      <td>0</td>\n      <td>67</td>\n      <td>28</td>\n      <td>18</td>\n      <td>50</td>\n      <td>30</td>\n      <td>58</td>\n      <td>72</td>\n      <td>1</td>\n      <td>-9999</td>\n      <td>-9999</td>\n      <td>-9999</td>\n    </tr>\n    <tr>\n      <th>362</th>\n      <td>GHCND:USW00024233</td>\n      <td>SEATTLE TACOMA INTERNATIONAL AIRPORT WA US</td>\n      <td>20141229</td>\n      <td>0</td>\n      <td>0</td>\n      <td>0</td>\n      <td>61</td>\n      <td>6</td>\n      <td>43</td>\n      <td>350</td>\n      <td>350</td>\n      <td>76</td>\n      <td>103</td>\n      <td>1</td>\n      <td>-9999</td>\n      <td>-9999</td>\n      <td>-9999</td>\n    </tr>\n    <tr>\n      <th>363</th>\n      <td>GHCND:USW00024233</td>\n      <td>SEATTLE TACOMA INTERNATIONAL AIRPORT WA US</td>\n      <td>20141230</td>\n      <td>0</td>\n      <td>0</td>\n      <td>0</td>\n      <td>33</td>\n      <td>-21</td>\n      <td>36</td>\n      <td>90</td>\n      <td>70</td>\n      <td>63</td>\n      <td>76</td>\n      <td>-9999</td>\n      <td>-9999</td>\n      <td>-9999</td>\n      <td>-9999</td>\n    </tr>\n    <tr>\n      <th>364</th>\n      <td>GHCND:USW00024233</td>\n      <td>SEATTLE TACOMA INTERNATIONAL AIRPORT WA US</td>\n      <td>20141231</td>\n      <td>0</td>\n      <td>0</td>\n      <td>0</td>\n      <td>33</td>\n      <td>-27</td>\n      <td>30</td>\n      <td>30</td>\n      <td>-9999</td>\n      <td>58</td>\n      <td>-9999</td>\n      <td>-9999</td>\n      <td>-9999</td>\n      <td>-9999</td>\n      <td>-9999</td>\n    </tr>\n  </tbody>\n</table>\n<p>365 rows × 17 columns</p>\n</div>"
     },
     "metadata": {},
     "execution_count": 4
    }
   ],
   "source": [
    "df = pd.read_csv(\"Seattle2014.csv\")\n",
    "type(df)\n",
    "df"
   ]
  },
  {
   "cell_type": "code",
   "execution_count": 5,
   "metadata": {},
   "outputs": [
    {
     "output_type": "execute_result",
     "data": {
      "text/plain": [
       "0       0\n",
       "1      41\n",
       "2      15\n",
       "3       0\n",
       "4       0\n",
       "       ..\n",
       "360    33\n",
       "361    41\n",
       "362     0\n",
       "363     0\n",
       "364     0\n",
       "Name: PRCP, Length: 365, dtype: int64"
      ]
     },
     "metadata": {},
     "execution_count": 5
    }
   ],
   "source": [
    "df[\"PRCP\"]"
   ]
  },
  {
   "cell_type": "code",
   "execution_count": 6,
   "metadata": {},
   "outputs": [
    {
     "output_type": "execute_result",
     "data": {
      "text/plain": [
       "pandas.core.series.Series"
      ]
     },
     "metadata": {},
     "execution_count": 6
    }
   ],
   "source": [
    "type(df[\"PRCP\"])"
   ]
  },
  {
   "cell_type": "code",
   "execution_count": 7,
   "metadata": {},
   "outputs": [
    {
     "output_type": "execute_result",
     "data": {
      "text/plain": [
       "array([  0,  41,  15,   0,   0,   3, 122,  97,  58,  43, 213,  15,   0,\n",
       "         0,   0,   0,   0,   0,   0,   0,   0,   5,   0,   0,   0,   0,\n",
       "         0,  89, 216,   0,  23,  20,   0,   0,   0,   0,   0,   0,  51,\n",
       "         5, 183, 170,  46,  18,  94, 117, 264, 145, 152,  10,  30,  28,\n",
       "        25,  61, 130,   3,   0,   0,   0,   5, 191, 107, 165, 467,  30,\n",
       "         0, 323,  43, 188,   0,   0,   5,  69,  81, 277,   3,   0,   5,\n",
       "         0,   0,   0,   0,   0,  41,  36,   3, 221, 140,   0,   0,   0,\n",
       "         0,  25,   0,  46,   0,   0,  46,   0,   0,   0,   0,   0,   0,\n",
       "         5, 109, 185,   0, 137,   0,  51, 142,  89, 124,   0,  33,  69,\n",
       "         0,   0,   0,   0,   0, 333, 160,  51,   0,   0, 137,  20,   5,\n",
       "         0,   0,   0,   0,   0,   0,   0,   0,   0,   0,   0,   0,  38,\n",
       "         0,  56,   0,   0,   0,   0,   0,   0,   0,   0,   0,   0,   0,\n",
       "         0,   0,   0,   0,   0,   0,  18,  64,   0,   5,  36,  13,   0,\n",
       "         8,   3,   0,   0,   0,   0,   0,   0,  18,  23,   0,   0,   0,\n",
       "         0,   0,   0,   0,   0,   0,   0,   0,   0,   0,   0,   0,   0,\n",
       "         0,   0,   0,   0,   0,   0,   0,   3, 193,   0,   0,   0,   0,\n",
       "         0,   0,   0,   0,   0,   5,   0,   0,   0,   0,   0,   0,   0,\n",
       "         0,   5, 127, 216,   0,  10,   0,   0,   0,   0,   0,   0,   0,\n",
       "         0,   0,   0,   0,   0,   0,   0,  84,  13,   0,  30,   0,   0,\n",
       "         0,   0,   0,   0,   0,   0,   0,   0,   0,   0,   0,   0,   5,\n",
       "         3,   0,   0,   0,   3, 183, 203,  43,  89,   0,   0,   8,   0,\n",
       "         0,   0,   0,   0,   0,   0,   0,   0,   0,   3,  74,   0,  76,\n",
       "        71,  86,   0,  33, 150,   0, 117,  10, 320,  94,  41,  61,  15,\n",
       "         8, 127,   5, 254, 170,   0,  18, 109,  41,  48,  41,   0,   0,\n",
       "        51,   0,   0,   0,   0,   0,   0,   0,   0,   0,   0,  36, 152,\n",
       "         5, 119,  13, 183,   3,  33, 343,  36,   0,   0,   0,   0,   8,\n",
       "        30,  74,   0,  91,  99, 130,  69,   0,   0,   0,   0,   0,  28,\n",
       "       130,  30, 196,   0,   0, 206,  53,   0,   0,  33,  41,   0,   0,\n",
       "         0], dtype=int64)"
      ]
     },
     "metadata": {},
     "execution_count": 7
    }
   ],
   "source": [
    "df[\"PRCP\"].values"
   ]
  },
  {
   "cell_type": "code",
   "execution_count": 8,
   "metadata": {},
   "outputs": [
    {
     "output_type": "execute_result",
     "data": {
      "text/plain": [
       "numpy.ndarray"
      ]
     },
     "metadata": {},
     "execution_count": 8
    }
   ],
   "source": [
    "type(df[\"PRCP\"].values)"
   ]
  },
  {
   "cell_type": "code",
   "execution_count": null,
   "metadata": {},
   "outputs": [],
   "source": []
  }
 ]
}