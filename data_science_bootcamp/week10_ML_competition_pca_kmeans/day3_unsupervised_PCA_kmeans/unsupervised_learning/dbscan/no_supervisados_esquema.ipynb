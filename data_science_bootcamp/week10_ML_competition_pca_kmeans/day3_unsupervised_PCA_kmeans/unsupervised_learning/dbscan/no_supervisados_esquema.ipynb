{
 "metadata": {
  "language_info": {
   "codemirror_mode": {
    "name": "ipython",
    "version": 3
   },
   "file_extension": ".py",
   "mimetype": "text/x-python",
   "name": "python",
   "nbconvert_exporter": "python",
   "pygments_lexer": "ipython3",
   "version": 3
  },
  "orig_nbformat": 4
 },
 "nbformat": 4,
 "nbformat_minor": 2,
 "cells": [
  {
   "source": [
    "### No supervisado:\n",
    "\n",
    "1. Algoritmos de clusterizacion\n",
    "2. Algoritmos para reducir la dimensionalidad\n",
    "\n",
    "### 1. Algoritmos de clusterizacion:\n",
    "\n",
    "- Kmeans: recibe un 'k' y busca 'k' clusters en los datos. \n",
    "Desventajas: La aleatoridad a la hora de encontrar esos clusters.\n",
    "    Para verlo, tenemos que comprobar la inercia  y el coeficiente de siluette para encontrar el mejor 'k'.\n",
    "\n",
    "- DBSCAN: algoritmo que busca clusters a partir de la densidad de las intancias teniendo en cuenta un épsilon y un 'min_samples'.\n",
    "Desventaja: Problema si las variables tienen diferentes magnitudes. Solución: Estandarizar/normalizar.\n",
    "Ventaja: No tiene tan en cuenta la aleatoriedad por que se basa en dos parámetros \n",
    "\n"
   ],
   "cell_type": "code",
   "metadata": {},
   "execution_count": null,
   "outputs": []
  },
  {
   "source": [
    "### 2. Algoritmos para reducir la dimensionalidad\n",
    "\n",
    "- PCA (Principal Component Analysis): Necesita el número de dimensiones al que quieres que baje el conjunto de datos original.\n",
    "Desventaja : Cada vez que bajes una dimension pierdes información con respecto a la dimensión superior\n",
    "Ventaja: 1. Disminuyes la complejidad de los datos. 2. Si bajas a la dimensión 2 o 3 puedes visualizar los datos y podrás encontrar visualmente grupos entre ellos. \n",
    "3. Permite la entrada de un valor relativo [0, 1] que representa el minímo porcentaje de inforamción que va a mantener antes de bajar a una dimension.\n",
    "\n",
    "-TSNE: Necesita el número de dimensioens al que queires que disminuya el conjunto de datos original.\n",
    "\n",
    "Desventaja: Cada vez que bajes una dimensión, pierdes información  \n"
   ],
   "cell_type": "code",
   "metadata": {},
   "execution_count": null,
   "outputs": []
  }
 ]
}