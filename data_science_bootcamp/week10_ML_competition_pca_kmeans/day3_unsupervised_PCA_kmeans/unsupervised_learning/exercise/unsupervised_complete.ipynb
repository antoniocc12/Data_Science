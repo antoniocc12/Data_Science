{
 "metadata": {
  "language_info": {
   "codemirror_mode": {
    "name": "ipython",
    "version": 3
   },
   "file_extension": ".py",
   "mimetype": "text/x-python",
   "name": "python",
   "nbconvert_exporter": "python",
   "pygments_lexer": "ipython3",
   "version": "3.7.4"
  },
  "orig_nbformat": 2,
  "kernelspec": {
   "name": "python3",
   "display_name": "Python 3.7.4 64-bit"
  },
  "metadata": {
   "interpreter": {
    "hash": "5c4d2f1fdcd3716c7a5eea90ad07be30193490dd4e63617705244f5fd89ea793"
   }
  },
  "interpreter": {
   "hash": "a9b83ec4160fc914f5169c2fc0bc9ab1c02e189a457abfa966969b692f6336e9"
  }
 },
 "nbformat": 4,
 "nbformat_minor": 2,
 "cells": [
  {
   "source": [
    "A partir de los datos de iris:\n",
    "\n",
    "Ejercicio 1:\n",
    "\n",
    "- Carga los datos originales\n",
    "- Utiliza PCA para reducir la dimensionalidad de los datos. No reemplaces X con el resultado, crea una nueva X_pca. Utiliza PCA(2) y otra con PCA(3)\n",
    "- Utiliza Kmeans para agrupar y predecir las clases de los nuevos datos.\n",
    "- Compara los resultados para PCA(2) y PCA(3) con las clases originales (y_real).\n",
    "- ¿Es mejor PCA(2) o PCA(3)?\n",
    "\n",
    "Ejercicio 2: \n",
    "\n",
    "- Repite el proceso con T-SNE y DBSCAN. ¿Cuál da mejores resultados?\n"
   ],
   "cell_type": "markdown",
   "metadata": {}
  },
  {
   "cell_type": "code",
   "execution_count": 60,
   "metadata": {},
   "outputs": [],
   "source": [
    "from sklearn.model_selection import train_test_split\n",
    "from sklearn import datasets\n",
    "\n",
    "iris = datasets.load_iris()\n",
    "X = iris.data\n",
    "y = iris.target\n"
   ]
  },
  {
   "source": [
    "Utiliza PCA para reducir la dimensionalidad de los datos. No reemplaces X con el resultado, crea una nueva X_pca. Utiliza PCA(2) y otra con PCA(3)"
   ],
   "cell_type": "markdown",
   "metadata": {}
  },
  {
   "cell_type": "code",
   "execution_count": 61,
   "metadata": {},
   "outputs": [],
   "source": [
    "## reducir la dimensionalidad de los datos PCA(2)\n",
    "\n",
    "from sklearn.decomposition import PCA\n",
    "\n",
    "pca_2 = PCA(n_components=2)\n",
    "\n",
    "X_pca_2 = pca_2.fit_transform(X)\n"
   ]
  },
  {
   "cell_type": "code",
   "execution_count": 62,
   "metadata": {},
   "outputs": [],
   "source": [
    "X_train, X_test, y_train, y_test = train_test_split(X_pca_2,\n",
    "                                                    y,\n",
    "                                                    test_size=0.2,\n",
    "                                                    random_state=42)"
   ]
  },
  {
   "source": [
    "Utiliza Kmeans para agrupar y predecir las clases de los nuevos datos."
   ],
   "cell_type": "markdown",
   "metadata": {}
  },
  {
   "cell_type": "code",
   "execution_count": 63,
   "metadata": {},
   "outputs": [],
   "source": [
    "from sklearn.cluster import KMeans\n",
    "k = 2\n",
    "kmeans_2 = KMeans(n_clusters=k)\n",
    "y_pred_2 = kmeans_2.fit_predict(X_train)\n",
    "clusters = kmeans_2.cluster_centers_\n"
   ]
  },
  {
   "cell_type": "code",
   "execution_count": 64,
   "metadata": {},
   "outputs": [
    {
     "output_type": "stream",
     "name": "stdout",
     "text": [
      "\nkmeans.labels_: [0 0 1 0 0 1 1 0 0 0 1 1 1 0 0 1 1 1 1 1 1 1 1 0 1 1 0 0 0 1 1 0 0 0 1 0 1\n 1 0 1 1 0 1 1 1 1 1 1 0 0 1 0 0 1 1 0 1 0 0 1 0 1 1 1 1 1 0 0 1 1 0 0 0 1\n 1 0 1 1 0 1 1 1 1 1 0 1 1 1 1 1 1 0 1 1 0 1 1 1 0 0 1 1 0 1 0 1 1 1 1 1 1\n 1 1 1 0 1 1 0 1 1]\npredict: [0 0 1 0 0 1 1 0 0 0 1 1 1 0 0 1 1 1 1 1 1 1 1 0 1 1 0 0 0 1 1 0 0 0 1 0 1\n 1 0 1 1 0 1 1 1 1 1 1 0 0 1 0 0 1 1 0 1 0 0 1 0 1 1 1 1 1 0 0 1 1 0 0 0 1\n 1 0 1 1 0 1 1 1 1 1 0 1 1 1 1 1 1 0 1 1 0 1 1 1 0 0 1 1 0 1 0 1 1 1 1 1 1\n 1 1 1 0 1 1 0 1 1]\nkmeans.cluster_centers_:\n [[-2.53014874  0.12194765]\n [ 1.34236055 -0.08778278]]\n"
     ]
    }
   ],
   "source": [
    "print(\"\\nkmeans.labels_:\", kmeans_2.labels_)\n",
    "print(\"predict:\", y_pred_2)\n",
    "print(\"kmeans.cluster_centers_:\\n\", clusters)"
   ]
  },
  {
   "source": [
    "Compara los resultados para PCA(2) y PCA(3) con las clases originales (y_real)."
   ],
   "cell_type": "markdown",
   "metadata": {}
  },
  {
   "cell_type": "code",
   "execution_count": 65,
   "metadata": {},
   "outputs": [
    {
     "output_type": "execute_result",
     "data": {
      "text/plain": [
       "110.03020207646931"
      ]
     },
     "metadata": {},
     "execution_count": 65
    }
   ],
   "source": [
    "kmeans_2.inertia_"
   ]
  },
  {
   "cell_type": "code",
   "execution_count": 66,
   "metadata": {},
   "outputs": [
    {
     "output_type": "execute_result",
     "data": {
      "text/plain": [
       "-110.03020207646931"
      ]
     },
     "metadata": {},
     "execution_count": 66
    }
   ],
   "source": [
    "kmeans_2.score(X_train)"
   ]
  },
  {
   "cell_type": "code",
   "execution_count": 67,
   "metadata": {},
   "outputs": [
    {
     "output_type": "execute_result",
     "data": {
      "text/plain": [
       "0.65"
      ]
     },
     "metadata": {},
     "execution_count": 67
    }
   ],
   "source": [
    "from sklearn.metrics import accuracy_score\n",
    "accuracy_score(y_train, y_pred_2)"
   ]
  },
  {
   "source": [
    "Compara los resultados para PCA(2) y PCA(3) con las clases originales (y_real)."
   ],
   "cell_type": "markdown",
   "metadata": {}
  },
  {
   "cell_type": "code",
   "execution_count": 68,
   "metadata": {},
   "outputs": [],
   "source": [
    "y_pred = kmeans_2.predict(X_test)"
   ]
  },
  {
   "cell_type": "code",
   "execution_count": 69,
   "metadata": {},
   "outputs": [],
   "source": [
    "import numpy as np\n",
    "import pandas as pd"
   ]
  },
  {
   "cell_type": "code",
   "execution_count": 70,
   "metadata": {},
   "outputs": [
    {
     "output_type": "execute_result",
     "data": {
      "text/plain": [
       "    digit  prediction  acierto\n",
       "0       1           1     True\n",
       "1       0           0     True\n",
       "2       2           1    False\n",
       "3       1           1     True\n",
       "4       1           1     True\n",
       "5       0           0     True\n",
       "6       1           1     True\n",
       "7       2           1    False\n",
       "8       1           1     True\n",
       "9       1           1     True\n",
       "10      2           1    False\n",
       "11      0           0     True\n",
       "12      0           0     True\n",
       "13      0           0     True\n",
       "14      0           0     True\n",
       "15      1           1     True\n",
       "16      2           1    False\n",
       "17      1           1     True\n",
       "18      1           1     True\n",
       "19      2           1    False\n",
       "20      0           0     True\n",
       "21      2           1    False\n",
       "22      0           0     True\n",
       "23      2           1    False\n",
       "24      2           1    False\n",
       "25      2           1    False\n",
       "26      2           1    False\n",
       "27      2           1    False\n",
       "28      0           0     True\n",
       "29      0           0     True"
      ],
      "text/html": "<div>\n<style scoped>\n    .dataframe tbody tr th:only-of-type {\n        vertical-align: middle;\n    }\n\n    .dataframe tbody tr th {\n        vertical-align: top;\n    }\n\n    .dataframe thead th {\n        text-align: right;\n    }\n</style>\n<table border=\"1\" class=\"dataframe\">\n  <thead>\n    <tr style=\"text-align: right;\">\n      <th></th>\n      <th>digit</th>\n      <th>prediction</th>\n      <th>acierto</th>\n    </tr>\n  </thead>\n  <tbody>\n    <tr>\n      <th>0</th>\n      <td>1</td>\n      <td>1</td>\n      <td>True</td>\n    </tr>\n    <tr>\n      <th>1</th>\n      <td>0</td>\n      <td>0</td>\n      <td>True</td>\n    </tr>\n    <tr>\n      <th>2</th>\n      <td>2</td>\n      <td>1</td>\n      <td>False</td>\n    </tr>\n    <tr>\n      <th>3</th>\n      <td>1</td>\n      <td>1</td>\n      <td>True</td>\n    </tr>\n    <tr>\n      <th>4</th>\n      <td>1</td>\n      <td>1</td>\n      <td>True</td>\n    </tr>\n    <tr>\n      <th>5</th>\n      <td>0</td>\n      <td>0</td>\n      <td>True</td>\n    </tr>\n    <tr>\n      <th>6</th>\n      <td>1</td>\n      <td>1</td>\n      <td>True</td>\n    </tr>\n    <tr>\n      <th>7</th>\n      <td>2</td>\n      <td>1</td>\n      <td>False</td>\n    </tr>\n    <tr>\n      <th>8</th>\n      <td>1</td>\n      <td>1</td>\n      <td>True</td>\n    </tr>\n    <tr>\n      <th>9</th>\n      <td>1</td>\n      <td>1</td>\n      <td>True</td>\n    </tr>\n    <tr>\n      <th>10</th>\n      <td>2</td>\n      <td>1</td>\n      <td>False</td>\n    </tr>\n    <tr>\n      <th>11</th>\n      <td>0</td>\n      <td>0</td>\n      <td>True</td>\n    </tr>\n    <tr>\n      <th>12</th>\n      <td>0</td>\n      <td>0</td>\n      <td>True</td>\n    </tr>\n    <tr>\n      <th>13</th>\n      <td>0</td>\n      <td>0</td>\n      <td>True</td>\n    </tr>\n    <tr>\n      <th>14</th>\n      <td>0</td>\n      <td>0</td>\n      <td>True</td>\n    </tr>\n    <tr>\n      <th>15</th>\n      <td>1</td>\n      <td>1</td>\n      <td>True</td>\n    </tr>\n    <tr>\n      <th>16</th>\n      <td>2</td>\n      <td>1</td>\n      <td>False</td>\n    </tr>\n    <tr>\n      <th>17</th>\n      <td>1</td>\n      <td>1</td>\n      <td>True</td>\n    </tr>\n    <tr>\n      <th>18</th>\n      <td>1</td>\n      <td>1</td>\n      <td>True</td>\n    </tr>\n    <tr>\n      <th>19</th>\n      <td>2</td>\n      <td>1</td>\n      <td>False</td>\n    </tr>\n    <tr>\n      <th>20</th>\n      <td>0</td>\n      <td>0</td>\n      <td>True</td>\n    </tr>\n    <tr>\n      <th>21</th>\n      <td>2</td>\n      <td>1</td>\n      <td>False</td>\n    </tr>\n    <tr>\n      <th>22</th>\n      <td>0</td>\n      <td>0</td>\n      <td>True</td>\n    </tr>\n    <tr>\n      <th>23</th>\n      <td>2</td>\n      <td>1</td>\n      <td>False</td>\n    </tr>\n    <tr>\n      <th>24</th>\n      <td>2</td>\n      <td>1</td>\n      <td>False</td>\n    </tr>\n    <tr>\n      <th>25</th>\n      <td>2</td>\n      <td>1</td>\n      <td>False</td>\n    </tr>\n    <tr>\n      <th>26</th>\n      <td>2</td>\n      <td>1</td>\n      <td>False</td>\n    </tr>\n    <tr>\n      <th>27</th>\n      <td>2</td>\n      <td>1</td>\n      <td>False</td>\n    </tr>\n    <tr>\n      <th>28</th>\n      <td>0</td>\n      <td>0</td>\n      <td>True</td>\n    </tr>\n    <tr>\n      <th>29</th>\n      <td>0</td>\n      <td>0</td>\n      <td>True</td>\n    </tr>\n  </tbody>\n</table>\n</div>"
     },
     "metadata": {},
     "execution_count": 70
    }
   ],
   "source": [
    "df_pred = pd.DataFrame({\"digit\":y_test, \"prediction\": y_pred})\n",
    "df_pred[\"acierto\"] = np.where(df_pred[\"digit\"] == df_pred[\"prediction\"], True, False)\n",
    "df_pred"
   ]
  },
  {
   "cell_type": "code",
   "execution_count": 71,
   "metadata": {},
   "outputs": [],
   "source": [
    "from sklearn.model_selection import train_test_split\n",
    "from sklearn import datasets\n",
    "\n",
    "iris = datasets.load_iris()\n",
    "X = iris.data\n",
    "y = iris.target\n",
    "X_train, X_test, y_train, y_test = train_test_split(X,\n",
    "                                                    y,\n",
    "                                                    test_size=0.2,\n",
    "                                                    random_state=42)"
   ]
  },
  {
   "cell_type": "code",
   "execution_count": 72,
   "metadata": {},
   "outputs": [],
   "source": [
    "## reducir la dimensionalidad de los datos PCA(3)\n",
    "\n",
    "from sklearn.decomposition import PCA\n",
    "\n",
    "pca_3 = PCA(n_components=3)\n",
    "\n",
    "X_pca_3 = pca_3.fit_transform(X)"
   ]
  },
  {
   "cell_type": "code",
   "execution_count": 36,
   "metadata": {},
   "outputs": [],
   "source": [
    "X_train, X_test, y_train, y_test = train_test_split(X_pca_3,\n",
    "                                                    y,\n",
    "                                                    test_size=0.2,\n",
    "                                                    random_state=42)"
   ]
  },
  {
   "cell_type": "code",
   "execution_count": 73,
   "metadata": {},
   "outputs": [],
   "source": [
    "from sklearn.cluster import KMeans\n",
    "k = 3\n",
    "kmeans_3 = KMeans(n_clusters=k)\n",
    "y_pred_3 = kmeans_3.fit_predict(X_train)\n",
    "clusters = kmeans_3.cluster_centers_"
   ]
  },
  {
   "cell_type": "code",
   "execution_count": 74,
   "metadata": {},
   "outputs": [
    {
     "output_type": "stream",
     "name": "stdout",
     "text": [
      "\nkmeans.labels_: [0 0 2 0 0 2 2 0 0 0 2 2 2 0 0 2 2 1 2 1 2 1 2 0 1 2 0 0 0 2 2 0 0 0 2 0 2\n 1 0 2 2 0 2 2 2 2 1 2 0 2 1 0 0 2 1 0 2 0 0 2 2 1 2 1 1 2 0 0 2 1 0 0 0 2\n 1 0 1 1 0 2 2 2 1 1 0 1 2 1 2 2 2 0 2 2 0 2 1 1 0 2 1 1 0 1 0 1 1 1 2 1 2\n 2 2 2 0 2 2 0 2 1]\npredict: [0 0 2 0 0 2 2 0 0 0 2 2 2 0 0 2 2 1 2 1 2 1 2 0 1 2 0 0 0 2 2 0 0 0 2 0 2\n 1 0 2 2 0 2 2 2 2 1 2 0 2 1 0 0 2 1 0 2 0 0 2 2 1 2 1 1 2 0 0 2 1 0 0 0 2\n 1 0 1 1 0 2 2 2 1 1 0 1 2 1 2 2 2 0 2 2 0 2 1 1 0 2 1 1 0 1 0 1 1 1 2 1 2\n 2 2 2 0 2 2 0 2 1]\nkmeans.cluster_centers_:\n [[4.99       3.4525     1.45       0.245     ]\n [6.85517241 3.10344828 5.70689655 2.02068966]\n [5.85686275 2.73137255 4.38627451 1.44313725]]\n"
     ]
    }
   ],
   "source": [
    "print(\"\\nkmeans.labels_:\", kmeans_3.labels_)\n",
    "print(\"predict:\", y_pred_3)\n",
    "print(\"kmeans.cluster_centers_:\\n\", clusters)"
   ]
  },
  {
   "source": [
    "### Compara los resultados para PCA(2) y PCA(3) con las clases originales (y_real)."
   ],
   "cell_type": "markdown",
   "metadata": {}
  },
  {
   "cell_type": "code",
   "execution_count": 75,
   "metadata": {},
   "outputs": [
    {
     "output_type": "execute_result",
     "data": {
      "text/plain": [
       "64.88272836375931"
      ]
     },
     "metadata": {},
     "execution_count": 75
    }
   ],
   "source": [
    "kmeans_3.inertia_"
   ]
  },
  {
   "cell_type": "code",
   "execution_count": 76,
   "metadata": {},
   "outputs": [
    {
     "output_type": "execute_result",
     "data": {
      "text/plain": [
       "-64.88272836375931"
      ]
     },
     "metadata": {},
     "execution_count": 76
    }
   ],
   "source": [
    "kmeans_3.score(X_train)"
   ]
  },
  {
   "cell_type": "code",
   "execution_count": 77,
   "metadata": {},
   "outputs": [
    {
     "output_type": "execute_result",
     "data": {
      "text/plain": [
       "0.4666666666666667"
      ]
     },
     "metadata": {},
     "execution_count": 77
    }
   ],
   "source": [
    "accuracy_score(y_train, y_pred_3)"
   ]
  },
  {
   "source": [
    "### Compara los resultados para PCA(2) y PCA(3) con las clases originales (y_real)."
   ],
   "cell_type": "markdown",
   "metadata": {}
  },
  {
   "cell_type": "code",
   "execution_count": 79,
   "metadata": {},
   "outputs": [
    {
     "output_type": "execute_result",
     "data": {
      "text/plain": [
       "array([2, 0, 1, 2, 2, 0, 2, 1, 2, 2, 1, 0, 0, 0, 0, 2, 1, 2, 2, 1, 0, 2,\n",
       "       0, 1, 1, 1, 1, 1, 0, 0])"
      ]
     },
     "metadata": {},
     "execution_count": 79
    }
   ],
   "source": [
    "y_pred = kmeans_3.predict(X_test)\n",
    "y_pred"
   ]
  },
  {
   "cell_type": "code",
   "execution_count": 80,
   "metadata": {},
   "outputs": [
    {
     "output_type": "execute_result",
     "data": {
      "text/plain": [
       "    digit  prediction  acierto\n",
       "0       1           2    False\n",
       "1       0           0     True\n",
       "2       2           1    False\n",
       "3       1           2    False\n",
       "4       1           2    False\n",
       "5       0           0     True\n",
       "6       1           2    False\n",
       "7       2           1    False\n",
       "8       1           2    False\n",
       "9       1           2    False\n",
       "10      2           1    False\n",
       "11      0           0     True\n",
       "12      0           0     True\n",
       "13      0           0     True\n",
       "14      0           0     True\n",
       "15      1           2    False\n",
       "16      2           1    False\n",
       "17      1           2    False\n",
       "18      1           2    False\n",
       "19      2           1    False\n",
       "20      0           0     True\n",
       "21      2           2     True\n",
       "22      0           0     True\n",
       "23      2           1    False\n",
       "24      2           1    False\n",
       "25      2           1    False\n",
       "26      2           1    False\n",
       "27      2           1    False\n",
       "28      0           0     True\n",
       "29      0           0     True"
      ],
      "text/html": "<div>\n<style scoped>\n    .dataframe tbody tr th:only-of-type {\n        vertical-align: middle;\n    }\n\n    .dataframe tbody tr th {\n        vertical-align: top;\n    }\n\n    .dataframe thead th {\n        text-align: right;\n    }\n</style>\n<table border=\"1\" class=\"dataframe\">\n  <thead>\n    <tr style=\"text-align: right;\">\n      <th></th>\n      <th>digit</th>\n      <th>prediction</th>\n      <th>acierto</th>\n    </tr>\n  </thead>\n  <tbody>\n    <tr>\n      <th>0</th>\n      <td>1</td>\n      <td>2</td>\n      <td>False</td>\n    </tr>\n    <tr>\n      <th>1</th>\n      <td>0</td>\n      <td>0</td>\n      <td>True</td>\n    </tr>\n    <tr>\n      <th>2</th>\n      <td>2</td>\n      <td>1</td>\n      <td>False</td>\n    </tr>\n    <tr>\n      <th>3</th>\n      <td>1</td>\n      <td>2</td>\n      <td>False</td>\n    </tr>\n    <tr>\n      <th>4</th>\n      <td>1</td>\n      <td>2</td>\n      <td>False</td>\n    </tr>\n    <tr>\n      <th>5</th>\n      <td>0</td>\n      <td>0</td>\n      <td>True</td>\n    </tr>\n    <tr>\n      <th>6</th>\n      <td>1</td>\n      <td>2</td>\n      <td>False</td>\n    </tr>\n    <tr>\n      <th>7</th>\n      <td>2</td>\n      <td>1</td>\n      <td>False</td>\n    </tr>\n    <tr>\n      <th>8</th>\n      <td>1</td>\n      <td>2</td>\n      <td>False</td>\n    </tr>\n    <tr>\n      <th>9</th>\n      <td>1</td>\n      <td>2</td>\n      <td>False</td>\n    </tr>\n    <tr>\n      <th>10</th>\n      <td>2</td>\n      <td>1</td>\n      <td>False</td>\n    </tr>\n    <tr>\n      <th>11</th>\n      <td>0</td>\n      <td>0</td>\n      <td>True</td>\n    </tr>\n    <tr>\n      <th>12</th>\n      <td>0</td>\n      <td>0</td>\n      <td>True</td>\n    </tr>\n    <tr>\n      <th>13</th>\n      <td>0</td>\n      <td>0</td>\n      <td>True</td>\n    </tr>\n    <tr>\n      <th>14</th>\n      <td>0</td>\n      <td>0</td>\n      <td>True</td>\n    </tr>\n    <tr>\n      <th>15</th>\n      <td>1</td>\n      <td>2</td>\n      <td>False</td>\n    </tr>\n    <tr>\n      <th>16</th>\n      <td>2</td>\n      <td>1</td>\n      <td>False</td>\n    </tr>\n    <tr>\n      <th>17</th>\n      <td>1</td>\n      <td>2</td>\n      <td>False</td>\n    </tr>\n    <tr>\n      <th>18</th>\n      <td>1</td>\n      <td>2</td>\n      <td>False</td>\n    </tr>\n    <tr>\n      <th>19</th>\n      <td>2</td>\n      <td>1</td>\n      <td>False</td>\n    </tr>\n    <tr>\n      <th>20</th>\n      <td>0</td>\n      <td>0</td>\n      <td>True</td>\n    </tr>\n    <tr>\n      <th>21</th>\n      <td>2</td>\n      <td>2</td>\n      <td>True</td>\n    </tr>\n    <tr>\n      <th>22</th>\n      <td>0</td>\n      <td>0</td>\n      <td>True</td>\n    </tr>\n    <tr>\n      <th>23</th>\n      <td>2</td>\n      <td>1</td>\n      <td>False</td>\n    </tr>\n    <tr>\n      <th>24</th>\n      <td>2</td>\n      <td>1</td>\n      <td>False</td>\n    </tr>\n    <tr>\n      <th>25</th>\n      <td>2</td>\n      <td>1</td>\n      <td>False</td>\n    </tr>\n    <tr>\n      <th>26</th>\n      <td>2</td>\n      <td>1</td>\n      <td>False</td>\n    </tr>\n    <tr>\n      <th>27</th>\n      <td>2</td>\n      <td>1</td>\n      <td>False</td>\n    </tr>\n    <tr>\n      <th>28</th>\n      <td>0</td>\n      <td>0</td>\n      <td>True</td>\n    </tr>\n    <tr>\n      <th>29</th>\n      <td>0</td>\n      <td>0</td>\n      <td>True</td>\n    </tr>\n  </tbody>\n</table>\n</div>"
     },
     "metadata": {},
     "execution_count": 80
    }
   ],
   "source": [
    "df_pred = pd.DataFrame({\"digit\":y_test, \"prediction\": y_pred })\n",
    "df_pred[\"acierto\"] = np.where(df_pred[\"digit\"] == df_pred[\"prediction\"], True, False)\n",
    "df_pred"
   ]
  },
  {
   "source": [
    "¿Es mejor PCA(2) o PCA(3)?"
   ],
   "cell_type": "markdown",
   "metadata": {}
  },
  {
   "cell_type": "code",
   "execution_count": null,
   "metadata": {},
   "outputs": [],
   "source": []
  },
  {
   "cell_type": "code",
   "execution_count": null,
   "metadata": {},
   "outputs": [],
   "source": [
    "Ejercicio 2:\n",
    "\n",
    "Repite el proceso con T-SNE y DBSCAN. ¿Cuál da mejores resultados?"
   ]
  },
  {
   "cell_type": "code",
   "execution_count": 4,
   "metadata": {},
   "outputs": [],
   "source": [
    "from sklearn.manifold import TSNE\n",
    "from sklearn.cluster import DBSCAN\n",
    "from sklearn import metrics\n",
    "from sklearn.datasets import make_blobs\n",
    "from sklearn.preprocessing import StandardScaler\n",
    "from sklearn.metrics import silhouette_samples, silhouette_score"
   ]
  },
  {
   "cell_type": "code",
   "execution_count": 102,
   "metadata": {},
   "outputs": [],
   "source": [
    "\n",
    "iris = datasets.load_iris()\n",
    "X = iris.data\n",
    "y = iris.target\n"
   ]
  },
  {
   "cell_type": "code",
   "execution_count": 103,
   "metadata": {},
   "outputs": [
    {
     "output_type": "execute_result",
     "data": {
      "text/plain": [
       "(150, 2)"
      ]
     },
     "metadata": {},
     "execution_count": 103
    }
   ],
   "source": [
    "X_embedded = TSNE(n_components=2).fit_transform(X)\n",
    "X_embedded.shape"
   ]
  },
  {
   "cell_type": "code",
   "execution_count": 104,
   "metadata": {},
   "outputs": [],
   "source": [
    "X_train, X_test, y_train, y_test = train_test_split(X_embedded,\n",
    "                                                    y,\n",
    "                                                    test_size=0.2,\n",
    "                                                    random_state=42)"
   ]
  },
  {
   "cell_type": "code",
   "execution_count": 105,
   "metadata": {},
   "outputs": [],
   "source": [
    "db = DBSCAN(eps=0.55, min_samples=5)"
   ]
  },
  {
   "cell_type": "code",
   "execution_count": 106,
   "metadata": {},
   "outputs": [
    {
     "output_type": "execute_result",
     "data": {
      "text/plain": [
       "array([-1, -1, -1, -1, -1, -1, -1,  0,  0, -1, -1, -1, -1, -1, -1, -1, -1,\n",
       "       -1, -1, -1,  1, -1, -1,  0, -1,  1,  0,  0, -1, -1, -1, -1, -1, -1,\n",
       "        1,  0,  1, -1, -1, -1, -1, -1, -1, -1, -1, -1, -1, -1, -1, -1, -1,\n",
       "       -1, -1, -1, -1, -1, -1,  0, -1, -1, -1, -1, -1, -1, -1, -1, -1, -1,\n",
       "       -1,  2, -1,  0, -1, -1, -1, -1, -1, -1, -1, -1, -1, -1, -1, -1, -1,\n",
       "       -1, -1, -1, -1, -1, -1, -1, -1,  1, -1,  1,  2, -1, -1, -1, -1,  2,\n",
       "       -1, -1, -1, -1,  2, -1,  1, -1, -1, -1, -1, -1, -1, -1, -1, -1,  1,\n",
       "        2], dtype=int64)"
      ]
     },
     "metadata": {},
     "execution_count": 106
    }
   ],
   "source": [
    "y_preds = db.fit_predict(X_train)\n",
    "y_preds"
   ]
  },
  {
   "cell_type": "code",
   "execution_count": 107,
   "metadata": {},
   "outputs": [
    {
     "output_type": "execute_result",
     "data": {
      "text/plain": [
       "array([  7,   8,  20,  23,  26,  34,  35,  69,  71, 108], dtype=int64)"
      ]
     },
     "metadata": {},
     "execution_count": 107
    }
   ],
   "source": [
    "db.core_sample_indices_"
   ]
  },
  {
   "cell_type": "code",
   "execution_count": 109,
   "metadata": {},
   "outputs": [
    {
     "output_type": "stream",
     "name": "stdout",
     "text": [
      "Estimated number of clusters: 3\nEstimated number of noise points: 99\nHomogeneity: 0.175\nCompleteness: 0.295\nV-measure: 0.220\nSilhouette Coefficient: -0.508\n"
     ]
    }
   ],
   "source": [
    "n_clusters_ = len(set(y_preds)) - (1 if -1 in y_preds else 0)\n",
    "n_noise_ = list(y_preds).count(-1)\n",
    "\n",
    "print('Estimated number of clusters: %d' % n_clusters_)\n",
    "print('Estimated number of noise points: %d' % n_noise_)\n",
    "print(\"Homogeneity: %0.3f\" % metrics.homogeneity_score(y_train, y_preds))\n",
    "print(\"Completeness: %0.3f\" % metrics.completeness_score(y_train, y_preds))\n",
    "print(\"V-measure: %0.3f\" % metrics.v_measure_score(y_train, y_preds))\n",
    "print(\"Silhouette Coefficient: %0.3f\"\n",
    "      % metrics.silhouette_score(X_train, y_preds))\n"
   ]
  },
  {
   "cell_type": "code",
   "execution_count": 2,
   "metadata": {},
   "outputs": [],
   "source": [
    "from sklearn.model_selection import train_test_split\n",
    "from sklearn import datasets\n",
    "\n",
    "iris = datasets.load_iris()\n",
    "X = iris.data\n",
    "y = iris.target"
   ]
  },
  {
   "cell_type": "code",
   "execution_count": 5,
   "metadata": {},
   "outputs": [
    {
     "output_type": "execute_result",
     "data": {
      "text/plain": [
       "(150, 3)"
      ]
     },
     "metadata": {},
     "execution_count": 5
    }
   ],
   "source": [
    "X_embedded_3 = TSNE(n_components=3).fit_transform(X)\n",
    "X_embedded_3.shape"
   ]
  },
  {
   "cell_type": "code",
   "execution_count": 6,
   "metadata": {},
   "outputs": [],
   "source": [
    "X_train, X_test, y_train, y_test = train_test_split(X_embedded_3,\n",
    "                                                    y,\n",
    "                                                    test_size=0.2,\n",
    "                                                    random_state=42)"
   ]
  },
  {
   "cell_type": "code",
   "execution_count": 44,
   "metadata": {},
   "outputs": [],
   "source": [
    "db = DBSCAN(eps=50, min_samples=4)"
   ]
  },
  {
   "cell_type": "code",
   "execution_count": 45,
   "metadata": {},
   "outputs": [
    {
     "output_type": "execute_result",
     "data": {
      "text/plain": [
       "array([-1, -1,  0, -1, -1,  0,  0,  1, -1, -1,  0,  0, -1, -1,  1,  0,  0,\n",
       "       -1, -1,  2,  0,  2,  0,  1,  2,  0,  1, -1, -1,  0,  0, -1,  1,  1,\n",
       "        0,  1,  0,  2,  1,  0,  0, -1,  0,  0,  0,  0, -1,  0, -1,  0,  0,\n",
       "        1,  1,  0,  0,  1,  0,  1,  1,  0, -1, -1,  0,  0,  2,  0, -1, -1,\n",
       "       -1,  2, -1,  1, -1,  0, -1, -1, -1, -1,  1,  0,  0,  0, -1, -1, -1,\n",
       "       -1,  0,  0,  0,  0,  0, -1,  0,  0,  1,  0,  2, -1, -1,  0, -1,  2,\n",
       "        1,  0, -1, -1,  2, -1,  0, -1, -1,  0,  0,  0, -1,  0, -1, -1, -1,\n",
       "       -1], dtype=int64)"
      ]
     },
     "metadata": {},
     "execution_count": 45
    }
   ],
   "source": [
    "y_preds = db.fit_predict(X_train)\n",
    "y_preds"
   ]
  },
  {
   "cell_type": "code",
   "execution_count": 46,
   "metadata": {},
   "outputs": [
    {
     "output_type": "execute_result",
     "data": {
      "text/plain": [
       "array([  5,   6,   7,  10,  15,  16,  19,  20,  21,  23,  25,  29,  30,\n",
       "        32,  34,  36,  38,  39,  40,  42,  43,  47,  49,  53,  56,  57,\n",
       "        59,  62,  64,  71,  78,  79,  81,  86,  88,  89,  96,  99, 102,\n",
       "       111, 112, 113, 115], dtype=int64)"
      ]
     },
     "metadata": {},
     "execution_count": 46
    }
   ],
   "source": [
    "db.core_sample_indices_"
   ]
  },
  {
   "cell_type": "code",
   "execution_count": 47,
   "metadata": {},
   "outputs": [
    {
     "output_type": "stream",
     "name": "stdout",
     "text": [
      "Estimated number of clusters: 3\nEstimated number of noise points: 45\nHomogeneity: 0.430\nCompleteness: 0.392\nV-measure: 0.410\nSilhouette Coefficient: 0.075\n"
     ]
    }
   ],
   "source": [
    "n_clusters_ = len(set(y_preds)) - (1 if -1 in y_preds else 0)\n",
    "n_noise_ = list(y_preds).count(-1)\n",
    "\n",
    "print('Estimated number of clusters: %d' % n_clusters_)\n",
    "print('Estimated number of noise points: %d' % n_noise_)\n",
    "print(\"Homogeneity: %0.3f\" % metrics.homogeneity_score(y_train, y_preds))\n",
    "print(\"Completeness: %0.3f\" % metrics.completeness_score(y_train, y_preds))\n",
    "print(\"V-measure: %0.3f\" % metrics.v_measure_score(y_train, y_preds))\n",
    "print(\"Silhouette Coefficient: %0.3f\"\n",
    "      % metrics.silhouette_score(X_train, y_preds))"
   ]
  },
  {
   "cell_type": "code",
   "execution_count": null,
   "metadata": {},
   "outputs": [],
   "source": [
    "fig, ax = plt.subplots(2, 1, figsize = (6, 8))\n",
    "sns.scatterplot(\"sepal_length\", \"sepal_width\", data = iris, hue = \"species\", ax = ax[0]);\n",
    "sns.scatterplot(\"sepal_length\", \"sepal_width\", data = iris, hue = \"cluster\",\n",
    "                palette = \"gist_stern\", ax = ax[1]);"
   ]
  },
  {
   "source": [
    "### El PCA con K-means da mejores resultados para esta base de datos "
   ],
   "cell_type": "markdown",
   "metadata": {}
  }
 ]
}