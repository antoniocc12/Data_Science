{
 "metadata": {
  "language_info": {
   "codemirror_mode": {
    "name": "ipython",
    "version": 3
   },
   "file_extension": ".py",
   "mimetype": "text/x-python",
   "name": "python",
   "nbconvert_exporter": "python",
   "pygments_lexer": "ipython3",
   "version": "3.8.8"
  },
  "orig_nbformat": 2,
  "kernelspec": {
   "name": "python3",
   "display_name": "Python 3.8.8 64-bit"
  },
  "metadata": {
   "interpreter": {
    "hash": "5c4d2f1fdcd3716c7a5eea90ad07be30193490dd4e63617705244f5fd89ea793"
   }
  },
  "interpreter": {
   "hash": "1baa965d5efe3ac65b79dfc60c0d706280b1da80fedb7760faf2759126c4f253"
  }
 },
 "nbformat": 4,
 "nbformat_minor": 2,
 "cells": [
  {
   "source": [
    "A partir de los datos de iris:\n",
    "\n",
    "Ejercicio 1:\n",
    "\n",
    "- Carga los datos originales\n",
    "- Utiliza PCA para reducir la dimensionalidad de los datos. No reemplaces X con el resultado, crea una nueva X_pca. Utiliza PCA(2) y otra con PCA(3)\n",
    "- Utiliza Kmeans para agrupar y predecir las clases de los nuevos datos.\n",
    "- Compara los resultados para PCA(2) y PCA(3) con las clases originales (y_real).\n",
    "- ¿Es mejor PCA(2) o PCA(3)?\n",
    "\n",
    "Ejercicio 2: \n",
    "\n",
    "- Repite el proceso con T-SNE y DBSCAN. ¿Cuál da mejores resultados?\n"
   ],
   "cell_type": "markdown",
   "metadata": {}
  },
  {
   "cell_type": "code",
   "execution_count": 1,
   "metadata": {},
   "outputs": [],
   "source": [
    "import pandas as pd\n",
    "import numpy as np\n",
    "\n",
    "from sklearn import metrics\n",
    "from sklearn.preprocessing import StandardScaler\n",
    "from sklearn.model_selection import train_test_split\n",
    "from sklearn import datasets\n",
    "\n",
    "iris = datasets.load_iris()\n",
    "X = iris.data\n",
    "y = iris.target\n",
    "X_train, X_test, y_train, y_test = train_test_split(X,\n",
    "                                                    y,\n",
    "                                                    test_size=0.2,\n",
    "                                                    random_state=42)"
   ]
  },
  {
   "source": [
    "### Creamos el DataFrame"
   ],
   "cell_type": "markdown",
   "metadata": {}
  },
  {
   "cell_type": "code",
   "execution_count": 2,
   "metadata": {},
   "outputs": [
    {
     "output_type": "execute_result",
     "data": {
      "text/plain": [
       "   sepal length (cm)  sepal width (cm)  petal length (cm)  petal width (cm)\n",
       "0                5.1               3.5                1.4               0.2\n",
       "1                4.9               3.0                1.4               0.2\n",
       "2                4.7               3.2                1.3               0.2\n",
       "3                4.6               3.1                1.5               0.2\n",
       "4                5.0               3.6                1.4               0.2"
      ],
      "text/html": "<div>\n<style scoped>\n    .dataframe tbody tr th:only-of-type {\n        vertical-align: middle;\n    }\n\n    .dataframe tbody tr th {\n        vertical-align: top;\n    }\n\n    .dataframe thead th {\n        text-align: right;\n    }\n</style>\n<table border=\"1\" class=\"dataframe\">\n  <thead>\n    <tr style=\"text-align: right;\">\n      <th></th>\n      <th>sepal length (cm)</th>\n      <th>sepal width (cm)</th>\n      <th>petal length (cm)</th>\n      <th>petal width (cm)</th>\n    </tr>\n  </thead>\n  <tbody>\n    <tr>\n      <th>0</th>\n      <td>5.1</td>\n      <td>3.5</td>\n      <td>1.4</td>\n      <td>0.2</td>\n    </tr>\n    <tr>\n      <th>1</th>\n      <td>4.9</td>\n      <td>3.0</td>\n      <td>1.4</td>\n      <td>0.2</td>\n    </tr>\n    <tr>\n      <th>2</th>\n      <td>4.7</td>\n      <td>3.2</td>\n      <td>1.3</td>\n      <td>0.2</td>\n    </tr>\n    <tr>\n      <th>3</th>\n      <td>4.6</td>\n      <td>3.1</td>\n      <td>1.5</td>\n      <td>0.2</td>\n    </tr>\n    <tr>\n      <th>4</th>\n      <td>5.0</td>\n      <td>3.6</td>\n      <td>1.4</td>\n      <td>0.2</td>\n    </tr>\n  </tbody>\n</table>\n</div>"
     },
     "metadata": {},
     "execution_count": 2
    }
   ],
   "source": [
    "df = pd.DataFrame(data=iris.data, columns=iris.get(\"feature_names\"))\n",
    "df.head()"
   ]
  },
  {
   "source": [
    "## Importamos PCA"
   ],
   "cell_type": "markdown",
   "metadata": {}
  },
  {
   "cell_type": "code",
   "execution_count": 3,
   "metadata": {},
   "outputs": [],
   "source": [
    "from sklearn.decomposition import PCA"
   ]
  },
  {
   "cell_type": "code",
   "execution_count": 4,
   "metadata": {},
   "outputs": [],
   "source": [
    "# Creamos dos variables con PCA para PCA(2) y PCA (3)\n",
    "\n",
    "pca_2 = PCA(n_components=2)\n",
    "pca_3 = PCA(n_components=3)"
   ]
  },
  {
   "cell_type": "code",
   "execution_count": 5,
   "metadata": {},
   "outputs": [
    {
     "output_type": "execute_result",
     "data": {
      "text/plain": [
       "PCA(n_components=3)"
      ]
     },
     "metadata": {},
     "execution_count": 5
    }
   ],
   "source": [
    "# Entrenamos las columnas feature con ambas PCA\n",
    "\n",
    "pca_2.fit(X)\n",
    "pca_3.fit(X)"
   ]
  },
  {
   "cell_type": "code",
   "execution_count": 6,
   "metadata": {},
   "outputs": [
    {
     "output_type": "stream",
     "name": "stdout",
     "text": [
      "PCA 2\n\nVarianza explicativa \n[0.92461872 0.05306648]\n\nTotal varianza explicativa: \n97.77\n\n-----------\n\nPCA 3\n\nVarianza explicativa \n[0.92461872 0.05306648 0.01710261]\n\nTotal varianza explicativa: \n99.48\n"
     ]
    }
   ],
   "source": [
    "# Mostramos las varianzas explicativas\n",
    "\n",
    "print('PCA 2\\n')\n",
    "print(f'Varianza explicativa \\n{pca_2.explained_variance_ratio_}')\n",
    "total_var_pca_2 = pca_2.explained_variance_ratio_.sum() * 100\n",
    "print(f'\\nTotal varianza explicativa: \\n{total_var_pca_2.round(2)}')\n",
    "print('\\n-----------\\n')\n",
    "print('PCA 3\\n')\n",
    "print(f'Varianza explicativa \\n{pca_3.explained_variance_ratio_}')\n",
    "total_var_pca_3 = pca_3.explained_variance_ratio_.sum() * 100\n",
    "print(f'\\nTotal varianza explicativa: \\n{total_var_pca_3.round(2)}')"
   ]
  },
  {
   "cell_type": "code",
   "execution_count": 7,
   "metadata": {},
   "outputs": [],
   "source": [
    "# Creamos las variables X_pca2 y X_pca3 para conservar los datos de X\n",
    "\n",
    "X_pca2 = pca_2.transform(X)\n",
    "X_pca3 = pca_3.transform(X)"
   ]
  },
  {
   "cell_type": "code",
   "execution_count": 8,
   "metadata": {},
   "outputs": [
    {
     "output_type": "stream",
     "name": "stdout",
     "text": [
      "Con PCA 2\n"
     ]
    },
    {
     "output_type": "display_data",
     "data": {
      "text/plain": "          0         1\n0 -2.684126  0.319397\n1 -2.714142 -0.177001\n2 -2.888991 -0.144949\n3 -2.745343 -0.318299\n4 -2.728717  0.326755",
      "text/html": "<div>\n<style scoped>\n    .dataframe tbody tr th:only-of-type {\n        vertical-align: middle;\n    }\n\n    .dataframe tbody tr th {\n        vertical-align: top;\n    }\n\n    .dataframe thead th {\n        text-align: right;\n    }\n</style>\n<table border=\"1\" class=\"dataframe\">\n  <thead>\n    <tr style=\"text-align: right;\">\n      <th></th>\n      <th>0</th>\n      <th>1</th>\n    </tr>\n  </thead>\n  <tbody>\n    <tr>\n      <th>0</th>\n      <td>-2.684126</td>\n      <td>0.319397</td>\n    </tr>\n    <tr>\n      <th>1</th>\n      <td>-2.714142</td>\n      <td>-0.177001</td>\n    </tr>\n    <tr>\n      <th>2</th>\n      <td>-2.888991</td>\n      <td>-0.144949</td>\n    </tr>\n    <tr>\n      <th>3</th>\n      <td>-2.745343</td>\n      <td>-0.318299</td>\n    </tr>\n    <tr>\n      <th>4</th>\n      <td>-2.728717</td>\n      <td>0.326755</td>\n    </tr>\n  </tbody>\n</table>\n</div>"
     },
     "metadata": {}
    },
    {
     "output_type": "stream",
     "name": "stdout",
     "text": [
      "\nCon PCA 3\n"
     ]
    },
    {
     "output_type": "display_data",
     "data": {
      "text/plain": "          0         1         2\n0 -2.684126  0.319397 -0.027915\n1 -2.714142 -0.177001 -0.210464\n2 -2.888991 -0.144949  0.017900\n3 -2.745343 -0.318299  0.031559\n4 -2.728717  0.326755  0.090079",
      "text/html": "<div>\n<style scoped>\n    .dataframe tbody tr th:only-of-type {\n        vertical-align: middle;\n    }\n\n    .dataframe tbody tr th {\n        vertical-align: top;\n    }\n\n    .dataframe thead th {\n        text-align: right;\n    }\n</style>\n<table border=\"1\" class=\"dataframe\">\n  <thead>\n    <tr style=\"text-align: right;\">\n      <th></th>\n      <th>0</th>\n      <th>1</th>\n      <th>2</th>\n    </tr>\n  </thead>\n  <tbody>\n    <tr>\n      <th>0</th>\n      <td>-2.684126</td>\n      <td>0.319397</td>\n      <td>-0.027915</td>\n    </tr>\n    <tr>\n      <th>1</th>\n      <td>-2.714142</td>\n      <td>-0.177001</td>\n      <td>-0.210464</td>\n    </tr>\n    <tr>\n      <th>2</th>\n      <td>-2.888991</td>\n      <td>-0.144949</td>\n      <td>0.017900</td>\n    </tr>\n    <tr>\n      <th>3</th>\n      <td>-2.745343</td>\n      <td>-0.318299</td>\n      <td>0.031559</td>\n    </tr>\n    <tr>\n      <th>4</th>\n      <td>-2.728717</td>\n      <td>0.326755</td>\n      <td>0.090079</td>\n    </tr>\n  </tbody>\n</table>\n</div>"
     },
     "metadata": {}
    }
   ],
   "source": [
    "# Mostramos ambos resultados en un Dataframe para observar las diferencias\n",
    "from IPython.display import display\n",
    "\n",
    "df_pca_2 = pd.DataFrame(X_pca2)\n",
    "df_pca_3 = pd.DataFrame(X_pca3)\n",
    "\n",
    "print('Con PCA 2')\n",
    "display(df_pca_2.head())\n",
    "print('\\nCon PCA 3')\n",
    "display(df_pca_3.head())"
   ]
  },
  {
   "source": [
    "## Visualizamos los datos"
   ],
   "cell_type": "markdown",
   "metadata": {}
  },
  {
   "source": [
    "### Con PCA 2"
   ],
   "cell_type": "markdown",
   "metadata": {}
  },
  {
   "cell_type": "code",
   "execution_count": 9,
   "metadata": {},
   "outputs": [
    {
     "output_type": "display_data",
     "data": {
      "text/plain": "<Figure size 432x288 with 1 Axes>",
      "image/svg+xml": "<?xml version=\"1.0\" encoding=\"utf-8\" standalone=\"no\"?>\r\n<!DOCTYPE svg PUBLIC \"-//W3C//DTD SVG 1.1//EN\"\r\n  \"http://www.w3.org/Graphics/SVG/1.1/DTD/svg11.dtd\">\r\n<!-- Created with matplotlib (https://matplotlib.org/) -->\r\n<svg height=\"263.63625pt\" version=\"1.1\" viewBox=\"0 0 380.482812 263.63625\" width=\"380.482812pt\" xmlns=\"http://www.w3.org/2000/svg\" xmlns:xlink=\"http://www.w3.org/1999/xlink\">\r\n <metadata>\r\n  <rdf:RDF xmlns:cc=\"http://creativecommons.org/ns#\" xmlns:dc=\"http://purl.org/dc/elements/1.1/\" xmlns:rdf=\"http://www.w3.org/1999/02/22-rdf-syntax-ns#\">\r\n   <cc:Work>\r\n    <dc:type rdf:resource=\"http://purl.org/dc/dcmitype/StillImage\"/>\r\n    <dc:date>2021-06-23T13:15:56.377222</dc:date>\r\n    <dc:format>image/svg+xml</dc:format>\r\n    <dc:creator>\r\n     <cc:Agent>\r\n      <dc:title>Matplotlib v3.3.3, https://matplotlib.org/</dc:title>\r\n     </cc:Agent>\r\n    </dc:creator>\r\n   </cc:Work>\r\n  </rdf:RDF>\r\n </metadata>\r\n <defs>\r\n  <style type=\"text/css\">*{stroke-linecap:butt;stroke-linejoin:round;}</style>\r\n </defs>\r\n <g id=\"figure_1\">\r\n  <g id=\"patch_1\">\r\n   <path d=\"M -0 263.63625 \r\nL 380.482812 263.63625 \r\nL 380.482812 0 \r\nL -0 0 \r\nz\r\n\" style=\"fill:none;\"/>\r\n  </g>\r\n  <g id=\"axes_1\">\r\n   <g id=\"patch_2\">\r\n    <path d=\"M 38.482813 239.758125 \r\nL 373.282813 239.758125 \r\nL 373.282813 22.318125 \r\nL 38.482813 22.318125 \r\nz\r\n\" style=\"fill:#ffffff;\"/>\r\n   </g>\r\n   <g id=\"PathCollection_1\">\r\n    <defs>\r\n     <path d=\"M 0 3 \r\nC 0.795609 3 1.55874 2.683901 2.12132 2.12132 \r\nC 2.683901 1.55874 3 0.795609 3 0 \r\nC 3 -0.795609 2.683901 -1.55874 2.12132 -2.12132 \r\nC 1.55874 -2.683901 0.795609 -3 0 -3 \r\nC -0.795609 -3 -1.55874 -2.683901 -2.12132 -2.12132 \r\nC -2.683901 -1.55874 -3 -0.795609 -3 0 \r\nC -3 0.795609 -2.683901 1.55874 -2.12132 2.12132 \r\nC -1.55874 2.683901 -0.795609 3 0 3 \r\nz\r\n\" id=\"mba05550efa\" style=\"stroke:#1f77b4;\"/>\r\n    </defs>\r\n    <g clip-path=\"url(#pc002491fa0)\">\r\n     <use style=\"fill:#1f77b4;stroke:#1f77b4;\" x=\"77.101462\" xlink:href=\"#mba05550efa\" y=\"111.174516\"/>\r\n     <use style=\"fill:#1f77b4;stroke:#1f77b4;\" x=\"75.799964\" xlink:href=\"#mba05550efa\" y=\"148.340946\"/>\r\n     <use style=\"fill:#1f77b4;stroke:#1f77b4;\" x=\"68.218509\" xlink:href=\"#mba05550efa\" y=\"145.941159\"/>\r\n     <use style=\"fill:#1f77b4;stroke:#1f77b4;\" x=\"74.44708\" xlink:href=\"#mba05550efa\" y=\"158.920215\"/>\r\n     <use style=\"fill:#1f77b4;stroke:#1f77b4;\" x=\"75.167998\" xlink:href=\"#mba05550efa\" y=\"110.623662\"/>\r\n     <use style=\"fill:#1f77b4;stroke:#1f77b4;\" x=\"94.587094\" xlink:href=\"#mba05550efa\" y=\"79.583463\"/>\r\n     <use style=\"fill:#1f77b4;stroke:#1f77b4;\" x=\"71.186626\" xlink:href=\"#mba05550efa\" y=\"141.786649\"/>\r\n     <use style=\"fill:#1f77b4;stroke:#1f77b4;\" x=\"79.615506\" xlink:href=\"#mba05550efa\" y=\"122.855495\"/>\r\n     <use style=\"fill:#1f77b4;stroke:#1f77b4;\" x=\"68.331585\" xlink:href=\"#mba05550efa\" y=\"178.387936\"/>\r\n     <use style=\"fill:#1f77b4;stroke:#1f77b4;\" x=\"77.594458\" xlink:href=\"#mba05550efa\" y=\"143.607005\"/>\r\n     <use style=\"fill:#1f77b4;stroke:#1f77b4;\" x=\"84.783932\" xlink:href=\"#mba05550efa\" y=\"86.790774\"/>\r\n     <use style=\"fill:#1f77b4;stroke:#1f77b4;\" x=\"80.196086\" xlink:href=\"#mba05550efa\" y=\"133.985618\"/>\r\n     <use style=\"fill:#1f77b4;stroke:#1f77b4;\" x=\"72.679447\" xlink:href=\"#mba05550efa\" y=\"152.691826\"/>\r\n     <use style=\"fill:#1f77b4;stroke:#1f77b4;\" x=\"53.700994\" xlink:href=\"#mba05550efa\" y=\"173.377702\"/>\r\n     <use style=\"fill:#1f77b4;stroke:#1f77b4;\" x=\"78.808774\" xlink:href=\"#mba05550efa\" y=\"46.831817\"/>\r\n     <use style=\"fill:#1f77b4;stroke:#1f77b4;\" x=\"90.02651\" xlink:href=\"#mba05550efa\" y=\"34.904853\"/>\r\n     <use style=\"fill:#1f77b4;stroke:#1f77b4;\" x=\"79.728983\" xlink:href=\"#mba05550efa\" y=\"74.391148\"/>\r\n     <use style=\"fill:#1f77b4;stroke:#1f77b4;\" x=\"78.655006\" xlink:href=\"#mba05550efa\" y=\"111.739659\"/>\r\n     <use style=\"fill:#1f77b4;stroke:#1f77b4;\" x=\"98.100962\" xlink:href=\"#mba05550efa\" y=\"69.73713\"/>\r\n     <use style=\"fill:#1f77b4;stroke:#1f77b4;\" x=\"81.270063\" xlink:href=\"#mba05550efa\" y=\"96.637107\"/>\r\n     <use style=\"fill:#1f77b4;stroke:#1f77b4;\" x=\"93.312457\" xlink:href=\"#mba05550efa\" y=\"105.787562\"/>\r\n     <use style=\"fill:#1f77b4;stroke:#1f77b4;\" x=\"83.190097\" xlink:href=\"#mba05550efa\" y=\"102.669127\"/>\r\n     <use style=\"fill:#1f77b4;stroke:#1f77b4;\" x=\"54.041992\" xlink:href=\"#mba05550efa\" y=\"125.095437\"/>\r\n     <use style=\"fill:#1f77b4;stroke:#1f77b4;\" x=\"93.638656\" xlink:href=\"#mba05550efa\" y=\"127.697935\"/>\r\n     <use style=\"fill:#1f77b4;stroke:#1f77b4;\" x=\"91.339669\" xlink:href=\"#mba05550efa\" y=\"137.879854\"/>\r\n     <use style=\"fill:#1f77b4;stroke:#1f77b4;\" x=\"84.795994\" xlink:href=\"#mba05550efa\" y=\"146.021081\"/>\r\n     <use style=\"fill:#1f77b4;stroke:#1f77b4;\" x=\"86.437121\" xlink:href=\"#mba05550efa\" y=\"125.283859\"/>\r\n     <use style=\"fill:#1f77b4;stroke:#1f77b4;\" x=\"82.382964\" xlink:href=\"#mba05550efa\" y=\"107.556573\"/>\r\n     <use style=\"fill:#1f77b4;stroke:#1f77b4;\" x=\"79.034926\" xlink:href=\"#mba05550efa\" y=\"111.725371\"/>\r\n     <use style=\"fill:#1f77b4;stroke:#1f77b4;\" x=\"79.362092\" xlink:href=\"#mba05550efa\" y=\"149.835395\"/>\r\n     <use style=\"fill:#1f77b4;stroke:#1f77b4;\" x=\"81.295556\" xlink:href=\"#mba05550efa\" y=\"150.386249\"/>\r\n     <use style=\"fill:#1f77b4;stroke:#1f77b4;\" x=\"88.990489\" xlink:href=\"#mba05550efa\" y=\"104.32169\"/>\r\n     <use style=\"fill:#1f77b4;stroke:#1f77b4;\" x=\"78.63048\" xlink:href=\"#mba05550efa\" y=\"74.190168\"/>\r\n     <use style=\"fill:#1f77b4;stroke:#1f77b4;\" x=\"80.803928\" xlink:href=\"#mba05550efa\" y=\"53.242288\"/>\r\n     <use style=\"fill:#1f77b4;stroke:#1f77b4;\" x=\"79.148002\" xlink:href=\"#mba05550efa\" y=\"144.172148\"/>\r\n     <use style=\"fill:#1f77b4;stroke:#1f77b4;\" x=\"69.204903\" xlink:href=\"#mba05550efa\" y=\"129.895012\"/>\r\n     <use style=\"fill:#1f77b4;stroke:#1f77b4;\" x=\"79.65483\" xlink:href=\"#mba05550efa\" y=\"90.212348\"/>\r\n     <use style=\"fill:#1f77b4;stroke:#1f77b4;\" x=\"72.047481\" xlink:href=\"#mba05550efa\" y=\"114.974542\"/>\r\n     <use style=\"fill:#1f77b4;stroke:#1f77b4;\" x=\"64.250567\" xlink:href=\"#mba05550efa\" y=\"171.62298\"/>\r\n     <use style=\"fill:#1f77b4;stroke:#1f77b4;\" x=\"81.18248\" xlink:href=\"#mba05550efa\" y=\"117.939472\"/>\r\n     <use style=\"fill:#1f77b4;stroke:#1f77b4;\" x=\"73.373504\" xlink:href=\"#mba05550efa\" y=\"115.357603\"/>\r\n     <use style=\"fill:#1f77b4;stroke:#1f77b4;\" x=\"69.936515\" xlink:href=\"#mba05550efa\" y=\"205.540239\"/>\r\n     <use style=\"fill:#1f77b4;stroke:#1f77b4;\" x=\"63.517587\" xlink:href=\"#mba05550efa\" y=\"160.689226\"/>\r\n     <use style=\"fill:#1f77b4;stroke:#1f77b4;\" x=\"89.177718\" xlink:href=\"#mba05550efa\" y=\"120.947267\"/>\r\n     <use style=\"fill:#1f77b4;stroke:#1f77b4;\" x=\"97.681718\" xlink:href=\"#mba05550efa\" y=\"102.394565\"/>\r\n     <use style=\"fill:#1f77b4;stroke:#1f77b4;\" x=\"75.786534\" xlink:href=\"#mba05550efa\" y=\"153.822112\"/>\r\n     <use style=\"fill:#1f77b4;stroke:#1f77b4;\" x=\"83.431047\" xlink:href=\"#mba05550efa\" y=\"97.370043\"/>\r\n     <use style=\"fill:#1f77b4;stroke:#1f77b4;\" x=\"70.366063\" xlink:href=\"#mba05550efa\" y=\"152.15526\"/>\r\n     <use style=\"fill:#1f77b4;stroke:#1f77b4;\" x=\"83.216958\" xlink:href=\"#mba05550efa\" y=\"91.706796\"/>\r\n     <use style=\"fill:#1f77b4;stroke:#1f77b4;\" x=\"76.267468\" xlink:href=\"#mba05550efa\" y=\"127.024293\"/>\r\n     <use style=\"fill:#1f77b4;stroke:#1f77b4;\" x=\"249.195372\" xlink:href=\"#mba05550efa\" y=\"83.789031\"/>\r\n     <use style=\"fill:#1f77b4;stroke:#1f77b4;\" x=\"233.918017\" xlink:href=\"#mba05550efa\" y=\"111.254151\"/>\r\n     <use style=\"fill:#1f77b4;stroke:#1f77b4;\" x=\"256.977487\" xlink:href=\"#mba05550efa\" y=\"97.333231\"/>\r\n     <use style=\"fill:#1f77b4;stroke:#1f77b4;\" x=\"201.433937\" xlink:href=\"#mba05550efa\" y=\"197.079567\"/>\r\n     <use style=\"fill:#1f77b4;stroke:#1f77b4;\" x=\"240.665479\" xlink:href=\"#mba05550efa\" y=\"129.503715\"/>\r\n     <use style=\"fill:#1f77b4;stroke:#1f77b4;\" x=\"221.308073\" xlink:href=\"#mba05550efa\" y=\"166.403531\"/>\r\n     <use style=\"fill:#1f77b4;stroke:#1f77b4;\" x=\"240.967152\" xlink:href=\"#mba05550efa\" y=\"113.864597\"/>\r\n     <use style=\"fill:#1f77b4;stroke:#1f77b4;\" x=\"161.003279\" xlink:href=\"#mba05550efa\" y=\"210.326846\"/>\r\n     <use style=\"fill:#1f77b4;stroke:#1f77b4;\" x=\"238.758876\" xlink:href=\"#mba05550efa\" y=\"117.99053\"/>\r\n     <use style=\"fill:#1f77b4;stroke:#1f77b4;\" x=\"193.106071\" xlink:href=\"#mba05550efa\" y=\"189.227191\"/>\r\n     <use style=\"fill:#1f77b4;stroke:#1f77b4;\" x=\"171.465268\" xlink:href=\"#mba05550efa\" y=\"229.874489\"/>\r\n     <use style=\"fill:#1f77b4;stroke:#1f77b4;\" x=\"215.672545\" xlink:href=\"#mba05550efa\" y=\"142.873781\"/>\r\n     <use style=\"fill:#1f77b4;stroke:#1f77b4;\" x=\"204.974665\" xlink:href=\"#mba05550efa\" y=\"176.270903\"/>\r\n     <use style=\"fill:#1f77b4;stroke:#1f77b4;\" x=\"236.192077\" xlink:href=\"#mba05550efa\" y=\"144.433864\"/>\r\n     <use style=\"fill:#1f77b4;stroke:#1f77b4;\" x=\"185.94386\" xlink:href=\"#mba05550efa\" y=\"154.169968\"/>\r\n     <use style=\"fill:#1f77b4;stroke:#1f77b4;\" x=\"233.717358\" xlink:href=\"#mba05550efa\" y=\"100.109739\"/>\r\n     <use style=\"fill:#1f77b4;stroke:#1f77b4;\" x=\"222.115206\" xlink:href=\"#mba05550efa\" y=\"161.516085\"/>\r\n     <use style=\"fill:#1f77b4;stroke:#1f77b4;\" x=\"203.722795\" xlink:href=\"#mba05550efa\" y=\"160.066642\"/>\r\n     <use style=\"fill:#1f77b4;stroke:#1f77b4;\" x=\"234.448969\" xlink:href=\"#mba05550efa\" y=\"175.754966\"/>\r\n     <use style=\"fill:#1f77b4;stroke:#1f77b4;\" x=\"195.446316\" xlink:href=\"#mba05550efa\" y=\"178.801426\"/>\r\n     <use style=\"fill:#1f77b4;stroke:#1f77b4;\" x=\"241.887361\" xlink:href=\"#mba05550efa\" y=\"141.423928\"/>\r\n     <use style=\"fill:#1f77b4;stroke:#1f77b4;\" x=\"209.00333\" xlink:href=\"#mba05550efa\" y=\"140.249047\"/>\r\n     <use style=\"fill:#1f77b4;stroke:#1f77b4;\" x=\"249.774584\" xlink:href=\"#mba05550efa\" y=\"159.630627\"/>\r\n     <use style=\"fill:#1f77b4;stroke:#1f77b4;\" x=\"233.45148\" xlink:href=\"#mba05550efa\" y=\"148.770456\"/>\r\n     <use style=\"fill:#1f77b4;stroke:#1f77b4;\" x=\"224.481345\" xlink:href=\"#mba05550efa\" y=\"123.928339\"/>\r\n     <use style=\"fill:#1f77b4;stroke:#1f77b4;\" x=\"232.516874\" xlink:href=\"#mba05550efa\" y=\"110.492639\"/>\r\n     <use style=\"fill:#1f77b4;stroke:#1f77b4;\" x=\"251.241912\" xlink:href=\"#mba05550efa\" y=\"116.786662\"/>\r\n     <use style=\"fill:#1f77b4;stroke:#1f77b4;\" x=\"261.031644\" xlink:href=\"#mba05550efa\" y=\"115.060517\"/>\r\n     <use style=\"fill:#1f77b4;stroke:#1f77b4;\" x=\"228.749592\" xlink:href=\"#mba05550efa\" y=\"147.318872\"/>\r\n     <use style=\"fill:#1f77b4;stroke:#1f77b4;\" x=\"180.235145\" xlink:href=\"#mba05550efa\" y=\"162.661069\"/>\r\n     <use style=\"fill:#1f77b4;stroke:#1f77b4;\" x=\"190.531304\" xlink:href=\"#mba05550efa\" y=\"187.886247\"/>\r\n     <use style=\"fill:#1f77b4;stroke:#1f77b4;\" x=\"185.263233\" xlink:href=\"#mba05550efa\" y=\"186.023026\"/>\r\n     <use style=\"fill:#1f77b4;stroke:#1f77b4;\" x=\"199.400827\" xlink:href=\"#mba05550efa\" y=\"158.60077\"/>\r\n     <use style=\"fill:#1f77b4;stroke:#1f77b4;\" x=\"253.323281\" xlink:href=\"#mba05550efa\" y=\"166.606241\"/>\r\n     <use style=\"fill:#1f77b4;stroke:#1f77b4;\" x=\"218.981258\" xlink:href=\"#mba05550efa\" y=\"171.34813\"/>\r\n     <use style=\"fill:#1f77b4;stroke:#1f77b4;\" x=\"228.470685\" xlink:href=\"#mba05550efa\" y=\"120.54963\"/>\r\n     <use style=\"fill:#1f77b4;stroke:#1f77b4;\" x=\"246.414484\" xlink:href=\"#mba05550efa\" y=\"104.569118\"/>\r\n     <use style=\"fill:#1f77b4;stroke:#1f77b4;\" x=\"228.827839\" xlink:href=\"#mba05550efa\" y=\"162.943702\"/>\r\n     <use style=\"fill:#1f77b4;stroke:#1f77b4;\" x=\"204.150008\" xlink:href=\"#mba05550efa\" y=\"155.193485\"/>\r\n     <use style=\"fill:#1f77b4;stroke:#1f77b4;\" x=\"200.700957\" xlink:href=\"#mba05550efa\" y=\"186.145813\"/>\r\n     <use style=\"fill:#1f77b4;stroke:#1f77b4;\" x=\"213.639034\" xlink:href=\"#mba05550efa\" y=\"185.306108\"/>\r\n     <use style=\"fill:#1f77b4;stroke:#1f77b4;\" x=\"232.11106\" xlink:href=\"#mba05550efa\" y=\"137.668908\"/>\r\n     <use style=\"fill:#1f77b4;stroke:#1f77b4;\" x=\"203.481845\" xlink:href=\"#mba05550efa\" y=\"165.365726\"/>\r\n     <use style=\"fill:#1f77b4;stroke:#1f77b4;\" x=\"162.936743\" xlink:href=\"#mba05550efa\" y=\"210.8777\"/>\r\n     <use style=\"fill:#1f77b4;stroke:#1f77b4;\" x=\"208.964006\" xlink:href=\"#mba05550efa\" y=\"172.892194\"/>\r\n     <use style=\"fill:#1f77b4;stroke:#1f77b4;\" x=\"207.877966\" xlink:href=\"#mba05550efa\" y=\"151.010398\"/>\r\n     <use style=\"fill:#1f77b4;stroke:#1f77b4;\" x=\"209.798\" xlink:href=\"#mba05550efa\" y=\"157.042418\"/>\r\n     <use style=\"fill:#1f77b4;stroke:#1f77b4;\" x=\"221.347397\" xlink:href=\"#mba05550efa\" y=\"133.760384\"/>\r\n     <use style=\"fill:#1f77b4;stroke:#1f77b4;\" x=\"154.180697\" xlink:href=\"#mba05550efa\" y=\"191.69883\"/>\r\n     <use style=\"fill:#1f77b4;stroke:#1f77b4;\" x=\"206.449962\" xlink:href=\"#mba05550efa\" y=\"161.211216\"/>\r\n     <use style=\"fill:#1f77b4;stroke:#1f77b4;\" x=\"303.237904\" xlink:href=\"#mba05550efa\" y=\"135.825905\"/>\r\n     <use style=\"fill:#1f77b4;stroke:#1f77b4;\" x=\"254.849964\" xlink:href=\"#mba05550efa\" y=\"178.133714\"/>\r\n     <use style=\"fill:#1f77b4;stroke:#1f77b4;\" x=\"306.944463\" xlink:href=\"#mba05550efa\" y=\"109.339706\"/>\r\n     <use style=\"fill:#1f77b4;stroke:#1f77b4;\" x=\"278.970948\" xlink:href=\"#mba05550efa\" y=\"148.545099\"/>\r\n     <use style=\"fill:#1f77b4;stroke:#1f77b4;\" x=\"295.381636\" xlink:href=\"#mba05550efa\" y=\"138.102905\"/>\r\n     <use style=\"fill:#1f77b4;stroke:#1f77b4;\" x=\"340.781027\" xlink:href=\"#mba05550efa\" y=\"93.846145\"/>\r\n     <use style=\"fill:#1f77b4;stroke:#1f77b4;\" x=\"216.085926\" xlink:href=\"#mba05550efa\" y=\"224.392913\"/>\r\n     <use style=\"fill:#1f77b4;stroke:#1f77b4;\" x=\"320.642381\" xlink:href=\"#mba05550efa\" y=\"108.471425\"/>\r\n     <use style=\"fill:#1f77b4;stroke:#1f77b4;\" x=\"294.133859\" xlink:href=\"#mba05550efa\" y=\"153.344674\"/>\r\n     <use style=\"fill:#1f77b4;stroke:#1f77b4;\" x=\"319.955727\" xlink:href=\"#mba05550efa\" y=\"76.47915\"/>\r\n     <use style=\"fill:#1f77b4;stroke:#1f77b4;\" x=\"265.539875\" xlink:href=\"#mba05550efa\" y=\"116.952315\"/>\r\n     <use style=\"fill:#1f77b4;stroke:#1f77b4;\" x=\"271.680863\" xlink:href=\"#mba05550efa\" y=\"151.233737\"/>\r\n     <use style=\"fill:#1f77b4;stroke:#1f77b4;\" x=\"287.385431\" xlink:href=\"#mba05550efa\" y=\"118.895459\"/>\r\n     <use style=\"fill:#1f77b4;stroke:#1f77b4;\" x=\"251.854986\" xlink:href=\"#mba05550efa\" y=\"193.250555\"/>\r\n     <use style=\"fill:#1f77b4;stroke:#1f77b4;\" x=\"262.251192\" xlink:href=\"#mba05550efa\" y=\"175.492551\"/>\r\n     <use style=\"fill:#1f77b4;stroke:#1f77b4;\" x=\"276.062587\" xlink:href=\"#mba05550efa\" y=\"126.159923\"/>\r\n     <use style=\"fill:#1f77b4;stroke:#1f77b4;\" x=\"278.023879\" xlink:href=\"#mba05550efa\" y=\"131.948098\"/>\r\n     <use style=\"fill:#1f77b4;stroke:#1f77b4;\" x=\"344.684152\" xlink:href=\"#mba05550efa\" y=\"47.058328\"/>\r\n     <use style=\"fill:#1f77b4;stroke:#1f77b4;\" x=\"358.064631\" xlink:href=\"#mba05550efa\" y=\"115.822152\"/>\r\n     <use style=\"fill:#1f77b4;stroke:#1f77b4;\" x=\"249.88766\" xlink:href=\"#mba05550efa\" y=\"192.077404\"/>\r\n     <use style=\"fill:#1f77b4;stroke:#1f77b4;\" x=\"298.755567\" xlink:href=\"#mba05550efa\" y=\"106.772125\"/>\r\n     <use style=\"fill:#1f77b4;stroke:#1f77b4;\" x=\"245.474015\" xlink:href=\"#mba05550efa\" y=\"180.467868\"/>\r\n     <use style=\"fill:#1f77b4;stroke:#1f77b4;\" x=\"345.241965\" xlink:href=\"#mba05550efa\" y=\"100.596812\"/>\r\n     <use style=\"fill:#1f77b4;stroke:#1f77b4;\" x=\"253.702235\" xlink:href=\"#mba05550efa\" y=\"150.392302\"/>\r\n     <use style=\"fill:#1f77b4;stroke:#1f77b4;\" x=\"292.148042\" xlink:href=\"#mba05550efa\" y=\"110.007008\"/>\r\n     <use style=\"fill:#1f77b4;stroke:#1f77b4;\" x=\"306.832354\" xlink:href=\"#mba05550efa\" y=\"93.09258\"/>\r\n     <use style=\"fill:#1f77b4;stroke:#1f77b4;\" x=\"248.054243\" xlink:href=\"#mba05550efa\" y=\"148.543368\"/>\r\n     <use style=\"fill:#1f77b4;stroke:#1f77b4;\" x=\"249.468817\" xlink:href=\"#mba05550efa\" y=\"143.823716\"/>\r\n     <use style=\"fill:#1f77b4;stroke:#1f77b4;\" x=\"285.565043\" xlink:href=\"#mba05550efa\" y=\"150.791381\"/>\r\n     <use style=\"fill:#1f77b4;stroke:#1f77b4;\" x=\"297.029192\" xlink:href=\"#mba05550efa\" y=\"100.299891\"/>\r\n     <use style=\"fill:#1f77b4;stroke:#1f77b4;\" x=\"316.700333\" xlink:href=\"#mba05550efa\" y=\"106.991265\"/>\r\n     <use style=\"fill:#1f77b4;stroke:#1f77b4;\" x=\"333.567429\" xlink:href=\"#mba05550efa\" y=\"32.201761\"/>\r\n     <use style=\"fill:#1f77b4;stroke:#1f77b4;\" x=\"287.118587\" xlink:href=\"#mba05550efa\" y=\"151.356524\"/>\r\n     <use style=\"fill:#1f77b4;stroke:#1f77b4;\" x=\"256.104169\" xlink:href=\"#mba05550efa\" y=\"145.826154\"/>\r\n     <use style=\"fill:#1f77b4;stroke:#1f77b4;\" x=\"270.722296\" xlink:href=\"#mba05550efa\" y=\"172.517204\"/>\r\n     <use style=\"fill:#1f77b4;stroke:#1f77b4;\" x=\"326.882449\" xlink:href=\"#mba05550efa\" y=\"83.570014\"/>\r\n     <use style=\"fill:#1f77b4;stroke:#1f77b4;\" x=\"286.45976\" xlink:href=\"#mba05550efa\" y=\"124.60157\"/>\r\n     <use style=\"fill:#1f77b4;stroke:#1f77b4;\" x=\"276.090415\" xlink:href=\"#mba05550efa\" y=\"131.397244\"/>\r\n     <use style=\"fill:#1f77b4;stroke:#1f77b4;\" x=\"244.187315\" xlink:href=\"#mba05550efa\" y=\"147.441659\"/>\r\n     <use style=\"fill:#1f77b4;stroke:#1f77b4;\" x=\"284.871387\" xlink:href=\"#mba05550efa\" y=\"107.214481\"/>\r\n     <use style=\"fill:#1f77b4;stroke:#1f77b4;\" x=\"293.827126\" xlink:href=\"#mba05550efa\" y=\"121.338111\"/>\r\n     <use style=\"fill:#1f77b4;stroke:#1f77b4;\" x=\"276.834891\" xlink:href=\"#mba05550efa\" y=\"104.45053\"/>\r\n     <use style=\"fill:#1f77b4;stroke:#1f77b4;\" x=\"254.849964\" xlink:href=\"#mba05550efa\" y=\"178.133714\"/>\r\n     <use style=\"fill:#1f77b4;stroke:#1f77b4;\" x=\"304.617649\" xlink:href=\"#mba05550efa\" y=\"114.284305\"/>\r\n     <use style=\"fill:#1f77b4;stroke:#1f77b4;\" x=\"298.362217\" xlink:href=\"#mba05550efa\" y=\"112.267579\"/>\r\n     <use style=\"fill:#1f77b4;stroke:#1f77b4;\" x=\"277.781961\" xlink:href=\"#mba05550efa\" y=\"121.047531\"/>\r\n     <use style=\"fill:#1f77b4;stroke:#1f77b4;\" x=\"259.703286\" xlink:href=\"#mba05550efa\" y=\"163.189277\"/>\r\n     <use style=\"fill:#1f77b4;stroke:#1f77b4;\" x=\"269.987383\" xlink:href=\"#mba05550efa\" y=\"129.184147\"/>\r\n     <use style=\"fill:#1f77b4;stroke:#1f77b4;\" x=\"275.910187\" xlink:href=\"#mba05550efa\" y=\"126.356293\"/>\r\n     <use style=\"fill:#1f77b4;stroke:#1f77b4;\" x=\"253.763924\" xlink:href=\"#mba05550efa\" y=\"156.251918\"/>\r\n    </g>\r\n   </g>\r\n   <g id=\"matplotlib.axis_1\">\r\n    <g id=\"xtick_1\">\r\n     <g id=\"line2d_1\">\r\n      <defs>\r\n       <path d=\"M 0 0 \r\nL 0 3.5 \r\n\" id=\"m44fa6ad976\" style=\"stroke:#000000;stroke-width:0.8;\"/>\r\n      </defs>\r\n      <g>\r\n       <use style=\"stroke:#000000;stroke-width:0.8;\" x=\"63.405135\" xlink:href=\"#m44fa6ad976\" y=\"239.758125\"/>\r\n      </g>\r\n     </g>\r\n     <g id=\"text_1\">\r\n      <!-- −3 -->\r\n      <g transform=\"translate(56.034041 254.356563)scale(0.1 -0.1)\">\r\n       <defs>\r\n        <path d=\"M 10.59375 35.5 \r\nL 73.1875 35.5 \r\nL 73.1875 27.203125 \r\nL 10.59375 27.203125 \r\nz\r\n\" id=\"DejaVuSans-8722\"/>\r\n        <path d=\"M 40.578125 39.3125 \r\nQ 47.65625 37.796875 51.625 33 \r\nQ 55.609375 28.21875 55.609375 21.1875 \r\nQ 55.609375 10.40625 48.1875 4.484375 \r\nQ 40.765625 -1.421875 27.09375 -1.421875 \r\nQ 22.515625 -1.421875 17.65625 -0.515625 \r\nQ 12.796875 0.390625 7.625 2.203125 \r\nL 7.625 11.71875 \r\nQ 11.71875 9.328125 16.59375 8.109375 \r\nQ 21.484375 6.890625 26.8125 6.890625 \r\nQ 36.078125 6.890625 40.9375 10.546875 \r\nQ 45.796875 14.203125 45.796875 21.1875 \r\nQ 45.796875 27.640625 41.28125 31.265625 \r\nQ 36.765625 34.90625 28.71875 34.90625 \r\nL 20.21875 34.90625 \r\nL 20.21875 43.015625 \r\nL 29.109375 43.015625 \r\nQ 36.375 43.015625 40.234375 45.921875 \r\nQ 44.09375 48.828125 44.09375 54.296875 \r\nQ 44.09375 59.90625 40.109375 62.90625 \r\nQ 36.140625 65.921875 28.71875 65.921875 \r\nQ 24.65625 65.921875 20.015625 65.03125 \r\nQ 15.375 64.15625 9.8125 62.3125 \r\nL 9.8125 71.09375 \r\nQ 15.4375 72.65625 20.34375 73.4375 \r\nQ 25.25 74.21875 29.59375 74.21875 \r\nQ 40.828125 74.21875 47.359375 69.109375 \r\nQ 53.90625 64.015625 53.90625 55.328125 \r\nQ 53.90625 49.265625 50.4375 45.09375 \r\nQ 46.96875 40.921875 40.578125 39.3125 \r\nz\r\n\" id=\"DejaVuSans-51\"/>\r\n       </defs>\r\n       <use xlink:href=\"#DejaVuSans-8722\"/>\r\n       <use x=\"83.789062\" xlink:href=\"#DejaVuSans-51\"/>\r\n      </g>\r\n     </g>\r\n    </g>\r\n    <g id=\"xtick_2\">\r\n     <g id=\"line2d_2\">\r\n      <g>\r\n       <use style=\"stroke:#000000;stroke-width:0.8;\" x=\"106.765181\" xlink:href=\"#m44fa6ad976\" y=\"239.758125\"/>\r\n      </g>\r\n     </g>\r\n     <g id=\"text_2\">\r\n      <!-- −2 -->\r\n      <g transform=\"translate(99.394087 254.356563)scale(0.1 -0.1)\">\r\n       <defs>\r\n        <path d=\"M 19.1875 8.296875 \r\nL 53.609375 8.296875 \r\nL 53.609375 0 \r\nL 7.328125 0 \r\nL 7.328125 8.296875 \r\nQ 12.9375 14.109375 22.625 23.890625 \r\nQ 32.328125 33.6875 34.8125 36.53125 \r\nQ 39.546875 41.84375 41.421875 45.53125 \r\nQ 43.3125 49.21875 43.3125 52.78125 \r\nQ 43.3125 58.59375 39.234375 62.25 \r\nQ 35.15625 65.921875 28.609375 65.921875 \r\nQ 23.96875 65.921875 18.8125 64.3125 \r\nQ 13.671875 62.703125 7.8125 59.421875 \r\nL 7.8125 69.390625 \r\nQ 13.765625 71.78125 18.9375 73 \r\nQ 24.125 74.21875 28.421875 74.21875 \r\nQ 39.75 74.21875 46.484375 68.546875 \r\nQ 53.21875 62.890625 53.21875 53.421875 \r\nQ 53.21875 48.921875 51.53125 44.890625 \r\nQ 49.859375 40.875 45.40625 35.40625 \r\nQ 44.1875 33.984375 37.640625 27.21875 \r\nQ 31.109375 20.453125 19.1875 8.296875 \r\nz\r\n\" id=\"DejaVuSans-50\"/>\r\n       </defs>\r\n       <use xlink:href=\"#DejaVuSans-8722\"/>\r\n       <use x=\"83.789062\" xlink:href=\"#DejaVuSans-50\"/>\r\n      </g>\r\n     </g>\r\n    </g>\r\n    <g id=\"xtick_3\">\r\n     <g id=\"line2d_3\">\r\n      <g>\r\n       <use style=\"stroke:#000000;stroke-width:0.8;\" x=\"150.125226\" xlink:href=\"#m44fa6ad976\" y=\"239.758125\"/>\r\n      </g>\r\n     </g>\r\n     <g id=\"text_3\">\r\n      <!-- −1 -->\r\n      <g transform=\"translate(142.754132 254.356563)scale(0.1 -0.1)\">\r\n       <defs>\r\n        <path d=\"M 12.40625 8.296875 \r\nL 28.515625 8.296875 \r\nL 28.515625 63.921875 \r\nL 10.984375 60.40625 \r\nL 10.984375 69.390625 \r\nL 28.421875 72.90625 \r\nL 38.28125 72.90625 \r\nL 38.28125 8.296875 \r\nL 54.390625 8.296875 \r\nL 54.390625 0 \r\nL 12.40625 0 \r\nz\r\n\" id=\"DejaVuSans-49\"/>\r\n       </defs>\r\n       <use xlink:href=\"#DejaVuSans-8722\"/>\r\n       <use x=\"83.789062\" xlink:href=\"#DejaVuSans-49\"/>\r\n      </g>\r\n     </g>\r\n    </g>\r\n    <g id=\"xtick_4\">\r\n     <g id=\"line2d_4\">\r\n      <g>\r\n       <use style=\"stroke:#000000;stroke-width:0.8;\" x=\"193.485272\" xlink:href=\"#m44fa6ad976\" y=\"239.758125\"/>\r\n      </g>\r\n     </g>\r\n     <g id=\"text_4\">\r\n      <!-- 0 -->\r\n      <g transform=\"translate(190.304022 254.356563)scale(0.1 -0.1)\">\r\n       <defs>\r\n        <path d=\"M 31.78125 66.40625 \r\nQ 24.171875 66.40625 20.328125 58.90625 \r\nQ 16.5 51.421875 16.5 36.375 \r\nQ 16.5 21.390625 20.328125 13.890625 \r\nQ 24.171875 6.390625 31.78125 6.390625 \r\nQ 39.453125 6.390625 43.28125 13.890625 \r\nQ 47.125 21.390625 47.125 36.375 \r\nQ 47.125 51.421875 43.28125 58.90625 \r\nQ 39.453125 66.40625 31.78125 66.40625 \r\nz\r\nM 31.78125 74.21875 \r\nQ 44.046875 74.21875 50.515625 64.515625 \r\nQ 56.984375 54.828125 56.984375 36.375 \r\nQ 56.984375 17.96875 50.515625 8.265625 \r\nQ 44.046875 -1.421875 31.78125 -1.421875 \r\nQ 19.53125 -1.421875 13.0625 8.265625 \r\nQ 6.59375 17.96875 6.59375 36.375 \r\nQ 6.59375 54.828125 13.0625 64.515625 \r\nQ 19.53125 74.21875 31.78125 74.21875 \r\nz\r\n\" id=\"DejaVuSans-48\"/>\r\n       </defs>\r\n       <use xlink:href=\"#DejaVuSans-48\"/>\r\n      </g>\r\n     </g>\r\n    </g>\r\n    <g id=\"xtick_5\">\r\n     <g id=\"line2d_5\">\r\n      <g>\r\n       <use style=\"stroke:#000000;stroke-width:0.8;\" x=\"236.845318\" xlink:href=\"#m44fa6ad976\" y=\"239.758125\"/>\r\n      </g>\r\n     </g>\r\n     <g id=\"text_5\">\r\n      <!-- 1 -->\r\n      <g transform=\"translate(233.664068 254.356563)scale(0.1 -0.1)\">\r\n       <use xlink:href=\"#DejaVuSans-49\"/>\r\n      </g>\r\n     </g>\r\n    </g>\r\n    <g id=\"xtick_6\">\r\n     <g id=\"line2d_6\">\r\n      <g>\r\n       <use style=\"stroke:#000000;stroke-width:0.8;\" x=\"280.205363\" xlink:href=\"#m44fa6ad976\" y=\"239.758125\"/>\r\n      </g>\r\n     </g>\r\n     <g id=\"text_6\">\r\n      <!-- 2 -->\r\n      <g transform=\"translate(277.024113 254.356563)scale(0.1 -0.1)\">\r\n       <use xlink:href=\"#DejaVuSans-50\"/>\r\n      </g>\r\n     </g>\r\n    </g>\r\n    <g id=\"xtick_7\">\r\n     <g id=\"line2d_7\">\r\n      <g>\r\n       <use style=\"stroke:#000000;stroke-width:0.8;\" x=\"323.565409\" xlink:href=\"#m44fa6ad976\" y=\"239.758125\"/>\r\n      </g>\r\n     </g>\r\n     <g id=\"text_7\">\r\n      <!-- 3 -->\r\n      <g transform=\"translate(320.384159 254.356563)scale(0.1 -0.1)\">\r\n       <use xlink:href=\"#DejaVuSans-51\"/>\r\n      </g>\r\n     </g>\r\n    </g>\r\n    <g id=\"xtick_8\">\r\n     <g id=\"line2d_8\">\r\n      <g>\r\n       <use style=\"stroke:#000000;stroke-width:0.8;\" x=\"366.925455\" xlink:href=\"#m44fa6ad976\" y=\"239.758125\"/>\r\n      </g>\r\n     </g>\r\n     <g id=\"text_8\">\r\n      <!-- 4 -->\r\n      <g transform=\"translate(363.744205 254.356563)scale(0.1 -0.1)\">\r\n       <defs>\r\n        <path d=\"M 37.796875 64.3125 \r\nL 12.890625 25.390625 \r\nL 37.796875 25.390625 \r\nz\r\nM 35.203125 72.90625 \r\nL 47.609375 72.90625 \r\nL 47.609375 25.390625 \r\nL 58.015625 25.390625 \r\nL 58.015625 17.1875 \r\nL 47.609375 17.1875 \r\nL 47.609375 0 \r\nL 37.796875 0 \r\nL 37.796875 17.1875 \r\nL 4.890625 17.1875 \r\nL 4.890625 26.703125 \r\nz\r\n\" id=\"DejaVuSans-52\"/>\r\n       </defs>\r\n       <use xlink:href=\"#DejaVuSans-52\"/>\r\n      </g>\r\n     </g>\r\n    </g>\r\n   </g>\r\n   <g id=\"matplotlib.axis_2\">\r\n    <g id=\"ytick_1\">\r\n     <g id=\"line2d_9\">\r\n      <defs>\r\n       <path d=\"M 0 0 \r\nL -3.5 0 \r\n\" id=\"m3d5e7ee50d\" style=\"stroke:#000000;stroke-width:0.8;\"/>\r\n      </defs>\r\n      <g>\r\n       <use style=\"stroke:#000000;stroke-width:0.8;\" x=\"38.482813\" xlink:href=\"#m3d5e7ee50d\" y=\"209.960649\"/>\r\n      </g>\r\n     </g>\r\n     <g id=\"text_9\">\r\n      <!-- −1.0 -->\r\n      <g transform=\"translate(7.2 213.759868)scale(0.1 -0.1)\">\r\n       <defs>\r\n        <path d=\"M 10.6875 12.40625 \r\nL 21 12.40625 \r\nL 21 0 \r\nL 10.6875 0 \r\nz\r\n\" id=\"DejaVuSans-46\"/>\r\n       </defs>\r\n       <use xlink:href=\"#DejaVuSans-8722\"/>\r\n       <use x=\"83.789062\" xlink:href=\"#DejaVuSans-49\"/>\r\n       <use x=\"147.412109\" xlink:href=\"#DejaVuSans-46\"/>\r\n       <use x=\"179.199219\" xlink:href=\"#DejaVuSans-48\"/>\r\n      </g>\r\n     </g>\r\n    </g>\r\n    <g id=\"ytick_2\">\r\n     <g id=\"line2d_10\">\r\n      <g>\r\n       <use style=\"stroke:#000000;stroke-width:0.8;\" x=\"38.482813\" xlink:href=\"#m3d5e7ee50d\" y=\"172.524565\"/>\r\n      </g>\r\n     </g>\r\n     <g id=\"text_10\">\r\n      <!-- −0.5 -->\r\n      <g transform=\"translate(7.2 176.323784)scale(0.1 -0.1)\">\r\n       <defs>\r\n        <path d=\"M 10.796875 72.90625 \r\nL 49.515625 72.90625 \r\nL 49.515625 64.59375 \r\nL 19.828125 64.59375 \r\nL 19.828125 46.734375 \r\nQ 21.96875 47.46875 24.109375 47.828125 \r\nQ 26.265625 48.1875 28.421875 48.1875 \r\nQ 40.625 48.1875 47.75 41.5 \r\nQ 54.890625 34.8125 54.890625 23.390625 \r\nQ 54.890625 11.625 47.5625 5.09375 \r\nQ 40.234375 -1.421875 26.90625 -1.421875 \r\nQ 22.3125 -1.421875 17.546875 -0.640625 \r\nQ 12.796875 0.140625 7.71875 1.703125 \r\nL 7.71875 11.625 \r\nQ 12.109375 9.234375 16.796875 8.0625 \r\nQ 21.484375 6.890625 26.703125 6.890625 \r\nQ 35.15625 6.890625 40.078125 11.328125 \r\nQ 45.015625 15.765625 45.015625 23.390625 \r\nQ 45.015625 31 40.078125 35.4375 \r\nQ 35.15625 39.890625 26.703125 39.890625 \r\nQ 22.75 39.890625 18.8125 39.015625 \r\nQ 14.890625 38.140625 10.796875 36.28125 \r\nz\r\n\" id=\"DejaVuSans-53\"/>\r\n       </defs>\r\n       <use xlink:href=\"#DejaVuSans-8722\"/>\r\n       <use x=\"83.789062\" xlink:href=\"#DejaVuSans-48\"/>\r\n       <use x=\"147.412109\" xlink:href=\"#DejaVuSans-46\"/>\r\n       <use x=\"179.199219\" xlink:href=\"#DejaVuSans-53\"/>\r\n      </g>\r\n     </g>\r\n    </g>\r\n    <g id=\"ytick_3\">\r\n     <g id=\"line2d_11\">\r\n      <g>\r\n       <use style=\"stroke:#000000;stroke-width:0.8;\" x=\"38.482813\" xlink:href=\"#m3d5e7ee50d\" y=\"135.088481\"/>\r\n      </g>\r\n     </g>\r\n     <g id=\"text_11\">\r\n      <!-- 0.0 -->\r\n      <g transform=\"translate(15.579688 138.8877)scale(0.1 -0.1)\">\r\n       <use xlink:href=\"#DejaVuSans-48\"/>\r\n       <use x=\"63.623047\" xlink:href=\"#DejaVuSans-46\"/>\r\n       <use x=\"95.410156\" xlink:href=\"#DejaVuSans-48\"/>\r\n      </g>\r\n     </g>\r\n    </g>\r\n    <g id=\"ytick_4\">\r\n     <g id=\"line2d_12\">\r\n      <g>\r\n       <use style=\"stroke:#000000;stroke-width:0.8;\" x=\"38.482813\" xlink:href=\"#m3d5e7ee50d\" y=\"97.652397\"/>\r\n      </g>\r\n     </g>\r\n     <g id=\"text_12\">\r\n      <!-- 0.5 -->\r\n      <g transform=\"translate(15.579688 101.451615)scale(0.1 -0.1)\">\r\n       <use xlink:href=\"#DejaVuSans-48\"/>\r\n       <use x=\"63.623047\" xlink:href=\"#DejaVuSans-46\"/>\r\n       <use x=\"95.410156\" xlink:href=\"#DejaVuSans-53\"/>\r\n      </g>\r\n     </g>\r\n    </g>\r\n    <g id=\"ytick_5\">\r\n     <g id=\"line2d_13\">\r\n      <g>\r\n       <use style=\"stroke:#000000;stroke-width:0.8;\" x=\"38.482813\" xlink:href=\"#m3d5e7ee50d\" y=\"60.216313\"/>\r\n      </g>\r\n     </g>\r\n     <g id=\"text_13\">\r\n      <!-- 1.0 -->\r\n      <g transform=\"translate(15.579688 64.015531)scale(0.1 -0.1)\">\r\n       <use xlink:href=\"#DejaVuSans-49\"/>\r\n       <use x=\"63.623047\" xlink:href=\"#DejaVuSans-46\"/>\r\n       <use x=\"95.410156\" xlink:href=\"#DejaVuSans-48\"/>\r\n      </g>\r\n     </g>\r\n    </g>\r\n    <g id=\"ytick_6\">\r\n     <g id=\"line2d_14\">\r\n      <g>\r\n       <use style=\"stroke:#000000;stroke-width:0.8;\" x=\"38.482813\" xlink:href=\"#m3d5e7ee50d\" y=\"22.780229\"/>\r\n      </g>\r\n     </g>\r\n     <g id=\"text_14\">\r\n      <!-- 1.5 -->\r\n      <g transform=\"translate(15.579688 26.579447)scale(0.1 -0.1)\">\r\n       <use xlink:href=\"#DejaVuSans-49\"/>\r\n       <use x=\"63.623047\" xlink:href=\"#DejaVuSans-46\"/>\r\n       <use x=\"95.410156\" xlink:href=\"#DejaVuSans-53\"/>\r\n      </g>\r\n     </g>\r\n    </g>\r\n   </g>\r\n   <g id=\"patch_3\">\r\n    <path d=\"M 38.482813 239.758125 \r\nL 38.482813 22.318125 \r\n\" style=\"fill:none;stroke:#000000;stroke-linecap:square;stroke-linejoin:miter;stroke-width:0.8;\"/>\r\n   </g>\r\n   <g id=\"patch_4\">\r\n    <path d=\"M 373.282813 239.758125 \r\nL 373.282813 22.318125 \r\n\" style=\"fill:none;stroke:#000000;stroke-linecap:square;stroke-linejoin:miter;stroke-width:0.8;\"/>\r\n   </g>\r\n   <g id=\"patch_5\">\r\n    <path d=\"M 38.482812 239.758125 \r\nL 373.282812 239.758125 \r\n\" style=\"fill:none;stroke:#000000;stroke-linecap:square;stroke-linejoin:miter;stroke-width:0.8;\"/>\r\n   </g>\r\n   <g id=\"patch_6\">\r\n    <path d=\"M 38.482812 22.318125 \r\nL 373.282812 22.318125 \r\n\" style=\"fill:none;stroke:#000000;stroke-linecap:square;stroke-linejoin:miter;stroke-width:0.8;\"/>\r\n   </g>\r\n   <g id=\"text_15\">\r\n    <!-- IRIS DATA CON PCA 2 -->\r\n    <g transform=\"translate(142.147812 16.318125)scale(0.12 -0.12)\">\r\n     <defs>\r\n      <path d=\"M 9.8125 72.90625 \r\nL 19.671875 72.90625 \r\nL 19.671875 0 \r\nL 9.8125 0 \r\nz\r\n\" id=\"DejaVuSans-73\"/>\r\n      <path d=\"M 44.390625 34.1875 \r\nQ 47.5625 33.109375 50.5625 29.59375 \r\nQ 53.5625 26.078125 56.59375 19.921875 \r\nL 66.609375 0 \r\nL 56 0 \r\nL 46.6875 18.703125 \r\nQ 43.0625 26.03125 39.671875 28.421875 \r\nQ 36.28125 30.8125 30.421875 30.8125 \r\nL 19.671875 30.8125 \r\nL 19.671875 0 \r\nL 9.8125 0 \r\nL 9.8125 72.90625 \r\nL 32.078125 72.90625 \r\nQ 44.578125 72.90625 50.734375 67.671875 \r\nQ 56.890625 62.453125 56.890625 51.90625 \r\nQ 56.890625 45.015625 53.6875 40.46875 \r\nQ 50.484375 35.9375 44.390625 34.1875 \r\nz\r\nM 19.671875 64.796875 \r\nL 19.671875 38.921875 \r\nL 32.078125 38.921875 \r\nQ 39.203125 38.921875 42.84375 42.21875 \r\nQ 46.484375 45.515625 46.484375 51.90625 \r\nQ 46.484375 58.296875 42.84375 61.546875 \r\nQ 39.203125 64.796875 32.078125 64.796875 \r\nz\r\n\" id=\"DejaVuSans-82\"/>\r\n      <path d=\"M 53.515625 70.515625 \r\nL 53.515625 60.890625 \r\nQ 47.90625 63.578125 42.921875 64.890625 \r\nQ 37.9375 66.21875 33.296875 66.21875 \r\nQ 25.25 66.21875 20.875 63.09375 \r\nQ 16.5 59.96875 16.5 54.203125 \r\nQ 16.5 49.359375 19.40625 46.890625 \r\nQ 22.3125 44.4375 30.421875 42.921875 \r\nL 36.375 41.703125 \r\nQ 47.40625 39.59375 52.65625 34.296875 \r\nQ 57.90625 29 57.90625 20.125 \r\nQ 57.90625 9.515625 50.796875 4.046875 \r\nQ 43.703125 -1.421875 29.984375 -1.421875 \r\nQ 24.8125 -1.421875 18.96875 -0.25 \r\nQ 13.140625 0.921875 6.890625 3.21875 \r\nL 6.890625 13.375 \r\nQ 12.890625 10.015625 18.65625 8.296875 \r\nQ 24.421875 6.59375 29.984375 6.59375 \r\nQ 38.421875 6.59375 43.015625 9.90625 \r\nQ 47.609375 13.234375 47.609375 19.390625 \r\nQ 47.609375 24.75 44.3125 27.78125 \r\nQ 41.015625 30.8125 33.5 32.328125 \r\nL 27.484375 33.5 \r\nQ 16.453125 35.6875 11.515625 40.375 \r\nQ 6.59375 45.0625 6.59375 53.421875 \r\nQ 6.59375 63.09375 13.40625 68.65625 \r\nQ 20.21875 74.21875 32.171875 74.21875 \r\nQ 37.3125 74.21875 42.625 73.28125 \r\nQ 47.953125 72.359375 53.515625 70.515625 \r\nz\r\n\" id=\"DejaVuSans-83\"/>\r\n      <path id=\"DejaVuSans-32\"/>\r\n      <path d=\"M 19.671875 64.796875 \r\nL 19.671875 8.109375 \r\nL 31.59375 8.109375 \r\nQ 46.6875 8.109375 53.6875 14.9375 \r\nQ 60.6875 21.78125 60.6875 36.53125 \r\nQ 60.6875 51.171875 53.6875 57.984375 \r\nQ 46.6875 64.796875 31.59375 64.796875 \r\nz\r\nM 9.8125 72.90625 \r\nL 30.078125 72.90625 \r\nQ 51.265625 72.90625 61.171875 64.09375 \r\nQ 71.09375 55.28125 71.09375 36.53125 \r\nQ 71.09375 17.671875 61.125 8.828125 \r\nQ 51.171875 0 30.078125 0 \r\nL 9.8125 0 \r\nz\r\n\" id=\"DejaVuSans-68\"/>\r\n      <path d=\"M 34.1875 63.1875 \r\nL 20.796875 26.90625 \r\nL 47.609375 26.90625 \r\nz\r\nM 28.609375 72.90625 \r\nL 39.796875 72.90625 \r\nL 67.578125 0 \r\nL 57.328125 0 \r\nL 50.6875 18.703125 \r\nL 17.828125 18.703125 \r\nL 11.1875 0 \r\nL 0.78125 0 \r\nz\r\n\" id=\"DejaVuSans-65\"/>\r\n      <path d=\"M -0.296875 72.90625 \r\nL 61.375 72.90625 \r\nL 61.375 64.59375 \r\nL 35.5 64.59375 \r\nL 35.5 0 \r\nL 25.59375 0 \r\nL 25.59375 64.59375 \r\nL -0.296875 64.59375 \r\nz\r\n\" id=\"DejaVuSans-84\"/>\r\n      <path d=\"M 64.40625 67.28125 \r\nL 64.40625 56.890625 \r\nQ 59.421875 61.53125 53.78125 63.8125 \r\nQ 48.140625 66.109375 41.796875 66.109375 \r\nQ 29.296875 66.109375 22.65625 58.46875 \r\nQ 16.015625 50.828125 16.015625 36.375 \r\nQ 16.015625 21.96875 22.65625 14.328125 \r\nQ 29.296875 6.6875 41.796875 6.6875 \r\nQ 48.140625 6.6875 53.78125 8.984375 \r\nQ 59.421875 11.28125 64.40625 15.921875 \r\nL 64.40625 5.609375 \r\nQ 59.234375 2.09375 53.4375 0.328125 \r\nQ 47.65625 -1.421875 41.21875 -1.421875 \r\nQ 24.65625 -1.421875 15.125 8.703125 \r\nQ 5.609375 18.84375 5.609375 36.375 \r\nQ 5.609375 53.953125 15.125 64.078125 \r\nQ 24.65625 74.21875 41.21875 74.21875 \r\nQ 47.75 74.21875 53.53125 72.484375 \r\nQ 59.328125 70.75 64.40625 67.28125 \r\nz\r\n\" id=\"DejaVuSans-67\"/>\r\n      <path d=\"M 39.40625 66.21875 \r\nQ 28.65625 66.21875 22.328125 58.203125 \r\nQ 16.015625 50.203125 16.015625 36.375 \r\nQ 16.015625 22.609375 22.328125 14.59375 \r\nQ 28.65625 6.59375 39.40625 6.59375 \r\nQ 50.140625 6.59375 56.421875 14.59375 \r\nQ 62.703125 22.609375 62.703125 36.375 \r\nQ 62.703125 50.203125 56.421875 58.203125 \r\nQ 50.140625 66.21875 39.40625 66.21875 \r\nz\r\nM 39.40625 74.21875 \r\nQ 54.734375 74.21875 63.90625 63.9375 \r\nQ 73.09375 53.65625 73.09375 36.375 \r\nQ 73.09375 19.140625 63.90625 8.859375 \r\nQ 54.734375 -1.421875 39.40625 -1.421875 \r\nQ 24.03125 -1.421875 14.8125 8.828125 \r\nQ 5.609375 19.09375 5.609375 36.375 \r\nQ 5.609375 53.65625 14.8125 63.9375 \r\nQ 24.03125 74.21875 39.40625 74.21875 \r\nz\r\n\" id=\"DejaVuSans-79\"/>\r\n      <path d=\"M 9.8125 72.90625 \r\nL 23.09375 72.90625 \r\nL 55.421875 11.921875 \r\nL 55.421875 72.90625 \r\nL 64.984375 72.90625 \r\nL 64.984375 0 \r\nL 51.703125 0 \r\nL 19.390625 60.984375 \r\nL 19.390625 0 \r\nL 9.8125 0 \r\nz\r\n\" id=\"DejaVuSans-78\"/>\r\n      <path d=\"M 19.671875 64.796875 \r\nL 19.671875 37.40625 \r\nL 32.078125 37.40625 \r\nQ 38.96875 37.40625 42.71875 40.96875 \r\nQ 46.484375 44.53125 46.484375 51.125 \r\nQ 46.484375 57.671875 42.71875 61.234375 \r\nQ 38.96875 64.796875 32.078125 64.796875 \r\nz\r\nM 9.8125 72.90625 \r\nL 32.078125 72.90625 \r\nQ 44.34375 72.90625 50.609375 67.359375 \r\nQ 56.890625 61.8125 56.890625 51.125 \r\nQ 56.890625 40.328125 50.609375 34.8125 \r\nQ 44.34375 29.296875 32.078125 29.296875 \r\nL 19.671875 29.296875 \r\nL 19.671875 0 \r\nL 9.8125 0 \r\nz\r\n\" id=\"DejaVuSans-80\"/>\r\n     </defs>\r\n     <use xlink:href=\"#DejaVuSans-73\"/>\r\n     <use x=\"29.492188\" xlink:href=\"#DejaVuSans-82\"/>\r\n     <use x=\"98.974609\" xlink:href=\"#DejaVuSans-73\"/>\r\n     <use x=\"128.466797\" xlink:href=\"#DejaVuSans-83\"/>\r\n     <use x=\"191.943359\" xlink:href=\"#DejaVuSans-32\"/>\r\n     <use x=\"223.730469\" xlink:href=\"#DejaVuSans-68\"/>\r\n     <use x=\"298.982422\" xlink:href=\"#DejaVuSans-65\"/>\r\n     <use x=\"359.640625\" xlink:href=\"#DejaVuSans-84\"/>\r\n     <use x=\"412.974609\" xlink:href=\"#DejaVuSans-65\"/>\r\n     <use x=\"481.382812\" xlink:href=\"#DejaVuSans-32\"/>\r\n     <use x=\"513.169922\" xlink:href=\"#DejaVuSans-67\"/>\r\n     <use x=\"582.994141\" xlink:href=\"#DejaVuSans-79\"/>\r\n     <use x=\"661.705078\" xlink:href=\"#DejaVuSans-78\"/>\r\n     <use x=\"736.509766\" xlink:href=\"#DejaVuSans-32\"/>\r\n     <use x=\"768.296875\" xlink:href=\"#DejaVuSans-80\"/>\r\n     <use x=\"828.599609\" xlink:href=\"#DejaVuSans-67\"/>\r\n     <use x=\"898.423828\" xlink:href=\"#DejaVuSans-65\"/>\r\n     <use x=\"966.832031\" xlink:href=\"#DejaVuSans-32\"/>\r\n     <use x=\"998.619141\" xlink:href=\"#DejaVuSans-50\"/>\r\n    </g>\r\n   </g>\r\n  </g>\r\n </g>\r\n <defs>\r\n  <clipPath id=\"pc002491fa0\">\r\n   <rect height=\"217.44\" width=\"334.8\" x=\"38.482813\" y=\"22.318125\"/>\r\n  </clipPath>\r\n </defs>\r\n</svg>\r\n",
      "image/png": "[encoded data removed]"
     },
     "metadata": {
      "needs_background": "light"
     }
    }
   ],
   "source": [
    "import matplotlib.pyplot as plt \n",
    "\n",
    "# Con PCA 2\n",
    "plt.scatter(X_pca2[:, 0], X_pca2[:, 1])\n",
    "plt.title('IRIS DATA CON PCA 2')\n",
    "plt.show()"
   ]
  },
  {
   "cell_type": "code",
   "execution_count": 10,
   "metadata": {},
   "outputs": [
    {
     "output_type": "display_data",
     "data": {
      "text/plain": "<Figure size 432x288 with 1 Axes>",
      "image/svg+xml": "<?xml version=\"1.0\" encoding=\"utf-8\" standalone=\"no\"?>\r\n<!DOCTYPE svg PUBLIC \"-//W3C//DTD SVG 1.1//EN\"\r\n  \"http://www.w3.org/Graphics/SVG/1.1/DTD/svg11.dtd\">\r\n<!-- Created with matplotlib (https://matplotlib.org/) -->\r\n<svg height=\"251.85524pt\" version=\"1.1\" viewBox=\"0 0 380.482812 251.85524\" width=\"380.482812pt\" xmlns=\"http://www.w3.org/2000/svg\" xmlns:xlink=\"http://www.w3.org/1999/xlink\">\r\n <metadata>\r\n  <rdf:RDF xmlns:cc=\"http://creativecommons.org/ns#\" xmlns:dc=\"http://purl.org/dc/elements/1.1/\" xmlns:rdf=\"http://www.w3.org/1999/02/22-rdf-syntax-ns#\">\r\n   <cc:Work>\r\n    <dc:type rdf:resource=\"http://purl.org/dc/dcmitype/StillImage\"/>\r\n    <dc:date>2021-06-23T13:15:56.730224</dc:date>\r\n    <dc:format>image/svg+xml</dc:format>\r\n    <dc:creator>\r\n     <cc:Agent>\r\n      <dc:title>Matplotlib v3.3.3, https://matplotlib.org/</dc:title>\r\n     </cc:Agent>\r\n    </dc:creator>\r\n   </cc:Work>\r\n  </rdf:RDF>\r\n </metadata>\r\n <defs>\r\n  <style type=\"text/css\">*{stroke-linecap:butt;stroke-linejoin:round;}</style>\r\n </defs>\r\n <g id=\"figure_1\">\r\n  <g id=\"patch_1\">\r\n   <path d=\"M -0 251.85524 \r\nL 380.482812 251.85524 \r\nL 380.482812 0 \r\nL -0 0 \r\nz\r\n\" style=\"fill:none;\"/>\r\n  </g>\r\n  <g id=\"axes_1\">\r\n   <g id=\"patch_2\">\r\n    <path d=\"M 38.482813 227.977115 \r\nL 373.282813 227.977115 \r\nL 373.282813 10.537115 \r\nL 38.482813 10.537115 \r\nz\r\n\" style=\"fill:#ffffff;\"/>\r\n   </g>\r\n   <g id=\"PathCollection_1\">\r\n    <defs>\r\n     <path d=\"M 0 3 \r\nC 0.795609 3 1.55874 2.683901 2.12132 2.12132 \r\nC 2.683901 1.55874 3 0.795609 3 -0 \r\nC 3 -0.795609 2.683901 -1.55874 2.12132 -2.12132 \r\nC 1.55874 -2.683901 0.795609 -3 0 -3 \r\nC -0.795609 -3 -1.55874 -2.683901 -2.12132 -2.12132 \r\nC -2.683901 -1.55874 -3 -0.795609 -3 0 \r\nC -3 0.795609 -2.683901 1.55874 -2.12132 2.12132 \r\nC -1.55874 2.683901 -0.795609 3 0 3 \r\nz\r\n\" id=\"C0_0_825bcd9773\"/>\r\n    </defs>\r\n    <g clip-path=\"url(#p19b5eea1d1)\">\r\n     <use style=\"fill:#440154;stroke:#440154;\" x=\"77.101462\" xlink:href=\"#C0_0_825bcd9773\" y=\"99.393507\"/>\r\n    </g>\r\n    <g clip-path=\"url(#p19b5eea1d1)\">\r\n     <use style=\"fill:#440154;stroke:#440154;\" x=\"75.799964\" xlink:href=\"#C0_0_825bcd9773\" y=\"136.559936\"/>\r\n    </g>\r\n    <g clip-path=\"url(#p19b5eea1d1)\">\r\n     <use style=\"fill:#440154;stroke:#440154;\" x=\"68.218509\" xlink:href=\"#C0_0_825bcd9773\" y=\"134.160149\"/>\r\n    </g>\r\n    <g clip-path=\"url(#p19b5eea1d1)\">\r\n     <use style=\"fill:#440154;stroke:#440154;\" x=\"74.44708\" xlink:href=\"#C0_0_825bcd9773\" y=\"147.139206\"/>\r\n    </g>\r\n    <g clip-path=\"url(#p19b5eea1d1)\">\r\n     <use style=\"fill:#440154;stroke:#440154;\" x=\"75.167998\" xlink:href=\"#C0_0_825bcd9773\" y=\"98.842652\"/>\r\n    </g>\r\n    <g clip-path=\"url(#p19b5eea1d1)\">\r\n     <use style=\"fill:#440154;stroke:#440154;\" x=\"94.587094\" xlink:href=\"#C0_0_825bcd9773\" y=\"67.802453\"/>\r\n    </g>\r\n    <g clip-path=\"url(#p19b5eea1d1)\">\r\n     <use style=\"fill:#440154;stroke:#440154;\" x=\"71.186626\" xlink:href=\"#C0_0_825bcd9773\" y=\"130.005639\"/>\r\n    </g>\r\n    <g clip-path=\"url(#p19b5eea1d1)\">\r\n     <use style=\"fill:#440154;stroke:#440154;\" x=\"79.615506\" xlink:href=\"#C0_0_825bcd9773\" y=\"111.074485\"/>\r\n    </g>\r\n    <g clip-path=\"url(#p19b5eea1d1)\">\r\n     <use style=\"fill:#440154;stroke:#440154;\" x=\"68.331585\" xlink:href=\"#C0_0_825bcd9773\" y=\"166.606926\"/>\r\n    </g>\r\n    <g clip-path=\"url(#p19b5eea1d1)\">\r\n     <use style=\"fill:#440154;stroke:#440154;\" x=\"77.594458\" xlink:href=\"#C0_0_825bcd9773\" y=\"131.825995\"/>\r\n    </g>\r\n    <g clip-path=\"url(#p19b5eea1d1)\">\r\n     <use style=\"fill:#440154;stroke:#440154;\" x=\"84.783932\" xlink:href=\"#C0_0_825bcd9773\" y=\"75.009764\"/>\r\n    </g>\r\n    <g clip-path=\"url(#p19b5eea1d1)\">\r\n     <use style=\"fill:#440154;stroke:#440154;\" x=\"80.196086\" xlink:href=\"#C0_0_825bcd9773\" y=\"122.204608\"/>\r\n    </g>\r\n    <g clip-path=\"url(#p19b5eea1d1)\">\r\n     <use style=\"fill:#440154;stroke:#440154;\" x=\"72.679447\" xlink:href=\"#C0_0_825bcd9773\" y=\"140.910816\"/>\r\n    </g>\r\n    <g clip-path=\"url(#p19b5eea1d1)\">\r\n     <use style=\"fill:#440154;stroke:#440154;\" x=\"53.700994\" xlink:href=\"#C0_0_825bcd9773\" y=\"161.596692\"/>\r\n    </g>\r\n    <g clip-path=\"url(#p19b5eea1d1)\">\r\n     <use style=\"fill:#440154;stroke:#440154;\" x=\"78.808774\" xlink:href=\"#C0_0_825bcd9773\" y=\"35.050807\"/>\r\n    </g>\r\n    <g clip-path=\"url(#p19b5eea1d1)\">\r\n     <use style=\"fill:#440154;stroke:#440154;\" x=\"90.02651\" xlink:href=\"#C0_0_825bcd9773\" y=\"23.123843\"/>\r\n    </g>\r\n    <g clip-path=\"url(#p19b5eea1d1)\">\r\n     <use style=\"fill:#440154;stroke:#440154;\" x=\"79.728983\" xlink:href=\"#C0_0_825bcd9773\" y=\"62.610138\"/>\r\n    </g>\r\n    <g clip-path=\"url(#p19b5eea1d1)\">\r\n     <use style=\"fill:#440154;stroke:#440154;\" x=\"78.655006\" xlink:href=\"#C0_0_825bcd9773\" y=\"99.958649\"/>\r\n    </g>\r\n    <g clip-path=\"url(#p19b5eea1d1)\">\r\n     <use style=\"fill:#440154;stroke:#440154;\" x=\"98.100962\" xlink:href=\"#C0_0_825bcd9773\" y=\"57.95612\"/>\r\n    </g>\r\n    <g clip-path=\"url(#p19b5eea1d1)\">\r\n     <use style=\"fill:#440154;stroke:#440154;\" x=\"81.270063\" xlink:href=\"#C0_0_825bcd9773\" y=\"84.856097\"/>\r\n    </g>\r\n    <g clip-path=\"url(#p19b5eea1d1)\">\r\n     <use style=\"fill:#440154;stroke:#440154;\" x=\"93.312457\" xlink:href=\"#C0_0_825bcd9773\" y=\"94.006552\"/>\r\n    </g>\r\n    <g clip-path=\"url(#p19b5eea1d1)\">\r\n     <use style=\"fill:#440154;stroke:#440154;\" x=\"83.190097\" xlink:href=\"#C0_0_825bcd9773\" y=\"90.888117\"/>\r\n    </g>\r\n    <g clip-path=\"url(#p19b5eea1d1)\">\r\n     <use style=\"fill:#440154;stroke:#440154;\" x=\"54.041992\" xlink:href=\"#C0_0_825bcd9773\" y=\"113.314427\"/>\r\n    </g>\r\n    <g clip-path=\"url(#p19b5eea1d1)\">\r\n     <use style=\"fill:#440154;stroke:#440154;\" x=\"93.638656\" xlink:href=\"#C0_0_825bcd9773\" y=\"115.916925\"/>\r\n    </g>\r\n    <g clip-path=\"url(#p19b5eea1d1)\">\r\n     <use style=\"fill:#440154;stroke:#440154;\" x=\"91.339669\" xlink:href=\"#C0_0_825bcd9773\" y=\"126.098845\"/>\r\n    </g>\r\n    <g clip-path=\"url(#p19b5eea1d1)\">\r\n     <use style=\"fill:#440154;stroke:#440154;\" x=\"84.795994\" xlink:href=\"#C0_0_825bcd9773\" y=\"134.240071\"/>\r\n    </g>\r\n    <g clip-path=\"url(#p19b5eea1d1)\">\r\n     <use style=\"fill:#440154;stroke:#440154;\" x=\"86.437121\" xlink:href=\"#C0_0_825bcd9773\" y=\"113.502849\"/>\r\n    </g>\r\n    <g clip-path=\"url(#p19b5eea1d1)\">\r\n     <use style=\"fill:#440154;stroke:#440154;\" x=\"82.382964\" xlink:href=\"#C0_0_825bcd9773\" y=\"95.775563\"/>\r\n    </g>\r\n    <g clip-path=\"url(#p19b5eea1d1)\">\r\n     <use style=\"fill:#440154;stroke:#440154;\" x=\"79.034926\" xlink:href=\"#C0_0_825bcd9773\" y=\"99.944361\"/>\r\n    </g>\r\n    <g clip-path=\"url(#p19b5eea1d1)\">\r\n     <use style=\"fill:#440154;stroke:#440154;\" x=\"79.362092\" xlink:href=\"#C0_0_825bcd9773\" y=\"138.054385\"/>\r\n    </g>\r\n    <g clip-path=\"url(#p19b5eea1d1)\">\r\n     <use style=\"fill:#440154;stroke:#440154;\" x=\"81.295556\" xlink:href=\"#C0_0_825bcd9773\" y=\"138.605239\"/>\r\n    </g>\r\n    <g clip-path=\"url(#p19b5eea1d1)\">\r\n     <use style=\"fill:#440154;stroke:#440154;\" x=\"88.990489\" xlink:href=\"#C0_0_825bcd9773\" y=\"92.54068\"/>\r\n    </g>\r\n    <g clip-path=\"url(#p19b5eea1d1)\">\r\n     <use style=\"fill:#440154;stroke:#440154;\" x=\"78.63048\" xlink:href=\"#C0_0_825bcd9773\" y=\"62.409158\"/>\r\n    </g>\r\n    <g clip-path=\"url(#p19b5eea1d1)\">\r\n     <use style=\"fill:#440154;stroke:#440154;\" x=\"80.803928\" xlink:href=\"#C0_0_825bcd9773\" y=\"41.461278\"/>\r\n    </g>\r\n    <g clip-path=\"url(#p19b5eea1d1)\">\r\n     <use style=\"fill:#440154;stroke:#440154;\" x=\"79.148002\" xlink:href=\"#C0_0_825bcd9773\" y=\"132.391138\"/>\r\n    </g>\r\n    <g clip-path=\"url(#p19b5eea1d1)\">\r\n     <use style=\"fill:#440154;stroke:#440154;\" x=\"69.204903\" xlink:href=\"#C0_0_825bcd9773\" y=\"118.114003\"/>\r\n    </g>\r\n    <g clip-path=\"url(#p19b5eea1d1)\">\r\n     <use style=\"fill:#440154;stroke:#440154;\" x=\"79.65483\" xlink:href=\"#C0_0_825bcd9773\" y=\"78.431338\"/>\r\n    </g>\r\n    <g clip-path=\"url(#p19b5eea1d1)\">\r\n     <use style=\"fill:#440154;stroke:#440154;\" x=\"72.047481\" xlink:href=\"#C0_0_825bcd9773\" y=\"103.193532\"/>\r\n    </g>\r\n    <g clip-path=\"url(#p19b5eea1d1)\">\r\n     <use style=\"fill:#440154;stroke:#440154;\" x=\"64.250567\" xlink:href=\"#C0_0_825bcd9773\" y=\"159.84197\"/>\r\n    </g>\r\n    <g clip-path=\"url(#p19b5eea1d1)\">\r\n     <use style=\"fill:#440154;stroke:#440154;\" x=\"81.18248\" xlink:href=\"#C0_0_825bcd9773\" y=\"106.158462\"/>\r\n    </g>\r\n    <g clip-path=\"url(#p19b5eea1d1)\">\r\n     <use style=\"fill:#440154;stroke:#440154;\" x=\"73.373504\" xlink:href=\"#C0_0_825bcd9773\" y=\"103.576593\"/>\r\n    </g>\r\n    <g clip-path=\"url(#p19b5eea1d1)\">\r\n     <use style=\"fill:#440154;stroke:#440154;\" x=\"69.936515\" xlink:href=\"#C0_0_825bcd9773\" y=\"193.759229\"/>\r\n    </g>\r\n    <g clip-path=\"url(#p19b5eea1d1)\">\r\n     <use style=\"fill:#440154;stroke:#440154;\" x=\"63.517587\" xlink:href=\"#C0_0_825bcd9773\" y=\"148.908216\"/>\r\n    </g>\r\n    <g clip-path=\"url(#p19b5eea1d1)\">\r\n     <use style=\"fill:#440154;stroke:#440154;\" x=\"89.177718\" xlink:href=\"#C0_0_825bcd9773\" y=\"109.166258\"/>\r\n    </g>\r\n    <g clip-path=\"url(#p19b5eea1d1)\">\r\n     <use style=\"fill:#440154;stroke:#440154;\" x=\"97.681718\" xlink:href=\"#C0_0_825bcd9773\" y=\"90.613555\"/>\r\n    </g>\r\n    <g clip-path=\"url(#p19b5eea1d1)\">\r\n     <use style=\"fill:#440154;stroke:#440154;\" x=\"75.786534\" xlink:href=\"#C0_0_825bcd9773\" y=\"142.041102\"/>\r\n    </g>\r\n    <g clip-path=\"url(#p19b5eea1d1)\">\r\n     <use style=\"fill:#440154;stroke:#440154;\" x=\"83.431047\" xlink:href=\"#C0_0_825bcd9773\" y=\"85.589033\"/>\r\n    </g>\r\n    <g clip-path=\"url(#p19b5eea1d1)\">\r\n     <use style=\"fill:#440154;stroke:#440154;\" x=\"70.366063\" xlink:href=\"#C0_0_825bcd9773\" y=\"140.37425\"/>\r\n    </g>\r\n    <g clip-path=\"url(#p19b5eea1d1)\">\r\n     <use style=\"fill:#440154;stroke:#440154;\" x=\"83.216958\" xlink:href=\"#C0_0_825bcd9773\" y=\"79.925786\"/>\r\n    </g>\r\n    <g clip-path=\"url(#p19b5eea1d1)\">\r\n     <use style=\"fill:#440154;stroke:#440154;\" x=\"76.267468\" xlink:href=\"#C0_0_825bcd9773\" y=\"115.243283\"/>\r\n    </g>\r\n    <g clip-path=\"url(#p19b5eea1d1)\">\r\n     <use style=\"fill:#21918c;stroke:#21918c;\" x=\"249.195372\" xlink:href=\"#C0_0_825bcd9773\" y=\"72.008021\"/>\r\n    </g>\r\n    <g clip-path=\"url(#p19b5eea1d1)\">\r\n     <use style=\"fill:#21918c;stroke:#21918c;\" x=\"233.918017\" xlink:href=\"#C0_0_825bcd9773\" y=\"99.473141\"/>\r\n    </g>\r\n    <g clip-path=\"url(#p19b5eea1d1)\">\r\n     <use style=\"fill:#21918c;stroke:#21918c;\" x=\"256.977487\" xlink:href=\"#C0_0_825bcd9773\" y=\"85.552221\"/>\r\n    </g>\r\n    <g clip-path=\"url(#p19b5eea1d1)\">\r\n     <use style=\"fill:#21918c;stroke:#21918c;\" x=\"201.433937\" xlink:href=\"#C0_0_825bcd9773\" y=\"185.298557\"/>\r\n    </g>\r\n    <g clip-path=\"url(#p19b5eea1d1)\">\r\n     <use style=\"fill:#21918c;stroke:#21918c;\" x=\"240.665479\" xlink:href=\"#C0_0_825bcd9773\" y=\"117.722705\"/>\r\n    </g>\r\n    <g clip-path=\"url(#p19b5eea1d1)\">\r\n     <use style=\"fill:#21918c;stroke:#21918c;\" x=\"221.308073\" xlink:href=\"#C0_0_825bcd9773\" y=\"154.622521\"/>\r\n    </g>\r\n    <g clip-path=\"url(#p19b5eea1d1)\">\r\n     <use style=\"fill:#21918c;stroke:#21918c;\" x=\"240.967152\" xlink:href=\"#C0_0_825bcd9773\" y=\"102.083587\"/>\r\n    </g>\r\n    <g clip-path=\"url(#p19b5eea1d1)\">\r\n     <use style=\"fill:#21918c;stroke:#21918c;\" x=\"161.003279\" xlink:href=\"#C0_0_825bcd9773\" y=\"198.545836\"/>\r\n    </g>\r\n    <g clip-path=\"url(#p19b5eea1d1)\">\r\n     <use style=\"fill:#21918c;stroke:#21918c;\" x=\"238.758876\" xlink:href=\"#C0_0_825bcd9773\" y=\"106.20952\"/>\r\n    </g>\r\n    <g clip-path=\"url(#p19b5eea1d1)\">\r\n     <use style=\"fill:#21918c;stroke:#21918c;\" x=\"193.106071\" xlink:href=\"#C0_0_825bcd9773\" y=\"177.446181\"/>\r\n    </g>\r\n    <g clip-path=\"url(#p19b5eea1d1)\">\r\n     <use style=\"fill:#21918c;stroke:#21918c;\" x=\"171.465268\" xlink:href=\"#C0_0_825bcd9773\" y=\"218.093479\"/>\r\n    </g>\r\n    <g clip-path=\"url(#p19b5eea1d1)\">\r\n     <use style=\"fill:#21918c;stroke:#21918c;\" x=\"215.672545\" xlink:href=\"#C0_0_825bcd9773\" y=\"131.092772\"/>\r\n    </g>\r\n    <g clip-path=\"url(#p19b5eea1d1)\">\r\n     <use style=\"fill:#21918c;stroke:#21918c;\" x=\"204.974665\" xlink:href=\"#C0_0_825bcd9773\" y=\"164.489894\"/>\r\n    </g>\r\n    <g clip-path=\"url(#p19b5eea1d1)\">\r\n     <use style=\"fill:#21918c;stroke:#21918c;\" x=\"236.192077\" xlink:href=\"#C0_0_825bcd9773\" y=\"132.652854\"/>\r\n    </g>\r\n    <g clip-path=\"url(#p19b5eea1d1)\">\r\n     <use style=\"fill:#21918c;stroke:#21918c;\" x=\"185.94386\" xlink:href=\"#C0_0_825bcd9773\" y=\"142.388958\"/>\r\n    </g>\r\n    <g clip-path=\"url(#p19b5eea1d1)\">\r\n     <use style=\"fill:#21918c;stroke:#21918c;\" x=\"233.717358\" xlink:href=\"#C0_0_825bcd9773\" y=\"88.328729\"/>\r\n    </g>\r\n    <g clip-path=\"url(#p19b5eea1d1)\">\r\n     <use style=\"fill:#21918c;stroke:#21918c;\" x=\"222.115206\" xlink:href=\"#C0_0_825bcd9773\" y=\"149.735075\"/>\r\n    </g>\r\n    <g clip-path=\"url(#p19b5eea1d1)\">\r\n     <use style=\"fill:#21918c;stroke:#21918c;\" x=\"203.722795\" xlink:href=\"#C0_0_825bcd9773\" y=\"148.285632\"/>\r\n    </g>\r\n    <g clip-path=\"url(#p19b5eea1d1)\">\r\n     <use style=\"fill:#21918c;stroke:#21918c;\" x=\"234.448969\" xlink:href=\"#C0_0_825bcd9773\" y=\"163.973956\"/>\r\n    </g>\r\n    <g clip-path=\"url(#p19b5eea1d1)\">\r\n     <use style=\"fill:#21918c;stroke:#21918c;\" x=\"195.446316\" xlink:href=\"#C0_0_825bcd9773\" y=\"167.020417\"/>\r\n    </g>\r\n    <g clip-path=\"url(#p19b5eea1d1)\">\r\n     <use style=\"fill:#21918c;stroke:#21918c;\" x=\"241.887361\" xlink:href=\"#C0_0_825bcd9773\" y=\"129.642918\"/>\r\n    </g>\r\n    <g clip-path=\"url(#p19b5eea1d1)\">\r\n     <use style=\"fill:#21918c;stroke:#21918c;\" x=\"209.00333\" xlink:href=\"#C0_0_825bcd9773\" y=\"128.468038\"/>\r\n    </g>\r\n    <g clip-path=\"url(#p19b5eea1d1)\">\r\n     <use style=\"fill:#21918c;stroke:#21918c;\" x=\"249.774584\" xlink:href=\"#C0_0_825bcd9773\" y=\"147.849617\"/>\r\n    </g>\r\n    <g clip-path=\"url(#p19b5eea1d1)\">\r\n     <use style=\"fill:#21918c;stroke:#21918c;\" x=\"233.45148\" xlink:href=\"#C0_0_825bcd9773\" y=\"136.989446\"/>\r\n    </g>\r\n    <g clip-path=\"url(#p19b5eea1d1)\">\r\n     <use style=\"fill:#21918c;stroke:#21918c;\" x=\"224.481345\" xlink:href=\"#C0_0_825bcd9773\" y=\"112.147329\"/>\r\n    </g>\r\n    <g clip-path=\"url(#p19b5eea1d1)\">\r\n     <use style=\"fill:#21918c;stroke:#21918c;\" x=\"232.516874\" xlink:href=\"#C0_0_825bcd9773\" y=\"98.711629\"/>\r\n    </g>\r\n    <g clip-path=\"url(#p19b5eea1d1)\">\r\n     <use style=\"fill:#21918c;stroke:#21918c;\" x=\"251.241912\" xlink:href=\"#C0_0_825bcd9773\" y=\"105.005653\"/>\r\n    </g>\r\n    <g clip-path=\"url(#p19b5eea1d1)\">\r\n     <use style=\"fill:#21918c;stroke:#21918c;\" x=\"261.031644\" xlink:href=\"#C0_0_825bcd9773\" y=\"103.279507\"/>\r\n    </g>\r\n    <g clip-path=\"url(#p19b5eea1d1)\">\r\n     <use style=\"fill:#21918c;stroke:#21918c;\" x=\"228.749592\" xlink:href=\"#C0_0_825bcd9773\" y=\"135.537862\"/>\r\n    </g>\r\n    <g clip-path=\"url(#p19b5eea1d1)\">\r\n     <use style=\"fill:#21918c;stroke:#21918c;\" x=\"180.235145\" xlink:href=\"#C0_0_825bcd9773\" y=\"150.88006\"/>\r\n    </g>\r\n    <g clip-path=\"url(#p19b5eea1d1)\">\r\n     <use style=\"fill:#21918c;stroke:#21918c;\" x=\"190.531304\" xlink:href=\"#C0_0_825bcd9773\" y=\"176.105237\"/>\r\n    </g>\r\n    <g clip-path=\"url(#p19b5eea1d1)\">\r\n     <use style=\"fill:#21918c;stroke:#21918c;\" x=\"185.263233\" xlink:href=\"#C0_0_825bcd9773\" y=\"174.242016\"/>\r\n    </g>\r\n    <g clip-path=\"url(#p19b5eea1d1)\">\r\n     <use style=\"fill:#21918c;stroke:#21918c;\" x=\"199.400827\" xlink:href=\"#C0_0_825bcd9773\" y=\"146.81976\"/>\r\n    </g>\r\n    <g clip-path=\"url(#p19b5eea1d1)\">\r\n     <use style=\"fill:#21918c;stroke:#21918c;\" x=\"253.323281\" xlink:href=\"#C0_0_825bcd9773\" y=\"154.825231\"/>\r\n    </g>\r\n    <g clip-path=\"url(#p19b5eea1d1)\">\r\n     <use style=\"fill:#21918c;stroke:#21918c;\" x=\"218.981258\" xlink:href=\"#C0_0_825bcd9773\" y=\"159.56712\"/>\r\n    </g>\r\n    <g clip-path=\"url(#p19b5eea1d1)\">\r\n     <use style=\"fill:#21918c;stroke:#21918c;\" x=\"228.470685\" xlink:href=\"#C0_0_825bcd9773\" y=\"108.76862\"/>\r\n    </g>\r\n    <g clip-path=\"url(#p19b5eea1d1)\">\r\n     <use style=\"fill:#21918c;stroke:#21918c;\" x=\"246.414484\" xlink:href=\"#C0_0_825bcd9773\" y=\"92.788108\"/>\r\n    </g>\r\n    <g clip-path=\"url(#p19b5eea1d1)\">\r\n     <use style=\"fill:#21918c;stroke:#21918c;\" x=\"228.827839\" xlink:href=\"#C0_0_825bcd9773\" y=\"151.162692\"/>\r\n    </g>\r\n    <g clip-path=\"url(#p19b5eea1d1)\">\r\n     <use style=\"fill:#21918c;stroke:#21918c;\" x=\"204.150008\" xlink:href=\"#C0_0_825bcd9773\" y=\"143.412475\"/>\r\n    </g>\r\n    <g clip-path=\"url(#p19b5eea1d1)\">\r\n     <use style=\"fill:#21918c;stroke:#21918c;\" x=\"200.700957\" xlink:href=\"#C0_0_825bcd9773\" y=\"174.364803\"/>\r\n    </g>\r\n    <g clip-path=\"url(#p19b5eea1d1)\">\r\n     <use style=\"fill:#21918c;stroke:#21918c;\" x=\"213.639034\" xlink:href=\"#C0_0_825bcd9773\" y=\"173.525098\"/>\r\n    </g>\r\n    <g clip-path=\"url(#p19b5eea1d1)\">\r\n     <use style=\"fill:#21918c;stroke:#21918c;\" x=\"232.11106\" xlink:href=\"#C0_0_825bcd9773\" y=\"125.887899\"/>\r\n    </g>\r\n    <g clip-path=\"url(#p19b5eea1d1)\">\r\n     <use style=\"fill:#21918c;stroke:#21918c;\" x=\"203.481845\" xlink:href=\"#C0_0_825bcd9773\" y=\"153.584716\"/>\r\n    </g>\r\n    <g clip-path=\"url(#p19b5eea1d1)\">\r\n     <use style=\"fill:#21918c;stroke:#21918c;\" x=\"162.936743\" xlink:href=\"#C0_0_825bcd9773\" y=\"199.09669\"/>\r\n    </g>\r\n    <g clip-path=\"url(#p19b5eea1d1)\">\r\n     <use style=\"fill:#21918c;stroke:#21918c;\" x=\"208.964006\" xlink:href=\"#C0_0_825bcd9773\" y=\"161.111184\"/>\r\n    </g>\r\n    <g clip-path=\"url(#p19b5eea1d1)\">\r\n     <use style=\"fill:#21918c;stroke:#21918c;\" x=\"207.877966\" xlink:href=\"#C0_0_825bcd9773\" y=\"139.229388\"/>\r\n    </g>\r\n    <g clip-path=\"url(#p19b5eea1d1)\">\r\n     <use style=\"fill:#21918c;stroke:#21918c;\" x=\"209.798\" xlink:href=\"#C0_0_825bcd9773\" y=\"145.261408\"/>\r\n    </g>\r\n    <g clip-path=\"url(#p19b5eea1d1)\">\r\n     <use style=\"fill:#21918c;stroke:#21918c;\" x=\"221.347397\" xlink:href=\"#C0_0_825bcd9773\" y=\"121.979374\"/>\r\n    </g>\r\n    <g clip-path=\"url(#p19b5eea1d1)\">\r\n     <use style=\"fill:#21918c;stroke:#21918c;\" x=\"154.180697\" xlink:href=\"#C0_0_825bcd9773\" y=\"179.917821\"/>\r\n    </g>\r\n    <g clip-path=\"url(#p19b5eea1d1)\">\r\n     <use style=\"fill:#21918c;stroke:#21918c;\" x=\"206.449962\" xlink:href=\"#C0_0_825bcd9773\" y=\"149.430206\"/>\r\n    </g>\r\n    <g clip-path=\"url(#p19b5eea1d1)\">\r\n     <use style=\"fill:#fde725;stroke:#fde725;\" x=\"303.237904\" xlink:href=\"#C0_0_825bcd9773\" y=\"124.044895\"/>\r\n    </g>\r\n    <g clip-path=\"url(#p19b5eea1d1)\">\r\n     <use style=\"fill:#fde725;stroke:#fde725;\" x=\"254.849964\" xlink:href=\"#C0_0_825bcd9773\" y=\"166.352704\"/>\r\n    </g>\r\n    <g clip-path=\"url(#p19b5eea1d1)\">\r\n     <use style=\"fill:#fde725;stroke:#fde725;\" x=\"306.944463\" xlink:href=\"#C0_0_825bcd9773\" y=\"97.558696\"/>\r\n    </g>\r\n    <g clip-path=\"url(#p19b5eea1d1)\">\r\n     <use style=\"fill:#fde725;stroke:#fde725;\" x=\"278.970948\" xlink:href=\"#C0_0_825bcd9773\" y=\"136.764089\"/>\r\n    </g>\r\n    <g clip-path=\"url(#p19b5eea1d1)\">\r\n     <use style=\"fill:#fde725;stroke:#fde725;\" x=\"295.381636\" xlink:href=\"#C0_0_825bcd9773\" y=\"126.321895\"/>\r\n    </g>\r\n    <g clip-path=\"url(#p19b5eea1d1)\">\r\n     <use style=\"fill:#fde725;stroke:#fde725;\" x=\"340.781027\" xlink:href=\"#C0_0_825bcd9773\" y=\"82.065135\"/>\r\n    </g>\r\n    <g clip-path=\"url(#p19b5eea1d1)\">\r\n     <use style=\"fill:#fde725;stroke:#fde725;\" x=\"216.085926\" xlink:href=\"#C0_0_825bcd9773\" y=\"212.611903\"/>\r\n    </g>\r\n    <g clip-path=\"url(#p19b5eea1d1)\">\r\n     <use style=\"fill:#fde725;stroke:#fde725;\" x=\"320.642381\" xlink:href=\"#C0_0_825bcd9773\" y=\"96.690415\"/>\r\n    </g>\r\n    <g clip-path=\"url(#p19b5eea1d1)\">\r\n     <use style=\"fill:#fde725;stroke:#fde725;\" x=\"294.133859\" xlink:href=\"#C0_0_825bcd9773\" y=\"141.563664\"/>\r\n    </g>\r\n    <g clip-path=\"url(#p19b5eea1d1)\">\r\n     <use style=\"fill:#fde725;stroke:#fde725;\" x=\"319.955727\" xlink:href=\"#C0_0_825bcd9773\" y=\"64.698141\"/>\r\n    </g>\r\n    <g clip-path=\"url(#p19b5eea1d1)\">\r\n     <use style=\"fill:#fde725;stroke:#fde725;\" x=\"265.539875\" xlink:href=\"#C0_0_825bcd9773\" y=\"105.171305\"/>\r\n    </g>\r\n    <g clip-path=\"url(#p19b5eea1d1)\">\r\n     <use style=\"fill:#fde725;stroke:#fde725;\" x=\"271.680863\" xlink:href=\"#C0_0_825bcd9773\" y=\"139.452727\"/>\r\n    </g>\r\n    <g clip-path=\"url(#p19b5eea1d1)\">\r\n     <use style=\"fill:#fde725;stroke:#fde725;\" x=\"287.385431\" xlink:href=\"#C0_0_825bcd9773\" y=\"107.114449\"/>\r\n    </g>\r\n    <g clip-path=\"url(#p19b5eea1d1)\">\r\n     <use style=\"fill:#fde725;stroke:#fde725;\" x=\"251.854986\" xlink:href=\"#C0_0_825bcd9773\" y=\"181.469545\"/>\r\n    </g>\r\n    <g clip-path=\"url(#p19b5eea1d1)\">\r\n     <use style=\"fill:#fde725;stroke:#fde725;\" x=\"262.251192\" xlink:href=\"#C0_0_825bcd9773\" y=\"163.711541\"/>\r\n    </g>\r\n    <g clip-path=\"url(#p19b5eea1d1)\">\r\n     <use style=\"fill:#fde725;stroke:#fde725;\" x=\"276.062587\" xlink:href=\"#C0_0_825bcd9773\" y=\"114.378913\"/>\r\n    </g>\r\n    <g clip-path=\"url(#p19b5eea1d1)\">\r\n     <use style=\"fill:#fde725;stroke:#fde725;\" x=\"278.023879\" xlink:href=\"#C0_0_825bcd9773\" y=\"120.167088\"/>\r\n    </g>\r\n    <g clip-path=\"url(#p19b5eea1d1)\">\r\n     <use style=\"fill:#fde725;stroke:#fde725;\" x=\"344.684152\" xlink:href=\"#C0_0_825bcd9773\" y=\"35.277318\"/>\r\n    </g>\r\n    <g clip-path=\"url(#p19b5eea1d1)\">\r\n     <use style=\"fill:#fde725;stroke:#fde725;\" x=\"358.064631\" xlink:href=\"#C0_0_825bcd9773\" y=\"104.041142\"/>\r\n    </g>\r\n    <g clip-path=\"url(#p19b5eea1d1)\">\r\n     <use style=\"fill:#fde725;stroke:#fde725;\" x=\"249.88766\" xlink:href=\"#C0_0_825bcd9773\" y=\"180.296395\"/>\r\n    </g>\r\n    <g clip-path=\"url(#p19b5eea1d1)\">\r\n     <use style=\"fill:#fde725;stroke:#fde725;\" x=\"298.755567\" xlink:href=\"#C0_0_825bcd9773\" y=\"94.991116\"/>\r\n    </g>\r\n    <g clip-path=\"url(#p19b5eea1d1)\">\r\n     <use style=\"fill:#fde725;stroke:#fde725;\" x=\"245.474015\" xlink:href=\"#C0_0_825bcd9773\" y=\"168.686858\"/>\r\n    </g>\r\n    <g clip-path=\"url(#p19b5eea1d1)\">\r\n     <use style=\"fill:#fde725;stroke:#fde725;\" x=\"345.241965\" xlink:href=\"#C0_0_825bcd9773\" y=\"88.815802\"/>\r\n    </g>\r\n    <g clip-path=\"url(#p19b5eea1d1)\">\r\n     <use style=\"fill:#fde725;stroke:#fde725;\" x=\"253.702235\" xlink:href=\"#C0_0_825bcd9773\" y=\"138.611292\"/>\r\n    </g>\r\n    <g clip-path=\"url(#p19b5eea1d1)\">\r\n     <use style=\"fill:#fde725;stroke:#fde725;\" x=\"292.148042\" xlink:href=\"#C0_0_825bcd9773\" y=\"98.225998\"/>\r\n    </g>\r\n    <g clip-path=\"url(#p19b5eea1d1)\">\r\n     <use style=\"fill:#fde725;stroke:#fde725;\" x=\"306.832354\" xlink:href=\"#C0_0_825bcd9773\" y=\"81.31157\"/>\r\n    </g>\r\n    <g clip-path=\"url(#p19b5eea1d1)\">\r\n     <use style=\"fill:#fde725;stroke:#fde725;\" x=\"248.054243\" xlink:href=\"#C0_0_825bcd9773\" y=\"136.762359\"/>\r\n    </g>\r\n    <g clip-path=\"url(#p19b5eea1d1)\">\r\n     <use style=\"fill:#fde725;stroke:#fde725;\" x=\"249.468817\" xlink:href=\"#C0_0_825bcd9773\" y=\"132.042706\"/>\r\n    </g>\r\n    <g clip-path=\"url(#p19b5eea1d1)\">\r\n     <use style=\"fill:#fde725;stroke:#fde725;\" x=\"285.565043\" xlink:href=\"#C0_0_825bcd9773\" y=\"139.010372\"/>\r\n    </g>\r\n    <g clip-path=\"url(#p19b5eea1d1)\">\r\n     <use style=\"fill:#fde725;stroke:#fde725;\" x=\"297.029192\" xlink:href=\"#C0_0_825bcd9773\" y=\"88.518881\"/>\r\n    </g>\r\n    <g clip-path=\"url(#p19b5eea1d1)\">\r\n     <use style=\"fill:#fde725;stroke:#fde725;\" x=\"316.700333\" xlink:href=\"#C0_0_825bcd9773\" y=\"95.210255\"/>\r\n    </g>\r\n    <g clip-path=\"url(#p19b5eea1d1)\">\r\n     <use style=\"fill:#fde725;stroke:#fde725;\" x=\"333.567429\" xlink:href=\"#C0_0_825bcd9773\" y=\"20.420752\"/>\r\n    </g>\r\n    <g clip-path=\"url(#p19b5eea1d1)\">\r\n     <use style=\"fill:#fde725;stroke:#fde725;\" x=\"287.118587\" xlink:href=\"#C0_0_825bcd9773\" y=\"139.575514\"/>\r\n    </g>\r\n    <g clip-path=\"url(#p19b5eea1d1)\">\r\n     <use style=\"fill:#fde725;stroke:#fde725;\" x=\"256.104169\" xlink:href=\"#C0_0_825bcd9773\" y=\"134.045144\"/>\r\n    </g>\r\n    <g clip-path=\"url(#p19b5eea1d1)\">\r\n     <use style=\"fill:#fde725;stroke:#fde725;\" x=\"270.722296\" xlink:href=\"#C0_0_825bcd9773\" y=\"160.736194\"/>\r\n    </g>\r\n    <g clip-path=\"url(#p19b5eea1d1)\">\r\n     <use style=\"fill:#fde725;stroke:#fde725;\" x=\"326.882449\" xlink:href=\"#C0_0_825bcd9773\" y=\"71.789004\"/>\r\n    </g>\r\n    <g clip-path=\"url(#p19b5eea1d1)\">\r\n     <use style=\"fill:#fde725;stroke:#fde725;\" x=\"286.45976\" xlink:href=\"#C0_0_825bcd9773\" y=\"112.820561\"/>\r\n    </g>\r\n    <g clip-path=\"url(#p19b5eea1d1)\">\r\n     <use style=\"fill:#fde725;stroke:#fde725;\" x=\"276.090415\" xlink:href=\"#C0_0_825bcd9773\" y=\"119.616234\"/>\r\n    </g>\r\n    <g clip-path=\"url(#p19b5eea1d1)\">\r\n     <use style=\"fill:#fde725;stroke:#fde725;\" x=\"244.187315\" xlink:href=\"#C0_0_825bcd9773\" y=\"135.66065\"/>\r\n    </g>\r\n    <g clip-path=\"url(#p19b5eea1d1)\">\r\n     <use style=\"fill:#fde725;stroke:#fde725;\" x=\"284.871387\" xlink:href=\"#C0_0_825bcd9773\" y=\"95.433471\"/>\r\n    </g>\r\n    <g clip-path=\"url(#p19b5eea1d1)\">\r\n     <use style=\"fill:#fde725;stroke:#fde725;\" x=\"293.827126\" xlink:href=\"#C0_0_825bcd9773\" y=\"109.557102\"/>\r\n    </g>\r\n    <g clip-path=\"url(#p19b5eea1d1)\">\r\n     <use style=\"fill:#fde725;stroke:#fde725;\" x=\"276.834891\" xlink:href=\"#C0_0_825bcd9773\" y=\"92.66952\"/>\r\n    </g>\r\n    <g clip-path=\"url(#p19b5eea1d1)\">\r\n     <use style=\"fill:#fde725;stroke:#fde725;\" x=\"254.849964\" xlink:href=\"#C0_0_825bcd9773\" y=\"166.352704\"/>\r\n    </g>\r\n    <g clip-path=\"url(#p19b5eea1d1)\">\r\n     <use style=\"fill:#fde725;stroke:#fde725;\" x=\"304.617649\" xlink:href=\"#C0_0_825bcd9773\" y=\"102.503295\"/>\r\n    </g>\r\n    <g clip-path=\"url(#p19b5eea1d1)\">\r\n     <use style=\"fill:#fde725;stroke:#fde725;\" x=\"298.362217\" xlink:href=\"#C0_0_825bcd9773\" y=\"100.486569\"/>\r\n    </g>\r\n    <g clip-path=\"url(#p19b5eea1d1)\">\r\n     <use style=\"fill:#fde725;stroke:#fde725;\" x=\"277.781961\" xlink:href=\"#C0_0_825bcd9773\" y=\"109.266521\"/>\r\n    </g>\r\n    <g clip-path=\"url(#p19b5eea1d1)\">\r\n     <use style=\"fill:#fde725;stroke:#fde725;\" x=\"259.703286\" xlink:href=\"#C0_0_825bcd9773\" y=\"151.408267\"/>\r\n    </g>\r\n    <g clip-path=\"url(#p19b5eea1d1)\">\r\n     <use style=\"fill:#fde725;stroke:#fde725;\" x=\"269.987383\" xlink:href=\"#C0_0_825bcd9773\" y=\"117.403138\"/>\r\n    </g>\r\n    <g clip-path=\"url(#p19b5eea1d1)\">\r\n     <use style=\"fill:#fde725;stroke:#fde725;\" x=\"275.910187\" xlink:href=\"#C0_0_825bcd9773\" y=\"114.575283\"/>\r\n    </g>\r\n    <g clip-path=\"url(#p19b5eea1d1)\">\r\n     <use style=\"fill:#fde725;stroke:#fde725;\" x=\"253.763924\" xlink:href=\"#C0_0_825bcd9773\" y=\"144.470908\"/>\r\n    </g>\r\n   </g>\r\n   <g id=\"matplotlib.axis_1\">\r\n    <g id=\"xtick_1\">\r\n     <g id=\"line2d_1\">\r\n      <defs>\r\n       <path d=\"M 0 0 \r\nL 0 3.5 \r\n\" id=\"m42ca57edb5\" style=\"stroke:#000000;stroke-width:0.8;\"/>\r\n      </defs>\r\n      <g>\r\n       <use style=\"stroke:#000000;stroke-width:0.8;\" x=\"63.405135\" xlink:href=\"#m42ca57edb5\" y=\"227.977115\"/>\r\n      </g>\r\n     </g>\r\n     <g id=\"text_1\">\r\n      <!-- −3 -->\r\n      <g transform=\"translate(56.034041 242.575553)scale(0.1 -0.1)\">\r\n       <defs>\r\n        <path d=\"M 10.59375 35.5 \r\nL 73.1875 35.5 \r\nL 73.1875 27.203125 \r\nL 10.59375 27.203125 \r\nz\r\n\" id=\"DejaVuSans-8722\"/>\r\n        <path d=\"M 40.578125 39.3125 \r\nQ 47.65625 37.796875 51.625 33 \r\nQ 55.609375 28.21875 55.609375 21.1875 \r\nQ 55.609375 10.40625 48.1875 4.484375 \r\nQ 40.765625 -1.421875 27.09375 -1.421875 \r\nQ 22.515625 -1.421875 17.65625 -0.515625 \r\nQ 12.796875 0.390625 7.625 2.203125 \r\nL 7.625 11.71875 \r\nQ 11.71875 9.328125 16.59375 8.109375 \r\nQ 21.484375 6.890625 26.8125 6.890625 \r\nQ 36.078125 6.890625 40.9375 10.546875 \r\nQ 45.796875 14.203125 45.796875 21.1875 \r\nQ 45.796875 27.640625 41.28125 31.265625 \r\nQ 36.765625 34.90625 28.71875 34.90625 \r\nL 20.21875 34.90625 \r\nL 20.21875 43.015625 \r\nL 29.109375 43.015625 \r\nQ 36.375 43.015625 40.234375 45.921875 \r\nQ 44.09375 48.828125 44.09375 54.296875 \r\nQ 44.09375 59.90625 40.109375 62.90625 \r\nQ 36.140625 65.921875 28.71875 65.921875 \r\nQ 24.65625 65.921875 20.015625 65.03125 \r\nQ 15.375 64.15625 9.8125 62.3125 \r\nL 9.8125 71.09375 \r\nQ 15.4375 72.65625 20.34375 73.4375 \r\nQ 25.25 74.21875 29.59375 74.21875 \r\nQ 40.828125 74.21875 47.359375 69.109375 \r\nQ 53.90625 64.015625 53.90625 55.328125 \r\nQ 53.90625 49.265625 50.4375 45.09375 \r\nQ 46.96875 40.921875 40.578125 39.3125 \r\nz\r\n\" id=\"DejaVuSans-51\"/>\r\n       </defs>\r\n       <use xlink:href=\"#DejaVuSans-8722\"/>\r\n       <use x=\"83.789062\" xlink:href=\"#DejaVuSans-51\"/>\r\n      </g>\r\n     </g>\r\n    </g>\r\n    <g id=\"xtick_2\">\r\n     <g id=\"line2d_2\">\r\n      <g>\r\n       <use style=\"stroke:#000000;stroke-width:0.8;\" x=\"106.765181\" xlink:href=\"#m42ca57edb5\" y=\"227.977115\"/>\r\n      </g>\r\n     </g>\r\n     <g id=\"text_2\">\r\n      <!-- −2 -->\r\n      <g transform=\"translate(99.394087 242.575553)scale(0.1 -0.1)\">\r\n       <defs>\r\n        <path d=\"M 19.1875 8.296875 \r\nL 53.609375 8.296875 \r\nL 53.609375 0 \r\nL 7.328125 0 \r\nL 7.328125 8.296875 \r\nQ 12.9375 14.109375 22.625 23.890625 \r\nQ 32.328125 33.6875 34.8125 36.53125 \r\nQ 39.546875 41.84375 41.421875 45.53125 \r\nQ 43.3125 49.21875 43.3125 52.78125 \r\nQ 43.3125 58.59375 39.234375 62.25 \r\nQ 35.15625 65.921875 28.609375 65.921875 \r\nQ 23.96875 65.921875 18.8125 64.3125 \r\nQ 13.671875 62.703125 7.8125 59.421875 \r\nL 7.8125 69.390625 \r\nQ 13.765625 71.78125 18.9375 73 \r\nQ 24.125 74.21875 28.421875 74.21875 \r\nQ 39.75 74.21875 46.484375 68.546875 \r\nQ 53.21875 62.890625 53.21875 53.421875 \r\nQ 53.21875 48.921875 51.53125 44.890625 \r\nQ 49.859375 40.875 45.40625 35.40625 \r\nQ 44.1875 33.984375 37.640625 27.21875 \r\nQ 31.109375 20.453125 19.1875 8.296875 \r\nz\r\n\" id=\"DejaVuSans-50\"/>\r\n       </defs>\r\n       <use xlink:href=\"#DejaVuSans-8722\"/>\r\n       <use x=\"83.789062\" xlink:href=\"#DejaVuSans-50\"/>\r\n      </g>\r\n     </g>\r\n    </g>\r\n    <g id=\"xtick_3\">\r\n     <g id=\"line2d_3\">\r\n      <g>\r\n       <use style=\"stroke:#000000;stroke-width:0.8;\" x=\"150.125226\" xlink:href=\"#m42ca57edb5\" y=\"227.977115\"/>\r\n      </g>\r\n     </g>\r\n     <g id=\"text_3\">\r\n      <!-- −1 -->\r\n      <g transform=\"translate(142.754132 242.575553)scale(0.1 -0.1)\">\r\n       <defs>\r\n        <path d=\"M 12.40625 8.296875 \r\nL 28.515625 8.296875 \r\nL 28.515625 63.921875 \r\nL 10.984375 60.40625 \r\nL 10.984375 69.390625 \r\nL 28.421875 72.90625 \r\nL 38.28125 72.90625 \r\nL 38.28125 8.296875 \r\nL 54.390625 8.296875 \r\nL 54.390625 0 \r\nL 12.40625 0 \r\nz\r\n\" id=\"DejaVuSans-49\"/>\r\n       </defs>\r\n       <use xlink:href=\"#DejaVuSans-8722\"/>\r\n       <use x=\"83.789062\" xlink:href=\"#DejaVuSans-49\"/>\r\n      </g>\r\n     </g>\r\n    </g>\r\n    <g id=\"xtick_4\">\r\n     <g id=\"line2d_4\">\r\n      <g>\r\n       <use style=\"stroke:#000000;stroke-width:0.8;\" x=\"193.485272\" xlink:href=\"#m42ca57edb5\" y=\"227.977115\"/>\r\n      </g>\r\n     </g>\r\n     <g id=\"text_4\">\r\n      <!-- 0 -->\r\n      <g transform=\"translate(190.304022 242.575553)scale(0.1 -0.1)\">\r\n       <defs>\r\n        <path d=\"M 31.78125 66.40625 \r\nQ 24.171875 66.40625 20.328125 58.90625 \r\nQ 16.5 51.421875 16.5 36.375 \r\nQ 16.5 21.390625 20.328125 13.890625 \r\nQ 24.171875 6.390625 31.78125 6.390625 \r\nQ 39.453125 6.390625 43.28125 13.890625 \r\nQ 47.125 21.390625 47.125 36.375 \r\nQ 47.125 51.421875 43.28125 58.90625 \r\nQ 39.453125 66.40625 31.78125 66.40625 \r\nz\r\nM 31.78125 74.21875 \r\nQ 44.046875 74.21875 50.515625 64.515625 \r\nQ 56.984375 54.828125 56.984375 36.375 \r\nQ 56.984375 17.96875 50.515625 8.265625 \r\nQ 44.046875 -1.421875 31.78125 -1.421875 \r\nQ 19.53125 -1.421875 13.0625 8.265625 \r\nQ 6.59375 17.96875 6.59375 36.375 \r\nQ 6.59375 54.828125 13.0625 64.515625 \r\nQ 19.53125 74.21875 31.78125 74.21875 \r\nz\r\n\" id=\"DejaVuSans-48\"/>\r\n       </defs>\r\n       <use xlink:href=\"#DejaVuSans-48\"/>\r\n      </g>\r\n     </g>\r\n    </g>\r\n    <g id=\"xtick_5\">\r\n     <g id=\"line2d_5\">\r\n      <g>\r\n       <use style=\"stroke:#000000;stroke-width:0.8;\" x=\"236.845318\" xlink:href=\"#m42ca57edb5\" y=\"227.977115\"/>\r\n      </g>\r\n     </g>\r\n     <g id=\"text_5\">\r\n      <!-- 1 -->\r\n      <g transform=\"translate(233.664068 242.575553)scale(0.1 -0.1)\">\r\n       <use xlink:href=\"#DejaVuSans-49\"/>\r\n      </g>\r\n     </g>\r\n    </g>\r\n    <g id=\"xtick_6\">\r\n     <g id=\"line2d_6\">\r\n      <g>\r\n       <use style=\"stroke:#000000;stroke-width:0.8;\" x=\"280.205363\" xlink:href=\"#m42ca57edb5\" y=\"227.977115\"/>\r\n      </g>\r\n     </g>\r\n     <g id=\"text_6\">\r\n      <!-- 2 -->\r\n      <g transform=\"translate(277.024113 242.575553)scale(0.1 -0.1)\">\r\n       <use xlink:href=\"#DejaVuSans-50\"/>\r\n      </g>\r\n     </g>\r\n    </g>\r\n    <g id=\"xtick_7\">\r\n     <g id=\"line2d_7\">\r\n      <g>\r\n       <use style=\"stroke:#000000;stroke-width:0.8;\" x=\"323.565409\" xlink:href=\"#m42ca57edb5\" y=\"227.977115\"/>\r\n      </g>\r\n     </g>\r\n     <g id=\"text_7\">\r\n      <!-- 3 -->\r\n      <g transform=\"translate(320.384159 242.575553)scale(0.1 -0.1)\">\r\n       <use xlink:href=\"#DejaVuSans-51\"/>\r\n      </g>\r\n     </g>\r\n    </g>\r\n    <g id=\"xtick_8\">\r\n     <g id=\"line2d_8\">\r\n      <g>\r\n       <use style=\"stroke:#000000;stroke-width:0.8;\" x=\"366.925455\" xlink:href=\"#m42ca57edb5\" y=\"227.977115\"/>\r\n      </g>\r\n     </g>\r\n     <g id=\"text_8\">\r\n      <!-- 4 -->\r\n      <g transform=\"translate(363.744205 242.575553)scale(0.1 -0.1)\">\r\n       <defs>\r\n        <path d=\"M 37.796875 64.3125 \r\nL 12.890625 25.390625 \r\nL 37.796875 25.390625 \r\nz\r\nM 35.203125 72.90625 \r\nL 47.609375 72.90625 \r\nL 47.609375 25.390625 \r\nL 58.015625 25.390625 \r\nL 58.015625 17.1875 \r\nL 47.609375 17.1875 \r\nL 47.609375 0 \r\nL 37.796875 0 \r\nL 37.796875 17.1875 \r\nL 4.890625 17.1875 \r\nL 4.890625 26.703125 \r\nz\r\n\" id=\"DejaVuSans-52\"/>\r\n       </defs>\r\n       <use xlink:href=\"#DejaVuSans-52\"/>\r\n      </g>\r\n     </g>\r\n    </g>\r\n   </g>\r\n   <g id=\"matplotlib.axis_2\">\r\n    <g id=\"ytick_1\">\r\n     <g id=\"line2d_9\">\r\n      <defs>\r\n       <path d=\"M 0 0 \r\nL -3.5 0 \r\n\" id=\"mc11526c493\" style=\"stroke:#000000;stroke-width:0.8;\"/>\r\n      </defs>\r\n      <g>\r\n       <use style=\"stroke:#000000;stroke-width:0.8;\" x=\"38.482813\" xlink:href=\"#mc11526c493\" y=\"198.179639\"/>\r\n      </g>\r\n     </g>\r\n     <g id=\"text_9\">\r\n      <!-- −1.0 -->\r\n      <g transform=\"translate(7.2 201.978858)scale(0.1 -0.1)\">\r\n       <defs>\r\n        <path d=\"M 10.6875 12.40625 \r\nL 21 12.40625 \r\nL 21 0 \r\nL 10.6875 0 \r\nz\r\n\" id=\"DejaVuSans-46\"/>\r\n       </defs>\r\n       <use xlink:href=\"#DejaVuSans-8722\"/>\r\n       <use x=\"83.789062\" xlink:href=\"#DejaVuSans-49\"/>\r\n       <use x=\"147.412109\" xlink:href=\"#DejaVuSans-46\"/>\r\n       <use x=\"179.199219\" xlink:href=\"#DejaVuSans-48\"/>\r\n      </g>\r\n     </g>\r\n    </g>\r\n    <g id=\"ytick_2\">\r\n     <g id=\"line2d_10\">\r\n      <g>\r\n       <use style=\"stroke:#000000;stroke-width:0.8;\" x=\"38.482813\" xlink:href=\"#mc11526c493\" y=\"160.743555\"/>\r\n      </g>\r\n     </g>\r\n     <g id=\"text_10\">\r\n      <!-- −0.5 -->\r\n      <g transform=\"translate(7.2 164.542774)scale(0.1 -0.1)\">\r\n       <defs>\r\n        <path d=\"M 10.796875 72.90625 \r\nL 49.515625 72.90625 \r\nL 49.515625 64.59375 \r\nL 19.828125 64.59375 \r\nL 19.828125 46.734375 \r\nQ 21.96875 47.46875 24.109375 47.828125 \r\nQ 26.265625 48.1875 28.421875 48.1875 \r\nQ 40.625 48.1875 47.75 41.5 \r\nQ 54.890625 34.8125 54.890625 23.390625 \r\nQ 54.890625 11.625 47.5625 5.09375 \r\nQ 40.234375 -1.421875 26.90625 -1.421875 \r\nQ 22.3125 -1.421875 17.546875 -0.640625 \r\nQ 12.796875 0.140625 7.71875 1.703125 \r\nL 7.71875 11.625 \r\nQ 12.109375 9.234375 16.796875 8.0625 \r\nQ 21.484375 6.890625 26.703125 6.890625 \r\nQ 35.15625 6.890625 40.078125 11.328125 \r\nQ 45.015625 15.765625 45.015625 23.390625 \r\nQ 45.015625 31 40.078125 35.4375 \r\nQ 35.15625 39.890625 26.703125 39.890625 \r\nQ 22.75 39.890625 18.8125 39.015625 \r\nQ 14.890625 38.140625 10.796875 36.28125 \r\nz\r\n\" id=\"DejaVuSans-53\"/>\r\n       </defs>\r\n       <use xlink:href=\"#DejaVuSans-8722\"/>\r\n       <use x=\"83.789062\" xlink:href=\"#DejaVuSans-48\"/>\r\n       <use x=\"147.412109\" xlink:href=\"#DejaVuSans-46\"/>\r\n       <use x=\"179.199219\" xlink:href=\"#DejaVuSans-53\"/>\r\n      </g>\r\n     </g>\r\n    </g>\r\n    <g id=\"ytick_3\">\r\n     <g id=\"line2d_11\">\r\n      <g>\r\n       <use style=\"stroke:#000000;stroke-width:0.8;\" x=\"38.482813\" xlink:href=\"#mc11526c493\" y=\"123.307471\"/>\r\n      </g>\r\n     </g>\r\n     <g id=\"text_11\">\r\n      <!-- 0.0 -->\r\n      <g transform=\"translate(15.579688 127.10669)scale(0.1 -0.1)\">\r\n       <use xlink:href=\"#DejaVuSans-48\"/>\r\n       <use x=\"63.623047\" xlink:href=\"#DejaVuSans-46\"/>\r\n       <use x=\"95.410156\" xlink:href=\"#DejaVuSans-48\"/>\r\n      </g>\r\n     </g>\r\n    </g>\r\n    <g id=\"ytick_4\">\r\n     <g id=\"line2d_12\">\r\n      <g>\r\n       <use style=\"stroke:#000000;stroke-width:0.8;\" x=\"38.482813\" xlink:href=\"#mc11526c493\" y=\"85.871387\"/>\r\n      </g>\r\n     </g>\r\n     <g id=\"text_12\">\r\n      <!-- 0.5 -->\r\n      <g transform=\"translate(15.579688 89.670606)scale(0.1 -0.1)\">\r\n       <use xlink:href=\"#DejaVuSans-48\"/>\r\n       <use x=\"63.623047\" xlink:href=\"#DejaVuSans-46\"/>\r\n       <use x=\"95.410156\" xlink:href=\"#DejaVuSans-53\"/>\r\n      </g>\r\n     </g>\r\n    </g>\r\n    <g id=\"ytick_5\">\r\n     <g id=\"line2d_13\">\r\n      <g>\r\n       <use style=\"stroke:#000000;stroke-width:0.8;\" x=\"38.482813\" xlink:href=\"#mc11526c493\" y=\"48.435303\"/>\r\n      </g>\r\n     </g>\r\n     <g id=\"text_13\">\r\n      <!-- 1.0 -->\r\n      <g transform=\"translate(15.579688 52.234522)scale(0.1 -0.1)\">\r\n       <use xlink:href=\"#DejaVuSans-49\"/>\r\n       <use x=\"63.623047\" xlink:href=\"#DejaVuSans-46\"/>\r\n       <use x=\"95.410156\" xlink:href=\"#DejaVuSans-48\"/>\r\n      </g>\r\n     </g>\r\n    </g>\r\n    <g id=\"ytick_6\">\r\n     <g id=\"line2d_14\">\r\n      <g>\r\n       <use style=\"stroke:#000000;stroke-width:0.8;\" x=\"38.482813\" xlink:href=\"#mc11526c493\" y=\"10.999219\"/>\r\n      </g>\r\n     </g>\r\n     <g id=\"text_14\">\r\n      <!-- 1.5 -->\r\n      <g transform=\"translate(15.579688 14.798437)scale(0.1 -0.1)\">\r\n       <use xlink:href=\"#DejaVuSans-49\"/>\r\n       <use x=\"63.623047\" xlink:href=\"#DejaVuSans-46\"/>\r\n       <use x=\"95.410156\" xlink:href=\"#DejaVuSans-53\"/>\r\n      </g>\r\n     </g>\r\n    </g>\r\n   </g>\r\n   <g id=\"patch_3\">\r\n    <path d=\"M 38.482813 227.977115 \r\nL 38.482813 10.537115 \r\n\" style=\"fill:none;stroke:#000000;stroke-linecap:square;stroke-linejoin:miter;stroke-width:0.8;\"/>\r\n   </g>\r\n   <g id=\"patch_4\">\r\n    <path d=\"M 373.282813 227.977115 \r\nL 373.282813 10.537115 \r\n\" style=\"fill:none;stroke:#000000;stroke-linecap:square;stroke-linejoin:miter;stroke-width:0.8;\"/>\r\n   </g>\r\n   <g id=\"patch_5\">\r\n    <path d=\"M 38.482812 227.977115 \r\nL 373.282812 227.977115 \r\n\" style=\"fill:none;stroke:#000000;stroke-linecap:square;stroke-linejoin:miter;stroke-width:0.8;\"/>\r\n   </g>\r\n   <g id=\"patch_6\">\r\n    <path d=\"M 38.482812 10.537115 \r\nL 373.282812 10.537115 \r\n\" style=\"fill:none;stroke:#000000;stroke-linecap:square;stroke-linejoin:miter;stroke-width:0.8;\"/>\r\n   </g>\r\n  </g>\r\n </g>\r\n <defs>\r\n  <clipPath id=\"p19b5eea1d1\">\r\n   <rect height=\"217.44\" width=\"334.8\" x=\"38.482813\" y=\"10.537115\"/>\r\n  </clipPath>\r\n </defs>\r\n</svg>\r\n",
      "image/png": "[encoded data removed]"
     },
     "metadata": {
      "needs_background": "light"
     }
    }
   ],
   "source": [
    "plt.scatter(X_pca2[:, 0], X_pca2[:, 1], c=iris.target)\n",
    "plt.show()"
   ]
  },
  {
   "source": [
    "### Con PCA 3"
   ],
   "cell_type": "markdown",
   "metadata": {}
  },
  {
   "cell_type": "code",
   "execution_count": 11,
   "metadata": {},
   "outputs": [
    {
     "output_type": "display_data",
     "data": {
      "application/vnd.plotly.v1+json": {
       "config": {
        "plotlyServerURL": "https://plot.ly"
       },
       "data": [
        {
         "hovertemplate": "PC 1=%{x}<br>PC 2=%{y}<br>PC 3=%{z}<br>color=%{marker.color}<extra></extra>",
         "legendgroup": "",
         "marker": {
          "color": [
           0,
           0,
           0,
           0,
           0,
           0,
           0,
           0,
           0,
           0,
           0,
           0,
           0,
           0,
           0,
           0,
           0,
           0,
           0,
           0,
           0,
           0,
           0,
           0,
           0,
           0,
           0,
           0,
           0,
           0,
           0,
           0,
           0,
           0,
           0,
           0,
           0,
           0,
           0,
           0,
           0,
           0,
           0,
           0,
           0,
           0,
           0,
           0,
           0,
           0,
           1,
           1,
           1,
           1,
           1,
           1,
           1,
           1,
           1,
           1,
           1,
           1,
           1,
           1,
           1,
           1,
           1,
           1,
           1,
           1,
           1,
           1,
           1,
           1,
           1,
           1,
           1,
           1,
           1,
           1,
           1,
           1,
           1,
           1,
           1,
           1,
           1,
           1,
           1,
           1,
           1,
           1,
           1,
           1,
           1,
           1,
           1,
           1,
           1,
           1,
           2,
           2,
           2,
           2,
           2,
           2,
           2,
           2,
           2,
           2,
           2,
           2,
           2,
           2,
           2,
           2,
           2,
           2,
           2,
           2,
           2,
           2,
           2,
           2,
           2,
           2,
           2,
           2,
           2,
           2,
           2,
           2,
           2,
           2,
           2,
           2,
           2,
           2,
           2,
           2,
           2,
           2,
           2,
           2,
           2,
           2,
           2,
           2,
           2,
           2
          ],
          "coloraxis": "coloraxis",
          "opacity": 0.7,
          "symbol": "circle"
         },
         "mode": "markers",
         "name": "",
         "scene": "scene",
         "showlegend": false,
         "type": "scatter3d",
         "x": [
          -2.6841256259695365,
          -2.7141416872943256,
          -2.8889905690592967,
          -2.74534285564141,
          -2.72871653655453,
          -2.2808596328444923,
          -2.820537750740609,
          -2.626144973146633,
          -2.8863827317805533,
          -2.6727557978209537,
          -2.506947090651856,
          -2.612755230908723,
          -2.7861092661880176,
          -3.223803743865652,
          -2.6447503899420295,
          -2.3860390335311332,
          -2.6235278752244264,
          -2.6482967062543814,
          -2.1998203236175797,
          -2.5879863998787687,
          -2.3102562152425183,
          -2.5437052287571564,
          -3.2159394156486116,
          -2.302733182226207,
          -2.3557540491237727,
          -2.506668906925822,
          -2.468820073121339,
          -2.562319906196016,
          -2.6395347153845425,
          -2.6319893872743463,
          -2.5873984766893527,
          -2.409932497002175,
          -2.6488623343499116,
          -2.598736749100587,
          -2.636926878105799,
          -2.8662416521186698,
          -2.6252380498503727,
          -2.8006841154482216,
          -2.9805020437819936,
          -2.590006313968096,
          -2.770102426027902,
          -2.8493687050431036,
          -2.9974065465949074,
          -2.4056144850974857,
          -2.2094892377836794,
          -2.714451426757708,
          -2.53814825899894,
          -2.8394621676428504,
          -2.543085749830393,
          -2.7033597823351596,
          1.2848256888583507,
          0.9324885323123177,
          1.464302321991393,
          0.18331771995837,
          1.088103257711665,
          0.6416690842580769,
          1.095060662632446,
          -0.7491226698296577,
          1.0441318260534347,
          -0.008745404082896518,
          -0.5078408838353264,
          0.5116985574475967,
          0.2649765081120458,
          0.9849345104708894,
          -0.17392537168176833,
          0.9278607809442466,
          0.6602837616969363,
          0.23610499331767099,
          0.9447337280198124,
          0.045226976298699297,
          1.1162831773500488,
          0.3578884179973067,
          1.2981838753589128,
          0.9217289224470362,
          0.7148533259114109,
          0.9001743731721665,
          1.3320244367220875,
          1.5578021550660692,
          0.8132906498175407,
          -0.3055837780243095,
          -0.06812649206836413,
          -0.1896224723785024,
          0.13642871155801434,
          1.38002643591551,
          0.5880064433398628,
          0.8068583125004115,
          1.220690882444352,
          0.815095235766599,
          0.2459576798866919,
          0.16641321714545626,
          0.46480028840377857,
          0.8908151984694486,
          0.23054802355945478,
          -0.7045317592446642,
          0.3569814947010464,
          0.33193447994505776,
          0.37621565106666977,
          0.6425760075543372,
          -0.9064698649488363,
          0.2990008418781427,
          2.531192727803627,
          1.4152358767039015,
          2.6166760159956883,
          1.9715310530434345,
          2.3500059200446386,
          3.3970387360532563,
          0.521232243909773,
          2.9325870689936875,
          2.3212288165733765,
          2.916750966786071,
          1.6617741536365302,
          1.80340195296509,
          2.165591796080144,
          1.3461635794584503,
          1.58592822387322,
          1.9044563747934258,
          1.9496890593990681,
          3.4870553642902777,
          3.7956454220728824,
          1.300791712637656,
          2.427817913066044,
          1.1990011054655596,
          3.4999200389245364,
          1.3887661316914643,
          2.2754305038722036,
          2.61409047381083,
          1.2585081605114867,
          1.29113205911502,
          2.1236087227738936,
          2.3880030160034664,
          2.8416727781038693,
          3.2306736614320912,
          2.1594376424890487,
          1.4441612423295087,
          1.781294810045111,
          3.0764999316871866,
          2.1442433143020807,
          1.9050981488140746,
          1.1693263393414992,
          2.1076111432572406,
          2.3141547052355986,
          1.9222678009026,
          1.4152358767039015,
          2.5630133750774746,
          2.418746182732824,
          1.944109794546967,
          1.5271666148145162,
          1.764345717044428,
          1.9009416142184223,
          1.3901888619479128
         ],
         "y": [
          0.31939724658510016,
          -0.17700122506478094,
          -0.14494942608555847,
          -0.3182989792519172,
          0.3267545129349188,
          0.7413304490629139,
          -0.08946138452857011,
          0.16338495969832775,
          -0.5783117541867048,
          -0.11377424587411769,
          0.6450688986485731,
          0.014729939161373454,
          -0.23511200020171916,
          -0.5113945870063834,
          1.1787646364375743,
          1.3380623304006514,
          0.8106795141812567,
          0.3118491445933538,
          0.8728390389622103,
          0.5135603087492758,
          0.39134593565389353,
          0.43299606327902707,
          0.1334680695385244,
          0.09870885481409855,
          -0.0372818596773836,
          -0.14601688049526834,
          0.13095148943524934,
          0.367718857434199,
          0.31203998023528207,
          -0.19696122492431561,
          -0.20431849127413432,
          0.41092426422957223,
          0.8133638202969609,
          1.0931457594493559,
          -0.12132234786586404,
          0.06936447158007976,
          0.5993700213794231,
          0.2686437377979811,
          -0.48795834442861635,
          0.2290438368270117,
          0.26352753374425547,
          -0.9409605736411971,
          -0.3419260574716111,
          0.18887142893025927,
          0.4366631416391867,
          -0.2502082041852119,
          0.5037711444614364,
          -0.22794556949382877,
          0.5794100215198884,
          0.10770608249941073,
          0.6851604704673092,
          0.31833363826262895,
          0.5042628153092046,
          -0.8279590118206321,
          0.07459067519771659,
          -0.41824687156867896,
          0.2834682700615289,
          -1.0048909611818957,
          0.228361899788396,
          -0.7230819050048346,
          -1.2659711905263935,
          -0.10398123549904059,
          -0.5500364636804741,
          -0.12481785412635735,
          -0.2548542087025896,
          0.46717949444151086,
          -0.3529696657238508,
          -0.3336107668249153,
          -0.5431455507797658,
          -0.5838343774718643,
          -0.08461685219478841,
          -0.0689250316560138,
          -0.3277873083339169,
          -0.18273779362136733,
          0.14905594436978503,
          0.3285044738343236,
          0.24444087601634412,
          0.2674954473102551,
          -0.16335030068761633,
          -0.36826218975458797,
          -0.7051721317994653,
          -0.6802867635281332,
          -0.3140324382492367,
          -0.4209542873138818,
          -0.4842874199812189,
          0.1941823147131504,
          0.40761959361100747,
          -0.37203705990950114,
          -0.2685243966220153,
          -0.6819267248636267,
          -0.6707115445117207,
          -0.03446444436826889,
          -0.40438584800732513,
          -1.0122482275317144,
          -0.5049100933371088,
          -0.21265468378117014,
          -0.2932189292514192,
          0.01773819011241643,
          -0.7560933665990143,
          -0.3488978064503361,
          -0.009849109498802255,
          -0.5749163475464895,
          0.34390315134173494,
          -0.17972790435224534,
          -0.04026094714253091,
          0.5508366730280565,
          -1.192758727000646,
          0.3555000029774972,
          -0.24383150231068992,
          0.7827919488152785,
          0.24222840775506704,
          -0.2156376173335551,
          0.2162755850740252,
          -0.7768183473443395,
          -0.5396407140267189,
          0.1192506920919726,
          0.041943259663211566,
          1.1757393297134298,
          0.25732297342048077,
          -0.7611496364350628,
          0.378196012617051,
          -0.6060915277579308,
          0.46067409891189626,
          -0.2043993273521506,
          0.33499060582167745,
          0.5609013551230783,
          -0.1797047947227465,
          -0.11666865117401151,
          -0.2097294766773025,
          0.46463980470873706,
          0.3752691671951043,
          1.3741650867930482,
          -0.21727757866904884,
          -0.14341341045758046,
          -0.4999016810781362,
          0.6880856775711769,
          0.14006420108978965,
          0.04930052601303021,
          -0.16499026202310976,
          0.372287871960798,
          0.18365127916901913,
          0.40920346681606257,
          -0.5749163475464895,
          0.277862602929195,
          0.3047981978546921,
          0.18753230280060557,
          -0.37531698258048796,
          0.07885885451847591,
          0.11662795851202327,
          -0.2826609379905508
         ],
         "z": [
          -0.027914827589413882,
          -0.2104642723782441,
          0.017900256320889874,
          0.03155937360568051,
          0.09007924055120098,
          0.16867765820910469,
          0.2578921582556174,
          -0.02187931788671993,
          0.02075957026477937,
          -0.19763272498814677,
          -0.07531800937912003,
          0.10215025995658933,
          -0.2068444304496449,
          0.06129967245709856,
          -0.1516275236178088,
          0.277776902703136,
          0.13818322788071952,
          0.026668315612593755,
          -0.12030552339473077,
          0.2136651722247157,
          -0.2394440432449534,
          0.20845723241671493,
          0.2923967507452421,
          0.039123258742880584,
          0.12502108270287826,
          -0.25342004234465787,
          0.09491057609939152,
          -0.07849420513792427,
          -0.14590889573002924,
          0.040771079067178695,
          -0.07722298907343622,
          -0.14552497200513076,
          0.22566914972011942,
          0.1578108129582202,
          -0.14304958178613925,
          -0.16433230665302573,
          -0.26835037569393616,
          0.09369908247979974,
          0.07292704569269182,
          -0.0800823030173261,
          0.0772476931611038,
          -0.3492303773059669,
          0.19250921171270907,
          0.26386794551341536,
          0.29874274575510845,
          -0.09767814404562974,
          0.1667056366048043,
          0.08372684903359284,
          -0.0171150242485133,
          -0.0892940084788248,
          -0.40656802546769377,
          -0.018014186646240216,
          -0.33832576498089595,
          -0.17959139187535586,
          -0.3077578962347847,
          0.041076090823955434,
          0.16981023986057514,
          0.012302919237594537,
          -0.4153360847593975,
          0.2811414311764091,
          -0.26981718276885336,
          0.13054775024048598,
          -0.6941468301444192,
          -0.06211440832226131,
          0.09045769072570427,
          -0.314620975832172,
          0.3280275283785946,
          -0.27116183725106713,
          -0.4995190464851129,
          -0.23500210497205626,
          0.4596209913591037,
          -0.22985388760895153,
          -0.34785435225730843,
          -0.23107177773628512,
          -0.32180093724447384,
          -0.31620907371157386,
          -0.5217027796644189,
          -0.16492098374358016,
          0.03542450484615997,
          -0.31849158062304717,
          -0.24421381043355495,
          -0.3064205612176588,
          -0.17724276601124453,
          0.016167127520728273,
          0.4444334986398071,
          0.3889630630982105,
          -0.2371670098838755,
          -0.6147208425918222,
          0.1883668116461943,
          -0.06000922585533859,
          -0.024306855718952435,
          -0.00994693289434902,
          -0.22941024143915684,
          -0.10569114890302038,
          0.016617170198265013,
          0.0832042908956762,
          0.07799635108767522,
          -0.20539496698326076,
          -0.012599647557890581,
          0.010581660495570262,
          0.7601654272458951,
          0.296322527387964,
          -0.1107878832191086,
          0.10842466246342258,
          0.2853895631844412,
          -0.3484375557974668,
          0.5456592956468117,
          -0.4202399357679679,
          -0.3483043949348451,
          0.42333541768255895,
          0.24244018972576917,
          -0.037648168231482426,
          0.03332664184432555,
          0.28190288211846437,
          0.6290293264080103,
          0.4796398196265907,
          0.04418616763012195,
          0.13389487393609883,
          -0.5137677638178039,
          -0.3449950383134184,
          0.2191193243019437,
          0.5118555086970005,
          -0.5731822425680023,
          -0.06452275663126833,
          0.2861500911691499,
          -0.20553452435362463,
          0.04584770392724996,
          0.23125646265997032,
          0.15418002392882996,
          -0.4495301919418496,
          -0.4988980758707684,
          -0.11454820547541833,
          0.2087631671308376,
          -0.15323388806309024,
          -0.17287518911342042,
          -0.33559229243454003,
          0.734878936725511,
          0.1621802357707368,
          0.28183584020848024,
          0.027291132141631095,
          0.32269374717305926,
          0.11358659579935725,
          0.296322527387964,
          0.29256952459674296,
          0.5044826639771802,
          0.1778250906326579,
          -0.12189817186718177,
          0.13048163128784823,
          0.723251563489917,
          0.36290964808537535
         ]
        }
       ],
       "layout": {
        "coloraxis": {
         "colorbar": {
          "title": {
           "text": "color"
          }
         },
         "colorscale": [
          [
           0,
           "#0d0887"
          ],
          [
           0.1111111111111111,
           "#46039f"
          ],
          [
           0.2222222222222222,
           "#7201a8"
          ],
          [
           0.3333333333333333,
           "#9c179e"
          ],
          [
           0.4444444444444444,
           "#bd3786"
          ],
          [
           0.5555555555555556,
           "#d8576b"
          ],
          [
           0.6666666666666666,
           "#ed7953"
          ],
          [
           0.7777777777777778,
           "#fb9f3a"
          ],
          [
           0.8888888888888888,
           "#fdca26"
          ],
          [
           1,
           "#f0f921"
          ]
         ]
        },
        "legend": {
         "tracegroupgap": 0
        },
        "scene": {
         "domain": {
          "x": [
           0,
           1
          ],
          "y": [
           0,
           1
          ]
         },
         "xaxis": {
          "title": {
           "text": "PC 1"
          }
         },
         "yaxis": {
          "title": {
           "text": "PC 2"
          }
         },
         "zaxis": {
          "title": {
           "text": "PC 3"
          }
         }
        },
        "template": {
         "data": {
          "bar": [
           {
            "error_x": {
             "color": "#2a3f5f"
            },
            "error_y": {
             "color": "#2a3f5f"
            },
            "marker": {
             "line": {
              "color": "#E5ECF6",
              "width": 0.5
             }
            },
            "type": "bar"
           }
          ],
          "barpolar": [
           {
            "marker": {
             "line": {
              "color": "#E5ECF6",
              "width": 0.5
             }
            },
            "type": "barpolar"
           }
          ],
          "carpet": [
           {
            "aaxis": {
             "endlinecolor": "#2a3f5f",
             "gridcolor": "white",
             "linecolor": "white",
             "minorgridcolor": "white",
             "startlinecolor": "#2a3f5f"
            },
            "baxis": {
             "endlinecolor": "#2a3f5f",
             "gridcolor": "white",
             "linecolor": "white",
             "minorgridcolor": "white",
             "startlinecolor": "#2a3f5f"
            },
            "type": "carpet"
           }
          ],
          "choropleth": [
           {
            "colorbar": {
             "outlinewidth": 0,
             "ticks": ""
            },
            "type": "choropleth"
           }
          ],
          "contour": [
           {
            "colorbar": {
             "outlinewidth": 0,
             "ticks": ""
            },
            "colorscale": [
             [
              0,
              "#0d0887"
             ],
             [
              0.1111111111111111,
              "#46039f"
             ],
             [
              0.2222222222222222,
              "#7201a8"
             ],
             [
              0.3333333333333333,
              "#9c179e"
             ],
             [
              0.4444444444444444,
              "#bd3786"
             ],
             [
              0.5555555555555556,
              "#d8576b"
             ],
             [
              0.6666666666666666,
              "#ed7953"
             ],
             [
              0.7777777777777778,
              "#fb9f3a"
             ],
             [
              0.8888888888888888,
              "#fdca26"
             ],
             [
              1,
              "#f0f921"
             ]
            ],
            "type": "contour"
           }
          ],
          "contourcarpet": [
           {
            "colorbar": {
             "outlinewidth": 0,
             "ticks": ""
            },
            "type": "contourcarpet"
           }
          ],
          "heatmap": [
           {
            "colorbar": {
             "outlinewidth": 0,
             "ticks": ""
            },
            "colorscale": [
             [
              0,
              "#0d0887"
             ],
             [
              0.1111111111111111,
              "#46039f"
             ],
             [
              0.2222222222222222,
              "#7201a8"
             ],
             [
              0.3333333333333333,
              "#9c179e"
             ],
             [
              0.4444444444444444,
              "#bd3786"
             ],
             [
              0.5555555555555556,
              "#d8576b"
             ],
             [
              0.6666666666666666,
              "#ed7953"
             ],
             [
              0.7777777777777778,
              "#fb9f3a"
             ],
             [
              0.8888888888888888,
              "#fdca26"
             ],
             [
              1,
              "#f0f921"
             ]
            ],
            "type": "heatmap"
           }
          ],
          "heatmapgl": [
           {
            "colorbar": {
             "outlinewidth": 0,
             "ticks": ""
            },
            "colorscale": [
             [
              0,
              "#0d0887"
             ],
             [
              0.1111111111111111,
              "#46039f"
             ],
             [
              0.2222222222222222,
              "#7201a8"
             ],
             [
              0.3333333333333333,
              "#9c179e"
             ],
             [
              0.4444444444444444,
              "#bd3786"
             ],
             [
              0.5555555555555556,
              "#d8576b"
             ],
             [
              0.6666666666666666,
              "#ed7953"
             ],
             [
              0.7777777777777778,
              "#fb9f3a"
             ],
             [
              0.8888888888888888,
              "#fdca26"
             ],
             [
              1,
              "#f0f921"
             ]
            ],
            "type": "heatmapgl"
           }
          ],
          "histogram": [
           {
            "marker": {
             "colorbar": {
              "outlinewidth": 0,
              "ticks": ""
             }
            },
            "type": "histogram"
           }
          ],
          "histogram2d": [
           {
            "colorbar": {
             "outlinewidth": 0,
             "ticks": ""
            },
            "colorscale": [
             [
              0,
              "#0d0887"
             ],
             [
              0.1111111111111111,
              "#46039f"
             ],
             [
              0.2222222222222222,
              "#7201a8"
             ],
             [
              0.3333333333333333,
              "#9c179e"
             ],
             [
              0.4444444444444444,
              "#bd3786"
             ],
             [
              0.5555555555555556,
              "#d8576b"
             ],
             [
              0.6666666666666666,
              "#ed7953"
             ],
             [
              0.7777777777777778,
              "#fb9f3a"
             ],
             [
              0.8888888888888888,
              "#fdca26"
             ],
             [
              1,
              "#f0f921"
             ]
            ],
            "type": "histogram2d"
           }
          ],
          "histogram2dcontour": [
           {
            "colorbar": {
             "outlinewidth": 0,
             "ticks": ""
            },
            "colorscale": [
             [
              0,
              "#0d0887"
             ],
             [
              0.1111111111111111,
              "#46039f"
             ],
             [
              0.2222222222222222,
              "#7201a8"
             ],
             [
              0.3333333333333333,
              "#9c179e"
             ],
             [
              0.4444444444444444,
              "#bd3786"
             ],
             [
              0.5555555555555556,
              "#d8576b"
             ],
             [
              0.6666666666666666,
              "#ed7953"
             ],
             [
              0.7777777777777778,
              "#fb9f3a"
             ],
             [
              0.8888888888888888,
              "#fdca26"
             ],
             [
              1,
              "#f0f921"
             ]
            ],
            "type": "histogram2dcontour"
           }
          ],
          "mesh3d": [
           {
            "colorbar": {
             "outlinewidth": 0,
             "ticks": ""
            },
            "type": "mesh3d"
           }
          ],
          "parcoords": [
           {
            "line": {
             "colorbar": {
              "outlinewidth": 0,
              "ticks": ""
             }
            },
            "type": "parcoords"
           }
          ],
          "pie": [
           {
            "automargin": true,
            "type": "pie"
           }
          ],
          "scatter": [
           {
            "marker": {
             "colorbar": {
              "outlinewidth": 0,
              "ticks": ""
             }
            },
            "type": "scatter"
           }
          ],
          "scatter3d": [
           {
            "line": {
             "colorbar": {
              "outlinewidth": 0,
              "ticks": ""
             }
            },
            "marker": {
             "colorbar": {
              "outlinewidth": 0,
              "ticks": ""
             }
            },
            "type": "scatter3d"
           }
          ],
          "scattercarpet": [
           {
            "marker": {
             "colorbar": {
              "outlinewidth": 0,
              "ticks": ""
             }
            },
            "type": "scattercarpet"
           }
          ],
          "scattergeo": [
           {
            "marker": {
             "colorbar": {
              "outlinewidth": 0,
              "ticks": ""
             }
            },
            "type": "scattergeo"
           }
          ],
          "scattergl": [
           {
            "marker": {
             "colorbar": {
              "outlinewidth": 0,
              "ticks": ""
             }
            },
            "type": "scattergl"
           }
          ],
          "scattermapbox": [
           {
            "marker": {
             "colorbar": {
              "outlinewidth": 0,
              "ticks": ""
             }
            },
            "type": "scattermapbox"
           }
          ],
          "scatterpolar": [
           {
            "marker": {
             "colorbar": {
              "outlinewidth": 0,
              "ticks": ""
             }
            },
            "type": "scatterpolar"
           }
          ],
          "scatterpolargl": [
           {
            "marker": {
             "colorbar": {
              "outlinewidth": 0,
              "ticks": ""
             }
            },
            "type": "scatterpolargl"
           }
          ],
          "scatterternary": [
           {
            "marker": {
             "colorbar": {
              "outlinewidth": 0,
              "ticks": ""
             }
            },
            "type": "scatterternary"
           }
          ],
          "surface": [
           {
            "colorbar": {
             "outlinewidth": 0,
             "ticks": ""
            },
            "colorscale": [
             [
              0,
              "#0d0887"
             ],
             [
              0.1111111111111111,
              "#46039f"
             ],
             [
              0.2222222222222222,
              "#7201a8"
             ],
             [
              0.3333333333333333,
              "#9c179e"
             ],
             [
              0.4444444444444444,
              "#bd3786"
             ],
             [
              0.5555555555555556,
              "#d8576b"
             ],
             [
              0.6666666666666666,
              "#ed7953"
             ],
             [
              0.7777777777777778,
              "#fb9f3a"
             ],
             [
              0.8888888888888888,
              "#fdca26"
             ],
             [
              1,
              "#f0f921"
             ]
            ],
            "type": "surface"
           }
          ],
          "table": [
           {
            "cells": {
             "fill": {
              "color": "#EBF0F8"
             },
             "line": {
              "color": "white"
             }
            },
            "header": {
             "fill": {
              "color": "#C8D4E3"
             },
             "line": {
              "color": "white"
             }
            },
            "type": "table"
           }
          ]
         },
         "layout": {
          "annotationdefaults": {
           "arrowcolor": "#2a3f5f",
           "arrowhead": 0,
           "arrowwidth": 1
          },
          "autotypenumbers": "strict",
          "coloraxis": {
           "colorbar": {
            "outlinewidth": 0,
            "ticks": ""
           }
          },
          "colorscale": {
           "diverging": [
            [
             0,
             "#8e0152"
            ],
            [
             0.1,
             "#c51b7d"
            ],
            [
             0.2,
             "#de77ae"
            ],
            [
             0.3,
             "#f1b6da"
            ],
            [
             0.4,
             "#fde0ef"
            ],
            [
             0.5,
             "#f7f7f7"
            ],
            [
             0.6,
             "#e6f5d0"
            ],
            [
             0.7,
             "#b8e186"
            ],
            [
             0.8,
             "#7fbc41"
            ],
            [
             0.9,
             "#4d9221"
            ],
            [
             1,
             "#276419"
            ]
           ],
           "sequential": [
            [
             0,
             "#0d0887"
            ],
            [
             0.1111111111111111,
             "#46039f"
            ],
            [
             0.2222222222222222,
             "#7201a8"
            ],
            [
             0.3333333333333333,
             "#9c179e"
            ],
            [
             0.4444444444444444,
             "#bd3786"
            ],
            [
             0.5555555555555556,
             "#d8576b"
            ],
            [
             0.6666666666666666,
             "#ed7953"
            ],
            [
             0.7777777777777778,
             "#fb9f3a"
            ],
            [
             0.8888888888888888,
             "#fdca26"
            ],
            [
             1,
             "#f0f921"
            ]
           ],
           "sequentialminus": [
            [
             0,
             "#0d0887"
            ],
            [
             0.1111111111111111,
             "#46039f"
            ],
            [
             0.2222222222222222,
             "#7201a8"
            ],
            [
             0.3333333333333333,
             "#9c179e"
            ],
            [
             0.4444444444444444,
             "#bd3786"
            ],
            [
             0.5555555555555556,
             "#d8576b"
            ],
            [
             0.6666666666666666,
             "#ed7953"
            ],
            [
             0.7777777777777778,
             "#fb9f3a"
            ],
            [
             0.8888888888888888,
             "#fdca26"
            ],
            [
             1,
             "#f0f921"
            ]
           ]
          },
          "colorway": [
           "#636efa",
           "#EF553B",
           "#00cc96",
           "#ab63fa",
           "#FFA15A",
           "#19d3f3",
           "#FF6692",
           "#B6E880",
           "#FF97FF",
           "#FECB52"
          ],
          "font": {
           "color": "#2a3f5f"
          },
          "geo": {
           "bgcolor": "white",
           "lakecolor": "white",
           "landcolor": "#E5ECF6",
           "showlakes": true,
           "showland": true,
           "subunitcolor": "white"
          },
          "hoverlabel": {
           "align": "left"
          },
          "hovermode": "closest",
          "mapbox": {
           "style": "light"
          },
          "paper_bgcolor": "white",
          "plot_bgcolor": "#E5ECF6",
          "polar": {
           "angularaxis": {
            "gridcolor": "white",
            "linecolor": "white",
            "ticks": ""
           },
           "bgcolor": "#E5ECF6",
           "radialaxis": {
            "gridcolor": "white",
            "linecolor": "white",
            "ticks": ""
           }
          },
          "scene": {
           "xaxis": {
            "backgroundcolor": "#E5ECF6",
            "gridcolor": "white",
            "gridwidth": 2,
            "linecolor": "white",
            "showbackground": true,
            "ticks": "",
            "zerolinecolor": "white"
           },
           "yaxis": {
            "backgroundcolor": "#E5ECF6",
            "gridcolor": "white",
            "gridwidth": 2,
            "linecolor": "white",
            "showbackground": true,
            "ticks": "",
            "zerolinecolor": "white"
           },
           "zaxis": {
            "backgroundcolor": "#E5ECF6",
            "gridcolor": "white",
            "gridwidth": 2,
            "linecolor": "white",
            "showbackground": true,
            "ticks": "",
            "zerolinecolor": "white"
           }
          },
          "shapedefaults": {
           "line": {
            "color": "#2a3f5f"
           }
          },
          "ternary": {
           "aaxis": {
            "gridcolor": "white",
            "linecolor": "white",
            "ticks": ""
           },
           "baxis": {
            "gridcolor": "white",
            "linecolor": "white",
            "ticks": ""
           },
           "bgcolor": "#E5ECF6",
           "caxis": {
            "gridcolor": "white",
            "linecolor": "white",
            "ticks": ""
           }
          },
          "title": {
           "x": 0.05
          },
          "xaxis": {
           "automargin": true,
           "gridcolor": "white",
           "linecolor": "white",
           "ticks": "",
           "title": {
            "standoff": 15
           },
           "zerolinecolor": "white",
           "zerolinewidth": 2
          },
          "yaxis": {
           "automargin": true,
           "gridcolor": "white",
           "linecolor": "white",
           "ticks": "",
           "title": {
            "standoff": 15
           },
           "zerolinecolor": "white",
           "zerolinewidth": 2
          }
         }
        },
        "title": {
         "text": "Total Explained Variance: 99.48%"
        }
       }
      }
     },
     "metadata": {}
    }
   ],
   "source": [
    "import plotly.express as px\n",
    "\n",
    "fig = px.scatter_3d(\n",
    "    X_pca3, x=0, y=1, z=2,\n",
    "    color=y,\n",
    "    opacity=0.7,\n",
    "    title=f'Total Explained Variance: {total_var_pca_3.round(2)}%',\n",
    "    labels={'0': 'PC 1', '1': 'PC 2', '2': 'PC 3'}\n",
    ")\n",
    "fig.show()"
   ]
  },
  {
   "source": [
    "### Una vez realizada la reducción de dimensionalidad, utilizamos `KMeans`"
   ],
   "cell_type": "markdown",
   "metadata": {}
  },
  {
   "cell_type": "code",
   "execution_count": 12,
   "metadata": {},
   "outputs": [
    {
     "output_type": "stream",
     "name": "stdout",
     "text": [
      "PARA PCA 2:\n\nkmeans.labels_: [1 1 1 1 1 1 1 1 1 1 1 1 1 1 1 1 1 1 1 1 1 1 1 1 1 1 1 1 1 1 1 1 1 1 1 1 1\n 1 1 1 1 1 1 1 1 1 1 1 1 1 2 0 2 0 0 0 0 0 0 0 0 0 0 0 0 0 0 0 0 0 0 0 0 0\n 0 0 0 2 0 0 0 0 0 0 0 0 0 0 0 0 0 0 0 0 0 0 0 0 0 0 2 0 2 2 2 2 0 2 2 2 2\n 2 2 0 0 2 2 2 2 0 2 0 2 0 2 2 0 0 2 2 2 2 2 0 2 2 2 2 0 2 2 2 0 2 2 2 0 2\n 2 0]\n\npredict: [1 1 1 1 1 1 1 1 1 1 1 1 1 1 1 1 1 1 1 1 1 1 1 1 1 1 1 1 1 1 1 1 1 1 1 1 1\n 1 1 1 1 1 1 1 1 1 1 1 1 1 2 0 2 0 0 0 0 0 0 0 0 0 0 0 0 0 0 0 0 0 0 0 0 0\n 0 0 0 2 0 0 0 0 0 0 0 0 0 0 0 0 0 0 0 0 0 0 0 0 0 0 2 0 2 2 2 2 0 2 2 2 2\n 2 2 0 0 2 2 2 2 0 2 0 2 0 2 2 0 0 2 2 2 2 2 0 2 2 2 2 0 2 2 2 0 2 2 2 0 2\n 2 0]\n\nKMeans cluster centers con PCA 2:\n [[ 0.66567601 -0.3316042 ]\n [-2.64241546  0.19088505]\n [ 2.34652659  0.27393856]]\n\n############################\n\nPARA PCA 3:\n\nkmeans.labels_: [1 1 1 1 1 1 1 1 1 1 1 1 1 1 1 1 1 1 1 1 1 1 1 1 1 1 1 1 1 1 1 1 1 1 1 1 1\n 1 1 1 1 1 1 1 1 1 1 1 1 1 2 0 2 0 0 0 0 0 0 0 0 0 0 0 0 0 0 0 0 0 0 0 0 0\n 0 0 0 2 0 0 0 0 0 0 0 0 0 0 0 0 0 0 0 0 0 0 0 0 0 0 2 0 2 2 2 2 0 2 2 2 2\n 2 2 0 0 2 2 2 2 0 2 0 2 0 2 2 0 0 2 2 2 2 2 0 2 2 2 2 0 2 2 2 0 2 2 2 0 2\n 2 0]\n\npredict: [1 1 1 1 1 1 1 1 1 1 1 1 1 1 1 1 1 1 1 1 1 1 1 1 1 1 1 1 1 1 1 1 1 1 1 1 1\n 1 1 1 1 1 1 1 1 1 1 1 1 1 2 0 2 0 0 0 0 0 0 0 0 0 0 0 0 0 0 0 0 0 0 0 0 0\n 0 0 0 2 0 0 0 0 0 0 0 0 0 0 0 0 0 0 0 0 0 0 0 0 0 0 2 0 2 2 2 2 0 2 2 2 2\n 2 2 0 0 2 2 2 2 0 2 0 2 0 2 2 0 0 2 2 2 2 2 0 2 2 2 2 0 2 2 2 0 2 2 2 0 2\n 2 0]\n\nKMeans cluster centers con PCA 3:\n [[ 0.67566229 -0.31520477 -0.04217302]\n [-2.64241546  0.19088505  0.01358128]\n [ 2.37446608  0.26311694  0.05093851]]\n"
     ]
    }
   ],
   "source": [
    "# Importamos Kmeans\n",
    "from sklearn.cluster import KMeans\n",
    "\n",
    "# Para PCA 2\n",
    "print('PARA PCA 2:\\n')\n",
    "kmeans_pca_2 = KMeans(n_clusters=3, random_state=11).fit(X_pca2)\n",
    "print(\"kmeans.labels_:\", kmeans_pca_2.labels_)\n",
    "predict_pca_2 = kmeans_pca_2.predict(X_pca2)\n",
    "print(\"\\npredict:\", predict_pca_2)\n",
    "clusters_pca_2 = kmeans_pca_2.cluster_centers_\n",
    "print(f'\\nKMeans cluster centers con PCA 2:\\n {clusters_pca_2}')\n",
    "\n",
    "print('\\n############################')\n",
    "\n",
    "# Para PCA 3\n",
    "print('\\nPARA PCA 3:\\n')\n",
    "kmeans_pca_3 = KMeans(n_clusters=3, random_state=11).fit(X_pca3)\n",
    "print(\"kmeans.labels_:\", kmeans_pca_2.labels_)\n",
    "predict_pca_3 = kmeans_pca_3.predict(X_pca3)\n",
    "print(\"\\npredict:\", predict_pca_2)\n",
    "clusters_pca_3 = kmeans_pca_3.cluster_centers_\n",
    "print(f'\\nKMeans cluster centers con PCA 3:\\n {clusters_pca_3}')"
   ]
  },
  {
   "cell_type": "code",
   "execution_count": 13,
   "metadata": {},
   "outputs": [
    {
     "output_type": "stream",
     "name": "stdout",
     "text": [
      "PCA2_Score: 0.24\nPCA3_Score: 0.24\n"
     ]
    }
   ],
   "source": [
    "k_pca2_score = metrics.accuracy_score(y, predict_pca_2)\n",
    "k_pca3_score = metrics.accuracy_score(y, predict_pca_3)\n",
    "\n",
    "print(f'PCA2_Score: {k_pca2_score.round(2)}')\n",
    "print(f'PCA3_Score: {k_pca3_score}')"
   ]
  },
  {
   "source": [
    "## T-SNE"
   ],
   "cell_type": "markdown",
   "metadata": {}
  },
  {
   "cell_type": "code",
   "execution_count": 14,
   "metadata": {},
   "outputs": [],
   "source": [
    "# Importamos T-SNE\n",
    "from sklearn.manifold import TSNE\n",
    "\n",
    "# T-SNE 2\n",
    "tsne_2 = TSNE(n_components=2, random_state=80)\n",
    "X_tsne2 = tsne_2.fit_transform(X)\n",
    "\n",
    "# T-SNE 3\n",
    "tsne_3 = TSNE(n_components=3, random_state=80)\n",
    "X_tsne3 = tsne_3.fit_transform(X)"
   ]
  },
  {
   "source": [
    "### Observaréis que si cambiáis la semilla, cambiará la distribución de los puntos en el gráfico"
   ],
   "cell_type": "markdown",
   "metadata": {}
  },
  {
   "cell_type": "code",
   "execution_count": 15,
   "metadata": {},
   "outputs": [
    {
     "output_type": "display_data",
     "data": {
      "text/plain": "<Figure size 432x288 with 1 Axes>",
      "image/svg+xml": "<?xml version=\"1.0\" encoding=\"utf-8\" standalone=\"no\"?>\r\n<!DOCTYPE svg PUBLIC \"-//W3C//DTD SVG 1.1//EN\"\r\n  \"http://www.w3.org/Graphics/SVG/1.1/DTD/svg11.dtd\">\r\n<!-- Created with matplotlib (https://matplotlib.org/) -->\r\n<svg height=\"263.63625pt\" version=\"1.1\" viewBox=\"0 0 377.304687 263.63625\" width=\"377.304687pt\" xmlns=\"http://www.w3.org/2000/svg\" xmlns:xlink=\"http://www.w3.org/1999/xlink\">\r\n <metadata>\r\n  <rdf:RDF xmlns:cc=\"http://creativecommons.org/ns#\" xmlns:dc=\"http://purl.org/dc/elements/1.1/\" xmlns:rdf=\"http://www.w3.org/1999/02/22-rdf-syntax-ns#\">\r\n   <cc:Work>\r\n    <dc:type rdf:resource=\"http://purl.org/dc/dcmitype/StillImage\"/>\r\n    <dc:date>2021-06-23T13:15:59.658519</dc:date>\r\n    <dc:format>image/svg+xml</dc:format>\r\n    <dc:creator>\r\n     <cc:Agent>\r\n      <dc:title>Matplotlib v3.3.3, https://matplotlib.org/</dc:title>\r\n     </cc:Agent>\r\n    </dc:creator>\r\n   </cc:Work>\r\n  </rdf:RDF>\r\n </metadata>\r\n <defs>\r\n  <style type=\"text/css\">*{stroke-linecap:butt;stroke-linejoin:round;}</style>\r\n </defs>\r\n <g id=\"figure_1\">\r\n  <g id=\"patch_1\">\r\n   <path d=\"M 0 263.63625 \r\nL 377.304687 263.63625 \r\nL 377.304687 0 \r\nL 0 0 \r\nz\r\n\" style=\"fill:none;\"/>\r\n  </g>\r\n  <g id=\"axes_1\">\r\n   <g id=\"patch_2\">\r\n    <path d=\"M 35.304688 239.758125 \r\nL 370.104688 239.758125 \r\nL 370.104688 22.318125 \r\nL 35.304688 22.318125 \r\nz\r\n\" style=\"fill:#ffffff;\"/>\r\n   </g>\r\n   <g id=\"PathCollection_1\">\r\n    <defs>\r\n     <path d=\"M 0 3 \r\nC 0.795609 3 1.55874 2.683901 2.12132 2.12132 \r\nC 2.683901 1.55874 3 0.795609 3 -0 \r\nC 3 -0.795609 2.683901 -1.55874 2.12132 -2.12132 \r\nC 1.55874 -2.683901 0.795609 -3 0 -3 \r\nC -0.795609 -3 -1.55874 -2.683901 -2.12132 -2.12132 \r\nC -2.683901 -1.55874 -3 -0.795609 -3 0 \r\nC -3 0.795609 -2.683901 1.55874 -2.12132 2.12132 \r\nC -1.55874 2.683901 -0.795609 3 0 3 \r\nz\r\n\" id=\"C0_0_930d703473\"/>\r\n    </defs>\r\n    <g clip-path=\"url(#pf56550eba9)\">\r\n     <use style=\"fill:#440154;stroke:#440154;\" x=\"60.851713\" xlink:href=\"#C0_0_930d703473\" y=\"207.914926\"/>\r\n    </g>\r\n    <g clip-path=\"url(#pf56550eba9)\">\r\n     <use style=\"fill:#440154;stroke:#440154;\" x=\"58.248979\" xlink:href=\"#C0_0_930d703473\" y=\"221.900382\"/>\r\n    </g>\r\n    <g clip-path=\"url(#pf56550eba9)\">\r\n     <use style=\"fill:#440154;stroke:#440154;\" x=\"70.126031\" xlink:href=\"#C0_0_930d703473\" y=\"220.875514\"/>\r\n    </g>\r\n    <g clip-path=\"url(#pf56550eba9)\">\r\n     <use style=\"fill:#440154;stroke:#440154;\" x=\"66.755938\" xlink:href=\"#C0_0_930d703473\" y=\"223.260571\"/>\r\n    </g>\r\n    <g clip-path=\"url(#pf56550eba9)\">\r\n     <use style=\"fill:#440154;stroke:#440154;\" x=\"56.656493\" xlink:href=\"#C0_0_930d703473\" y=\"207.783907\"/>\r\n    </g>\r\n    <g clip-path=\"url(#pf56550eba9)\">\r\n     <use style=\"fill:#440154;stroke:#440154;\" x=\"61.88998\" xlink:href=\"#C0_0_930d703473\" y=\"197.010068\"/>\r\n    </g>\r\n    <g clip-path=\"url(#pf56550eba9)\">\r\n     <use style=\"fill:#440154;stroke:#440154;\" x=\"74.087813\" xlink:href=\"#C0_0_930d703473\" y=\"219.523599\"/>\r\n    </g>\r\n    <g clip-path=\"url(#pf56550eba9)\">\r\n     <use style=\"fill:#440154;stroke:#440154;\" x=\"62.586479\" xlink:href=\"#C0_0_930d703473\" y=\"211.686044\"/>\r\n    </g>\r\n    <g clip-path=\"url(#pf56550eba9)\">\r\n     <use style=\"fill:#440154;stroke:#440154;\" x=\"68.050667\" xlink:href=\"#C0_0_930d703473\" y=\"227.117371\"/>\r\n    </g>\r\n    <g clip-path=\"url(#pf56550eba9)\">\r\n     <use style=\"fill:#440154;stroke:#440154;\" x=\"59.18855\" xlink:href=\"#C0_0_930d703473\" y=\"219.204324\"/>\r\n    </g>\r\n    <g clip-path=\"url(#pf56550eba9)\">\r\n     <use style=\"fill:#440154;stroke:#440154;\" x=\"62.397032\" xlink:href=\"#C0_0_930d703473\" y=\"200.055568\"/>\r\n    </g>\r\n    <g clip-path=\"url(#pf56550eba9)\">\r\n     <use style=\"fill:#440154;stroke:#440154;\" x=\"59.452275\" xlink:href=\"#C0_0_930d703473\" y=\"215.004263\"/>\r\n    </g>\r\n    <g clip-path=\"url(#pf56550eba9)\">\r\n     <use style=\"fill:#440154;stroke:#440154;\" x=\"60.624145\" xlink:href=\"#C0_0_930d703473\" y=\"223.248574\"/>\r\n    </g>\r\n    <g clip-path=\"url(#pf56550eba9)\">\r\n     <use style=\"fill:#440154;stroke:#440154;\" x=\"74.412571\" xlink:href=\"#C0_0_930d703473\" y=\"227.439997\"/>\r\n    </g>\r\n    <g clip-path=\"url(#pf56550eba9)\">\r\n     <use style=\"fill:#440154;stroke:#440154;\" x=\"56.956173\" xlink:href=\"#C0_0_930d703473\" y=\"193.300225\"/>\r\n    </g>\r\n    <g clip-path=\"url(#pf56550eba9)\">\r\n     <use style=\"fill:#440154;stroke:#440154;\" x=\"53.16816\" xlink:href=\"#C0_0_930d703473\" y=\"193.262709\"/>\r\n    </g>\r\n    <g clip-path=\"url(#pf56550eba9)\">\r\n     <use style=\"fill:#440154;stroke:#440154;\" x=\"56.365706\" xlink:href=\"#C0_0_930d703473\" y=\"197.565687\"/>\r\n    </g>\r\n    <g clip-path=\"url(#pf56550eba9)\">\r\n     <use style=\"fill:#440154;stroke:#440154;\" x=\"62.853887\" xlink:href=\"#C0_0_930d703473\" y=\"207.623714\"/>\r\n    </g>\r\n    <g clip-path=\"url(#pf56550eba9)\">\r\n     <use style=\"fill:#440154;stroke:#440154;\" x=\"63.697713\" xlink:href=\"#C0_0_930d703473\" y=\"195.161253\"/>\r\n    </g>\r\n    <g clip-path=\"url(#pf56550eba9)\">\r\n     <use style=\"fill:#440154;stroke:#440154;\" x=\"55.479364\" xlink:href=\"#C0_0_930d703473\" y=\"202.62045\"/>\r\n    </g>\r\n    <g clip-path=\"url(#pf56550eba9)\">\r\n     <use style=\"fill:#440154;stroke:#440154;\" x=\"72.36318\" xlink:href=\"#C0_0_930d703473\" y=\"202.949393\"/>\r\n    </g>\r\n    <g clip-path=\"url(#pf56550eba9)\">\r\n     <use style=\"fill:#440154;stroke:#440154;\" x=\"58.73838\" xlink:href=\"#C0_0_930d703473\" y=\"203.886663\"/>\r\n    </g>\r\n    <g clip-path=\"url(#pf56550eba9)\">\r\n     <use style=\"fill:#440154;stroke:#440154;\" x=\"82.270034\" xlink:href=\"#C0_0_930d703473\" y=\"219.097388\"/>\r\n    </g>\r\n    <g clip-path=\"url(#pf56550eba9)\">\r\n     <use style=\"fill:#440154;stroke:#440154;\" x=\"75.351175\" xlink:href=\"#C0_0_930d703473\" y=\"209.515979\"/>\r\n    </g>\r\n    <g clip-path=\"url(#pf56550eba9)\">\r\n     <use style=\"fill:#440154;stroke:#440154;\" x=\"50.522869\" xlink:href=\"#C0_0_930d703473\" y=\"215.188805\"/>\r\n    </g>\r\n    <g clip-path=\"url(#pf56550eba9)\">\r\n     <use style=\"fill:#440154;stroke:#440154;\" x=\"54.282863\" xlink:href=\"#C0_0_930d703473\" y=\"220.060038\"/>\r\n    </g>\r\n    <g clip-path=\"url(#pf56550eba9)\">\r\n     <use style=\"fill:#440154;stroke:#440154;\" x=\"70.16576\" xlink:href=\"#C0_0_930d703473\" y=\"210.553582\"/>\r\n    </g>\r\n    <g clip-path=\"url(#pf56550eba9)\">\r\n     <use style=\"fill:#440154;stroke:#440154;\" x=\"64.365694\" xlink:href=\"#C0_0_930d703473\" y=\"205.649225\"/>\r\n    </g>\r\n    <g clip-path=\"url(#pf56550eba9)\">\r\n     <use style=\"fill:#440154;stroke:#440154;\" x=\"65.758478\" xlink:href=\"#C0_0_930d703473\" y=\"207.500123\"/>\r\n    </g>\r\n    <g clip-path=\"url(#pf56550eba9)\">\r\n     <use style=\"fill:#440154;stroke:#440154;\" x=\"64.795232\" xlink:href=\"#C0_0_930d703473\" y=\"219.65903\"/>\r\n    </g>\r\n    <g clip-path=\"url(#pf56550eba9)\">\r\n     <use style=\"fill:#440154;stroke:#440154;\" x=\"60.098007\" xlink:href=\"#C0_0_930d703473\" y=\"220.003774\"/>\r\n    </g>\r\n    <g clip-path=\"url(#pf56550eba9)\">\r\n     <use style=\"fill:#440154;stroke:#440154;\" x=\"71.476512\" xlink:href=\"#C0_0_930d703473\" y=\"203.681055\"/>\r\n    </g>\r\n    <g clip-path=\"url(#pf56550eba9)\">\r\n     <use style=\"fill:#440154;stroke:#440154;\" x=\"50.885891\" xlink:href=\"#C0_0_930d703473\" y=\"198.282668\"/>\r\n    </g>\r\n    <g clip-path=\"url(#pf56550eba9)\">\r\n     <use style=\"fill:#440154;stroke:#440154;\" x=\"52.980759\" xlink:href=\"#C0_0_930d703473\" y=\"195.141994\"/>\r\n    </g>\r\n    <g clip-path=\"url(#pf56550eba9)\">\r\n     <use style=\"fill:#440154;stroke:#440154;\" x=\"60.832871\" xlink:href=\"#C0_0_930d703473\" y=\"218.813486\"/>\r\n    </g>\r\n    <g clip-path=\"url(#pf56550eba9)\">\r\n     <use style=\"fill:#440154;stroke:#440154;\" x=\"68.136666\" xlink:href=\"#C0_0_930d703473\" y=\"215.995281\"/>\r\n    </g>\r\n    <g clip-path=\"url(#pf56550eba9)\">\r\n     <use style=\"fill:#440154;stroke:#440154;\" x=\"68.404868\" xlink:href=\"#C0_0_930d703473\" y=\"201.139794\"/>\r\n    </g>\r\n    <g clip-path=\"url(#pf56550eba9)\">\r\n     <use style=\"fill:#440154;stroke:#440154;\" x=\"54.469919\" xlink:href=\"#C0_0_930d703473\" y=\"209.611016\"/>\r\n    </g>\r\n    <g clip-path=\"url(#pf56550eba9)\">\r\n     <use style=\"fill:#440154;stroke:#440154;\" x=\"71.092349\" xlink:href=\"#C0_0_930d703473\" y=\"226.345257\"/>\r\n    </g>\r\n    <g clip-path=\"url(#pf56550eba9)\">\r\n     <use style=\"fill:#440154;stroke:#440154;\" x=\"64.496021\" xlink:href=\"#C0_0_930d703473\" y=\"209.773871\"/>\r\n    </g>\r\n    <g clip-path=\"url(#pf56550eba9)\">\r\n     <use style=\"fill:#440154;stroke:#440154;\" x=\"59.997795\" xlink:href=\"#C0_0_930d703473\" y=\"209.765844\"/>\r\n    </g>\r\n    <g clip-path=\"url(#pf56550eba9)\">\r\n     <use style=\"fill:#440154;stroke:#440154;\" x=\"62.396646\" xlink:href=\"#C0_0_930d703473\" y=\"229.874489\"/>\r\n    </g>\r\n    <g clip-path=\"url(#pf56550eba9)\">\r\n     <use style=\"fill:#440154;stroke:#440154;\" x=\"74.902917\" xlink:href=\"#C0_0_930d703473\" y=\"224.434617\"/>\r\n    </g>\r\n    <g clip-path=\"url(#pf56550eba9)\">\r\n     <use style=\"fill:#440154;stroke:#440154;\" x=\"75.438029\" xlink:href=\"#C0_0_930d703473\" y=\"208.237749\"/>\r\n    </g>\r\n    <g clip-path=\"url(#pf56550eba9)\">\r\n     <use style=\"fill:#440154;stroke:#440154;\" x=\"70.264751\" xlink:href=\"#C0_0_930d703473\" y=\"198.086306\"/>\r\n    </g>\r\n    <g clip-path=\"url(#pf56550eba9)\">\r\n     <use style=\"fill:#440154;stroke:#440154;\" x=\"61.360708\" xlink:href=\"#C0_0_930d703473\" y=\"223.096035\"/>\r\n    </g>\r\n    <g clip-path=\"url(#pf56550eba9)\">\r\n     <use style=\"fill:#440154;stroke:#440154;\" x=\"54.820895\" xlink:href=\"#C0_0_930d703473\" y=\"202.390768\"/>\r\n    </g>\r\n    <g clip-path=\"url(#pf56550eba9)\">\r\n     <use style=\"fill:#440154;stroke:#440154;\" x=\"70.276461\" xlink:href=\"#C0_0_930d703473\" y=\"222.098022\"/>\r\n    </g>\r\n    <g clip-path=\"url(#pf56550eba9)\">\r\n     <use style=\"fill:#440154;stroke:#440154;\" x=\"61.066431\" xlink:href=\"#C0_0_930d703473\" y=\"201.42123\"/>\r\n    </g>\r\n    <g clip-path=\"url(#pf56550eba9)\">\r\n     <use style=\"fill:#440154;stroke:#440154;\" x=\"64.05875\" xlink:href=\"#C0_0_930d703473\" y=\"213.649498\"/>\r\n    </g>\r\n    <g clip-path=\"url(#pf56550eba9)\">\r\n     <use style=\"fill:#21918c;stroke:#21918c;\" x=\"267.875925\" xlink:href=\"#C0_0_930d703473\" y=\"35.736805\"/>\r\n    </g>\r\n    <g clip-path=\"url(#pf56550eba9)\">\r\n     <use style=\"fill:#21918c;stroke:#21918c;\" x=\"256.969766\" xlink:href=\"#C0_0_930d703473\" y=\"42.524657\"/>\r\n    </g>\r\n    <g clip-path=\"url(#pf56550eba9)\">\r\n     <use style=\"fill:#21918c;stroke:#21918c;\" x=\"272.981107\" xlink:href=\"#C0_0_930d703473\" y=\"36.758431\"/>\r\n    </g>\r\n    <g clip-path=\"url(#pf56550eba9)\">\r\n     <use style=\"fill:#21918c;stroke:#21918c;\" x=\"207.845468\" xlink:href=\"#C0_0_930d703473\" y=\"54.082483\"/>\r\n    </g>\r\n    <g clip-path=\"url(#pf56550eba9)\">\r\n     <use style=\"fill:#21918c;stroke:#21918c;\" x=\"262.381215\" xlink:href=\"#C0_0_930d703473\" y=\"41.81929\"/>\r\n    </g>\r\n    <g clip-path=\"url(#pf56550eba9)\">\r\n     <use style=\"fill:#21918c;stroke:#21918c;\" x=\"232.024744\" xlink:href=\"#C0_0_930d703473\" y=\"52.223481\"/>\r\n    </g>\r\n    <g clip-path=\"url(#pf56550eba9)\">\r\n     <use style=\"fill:#21918c;stroke:#21918c;\" x=\"262.126471\" xlink:href=\"#C0_0_930d703473\" y=\"45.496776\"/>\r\n    </g>\r\n    <g clip-path=\"url(#pf56550eba9)\">\r\n     <use style=\"fill:#21918c;stroke:#21918c;\" x=\"191.161461\" xlink:href=\"#C0_0_930d703473\" y=\"51.479125\"/>\r\n    </g>\r\n    <g clip-path=\"url(#pf56550eba9)\">\r\n     <use style=\"fill:#21918c;stroke:#21918c;\" x=\"260.553779\" xlink:href=\"#C0_0_930d703473\" y=\"39.534237\"/>\r\n    </g>\r\n    <g clip-path=\"url(#pf56550eba9)\">\r\n     <use style=\"fill:#21918c;stroke:#21918c;\" x=\"211.23788\" xlink:href=\"#C0_0_930d703473\" y=\"55.559768\"/>\r\n    </g>\r\n    <g clip-path=\"url(#pf56550eba9)\">\r\n     <use style=\"fill:#21918c;stroke:#21918c;\" x=\"192.432265\" xlink:href=\"#C0_0_930d703473\" y=\"53.073267\"/>\r\n    </g>\r\n    <g clip-path=\"url(#pf56550eba9)\">\r\n     <use style=\"fill:#21918c;stroke:#21918c;\" x=\"232.889139\" xlink:href=\"#C0_0_930d703473\" y=\"48.280473\"/>\r\n    </g>\r\n    <g clip-path=\"url(#pf56550eba9)\">\r\n     <use style=\"fill:#21918c;stroke:#21918c;\" x=\"205.542406\" xlink:href=\"#C0_0_930d703473\" y=\"56.402946\"/>\r\n    </g>\r\n    <g clip-path=\"url(#pf56550eba9)\">\r\n     <use style=\"fill:#21918c;stroke:#21918c;\" x=\"253.78798\" xlink:href=\"#C0_0_930d703473\" y=\"47.737043\"/>\r\n    </g>\r\n    <g clip-path=\"url(#pf56550eba9)\">\r\n     <use style=\"fill:#21918c;stroke:#21918c;\" x=\"206.860745\" xlink:href=\"#C0_0_930d703473\" y=\"47.444258\"/>\r\n    </g>\r\n    <g clip-path=\"url(#pf56550eba9)\">\r\n     <use style=\"fill:#21918c;stroke:#21918c;\" x=\"258.501259\" xlink:href=\"#C0_0_930d703473\" y=\"38.083428\"/>\r\n    </g>\r\n    <g clip-path=\"url(#pf56550eba9)\">\r\n     <use style=\"fill:#21918c;stroke:#21918c;\" x=\"234.424712\" xlink:href=\"#C0_0_930d703473\" y=\"53.292355\"/>\r\n    </g>\r\n    <g clip-path=\"url(#pf56550eba9)\">\r\n     <use style=\"fill:#21918c;stroke:#21918c;\" x=\"216.047151\" xlink:href=\"#C0_0_930d703473\" y=\"48.616108\"/>\r\n    </g>\r\n    <g clip-path=\"url(#pf56550eba9)\">\r\n     <use style=\"fill:#21918c;stroke:#21918c;\" x=\"252.328085\" xlink:href=\"#C0_0_930d703473\" y=\"57.340837\"/>\r\n    </g>\r\n    <g clip-path=\"url(#pf56550eba9)\">\r\n     <use style=\"fill:#21918c;stroke:#21918c;\" x=\"208.200462\" xlink:href=\"#C0_0_930d703473\" y=\"51.474374\"/>\r\n    </g>\r\n    <g clip-path=\"url(#pf56550eba9)\">\r\n     <use style=\"fill:#21918c;stroke:#21918c;\" x=\"267.479011\" xlink:href=\"#C0_0_930d703473\" y=\"52.261797\"/>\r\n    </g>\r\n    <g clip-path=\"url(#pf56550eba9)\">\r\n     <use style=\"fill:#21918c;stroke:#21918c;\" x=\"225.072653\" xlink:href=\"#C0_0_930d703473\" y=\"45.629579\"/>\r\n    </g>\r\n    <g clip-path=\"url(#pf56550eba9)\">\r\n     <use style=\"fill:#21918c;stroke:#21918c;\" x=\"275.663046\" xlink:href=\"#C0_0_930d703473\" y=\"47.018769\"/>\r\n    </g>\r\n    <g clip-path=\"url(#pf56550eba9)\">\r\n     <use style=\"fill:#21918c;stroke:#21918c;\" x=\"249.646193\" xlink:href=\"#C0_0_930d703473\" y=\"47.66041\"/>\r\n    </g>\r\n    <g clip-path=\"url(#pf56550eba9)\">\r\n     <use style=\"fill:#21918c;stroke:#21918c;\" x=\"248.34026\" xlink:href=\"#C0_0_930d703473\" y=\"41.777245\"/>\r\n    </g>\r\n    <g clip-path=\"url(#pf56550eba9)\">\r\n     <use style=\"fill:#21918c;stroke:#21918c;\" x=\"256.410876\" xlink:href=\"#C0_0_930d703473\" y=\"39.419902\"/>\r\n    </g>\r\n    <g clip-path=\"url(#pf56550eba9)\">\r\n     <use style=\"fill:#21918c;stroke:#21918c;\" x=\"269.50544\" xlink:href=\"#C0_0_930d703473\" y=\"38.220834\"/>\r\n    </g>\r\n    <g clip-path=\"url(#pf56550eba9)\">\r\n     <use style=\"fill:#21918c;stroke:#21918c;\" x=\"281.310353\" xlink:href=\"#C0_0_930d703473\" y=\"39.398388\"/>\r\n    </g>\r\n    <g clip-path=\"url(#pf56550eba9)\">\r\n     <use style=\"fill:#21918c;stroke:#21918c;\" x=\"245.772109\" xlink:href=\"#C0_0_930d703473\" y=\"48.654557\"/>\r\n    </g>\r\n    <g clip-path=\"url(#pf56550eba9)\">\r\n     <use style=\"fill:#21918c;stroke:#21918c;\" x=\"201.818127\" xlink:href=\"#C0_0_930d703473\" y=\"48.939643\"/>\r\n    </g>\r\n    <g clip-path=\"url(#pf56550eba9)\">\r\n     <use style=\"fill:#21918c;stroke:#21918c;\" x=\"203.944462\" xlink:href=\"#C0_0_930d703473\" y=\"52.150675\"/>\r\n    </g>\r\n    <g clip-path=\"url(#pf56550eba9)\">\r\n     <use style=\"fill:#21918c;stroke:#21918c;\" x=\"201.487468\" xlink:href=\"#C0_0_930d703473\" y=\"51.677182\"/>\r\n    </g>\r\n    <g clip-path=\"url(#pf56550eba9)\">\r\n     <use style=\"fill:#21918c;stroke:#21918c;\" x=\"213.435013\" xlink:href=\"#C0_0_930d703473\" y=\"48.785311\"/>\r\n    </g>\r\n    <g clip-path=\"url(#pf56550eba9)\">\r\n     <use style=\"fill:#21918c;stroke:#21918c;\" x=\"281.964411\" xlink:href=\"#C0_0_930d703473\" y=\"51.586159\"/>\r\n    </g>\r\n    <g clip-path=\"url(#pf56550eba9)\">\r\n     <use style=\"fill:#21918c;stroke:#21918c;\" x=\"231.002868\" xlink:href=\"#C0_0_930d703473\" y=\"55.393991\"/>\r\n    </g>\r\n    <g clip-path=\"url(#pf56550eba9)\">\r\n     <use style=\"fill:#21918c;stroke:#21918c;\" x=\"256.775139\" xlink:href=\"#C0_0_930d703473\" y=\"49.517749\"/>\r\n    </g>\r\n    <g clip-path=\"url(#pf56550eba9)\">\r\n     <use style=\"fill:#21918c;stroke:#21918c;\" x=\"266.475444\" xlink:href=\"#C0_0_930d703473\" y=\"38.441909\"/>\r\n    </g>\r\n    <g clip-path=\"url(#pf56550eba9)\">\r\n     <use style=\"fill:#21918c;stroke:#21918c;\" x=\"249.682921\" xlink:href=\"#C0_0_930d703473\" y=\"56.672342\"/>\r\n    </g>\r\n    <g clip-path=\"url(#pf56550eba9)\">\r\n     <use style=\"fill:#21918c;stroke:#21918c;\" x=\"223.033935\" xlink:href=\"#C0_0_930d703473\" y=\"50.805825\"/>\r\n    </g>\r\n    <g clip-path=\"url(#pf56550eba9)\">\r\n     <use style=\"fill:#21918c;stroke:#21918c;\" x=\"211.376016\" xlink:href=\"#C0_0_930d703473\" y=\"53.215216\"/>\r\n    </g>\r\n    <g clip-path=\"url(#pf56550eba9)\">\r\n     <use style=\"fill:#21918c;stroke:#21918c;\" x=\"221.267301\" xlink:href=\"#C0_0_930d703473\" y=\"54.93632\"/>\r\n    </g>\r\n    <g clip-path=\"url(#pf56550eba9)\">\r\n     <use style=\"fill:#21918c;stroke:#21918c;\" x=\"251.162609\" xlink:href=\"#C0_0_930d703473\" y=\"47.096453\"/>\r\n    </g>\r\n    <g clip-path=\"url(#pf56550eba9)\">\r\n     <use style=\"fill:#21918c;stroke:#21918c;\" x=\"214.015597\" xlink:href=\"#C0_0_930d703473\" y=\"50.032674\"/>\r\n    </g>\r\n    <g clip-path=\"url(#pf56550eba9)\">\r\n     <use style=\"fill:#21918c;stroke:#21918c;\" x=\"191.742001\" xlink:href=\"#C0_0_930d703473\" y=\"51.583639\"/>\r\n    </g>\r\n    <g clip-path=\"url(#pf56550eba9)\">\r\n     <use style=\"fill:#21918c;stroke:#21918c;\" x=\"219.879029\" xlink:href=\"#C0_0_930d703473\" y=\"52.810374\"/>\r\n    </g>\r\n    <g clip-path=\"url(#pf56550eba9)\">\r\n     <use style=\"fill:#21918c;stroke:#21918c;\" x=\"225.467869\" xlink:href=\"#C0_0_930d703473\" y=\"49.891067\"/>\r\n    </g>\r\n    <g clip-path=\"url(#pf56550eba9)\">\r\n     <use style=\"fill:#21918c;stroke:#21918c;\" x=\"225.174775\" xlink:href=\"#C0_0_930d703473\" y=\"50.610765\"/>\r\n    </g>\r\n    <g clip-path=\"url(#pf56550eba9)\">\r\n     <use style=\"fill:#21918c;stroke:#21918c;\" x=\"242.015784\" xlink:href=\"#C0_0_930d703473\" y=\"44.843418\"/>\r\n    </g>\r\n    <g clip-path=\"url(#pf56550eba9)\">\r\n     <use style=\"fill:#21918c;stroke:#21918c;\" x=\"190.258322\" xlink:href=\"#C0_0_930d703473\" y=\"50.698299\"/>\r\n    </g>\r\n    <g clip-path=\"url(#pf56550eba9)\">\r\n     <use style=\"fill:#21918c;stroke:#21918c;\" x=\"220.286637\" xlink:href=\"#C0_0_930d703473\" y=\"50.296727\"/>\r\n    </g>\r\n    <g clip-path=\"url(#pf56550eba9)\">\r\n     <use style=\"fill:#fde725;stroke:#fde725;\" x=\"337.553496\" xlink:href=\"#C0_0_930d703473\" y=\"48.137795\"/>\r\n    </g>\r\n    <g clip-path=\"url(#pf56550eba9)\">\r\n     <use style=\"fill:#fde725;stroke:#fde725;\" x=\"283.385631\" xlink:href=\"#C0_0_930d703473\" y=\"55.835868\"/>\r\n    </g>\r\n    <g clip-path=\"url(#pf56550eba9)\">\r\n     <use style=\"fill:#fde725;stroke:#fde725;\" x=\"336.840404\" xlink:href=\"#C0_0_930d703473\" y=\"38.209579\"/>\r\n    </g>\r\n    <g clip-path=\"url(#pf56550eba9)\">\r\n     <use style=\"fill:#fde725;stroke:#fde725;\" x=\"308.609927\" xlink:href=\"#C0_0_930d703473\" y=\"42.47\"/>\r\n    </g>\r\n    <g clip-path=\"url(#pf56550eba9)\">\r\n     <use style=\"fill:#fde725;stroke:#fde725;\" x=\"325.76172\" xlink:href=\"#C0_0_930d703473\" y=\"41.879292\"/>\r\n    </g>\r\n    <g clip-path=\"url(#pf56550eba9)\">\r\n     <use style=\"fill:#fde725;stroke:#fde725;\" x=\"349.59807\" xlink:href=\"#C0_0_930d703473\" y=\"34.05092\"/>\r\n    </g>\r\n    <g clip-path=\"url(#pf56550eba9)\">\r\n     <use style=\"fill:#fde725;stroke:#fde725;\" x=\"222.278473\" xlink:href=\"#C0_0_930d703473\" y=\"60.353231\"/>\r\n    </g>\r\n    <g clip-path=\"url(#pf56550eba9)\">\r\n     <use style=\"fill:#fde725;stroke:#fde725;\" x=\"342.376266\" xlink:href=\"#C0_0_930d703473\" y=\"34.082319\"/>\r\n    </g>\r\n    <g clip-path=\"url(#pf56550eba9)\">\r\n     <use style=\"fill:#fde725;stroke:#fde725;\" x=\"318.776305\" xlink:href=\"#C0_0_930d703473\" y=\"37.088613\"/>\r\n    </g>\r\n    <g clip-path=\"url(#pf56550eba9)\">\r\n     <use style=\"fill:#fde725;stroke:#fde725;\" x=\"347.098967\" xlink:href=\"#C0_0_930d703473\" y=\"40.818884\"/>\r\n    </g>\r\n    <g clip-path=\"url(#pf56550eba9)\">\r\n     <use style=\"fill:#fde725;stroke:#fde725;\" x=\"311.591411\" xlink:href=\"#C0_0_930d703473\" y=\"48.514046\"/>\r\n    </g>\r\n    <g clip-path=\"url(#pf56550eba9)\">\r\n     <use style=\"fill:#fde725;stroke:#fde725;\" x=\"302.311706\" xlink:href=\"#C0_0_930d703473\" y=\"45.486267\"/>\r\n    </g>\r\n    <g clip-path=\"url(#pf56550eba9)\">\r\n     <use style=\"fill:#fde725;stroke:#fde725;\" x=\"324.678302\" xlink:href=\"#C0_0_930d703473\" y=\"42.90278\"/>\r\n    </g>\r\n    <g clip-path=\"url(#pf56550eba9)\">\r\n     <use style=\"fill:#fde725;stroke:#fde725;\" x=\"282.944062\" xlink:href=\"#C0_0_930d703473\" y=\"57.989292\"/>\r\n    </g>\r\n    <g clip-path=\"url(#pf56550eba9)\">\r\n     <use style=\"fill:#fde725;stroke:#fde725;\" x=\"290.663879\" xlink:href=\"#C0_0_930d703473\" y=\"58.002105\"/>\r\n    </g>\r\n    <g clip-path=\"url(#pf56550eba9)\">\r\n     <use style=\"fill:#fde725;stroke:#fde725;\" x=\"321.637087\" xlink:href=\"#C0_0_930d703473\" y=\"49.096264\"/>\r\n    </g>\r\n    <g clip-path=\"url(#pf56550eba9)\">\r\n     <use style=\"fill:#fde725;stroke:#fde725;\" x=\"311.356986\" xlink:href=\"#C0_0_930d703473\" y=\"42.981353\"/>\r\n    </g>\r\n    <g clip-path=\"url(#pf56550eba9)\">\r\n     <use style=\"fill:#fde725;stroke:#fde725;\" x=\"354.886506\" xlink:href=\"#C0_0_930d703473\" y=\"37.04077\"/>\r\n    </g>\r\n    <g clip-path=\"url(#pf56550eba9)\">\r\n     <use style=\"fill:#fde725;stroke:#fde725;\" x=\"351.104465\" xlink:href=\"#C0_0_930d703473\" y=\"32.201761\"/>\r\n    </g>\r\n    <g clip-path=\"url(#pf56550eba9)\">\r\n     <use style=\"fill:#fde725;stroke:#fde725;\" x=\"267.868287\" xlink:href=\"#C0_0_930d703473\" y=\"57.996254\"/>\r\n    </g>\r\n    <g clip-path=\"url(#pf56550eba9)\">\r\n     <use style=\"fill:#fde725;stroke:#fde725;\" x=\"334.648763\" xlink:href=\"#C0_0_930d703473\" y=\"42.442183\"/>\r\n    </g>\r\n    <g clip-path=\"url(#pf56550eba9)\">\r\n     <use style=\"fill:#fde725;stroke:#fde725;\" x=\"280.868799\" xlink:href=\"#C0_0_930d703473\" y=\"58.079391\"/>\r\n    </g>\r\n    <g clip-path=\"url(#pf56550eba9)\">\r\n     <use style=\"fill:#fde725;stroke:#fde725;\" x=\"349.682961\" xlink:href=\"#C0_0_930d703473\" y=\"32.938119\"/>\r\n    </g>\r\n    <g clip-path=\"url(#pf56550eba9)\">\r\n     <use style=\"fill:#fde725;stroke:#fde725;\" x=\"280.911107\" xlink:href=\"#C0_0_930d703473\" y=\"48.427155\"/>\r\n    </g>\r\n    <g clip-path=\"url(#pf56550eba9)\">\r\n     <use style=\"fill:#fde725;stroke:#fde725;\" x=\"331.377111\" xlink:href=\"#C0_0_930d703473\" y=\"43.140902\"/>\r\n    </g>\r\n    <g clip-path=\"url(#pf56550eba9)\">\r\n     <use style=\"fill:#fde725;stroke:#fde725;\" x=\"338.748766\" xlink:href=\"#C0_0_930d703473\" y=\"36.129824\"/>\r\n    </g>\r\n    <g clip-path=\"url(#pf56550eba9)\">\r\n     <use style=\"fill:#fde725;stroke:#fde725;\" x=\"275.697978\" xlink:href=\"#C0_0_930d703473\" y=\"49.537263\"/>\r\n    </g>\r\n    <g clip-path=\"url(#pf56550eba9)\">\r\n     <use style=\"fill:#fde725;stroke:#fde725;\" x=\"274.451936\" xlink:href=\"#C0_0_930d703473\" y=\"51.24872\"/>\r\n    </g>\r\n    <g clip-path=\"url(#pf56550eba9)\">\r\n     <use style=\"fill:#fde725;stroke:#fde725;\" x=\"316.198008\" xlink:href=\"#C0_0_930d703473\" y=\"42.093562\"/>\r\n    </g>\r\n    <g clip-path=\"url(#pf56550eba9)\">\r\n     <use style=\"fill:#fde725;stroke:#fde725;\" x=\"334.69016\" xlink:href=\"#C0_0_930d703473\" y=\"34.843925\"/>\r\n    </g>\r\n    <g clip-path=\"url(#pf56550eba9)\">\r\n     <use style=\"fill:#fde725;stroke:#fde725;\" x=\"341.456218\" xlink:href=\"#C0_0_930d703473\" y=\"34.334296\"/>\r\n    </g>\r\n    <g clip-path=\"url(#pf56550eba9)\">\r\n     <use style=\"fill:#fde725;stroke:#fde725;\" x=\"354.705565\" xlink:href=\"#C0_0_930d703473\" y=\"37.077863\"/>\r\n    </g>\r\n    <g clip-path=\"url(#pf56550eba9)\">\r\n     <use style=\"fill:#fde725;stroke:#fde725;\" x=\"318.015894\" xlink:href=\"#C0_0_930d703473\" y=\"42.326919\"/>\r\n    </g>\r\n    <g clip-path=\"url(#pf56550eba9)\">\r\n     <use style=\"fill:#fde725;stroke:#fde725;\" x=\"281.901756\" xlink:href=\"#C0_0_930d703473\" y=\"46.259129\"/>\r\n    </g>\r\n    <g clip-path=\"url(#pf56550eba9)\">\r\n     <use style=\"fill:#fde725;stroke:#fde725;\" x=\"294.673839\" xlink:href=\"#C0_0_930d703473\" y=\"44.979105\"/>\r\n    </g>\r\n    <g clip-path=\"url(#pf56550eba9)\">\r\n     <use style=\"fill:#fde725;stroke:#fde725;\" x=\"347.527437\" xlink:href=\"#C0_0_930d703473\" y=\"35.789173\"/>\r\n    </g>\r\n    <g clip-path=\"url(#pf56550eba9)\">\r\n     <use style=\"fill:#fde725;stroke:#fde725;\" x=\"331.129349\" xlink:href=\"#C0_0_930d703473\" y=\"49.521586\"/>\r\n    </g>\r\n    <g clip-path=\"url(#pf56550eba9)\">\r\n     <use style=\"fill:#fde725;stroke:#fde725;\" x=\"310.714638\" xlink:href=\"#C0_0_930d703473\" y=\"43.565404\"/>\r\n    </g>\r\n    <g clip-path=\"url(#pf56550eba9)\">\r\n     <use style=\"fill:#fde725;stroke:#fde725;\" x=\"271.122187\" xlink:href=\"#C0_0_930d703473\" y=\"51.886932\"/>\r\n    </g>\r\n    <g clip-path=\"url(#pf56550eba9)\">\r\n     <use style=\"fill:#fde725;stroke:#fde725;\" x=\"325.62884\" xlink:href=\"#C0_0_930d703473\" y=\"43.977436\"/>\r\n    </g>\r\n    <g clip-path=\"url(#pf56550eba9)\">\r\n     <use style=\"fill:#fde725;stroke:#fde725;\" x=\"330.414222\" xlink:href=\"#C0_0_930d703473\" y=\"45.122127\"/>\r\n    </g>\r\n    <g clip-path=\"url(#pf56550eba9)\">\r\n     <use style=\"fill:#fde725;stroke:#fde725;\" x=\"322.015207\" xlink:href=\"#C0_0_930d703473\" y=\"47.505459\"/>\r\n    </g>\r\n    <g clip-path=\"url(#pf56550eba9)\">\r\n     <use style=\"fill:#fde725;stroke:#fde725;\" x=\"283.389619\" xlink:href=\"#C0_0_930d703473\" y=\"55.837074\"/>\r\n    </g>\r\n    <g clip-path=\"url(#pf56550eba9)\">\r\n     <use style=\"fill:#fde725;stroke:#fde725;\" x=\"336.774854\" xlink:href=\"#C0_0_930d703473\" y=\"42.366434\"/>\r\n    </g>\r\n    <g clip-path=\"url(#pf56550eba9)\">\r\n     <use style=\"fill:#fde725;stroke:#fde725;\" x=\"335.644402\" xlink:href=\"#C0_0_930d703473\" y=\"45.638565\"/>\r\n    </g>\r\n    <g clip-path=\"url(#pf56550eba9)\">\r\n     <use style=\"fill:#fde725;stroke:#fde725;\" x=\"320.607864\" xlink:href=\"#C0_0_930d703473\" y=\"47.139432\"/>\r\n    </g>\r\n    <g clip-path=\"url(#pf56550eba9)\">\r\n     <use style=\"fill:#fde725;stroke:#fde725;\" x=\"286.696716\" xlink:href=\"#C0_0_930d703473\" y=\"49.251431\"/>\r\n    </g>\r\n    <g clip-path=\"url(#pf56550eba9)\">\r\n     <use style=\"fill:#fde725;stroke:#fde725;\" x=\"310.675123\" xlink:href=\"#C0_0_930d703473\" y=\"46.950769\"/>\r\n    </g>\r\n    <g clip-path=\"url(#pf56550eba9)\">\r\n     <use style=\"fill:#fde725;stroke:#fde725;\" x=\"326.203223\" xlink:href=\"#C0_0_930d703473\" y=\"51.100058\"/>\r\n    </g>\r\n    <g clip-path=\"url(#pf56550eba9)\">\r\n     <use style=\"fill:#fde725;stroke:#fde725;\" x=\"279.672482\" xlink:href=\"#C0_0_930d703473\" y=\"53.830304\"/>\r\n    </g>\r\n   </g>\r\n   <g id=\"matplotlib.axis_1\">\r\n    <g id=\"xtick_1\">\r\n     <g id=\"line2d_1\">\r\n      <defs>\r\n       <path d=\"M 0 0 \r\nL 0 3.5 \r\n\" id=\"mdcfee5d48a\" style=\"stroke:#000000;stroke-width:0.8;\"/>\r\n      </defs>\r\n      <g>\r\n       <use style=\"stroke:#000000;stroke-width:0.8;\" x=\"71.21356\" xlink:href=\"#mdcfee5d48a\" y=\"239.758125\"/>\r\n      </g>\r\n     </g>\r\n     <g id=\"text_1\">\r\n      <!-- −15 -->\r\n      <g transform=\"translate(60.661216 254.356563)scale(0.1 -0.1)\">\r\n       <defs>\r\n        <path d=\"M 10.59375 35.5 \r\nL 73.1875 35.5 \r\nL 73.1875 27.203125 \r\nL 10.59375 27.203125 \r\nz\r\n\" id=\"DejaVuSans-8722\"/>\r\n        <path d=\"M 12.40625 8.296875 \r\nL 28.515625 8.296875 \r\nL 28.515625 63.921875 \r\nL 10.984375 60.40625 \r\nL 10.984375 69.390625 \r\nL 28.421875 72.90625 \r\nL 38.28125 72.90625 \r\nL 38.28125 8.296875 \r\nL 54.390625 8.296875 \r\nL 54.390625 0 \r\nL 12.40625 0 \r\nz\r\n\" id=\"DejaVuSans-49\"/>\r\n        <path d=\"M 10.796875 72.90625 \r\nL 49.515625 72.90625 \r\nL 49.515625 64.59375 \r\nL 19.828125 64.59375 \r\nL 19.828125 46.734375 \r\nQ 21.96875 47.46875 24.109375 47.828125 \r\nQ 26.265625 48.1875 28.421875 48.1875 \r\nQ 40.625 48.1875 47.75 41.5 \r\nQ 54.890625 34.8125 54.890625 23.390625 \r\nQ 54.890625 11.625 47.5625 5.09375 \r\nQ 40.234375 -1.421875 26.90625 -1.421875 \r\nQ 22.3125 -1.421875 17.546875 -0.640625 \r\nQ 12.796875 0.140625 7.71875 1.703125 \r\nL 7.71875 11.625 \r\nQ 12.109375 9.234375 16.796875 8.0625 \r\nQ 21.484375 6.890625 26.703125 6.890625 \r\nQ 35.15625 6.890625 40.078125 11.328125 \r\nQ 45.015625 15.765625 45.015625 23.390625 \r\nQ 45.015625 31 40.078125 35.4375 \r\nQ 35.15625 39.890625 26.703125 39.890625 \r\nQ 22.75 39.890625 18.8125 39.015625 \r\nQ 14.890625 38.140625 10.796875 36.28125 \r\nz\r\n\" id=\"DejaVuSans-53\"/>\r\n       </defs>\r\n       <use xlink:href=\"#DejaVuSans-8722\"/>\r\n       <use x=\"83.789062\" xlink:href=\"#DejaVuSans-49\"/>\r\n       <use x=\"147.412109\" xlink:href=\"#DejaVuSans-53\"/>\r\n      </g>\r\n     </g>\r\n    </g>\r\n    <g id=\"xtick_2\">\r\n     <g id=\"line2d_2\">\r\n      <g>\r\n       <use style=\"stroke:#000000;stroke-width:0.8;\" x=\"124.553598\" xlink:href=\"#mdcfee5d48a\" y=\"239.758125\"/>\r\n      </g>\r\n     </g>\r\n     <g id=\"text_2\">\r\n      <!-- −10 -->\r\n      <g transform=\"translate(114.001254 254.356563)scale(0.1 -0.1)\">\r\n       <defs>\r\n        <path d=\"M 31.78125 66.40625 \r\nQ 24.171875 66.40625 20.328125 58.90625 \r\nQ 16.5 51.421875 16.5 36.375 \r\nQ 16.5 21.390625 20.328125 13.890625 \r\nQ 24.171875 6.390625 31.78125 6.390625 \r\nQ 39.453125 6.390625 43.28125 13.890625 \r\nQ 47.125 21.390625 47.125 36.375 \r\nQ 47.125 51.421875 43.28125 58.90625 \r\nQ 39.453125 66.40625 31.78125 66.40625 \r\nz\r\nM 31.78125 74.21875 \r\nQ 44.046875 74.21875 50.515625 64.515625 \r\nQ 56.984375 54.828125 56.984375 36.375 \r\nQ 56.984375 17.96875 50.515625 8.265625 \r\nQ 44.046875 -1.421875 31.78125 -1.421875 \r\nQ 19.53125 -1.421875 13.0625 8.265625 \r\nQ 6.59375 17.96875 6.59375 36.375 \r\nQ 6.59375 54.828125 13.0625 64.515625 \r\nQ 19.53125 74.21875 31.78125 74.21875 \r\nz\r\n\" id=\"DejaVuSans-48\"/>\r\n       </defs>\r\n       <use xlink:href=\"#DejaVuSans-8722\"/>\r\n       <use x=\"83.789062\" xlink:href=\"#DejaVuSans-49\"/>\r\n       <use x=\"147.412109\" xlink:href=\"#DejaVuSans-48\"/>\r\n      </g>\r\n     </g>\r\n    </g>\r\n    <g id=\"xtick_3\">\r\n     <g id=\"line2d_3\">\r\n      <g>\r\n       <use style=\"stroke:#000000;stroke-width:0.8;\" x=\"177.893636\" xlink:href=\"#mdcfee5d48a\" y=\"239.758125\"/>\r\n      </g>\r\n     </g>\r\n     <g id=\"text_3\">\r\n      <!-- −5 -->\r\n      <g transform=\"translate(170.522543 254.356563)scale(0.1 -0.1)\">\r\n       <use xlink:href=\"#DejaVuSans-8722\"/>\r\n       <use x=\"83.789062\" xlink:href=\"#DejaVuSans-53\"/>\r\n      </g>\r\n     </g>\r\n    </g>\r\n    <g id=\"xtick_4\">\r\n     <g id=\"line2d_4\">\r\n      <g>\r\n       <use style=\"stroke:#000000;stroke-width:0.8;\" x=\"231.233674\" xlink:href=\"#mdcfee5d48a\" y=\"239.758125\"/>\r\n      </g>\r\n     </g>\r\n     <g id=\"text_4\">\r\n      <!-- 0 -->\r\n      <g transform=\"translate(228.052424 254.356563)scale(0.1 -0.1)\">\r\n       <use xlink:href=\"#DejaVuSans-48\"/>\r\n      </g>\r\n     </g>\r\n    </g>\r\n    <g id=\"xtick_5\">\r\n     <g id=\"line2d_5\">\r\n      <g>\r\n       <use style=\"stroke:#000000;stroke-width:0.8;\" x=\"284.573712\" xlink:href=\"#mdcfee5d48a\" y=\"239.758125\"/>\r\n      </g>\r\n     </g>\r\n     <g id=\"text_5\">\r\n      <!-- 5 -->\r\n      <g transform=\"translate(281.392462 254.356563)scale(0.1 -0.1)\">\r\n       <use xlink:href=\"#DejaVuSans-53\"/>\r\n      </g>\r\n     </g>\r\n    </g>\r\n    <g id=\"xtick_6\">\r\n     <g id=\"line2d_6\">\r\n      <g>\r\n       <use style=\"stroke:#000000;stroke-width:0.8;\" x=\"337.91375\" xlink:href=\"#mdcfee5d48a\" y=\"239.758125\"/>\r\n      </g>\r\n     </g>\r\n     <g id=\"text_6\">\r\n      <!-- 10 -->\r\n      <g transform=\"translate(331.55125 254.356563)scale(0.1 -0.1)\">\r\n       <use xlink:href=\"#DejaVuSans-49\"/>\r\n       <use x=\"63.623047\" xlink:href=\"#DejaVuSans-48\"/>\r\n      </g>\r\n     </g>\r\n    </g>\r\n   </g>\r\n   <g id=\"matplotlib.axis_2\">\r\n    <g id=\"ytick_1\">\r\n     <g id=\"line2d_7\">\r\n      <defs>\r\n       <path d=\"M 0 0 \r\nL -3.5 0 \r\n\" id=\"md3bb383841\" style=\"stroke:#000000;stroke-width:0.8;\"/>\r\n      </defs>\r\n      <g>\r\n       <use style=\"stroke:#000000;stroke-width:0.8;\" x=\"35.304688\" xlink:href=\"#md3bb383841\" y=\"222.273474\"/>\r\n      </g>\r\n     </g>\r\n     <g id=\"text_7\">\r\n      <!-- −25 -->\r\n      <g transform=\"translate(7.2 226.072693)scale(0.1 -0.1)\">\r\n       <defs>\r\n        <path d=\"M 19.1875 8.296875 \r\nL 53.609375 8.296875 \r\nL 53.609375 0 \r\nL 7.328125 0 \r\nL 7.328125 8.296875 \r\nQ 12.9375 14.109375 22.625 23.890625 \r\nQ 32.328125 33.6875 34.8125 36.53125 \r\nQ 39.546875 41.84375 41.421875 45.53125 \r\nQ 43.3125 49.21875 43.3125 52.78125 \r\nQ 43.3125 58.59375 39.234375 62.25 \r\nQ 35.15625 65.921875 28.609375 65.921875 \r\nQ 23.96875 65.921875 18.8125 64.3125 \r\nQ 13.671875 62.703125 7.8125 59.421875 \r\nL 7.8125 69.390625 \r\nQ 13.765625 71.78125 18.9375 73 \r\nQ 24.125 74.21875 28.421875 74.21875 \r\nQ 39.75 74.21875 46.484375 68.546875 \r\nQ 53.21875 62.890625 53.21875 53.421875 \r\nQ 53.21875 48.921875 51.53125 44.890625 \r\nQ 49.859375 40.875 45.40625 35.40625 \r\nQ 44.1875 33.984375 37.640625 27.21875 \r\nQ 31.109375 20.453125 19.1875 8.296875 \r\nz\r\n\" id=\"DejaVuSans-50\"/>\r\n       </defs>\r\n       <use xlink:href=\"#DejaVuSans-8722\"/>\r\n       <use x=\"83.789062\" xlink:href=\"#DejaVuSans-50\"/>\r\n       <use x=\"147.412109\" xlink:href=\"#DejaVuSans-53\"/>\r\n      </g>\r\n     </g>\r\n    </g>\r\n    <g id=\"ytick_2\">\r\n     <g id=\"line2d_8\">\r\n      <g>\r\n       <use style=\"stroke:#000000;stroke-width:0.8;\" x=\"35.304688\" xlink:href=\"#md3bb383841\" y=\"196.515291\"/>\r\n      </g>\r\n     </g>\r\n     <g id=\"text_8\">\r\n      <!-- −20 -->\r\n      <g transform=\"translate(7.2 200.31451)scale(0.1 -0.1)\">\r\n       <use xlink:href=\"#DejaVuSans-8722\"/>\r\n       <use x=\"83.789062\" xlink:href=\"#DejaVuSans-50\"/>\r\n       <use x=\"147.412109\" xlink:href=\"#DejaVuSans-48\"/>\r\n      </g>\r\n     </g>\r\n    </g>\r\n    <g id=\"ytick_3\">\r\n     <g id=\"line2d_9\">\r\n      <g>\r\n       <use style=\"stroke:#000000;stroke-width:0.8;\" x=\"35.304688\" xlink:href=\"#md3bb383841\" y=\"170.757108\"/>\r\n      </g>\r\n     </g>\r\n     <g id=\"text_9\">\r\n      <!-- −15 -->\r\n      <g transform=\"translate(7.2 174.556327)scale(0.1 -0.1)\">\r\n       <use xlink:href=\"#DejaVuSans-8722\"/>\r\n       <use x=\"83.789062\" xlink:href=\"#DejaVuSans-49\"/>\r\n       <use x=\"147.412109\" xlink:href=\"#DejaVuSans-53\"/>\r\n      </g>\r\n     </g>\r\n    </g>\r\n    <g id=\"ytick_4\">\r\n     <g id=\"line2d_10\">\r\n      <g>\r\n       <use style=\"stroke:#000000;stroke-width:0.8;\" x=\"35.304688\" xlink:href=\"#md3bb383841\" y=\"144.998925\"/>\r\n      </g>\r\n     </g>\r\n     <g id=\"text_10\">\r\n      <!-- −10 -->\r\n      <g transform=\"translate(7.2 148.798144)scale(0.1 -0.1)\">\r\n       <use xlink:href=\"#DejaVuSans-8722\"/>\r\n       <use x=\"83.789062\" xlink:href=\"#DejaVuSans-49\"/>\r\n       <use x=\"147.412109\" xlink:href=\"#DejaVuSans-48\"/>\r\n      </g>\r\n     </g>\r\n    </g>\r\n    <g id=\"ytick_5\">\r\n     <g id=\"line2d_11\">\r\n      <g>\r\n       <use style=\"stroke:#000000;stroke-width:0.8;\" x=\"35.304688\" xlink:href=\"#md3bb383841\" y=\"119.240742\"/>\r\n      </g>\r\n     </g>\r\n     <g id=\"text_11\">\r\n      <!-- −5 -->\r\n      <g transform=\"translate(13.5625 123.039961)scale(0.1 -0.1)\">\r\n       <use xlink:href=\"#DejaVuSans-8722\"/>\r\n       <use x=\"83.789062\" xlink:href=\"#DejaVuSans-53\"/>\r\n      </g>\r\n     </g>\r\n    </g>\r\n    <g id=\"ytick_6\">\r\n     <g id=\"line2d_12\">\r\n      <g>\r\n       <use style=\"stroke:#000000;stroke-width:0.8;\" x=\"35.304688\" xlink:href=\"#md3bb383841\" y=\"93.482559\"/>\r\n      </g>\r\n     </g>\r\n     <g id=\"text_12\">\r\n      <!-- 0 -->\r\n      <g transform=\"translate(21.942188 97.281778)scale(0.1 -0.1)\">\r\n       <use xlink:href=\"#DejaVuSans-48\"/>\r\n      </g>\r\n     </g>\r\n    </g>\r\n    <g id=\"ytick_7\">\r\n     <g id=\"line2d_13\">\r\n      <g>\r\n       <use style=\"stroke:#000000;stroke-width:0.8;\" x=\"35.304688\" xlink:href=\"#md3bb383841\" y=\"67.724376\"/>\r\n      </g>\r\n     </g>\r\n     <g id=\"text_13\">\r\n      <!-- 5 -->\r\n      <g transform=\"translate(21.942188 71.523595)scale(0.1 -0.1)\">\r\n       <use xlink:href=\"#DejaVuSans-53\"/>\r\n      </g>\r\n     </g>\r\n    </g>\r\n    <g id=\"ytick_8\">\r\n     <g id=\"line2d_14\">\r\n      <g>\r\n       <use style=\"stroke:#000000;stroke-width:0.8;\" x=\"35.304688\" xlink:href=\"#md3bb383841\" y=\"41.966193\"/>\r\n      </g>\r\n     </g>\r\n     <g id=\"text_14\">\r\n      <!-- 10 -->\r\n      <g transform=\"translate(15.579688 45.765412)scale(0.1 -0.1)\">\r\n       <use xlink:href=\"#DejaVuSans-49\"/>\r\n       <use x=\"63.623047\" xlink:href=\"#DejaVuSans-48\"/>\r\n      </g>\r\n     </g>\r\n    </g>\r\n   </g>\r\n   <g id=\"patch_3\">\r\n    <path d=\"M 35.304688 239.758125 \r\nL 35.304688 22.318125 \r\n\" style=\"fill:none;stroke:#000000;stroke-linecap:square;stroke-linejoin:miter;stroke-width:0.8;\"/>\r\n   </g>\r\n   <g id=\"patch_4\">\r\n    <path d=\"M 370.104688 239.758125 \r\nL 370.104688 22.318125 \r\n\" style=\"fill:none;stroke:#000000;stroke-linecap:square;stroke-linejoin:miter;stroke-width:0.8;\"/>\r\n   </g>\r\n   <g id=\"patch_5\">\r\n    <path d=\"M 35.304687 239.758125 \r\nL 370.104687 239.758125 \r\n\" style=\"fill:none;stroke:#000000;stroke-linecap:square;stroke-linejoin:miter;stroke-width:0.8;\"/>\r\n   </g>\r\n   <g id=\"patch_6\">\r\n    <path d=\"M 35.304687 22.318125 \r\nL 370.104687 22.318125 \r\n\" style=\"fill:none;stroke:#000000;stroke-linecap:square;stroke-linejoin:miter;stroke-width:0.8;\"/>\r\n   </g>\r\n   <g id=\"text_15\">\r\n    <!-- T-SNE 2 -->\r\n    <g transform=\"translate(179.609375 16.318125)scale(0.12 -0.12)\">\r\n     <defs>\r\n      <path d=\"M -0.296875 72.90625 \r\nL 61.375 72.90625 \r\nL 61.375 64.59375 \r\nL 35.5 64.59375 \r\nL 35.5 0 \r\nL 25.59375 0 \r\nL 25.59375 64.59375 \r\nL -0.296875 64.59375 \r\nz\r\n\" id=\"DejaVuSans-84\"/>\r\n      <path d=\"M 4.890625 31.390625 \r\nL 31.203125 31.390625 \r\nL 31.203125 23.390625 \r\nL 4.890625 23.390625 \r\nz\r\n\" id=\"DejaVuSans-45\"/>\r\n      <path d=\"M 53.515625 70.515625 \r\nL 53.515625 60.890625 \r\nQ 47.90625 63.578125 42.921875 64.890625 \r\nQ 37.9375 66.21875 33.296875 66.21875 \r\nQ 25.25 66.21875 20.875 63.09375 \r\nQ 16.5 59.96875 16.5 54.203125 \r\nQ 16.5 49.359375 19.40625 46.890625 \r\nQ 22.3125 44.4375 30.421875 42.921875 \r\nL 36.375 41.703125 \r\nQ 47.40625 39.59375 52.65625 34.296875 \r\nQ 57.90625 29 57.90625 20.125 \r\nQ 57.90625 9.515625 50.796875 4.046875 \r\nQ 43.703125 -1.421875 29.984375 -1.421875 \r\nQ 24.8125 -1.421875 18.96875 -0.25 \r\nQ 13.140625 0.921875 6.890625 3.21875 \r\nL 6.890625 13.375 \r\nQ 12.890625 10.015625 18.65625 8.296875 \r\nQ 24.421875 6.59375 29.984375 6.59375 \r\nQ 38.421875 6.59375 43.015625 9.90625 \r\nQ 47.609375 13.234375 47.609375 19.390625 \r\nQ 47.609375 24.75 44.3125 27.78125 \r\nQ 41.015625 30.8125 33.5 32.328125 \r\nL 27.484375 33.5 \r\nQ 16.453125 35.6875 11.515625 40.375 \r\nQ 6.59375 45.0625 6.59375 53.421875 \r\nQ 6.59375 63.09375 13.40625 68.65625 \r\nQ 20.21875 74.21875 32.171875 74.21875 \r\nQ 37.3125 74.21875 42.625 73.28125 \r\nQ 47.953125 72.359375 53.515625 70.515625 \r\nz\r\n\" id=\"DejaVuSans-83\"/>\r\n      <path d=\"M 9.8125 72.90625 \r\nL 23.09375 72.90625 \r\nL 55.421875 11.921875 \r\nL 55.421875 72.90625 \r\nL 64.984375 72.90625 \r\nL 64.984375 0 \r\nL 51.703125 0 \r\nL 19.390625 60.984375 \r\nL 19.390625 0 \r\nL 9.8125 0 \r\nz\r\n\" id=\"DejaVuSans-78\"/>\r\n      <path d=\"M 9.8125 72.90625 \r\nL 55.90625 72.90625 \r\nL 55.90625 64.59375 \r\nL 19.671875 64.59375 \r\nL 19.671875 43.015625 \r\nL 54.390625 43.015625 \r\nL 54.390625 34.71875 \r\nL 19.671875 34.71875 \r\nL 19.671875 8.296875 \r\nL 56.78125 8.296875 \r\nL 56.78125 0 \r\nL 9.8125 0 \r\nz\r\n\" id=\"DejaVuSans-69\"/>\r\n      <path id=\"DejaVuSans-32\"/>\r\n     </defs>\r\n     <use xlink:href=\"#DejaVuSans-84\"/>\r\n     <use x=\"51.958984\" xlink:href=\"#DejaVuSans-45\"/>\r\n     <use x=\"88.042969\" xlink:href=\"#DejaVuSans-83\"/>\r\n     <use x=\"151.519531\" xlink:href=\"#DejaVuSans-78\"/>\r\n     <use x=\"226.324219\" xlink:href=\"#DejaVuSans-69\"/>\r\n     <use x=\"289.507812\" xlink:href=\"#DejaVuSans-32\"/>\r\n     <use x=\"321.294922\" xlink:href=\"#DejaVuSans-50\"/>\r\n    </g>\r\n   </g>\r\n  </g>\r\n </g>\r\n <defs>\r\n  <clipPath id=\"pf56550eba9\">\r\n   <rect height=\"217.44\" width=\"334.8\" x=\"35.304688\" y=\"22.318125\"/>\r\n  </clipPath>\r\n </defs>\r\n</svg>\r\n",
      "image/png": "[encoded data removed]"
     },
     "metadata": {
      "needs_background": "light"
     }
    }
   ],
   "source": [
    "plt.scatter(X_tsne2[:, 0], X_tsne2[:, 1], c=y)\n",
    "plt.title('T-SNE 2')\n",
    "plt.show()"
   ]
  },
  {
   "cell_type": "code",
   "execution_count": 16,
   "metadata": {},
   "outputs": [
    {
     "output_type": "display_data",
     "data": {
      "application/vnd.plotly.v1+json": {
       "config": {
        "plotlyServerURL": "https://plot.ly"
       },
       "data": [
        {
         "hovertemplate": "x=%{x}<br>y=%{y}<br>z=%{z}<br>color=%{marker.color}<extra></extra>",
         "legendgroup": "",
         "marker": {
          "color": [
           0,
           0,
           0,
           0,
           0,
           0,
           0,
           0,
           0,
           0,
           0,
           0,
           0,
           0,
           0,
           0,
           0,
           0,
           0,
           0,
           0,
           0,
           0,
           0,
           0,
           0,
           0,
           0,
           0,
           0,
           0,
           0,
           0,
           0,
           0,
           0,
           0,
           0,
           0,
           0,
           0,
           0,
           0,
           0,
           0,
           0,
           0,
           0,
           0,
           0,
           1,
           1,
           1,
           1,
           1,
           1,
           1,
           1,
           1,
           1,
           1,
           1,
           1,
           1,
           1,
           1,
           1,
           1,
           1,
           1,
           1,
           1,
           1,
           1,
           1,
           1,
           1,
           1,
           1,
           1,
           1,
           1,
           1,
           1,
           1,
           1,
           1,
           1,
           1,
           1,
           1,
           1,
           1,
           1,
           1,
           1,
           1,
           1,
           1,
           1,
           2,
           2,
           2,
           2,
           2,
           2,
           2,
           2,
           2,
           2,
           2,
           2,
           2,
           2,
           2,
           2,
           2,
           2,
           2,
           2,
           2,
           2,
           2,
           2,
           2,
           2,
           2,
           2,
           2,
           2,
           2,
           2,
           2,
           2,
           2,
           2,
           2,
           2,
           2,
           2,
           2,
           2,
           2,
           2,
           2,
           2,
           2,
           2,
           2,
           2
          ],
          "coloraxis": "coloraxis",
          "opacity": 0.7,
          "symbol": "circle"
         },
         "mode": "markers",
         "name": "",
         "scene": "scene",
         "showlegend": false,
         "type": "scatter3d",
         "x": [
          97.85730743408203,
          -4.313860893249512,
          124.75470733642578,
          3.407646656036377,
          3.967958450317383,
          -53.87686538696289,
          55.65861129760742,
          51.35805130004883,
          -11.949834823608398,
          -18.318042755126953,
          -147.9608154296875,
          -79.63219451904297,
          -14.980924606323242,
          -68.52540588378906,
          163.4459991455078,
          155.37899780273438,
          119.60772705078125,
          82.38859558105469,
          159.04824829101562,
          102.47126007080078,
          -46.505828857421875,
          99.30498504638672,
          16.128515243530273,
          57.14822006225586,
          -0.5504037737846375,
          72.1160888671875,
          68.75274658203125,
          67.01483154296875,
          31.318740844726562,
          -40.38526153564453,
          8.085464477539062,
          99.66175842285156,
          154.44827270507812,
          -78.26703643798828,
          18.86473846435547,
          19.25589370727539,
          138.8942413330078,
          54.50080490112305,
          -52.99062728881836,
          61.19173812866211,
          107.27005004882812,
          -73.62022399902344,
          -38.28544616699219,
          101.84092712402344,
          59.85810089111328,
          -32.957462310791016,
          127.79035186767578,
          -131.5954132080078,
          -141.3037109375,
          29.06488609313965,
          -79.5501708984375,
          102.04043579101562,
          -68.33123016357422,
          -8.910407066345215,
          -4.782851696014404,
          58.01030731201172,
          -18.09052085876465,
          85.781494140625,
          -60.96123504638672,
          -45.21559524536133,
          100.51604461669922,
          30.398582458496094,
          -28.102262496948242,
          -26.129291534423828,
          -52.12714767456055,
          -44.07276153564453,
          39.3110237121582,
          25.414600372314453,
          136.83193969726562,
          65.21625518798828,
          66.11043548583984,
          -12.61179256439209,
          -2.7071406841278076,
          -13.225606918334961,
          -11.011281967163086,
          88.59072875976562,
          -31.19527244567871,
          97.13921356201172,
          29.45040512084961,
          -60.05630111694336,
          -50.93856430053711,
          -68.85611724853516,
          32.962398529052734,
          63.42622375488281,
          33.769378662109375,
          55.22916030883789,
          -69.43196105957031,
          82.90553283691406,
          71.01103973388672,
          72.75770568847656,
          -8.048871994018555,
          74.41751861572266,
          -154.55360412597656,
          -39.459312438964844,
          -5.326851844787598,
          19.224632263183594,
          35.139793395996094,
          33.27217483520508,
          118.59430694580078,
          15.592145919799805,
          -103.75679016113281,
          -23.22265625,
          -135.27342224121094,
          2.725898265838623,
          -66.2503662109375,
          -123.49064636230469,
          31.076839447021484,
          -147.03897094726562,
          12.809776306152344,
          -146.03550720214844,
          7.54784631729126,
          -20.401201248168945,
          -82.40206909179688,
          -6.889549255371094,
          30.626611709594727,
          26.55076789855957,
          -23.401124954223633,
          -119.76180267333984,
          -91.87217712402344,
          95.47689819335938,
          -118.64568328857422,
          -112.15975189208984,
          -91.57222747802734,
          0.6439913511276245,
          -82.84304809570312,
          -123.05900573730469,
          1.6718775033950806,
          37.07781219482422,
          69.88200378417969,
          -164.7023162841797,
          -122.82605743408203,
          -134.13734436035156,
          -41.49985885620117,
          48.906829833984375,
          48.158599853515625,
          -162.0071563720703,
          -62.90468978881836,
          11.468326568603516,
          7.314851760864258,
          120.0637435913086,
          -83.04412078857422,
          -60.9639892578125,
          35.17876052856445,
          -114.50306701660156,
          -62.203243255615234,
          -61.78719711303711,
          -22.17028045654297,
          164.8874969482422,
          -29.150609970092773,
          34.00222396850586
         ],
         "y": [
          121.07632446289062,
          126.53716278076172,
          -41.9451789855957,
          0.4924052059650421,
          -197.51705932617188,
          133.79673767089844,
          28.25442886352539,
          119.51591491699219,
          76.13402557373047,
          35.9883918762207,
          -18.847211837768555,
          82.44860076904297,
          84.59243774414062,
          79.98490905761719,
          75.04574584960938,
          30.671913146972656,
          34.55717849731445,
          85.24089050292969,
          33.53655242919922,
          82.76007843017578,
          -144.59051513671875,
          50.4686393737793,
          125.37041473388672,
          45.7669677734375,
          52.47349166870117,
          -48.68498611450195,
          32.13353729248047,
          129.2402801513672,
          -12.169123649597168,
          70.25186920166016,
          39.846168518066406,
          21.347883224487305,
          75.6533432006836,
          148.37814331054688,
          84.59388732910156,
          109.9464340209961,
          24.217758178710938,
          75.4115982055664,
          107.65127563476562,
          84.74614715576172,
          96.63479614257812,
          35.13079833984375,
          116.90640258789062,
          58.46757507324219,
          74.3796157836914,
          58.36853790283203,
          103.97023010253906,
          -93.41366577148438,
          -53.79351806640625,
          58.22015380859375,
          -64.14921569824219,
          -45.89535903930664,
          -19.77748680114746,
          -59.73672103881836,
          127.85604858398438,
          -67.10765838623047,
          -80.7679214477539,
          -162.990234375,
          -113.6593246459961,
          -141.25648498535156,
          -148.70541381835938,
          -92.54816436767578,
          -67.03356170654297,
          -7.755997180938721,
          -57.494049072265625,
          -124.9037857055664,
          -52.46271896362305,
          -130.55284118652344,
          -63.983619689941406,
          -114.13086700439453,
          -9.20011043548584,
          -110.36569213867188,
          -70.85430908203125,
          -10.910307884216309,
          -134.0251007080078,
          -26.5357666015625,
          -72.43910217285156,
          2.53865909576416,
          -91.02536010742188,
          -94.20758819580078,
          -129.06773376464844,
          -51.68327331542969,
          -94.85490417480469,
          35.8479118347168,
          -38.458553314208984,
          -45.31358337402344,
          -73.5809097290039,
          114.79984283447266,
          -67.67797088623047,
          -105.73970794677734,
          -103.85957336425781,
          -91.36002349853516,
          81.92560577392578,
          -101.77494812011719,
          -138.8572540283203,
          -71.51361083984375,
          -137.663330078125,
          -132.66261291503906,
          -126.93567657470703,
          -85.57294464111328,
          -45.64616394042969,
          172.10693359375,
          11.780962944030762,
          54.34441375732422,
          -11.733484268188477,
          80.68907165527344,
          -9.0199556350708,
          87.7599105834961,
          88.9979248046875,
          -1.1289103031158447,
          -2.028599739074707,
          27.89689064025879,
          4.638168811798096,
          -21.147768020629883,
          -48.11863708496094,
          -166.4784393310547,
          66.3137435913086,
          40.83814239501953,
          75.53593444824219,
          -64.11447143554688,
          27.809799194335938,
          -62.81498718261719,
          106.3351058959961,
          45.18849563598633,
          15.67613410949707,
          42.5816764831543,
          -11.492049217224121,
          3.2634494304656982,
          -20.21074104309082,
          46.33757781982422,
          70.65782165527344,
          17.894712448120117,
          25.7619686126709,
          50.78453826904297,
          80.28730010986328,
          48.453094482421875,
          -28.928773880004883,
          41.315513610839844,
          136.6851043701172,
          -44.09130096435547,
          13.609734535217285,
          46.34519577026367,
          -9.389111518859863,
          -11.173941612243652,
          -24.680158615112305,
          56.836708068847656,
          83.31082916259766,
          -28.69654655456543,
          -25.50077247619629,
          17.802143096923828
         ],
         "z": [
          59.16449737548828,
          68.52922058105469,
          107.18033599853516,
          -179.6243438720703,
          7.299243927001953,
          128.27554321289062,
          -167.09359741210938,
          44.40404510498047,
          17.854415893554688,
          97.62976837158203,
          54.15553665161133,
          98.33370208740234,
          86.6653060913086,
          24.732200622558594,
          56.590728759765625,
          -44.6749382019043,
          -5.897987365722656,
          37.732242584228516,
          28.42112922668457,
          -11.847851753234863,
          128.340087890625,
          120.76812744140625,
          4.197179794311523,
          48.33949661254883,
          149.92051696777344,
          133.57460021972656,
          87.92953491210938,
          93.82002258300781,
          159.30384826660156,
          122.6824951171875,
          58.9357795715332,
          38.186214447021484,
          -12.886209487915039,
          -27.108915328979492,
          57.02786636352539,
          111.2813949584961,
          80.3009262084961,
          1.5066230297088623,
          59.583717346191406,
          84.11955261230469,
          99.54277038574219,
          71.32929992675781,
          16.846290588378906,
          69.08710479736328,
          151.36427307128906,
          55.090206146240234,
          20.757129669189453,
          -38.417755126953125,
          17.497385025024414,
          102.18429565429688,
          136.7648468017578,
          -40.04458999633789,
          130.83901977539062,
          49.902626037597656,
          -112.85484313964844,
          -11.699951171875,
          -115.60877990722656,
          3.822857618331909,
          -56.084991455078125,
          57.414878845214844,
          48.10042953491211,
          -74.41810607910156,
          6.24162483215332,
          38.219566345214844,
          71.83324432373047,
          -98.0925521850586,
          61.39817428588867,
          -4.959902286529541,
          -83.31697082519531,
          8.42501163482666,
          -28.71335792541504,
          -22.46718406677246,
          134.3021240234375,
          -0.20974721014499664,
          -63.448890686035156,
          67.0198745727539,
          -61.79182052612305,
          -79.91426086425781,
          90.79742431640625,
          36.3452033996582,
          8.089973449707031,
          25.95488166809082,
          37.36066818237305,
          -95.85555267333984,
          12.584218978881836,
          -63.68195343017578,
          -33.293209075927734,
          -68.12814331054688,
          30.459915161132812,
          60.64426040649414,
          49.21235656738281,
          -51.30031204223633,
          -137.84031677246094,
          91.36995697021484,
          25.553226470947266,
          -35.303192138671875,
          43.975852966308594,
          -53.03542709350586,
          4.0268683433532715,
          3.6544477939605713,
          -85.35417175292969,
          1.533640742301941,
          -12.664381980895996,
          -136.4056396484375,
          -31.80214500427246,
          -78.23738098144531,
          45.82168960571289,
          -40.67491912841797,
          -76.03277587890625,
          -82.31478118896484,
          -110.73077392578125,
          -69.70891571044922,
          -105.46770477294922,
          102.29552459716797,
          -121.86640930175781,
          94.4657974243164,
          -101.86066436767578,
          -100.24092864990234,
          -124.52439880371094,
          -108.9110107421875,
          27.293550491333008,
          80.6822280883789,
          -90.20108795166016,
          -33.91057586669922,
          -63.13240432739258,
          -44.085880279541016,
          -45.56142807006836,
          -63.188026428222656,
          -144.5060577392578,
          -19.749692916870117,
          -8.721607208251953,
          -132.4078369140625,
          -117.62584686279297,
          -55.65724563598633,
          -112.18498992919922,
          -74.48780059814453,
          -73.91557312011719,
          -97.46403503417969,
          -50.602046966552734,
          16.131792068481445,
          -0.13100644946098328,
          -26.155214309692383,
          104.40933227539062,
          -46.6141357421875,
          -136.31448364257812,
          -69.3875732421875,
          -39.45201873779297,
          9.475332260131836,
          -97.08988952636719,
          -17.440940856933594
         ]
        }
       ],
       "layout": {
        "coloraxis": {
         "colorbar": {
          "title": {
           "text": "color"
          }
         },
         "colorscale": [
          [
           0,
           "#0d0887"
          ],
          [
           0.1111111111111111,
           "#46039f"
          ],
          [
           0.2222222222222222,
           "#7201a8"
          ],
          [
           0.3333333333333333,
           "#9c179e"
          ],
          [
           0.4444444444444444,
           "#bd3786"
          ],
          [
           0.5555555555555556,
           "#d8576b"
          ],
          [
           0.6666666666666666,
           "#ed7953"
          ],
          [
           0.7777777777777778,
           "#fb9f3a"
          ],
          [
           0.8888888888888888,
           "#fdca26"
          ],
          [
           1,
           "#f0f921"
          ]
         ]
        },
        "legend": {
         "tracegroupgap": 0
        },
        "scene": {
         "domain": {
          "x": [
           0,
           1
          ],
          "y": [
           0,
           1
          ]
         },
         "xaxis": {
          "title": {
           "text": "x"
          }
         },
         "yaxis": {
          "title": {
           "text": "y"
          }
         },
         "zaxis": {
          "title": {
           "text": "z"
          }
         }
        },
        "template": {
         "data": {
          "bar": [
           {
            "error_x": {
             "color": "#2a3f5f"
            },
            "error_y": {
             "color": "#2a3f5f"
            },
            "marker": {
             "line": {
              "color": "#E5ECF6",
              "width": 0.5
             }
            },
            "type": "bar"
           }
          ],
          "barpolar": [
           {
            "marker": {
             "line": {
              "color": "#E5ECF6",
              "width": 0.5
             }
            },
            "type": "barpolar"
           }
          ],
          "carpet": [
           {
            "aaxis": {
             "endlinecolor": "#2a3f5f",
             "gridcolor": "white",
             "linecolor": "white",
             "minorgridcolor": "white",
             "startlinecolor": "#2a3f5f"
            },
            "baxis": {
             "endlinecolor": "#2a3f5f",
             "gridcolor": "white",
             "linecolor": "white",
             "minorgridcolor": "white",
             "startlinecolor": "#2a3f5f"
            },
            "type": "carpet"
           }
          ],
          "choropleth": [
           {
            "colorbar": {
             "outlinewidth": 0,
             "ticks": ""
            },
            "type": "choropleth"
           }
          ],
          "contour": [
           {
            "colorbar": {
             "outlinewidth": 0,
             "ticks": ""
            },
            "colorscale": [
             [
              0,
              "#0d0887"
             ],
             [
              0.1111111111111111,
              "#46039f"
             ],
             [
              0.2222222222222222,
              "#7201a8"
             ],
             [
              0.3333333333333333,
              "#9c179e"
             ],
             [
              0.4444444444444444,
              "#bd3786"
             ],
             [
              0.5555555555555556,
              "#d8576b"
             ],
             [
              0.6666666666666666,
              "#ed7953"
             ],
             [
              0.7777777777777778,
              "#fb9f3a"
             ],
             [
              0.8888888888888888,
              "#fdca26"
             ],
             [
              1,
              "#f0f921"
             ]
            ],
            "type": "contour"
           }
          ],
          "contourcarpet": [
           {
            "colorbar": {
             "outlinewidth": 0,
             "ticks": ""
            },
            "type": "contourcarpet"
           }
          ],
          "heatmap": [
           {
            "colorbar": {
             "outlinewidth": 0,
             "ticks": ""
            },
            "colorscale": [
             [
              0,
              "#0d0887"
             ],
             [
              0.1111111111111111,
              "#46039f"
             ],
             [
              0.2222222222222222,
              "#7201a8"
             ],
             [
              0.3333333333333333,
              "#9c179e"
             ],
             [
              0.4444444444444444,
              "#bd3786"
             ],
             [
              0.5555555555555556,
              "#d8576b"
             ],
             [
              0.6666666666666666,
              "#ed7953"
             ],
             [
              0.7777777777777778,
              "#fb9f3a"
             ],
             [
              0.8888888888888888,
              "#fdca26"
             ],
             [
              1,
              "#f0f921"
             ]
            ],
            "type": "heatmap"
           }
          ],
          "heatmapgl": [
           {
            "colorbar": {
             "outlinewidth": 0,
             "ticks": ""
            },
            "colorscale": [
             [
              0,
              "#0d0887"
             ],
             [
              0.1111111111111111,
              "#46039f"
             ],
             [
              0.2222222222222222,
              "#7201a8"
             ],
             [
              0.3333333333333333,
              "#9c179e"
             ],
             [
              0.4444444444444444,
              "#bd3786"
             ],
             [
              0.5555555555555556,
              "#d8576b"
             ],
             [
              0.6666666666666666,
              "#ed7953"
             ],
             [
              0.7777777777777778,
              "#fb9f3a"
             ],
             [
              0.8888888888888888,
              "#fdca26"
             ],
             [
              1,
              "#f0f921"
             ]
            ],
            "type": "heatmapgl"
           }
          ],
          "histogram": [
           {
            "marker": {
             "colorbar": {
              "outlinewidth": 0,
              "ticks": ""
             }
            },
            "type": "histogram"
           }
          ],
          "histogram2d": [
           {
            "colorbar": {
             "outlinewidth": 0,
             "ticks": ""
            },
            "colorscale": [
             [
              0,
              "#0d0887"
             ],
             [
              0.1111111111111111,
              "#46039f"
             ],
             [
              0.2222222222222222,
              "#7201a8"
             ],
             [
              0.3333333333333333,
              "#9c179e"
             ],
             [
              0.4444444444444444,
              "#bd3786"
             ],
             [
              0.5555555555555556,
              "#d8576b"
             ],
             [
              0.6666666666666666,
              "#ed7953"
             ],
             [
              0.7777777777777778,
              "#fb9f3a"
             ],
             [
              0.8888888888888888,
              "#fdca26"
             ],
             [
              1,
              "#f0f921"
             ]
            ],
            "type": "histogram2d"
           }
          ],
          "histogram2dcontour": [
           {
            "colorbar": {
             "outlinewidth": 0,
             "ticks": ""
            },
            "colorscale": [
             [
              0,
              "#0d0887"
             ],
             [
              0.1111111111111111,
              "#46039f"
             ],
             [
              0.2222222222222222,
              "#7201a8"
             ],
             [
              0.3333333333333333,
              "#9c179e"
             ],
             [
              0.4444444444444444,
              "#bd3786"
             ],
             [
              0.5555555555555556,
              "#d8576b"
             ],
             [
              0.6666666666666666,
              "#ed7953"
             ],
             [
              0.7777777777777778,
              "#fb9f3a"
             ],
             [
              0.8888888888888888,
              "#fdca26"
             ],
             [
              1,
              "#f0f921"
             ]
            ],
            "type": "histogram2dcontour"
           }
          ],
          "mesh3d": [
           {
            "colorbar": {
             "outlinewidth": 0,
             "ticks": ""
            },
            "type": "mesh3d"
           }
          ],
          "parcoords": [
           {
            "line": {
             "colorbar": {
              "outlinewidth": 0,
              "ticks": ""
             }
            },
            "type": "parcoords"
           }
          ],
          "pie": [
           {
            "automargin": true,
            "type": "pie"
           }
          ],
          "scatter": [
           {
            "marker": {
             "colorbar": {
              "outlinewidth": 0,
              "ticks": ""
             }
            },
            "type": "scatter"
           }
          ],
          "scatter3d": [
           {
            "line": {
             "colorbar": {
              "outlinewidth": 0,
              "ticks": ""
             }
            },
            "marker": {
             "colorbar": {
              "outlinewidth": 0,
              "ticks": ""
             }
            },
            "type": "scatter3d"
           }
          ],
          "scattercarpet": [
           {
            "marker": {
             "colorbar": {
              "outlinewidth": 0,
              "ticks": ""
             }
            },
            "type": "scattercarpet"
           }
          ],
          "scattergeo": [
           {
            "marker": {
             "colorbar": {
              "outlinewidth": 0,
              "ticks": ""
             }
            },
            "type": "scattergeo"
           }
          ],
          "scattergl": [
           {
            "marker": {
             "colorbar": {
              "outlinewidth": 0,
              "ticks": ""
             }
            },
            "type": "scattergl"
           }
          ],
          "scattermapbox": [
           {
            "marker": {
             "colorbar": {
              "outlinewidth": 0,
              "ticks": ""
             }
            },
            "type": "scattermapbox"
           }
          ],
          "scatterpolar": [
           {
            "marker": {
             "colorbar": {
              "outlinewidth": 0,
              "ticks": ""
             }
            },
            "type": "scatterpolar"
           }
          ],
          "scatterpolargl": [
           {
            "marker": {
             "colorbar": {
              "outlinewidth": 0,
              "ticks": ""
             }
            },
            "type": "scatterpolargl"
           }
          ],
          "scatterternary": [
           {
            "marker": {
             "colorbar": {
              "outlinewidth": 0,
              "ticks": ""
             }
            },
            "type": "scatterternary"
           }
          ],
          "surface": [
           {
            "colorbar": {
             "outlinewidth": 0,
             "ticks": ""
            },
            "colorscale": [
             [
              0,
              "#0d0887"
             ],
             [
              0.1111111111111111,
              "#46039f"
             ],
             [
              0.2222222222222222,
              "#7201a8"
             ],
             [
              0.3333333333333333,
              "#9c179e"
             ],
             [
              0.4444444444444444,
              "#bd3786"
             ],
             [
              0.5555555555555556,
              "#d8576b"
             ],
             [
              0.6666666666666666,
              "#ed7953"
             ],
             [
              0.7777777777777778,
              "#fb9f3a"
             ],
             [
              0.8888888888888888,
              "#fdca26"
             ],
             [
              1,
              "#f0f921"
             ]
            ],
            "type": "surface"
           }
          ],
          "table": [
           {
            "cells": {
             "fill": {
              "color": "#EBF0F8"
             },
             "line": {
              "color": "white"
             }
            },
            "header": {
             "fill": {
              "color": "#C8D4E3"
             },
             "line": {
              "color": "white"
             }
            },
            "type": "table"
           }
          ]
         },
         "layout": {
          "annotationdefaults": {
           "arrowcolor": "#2a3f5f",
           "arrowhead": 0,
           "arrowwidth": 1
          },
          "autotypenumbers": "strict",
          "coloraxis": {
           "colorbar": {
            "outlinewidth": 0,
            "ticks": ""
           }
          },
          "colorscale": {
           "diverging": [
            [
             0,
             "#8e0152"
            ],
            [
             0.1,
             "#c51b7d"
            ],
            [
             0.2,
             "#de77ae"
            ],
            [
             0.3,
             "#f1b6da"
            ],
            [
             0.4,
             "#fde0ef"
            ],
            [
             0.5,
             "#f7f7f7"
            ],
            [
             0.6,
             "#e6f5d0"
            ],
            [
             0.7,
             "#b8e186"
            ],
            [
             0.8,
             "#7fbc41"
            ],
            [
             0.9,
             "#4d9221"
            ],
            [
             1,
             "#276419"
            ]
           ],
           "sequential": [
            [
             0,
             "#0d0887"
            ],
            [
             0.1111111111111111,
             "#46039f"
            ],
            [
             0.2222222222222222,
             "#7201a8"
            ],
            [
             0.3333333333333333,
             "#9c179e"
            ],
            [
             0.4444444444444444,
             "#bd3786"
            ],
            [
             0.5555555555555556,
             "#d8576b"
            ],
            [
             0.6666666666666666,
             "#ed7953"
            ],
            [
             0.7777777777777778,
             "#fb9f3a"
            ],
            [
             0.8888888888888888,
             "#fdca26"
            ],
            [
             1,
             "#f0f921"
            ]
           ],
           "sequentialminus": [
            [
             0,
             "#0d0887"
            ],
            [
             0.1111111111111111,
             "#46039f"
            ],
            [
             0.2222222222222222,
             "#7201a8"
            ],
            [
             0.3333333333333333,
             "#9c179e"
            ],
            [
             0.4444444444444444,
             "#bd3786"
            ],
            [
             0.5555555555555556,
             "#d8576b"
            ],
            [
             0.6666666666666666,
             "#ed7953"
            ],
            [
             0.7777777777777778,
             "#fb9f3a"
            ],
            [
             0.8888888888888888,
             "#fdca26"
            ],
            [
             1,
             "#f0f921"
            ]
           ]
          },
          "colorway": [
           "#636efa",
           "#EF553B",
           "#00cc96",
           "#ab63fa",
           "#FFA15A",
           "#19d3f3",
           "#FF6692",
           "#B6E880",
           "#FF97FF",
           "#FECB52"
          ],
          "font": {
           "color": "#2a3f5f"
          },
          "geo": {
           "bgcolor": "white",
           "lakecolor": "white",
           "landcolor": "#E5ECF6",
           "showlakes": true,
           "showland": true,
           "subunitcolor": "white"
          },
          "hoverlabel": {
           "align": "left"
          },
          "hovermode": "closest",
          "mapbox": {
           "style": "light"
          },
          "paper_bgcolor": "white",
          "plot_bgcolor": "#E5ECF6",
          "polar": {
           "angularaxis": {
            "gridcolor": "white",
            "linecolor": "white",
            "ticks": ""
           },
           "bgcolor": "#E5ECF6",
           "radialaxis": {
            "gridcolor": "white",
            "linecolor": "white",
            "ticks": ""
           }
          },
          "scene": {
           "xaxis": {
            "backgroundcolor": "#E5ECF6",
            "gridcolor": "white",
            "gridwidth": 2,
            "linecolor": "white",
            "showbackground": true,
            "ticks": "",
            "zerolinecolor": "white"
           },
           "yaxis": {
            "backgroundcolor": "#E5ECF6",
            "gridcolor": "white",
            "gridwidth": 2,
            "linecolor": "white",
            "showbackground": true,
            "ticks": "",
            "zerolinecolor": "white"
           },
           "zaxis": {
            "backgroundcolor": "#E5ECF6",
            "gridcolor": "white",
            "gridwidth": 2,
            "linecolor": "white",
            "showbackground": true,
            "ticks": "",
            "zerolinecolor": "white"
           }
          },
          "shapedefaults": {
           "line": {
            "color": "#2a3f5f"
           }
          },
          "ternary": {
           "aaxis": {
            "gridcolor": "white",
            "linecolor": "white",
            "ticks": ""
           },
           "baxis": {
            "gridcolor": "white",
            "linecolor": "white",
            "ticks": ""
           },
           "bgcolor": "#E5ECF6",
           "caxis": {
            "gridcolor": "white",
            "linecolor": "white",
            "ticks": ""
           }
          },
          "title": {
           "x": 0.05
          },
          "xaxis": {
           "automargin": true,
           "gridcolor": "white",
           "linecolor": "white",
           "ticks": "",
           "title": {
            "standoff": 15
           },
           "zerolinecolor": "white",
           "zerolinewidth": 2
          },
          "yaxis": {
           "automargin": true,
           "gridcolor": "white",
           "linecolor": "white",
           "ticks": "",
           "title": {
            "standoff": 15
           },
           "zerolinecolor": "white",
           "zerolinewidth": 2
          }
         }
        },
        "title": {
         "text": "T-SNE 3"
        }
       }
      }
     },
     "metadata": {}
    }
   ],
   "source": [
    "fig = px.scatter_3d(x=X_tsne3[:, 0], y=X_tsne3[:, 1], z=X_tsne3[:, 2], color=y, opacity=0.7,\n",
    "title='T-SNE 3')\n",
    "fig.show()"
   ]
  },
  {
   "source": [
    "### DBSCAN"
   ],
   "cell_type": "markdown",
   "metadata": {}
  },
  {
   "cell_type": "code",
   "execution_count": 17,
   "metadata": {},
   "outputs": [],
   "source": [
    "# Importamos DBSCAN\n",
    "from sklearn.cluster import DBSCAN\n",
    "\n",
    "# Para DBSCAN 2\n",
    "# Normalizamos los datos\n",
    "X_scan_2 = StandardScaler().fit_transform(X_tsne2)\n",
    "\n",
    "# Definimos DBSCAN 2\n",
    "db_2 = DBSCAN(eps=0.2, min_samples=5).fit(X_scan_2)\n",
    "core_samples_mask = np.zeros_like(db_2.labels_, dtype=bool)\n",
    "core_samples_mask[db_2.core_sample_indices_] = True\n",
    "y_db_2 = db_2.labels_\n",
    "\n",
    "# Para DBSCAN 3\n",
    "# Normalizamos los datos\n",
    "X_scan_3 = StandardScaler().fit_transform(X_tsne3)\n",
    "\n",
    "# Definimos DBSCAN 3\n",
    "db_3 = DBSCAN(eps=0.2, min_samples=5).fit(X_scan_3)\n",
    "core_samples_mask = np.zeros_like(db_3.labels_, dtype=bool)\n",
    "core_samples_mask[db_3.core_sample_indices_] = True\n",
    "y_db_3 = db_3.labels_"
   ]
  },
  {
   "source": [
    "### Finalmente, obtenemos métricas"
   ],
   "cell_type": "markdown",
   "metadata": {}
  },
  {
   "cell_type": "code",
   "execution_count": 18,
   "metadata": {},
   "outputs": [
    {
     "output_type": "stream",
     "name": "stdout",
     "text": [
      "TSNE2_Score: 0.67\nTSNE3_Score: 0.0\n"
     ]
    }
   ],
   "source": [
    "db2_score = metrics.accuracy_score(y, y_db_2)\n",
    "db3_score = metrics.accuracy_score(y, y_db_3)\n",
    "\n",
    "print('TSNE2_Score:', db2_score.round(2))\n",
    "print('TSNE3_Score:', db3_score)"
   ]
  },
  {
   "cell_type": "code",
   "execution_count": null,
   "metadata": {},
   "outputs": [],
   "source": []
  }
 ]
}