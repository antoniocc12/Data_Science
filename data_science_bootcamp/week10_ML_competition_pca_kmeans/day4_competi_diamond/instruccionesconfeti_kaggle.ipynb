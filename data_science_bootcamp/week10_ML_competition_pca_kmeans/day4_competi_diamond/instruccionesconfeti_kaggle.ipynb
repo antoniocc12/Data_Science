{
 "metadata": {
  "language_info": {
   "codemirror_mode": {
    "name": "ipython",
    "version": 3
   },
   "file_extension": ".py",
   "mimetype": "text/x-python",
   "name": "python",
   "nbconvert_exporter": "python",
   "pygments_lexer": "ipython3",
   "version": 3
  },
  "orig_nbformat": 4
 },
 "nbformat": 4,
 "nbformat_minor": 2,
 "cells": [
  {
   "cell_type": "code",
   "execution_count": null,
   "metadata": {},
   "outputs": [],
   "source": [
    "### hay que predecir el precio del diamante por tanto es un problema de regresion.\n",
    "### Solo vamos a utilizar los de regresion\n",
    "### Solo se nos va a evaluar con el RSME\n",
    "### De manera ilustratova va a utilizar linear regression pero no es el que mejor resultado da, con este no vamos a ganar"
   ]
  },
  {
   "cell_type": "code",
   "execution_count": null,
   "metadata": {},
   "outputs": [],
   "source": [
    "### DATOS\n",
    "#### Algunas categoricas tienen un orden y pueden ser trabajadas "
   ]
  },
  {
   "cell_type": "code",
   "execution_count": null,
   "metadata": {},
   "outputs": [],
   "source": [
    "### Comentario final para kaggle \n",
    "# LinearRegressor() - No params-RMSE = 1894.0083"
   ]
  }
 ]
}