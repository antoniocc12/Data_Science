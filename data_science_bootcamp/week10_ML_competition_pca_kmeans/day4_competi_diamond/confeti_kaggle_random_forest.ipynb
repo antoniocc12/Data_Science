{
 "metadata": {
  "language_info": {
   "codemirror_mode": {
    "name": "ipython",
    "version": 3
   },
   "file_extension": ".py",
   "mimetype": "text/x-python",
   "name": "python",
   "nbconvert_exporter": "python",
   "pygments_lexer": "ipython3",
   "version": "3.7.4"
  },
  "orig_nbformat": 4,
  "kernelspec": {
   "name": "python3",
   "display_name": "Python 3.7.4 64-bit"
  },
  "interpreter": {
   "hash": "a9b83ec4160fc914f5169c2fc0bc9ab1c02e189a457abfa966969b692f6336e9"
  }
 },
 "nbformat": 4,
 "nbformat_minor": 2,
 "cells": [
  {
   "cell_type": "code",
   "execution_count": 1,
   "metadata": {},
   "outputs": [],
   "source": [
    "\n",
    "import numpy as np\n",
    "import pandas as pd\n",
    "import urllib.request\n",
    "from PIL import Image\n",
    "from sklearn.linear_model import LinearRegression\n",
    "from sklearn.model_selection import train_test_split\n",
    "from sklearn.metrics import mean_squared_error\n",
    "from sklearn.tree import DecisionTreeRegressor\n",
    "from sklearn.impute import SimpleImputer\n",
    "from sklearn.preprocessing import StandardScaler\n",
    "from sklearn.model_selection import train_test_split\n",
    "from sklearn.pipeline import Pipeline\n",
    "from sklearn.svm import SVR\n",
    "from sklearn.linear_model import LogisticRegression\n",
    "from sklearn.ensemble import RandomForestRegressor\n",
    "from sklearn.feature_selection import SelectKBest\n",
    "from sklearn import svm, datasets\n",
    "from sklearn.model_selection import GridSearchCV\n",
    "from sklearn.neighbors import KNeighborsRegressor\n",
    "from sklearn.datasets import make_regression\n",
    "from sklearn.ensemble import GradientBoostingRegressor\n",
    "from sklearn.model_selection import KFold\n",
    "from sklearn.model_selection import cross_val_score\n",
    "from sklearn.metrics import r2_score\n",
    "from sklearn.metrics import mean_squared_log_error, mean_squared_error, r2_score, mean_absolute_error\n",
    "import math\n",
    "\n",
    "\n",
    "\n",
    "import warnings\n",
    "\n",
    "warnings.filterwarnings(\"ignore\", category=DeprecationWarning)"
   ]
  },
  {
   "cell_type": "code",
   "execution_count": 2,
   "metadata": {},
   "outputs": [],
   "source": [
    "diamonds = pd.read_csv(\"diamonds_train.csv\", index_col=0)"
   ]
  },
  {
   "cell_type": "code",
   "execution_count": 3,
   "metadata": {},
   "outputs": [
    {
     "output_type": "execute_result",
     "data": {
      "text/plain": [
       "       carat        cut color clarity  depth  table     x     y     z  price\n",
       "0       1.21      Ideal     H     VS2   63.0   57.0  6.73  6.70  4.23   6134\n",
       "1       0.28  Very Good     D    VVS2   64.0   56.0  4.14  4.17  2.66    532\n",
       "2       0.42    Premium     F     VS1   61.2   58.0  4.86  4.82  2.96   1103\n",
       "3       0.26      Ideal     H      IF   61.1   57.0  4.16  4.12  2.53    600\n",
       "4       1.10       Good     G     SI1   63.4   57.0  6.52  6.55  4.14   4997\n",
       "...      ...        ...   ...     ...    ...    ...   ...   ...   ...    ...\n",
       "40340   1.55    Premium     H     VS2   61.3   61.0  7.46  7.39  4.55  11708\n",
       "40341   0.36      Ideal     D     SI1   60.6   56.0  4.58  4.63  2.79    619\n",
       "40342   0.57  Very Good     I     VS2   62.2   55.0  5.33  5.34  3.32   1267\n",
       "40343   1.01  Very Good     F      IF   59.6   62.0  6.47  6.56  3.88   9965\n",
       "40344   0.54      Ideal     E     SI2   60.4   57.0  5.33  5.27  3.20   1340\n",
       "\n",
       "[40345 rows x 10 columns]"
      ],
      "text/html": "<div>\n<style scoped>\n    .dataframe tbody tr th:only-of-type {\n        vertical-align: middle;\n    }\n\n    .dataframe tbody tr th {\n        vertical-align: top;\n    }\n\n    .dataframe thead th {\n        text-align: right;\n    }\n</style>\n<table border=\"1\" class=\"dataframe\">\n  <thead>\n    <tr style=\"text-align: right;\">\n      <th></th>\n      <th>carat</th>\n      <th>cut</th>\n      <th>color</th>\n      <th>clarity</th>\n      <th>depth</th>\n      <th>table</th>\n      <th>x</th>\n      <th>y</th>\n      <th>z</th>\n      <th>price</th>\n    </tr>\n  </thead>\n  <tbody>\n    <tr>\n      <th>0</th>\n      <td>1.21</td>\n      <td>Ideal</td>\n      <td>H</td>\n      <td>VS2</td>\n      <td>63.0</td>\n      <td>57.0</td>\n      <td>6.73</td>\n      <td>6.70</td>\n      <td>4.23</td>\n      <td>6134</td>\n    </tr>\n    <tr>\n      <th>1</th>\n      <td>0.28</td>\n      <td>Very Good</td>\n      <td>D</td>\n      <td>VVS2</td>\n      <td>64.0</td>\n      <td>56.0</td>\n      <td>4.14</td>\n      <td>4.17</td>\n      <td>2.66</td>\n      <td>532</td>\n    </tr>\n    <tr>\n      <th>2</th>\n      <td>0.42</td>\n      <td>Premium</td>\n      <td>F</td>\n      <td>VS1</td>\n      <td>61.2</td>\n      <td>58.0</td>\n      <td>4.86</td>\n      <td>4.82</td>\n      <td>2.96</td>\n      <td>1103</td>\n    </tr>\n    <tr>\n      <th>3</th>\n      <td>0.26</td>\n      <td>Ideal</td>\n      <td>H</td>\n      <td>IF</td>\n      <td>61.1</td>\n      <td>57.0</td>\n      <td>4.16</td>\n      <td>4.12</td>\n      <td>2.53</td>\n      <td>600</td>\n    </tr>\n    <tr>\n      <th>4</th>\n      <td>1.10</td>\n      <td>Good</td>\n      <td>G</td>\n      <td>SI1</td>\n      <td>63.4</td>\n      <td>57.0</td>\n      <td>6.52</td>\n      <td>6.55</td>\n      <td>4.14</td>\n      <td>4997</td>\n    </tr>\n    <tr>\n      <th>...</th>\n      <td>...</td>\n      <td>...</td>\n      <td>...</td>\n      <td>...</td>\n      <td>...</td>\n      <td>...</td>\n      <td>...</td>\n      <td>...</td>\n      <td>...</td>\n      <td>...</td>\n    </tr>\n    <tr>\n      <th>40340</th>\n      <td>1.55</td>\n      <td>Premium</td>\n      <td>H</td>\n      <td>VS2</td>\n      <td>61.3</td>\n      <td>61.0</td>\n      <td>7.46</td>\n      <td>7.39</td>\n      <td>4.55</td>\n      <td>11708</td>\n    </tr>\n    <tr>\n      <th>40341</th>\n      <td>0.36</td>\n      <td>Ideal</td>\n      <td>D</td>\n      <td>SI1</td>\n      <td>60.6</td>\n      <td>56.0</td>\n      <td>4.58</td>\n      <td>4.63</td>\n      <td>2.79</td>\n      <td>619</td>\n    </tr>\n    <tr>\n      <th>40342</th>\n      <td>0.57</td>\n      <td>Very Good</td>\n      <td>I</td>\n      <td>VS2</td>\n      <td>62.2</td>\n      <td>55.0</td>\n      <td>5.33</td>\n      <td>5.34</td>\n      <td>3.32</td>\n      <td>1267</td>\n    </tr>\n    <tr>\n      <th>40343</th>\n      <td>1.01</td>\n      <td>Very Good</td>\n      <td>F</td>\n      <td>IF</td>\n      <td>59.6</td>\n      <td>62.0</td>\n      <td>6.47</td>\n      <td>6.56</td>\n      <td>3.88</td>\n      <td>9965</td>\n    </tr>\n    <tr>\n      <th>40344</th>\n      <td>0.54</td>\n      <td>Ideal</td>\n      <td>E</td>\n      <td>SI2</td>\n      <td>60.4</td>\n      <td>57.0</td>\n      <td>5.33</td>\n      <td>5.27</td>\n      <td>3.20</td>\n      <td>1340</td>\n    </tr>\n  </tbody>\n</table>\n<p>40345 rows × 10 columns</p>\n</div>"
     },
     "metadata": {},
     "execution_count": 3
    }
   ],
   "source": [
    "diamonds"
   ]
  },
  {
   "cell_type": "code",
   "execution_count": 4,
   "metadata": {},
   "outputs": [
    {
     "output_type": "stream",
     "name": "stdout",
     "text": [
      "<class 'pandas.core.frame.DataFrame'>\nInt64Index: 40345 entries, 0 to 40344\nData columns (total 10 columns):\n #   Column   Non-Null Count  Dtype  \n---  ------   --------------  -----  \n 0   carat    40345 non-null  float64\n 1   cut      40345 non-null  object \n 2   color    40345 non-null  object \n 3   clarity  40345 non-null  object \n 4   depth    40345 non-null  float64\n 5   table    40345 non-null  float64\n 6   x        40345 non-null  float64\n 7   y        40345 non-null  float64\n 8   z        40345 non-null  float64\n 9   price    40345 non-null  int64  \ndtypes: float64(6), int64(1), object(3)\nmemory usage: 3.4+ MB\n"
     ]
    }
   ],
   "source": [
    "diamonds.info()"
   ]
  },
  {
   "cell_type": "code",
   "execution_count": 5,
   "metadata": {},
   "outputs": [
    {
     "output_type": "execute_result",
     "data": {
      "text/plain": [
       "array(['VS2', 'VVS2', 'VS1', 'IF', 'SI1', 'SI2', 'VVS1', 'I1'],\n",
       "      dtype=object)"
      ]
     },
     "metadata": {},
     "execution_count": 5
    }
   ],
   "source": [
    "diamonds.clarity.unique()"
   ]
  },
  {
   "cell_type": "code",
   "execution_count": 7,
   "metadata": {},
   "outputs": [
    {
     "output_type": "execute_result",
     "data": {
      "text/plain": [
       "       carat        cut color clarity  depth  table     x     y     z  price  \\\n",
       "0       1.21      Ideal     H     VS2   63.0   57.0  6.73  6.70  4.23   6134   \n",
       "1       0.28  Very Good     D    VVS2   64.0   56.0  4.14  4.17  2.66    532   \n",
       "2       0.42    Premium     F     VS1   61.2   58.0  4.86  4.82  2.96   1103   \n",
       "3       0.26      Ideal     H      IF   61.1   57.0  4.16  4.12  2.53    600   \n",
       "4       1.10       Good     G     SI1   63.4   57.0  6.52  6.55  4.14   4997   \n",
       "...      ...        ...   ...     ...    ...    ...   ...   ...   ...    ...   \n",
       "40340   1.55    Premium     H     VS2   61.3   61.0  7.46  7.39  4.55  11708   \n",
       "40341   0.36      Ideal     D     SI1   60.6   56.0  4.58  4.63  2.79    619   \n",
       "40342   0.57  Very Good     I     VS2   62.2   55.0  5.33  5.34  3.32   1267   \n",
       "40343   1.01  Very Good     F      IF   59.6   62.0  6.47  6.56  3.88   9965   \n",
       "40344   0.54      Ideal     E     SI2   60.4   57.0  5.33  5.27  3.20   1340   \n",
       "\n",
       "       clarity_value  \n",
       "0                  4  \n",
       "1                  6  \n",
       "2                  5  \n",
       "3                  8  \n",
       "4                  3  \n",
       "...              ...  \n",
       "40340              4  \n",
       "40341              3  \n",
       "40342              4  \n",
       "40343              8  \n",
       "40344              2  \n",
       "\n",
       "[40345 rows x 11 columns]"
      ],
      "text/html": "<div>\n<style scoped>\n    .dataframe tbody tr th:only-of-type {\n        vertical-align: middle;\n    }\n\n    .dataframe tbody tr th {\n        vertical-align: top;\n    }\n\n    .dataframe thead th {\n        text-align: right;\n    }\n</style>\n<table border=\"1\" class=\"dataframe\">\n  <thead>\n    <tr style=\"text-align: right;\">\n      <th></th>\n      <th>carat</th>\n      <th>cut</th>\n      <th>color</th>\n      <th>clarity</th>\n      <th>depth</th>\n      <th>table</th>\n      <th>x</th>\n      <th>y</th>\n      <th>z</th>\n      <th>price</th>\n      <th>clarity_value</th>\n    </tr>\n  </thead>\n  <tbody>\n    <tr>\n      <th>0</th>\n      <td>1.21</td>\n      <td>Ideal</td>\n      <td>H</td>\n      <td>VS2</td>\n      <td>63.0</td>\n      <td>57.0</td>\n      <td>6.73</td>\n      <td>6.70</td>\n      <td>4.23</td>\n      <td>6134</td>\n      <td>4</td>\n    </tr>\n    <tr>\n      <th>1</th>\n      <td>0.28</td>\n      <td>Very Good</td>\n      <td>D</td>\n      <td>VVS2</td>\n      <td>64.0</td>\n      <td>56.0</td>\n      <td>4.14</td>\n      <td>4.17</td>\n      <td>2.66</td>\n      <td>532</td>\n      <td>6</td>\n    </tr>\n    <tr>\n      <th>2</th>\n      <td>0.42</td>\n      <td>Premium</td>\n      <td>F</td>\n      <td>VS1</td>\n      <td>61.2</td>\n      <td>58.0</td>\n      <td>4.86</td>\n      <td>4.82</td>\n      <td>2.96</td>\n      <td>1103</td>\n      <td>5</td>\n    </tr>\n    <tr>\n      <th>3</th>\n      <td>0.26</td>\n      <td>Ideal</td>\n      <td>H</td>\n      <td>IF</td>\n      <td>61.1</td>\n      <td>57.0</td>\n      <td>4.16</td>\n      <td>4.12</td>\n      <td>2.53</td>\n      <td>600</td>\n      <td>8</td>\n    </tr>\n    <tr>\n      <th>4</th>\n      <td>1.10</td>\n      <td>Good</td>\n      <td>G</td>\n      <td>SI1</td>\n      <td>63.4</td>\n      <td>57.0</td>\n      <td>6.52</td>\n      <td>6.55</td>\n      <td>4.14</td>\n      <td>4997</td>\n      <td>3</td>\n    </tr>\n    <tr>\n      <th>...</th>\n      <td>...</td>\n      <td>...</td>\n      <td>...</td>\n      <td>...</td>\n      <td>...</td>\n      <td>...</td>\n      <td>...</td>\n      <td>...</td>\n      <td>...</td>\n      <td>...</td>\n      <td>...</td>\n    </tr>\n    <tr>\n      <th>40340</th>\n      <td>1.55</td>\n      <td>Premium</td>\n      <td>H</td>\n      <td>VS2</td>\n      <td>61.3</td>\n      <td>61.0</td>\n      <td>7.46</td>\n      <td>7.39</td>\n      <td>4.55</td>\n      <td>11708</td>\n      <td>4</td>\n    </tr>\n    <tr>\n      <th>40341</th>\n      <td>0.36</td>\n      <td>Ideal</td>\n      <td>D</td>\n      <td>SI1</td>\n      <td>60.6</td>\n      <td>56.0</td>\n      <td>4.58</td>\n      <td>4.63</td>\n      <td>2.79</td>\n      <td>619</td>\n      <td>3</td>\n    </tr>\n    <tr>\n      <th>40342</th>\n      <td>0.57</td>\n      <td>Very Good</td>\n      <td>I</td>\n      <td>VS2</td>\n      <td>62.2</td>\n      <td>55.0</td>\n      <td>5.33</td>\n      <td>5.34</td>\n      <td>3.32</td>\n      <td>1267</td>\n      <td>4</td>\n    </tr>\n    <tr>\n      <th>40343</th>\n      <td>1.01</td>\n      <td>Very Good</td>\n      <td>F</td>\n      <td>IF</td>\n      <td>59.6</td>\n      <td>62.0</td>\n      <td>6.47</td>\n      <td>6.56</td>\n      <td>3.88</td>\n      <td>9965</td>\n      <td>8</td>\n    </tr>\n    <tr>\n      <th>40344</th>\n      <td>0.54</td>\n      <td>Ideal</td>\n      <td>E</td>\n      <td>SI2</td>\n      <td>60.4</td>\n      <td>57.0</td>\n      <td>5.33</td>\n      <td>5.27</td>\n      <td>3.20</td>\n      <td>1340</td>\n      <td>2</td>\n    </tr>\n  </tbody>\n</table>\n<p>40345 rows × 11 columns</p>\n</div>"
     },
     "metadata": {},
     "execution_count": 7
    }
   ],
   "source": [
    "#Poner una categoria de mayor valor al clarity\n",
    "diamonds_df = diamonds.copy()\n",
    "diamonds_df[\"clarity_value\"] = diamonds_df[\"clarity\"].map({'I1': 1, 'SI2': 2, 'SI1': 3, 'VS2':4, 'VS1':5, 'VVS2':6, 'VVS1':7, 'IF':8 })\n",
    "diamonds_df"
   ]
  },
  {
   "cell_type": "code",
   "execution_count": 8,
   "metadata": {},
   "outputs": [
    {
     "output_type": "execute_result",
     "data": {
      "text/plain": [
       "array(['H', 'D', 'F', 'G', 'I', 'E', 'J'], dtype=object)"
      ]
     },
     "metadata": {},
     "execution_count": 8
    }
   ],
   "source": [
    "diamonds.color.unique()"
   ]
  },
  {
   "cell_type": "code",
   "execution_count": 9,
   "metadata": {},
   "outputs": [
    {
     "output_type": "execute_result",
     "data": {
      "text/plain": [
       "       carat        cut color clarity  depth  table     x     y     z  price  \\\n",
       "0       1.21      Ideal     H     VS2   63.0   57.0  6.73  6.70  4.23   6134   \n",
       "1       0.28  Very Good     D    VVS2   64.0   56.0  4.14  4.17  2.66    532   \n",
       "2       0.42    Premium     F     VS1   61.2   58.0  4.86  4.82  2.96   1103   \n",
       "3       0.26      Ideal     H      IF   61.1   57.0  4.16  4.12  2.53    600   \n",
       "4       1.10       Good     G     SI1   63.4   57.0  6.52  6.55  4.14   4997   \n",
       "...      ...        ...   ...     ...    ...    ...   ...   ...   ...    ...   \n",
       "40340   1.55    Premium     H     VS2   61.3   61.0  7.46  7.39  4.55  11708   \n",
       "40341   0.36      Ideal     D     SI1   60.6   56.0  4.58  4.63  2.79    619   \n",
       "40342   0.57  Very Good     I     VS2   62.2   55.0  5.33  5.34  3.32   1267   \n",
       "40343   1.01  Very Good     F      IF   59.6   62.0  6.47  6.56  3.88   9965   \n",
       "40344   0.54      Ideal     E     SI2   60.4   57.0  5.33  5.27  3.20   1340   \n",
       "\n",
       "       clarity_value  color_value  \n",
       "0                  4            3  \n",
       "1                  6            7  \n",
       "2                  5            5  \n",
       "3                  8            3  \n",
       "4                  3            4  \n",
       "...              ...          ...  \n",
       "40340              4            3  \n",
       "40341              3            7  \n",
       "40342              4            2  \n",
       "40343              8            5  \n",
       "40344              2            6  \n",
       "\n",
       "[40345 rows x 12 columns]"
      ],
      "text/html": "<div>\n<style scoped>\n    .dataframe tbody tr th:only-of-type {\n        vertical-align: middle;\n    }\n\n    .dataframe tbody tr th {\n        vertical-align: top;\n    }\n\n    .dataframe thead th {\n        text-align: right;\n    }\n</style>\n<table border=\"1\" class=\"dataframe\">\n  <thead>\n    <tr style=\"text-align: right;\">\n      <th></th>\n      <th>carat</th>\n      <th>cut</th>\n      <th>color</th>\n      <th>clarity</th>\n      <th>depth</th>\n      <th>table</th>\n      <th>x</th>\n      <th>y</th>\n      <th>z</th>\n      <th>price</th>\n      <th>clarity_value</th>\n      <th>color_value</th>\n    </tr>\n  </thead>\n  <tbody>\n    <tr>\n      <th>0</th>\n      <td>1.21</td>\n      <td>Ideal</td>\n      <td>H</td>\n      <td>VS2</td>\n      <td>63.0</td>\n      <td>57.0</td>\n      <td>6.73</td>\n      <td>6.70</td>\n      <td>4.23</td>\n      <td>6134</td>\n      <td>4</td>\n      <td>3</td>\n    </tr>\n    <tr>\n      <th>1</th>\n      <td>0.28</td>\n      <td>Very Good</td>\n      <td>D</td>\n      <td>VVS2</td>\n      <td>64.0</td>\n      <td>56.0</td>\n      <td>4.14</td>\n      <td>4.17</td>\n      <td>2.66</td>\n      <td>532</td>\n      <td>6</td>\n      <td>7</td>\n    </tr>\n    <tr>\n      <th>2</th>\n      <td>0.42</td>\n      <td>Premium</td>\n      <td>F</td>\n      <td>VS1</td>\n      <td>61.2</td>\n      <td>58.0</td>\n      <td>4.86</td>\n      <td>4.82</td>\n      <td>2.96</td>\n      <td>1103</td>\n      <td>5</td>\n      <td>5</td>\n    </tr>\n    <tr>\n      <th>3</th>\n      <td>0.26</td>\n      <td>Ideal</td>\n      <td>H</td>\n      <td>IF</td>\n      <td>61.1</td>\n      <td>57.0</td>\n      <td>4.16</td>\n      <td>4.12</td>\n      <td>2.53</td>\n      <td>600</td>\n      <td>8</td>\n      <td>3</td>\n    </tr>\n    <tr>\n      <th>4</th>\n      <td>1.10</td>\n      <td>Good</td>\n      <td>G</td>\n      <td>SI1</td>\n      <td>63.4</td>\n      <td>57.0</td>\n      <td>6.52</td>\n      <td>6.55</td>\n      <td>4.14</td>\n      <td>4997</td>\n      <td>3</td>\n      <td>4</td>\n    </tr>\n    <tr>\n      <th>...</th>\n      <td>...</td>\n      <td>...</td>\n      <td>...</td>\n      <td>...</td>\n      <td>...</td>\n      <td>...</td>\n      <td>...</td>\n      <td>...</td>\n      <td>...</td>\n      <td>...</td>\n      <td>...</td>\n      <td>...</td>\n    </tr>\n    <tr>\n      <th>40340</th>\n      <td>1.55</td>\n      <td>Premium</td>\n      <td>H</td>\n      <td>VS2</td>\n      <td>61.3</td>\n      <td>61.0</td>\n      <td>7.46</td>\n      <td>7.39</td>\n      <td>4.55</td>\n      <td>11708</td>\n      <td>4</td>\n      <td>3</td>\n    </tr>\n    <tr>\n      <th>40341</th>\n      <td>0.36</td>\n      <td>Ideal</td>\n      <td>D</td>\n      <td>SI1</td>\n      <td>60.6</td>\n      <td>56.0</td>\n      <td>4.58</td>\n      <td>4.63</td>\n      <td>2.79</td>\n      <td>619</td>\n      <td>3</td>\n      <td>7</td>\n    </tr>\n    <tr>\n      <th>40342</th>\n      <td>0.57</td>\n      <td>Very Good</td>\n      <td>I</td>\n      <td>VS2</td>\n      <td>62.2</td>\n      <td>55.0</td>\n      <td>5.33</td>\n      <td>5.34</td>\n      <td>3.32</td>\n      <td>1267</td>\n      <td>4</td>\n      <td>2</td>\n    </tr>\n    <tr>\n      <th>40343</th>\n      <td>1.01</td>\n      <td>Very Good</td>\n      <td>F</td>\n      <td>IF</td>\n      <td>59.6</td>\n      <td>62.0</td>\n      <td>6.47</td>\n      <td>6.56</td>\n      <td>3.88</td>\n      <td>9965</td>\n      <td>8</td>\n      <td>5</td>\n    </tr>\n    <tr>\n      <th>40344</th>\n      <td>0.54</td>\n      <td>Ideal</td>\n      <td>E</td>\n      <td>SI2</td>\n      <td>60.4</td>\n      <td>57.0</td>\n      <td>5.33</td>\n      <td>5.27</td>\n      <td>3.20</td>\n      <td>1340</td>\n      <td>2</td>\n      <td>6</td>\n    </tr>\n  </tbody>\n</table>\n<p>40345 rows × 12 columns</p>\n</div>"
     },
     "metadata": {},
     "execution_count": 9
    }
   ],
   "source": [
    "#Poner una categoria de mayor valor al color\n",
    "diamonds_df[\"color_value\"] = diamonds_df[\"color\"].map({'J': 1, 'I': 2, 'H': 3, 'G':4, 'F':5, 'E':6, 'D':7})\n",
    "diamonds_df"
   ]
  },
  {
   "cell_type": "code",
   "execution_count": 10,
   "metadata": {},
   "outputs": [
    {
     "output_type": "execute_result",
     "data": {
      "text/plain": [
       "array(['Ideal', 'Very Good', 'Premium', 'Good', 'Fair'], dtype=object)"
      ]
     },
     "metadata": {},
     "execution_count": 10
    }
   ],
   "source": [
    "diamonds.cut.unique()"
   ]
  },
  {
   "cell_type": "code",
   "execution_count": 11,
   "metadata": {},
   "outputs": [
    {
     "output_type": "execute_result",
     "data": {
      "text/plain": [
       "       carat        cut color clarity  depth  table     x     y     z  price  \\\n",
       "0       1.21      Ideal     H     VS2   63.0   57.0  6.73  6.70  4.23   6134   \n",
       "1       0.28  Very Good     D    VVS2   64.0   56.0  4.14  4.17  2.66    532   \n",
       "2       0.42    Premium     F     VS1   61.2   58.0  4.86  4.82  2.96   1103   \n",
       "3       0.26      Ideal     H      IF   61.1   57.0  4.16  4.12  2.53    600   \n",
       "4       1.10       Good     G     SI1   63.4   57.0  6.52  6.55  4.14   4997   \n",
       "...      ...        ...   ...     ...    ...    ...   ...   ...   ...    ...   \n",
       "40340   1.55    Premium     H     VS2   61.3   61.0  7.46  7.39  4.55  11708   \n",
       "40341   0.36      Ideal     D     SI1   60.6   56.0  4.58  4.63  2.79    619   \n",
       "40342   0.57  Very Good     I     VS2   62.2   55.0  5.33  5.34  3.32   1267   \n",
       "40343   1.01  Very Good     F      IF   59.6   62.0  6.47  6.56  3.88   9965   \n",
       "40344   0.54      Ideal     E     SI2   60.4   57.0  5.33  5.27  3.20   1340   \n",
       "\n",
       "       clarity_value  color_value  cut_value  \n",
       "0                  4            3          5  \n",
       "1                  6            7          3  \n",
       "2                  5            5          4  \n",
       "3                  8            3          5  \n",
       "4                  3            4          2  \n",
       "...              ...          ...        ...  \n",
       "40340              4            3          4  \n",
       "40341              3            7          5  \n",
       "40342              4            2          3  \n",
       "40343              8            5          3  \n",
       "40344              2            6          5  \n",
       "\n",
       "[40345 rows x 13 columns]"
      ],
      "text/html": "<div>\n<style scoped>\n    .dataframe tbody tr th:only-of-type {\n        vertical-align: middle;\n    }\n\n    .dataframe tbody tr th {\n        vertical-align: top;\n    }\n\n    .dataframe thead th {\n        text-align: right;\n    }\n</style>\n<table border=\"1\" class=\"dataframe\">\n  <thead>\n    <tr style=\"text-align: right;\">\n      <th></th>\n      <th>carat</th>\n      <th>cut</th>\n      <th>color</th>\n      <th>clarity</th>\n      <th>depth</th>\n      <th>table</th>\n      <th>x</th>\n      <th>y</th>\n      <th>z</th>\n      <th>price</th>\n      <th>clarity_value</th>\n      <th>color_value</th>\n      <th>cut_value</th>\n    </tr>\n  </thead>\n  <tbody>\n    <tr>\n      <th>0</th>\n      <td>1.21</td>\n      <td>Ideal</td>\n      <td>H</td>\n      <td>VS2</td>\n      <td>63.0</td>\n      <td>57.0</td>\n      <td>6.73</td>\n      <td>6.70</td>\n      <td>4.23</td>\n      <td>6134</td>\n      <td>4</td>\n      <td>3</td>\n      <td>5</td>\n    </tr>\n    <tr>\n      <th>1</th>\n      <td>0.28</td>\n      <td>Very Good</td>\n      <td>D</td>\n      <td>VVS2</td>\n      <td>64.0</td>\n      <td>56.0</td>\n      <td>4.14</td>\n      <td>4.17</td>\n      <td>2.66</td>\n      <td>532</td>\n      <td>6</td>\n      <td>7</td>\n      <td>3</td>\n    </tr>\n    <tr>\n      <th>2</th>\n      <td>0.42</td>\n      <td>Premium</td>\n      <td>F</td>\n      <td>VS1</td>\n      <td>61.2</td>\n      <td>58.0</td>\n      <td>4.86</td>\n      <td>4.82</td>\n      <td>2.96</td>\n      <td>1103</td>\n      <td>5</td>\n      <td>5</td>\n      <td>4</td>\n    </tr>\n    <tr>\n      <th>3</th>\n      <td>0.26</td>\n      <td>Ideal</td>\n      <td>H</td>\n      <td>IF</td>\n      <td>61.1</td>\n      <td>57.0</td>\n      <td>4.16</td>\n      <td>4.12</td>\n      <td>2.53</td>\n      <td>600</td>\n      <td>8</td>\n      <td>3</td>\n      <td>5</td>\n    </tr>\n    <tr>\n      <th>4</th>\n      <td>1.10</td>\n      <td>Good</td>\n      <td>G</td>\n      <td>SI1</td>\n      <td>63.4</td>\n      <td>57.0</td>\n      <td>6.52</td>\n      <td>6.55</td>\n      <td>4.14</td>\n      <td>4997</td>\n      <td>3</td>\n      <td>4</td>\n      <td>2</td>\n    </tr>\n    <tr>\n      <th>...</th>\n      <td>...</td>\n      <td>...</td>\n      <td>...</td>\n      <td>...</td>\n      <td>...</td>\n      <td>...</td>\n      <td>...</td>\n      <td>...</td>\n      <td>...</td>\n      <td>...</td>\n      <td>...</td>\n      <td>...</td>\n      <td>...</td>\n    </tr>\n    <tr>\n      <th>40340</th>\n      <td>1.55</td>\n      <td>Premium</td>\n      <td>H</td>\n      <td>VS2</td>\n      <td>61.3</td>\n      <td>61.0</td>\n      <td>7.46</td>\n      <td>7.39</td>\n      <td>4.55</td>\n      <td>11708</td>\n      <td>4</td>\n      <td>3</td>\n      <td>4</td>\n    </tr>\n    <tr>\n      <th>40341</th>\n      <td>0.36</td>\n      <td>Ideal</td>\n      <td>D</td>\n      <td>SI1</td>\n      <td>60.6</td>\n      <td>56.0</td>\n      <td>4.58</td>\n      <td>4.63</td>\n      <td>2.79</td>\n      <td>619</td>\n      <td>3</td>\n      <td>7</td>\n      <td>5</td>\n    </tr>\n    <tr>\n      <th>40342</th>\n      <td>0.57</td>\n      <td>Very Good</td>\n      <td>I</td>\n      <td>VS2</td>\n      <td>62.2</td>\n      <td>55.0</td>\n      <td>5.33</td>\n      <td>5.34</td>\n      <td>3.32</td>\n      <td>1267</td>\n      <td>4</td>\n      <td>2</td>\n      <td>3</td>\n    </tr>\n    <tr>\n      <th>40343</th>\n      <td>1.01</td>\n      <td>Very Good</td>\n      <td>F</td>\n      <td>IF</td>\n      <td>59.6</td>\n      <td>62.0</td>\n      <td>6.47</td>\n      <td>6.56</td>\n      <td>3.88</td>\n      <td>9965</td>\n      <td>8</td>\n      <td>5</td>\n      <td>3</td>\n    </tr>\n    <tr>\n      <th>40344</th>\n      <td>0.54</td>\n      <td>Ideal</td>\n      <td>E</td>\n      <td>SI2</td>\n      <td>60.4</td>\n      <td>57.0</td>\n      <td>5.33</td>\n      <td>5.27</td>\n      <td>3.20</td>\n      <td>1340</td>\n      <td>2</td>\n      <td>6</td>\n      <td>5</td>\n    </tr>\n  </tbody>\n</table>\n<p>40345 rows × 13 columns</p>\n</div>"
     },
     "metadata": {},
     "execution_count": 11
    }
   ],
   "source": [
    "#Poner una categoria de mayor valor al corte\n",
    "diamonds_df[\"cut_value\"] = diamonds_df[\"cut\"].map({'Fair': 1, 'Good': 2, 'Very Good': 3, 'Premium':4, 'Ideal':5})\n",
    "diamonds_df"
   ]
  },
  {
   "source": [
    "#### de acuerdo al mercado Diamantes blancos con un mínimo de 1 quilate de color G, pureza VS2 y un corte de buena calidad son la mejor opción. El precio para estos diamantes aumentará en los próximos años."
   ],
   "cell_type": "code",
   "metadata": {},
   "execution_count": null,
   "outputs": []
  },
  {
   "source": [
    "### 1. Definir X e y"
   ],
   "cell_type": "markdown",
   "metadata": {}
  },
  {
   "cell_type": "code",
   "execution_count": 12,
   "metadata": {},
   "outputs": [
    {
     "output_type": "execute_result",
     "data": {
      "text/plain": [
       "(40345, 7)"
      ]
     },
     "metadata": {},
     "execution_count": 12
    }
   ],
   "source": [
    "X = np.array(diamonds_df[['carat','x','y','z', 'clarity_value', 'color_value', 'cut_value' ]])\n",
    "y = np.array(diamonds_df['price'])\n",
    "X.shape"
   ]
  },
  {
   "source": [
    "### 2. Dividir X_train, X_test, y_train, y_test"
   ],
   "cell_type": "markdown",
   "metadata": {}
  },
  {
   "cell_type": "code",
   "execution_count": 13,
   "metadata": {},
   "outputs": [],
   "source": [
    "# el test_size 0.20 y el random state puede cambiar \n",
    "X_train, X_test, y_train, y_test = train_test_split(X, y, test_size = 0.20, random_state = 42)"
   ]
  },
  {
   "cell_type": "code",
   "execution_count": null,
   "metadata": {},
   "outputs": [],
   "source": []
  },
  {
   "cell_type": "code",
   "execution_count": 14,
   "metadata": {},
   "outputs": [],
   "source": [
    "models = {\n",
    "    \"Linear_Regression\": LinearRegression(),\n",
    "    \"Random_Forest\": RandomForestRegressor(),\n",
    "    \"DecisionTreeRegresor\": DecisionTreeRegressor(),\n",
    "    \"KNeighbors\": KNeighborsRegressor(),\n",
    "    \"GradientBooster\": GradientBoostingRegressor(),\n",
    "}"
   ]
  },
  {
   "cell_type": "code",
   "execution_count": 21,
   "metadata": {},
   "outputs": [],
   "source": [
    "def train_model(X_train, y_train, model, X_test, y_test):\n",
    "    clf = model\n",
    "    clf.fit(X_train, y_train)\n",
    "    accuracies = cross_val_score(\n",
    "        estimator=clf, X=X_train, y=y_train, cv=5, verbose=1)\n",
    "    y_pred = clf.predict(X_test)\n",
    "\n",
    "    mse = mean_squared_error(y_test, y_pred)\n",
    "    mae = mean_absolute_error(y_test, y_pred)\n",
    "    rmse = mean_squared_error(y_test, y_pred)**0.5\n",
    "    r2 = r2_score(y_test, y_pred)\n",
    "    score = clf.score(X_test, y_test)\n",
    "    return (mae, mse, rmse, r2, y_pred, accuracies, score)"
   ]
  },
  {
   "cell_type": "code",
   "execution_count": 22,
   "metadata": {},
   "outputs": [
    {
     "output_type": "stream",
     "name": "stderr",
     "text": [
      "[Parallel(n_jobs=1)]: Using backend SequentialBackend with 1 concurrent workers.\n",
      "[Parallel(n_jobs=1)]: Done   5 out of   5 | elapsed:    0.0s finished\n",
      "\n",
      "####### Linear_Regression #######\n",
      "Score : 0.9103\n",
      "[0.90754509 0.90947511 0.91191012 0.90060908 0.90902866]\n",
      "\n",
      "MSE    : 1424573.50 \n",
      "MAE    : 803.67 \n",
      "RMSE   : 1193.55 \n",
      "R2     : 0.910339 \n",
      "[Parallel(n_jobs=1)]: Using backend SequentialBackend with 1 concurrent workers.\n",
      "[Parallel(n_jobs=1)]: Done   5 out of   5 | elapsed:   33.7s finished\n",
      "\n",
      "####### Random_Forest #######\n",
      "Score : 0.9800\n",
      "[0.98079588 0.98028842 0.98159794 0.97920352 0.98001828]\n",
      "\n",
      "MSE    : 318299.35 \n",
      "MAE    : 277.90 \n",
      "RMSE   : 564.18 \n",
      "R2     : 0.979967 \n",
      "[Parallel(n_jobs=1)]: Using backend SequentialBackend with 1 concurrent workers.\n",
      "[Parallel(n_jobs=1)]: Done   5 out of   5 | elapsed:    0.5s finished\n",
      "[Parallel(n_jobs=1)]: Using backend SequentialBackend with 1 concurrent workers.\n",
      "\n",
      "####### DecisionTreeRegresor #######\n",
      "Score : 0.9631\n",
      "[0.9640538  0.96554851 0.96394078 0.96101075 0.96502591]\n",
      "\n",
      "MSE    : 585581.52 \n",
      "MAE    : 370.96 \n",
      "RMSE   : 765.23 \n",
      "R2     : 0.963144 \n",
      "[Parallel(n_jobs=1)]: Done   5 out of   5 | elapsed:    0.7s finished\n",
      "\n",
      "####### KNeighbors #######\n",
      "Score : 0.9724\n",
      "[0.97215441 0.97231006 0.97327384 0.97066822 0.96675619]\n",
      "\n",
      "MSE    : 438017.71 \n",
      "MAE    : 326.11 \n",
      "RMSE   : 661.83 \n",
      "R2     : 0.972432 \n",
      "[Parallel(n_jobs=1)]: Using backend SequentialBackend with 1 concurrent workers.\n",
      "\n",
      "####### GradientBooster #######\n",
      "Score : 0.9753\n",
      "[0.97453411 0.97595708 0.97657901 0.9748539  0.97356214]\n",
      "\n",
      "MSE    : 392760.50 \n",
      "MAE    : 349.18 \n",
      "RMSE   : 626.71 \n",
      "R2     : 0.975280 \n",
      "[Parallel(n_jobs=1)]: Done   5 out of   5 | elapsed:   10.6s finished\n"
     ]
    }
   ],
   "source": [
    "for label, model in models.items():\n",
    "    mae, mse, rmse, r2, y_pred, accuracies, score = train_model(\n",
    "        X_train, y_train, model, X_test, y_test)\n",
    "    print('')\n",
    "    print('####### {} #######'.format(label))\n",
    "    print('Score : %.4f' % score)\n",
    "    print(accuracies)\n",
    "    print('')\n",
    "    print('MSE    : %0.2f ' % mse)\n",
    "    print('MAE    : %0.2f ' % mae)\n",
    "    print('RMSE   : %0.2f ' % rmse)\n",
    "    print('R2     : %f ' % r2)\n"
   ]
  },
  {
   "cell_type": "code",
   "execution_count": 36,
   "metadata": {},
   "outputs": [],
   "source": [
    "model_better = RandomForestRegressor()"
   ]
  },
  {
   "cell_type": "code",
   "execution_count": 37,
   "metadata": {},
   "outputs": [],
   "source": [
    "model_better.fit(X_train,y_train)\n",
    "\n",
    "y_pred=model_better.predict(X_test)"
   ]
  },
  {
   "cell_type": "code",
   "execution_count": 39,
   "metadata": {},
   "outputs": [
    {
     "output_type": "stream",
     "name": "stdout",
     "text": [
      "[5754.85 3460.06  601.46 ...  509.35 5186.47 2289.82]\n"
     ]
    }
   ],
   "source": [
    "predictions = model_better.predict(X_test)\n",
    "print(predictions)"
   ]
  },
  {
   "cell_type": "code",
   "execution_count": 40,
   "metadata": {},
   "outputs": [
    {
     "output_type": "execute_result",
     "data": {
      "text/plain": [
       "564.5516073030789"
      ]
     },
     "metadata": {},
     "execution_count": 40
    }
   ],
   "source": [
    "np.sqrt(mean_squared_error(y_test, predictions))"
   ]
  },
  {
   "cell_type": "code",
   "execution_count": 24,
   "metadata": {},
   "outputs": [
    {
     "output_type": "execute_result",
     "data": {
      "text/plain": [
       "   carat        cut color clarity  depth  table     x     y     z\n",
       "0   0.30      Ideal     H     SI2   60.0   56.0  4.41  4.43  2.65\n",
       "1   0.34      Ideal     D      IF   62.1   57.0  4.52  4.46  2.79\n",
       "2   1.57  Very Good     I     VS2   60.3   58.0  7.58  7.55  4.56\n",
       "3   0.31      Ideal     H     VS2   61.8   57.0  4.32  4.36  2.68\n",
       "4   1.51       Good     I    VVS1   64.0   60.0  7.26  7.21  4.63"
      ],
      "text/html": "<div>\n<style scoped>\n    .dataframe tbody tr th:only-of-type {\n        vertical-align: middle;\n    }\n\n    .dataframe tbody tr th {\n        vertical-align: top;\n    }\n\n    .dataframe thead th {\n        text-align: right;\n    }\n</style>\n<table border=\"1\" class=\"dataframe\">\n  <thead>\n    <tr style=\"text-align: right;\">\n      <th></th>\n      <th>carat</th>\n      <th>cut</th>\n      <th>color</th>\n      <th>clarity</th>\n      <th>depth</th>\n      <th>table</th>\n      <th>x</th>\n      <th>y</th>\n      <th>z</th>\n    </tr>\n  </thead>\n  <tbody>\n    <tr>\n      <th>0</th>\n      <td>0.30</td>\n      <td>Ideal</td>\n      <td>H</td>\n      <td>SI2</td>\n      <td>60.0</td>\n      <td>56.0</td>\n      <td>4.41</td>\n      <td>4.43</td>\n      <td>2.65</td>\n    </tr>\n    <tr>\n      <th>1</th>\n      <td>0.34</td>\n      <td>Ideal</td>\n      <td>D</td>\n      <td>IF</td>\n      <td>62.1</td>\n      <td>57.0</td>\n      <td>4.52</td>\n      <td>4.46</td>\n      <td>2.79</td>\n    </tr>\n    <tr>\n      <th>2</th>\n      <td>1.57</td>\n      <td>Very Good</td>\n      <td>I</td>\n      <td>VS2</td>\n      <td>60.3</td>\n      <td>58.0</td>\n      <td>7.58</td>\n      <td>7.55</td>\n      <td>4.56</td>\n    </tr>\n    <tr>\n      <th>3</th>\n      <td>0.31</td>\n      <td>Ideal</td>\n      <td>H</td>\n      <td>VS2</td>\n      <td>61.8</td>\n      <td>57.0</td>\n      <td>4.32</td>\n      <td>4.36</td>\n      <td>2.68</td>\n    </tr>\n    <tr>\n      <th>4</th>\n      <td>1.51</td>\n      <td>Good</td>\n      <td>I</td>\n      <td>VVS1</td>\n      <td>64.0</td>\n      <td>60.0</td>\n      <td>7.26</td>\n      <td>7.21</td>\n      <td>4.63</td>\n    </tr>\n  </tbody>\n</table>\n</div>"
     },
     "metadata": {},
     "execution_count": 24
    }
   ],
   "source": [
    "X_pred = pd.read_csv(\"diamonds_test.csv\", index_col=0)\n",
    "X_pred.head()"
   ]
  },
  {
   "cell_type": "code",
   "execution_count": 26,
   "metadata": {},
   "outputs": [],
   "source": [
    "X_pred = X_pred.copy()\n",
    "X_pred[\"clarity_value\"] = X_pred[\"clarity\"].map({'I1': 1, 'SI2': 2, 'SI1': 3, 'VS2':4, 'VS1':5, 'VVS2':6, 'VVS1':7, 'IF':8 })\n"
   ]
  },
  {
   "cell_type": "code",
   "execution_count": 27,
   "metadata": {},
   "outputs": [],
   "source": [
    "X_pred[\"cut_value\"] = X_pred[\"cut\"].map({'Fair': 1, 'Good': 2, 'Very Good': 3, 'Premium':4, 'Ideal':5})"
   ]
  },
  {
   "cell_type": "code",
   "execution_count": 28,
   "metadata": {},
   "outputs": [
    {
     "output_type": "execute_result",
     "data": {
      "text/plain": [
       "       carat        cut color clarity  depth  table     x     y     z  \\\n",
       "0       0.30      Ideal     H     SI2   60.0   56.0  4.41  4.43  2.65   \n",
       "1       0.34      Ideal     D      IF   62.1   57.0  4.52  4.46  2.79   \n",
       "2       1.57  Very Good     I     VS2   60.3   58.0  7.58  7.55  4.56   \n",
       "3       0.31      Ideal     H     VS2   61.8   57.0  4.32  4.36  2.68   \n",
       "4       1.51       Good     I    VVS1   64.0   60.0  7.26  7.21  4.63   \n",
       "...      ...        ...   ...     ...    ...    ...   ...   ...   ...   \n",
       "13444   1.05      Ideal     F     SI2   60.3   55.0  6.55  6.68  3.99   \n",
       "13445   0.27  Very Good     G     VS1   61.9   56.0  4.13  4.16  2.56   \n",
       "13446   1.50    Premium     D     VS2   61.8   60.0  7.30  7.37  4.53   \n",
       "13447   1.70    Premium     F     SI2   60.2   61.0  7.79  7.68  4.66   \n",
       "13448   0.30      Ideal     D     VS2   61.2   57.0  4.29  4.34  2.64   \n",
       "\n",
       "       clarity_value  cut_value  color_value  \n",
       "0                  2          5            3  \n",
       "1                  8          5            7  \n",
       "2                  4          3            2  \n",
       "3                  4          5            3  \n",
       "4                  7          2            2  \n",
       "...              ...        ...          ...  \n",
       "13444              2          5            5  \n",
       "13445              5          3            4  \n",
       "13446              4          4            7  \n",
       "13447              2          4            5  \n",
       "13448              4          5            7  \n",
       "\n",
       "[13449 rows x 12 columns]"
      ],
      "text/html": "<div>\n<style scoped>\n    .dataframe tbody tr th:only-of-type {\n        vertical-align: middle;\n    }\n\n    .dataframe tbody tr th {\n        vertical-align: top;\n    }\n\n    .dataframe thead th {\n        text-align: right;\n    }\n</style>\n<table border=\"1\" class=\"dataframe\">\n  <thead>\n    <tr style=\"text-align: right;\">\n      <th></th>\n      <th>carat</th>\n      <th>cut</th>\n      <th>color</th>\n      <th>clarity</th>\n      <th>depth</th>\n      <th>table</th>\n      <th>x</th>\n      <th>y</th>\n      <th>z</th>\n      <th>clarity_value</th>\n      <th>cut_value</th>\n      <th>color_value</th>\n    </tr>\n  </thead>\n  <tbody>\n    <tr>\n      <th>0</th>\n      <td>0.30</td>\n      <td>Ideal</td>\n      <td>H</td>\n      <td>SI2</td>\n      <td>60.0</td>\n      <td>56.0</td>\n      <td>4.41</td>\n      <td>4.43</td>\n      <td>2.65</td>\n      <td>2</td>\n      <td>5</td>\n      <td>3</td>\n    </tr>\n    <tr>\n      <th>1</th>\n      <td>0.34</td>\n      <td>Ideal</td>\n      <td>D</td>\n      <td>IF</td>\n      <td>62.1</td>\n      <td>57.0</td>\n      <td>4.52</td>\n      <td>4.46</td>\n      <td>2.79</td>\n      <td>8</td>\n      <td>5</td>\n      <td>7</td>\n    </tr>\n    <tr>\n      <th>2</th>\n      <td>1.57</td>\n      <td>Very Good</td>\n      <td>I</td>\n      <td>VS2</td>\n      <td>60.3</td>\n      <td>58.0</td>\n      <td>7.58</td>\n      <td>7.55</td>\n      <td>4.56</td>\n      <td>4</td>\n      <td>3</td>\n      <td>2</td>\n    </tr>\n    <tr>\n      <th>3</th>\n      <td>0.31</td>\n      <td>Ideal</td>\n      <td>H</td>\n      <td>VS2</td>\n      <td>61.8</td>\n      <td>57.0</td>\n      <td>4.32</td>\n      <td>4.36</td>\n      <td>2.68</td>\n      <td>4</td>\n      <td>5</td>\n      <td>3</td>\n    </tr>\n    <tr>\n      <th>4</th>\n      <td>1.51</td>\n      <td>Good</td>\n      <td>I</td>\n      <td>VVS1</td>\n      <td>64.0</td>\n      <td>60.0</td>\n      <td>7.26</td>\n      <td>7.21</td>\n      <td>4.63</td>\n      <td>7</td>\n      <td>2</td>\n      <td>2</td>\n    </tr>\n    <tr>\n      <th>...</th>\n      <td>...</td>\n      <td>...</td>\n      <td>...</td>\n      <td>...</td>\n      <td>...</td>\n      <td>...</td>\n      <td>...</td>\n      <td>...</td>\n      <td>...</td>\n      <td>...</td>\n      <td>...</td>\n      <td>...</td>\n    </tr>\n    <tr>\n      <th>13444</th>\n      <td>1.05</td>\n      <td>Ideal</td>\n      <td>F</td>\n      <td>SI2</td>\n      <td>60.3</td>\n      <td>55.0</td>\n      <td>6.55</td>\n      <td>6.68</td>\n      <td>3.99</td>\n      <td>2</td>\n      <td>5</td>\n      <td>5</td>\n    </tr>\n    <tr>\n      <th>13445</th>\n      <td>0.27</td>\n      <td>Very Good</td>\n      <td>G</td>\n      <td>VS1</td>\n      <td>61.9</td>\n      <td>56.0</td>\n      <td>4.13</td>\n      <td>4.16</td>\n      <td>2.56</td>\n      <td>5</td>\n      <td>3</td>\n      <td>4</td>\n    </tr>\n    <tr>\n      <th>13446</th>\n      <td>1.50</td>\n      <td>Premium</td>\n      <td>D</td>\n      <td>VS2</td>\n      <td>61.8</td>\n      <td>60.0</td>\n      <td>7.30</td>\n      <td>7.37</td>\n      <td>4.53</td>\n      <td>4</td>\n      <td>4</td>\n      <td>7</td>\n    </tr>\n    <tr>\n      <th>13447</th>\n      <td>1.70</td>\n      <td>Premium</td>\n      <td>F</td>\n      <td>SI2</td>\n      <td>60.2</td>\n      <td>61.0</td>\n      <td>7.79</td>\n      <td>7.68</td>\n      <td>4.66</td>\n      <td>2</td>\n      <td>4</td>\n      <td>5</td>\n    </tr>\n    <tr>\n      <th>13448</th>\n      <td>0.30</td>\n      <td>Ideal</td>\n      <td>D</td>\n      <td>VS2</td>\n      <td>61.2</td>\n      <td>57.0</td>\n      <td>4.29</td>\n      <td>4.34</td>\n      <td>2.64</td>\n      <td>4</td>\n      <td>5</td>\n      <td>7</td>\n    </tr>\n  </tbody>\n</table>\n<p>13449 rows × 12 columns</p>\n</div>"
     },
     "metadata": {},
     "execution_count": 28
    }
   ],
   "source": [
    "X_pred[\"color_value\"] = X_pred[\"color\"].map({'J': 1, 'I': 2, 'H': 3, 'G':4, 'F':5, 'E':6, 'D':7})\n",
    "X_pred"
   ]
  },
  {
   "cell_type": "code",
   "execution_count": 29,
   "metadata": {},
   "outputs": [
    {
     "output_type": "execute_result",
     "data": {
      "text/plain": [
       "array([[1.21, 6.73, 6.7 , ..., 4.  , 3.  , 5.  ],\n",
       "       [0.28, 4.14, 4.17, ..., 6.  , 7.  , 3.  ],\n",
       "       [0.42, 4.86, 4.82, ..., 5.  , 5.  , 4.  ],\n",
       "       ...,\n",
       "       [0.57, 5.33, 5.34, ..., 4.  , 2.  , 3.  ],\n",
       "       [1.01, 6.47, 6.56, ..., 8.  , 5.  , 3.  ],\n",
       "       [0.54, 5.33, 5.27, ..., 2.  , 6.  , 5.  ]])"
      ]
     },
     "metadata": {},
     "execution_count": 29
    }
   ],
   "source": [
    "X"
   ]
  },
  {
   "cell_type": "code",
   "execution_count": 30,
   "metadata": {},
   "outputs": [],
   "source": [
    "X_pred = np.array(X_pred[['carat','x','y','z', 'clarity_value', 'color_value', 'cut_value']])"
   ]
  },
  {
   "cell_type": "code",
   "execution_count": 31,
   "metadata": {},
   "outputs": [
    {
     "output_type": "execute_result",
     "data": {
      "text/plain": [
       "array([[0.3 , 4.41, 4.43, ..., 2.  , 3.  , 5.  ],\n",
       "       [0.34, 4.52, 4.46, ..., 8.  , 7.  , 5.  ],\n",
       "       [1.57, 7.58, 7.55, ..., 4.  , 2.  , 3.  ],\n",
       "       ...,\n",
       "       [1.5 , 7.3 , 7.37, ..., 4.  , 7.  , 4.  ],\n",
       "       [1.7 , 7.79, 7.68, ..., 2.  , 5.  , 4.  ],\n",
       "       [0.3 , 4.29, 4.34, ..., 4.  , 7.  , 5.  ]])"
      ]
     },
     "metadata": {},
     "execution_count": 31
    }
   ],
   "source": [
    "X_pred"
   ]
  },
  {
   "cell_type": "code",
   "execution_count": 41,
   "metadata": {},
   "outputs": [
    {
     "output_type": "execute_result",
     "data": {
      "text/plain": [
       "array([  425.49,  1814.41,  9557.95, ..., 15070.95, 10535.47,   768.38])"
      ]
     },
     "metadata": {},
     "execution_count": 41
    }
   ],
   "source": [
    "predictions_submit = model_better.predict(X_pred)\n",
    "predictions_submit"
   ]
  },
  {
   "cell_type": "code",
   "execution_count": 42,
   "metadata": {},
   "outputs": [],
   "source": [
    "sample = pd.read_csv(\"sample_submission.csv\")"
   ]
  },
  {
   "cell_type": "code",
   "execution_count": 43,
   "metadata": {},
   "outputs": [],
   "source": [
    "submission = pd.DataFrame({\"id\": range(len(predictions_submit)), \"price\": predictions_submit})"
   ]
  },
  {
   "cell_type": "code",
   "execution_count": 44,
   "metadata": {},
   "outputs": [
    {
     "output_type": "execute_result",
     "data": {
      "text/plain": [
       "   id        price\n",
       "0   0   425.490000\n",
       "1   1  1814.410000\n",
       "2   2  9557.950000\n",
       "3   3   516.260952\n",
       "4   4  8562.100000"
      ],
      "text/html": "<div>\n<style scoped>\n    .dataframe tbody tr th:only-of-type {\n        vertical-align: middle;\n    }\n\n    .dataframe tbody tr th {\n        vertical-align: top;\n    }\n\n    .dataframe thead th {\n        text-align: right;\n    }\n</style>\n<table border=\"1\" class=\"dataframe\">\n  <thead>\n    <tr style=\"text-align: right;\">\n      <th></th>\n      <th>id</th>\n      <th>price</th>\n    </tr>\n  </thead>\n  <tbody>\n    <tr>\n      <th>0</th>\n      <td>0</td>\n      <td>425.490000</td>\n    </tr>\n    <tr>\n      <th>1</th>\n      <td>1</td>\n      <td>1814.410000</td>\n    </tr>\n    <tr>\n      <th>2</th>\n      <td>2</td>\n      <td>9557.950000</td>\n    </tr>\n    <tr>\n      <th>3</th>\n      <td>3</td>\n      <td>516.260952</td>\n    </tr>\n    <tr>\n      <th>4</th>\n      <td>4</td>\n      <td>8562.100000</td>\n    </tr>\n  </tbody>\n</table>\n</div>"
     },
     "metadata": {},
     "execution_count": 44
    }
   ],
   "source": [
    "submission.head()"
   ]
  },
  {
   "cell_type": "code",
   "execution_count": 45,
   "metadata": {},
   "outputs": [],
   "source": [
    "def chequeator(df_to_submit):\n",
    "    \"\"\"\n",
    "    Esta función se asegura de que tu submission tenga la forma requerida por Kaggle.\n",
    "    \n",
    "    Si es así, se guardará el dataframe en un `csv` y estará listo para subir a Kaggle.\n",
    "    \n",
    "    Si no, LEE EL MENSAJE Y HAZLE CASO.\n",
    "    \n",
    "    Si aún no:\n",
    "    - apaga tu ordenador, \n",
    "    - date una vuelta, \n",
    "    - enciendelo otra vez, \n",
    "    - abre este notebook y \n",
    "    - leelo todo de nuevo. \n",
    "    Todos nos merecemos una segunda oportunidad. También tú.\n",
    "    \"\"\"\n",
    "    if df_to_submit.shape == sample.shape:\n",
    "        if df_to_submit.columns.all() == sample.columns.all():\n",
    "            if df_to_submit.id.all() == sample.id.all():\n",
    "                print(\"You're ready to submit!\")\n",
    "                submission.to_csv(\"submission.csv\", index = False) #muy importante el index = False\n",
    "                urllib.request.urlretrieve(\"https://i.kym-cdn.com/photos/images/facebook/000/747/556/27a.jpg\", \"gfg.png\")     \n",
    "                img = Image.open(\"gfg.png\")\n",
    "                img.show()   \n",
    "            else:\n",
    "                print(\"Check the ids and try again\")\n",
    "        else:\n",
    "            print(\"Check the names of the columns and try again\")\n",
    "    else:\n",
    "        print(\"Check the number of rows and/or columns and try again\")\n",
    "        print(\"\\nMensaje secreto de Clara: No me puedo creer que después de todo este notebook hayas hecho algún cambio en las filas de `diamonds_test.csv`. Lloro.\")\n"
   ]
  },
  {
   "cell_type": "code",
   "execution_count": 46,
   "metadata": {},
   "outputs": [
    {
     "output_type": "stream",
     "name": "stdout",
     "text": [
      "You're ready to submit!\n"
     ]
    }
   ],
   "source": [
    "chequeator(submission)"
   ]
  },
  {
   "cell_type": "code",
   "execution_count": null,
   "metadata": {},
   "outputs": [],
   "source": [
    "# Apply the prediction model\n",
    "\n",
    "\n",
    "def predict_model(X, y, model, test):\n",
    "    model.fit(X, y)\n",
    "    pred = model.predict(test)\n",
    "    return pred"
   ]
  },
  {
   "cell_type": "code",
   "execution_count": 80,
   "metadata": {},
   "outputs": [],
   "source": [
    "#reg_lin = LinearRegression()\n",
    "\n",
    "rand_forest = RandomForestRegressor()\n",
    "\n",
    "decis_tree =  DecisionTreeRegressor()\n",
    "\n",
    "\n",
    "svr = Pipeline(steps=[\n",
    "    (\"scaler\", StandardScaler()),\n",
    "    (\"selectkbest\", SelectKBest()),\n",
    "    (\"svm\", SVR())\n",
    "])\n",
    "\n",
    "knei_reg = KNeighborsRegressor()\n",
    "\n",
    "grad_boos_reg =  GradientBoostingRegressor()\n",
    "\n",
    "#reg_lin_param = {'alpha': [0.001, 0.01, 0.1, 1, 10, 100, 1000]}\n",
    "\n",
    "rand_forest_param = {\n",
    "    'n_estimators': [10, 100, 1000],\n",
    "    'max_features': [1,2,3]\n",
    "}\n",
    "knei_reg_param = {'n_neighbors': np.arange(1, 12, 2),\n",
    "              'weights': ['uniform', 'distance']}\n",
    "\n",
    "decis_tree_param = {'max_depth': np.arange(3, 10)} \n",
    "svr_param = {\n",
    "    'selectkbest__k': [1,2,3],\n",
    "    'svr__kernel': ('linear', 'poly', 'rbf', 'sigmoid'),\n",
    "    'svr__C': [0.001, 0.1, 0.5, 1, 5, 10],\n",
    "    'svr__gamma': ('scale', 'auto')\n",
    "    \n",
    "}\n",
    "\n",
    "grad_boos_reg_param = {'learning_rate': [0.01,0.02,0.03,0.04],\n",
    "                  'subsample'    : [0.9, 0.5, 0.2, 0.1],\n",
    "                  'n_estimators' : [100,500,1000, 1500],\n",
    "                  'max_depth'    : [4,6,8,10]\n",
    "                 }\n",
    "cv = KFold(n_splits=10, random_state=1, shuffle=True )\n",
    "\n",
    "#gs_reg_lin = GridSearchCV(reg_lin, reg_lin_param,\n",
    "                        #param_grid = dict(alpha=reg_lin_param),\n",
    "                         #cv = cv,\n",
    "                         #scoring = 'MSE',\n",
    "                         #verbose=1,\n",
    "                         #n_jobs=-1)\n",
    "\n",
    "gs_rand_forest = GridSearchCV(rand_forest,\n",
    "                         rand_forest_param,\n",
    "                         cv = 10,\n",
    "                         scoring = 'accuracy',\n",
    "                         verbose=1,\n",
    "                         n_jobs=-1)\n",
    "\n",
    "gs_decis_tree = GridSearchCV(decis_tree, decis_tree_param,\n",
    "                         cv = 10,\n",
    "                         scoring = 'accuracy',\n",
    "                         verbose=1,\n",
    "                         n_jobs=-1)\n",
    "\n",
    "gs_svr = GridSearchCV(svr, svr_param,\n",
    "                         cv = 10,\n",
    "                         scoring = 'accuracy',\n",
    "                         verbose=1,\n",
    "                         n_jobs=-1)\n",
    "\n",
    "gs_knei_reg = GridSearchCV(knei_reg, knei_reg_param,\n",
    "                         cv = 10,\n",
    "                         scoring = 'accuracy',\n",
    "                         verbose=1,\n",
    "                         n_jobs=-1)\n",
    "\n",
    "gs_grad_boos_reg = GridSearchCV(grad_boos_reg, grad_boos_reg_param,\n",
    "                         cv = 10,\n",
    "                         scoring = 'accuracy',\n",
    "                         verbose=1,\n",
    "                         n_jobs=-1)\n",
    "\n",
    "grids = {\"gs_rand_forest\": gs_rand_forest, \"gs_decis_tree\": gs_decis_tree, \"gs_svr\": gs_svr, \"gs_knei_reg\": gs_knei_reg,\"gs_grad_boos_reg\": gs_grad_boos_reg }\n"
   ]
  },
  {
   "cell_type": "code",
   "execution_count": 81,
   "metadata": {},
   "outputs": [
    {
     "output_type": "stream",
     "name": "stdout",
     "text": [
      "#################\nNOMBRE: gs_rand_forest\n#################\nFitting 10 folds for each of 9 candidates, totalling 90 fits\n"
     ]
    }
   ],
   "source": [
    "%%time\n",
    "\n",
    "for nombre, grid in grids.items():\n",
    "    print(\"#################\")\n",
    "    print(\"NOMBRE:\", nombre)\n",
    "    print(\"#################\")\n",
    "    grid.fit(X_train, y_train)"
   ]
  },
  {
   "cell_type": "code",
   "execution_count": null,
   "metadata": {},
   "outputs": [],
   "source": [
    "import pandas as pd\n",
    "best_grids = [(i, j.best_score_) for i, j in grids.items()]\n",
    "\n",
    "best_grids = pd.DataFrame(best_grids,\n",
    "                         columns = ['Grid', 'Best score']).sort_values(by = 'Best score', ascending=False)\n",
    "best_grids  "
   ]
  }
 ]
}